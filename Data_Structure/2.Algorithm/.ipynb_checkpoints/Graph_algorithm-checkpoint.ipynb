{
 "cells": [
  {
   "cell_type": "markdown",
   "metadata": {},
   "source": [
    "# Graph Algorithm\n",
    "- vertex(=node) & edge로 구성"
   ]
  },
  {
   "cell_type": "markdown",
   "metadata": {},
   "source": [
    "### 그래프의 종류\n",
    "1) 무방향 graph (undirected graph)\n",
    "\n",
    "2) 방향 graph (directed graph)\n",
    "\n",
    "3) 가중치 graph (weight graph)\n",
    "\n",
    "4) 연결 graph & 비연결 graph ( connected graph & disconnected graph )\n",
    "\n",
    "5) 사이클 & 비순환 graph ( cycle & acyclic graph )\n",
    "\n",
    "6) 완전 graph ( complete graph )"
   ]
  },
  {
   "cell_type": "markdown",
   "metadata": {},
   "source": [
    "### 용어\n",
    "- degree : (무방향 그래프에서) 하나의 node에 인접한 node 수\n",
    "- in-degree : (방향 그래프에서) 외부에서 오는 edge의 수\n",
    "- out-degree : (방향 그래프에서) 내부에서 나가는 edge의 수\n",
    "- path length : 경로 구성을 위해 사용된 edge의 수\n",
    "- simple path : 시작 node에서 도착 node까지 가는 path 중, 중복 node 없는 path\n",
    "- cycle : simple path의 시작==도착 인 경우"
   ]
  },
  {
   "cell_type": "markdown",
   "metadata": {},
   "source": [
    "### Tree vs Graph\n",
    "- Tree는 Graph의 한 종류! 방향 graph\n",
    "- 비순환 graph ( cycle 존재 X )\n",
    "- 부모 & 자식 관계 O -> root node 개념 "
   ]
  },
  {
   "cell_type": "code",
   "execution_count": null,
   "metadata": {},
   "outputs": [],
   "source": []
  }
 ],
 "metadata": {
  "kernelspec": {
   "display_name": "Python 3",
   "language": "python",
   "name": "python3"
  },
  "language_info": {
   "codemirror_mode": {
    "name": "ipython",
    "version": 3
   },
   "file_extension": ".py",
   "mimetype": "text/x-python",
   "name": "python",
   "nbconvert_exporter": "python",
   "pygments_lexer": "ipython3",
   "version": "3.6.9"
  }
 },
 "nbformat": 4,
 "nbformat_minor": 2
}
