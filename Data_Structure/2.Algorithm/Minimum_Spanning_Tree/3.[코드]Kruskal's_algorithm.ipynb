{
 "cells": [
  {
   "cell_type": "markdown",
   "metadata": {},
   "source": [
    "# Kruskal's Algorithm"
   ]
  },
  {
   "cell_type": "markdown",
   "metadata": {},
   "source": [
    "## 1) Define Graph"
   ]
  },
  {
   "cell_type": "code",
   "execution_count": 1,
   "metadata": {},
   "outputs": [],
   "source": [
    "graph = {\n",
    "    'vertices':['a','b','c','d','e','f','g'],\n",
    "    'edges':[\n",
    "        (7,'a','b'),\n",
    "        (5,'a','d'),\n",
    "        (7,'b','a'),\n",
    "        (8,'b','c'),\n",
    "        (9,'b','d'),\n",
    "        (7,'b','e'),\n",
    "        (8,'c','b'),\n",
    "        (5,'c','e'),\n",
    "        (5,'d','a'),\n",
    "        (9,'d','b'),\n",
    "        (7,'d','e'),\n",
    "        (6,'d','f'),\n",
    "        (7,'e','b'),\n",
    "        (5,'e','c'),\n",
    "        (7,'e','d'),\n",
    "        (8,'e','f'),\n",
    "        (9,'e','g'),\n",
    "        (6,'f','d'),\n",
    "        (8,'f','e'),\n",
    "        (11,'f','g'),\n",
    "        (9,'g','e'),\n",
    "        (11,'g','f')\n",
    "    ]\n",
    "}"
   ]
  },
  {
   "cell_type": "markdown",
   "metadata": {},
   "source": [
    "## 2) Define Functions"
   ]
  },
  {
   "cell_type": "code",
   "execution_count": 8,
   "metadata": {},
   "outputs": [],
   "source": [
    "parent = dict() # parent node\n",
    "rank = dict() # node's rank"
   ]
  },
  {
   "cell_type": "markdown",
   "metadata": {},
   "source": [
    "#### 1. node 생성"
   ]
  },
  {
   "cell_type": "code",
   "execution_count": 9,
   "metadata": {},
   "outputs": [],
   "source": [
    "def make_set(node):\n",
    "    parent[node] = node # 처음 만들어지는 node는 그 부모 노드가 자기 자신!\n",
    "    rank[node] = 0  "
   ]
  },
  {
   "cell_type": "markdown",
   "metadata": {},
   "source": [
    "#### 2. root node 찾기\n",
    "- 이후 cycle 여부 확인 위해 ( 서로 다른 두 node의 root node가 같다면, 연결 시 cycle 생김 )"
   ]
  },
  {
   "cell_type": "code",
   "execution_count": 10,
   "metadata": {},
   "outputs": [],
   "source": [
    "def find(node):\n",
    "    if parent[node] != node: \n",
    "        parent[node] = find(parent[node]) # parent node될 때까지 타고 올라감\n",
    "    return parent[node]"
   ]
  },
  {
   "cell_type": "markdown",
   "metadata": {},
   "source": [
    "#### 3. union by rank 기법\n",
    "- 두 부분 집합의 rank를 찾은 뒤, union "
   ]
  },
  {
   "cell_type": "code",
   "execution_count": 11,
   "metadata": {},
   "outputs": [],
   "source": [
    "def union(node_v,node_u):\n",
    "    root1 = find(node_v)\n",
    "    root2 = find(node_u)\n",
    "    \n",
    "    if rank[root1] > rank[root2]: # rank1 > rank2\n",
    "        parent[root2] = root1\n",
    "        \n",
    "    else :\n",
    "        parent[root1] = root2 # rank2 >= rank1\n",
    "        if rank[root1] == rank[root2]: # rank=rank2면 한 쪽에 +1\n",
    "            rank[root2] +=1 "
   ]
  },
  {
   "cell_type": "markdown",
   "metadata": {},
   "source": [
    "## 3) Kruskal Algorithm"
   ]
  },
  {
   "cell_type": "code",
   "execution_count": 12,
   "metadata": {},
   "outputs": [],
   "source": [
    "def kruskal(graph):\n",
    "    mst = list()\n",
    "    \n",
    "    # 1. 초기화 (node 생성)\n",
    "    for node in graph['vertices']:\n",
    "        make_set(node)\n",
    "    \n",
    "    # 2. Sort ( edge의 weight )\n",
    "    edges = graph['edges']\n",
    "    edges.sort() \n",
    "    \n",
    "    #. 3. Edge 연결 ( cycle X )    \n",
    "    for edge in edges:\n",
    "        weight, node_v, node_u = edge\n",
    "        if find(node_v) != find(node_u): # parent node 다를 경우 ( cycle이 아닐 경우)\n",
    "            union(node_v,node_u) # 두 집합 합치기\n",
    "            mst.append(edge)\n",
    "            \n",
    "    return mst"
   ]
  },
  {
   "cell_type": "code",
   "execution_count": 13,
   "metadata": {},
   "outputs": [
    {
     "data": {
      "text/plain": [
       "[(5, 'a', 'd'),\n",
       " (5, 'c', 'e'),\n",
       " (6, 'd', 'f'),\n",
       " (7, 'a', 'b'),\n",
       " (7, 'b', 'e'),\n",
       " (9, 'e', 'g')]"
      ]
     },
     "execution_count": 13,
     "metadata": {},
     "output_type": "execute_result"
    }
   ],
   "source": [
    "kruskal(graph)"
   ]
  },
  {
   "cell_type": "markdown",
   "metadata": {},
   "source": [
    "### 시간복잡도 : O(E*logE)"
   ]
  },
  {
   "cell_type": "code",
   "execution_count": null,
   "metadata": {},
   "outputs": [],
   "source": []
  }
 ],
 "metadata": {
  "kernelspec": {
   "display_name": "Python 3",
   "language": "python",
   "name": "python3"
  },
  "language_info": {
   "codemirror_mode": {
    "name": "ipython",
    "version": 3
   },
   "file_extension": ".py",
   "mimetype": "text/x-python",
   "name": "python",
   "nbconvert_exporter": "python",
   "pygments_lexer": "ipython3",
   "version": "3.6.9"
  }
 },
 "nbformat": 4,
 "nbformat_minor": 2
}
