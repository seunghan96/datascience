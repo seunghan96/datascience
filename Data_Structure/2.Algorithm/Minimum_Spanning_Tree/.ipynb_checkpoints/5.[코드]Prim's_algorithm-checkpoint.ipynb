{
 "cells": [
  {
   "cell_type": "markdown",
   "metadata": {},
   "source": [
    "# Prim's Algorithm"
   ]
  },
  {
   "cell_type": "markdown",
   "metadata": {},
   "source": [
    "### 순서\n",
    "- 1)  모든 adjacent edges 정보 저장\n",
    "- 2) 임의로 node 선택 ( connected_nodes 리스트에 넣기 )\n",
    "- 3) 선택된 node에 연결된 edge들을 candidate_edge_list에 넣기\n",
    "- 4) candidate_edge_list에서 최소 weight를 가지는 edge부터 추출!"
   ]
  },
  {
   "cell_type": "markdown",
   "metadata": {},
   "source": [
    "위의 4)에서 유의할 점\n",
    "- 해당 edge에 연결된 node가 이미 connected_nodes에 있다면 SKIP, 없다면 mst에 넣기 ( cycle 방지 )"
   ]
  },
  {
   "cell_type": "markdown",
   "metadata": {},
   "source": [
    "## [ 기본 문법 : heapq & defaultdict ]"
   ]
  },
  {
   "cell_type": "markdown",
   "metadata": {},
   "source": [
    "### 1. heapq\n",
    "- 사용 이유 : edge의 weight가 작은 순으로 pop하기 위해"
   ]
  },
  {
   "cell_type": "markdown",
   "metadata": {},
   "source": [
    "1) heappush\n",
    "- list에 data 집어 넣고, heap 형태로!"
   ]
  },
  {
   "cell_type": "code",
   "execution_count": 14,
   "metadata": {},
   "outputs": [],
   "source": [
    "import heapq\n",
    "\n",
    "queue = []\n",
    "graph_data = [[2,'a'],[5,'b'],[3,'c']]\n",
    "\n",
    "for edge in graph_data:\n",
    "    heapq.heappush(queue,edge)"
   ]
  },
  {
   "cell_type": "markdown",
   "metadata": {},
   "source": [
    "2) heappop \n",
    "- weight 작은 순으로 뽑아내기"
   ]
  },
  {
   "cell_type": "code",
   "execution_count": 16,
   "metadata": {},
   "outputs": [
    {
     "name": "stdout",
     "output_type": "stream",
     "text": [
      "[2, 'a']\n",
      "[3, 'c']\n",
      "[5, 'b']\n"
     ]
    }
   ],
   "source": [
    "for index in range(len(queue)):\n",
    "    print(heapq.heappop(queue))"
   ]
  },
  {
   "cell_type": "code",
   "execution_count": 17,
   "metadata": {},
   "outputs": [
    {
     "name": "stdout",
     "output_type": "stream",
     "text": [
      "[]\n"
     ]
    }
   ],
   "source": [
    "print(queue)"
   ]
  },
  {
   "cell_type": "markdown",
   "metadata": {},
   "source": [
    "3) heapify\n",
    "- list를 heap 형태로"
   ]
  },
  {
   "cell_type": "code",
   "execution_count": 18,
   "metadata": {},
   "outputs": [
    {
     "data": {
      "text/plain": [
       "[[2, 'a'], [5, 'b'], [3, 'c']]"
      ]
     },
     "execution_count": 18,
     "metadata": {},
     "output_type": "execute_result"
    }
   ],
   "source": [
    "graph_data"
   ]
  },
  {
   "cell_type": "code",
   "execution_count": 21,
   "metadata": {},
   "outputs": [
    {
     "name": "stdout",
     "output_type": "stream",
     "text": [
      "[2, 'a']\n",
      "[3, 'c']\n",
      "[5, 'b']\n"
     ]
    }
   ],
   "source": [
    "heapq.heapify(graph_data)\n",
    "\n",
    "for index in range(len(graph_data)):\n",
    "    print(heapq.heappop(graph_data))"
   ]
  },
  {
   "cell_type": "markdown",
   "metadata": {},
   "source": [
    "### 2. defaultdict\n",
    "- key에 대한 value를 지정하지 않았을 시, 빈 리스트(혹은 다른 형태)로 초기화"
   ]
  },
  {
   "cell_type": "code",
   "execution_count": 22,
   "metadata": {
    "scrolled": true
   },
   "outputs": [
    {
     "name": "stdout",
     "output_type": "stream",
     "text": [
      "[]\n"
     ]
    },
    {
     "ename": "KeyError",
     "evalue": "'key1'",
     "output_type": "error",
     "traceback": [
      "\u001b[1;31m---------------------------------------------------------------------------\u001b[0m",
      "\u001b[1;31mKeyError\u001b[0m                                  Traceback (most recent call last)",
      "\u001b[1;32m<ipython-input-22-e03bfe85bbf3>\u001b[0m in \u001b[0;36m<module>\u001b[1;34m\u001b[0m\n\u001b[0;32m      5\u001b[0m \u001b[1;33m\u001b[0m\u001b[0m\n\u001b[0;32m      6\u001b[0m \u001b[0mlist_dict2\u001b[0m \u001b[1;33m=\u001b[0m \u001b[0mdict\u001b[0m\u001b[1;33m(\u001b[0m\u001b[1;33m)\u001b[0m\u001b[1;33m\u001b[0m\u001b[1;33m\u001b[0m\u001b[0m\n\u001b[1;32m----> 7\u001b[1;33m \u001b[0mprint\u001b[0m\u001b[1;33m(\u001b[0m\u001b[0mlist_dict2\u001b[0m\u001b[1;33m[\u001b[0m\u001b[1;34m'key1'\u001b[0m\u001b[1;33m]\u001b[0m\u001b[1;33m)\u001b[0m\u001b[1;33m\u001b[0m\u001b[1;33m\u001b[0m\u001b[0m\n\u001b[0m",
      "\u001b[1;31mKeyError\u001b[0m: 'key1'"
     ]
    }
   ],
   "source": [
    "from collections import defaultdict\n",
    "\n",
    "list_dict = defaultdict(list) # error X\n",
    "print(list_dict['key1'])\n",
    "\n",
    "list_dict2 = dict() # error O\n",
    "print(list_dict2['key1'])"
   ]
  },
  {
   "cell_type": "markdown",
   "metadata": {},
   "source": [
    "## [ Prim's Algorithm 구현 ]"
   ]
  },
  {
   "cell_type": "markdown",
   "metadata": {},
   "source": [
    "### 1) Define Edges\n",
    "- 단계1) 모든 adjacent edges 정보 저장"
   ]
  },
  {
   "cell_type": "code",
   "execution_count": 5,
   "metadata": {},
   "outputs": [],
   "source": [
    "myedges = [\n",
    "        (7,'a','b'),(5,'a','d'),\n",
    "        (8,'b','c'),(9,'b','d'),(7,'b','e'),\n",
    "        (5,'c','e'),\n",
    "        (7,'d','e'),(6,'d','f'),\n",
    "        (8,'e','f'),(9,'e','g'),        \n",
    "        (11,'f','g')\n",
    "]"
   ]
  },
  {
   "cell_type": "markdown",
   "metadata": {},
   "source": [
    "### 2) Define Functions"
   ]
  },
  {
   "cell_type": "code",
   "execution_count": 6,
   "metadata": {},
   "outputs": [],
   "source": [
    "from collections import defaultdict\n",
    "from heapq import *"
   ]
  },
  {
   "cell_type": "code",
   "execution_count": 12,
   "metadata": {},
   "outputs": [],
   "source": [
    "def prim(start_node,edges):\n",
    "    mst = list()\n",
    "    adj_edges = defaultdict(list)\n",
    "    \n",
    "    for weight,n1,n2 in edges:\n",
    "        adj_edges[n1].append((weight,n1,n2))\n",
    "        adj_edges[n2].append((weight,n2,n1))  # 1단계\n",
    "    \n",
    "    connected_nodes = set(start_node) # 2단계 \n",
    "    candidate_edge_list = adj_edges[start_node] # 3단계 \n",
    "    heapify(candidate_edge_list) # 4단계 (가장 weight 작은 순으로 나열)\n",
    "    \n",
    "    while candidate_edge_list: \n",
    "        w,n1,n2 = heappop(candidate_edge_list)\n",
    "        if n2 not in connected_nodes: # cycle 방지\n",
    "            connected_nodes.add(n2)\n",
    "            mst.append((w,n1,n2))            \n",
    "            for edge in adj_edges[n2]:\n",
    "                if edge[2] not in connected_nodes: # cycle 방지 (굳이 안 넣어도 될 edge 미리 안넣기)\n",
    "                    heappush(candidate_edge_list,edge)\n",
    "                \n",
    "    return mst"
   ]
  },
  {
   "cell_type": "code",
   "execution_count": 13,
   "metadata": {},
   "outputs": [
    {
     "data": {
      "text/plain": [
       "[(5, 'a', 'd'),\n",
       " (6, 'd', 'f'),\n",
       " (7, 'a', 'b'),\n",
       " (7, 'b', 'e'),\n",
       " (5, 'e', 'c'),\n",
       " (9, 'e', 'g')]"
      ]
     },
     "execution_count": 13,
     "metadata": {},
     "output_type": "execute_result"
    }
   ],
   "source": [
    "prim('a',myedges)"
   ]
  },
  {
   "cell_type": "markdown",
   "metadata": {},
   "source": [
    "### 시간 복잡도 : O(E*logE) ( E : number of edges )"
   ]
  },
  {
   "cell_type": "markdown",
   "metadata": {},
   "source": [
    "## 개선된 Prim's Algorithm \n",
    "- 시간 복잡도 : O(E*logV) ( V : number of nodes/vertices )"
   ]
  },
  {
   "cell_type": "markdown",
   "metadata": {},
   "source": [
    "edge가 아닌 node를 중심으로 우선순위 queue를 적용\n",
    "\n",
    "1) 초기화 : 선택한 node의 key값은 0, 나머지는 무한대로\n",
    "\n",
    "2) 가장 key값이 작은 node 선택, 인접한 node의 key는 그 edge의 weight로 업데이트!\n",
    "\n",
    "3) 남은 node들 중, 가장 key값이 작은 node 선택, ~ \n",
    "\n",
    "( 위 과정 반복 )"
   ]
  },
  {
   "cell_type": "code",
   "execution_count": null,
   "metadata": {},
   "outputs": [],
   "source": []
  }
 ],
 "metadata": {
  "kernelspec": {
   "display_name": "Python 3",
   "language": "python",
   "name": "python3"
  },
  "language_info": {
   "codemirror_mode": {
    "name": "ipython",
    "version": 3
   },
   "file_extension": ".py",
   "mimetype": "text/x-python",
   "name": "python",
   "nbconvert_exporter": "python",
   "pygments_lexer": "ipython3",
   "version": "3.6.9"
  }
 },
 "nbformat": 4,
 "nbformat_minor": 2
}
