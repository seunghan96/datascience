{
 "cells": [
  {
   "cell_type": "markdown",
   "metadata": {},
   "source": [
    "# Heap\n",
    "- Tree 기반\n",
    "- 데이터에서 최대값과 최소값을 빠르게 찾기 위해 고안된 Complete Binary Tree (완전 이진 트리)"
   ]
  },
  {
   "cell_type": "markdown",
   "metadata": {},
   "source": [
    "### 사용 이유\n",
    "- 배열에 데이터를 넣고, 최대값/최소값을 찾으려면 O(n)\n",
    "- Heap은 O(logn)\n",
    "- 우선순위 Queue와 같이 최대값/최소값을 빠르게 찾아야하는 자료구조 및 알고리즘 구현 등에 활용"
   ]
  },
  {
   "cell_type": "markdown",
   "metadata": {},
   "source": [
    "### 구조\n",
    "- Max Heap과, Min Heap을 구하는 2가지 구조\n",
    "- 조건 1) (Max Heap의 경우) 각 노드의 값은, 해당 노드의 자식 노드가 가진 값보다 크거나 같다. (Min Heap은 반대)\n",
    "- 조건 2) Complete Binary Tree 형태를 띈다"
   ]
  },
  {
   "cell_type": "markdown",
   "metadata": {},
   "source": [
    "Complete Binary Tree : 데이터를 채워 나갈 때, 왼쪽 최하단 node부터 채워짐"
   ]
  },
  {
   "cell_type": "markdown",
   "metadata": {},
   "source": [
    "## Binary Tree vs Heap\n",
    "- 공통점 : Binary\n",
    "\n",
    "- 차이점 : (Heap) 각 노드의 값이 자식 노드보다 크거나 같음 (Max Heap의 경우), (Heap)는 최대/최소값 검색, (Binary)는 탐색을 위한 구조\n"
   ]
  },
  {
   "cell_type": "markdown",
   "metadata": {},
   "source": [
    "## Heap 동작"
   ]
  },
  {
   "cell_type": "markdown",
   "metadata": {},
   "source": [
    "### 1) insert data"
   ]
  },
  {
   "cell_type": "markdown",
   "metadata": {},
   "source": [
    "(Max Heap의 예) 삽입할 데이터가, Heap의 데이터보다 클 경우\n",
    "- 1. Insert는 Binary Tree와 동일\n",
    "- 2. 그 이후 Swap"
   ]
  },
  {
   "cell_type": "markdown",
   "metadata": {},
   "source": [
    "### 2) delete data\n",
    "- 1. 맨 위(제일 큰) node 삭제! = 최대값을 뽑아낸다\n",
    "- 2. 가장 마지막으로 들어갔던 node를 맨 위로 올림\n",
    "- 3. Swap과정을 통해 Complete Binary Tree로"
   ]
  },
  {
   "cell_type": "markdown",
   "metadata": {},
   "source": [
    "## Heap 구현\n",
    "- 주로 배열로 표현\n",
    "- 배열은 인덱스가 0부터 시작하지만, 구현의 편의를 위해 root node의 인덱스를 1로 지정!"
   ]
  },
  {
   "cell_type": "markdown",
   "metadata": {},
   "source": [
    "Index 번호\n",
    "- 부모 노드 : (child node's index) // 2\n",
    "- 왼쪽 자식 노드 : (parent node's index) *2\n",
    "- 오른쪽 자식 노드 : (parent node's index) *2 +1"
   ]
  },
  {
   "cell_type": "code",
   "execution_count": 39,
   "metadata": {},
   "outputs": [],
   "source": [
    "class Heap:\n",
    "    def __init__(self,data):\n",
    "        self.heap_array = list()\n",
    "        self.heap_array.append(None)\n",
    "        self.heap_array.append(data)\n",
    "    \n",
    "    ########################## MOVE UP ########################\n",
    "    def move_up(self, inserted_idx):\n",
    "        if inserted_idx <= 1:\n",
    "            return False\n",
    "        parent_idx = inserted_idx //2\n",
    "        if self.heap_array[inserted_idx] > self.heap_array[parent_idx]:\n",
    "            return True\n",
    "        else :\n",
    "            return False     \n",
    "    \n",
    "    ########################## MOVE DOWN ########################\n",
    "    def move_down(self,popped_idx):\n",
    "        left_child_popped_idx = popped_idx *2\n",
    "        right_child_popped_idx = popped_idx *2 +1\n",
    "        # case 1) 왼쪽 child node도 없을 때\n",
    "        if left_child_popped_idx >= len(self.heap_array):\n",
    "            return False\n",
    "        # case 2) 오른쪽 child node만 없을 때\n",
    "        elif right_child_popped_idx >= len(self.heap_array):\n",
    "            if self.heap_array[popped_idx] < self.heap_array[left_child_popped_idx]:\n",
    "                return True\n",
    "            else :\n",
    "                return False\n",
    "        # case 3) 왼쪽, 오른쪽 child node 다 있을 때\n",
    "        else :\n",
    "            if self.heap_array[left_child_popped_idx] > self.heap_array[right_child_popped_idx]:\n",
    "                if self.heap_array[popped_idx] < self.heap_array[left_child_popped_idx]:\n",
    "                    return True\n",
    "                else :\n",
    "                    return False\n",
    "            else :\n",
    "                if self.heap_array[popped_idx] < self.heap_array[right_child_popped_idx]:\n",
    "                    return True\n",
    "                else :\n",
    "                    return False\n",
    "                \n",
    "    ########################## INSERT ########################\n",
    "    def insert(self,data):\n",
    "        if len(self.heap_array) == 0:\n",
    "            self.heap_array.append(None)\n",
    "            self.heap_array.append(data)\n",
    "            return True    \n",
    "        self.heap_array.append(data)\n",
    "        inserted_idx = len(self.heap_array)-1 # None이 들어가 있으니까\n",
    "        \n",
    "        # Swap 필요하다면\n",
    "        while self.move_up(inserted_idx):\n",
    "            parent_idx = inserted_idx //2\n",
    "            self.heap_array[inserted_idx], self.heap_array[parent_idx] = self.heap_array[parent_idx], self.heap_array[inserted_idx]\n",
    "            inserted_idx = parent_idx\n",
    "        return True\n",
    "    \n",
    "    ########################## POP ########################\n",
    "    def pop(self):\n",
    "        if len(self.heap_array) <= 1: # 없거나 None만 있거나\n",
    "            return None\n",
    "        returned_data = self.heap_array[1] # 0번째는 None이니까, 1번째가 최대\n",
    "        self.heap_array[1] = self.heap_array[-1] # 1) 가장 마지막 insert한 것을 root node로\n",
    "        del self.heap_array[-1]\n",
    "        popped_idx =1\n",
    "        \n",
    "        while self.move_down(popped_idx):\n",
    "            left_child_popped_idx = popped_idx *2\n",
    "            right_child_popped_idx = popped_idx *2 +1\n",
    "            \n",
    "            # case 2) 오른쪽 child node만 없을 때\n",
    "            if right_child_popped_idx >= len(self.heap_array):\n",
    "                if self.heap_array[popped_idx] < self.heap_array[left_child_popped_idx]:\n",
    "                    self.heap_array[popped_idx], self.heap_array[left_child_popped_idx] = self.heap_array[left_child_popped_idx], self.heap_array[popped_idx]\n",
    "                    popped_idx = left_child_popped_idx\n",
    "            # case 3) 왼쪽, 오른쪽 child node 다 있을 때\n",
    "            else :\n",
    "                if self.heap_array[left_child_popped_idx] > self.heap_array[right_child_popped_idx]:\n",
    "                    if self.heap_array[popped_idx] < self.heap_array[left_child_popped_idx]:\n",
    "                        self.heap_array[popped_idx],self.heap_array[left_child_popped_idx] = self.heap_array[left_child_popped_idx],self.heap_array[popped_idx]\n",
    "                        popped_idx = left_child_popped_idx    \n",
    "                else :\n",
    "                    if self.heap_array[popped_idx] < self.heap_array[right_child_popped_idx]:\n",
    "                        self.heap_array[popped_idx],self.heap_array[right_child_popped_idx] = self.heap_array[right_child_popped_idx],self.heap_array[popped_idx]\n",
    "                        popped_idx = right_child_popped_idx                    \n",
    "    \n",
    "        return returned_data"
   ]
  },
  {
   "cell_type": "code",
   "execution_count": 36,
   "metadata": {},
   "outputs": [
    {
     "data": {
      "text/plain": [
       "[None, 20, 10, 15, 5, 4, 8]"
      ]
     },
     "execution_count": 36,
     "metadata": {},
     "output_type": "execute_result"
    }
   ],
   "source": [
    "heap = Heap(15)\n",
    "\n",
    "heap.insert(10)\n",
    "heap.insert(8)\n",
    "heap.insert(5)\n",
    "heap.insert(4)\n",
    "heap.insert(20)\n",
    "\n",
    "heap.heap_array"
   ]
  },
  {
   "cell_type": "code",
   "execution_count": 37,
   "metadata": {},
   "outputs": [
    {
     "data": {
      "text/plain": [
       "20"
      ]
     },
     "execution_count": 37,
     "metadata": {},
     "output_type": "execute_result"
    }
   ],
   "source": [
    "heap.pop()"
   ]
  },
  {
   "cell_type": "code",
   "execution_count": 38,
   "metadata": {},
   "outputs": [
    {
     "data": {
      "text/plain": [
       "[None, 15, 10, 8, 5, 4]"
      ]
     },
     "execution_count": 38,
     "metadata": {},
     "output_type": "execute_result"
    }
   ],
   "source": [
    "heap.heap_array"
   ]
  }
 ],
 "metadata": {
  "kernelspec": {
   "display_name": "Python 3",
   "language": "python",
   "name": "python3"
  },
  "language_info": {
   "codemirror_mode": {
    "name": "ipython",
    "version": 3
   },
   "file_extension": ".py",
   "mimetype": "text/x-python",
   "name": "python",
   "nbconvert_exporter": "python",
   "pygments_lexer": "ipython3",
   "version": "3.6.9"
  }
 },
 "nbformat": 4,
 "nbformat_minor": 2
}
