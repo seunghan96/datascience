{
 "cells": [
  {
   "cell_type": "markdown",
   "metadata": {},
   "source": [
    "# Tree"
   ]
  },
  {
   "cell_type": "markdown",
   "metadata": {},
   "source": [
    "탐색 algorithm에서 많이 사용"
   ]
  },
  {
   "cell_type": "markdown",
   "metadata": {},
   "source": [
    "### 시간 복잡도 \n",
    "- depth가 h이면, 시간 복잡도는 O(h)\n",
    "- n개의 노드를 가진다면, h=log2(n)이므로 시간 복잡도는 O(logn)\n",
    "- 한번 실행시 마다, 50%의 실행할 수도 있는 명령을 제거!"
   ]
  },
  {
   "cell_type": "markdown",
   "metadata": {},
   "source": [
    "## 1) Binary Tree"
   ]
  },
  {
   "cell_type": "markdown",
   "metadata": {},
   "source": [
    "### 1. Node class 만들기"
   ]
  },
  {
   "cell_type": "code",
   "execution_count": 14,
   "metadata": {},
   "outputs": [],
   "source": [
    "class Node:\n",
    "    def __init__(self,value):\n",
    "        self.value = value\n",
    "        self.left = None\n",
    "        self.right = None"
   ]
  },
  {
   "cell_type": "markdown",
   "metadata": {},
   "source": [
    "### 2.Binary Tree에 데이터 넣기"
   ]
  },
  {
   "cell_type": "code",
   "execution_count": 2,
   "metadata": {},
   "outputs": [],
   "source": [
    "class NodeMG:\n",
    "    def __init__(self,head):\n",
    "        self.head = head\n",
    "        self.left = None\n",
    "        self.right = None\n",
    "    \n",
    "    def insert(self,value):\n",
    "        self.current_node = self.head\n",
    "        while True:\n",
    "            if value < self.current_node.value:\n",
    "                if self.current_node.left != None:\n",
    "                    self.current_node = self.current_node.left\n",
    "                else:\n",
    "                    self.current_node.left = Node(value)\n",
    "                    break\n",
    "            else :\n",
    "                if self.current_node.right != None:\n",
    "                    self.current_node = self.current_node.right\n",
    "                else:\n",
    "                    self.current_node.right = Node(value)\n",
    "                    break"
   ]
  },
  {
   "cell_type": "code",
   "execution_count": 3,
   "metadata": {},
   "outputs": [],
   "source": [
    "head = Node(1)\n",
    "BST = NodeMG(head)\n",
    "BST.insert(2)"
   ]
  },
  {
   "cell_type": "markdown",
   "metadata": {},
   "source": [
    "### 3. Binary Tree 탐색"
   ]
  },
  {
   "cell_type": "code",
   "execution_count": 4,
   "metadata": {},
   "outputs": [],
   "source": [
    "class NodeMG:\n",
    "    def __init__(self,head):\n",
    "        self.head = head\n",
    "        self.left = None\n",
    "        self.right = None\n",
    "    \n",
    "    def insert(self,value):\n",
    "        self.current_node = self.head\n",
    "        while True:\n",
    "            if value < self.current_node.value:\n",
    "                if self.current_node.left != None:\n",
    "                    self.current_node = self.current_node.left\n",
    "                else:\n",
    "                    self.current_node.left = Node(value)\n",
    "                    break\n",
    "            else :\n",
    "                if self.current_node.right != None:\n",
    "                    self.current_node = self.current_node.right\n",
    "                else:\n",
    "                    self.current_node.right = Node(value)\n",
    "                    break\n",
    "                    \n",
    "    def search(self,value):\n",
    "        self.current_node = self.head\n",
    "        while self.current_node:\n",
    "            if self.current_node.value == value:\n",
    "                return True # 있다\n",
    "            elif value < self.current_node.value:\n",
    "                self.current_node = self.current_node.left\n",
    "            else:\n",
    "                self.current_node = self.current_node.right\n",
    "        return False"
   ]
  },
  {
   "cell_type": "code",
   "execution_count": 5,
   "metadata": {},
   "outputs": [],
   "source": [
    "head = Node(1)\n",
    "BST2 = NodeMG(head)\n",
    "BST2.insert(2)\n",
    "BST2.insert(4)\n",
    "BST2.insert(6)\n",
    "BST2.insert(3)\n",
    "BST2.insert(2)\n",
    "BST2.insert(8)"
   ]
  },
  {
   "cell_type": "code",
   "execution_count": 6,
   "metadata": {},
   "outputs": [
    {
     "data": {
      "text/plain": [
       "True"
      ]
     },
     "execution_count": 6,
     "metadata": {},
     "output_type": "execute_result"
    }
   ],
   "source": [
    "BST2.search(8)"
   ]
  },
  {
   "cell_type": "markdown",
   "metadata": {},
   "source": [
    "### 4. Binary Tree 삭제"
   ]
  },
  {
   "cell_type": "markdown",
   "metadata": {},
   "source": [
    "#### a) Leaf Node 삭제 ( = Child Node가 0개일 때 )"
   ]
  },
  {
   "cell_type": "markdown",
   "metadata": {},
   "source": [
    "#### b) Child Node가 1개일 때"
   ]
  },
  {
   "cell_type": "markdown",
   "metadata": {},
   "source": [
    "#### c) Child Node가 2개일 때"
   ]
  },
  {
   "cell_type": "markdown",
   "metadata": {},
   "source": [
    "- 1. 삭제할 Node의 Right Node 중, 가장 \"작은\" 값을 삭제할 Node의 Parent Node가 가리키도록\n",
    "- 2. 삭제할 Node의 Left Node 중, 가장 \"큰\" 값을 ~"
   ]
  },
  {
   "cell_type": "markdown",
   "metadata": {},
   "source": [
    "( 구현 생략 27강 )"
   ]
  },
  {
   "cell_type": "markdown",
   "metadata": {},
   "source": [
    "### 5. 전체 Code 구현"
   ]
  },
  {
   "cell_type": "code",
   "execution_count": 7,
   "metadata": {},
   "outputs": [],
   "source": [
    "class NodeMG:\n",
    "    def __init__(self,head):\n",
    "        self.head = head\n",
    "        self.left = None\n",
    "        self.right = None\n",
    "    \n",
    "    def insert(self,value):\n",
    "        self.current_node = self.head\n",
    "        while True:\n",
    "            if value < self.current_node.value:\n",
    "                if self.current_node.left != None:\n",
    "                    self.current_node = self.current_node.left\n",
    "                else:\n",
    "                    self.current_node.left = Node(value)\n",
    "                    break\n",
    "            else :\n",
    "                if self.current_node.right != None:\n",
    "                    self.current_node = self.current_node.right\n",
    "                else:\n",
    "                    self.current_node.right = Node(value)\n",
    "                    break\n",
    "                    \n",
    "    def search(self,value):\n",
    "        self.current_node = self.head\n",
    "        while self.current_node:\n",
    "            if self.current_node.value == value:\n",
    "                return True # 있다\n",
    "            elif value < self.current_node.value:\n",
    "                self.current_node = self.current_node.left\n",
    "            else:\n",
    "                self.current_node = self.current_node.right\n",
    "        return False\n",
    "    \n",
    "    def delete(self,value):\n",
    "        searched = False # 해당 value 발견 시 True!\n",
    "        self.current_node = self.head\n",
    "        self.parent = self.head\n",
    "        while self.current_node:\n",
    "            if self.current_node.value == value:\n",
    "                searched = True\n",
    "            elif value < self.current_node.value:\n",
    "                self.parent = self.current_node\n",
    "                self.current_node = self.current_node.left\n",
    "            else :\n",
    "                self.parent = self.current_node\n",
    "                self.current_node = self.current_node.right\n",
    "\n",
    "        if searched == False:\n",
    "            return False\n",
    "\n",
    "        # case a),b),c) 나눠서 작성\n",
    "        # self.current_node : 삭제할 Node\n",
    "        # self.parent : 삭제할 Node의 Parent Node\n",
    "\n",
    "        # a) case\n",
    "        if (self.current_node.left == None) & (self.current_node.right == None):\n",
    "            if value < self.parent.value:\n",
    "                self.parent.left = None\n",
    "            else :\n",
    "                self.parent.right = None\n",
    "            del self.current_node\n",
    "\n",
    "        # b) case\n",
    "        if (self.current_node.left != None) & (self.current_node.right == None):\n",
    "            if value < self.parent.value:\n",
    "                self.parent.left = self.current_node.left\n",
    "            else :\n",
    "                self.parent.right = self.current_node.left\n",
    "\n",
    "        elif (self.current_node.left == None) & (self.current_node.right != None):\n",
    "            if value < self.parent.value:\n",
    "                self.parent.left = self.current_node.right\n",
    "            else:\n",
    "                self.parent.right = self.current_node.right\n",
    "\n",
    "        # c) case\n",
    "\n",
    "    "
   ]
  },
  {
   "cell_type": "markdown",
   "metadata": {},
   "source": [
    "### 6. Test\n",
    "0~999 중 임의로 100개 추출해서, Binary Tree에 입력해보고, 검색, 삭제"
   ]
  },
  {
   "cell_type": "code",
   "execution_count": 8,
   "metadata": {},
   "outputs": [],
   "source": [
    "import random"
   ]
  },
  {
   "cell_type": "code",
   "execution_count": 9,
   "metadata": {},
   "outputs": [],
   "source": [
    "bst_nums = set()\n",
    "while len(bst_nums) != 100:\n",
    "    bst_nums.add(random.randint(0,999))"
   ]
  },
  {
   "cell_type": "code",
   "execution_count": 10,
   "metadata": {},
   "outputs": [
    {
     "name": "stdout",
     "output_type": "stream",
     "text": [
      "{530, 18, 22, 31, 547, 550, 40, 43, 564, 57, 59, 67, 72, 585, 76, 590, 80, 95, 98, 100, 613, 637, 129, 642, 646, 136, 652, 665, 154, 686, 176, 185, 186, 700, 701, 200, 729, 737, 226, 237, 243, 249, 251, 252, 775, 272, 276, 280, 799, 808, 305, 824, 317, 830, 328, 841, 330, 333, 849, 338, 854, 855, 345, 858, 352, 874, 876, 367, 881, 369, 387, 390, 902, 904, 394, 397, 398, 405, 923, 928, 930, 418, 423, 425, 942, 945, 948, 437, 442, 449, 964, 965, 458, 971, 979, 477, 991, 497, 499, 504}\n"
     ]
    }
   ],
   "source": [
    "print(bst_nums)"
   ]
  },
  {
   "cell_type": "code",
   "execution_count": 11,
   "metadata": {},
   "outputs": [],
   "source": [
    "head = Node(500)\n",
    "BTS = NodeMG(head)\n",
    "\n",
    "# insert\n",
    "for num in bst_nums:\n",
    "    BTS.insert(num)\n",
    "\n",
    "# search\n",
    "for num in bst_nums:\n",
    "    if BTS.search(num) == False:\n",
    "        print('search failed', num)"
   ]
  },
  {
   "cell_type": "raw",
   "metadata": {},
   "source": [
    "# delete\n",
    "delete_nums = set()\n",
    "bst_nums = list(bst_nums)\n",
    "\n",
    "while len(delete_nums) != 10:\n",
    "    delete_nums.add(bst_nums[random.randint(0,99)])\n",
    "\n",
    "for del_num in delete_nums:\n",
    "    if BTS.delete(del_num) == False:\n",
    "        print('delete failed', del_num)"
   ]
  },
  {
   "cell_type": "markdown",
   "metadata": {},
   "source": [
    "# Hierarchical Softmax"
   ]
  },
  {
   "cell_type": "code",
   "execution_count": 12,
   "metadata": {},
   "outputs": [],
   "source": [
    "head = Node(0)\n",
    "H_Softmax = NodeMG(head)"
   ]
  },
  {
   "cell_type": "code",
   "execution_count": 13,
   "metadata": {},
   "outputs": [],
   "source": [
    "V = 34\n",
    "for num in range(1,2*V+1):\n",
    "    H_Softmax.insert(num)"
   ]
  },
  {
   "cell_type": "code",
   "execution_count": null,
   "metadata": {},
   "outputs": [],
   "source": []
  },
  {
   "cell_type": "code",
   "execution_count": null,
   "metadata": {},
   "outputs": [],
   "source": []
  }
 ],
 "metadata": {
  "kernelspec": {
   "display_name": "Python 3",
   "language": "python",
   "name": "python3"
  },
  "language_info": {
   "codemirror_mode": {
    "name": "ipython",
    "version": 3
   },
   "file_extension": ".py",
   "mimetype": "text/x-python",
   "name": "python",
   "nbconvert_exporter": "python",
   "pygments_lexer": "ipython3",
   "version": "3.6.9"
  }
 },
 "nbformat": 4,
 "nbformat_minor": 2
}
