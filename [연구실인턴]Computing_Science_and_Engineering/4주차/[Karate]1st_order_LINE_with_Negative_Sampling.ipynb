{
 "cells": [
  {
   "cell_type": "markdown",
   "metadata": {},
   "source": [
    "# [Karate]1st order LINE implementation with Negative Sampling"
   ]
  },
  {
   "cell_type": "markdown",
   "metadata": {},
   "source": [
    "## 1. Import Dataset & Libraries"
   ]
  },
  {
   "cell_type": "code",
   "execution_count": 1,
   "metadata": {},
   "outputs": [],
   "source": [
    "import networkx as nx\n",
    "import matplotlib.pyplot as plt\n",
    "import numpy as np\n",
    "import random\n",
    "import pandas as pd\n",
    "from random import shuffle\n",
    "from copy import copy\n",
    "\n",
    "%matplotlib inline"
   ]
  },
  {
   "cell_type": "code",
   "execution_count": 2,
   "metadata": {},
   "outputs": [],
   "source": [
    "edge = pd.read_csv('karate_club.edgelist', sep=' ', names=['x','y','w'])"
   ]
  },
  {
   "cell_type": "code",
   "execution_count": 3,
   "metadata": {},
   "outputs": [],
   "source": [
    "graph = nx.Graph()\n",
    "for i in range(edge.shape[0]):\n",
    "    graph.add_node(node_for_adding = edge['x'][i])\n",
    "    graph.add_node(node_for_adding = edge['y'][i])\n",
    "    graph.add_edge(edge['x'][i], edge['y'][i])"
   ]
  },
  {
   "cell_type": "markdown",
   "metadata": {},
   "source": [
    "#### 1) adjacent matrix & one-hot encoded matrix"
   ]
  },
  {
   "cell_type": "code",
   "execution_count": 4,
   "metadata": {},
   "outputs": [],
   "source": [
    "A = nx.to_numpy_matrix(graph, nodelist=sorted(graph.nodes()))\n",
    "OH = np.identity(A.shape[0])"
   ]
  },
  {
   "cell_type": "code",
   "execution_count": 5,
   "metadata": {},
   "outputs": [],
   "source": [
    "OH = np.identity(A.shape[0])"
   ]
  },
  {
   "cell_type": "markdown",
   "metadata": {},
   "source": [
    "#### 2) edges \n",
    "- only needed in case of \"different weights among edges\""
   ]
  },
  {
   "cell_type": "code",
   "execution_count": 6,
   "metadata": {},
   "outputs": [],
   "source": [
    "edges = edge[['x','y']]\n",
    "edges['w'] = 1\n",
    "edges = np.array(edges)"
   ]
  },
  {
   "cell_type": "markdown",
   "metadata": {},
   "source": [
    "## 2. Define Functions"
   ]
  },
  {
   "cell_type": "markdown",
   "metadata": {},
   "source": [
    "#### 1) first_prox \n",
    "- 2개 node의 vector를 input하면 first-order proximity 계산"
   ]
  },
  {
   "cell_type": "code",
   "execution_count": 7,
   "metadata": {},
   "outputs": [],
   "source": [
    "def first_prox(node_vec1,node_vec2):\n",
    "    mul = np.dot(node_vec1.T,node_vec2)\n",
    "    return 1/(1+np.exp(-mul))"
   ]
  },
  {
   "cell_type": "markdown",
   "metadata": {},
   "source": [
    "## 3. First-order Proximity with Negative Sampling"
   ]
  },
  {
   "cell_type": "code",
   "execution_count": 16,
   "metadata": {},
   "outputs": [],
   "source": [
    "def FirstOrder_neg_sampling(num_neg,epoch,lr):\n",
    "    low_dim = np.random.rand(OH.shape[0],2)\n",
    "    \n",
    "    for _ in range(epoch):\n",
    "        embed_vec =np.matmul(OH,low_dim)        \n",
    "        \n",
    "        for node in range(embed_vec.shape[0]):\n",
    "            ######################### find Neighbours & Non-Neighbours ##########################\n",
    "            \n",
    "            neighbours_index = np.nonzero(A[node])[1]\n",
    "            not_neighbours_index = np.setdiff1d(np.arange(embed_vec.shape[0]), np.nonzero(A[node])[1])\n",
    "            sampled_not_neighbours_index = np.random.choice(not_neighbours_index,num_neg)\n",
    "            \n",
    "            ########## find vectors of (1) main node, (2) neighbours, (3) non-neighbours ##########\n",
    "            \n",
    "            node_vec = embed_vec[node]  \n",
    "            \n",
    "            for positive in neighbours_index:\n",
    "                pos_vec = embed_vec[positive]\n",
    "                neg_vecs = embed_vec[sampled_not_neighbours_index]\n",
    "                \n",
    "            ############################# UPDATE ###############################################\n",
    "                embed_vec[node] -= lr*(first_prox(node_vec,pos_vec)-1)*pos_vec\n",
    "        \n",
    "                for neg_vec in neg_vecs:\n",
    "                    embed_vec[node] -= lr*(first_prox(node_vec,neg_vec))*neg_vec\n",
    "                    \n",
    "    return embed_vec"
   ]
  },
  {
   "cell_type": "code",
   "execution_count": 47,
   "metadata": {
    "scrolled": true
   },
   "outputs": [],
   "source": [
    "Emb = FirstOrder_neg_sampling(num_neg=10,epoch=100,lr=0.1)"
   ]
  },
  {
   "cell_type": "markdown",
   "metadata": {},
   "source": [
    "## 4. Visualization"
   ]
  },
  {
   "cell_type": "code",
   "execution_count": 48,
   "metadata": {},
   "outputs": [],
   "source": [
    "Emb_df = pd.DataFrame({'X':Emb[:,0], 'Y':Emb[:,1],'Label':range(1,35)})\n",
    "\n",
    "blue = [1,2,3,4,5,6,7,8,9,11,12,13,14,17,18,20,22]\n",
    "red = list(set(range(0,35))-set(blue))\n",
    "\n",
    "Emb_df.loc[Emb_df.Label.isin(blue),'Color']=1\n",
    "Emb_df.loc[Emb_df.Label.isin(red),'Color']=0"
   ]
  },
  {
   "cell_type": "code",
   "execution_count": 49,
   "metadata": {},
   "outputs": [
    {
     "data": {
      "image/png": "[encoded data removed]",
      "text/plain": [
       "<Figure size 432x288 with 1 Axes>"
      ]
     },
     "metadata": {
      "needs_background": "light"
     },
     "output_type": "display_data"
    }
   ],
   "source": [
    "plt.scatter(Emb_df['X'], Emb_df['Y'], c=Emb_df['Color'])\n",
    "\n",
    "for i,txt in enumerate(Emb_df['Label']):\n",
    "    plt.annotate(txt, (Emb_df['X'][i], Emb_df['Y'][i]))"
   ]
  },
  {
   "cell_type": "code",
   "execution_count": 20,
   "metadata": {},
   "outputs": [
    {
     "data": {
      "text/html": [
       "<div>\n",
       "<style scoped>\n",
       "    .dataframe tbody tr th:only-of-type {\n",
       "        vertical-align: middle;\n",
       "    }\n",
       "\n",
       "    .dataframe tbody tr th {\n",
       "        vertical-align: top;\n",
       "    }\n",
       "\n",
       "    .dataframe thead th {\n",
       "        text-align: right;\n",
       "    }\n",
       "</style>\n",
       "<table border=\"1\" class=\"dataframe\">\n",
       "  <thead>\n",
       "    <tr style=\"text-align: right;\">\n",
       "      <th></th>\n",
       "      <th>Label</th>\n",
       "      <th>X</th>\n",
       "      <th>Y</th>\n",
       "      <th>Color</th>\n",
       "    </tr>\n",
       "  </thead>\n",
       "  <tbody>\n",
       "    <tr>\n",
       "      <th>0</th>\n",
       "      <td>1</td>\n",
       "      <td>-1.366229</td>\n",
       "      <td>-1.221469</td>\n",
       "      <td>1.0</td>\n",
       "    </tr>\n",
       "    <tr>\n",
       "      <th>1</th>\n",
       "      <td>2</td>\n",
       "      <td>-1.530609</td>\n",
       "      <td>-1.412200</td>\n",
       "      <td>1.0</td>\n",
       "    </tr>\n",
       "    <tr>\n",
       "      <th>2</th>\n",
       "      <td>3</td>\n",
       "      <td>-1.703764</td>\n",
       "      <td>-1.234125</td>\n",
       "      <td>1.0</td>\n",
       "    </tr>\n",
       "    <tr>\n",
       "      <th>3</th>\n",
       "      <td>4</td>\n",
       "      <td>-1.510370</td>\n",
       "      <td>-1.362750</td>\n",
       "      <td>1.0</td>\n",
       "    </tr>\n",
       "    <tr>\n",
       "      <th>4</th>\n",
       "      <td>5</td>\n",
       "      <td>-0.682506</td>\n",
       "      <td>-0.577262</td>\n",
       "      <td>1.0</td>\n",
       "    </tr>\n",
       "    <tr>\n",
       "      <th>5</th>\n",
       "      <td>6</td>\n",
       "      <td>-0.598505</td>\n",
       "      <td>-0.614123</td>\n",
       "      <td>1.0</td>\n",
       "    </tr>\n",
       "    <tr>\n",
       "      <th>6</th>\n",
       "      <td>7</td>\n",
       "      <td>-0.772868</td>\n",
       "      <td>-0.608659</td>\n",
       "      <td>1.0</td>\n",
       "    </tr>\n",
       "    <tr>\n",
       "      <th>7</th>\n",
       "      <td>8</td>\n",
       "      <td>-1.057368</td>\n",
       "      <td>-1.069156</td>\n",
       "      <td>1.0</td>\n",
       "    </tr>\n",
       "    <tr>\n",
       "      <th>8</th>\n",
       "      <td>9</td>\n",
       "      <td>-1.066259</td>\n",
       "      <td>0.152138</td>\n",
       "      <td>1.0</td>\n",
       "    </tr>\n",
       "    <tr>\n",
       "      <th>9</th>\n",
       "      <td>10</td>\n",
       "      <td>-0.435441</td>\n",
       "      <td>-0.350704</td>\n",
       "      <td>0.0</td>\n",
       "    </tr>\n",
       "    <tr>\n",
       "      <th>10</th>\n",
       "      <td>11</td>\n",
       "      <td>-0.439374</td>\n",
       "      <td>-0.494892</td>\n",
       "      <td>1.0</td>\n",
       "    </tr>\n",
       "    <tr>\n",
       "      <th>11</th>\n",
       "      <td>12</td>\n",
       "      <td>0.037118</td>\n",
       "      <td>-0.069928</td>\n",
       "      <td>1.0</td>\n",
       "    </tr>\n",
       "    <tr>\n",
       "      <th>12</th>\n",
       "      <td>13</td>\n",
       "      <td>-0.250868</td>\n",
       "      <td>-0.501283</td>\n",
       "      <td>1.0</td>\n",
       "    </tr>\n",
       "    <tr>\n",
       "      <th>13</th>\n",
       "      <td>14</td>\n",
       "      <td>-0.730921</td>\n",
       "      <td>-0.467946</td>\n",
       "      <td>1.0</td>\n",
       "    </tr>\n",
       "    <tr>\n",
       "      <th>14</th>\n",
       "      <td>15</td>\n",
       "      <td>-0.270383</td>\n",
       "      <td>0.187850</td>\n",
       "      <td>0.0</td>\n",
       "    </tr>\n",
       "    <tr>\n",
       "      <th>15</th>\n",
       "      <td>16</td>\n",
       "      <td>-0.193926</td>\n",
       "      <td>0.407753</td>\n",
       "      <td>0.0</td>\n",
       "    </tr>\n",
       "    <tr>\n",
       "      <th>16</th>\n",
       "      <td>17</td>\n",
       "      <td>0.036902</td>\n",
       "      <td>-0.078380</td>\n",
       "      <td>1.0</td>\n",
       "    </tr>\n",
       "    <tr>\n",
       "      <th>17</th>\n",
       "      <td>18</td>\n",
       "      <td>0.012766</td>\n",
       "      <td>-0.116366</td>\n",
       "      <td>1.0</td>\n",
       "    </tr>\n",
       "    <tr>\n",
       "      <th>18</th>\n",
       "      <td>19</td>\n",
       "      <td>0.168108</td>\n",
       "      <td>0.171079</td>\n",
       "      <td>0.0</td>\n",
       "    </tr>\n",
       "    <tr>\n",
       "      <th>19</th>\n",
       "      <td>20</td>\n",
       "      <td>-0.187773</td>\n",
       "      <td>0.139866</td>\n",
       "      <td>1.0</td>\n",
       "    </tr>\n",
       "    <tr>\n",
       "      <th>20</th>\n",
       "      <td>21</td>\n",
       "      <td>0.077310</td>\n",
       "      <td>0.152154</td>\n",
       "      <td>0.0</td>\n",
       "    </tr>\n",
       "    <tr>\n",
       "      <th>21</th>\n",
       "      <td>22</td>\n",
       "      <td>0.297496</td>\n",
       "      <td>-0.370970</td>\n",
       "      <td>1.0</td>\n",
       "    </tr>\n",
       "    <tr>\n",
       "      <th>22</th>\n",
       "      <td>23</td>\n",
       "      <td>0.286849</td>\n",
       "      <td>0.452922</td>\n",
       "      <td>0.0</td>\n",
       "    </tr>\n",
       "    <tr>\n",
       "      <th>23</th>\n",
       "      <td>24</td>\n",
       "      <td>0.336187</td>\n",
       "      <td>0.531000</td>\n",
       "      <td>0.0</td>\n",
       "    </tr>\n",
       "    <tr>\n",
       "      <th>24</th>\n",
       "      <td>25</td>\n",
       "      <td>0.817072</td>\n",
       "      <td>-0.078208</td>\n",
       "      <td>0.0</td>\n",
       "    </tr>\n",
       "    <tr>\n",
       "      <th>25</th>\n",
       "      <td>26</td>\n",
       "      <td>0.480118</td>\n",
       "      <td>0.301231</td>\n",
       "      <td>0.0</td>\n",
       "    </tr>\n",
       "    <tr>\n",
       "      <th>26</th>\n",
       "      <td>27</td>\n",
       "      <td>0.577895</td>\n",
       "      <td>0.519898</td>\n",
       "      <td>0.0</td>\n",
       "    </tr>\n",
       "    <tr>\n",
       "      <th>27</th>\n",
       "      <td>28</td>\n",
       "      <td>0.487414</td>\n",
       "      <td>0.206286</td>\n",
       "      <td>0.0</td>\n",
       "    </tr>\n",
       "    <tr>\n",
       "      <th>28</th>\n",
       "      <td>29</td>\n",
       "      <td>0.528386</td>\n",
       "      <td>0.322445</td>\n",
       "      <td>0.0</td>\n",
       "    </tr>\n",
       "    <tr>\n",
       "      <th>29</th>\n",
       "      <td>30</td>\n",
       "      <td>0.480306</td>\n",
       "      <td>0.595417</td>\n",
       "      <td>0.0</td>\n",
       "    </tr>\n",
       "    <tr>\n",
       "      <th>30</th>\n",
       "      <td>31</td>\n",
       "      <td>0.387029</td>\n",
       "      <td>0.343776</td>\n",
       "      <td>0.0</td>\n",
       "    </tr>\n",
       "    <tr>\n",
       "      <th>31</th>\n",
       "      <td>32</td>\n",
       "      <td>0.869211</td>\n",
       "      <td>0.256898</td>\n",
       "      <td>0.0</td>\n",
       "    </tr>\n",
       "    <tr>\n",
       "      <th>32</th>\n",
       "      <td>33</td>\n",
       "      <td>0.150168</td>\n",
       "      <td>1.284182</td>\n",
       "      <td>0.0</td>\n",
       "    </tr>\n",
       "    <tr>\n",
       "      <th>33</th>\n",
       "      <td>34</td>\n",
       "      <td>0.424657</td>\n",
       "      <td>1.442470</td>\n",
       "      <td>0.0</td>\n",
       "    </tr>\n",
       "  </tbody>\n",
       "</table>\n",
       "</div>"
      ],
      "text/plain": [
       "    Label         X         Y  Color\n",
       "0       1 -1.366229 -1.221469    1.0\n",
       "1       2 -1.530609 -1.412200    1.0\n",
       "2       3 -1.703764 -1.234125    1.0\n",
       "3       4 -1.510370 -1.362750    1.0\n",
       "4       5 -0.682506 -0.577262    1.0\n",
       "5       6 -0.598505 -0.614123    1.0\n",
       "6       7 -0.772868 -0.608659    1.0\n",
       "7       8 -1.057368 -1.069156    1.0\n",
       "8       9 -1.066259  0.152138    1.0\n",
       "9      10 -0.435441 -0.350704    0.0\n",
       "10     11 -0.439374 -0.494892    1.0\n",
       "11     12  0.037118 -0.069928    1.0\n",
       "12     13 -0.250868 -0.501283    1.0\n",
       "13     14 -0.730921 -0.467946    1.0\n",
       "14     15 -0.270383  0.187850    0.0\n",
       "15     16 -0.193926  0.407753    0.0\n",
       "16     17  0.036902 -0.078380    1.0\n",
       "17     18  0.012766 -0.116366    1.0\n",
       "18     19  0.168108  0.171079    0.0\n",
       "19     20 -0.187773  0.139866    1.0\n",
       "20     21  0.077310  0.152154    0.0\n",
       "21     22  0.297496 -0.370970    1.0\n",
       "22     23  0.286849  0.452922    0.0\n",
       "23     24  0.336187  0.531000    0.0\n",
       "24     25  0.817072 -0.078208    0.0\n",
       "25     26  0.480118  0.301231    0.0\n",
       "26     27  0.577895  0.519898    0.0\n",
       "27     28  0.487414  0.206286    0.0\n",
       "28     29  0.528386  0.322445    0.0\n",
       "29     30  0.480306  0.595417    0.0\n",
       "30     31  0.387029  0.343776    0.0\n",
       "31     32  0.869211  0.256898    0.0\n",
       "32     33  0.150168  1.284182    0.0\n",
       "33     34  0.424657  1.442470    0.0"
      ]
     },
     "execution_count": 20,
     "metadata": {},
     "output_type": "execute_result"
    }
   ],
   "source": [
    "Emb_df"
   ]
  },
  {
   "cell_type": "code",
   "execution_count": 22,
   "metadata": {},
   "outputs": [],
   "source": [
    "Emb_df.to_csv('[Karate]Embedded_with_FirstOrder.csv')"
   ]
  },
  {
   "cell_type": "code",
   "execution_count": null,
   "metadata": {},
   "outputs": [],
   "source": []
  }
 ],
 "metadata": {
  "kernelspec": {
   "display_name": "Python 3",
   "language": "python",
   "name": "python3"
  },
  "language_info": {
   "codemirror_mode": {
    "name": "ipython",
    "version": 3
   },
   "file_extension": ".py",
   "mimetype": "text/x-python",
   "name": "python",
   "nbconvert_exporter": "python",
   "pygments_lexer": "ipython3",
   "version": "3.6.9"
  }
 },
 "nbformat": 4,
 "nbformat_minor": 2
}
