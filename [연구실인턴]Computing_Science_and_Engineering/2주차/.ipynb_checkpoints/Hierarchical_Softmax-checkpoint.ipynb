{
 "cells": [
  {
   "cell_type": "code",
   "execution_count": 2,
   "metadata": {},
   "outputs": [],
   "source": [
    "from random import shuffle\n",
    "from copy import copy"
   ]
  },
  {
   "cell_type": "code",
   "execution_count": 22,
   "metadata": {},
   "outputs": [],
   "source": [
    "class TreeTools:\n",
    "    def __init__(self):\n",
    "        self.count_nodes_dict = {}\n",
    "    \n",
    "    def get_subtrees(self,tree):\n",
    "        yield tree\n",
    "        for subtree in tree:\n",
    "            if type(subtree) == list: # 최하단 node가 아니라는 뜻\n",
    "                for x in self.get_subtrees(subtree):\n",
    "                    yield x\n",
    "    \n",
    "    def get_path(self,tree):\n",
    "        for i, subtree in enumerate(tree):\n",
    "            if type(subtree) == list:\n",
    "                for path, value in get_path(subtree):\n",
    "                    yield [i] + path, value\n",
    "            else:\n",
    "                yield [i], subtree\n",
    "    \n",
    "    def count_nodes(self,tree): # tree = 나\n",
    "        if id(tree) in self.count_nodes_dict:\n",
    "            return self.count_nodes_dict[id(tree)] # 현재 나의 직속 child node 수\n",
    "        \n",
    "        size = 0  # size : 내 child node들의 child node 수         \n",
    "        for node in tree: # node : 내 child node들\n",
    "            if type(node) == list: # 내 child node가 최하단 node가 아니라면(즉, list형태)\n",
    "                size += 1 + self.count_nodes(node) # 내 child node의 size +1\n",
    "                \n",
    "        self.count_nodes_dict[id(self.count_nodes_dict)] = size # update\n",
    "        return size                "
   ]
  },
  {
   "cell_type": "code",
   "execution_count": 18,
   "metadata": {},
   "outputs": [],
   "source": [
    "def BTS(outputs): # Binary Trees\n",
    "    outputs = copy(outputs)\n",
    "    shuffle(outputs)\n",
    "    \n",
    "    while len(outputs) > 2: # node가 2개 이하가되면 뿌리내리기 STOP\n",
    "        temp_outputs = []\n",
    "        for i in range(0,len(outputs),2):\n",
    "            if len(outputs) - (i+1) > 0: # 끝에서 2개 이상 남음\n",
    "                temp_outputs.append([outputs[i], outputs[i+1]])\n",
    "            else:\n",
    "                temp_outputs.append(outputs[i]) # 마지막(짝 없는 마지막 홀수 번째)꺼는 단독\n",
    "        outputs = temp_outputs\n",
    "    return outputs"
   ]
  },
  {
   "cell_type": "code",
   "execution_count": 19,
   "metadata": {},
   "outputs": [],
   "source": [
    "tree = BTS([1,2,3,4,5])"
   ]
  },
  {
   "cell_type": "code",
   "execution_count": 23,
   "metadata": {},
   "outputs": [],
   "source": [
    "tt = TreeTools()"
   ]
  },
  {
   "cell_type": "code",
   "execution_count": null,
   "metadata": {},
   "outputs": [],
   "source": []
  }
 ],
 "metadata": {
  "kernelspec": {
   "display_name": "Python 3",
   "language": "python",
   "name": "python3"
  },
  "language_info": {
   "codemirror_mode": {
    "name": "ipython",
    "version": 3
   },
   "file_extension": ".py",
   "mimetype": "text/x-python",
   "name": "python",
   "nbconvert_exporter": "python",
   "pygments_lexer": "ipython3",
   "version": "3.6.9"
  }
 },
 "nbformat": 4,
 "nbformat_minor": 2
}
