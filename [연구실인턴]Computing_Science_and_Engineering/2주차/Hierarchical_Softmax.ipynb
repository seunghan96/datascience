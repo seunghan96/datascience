{
 "cells": [
  {
   "cell_type": "markdown",
   "metadata": {},
   "source": [
    "# 1. Tree"
   ]
  },
  {
   "cell_type": "code",
   "execution_count": 2,
   "metadata": {},
   "outputs": [],
   "source": [
    "from random import shuffle\n",
    "from copy import copy"
   ]
  },
  {
   "cell_type": "code",
   "execution_count": 49,
   "metadata": {},
   "outputs": [],
   "source": [
    "class TreeTools:\n",
    "    def __init__(self):\n",
    "        self.count_nodes_dict = {}\n",
    "    \n",
    "    # 1) Tree 내에 모든 Subtree들 가져옴\n",
    "    def get_subtrees(self,tree):\n",
    "        yield tree # 현재 Tree\n",
    "        for subtree in tree:\n",
    "            if type(subtree) == list: # (최하단 node가 아니라는 뜻)\n",
    "                for x in self.get_subtrees(subtree):\n",
    "                    yield x # 현재 Tree 밑의 Subtree들\n",
    "    \n",
    "    # 2) 모든 (최하단의) node까지 가는 경로\n",
    "    def get_path(self,tree):\n",
    "        for i, subtree in enumerate(tree):\n",
    "            if type(subtree) == list:\n",
    "                for path, value in self.get_path(subtree):\n",
    "                    yield [i] + path, value\n",
    "            else:\n",
    "                yield [i], subtree\n",
    "    \n",
    "    # 3) inner node 개수 \n",
    "    def count_nodes(self,tree): # tree = 나\n",
    "        if id(tree) in self.count_nodes_dict:\n",
    "            return self.count_nodes_dict[id(tree)] # 현재 나의 직속 child node 수\n",
    "        \n",
    "        size = 0  # size : 내 child node들의 child node 수         \n",
    "        for node in tree: # node : 내 child node들\n",
    "            if type(node) == list: # 내 child node가 최하단 node가 아니라면(즉, list형태)\n",
    "                size += 1 + self.count_nodes(node) # 내 child node의 size +1\n",
    "                \n",
    "        self.count_nodes_dict[id(self.count_nodes_dict)] = size # update\n",
    "        return size                "
   ]
  },
  {
   "cell_type": "code",
   "execution_count": 44,
   "metadata": {},
   "outputs": [],
   "source": [
    "def BTS(outputs): # Binary Trees\n",
    "    outputs = copy(outputs)\n",
    "    shuffle(outputs)\n",
    "    \n",
    "    while len(outputs) > 2: # node가 2개 이하가되면 뿌리내리기 STOP\n",
    "        temp_outputs = []\n",
    "        for i in range(0,len(outputs),2):\n",
    "            if len(outputs) - (i+1) > 0: # 끝에서 2개 이상 남음\n",
    "                temp_outputs.append([outputs[i], outputs[i+1]])                \n",
    "            else:\n",
    "                temp_outputs.append(outputs[i]) # 마지막(짝 없는 마지막 홀수 번째)꺼는 단독\n",
    "        outputs = temp_outputs\n",
    "    return outputs"
   ]
  },
  {
   "cell_type": "code",
   "execution_count": 50,
   "metadata": {},
   "outputs": [
    {
     "data": {
      "text/plain": [
       "[[[2, 5], [1, 3]], 4]"
      ]
     },
     "execution_count": 50,
     "metadata": {},
     "output_type": "execute_result"
    }
   ],
   "source": [
    "mytree = BTS([1,2,3,4,5])\n",
    "mytree"
   ]
  },
  {
   "cell_type": "code",
   "execution_count": 51,
   "metadata": {},
   "outputs": [],
   "source": [
    "tt = TreeTools()"
   ]
  },
  {
   "cell_type": "markdown",
   "metadata": {},
   "source": [
    "### subtree"
   ]
  },
  {
   "cell_type": "code",
   "execution_count": 52,
   "metadata": {},
   "outputs": [
    {
     "name": "stdout",
     "output_type": "stream",
     "text": [
      "[[[2, 5], [1, 3]], 4]\n",
      "[[2, 5], [1, 3]]\n",
      "[2, 5]\n",
      "[1, 3]\n"
     ]
    }
   ],
   "source": [
    "for subtree in tt.get_subtrees(mytree):\n",
    "    print(subtree)"
   ]
  },
  {
   "cell_type": "markdown",
   "metadata": {},
   "source": [
    "### path & leaves"
   ]
  },
  {
   "cell_type": "markdown",
   "metadata": {},
   "source": [
    "0 : left \n",
    "\n",
    "1 : right"
   ]
  },
  {
   "cell_type": "code",
   "execution_count": 53,
   "metadata": {
    "scrolled": true
   },
   "outputs": [
    {
     "name": "stdout",
     "output_type": "stream",
     "text": [
      "([0, 0, 0], 2)\n",
      "([0, 0, 1], 5)\n",
      "([0, 1, 0], 1)\n",
      "([0, 1, 1], 3)\n",
      "([1], 4)\n"
     ]
    }
   ],
   "source": [
    "for subtree in tt.get_path(mytree):\n",
    "    print(subtree)"
   ]
  },
  {
   "cell_type": "markdown",
   "metadata": {},
   "source": [
    "### number of nodes"
   ]
  },
  {
   "cell_type": "code",
   "execution_count": 55,
   "metadata": {},
   "outputs": [
    {
     "data": {
      "text/plain": [
       "3"
      ]
     },
     "execution_count": 55,
     "metadata": {},
     "output_type": "execute_result"
    }
   ],
   "source": [
    "tt.count_nodes(mytree)"
   ]
  },
  {
   "cell_type": "code",
   "execution_count": 60,
   "metadata": {},
   "outputs": [
    {
     "name": "stdout",
     "output_type": "stream",
     "text": [
      "0\n",
      "0\n",
      "0\n",
      "0\n",
      "1\n"
     ]
    }
   ],
   "source": [
    "for subtree in tt.get_path(mytree):\n",
    "    print(subtree[0])"
   ]
  },
  {
   "cell_type": "code",
   "execution_count": 58,
   "metadata": {},
   "outputs": [
    {
     "data": {
      "text/plain": [
       "<generator object TreeTools.get_path at 0x000001FE107F9D00>"
      ]
     },
     "execution_count": 58,
     "metadata": {},
     "output_type": "execute_result"
    }
   ],
   "source": [
    "tt.get_path(mytree)"
   ]
  },
  {
   "cell_type": "code",
   "execution_count": 61,
   "metadata": {},
   "outputs": [],
   "source": [
    "a = [[0],[1],[2]]"
   ]
  },
  {
   "cell_type": "code",
   "execution_count": 62,
   "metadata": {},
   "outputs": [
    {
     "data": {
      "text/plain": [
       "[[0], [1], [2]]"
      ]
     },
     "execution_count": 62,
     "metadata": {},
     "output_type": "execute_result"
    }
   ],
   "source": [
    "a"
   ]
  },
  {
   "cell_type": "code",
   "execution_count": 63,
   "metadata": {},
   "outputs": [
    {
     "data": {
      "text/plain": [
       "3"
      ]
     },
     "execution_count": 63,
     "metadata": {},
     "output_type": "execute_result"
    }
   ],
   "source": []
  }
 ],
 "metadata": {
  "kernelspec": {
   "display_name": "Python 3",
   "language": "python",
   "name": "python3"
  },
  "language_info": {
   "codemirror_mode": {
    "name": "ipython",
    "version": 3
   },
   "file_extension": ".py",
   "mimetype": "text/x-python",
   "name": "python",
   "nbconvert_exporter": "python",
   "pygments_lexer": "ipython3",
   "version": "3.6.9"
  }
 },
 "nbformat": 4,
 "nbformat_minor": 2
}
