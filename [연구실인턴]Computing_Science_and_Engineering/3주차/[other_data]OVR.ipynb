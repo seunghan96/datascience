{
 "cells": [
  {
   "cell_type": "markdown",
   "metadata": {},
   "source": [
    "# [ Glass Type Classification with OVR]\n",
    "- train ratio : 0.1, 0.3, 0.5, 0.7\n",
    "- metric : accuracy, precision, recall, F1-score\n",
    "- dataset : glass.csv"
   ]
  },
  {
   "cell_type": "markdown",
   "metadata": {},
   "source": [
    "# 1. Import Libraries & Dataset"
   ]
  },
  {
   "cell_type": "code",
   "execution_count": 1,
   "metadata": {},
   "outputs": [],
   "source": [
    "import pandas as pd\n",
    "import numpy as np\n",
    "import matplotlib.pyplot as plt\n",
    "\n",
    "%matplotlib inline"
   ]
  },
  {
   "cell_type": "code",
   "execution_count": 2,
   "metadata": {},
   "outputs": [],
   "source": [
    "gl = pd.read_csv('glass.csv',header=None)\n",
    "gl = gl.drop(0,axis=1)\n",
    "gl = gl.sample(frac=1)\n",
    "gl.columns = ['Ri','Na','Mg','Al','Si','K','Ca','Ba','Fe','Type']"
   ]
  },
  {
   "cell_type": "code",
   "execution_count": 3,
   "metadata": {},
   "outputs": [
    {
     "data": {
      "text/html": [
       "<div>\n",
       "<style scoped>\n",
       "    .dataframe tbody tr th:only-of-type {\n",
       "        vertical-align: middle;\n",
       "    }\n",
       "\n",
       "    .dataframe tbody tr th {\n",
       "        vertical-align: top;\n",
       "    }\n",
       "\n",
       "    .dataframe thead th {\n",
       "        text-align: right;\n",
       "    }\n",
       "</style>\n",
       "<table border=\"1\" class=\"dataframe\">\n",
       "  <thead>\n",
       "    <tr style=\"text-align: right;\">\n",
       "      <th></th>\n",
       "      <th>Ri</th>\n",
       "      <th>Na</th>\n",
       "      <th>Mg</th>\n",
       "      <th>Al</th>\n",
       "      <th>Si</th>\n",
       "      <th>K</th>\n",
       "      <th>Ca</th>\n",
       "      <th>Ba</th>\n",
       "      <th>Fe</th>\n",
       "      <th>Type</th>\n",
       "    </tr>\n",
       "  </thead>\n",
       "  <tbody>\n",
       "    <tr>\n",
       "      <th>72</th>\n",
       "      <td>1.51593</td>\n",
       "      <td>13.09</td>\n",
       "      <td>3.59</td>\n",
       "      <td>1.52</td>\n",
       "      <td>73.10</td>\n",
       "      <td>0.67</td>\n",
       "      <td>7.83</td>\n",
       "      <td>0.0</td>\n",
       "      <td>0.00</td>\n",
       "      <td>2</td>\n",
       "    </tr>\n",
       "    <tr>\n",
       "      <th>13</th>\n",
       "      <td>1.51748</td>\n",
       "      <td>12.86</td>\n",
       "      <td>3.56</td>\n",
       "      <td>1.27</td>\n",
       "      <td>73.21</td>\n",
       "      <td>0.54</td>\n",
       "      <td>8.38</td>\n",
       "      <td>0.0</td>\n",
       "      <td>0.17</td>\n",
       "      <td>1</td>\n",
       "    </tr>\n",
       "    <tr>\n",
       "      <th>89</th>\n",
       "      <td>1.51640</td>\n",
       "      <td>12.55</td>\n",
       "      <td>3.48</td>\n",
       "      <td>1.87</td>\n",
       "      <td>73.23</td>\n",
       "      <td>0.63</td>\n",
       "      <td>8.08</td>\n",
       "      <td>0.0</td>\n",
       "      <td>0.09</td>\n",
       "      <td>2</td>\n",
       "    </tr>\n",
       "    <tr>\n",
       "      <th>173</th>\n",
       "      <td>1.52043</td>\n",
       "      <td>13.38</td>\n",
       "      <td>0.00</td>\n",
       "      <td>1.40</td>\n",
       "      <td>72.25</td>\n",
       "      <td>0.33</td>\n",
       "      <td>12.50</td>\n",
       "      <td>0.0</td>\n",
       "      <td>0.00</td>\n",
       "      <td>5</td>\n",
       "    </tr>\n",
       "    <tr>\n",
       "      <th>63</th>\n",
       "      <td>1.52227</td>\n",
       "      <td>14.17</td>\n",
       "      <td>3.81</td>\n",
       "      <td>0.78</td>\n",
       "      <td>71.35</td>\n",
       "      <td>0.00</td>\n",
       "      <td>9.69</td>\n",
       "      <td>0.0</td>\n",
       "      <td>0.00</td>\n",
       "      <td>1</td>\n",
       "    </tr>\n",
       "  </tbody>\n",
       "</table>\n",
       "</div>"
      ],
      "text/plain": [
       "          Ri     Na    Mg    Al     Si     K     Ca   Ba    Fe  Type\n",
       "72   1.51593  13.09  3.59  1.52  73.10  0.67   7.83  0.0  0.00     2\n",
       "13   1.51748  12.86  3.56  1.27  73.21  0.54   8.38  0.0  0.17     1\n",
       "89   1.51640  12.55  3.48  1.87  73.23  0.63   8.08  0.0  0.09     2\n",
       "173  1.52043  13.38  0.00  1.40  72.25  0.33  12.50  0.0  0.00     5\n",
       "63   1.52227  14.17  3.81  0.78  71.35  0.00   9.69  0.0  0.00     1"
      ]
     },
     "execution_count": 3,
     "metadata": {},
     "output_type": "execute_result"
    }
   ],
   "source": [
    "gl.head()"
   ]
  },
  {
   "cell_type": "code",
   "execution_count": 4,
   "metadata": {
    "scrolled": false
   },
   "outputs": [
    {
     "data": {
      "text/plain": [
       "2    76\n",
       "1    70\n",
       "7    29\n",
       "3    17\n",
       "5    13\n",
       "6     9\n",
       "Name: Type, dtype: int64"
      ]
     },
     "execution_count": 4,
     "metadata": {},
     "output_type": "execute_result"
    }
   ],
   "source": [
    "gl.Type.value_counts()"
   ]
  },
  {
   "cell_type": "code",
   "execution_count": 5,
   "metadata": {},
   "outputs": [
    {
     "data": {
      "text/plain": [
       "(214, 10)"
      ]
     },
     "execution_count": 5,
     "metadata": {},
     "output_type": "execute_result"
    }
   ],
   "source": [
    "gl.shape"
   ]
  },
  {
   "cell_type": "markdown",
   "metadata": {},
   "source": [
    "### into 2 Dimensional \n",
    "- using Principal Component Analysis"
   ]
  },
  {
   "cell_type": "code",
   "execution_count": 6,
   "metadata": {},
   "outputs": [],
   "source": [
    "from sklearn.decomposition import PCA\n",
    "pca = PCA(n_components=2)"
   ]
  },
  {
   "cell_type": "code",
   "execution_count": 7,
   "metadata": {
    "scrolled": true
   },
   "outputs": [
    {
     "data": {
      "text/plain": [
       "PCA(copy=True, iterated_power='auto', n_components=2, random_state=None,\n",
       "    svd_solver='auto', tol=0.0, whiten=False)"
      ]
     },
     "execution_count": 7,
     "metadata": {},
     "output_type": "execute_result"
    }
   ],
   "source": [
    "pca.fit(gl.iloc[:,0:10])"
   ]
  },
  {
   "cell_type": "code",
   "execution_count": 8,
   "metadata": {},
   "outputs": [
    {
     "data": {
      "text/plain": [
       "0.8108102743598888"
      ]
     },
     "execution_count": 8,
     "metadata": {},
     "output_type": "execute_result"
    }
   ],
   "source": [
    "pca.explained_variance_ratio_.sum()"
   ]
  },
  {
   "cell_type": "code",
   "execution_count": 9,
   "metadata": {},
   "outputs": [],
   "source": [
    "X1 = pca.fit_transform(gl.iloc[:,0:10])[:,0]\n",
    "X2 = pca.fit_transform(gl.iloc[:,0:10])[:,1]                       \n",
    "new_data = pd.DataFrame({'X1':X1,'X2':X2,'class':gl.iloc[:,-1]})"
   ]
  },
  {
   "cell_type": "code",
   "execution_count": 10,
   "metadata": {},
   "outputs": [
    {
     "data": {
      "text/html": [
       "<div>\n",
       "<style scoped>\n",
       "    .dataframe tbody tr th:only-of-type {\n",
       "        vertical-align: middle;\n",
       "    }\n",
       "\n",
       "    .dataframe tbody tr th {\n",
       "        vertical-align: top;\n",
       "    }\n",
       "\n",
       "    .dataframe thead th {\n",
       "        text-align: right;\n",
       "    }\n",
       "</style>\n",
       "<table border=\"1\" class=\"dataframe\">\n",
       "  <thead>\n",
       "    <tr style=\"text-align: right;\">\n",
       "      <th></th>\n",
       "      <th>X1</th>\n",
       "      <th>X2</th>\n",
       "      <th>class</th>\n",
       "    </tr>\n",
       "  </thead>\n",
       "  <tbody>\n",
       "    <tr>\n",
       "      <th>72</th>\n",
       "      <td>-1.246995</td>\n",
       "      <td>-1.095024</td>\n",
       "      <td>2</td>\n",
       "    </tr>\n",
       "    <tr>\n",
       "      <th>13</th>\n",
       "      <td>-2.065570</td>\n",
       "      <td>-0.295497</td>\n",
       "      <td>1</td>\n",
       "    </tr>\n",
       "    <tr>\n",
       "      <th>89</th>\n",
       "      <td>-1.206158</td>\n",
       "      <td>-0.773854</td>\n",
       "      <td>2</td>\n",
       "    </tr>\n",
       "    <tr>\n",
       "      <th>173</th>\n",
       "      <td>3.466450</td>\n",
       "      <td>3.534764</td>\n",
       "      <td>5</td>\n",
       "    </tr>\n",
       "    <tr>\n",
       "      <th>63</th>\n",
       "      <td>-2.007860</td>\n",
       "      <td>0.788674</td>\n",
       "      <td>1</td>\n",
       "    </tr>\n",
       "  </tbody>\n",
       "</table>\n",
       "</div>"
      ],
      "text/plain": [
       "           X1        X2  class\n",
       "72  -1.246995 -1.095024      2\n",
       "13  -2.065570 -0.295497      1\n",
       "89  -1.206158 -0.773854      2\n",
       "173  3.466450  3.534764      5\n",
       "63  -2.007860  0.788674      1"
      ]
     },
     "execution_count": 10,
     "metadata": {},
     "output_type": "execute_result"
    }
   ],
   "source": [
    "new_data.head()"
   ]
  },
  {
   "cell_type": "code",
   "execution_count": 11,
   "metadata": {
    "scrolled": true
   },
   "outputs": [
    {
     "data": {
      "image/png": "[encoded data removed]",
      "text/plain": [
       "<Figure size 432x288 with 1 Axes>"
      ]
     },
     "metadata": {
      "needs_background": "light"
     },
     "output_type": "display_data"
    }
   ],
   "source": [
    "plt.scatter(new_data['X1'], new_data['X2'], c=new_data['class'])\n",
    "plt.show()"
   ]
  },
  {
   "cell_type": "markdown",
   "metadata": {},
   "source": [
    "# 2. Define Functions"
   ]
  },
  {
   "cell_type": "markdown",
   "metadata": {},
   "source": [
    "- 1) train_test_split\n",
    "- 2) matrix multiplication\n",
    "- 3) sigmoid\n",
    "- 4) standard scaler\n",
    "- 5) loss function"
   ]
  },
  {
   "cell_type": "code",
   "execution_count": 12,
   "metadata": {
    "scrolled": true
   },
   "outputs": [],
   "source": [
    "def train_test_split(data,test_ratio):\n",
    "    \n",
    "    data.iloc[:,[0,1]] = standard_scaler(data.iloc[:,[0,1]])\n",
    "    test_index = np.random.choice(len(data),int(len(data)*test_ratio),replace=False)\n",
    "    train = data[~data.index.isin(test_index)]\n",
    "    test = data[data.index.isin(test_index)]\n",
    "    \n",
    "    train_X = np.array(train)[:,[0,1]]\n",
    "    train_y = np.array(train)[:,[2]].flatten()\n",
    "    test_X = np.array(test)[:,[0,1]]\n",
    "    test_y = np.array(test)[:,[2]].flatten()\n",
    "    return train_X,train_y, test_X,test_y"
   ]
  },
  {
   "cell_type": "code",
   "execution_count": 13,
   "metadata": {},
   "outputs": [],
   "source": [
    "def mul(W,b,x):\n",
    "    return np.dot(x,W)+b\n",
    "\n",
    "def sigmoid(x):    \n",
    "    k = 1 / (1 + np.exp(-x))\n",
    "    return k[:,0]"
   ]
  },
  {
   "cell_type": "code",
   "execution_count": 14,
   "metadata": {},
   "outputs": [],
   "source": [
    "def standard_scaler(x):\n",
    "    mean = np.mean(x)\n",
    "    std = np.std(x)\n",
    "    return (x-mean)/std"
   ]
  },
  {
   "cell_type": "code",
   "execution_count": 15,
   "metadata": {},
   "outputs": [],
   "source": [
    "def loss_func(y_hat,y):\n",
    "    total_loss = np.mean(y*np.log(y_hat+(1e-6)) + (1-y)*np.log(1-y_hat+(1e-6)))\n",
    "    return -total_loss"
   ]
  },
  {
   "cell_type": "markdown",
   "metadata": {},
   "source": [
    "# 3. Train Model"
   ]
  },
  {
   "cell_type": "markdown",
   "metadata": {},
   "source": [
    "### Logistic Regression"
   ]
  },
  {
   "cell_type": "code",
   "execution_count": 16,
   "metadata": {},
   "outputs": [],
   "source": [
    "def logreg(x,y,epoch,lr):\n",
    "    W = np.random.rand(x.shape[1],1)\n",
    "    b = np.random.rand(1)\n",
    "    \n",
    "    for ep in range(epoch+1):\n",
    "        Z = mul(W,b,x)\n",
    "        y_hat = sigmoid(Z)\n",
    "        loss = loss_func(y_hat,y)\n",
    "        dw = np.matmul(x.T,y_hat-y)/x.shape[0]\n",
    "        db = np.sum(y_hat-y)\n",
    "        \n",
    "        W = W-lr*dw.reshape(-1,1)\n",
    "        b = b-lr*db\n",
    "        \n",
    "        if ep % 20 == 0:\n",
    "            print('epoch :',ep,' loss :',loss)\n",
    "            \n",
    "    return W,b"
   ]
  },
  {
   "cell_type": "markdown",
   "metadata": {},
   "source": [
    "# 4. Prediction"
   ]
  },
  {
   "cell_type": "markdown",
   "metadata": {},
   "source": [
    "### train"
   ]
  },
  {
   "cell_type": "code",
   "execution_count": 17,
   "metadata": {},
   "outputs": [],
   "source": [
    "def predict(test_X,W,b):\n",
    "    result = sigmoid(np.dot(test_X, W) + b)\n",
    "    return result"
   ]
  },
  {
   "cell_type": "code",
   "execution_count": 18,
   "metadata": {},
   "outputs": [],
   "source": [
    "def Metrics(pred,actual):\n",
    "    TP,TN,FP,FN = 0,0,0,0\n",
    "    for i in range(len(pred)):\n",
    "        if pred[i]*actual[i]==1:\n",
    "            TP +=1\n",
    "        elif pred[i]>actual[i]:\n",
    "            FP +=1\n",
    "        elif pred[i]<actual[i]:\n",
    "            FN +=1\n",
    "        else:\n",
    "            TN +=1\n",
    "    \n",
    "    accuracy = (TP+TN) / (TP+TN+FP+FN)\n",
    "    precision = TP / (TP+FP)\n",
    "    recall = TP / (TP+FN)\n",
    "    F1_score = 2*(precision*recall)/(precision+recall)\n",
    "    return accuracy,precision,recall,F1_score"
   ]
  },
  {
   "cell_type": "code",
   "execution_count": 19,
   "metadata": {},
   "outputs": [
    {
     "data": {
      "text/plain": [
       "array([2, 1, 5, 3, 6, 7], dtype=int64)"
      ]
     },
     "execution_count": 19,
     "metadata": {},
     "output_type": "execute_result"
    }
   ],
   "source": [
    "new_data['class'].unique()"
   ]
  },
  {
   "cell_type": "code",
   "execution_count": 20,
   "metadata": {},
   "outputs": [],
   "source": [
    "def OVR(data,test_ratio,epoch,lr):\n",
    "    train_x,train_y,test_x,test_y = train_test_split(data,test_ratio)\n",
    "    pred_result = []\n",
    "    real_result = []\n",
    "    for index in data['class'].unique():\n",
    "        train_y2 = (train_y == index).astype(int)        \n",
    "        test_y2 = (test_y == index).astype(int)\n",
    "        W,b = logreg(train_x,train_y2,epoch,lr)\n",
    "        y_pred = predict(test_x,W,b)\n",
    "        pred_result.append(y_pred)\n",
    "        real_result.append(test_y2)\n",
    "    pred_OH = (pred_result == np.amax(pred_result,axis=0)).astype('int')\n",
    "    act_OH = np.concatenate(real_result).ravel().reshape(data.iloc[:,-1].nunique(),-1)    \n",
    "    return pred_OH,act_OH"
   ]
  },
  {
   "cell_type": "code",
   "execution_count": 21,
   "metadata": {
    "scrolled": true
   },
   "outputs": [
    {
     "name": "stdout",
     "output_type": "stream",
     "text": [
      "epoch : 0  loss : 0.9268306711358498\n",
      "epoch : 20  loss : 0.8588922980255772\n",
      "epoch : 40  loss : 0.8395200398517075\n",
      "epoch : 60  loss : 0.8214687138506367\n",
      "epoch : 80  loss : 0.8046869652902364\n",
      "epoch : 100  loss : 0.7891187467109749\n",
      "epoch : 120  loss : 0.7747044656935533\n",
      "epoch : 140  loss : 0.7613822609896916\n",
      "epoch : 160  loss : 0.7490891477084815\n",
      "epoch : 180  loss : 0.7377620104388042\n",
      "epoch : 200  loss : 0.7273384367558129\n",
      "epoch : 220  loss : 0.7177573940721566\n",
      "epoch : 240  loss : 0.7089597601648292\n",
      "epoch : 260  loss : 0.7008887222317749\n",
      "epoch : 280  loss : 0.6934900615217235\n",
      "epoch : 300  loss : 0.6867123410213838\n",
      "epoch : 320  loss : 0.6805070129331863\n",
      "epoch : 340  loss : 0.6748284612064496\n",
      "epoch : 360  loss : 0.6696339925600544\n",
      "epoch : 380  loss : 0.6648837875142215\n",
      "epoch : 400  loss : 0.6605408210997243\n",
      "epoch : 420  loss : 0.656570761229677\n",
      "epoch : 440  loss : 0.6529418512447911\n",
      "epoch : 460  loss : 0.6496247818862131\n",
      "epoch : 480  loss : 0.6465925568986215\n",
      "epoch : 500  loss : 0.6438203555976971\n",
      "epoch : 520  loss : 0.6412853950240647\n",
      "epoch : 540  loss : 0.6389667937244319\n",
      "epoch : 560  loss : 0.6368454387265409\n",
      "epoch : 580  loss : 0.6349038568877554\n",
      "epoch : 600  loss : 0.6331260914812763\n",
      "epoch : 620  loss : 0.6314975846259632\n",
      "epoch : 640  loss : 0.6300050659551814\n",
      "epoch : 660  loss : 0.6286364477487651\n",
      "epoch : 680  loss : 0.6273807266136395\n",
      "epoch : 700  loss : 0.6262278916876131\n",
      "epoch : 720  loss : 0.6251688392531264\n",
      "epoch : 740  loss : 0.624195293579707\n",
      "epoch : 760  loss : 0.6232997337625608\n",
      "epoch : 780  loss : 0.622475326287466\n",
      "epoch : 800  loss : 0.6217158630266851\n",
      "epoch : 820  loss : 0.6210157043549277\n",
      "epoch : 840  loss : 0.6203697270667745\n",
      "epoch : 860  loss : 0.619773276775823\n",
      "epoch : 880  loss : 0.6192221244798267\n",
      "epoch : 900  loss : 0.618712426984128\n",
      "epoch : 920  loss : 0.6182406908866965\n",
      "epoch : 940  loss : 0.6178037398413151\n",
      "epoch : 960  loss : 0.6173986848301396\n",
      "epoch : 980  loss : 0.6170228971924794\n",
      "epoch : 1000  loss : 0.6166739841727077\n",
      "epoch : 0  loss : 1.188593970891216\n",
      "epoch : 20  loss : 0.8108764980940504\n",
      "epoch : 40  loss : 0.7814881957928203\n",
      "epoch : 60  loss : 0.7546409734581306\n",
      "epoch : 80  loss : 0.730144733370669\n",
      "epoch : 100  loss : 0.7078089234064328\n",
      "epoch : 120  loss : 0.6874468127756026\n",
      "epoch : 140  loss : 0.6688789714321922\n",
      "epoch : 160  loss : 0.6519357543645502\n",
      "epoch : 180  loss : 0.6364588987305262\n",
      "epoch : 200  loss : 0.6223023771412589\n",
      "epoch : 220  loss : 0.6093326608733384\n",
      "epoch : 240  loss : 0.5974285399771234\n",
      "epoch : 260  loss : 0.586480630185311\n",
      "epoch : 280  loss : 0.5763906748002102\n",
      "epoch : 300  loss : 0.5670707272636221\n",
      "epoch : 320  loss : 0.5584422792901588\n",
      "epoch : 340  loss : 0.5504353814971946\n",
      "epoch : 360  loss : 0.5429877888020026\n",
      "epoch : 380  loss : 0.5360441513864584\n",
      "epoch : 400  loss : 0.5295552633923224\n",
      "epoch : 420  loss : 0.5234773752382775\n",
      "epoch : 440  loss : 0.5177715710661533\n",
      "epoch : 460  loss : 0.5124032098932402\n",
      "epoch : 480  loss : 0.5073414272008144\n",
      "epoch : 500  loss : 0.5025586926269464\n",
      "epoch : 520  loss : 0.49803041892097877\n",
      "epoch : 540  loss : 0.4937346171810475\n",
      "epoch : 560  loss : 0.4896515935042\n",
      "epoch : 580  loss : 0.48576368243705853\n",
      "epoch : 600  loss : 0.482055012957469\n",
      "epoch : 620  loss : 0.478511303098871\n",
      "epoch : 640  loss : 0.47511967971916097\n",
      "epoch : 660  loss : 0.4718685202954388\n",
      "epoch : 680  loss : 0.4687473139837464\n",
      "epoch : 700  loss : 0.4657465395125435\n",
      "epoch : 720  loss : 0.4628575577775352\n",
      "epoch : 740  loss : 0.4600725172732541\n",
      "epoch : 760  loss : 0.45738427073457216\n",
      "epoch : 780  loss : 0.45478630157100913\n",
      "epoch : 800  loss : 0.45227265886067075\n",
      "epoch : 820  loss : 0.4498378998314077\n",
      "epoch : 840  loss : 0.44747703889683965\n",
      "epoch : 860  loss : 0.44518550243664207\n",
      "epoch : 880  loss : 0.4429590886161651\n",
      "epoch : 900  loss : 0.4407939316320609\n",
      "epoch : 920  loss : 0.43868646984997733\n",
      "epoch : 940  loss : 0.4366334173691175\n",
      "epoch : 960  loss : 0.4346317386080001\n",
      "epoch : 980  loss : 0.43267862555733483\n",
      "epoch : 1000  loss : 0.43077147739061417\n",
      "epoch : 0  loss : 0.849077134512959\n",
      "epoch : 20  loss : 0.20520302480103547\n",
      "epoch : 40  loss : 0.20185708865774263\n",
      "epoch : 60  loss : 0.20132835191839363\n",
      "epoch : 80  loss : 0.20089942219092188\n",
      "epoch : 100  loss : 0.20049864088756475\n",
      "epoch : 120  loss : 0.20012235661595681\n",
      "epoch : 140  loss : 0.19976906168439312\n",
      "epoch : 160  loss : 0.19943738389613921\n",
      "epoch : 180  loss : 0.19912602354266812\n",
      "epoch : 200  loss : 0.1988337496762865\n",
      "epoch : 220  loss : 0.19855939785911794\n",
      "epoch : 240  loss : 0.19830186780021558\n",
      "epoch : 260  loss : 0.1980601208944383\n",
      "epoch : 280  loss : 0.19783317769919836\n",
      "epoch : 300  loss : 0.19762011537822186\n",
      "epoch : 320  loss : 0.1974200651369434\n",
      "epoch : 340  loss : 0.1972322096704919\n",
      "epoch : 360  loss : 0.19705578064194842\n",
      "epoch : 380  loss : 0.19689005620559846\n",
      "epoch : 400  loss : 0.19673435858723617\n",
      "epoch : 420  loss : 0.19658805173120442\n",
      "epoch : 440  loss : 0.19645053902174803\n",
      "epoch : 460  loss : 0.19632126108441422\n",
      "epoch : 480  loss : 0.19619969367162365\n",
      "epoch : 500  loss : 0.1960853456351507\n",
      "epoch : 520  loss : 0.19597775698706216\n",
      "epoch : 540  loss : 0.19587649704965757\n",
      "epoch : 560  loss : 0.19578116269411225\n",
      "epoch : 580  loss : 0.19569137666682185\n",
      "epoch : 600  loss : 0.19560678600187734\n",
      "epoch : 620  loss : 0.19552706051763918\n",
      "epoch : 640  loss : 0.19545189139501656\n",
      "epoch : 660  loss : 0.19538098983478042\n",
      "epoch : 680  loss : 0.19531408579103357\n",
      "epoch : 700  loss : 0.1952509267778182\n",
      "epoch : 720  loss : 0.19519127674575046\n",
      "epoch : 740  loss : 0.1951349150255256\n",
      "epoch : 760  loss : 0.19508163533512687\n",
      "epoch : 780  loss : 0.19503124484759218\n",
      "epoch : 800  loss : 0.19498356331623778\n",
      "epoch : 820  loss : 0.19493842225430322\n",
      "epoch : 840  loss : 0.19489566416606072\n",
      "epoch : 860  loss : 0.19485514182652738\n",
      "epoch : 880  loss : 0.19481671760701622\n",
      "epoch : 900  loss : 0.19478026284387254\n",
      "epoch : 920  loss : 0.19474565724785156\n",
      "epoch : 940  loss : 0.19471278835170888\n",
      "epoch : 960  loss : 0.19468155099368772\n",
      "epoch : 980  loss : 0.1946518468347043\n",
      "epoch : 1000  loss : 0.19462358390714168\n",
      "epoch : 0  loss : 0.9761086440711456\n",
      "epoch : 20  loss : 0.31956861514158663\n",
      "epoch : 40  loss : 0.31704750705778756\n",
      "epoch : 60  loss : 0.3153617662068447\n",
      "epoch : 80  loss : 0.31375414677107233\n",
      "epoch : 100  loss : 0.31221343322807\n",
      "epoch : 120  loss : 0.3107364988465602\n",
      "epoch : 140  loss : 0.3093204485652329\n",
      "epoch : 160  loss : 0.3079625257182623\n",
      "epoch : 180  loss : 0.3066601051491192\n",
      "epoch : 200  loss : 0.3054106868542469\n",
      "epoch : 220  loss : 0.3042118898489744\n",
      "epoch : 240  loss : 0.3030614463219656\n",
      "epoch : 260  loss : 0.3019571960776951\n",
      "epoch : 280  loss : 0.3008970812568566\n",
      "epoch : 300  loss : 0.29987914132277205\n",
      "epoch : 320  loss : 0.2989015083013014\n",
      "epoch : 340  loss : 0.29796240226163956\n",
      "epoch : 360  loss : 0.29706012702555823\n",
      "epoch : 380  loss : 0.29619306609300355\n",
      "epoch : 400  loss : 0.2953596787724478\n",
      "epoch : 420  loss : 0.29455849650494076\n",
      "epoch : 440  loss : 0.29378811937140237\n",
      "epoch : 460  loss : 0.2930472127732976\n",
      "epoch : 480  loss : 0.2923345042774264\n",
      "epoch : 500  loss : 0.2916487806161358\n",
      "epoch : 520  loss : 0.29098888483480445\n",
      "epoch : 540  loss : 0.29035371357895884\n",
      "epoch : 560  loss : 0.28974221451385856\n",
      "epoch : 580  loss : 0.2891533838698267\n",
      "epoch : 600  loss : 0.28858626410700783\n",
      "epoch : 620  loss : 0.2880399416936112\n",
      "epoch : 640  loss : 0.2875135449920382\n",
      "epoch : 660  loss : 0.2870062422476098\n",
      "epoch : 680  loss : 0.286517239674902\n",
      "epoch : 700  loss : 0.28604577963696265\n",
      "epoch : 720  loss : 0.28559113891293103\n",
      "epoch : 740  loss : 0.2851526270498126\n",
      "epoch : 760  loss : 0.284729584794373\n",
      "epoch : 780  loss : 0.2843213826013122\n",
      "epoch : 800  loss : 0.28392741921407116\n",
      "epoch : 820  loss : 0.2835471203147902\n",
      "epoch : 840  loss : 0.2831799372401082\n",
      "epoch : 860  loss : 0.2828253457596444\n",
      "epoch : 880  loss : 0.2824828449141511\n",
      "epoch : 900  loss : 0.2821519559104638\n",
      "epoch : 920  loss : 0.2818322210705111\n",
      "epoch : 940  loss : 0.2815232028317674\n",
      "epoch : 960  loss : 0.2812244827966558\n",
      "epoch : 980  loss : 0.2809356608285219\n",
      "epoch : 1000  loss : 0.28065635419190743\n",
      "epoch : 0  loss : 1.0148962817338285\n",
      "epoch : 20  loss : 0.11897546454421691\n",
      "epoch : 40  loss : 0.1127739530560411\n",
      "epoch : 60  loss : 0.1118482435490647\n",
      "epoch : 80  loss : 0.11151903386605184\n",
      "epoch : 100  loss : 0.11129067269074014\n",
      "epoch : 120  loss : 0.11108389048486776\n",
      "epoch : 140  loss : 0.11088398422796839\n",
      "epoch : 160  loss : 0.1106880266852724\n",
      "epoch : 180  loss : 0.11049538852468066\n",
      "epoch : 200  loss : 0.11030590195816331\n",
      "epoch : 220  loss : 0.11011949319630616\n",
      "epoch : 240  loss : 0.10993610801099955\n",
      "epoch : 260  loss : 0.10975569666590843\n",
      "epoch : 280  loss : 0.10957821089935123\n"
     ]
    },
    {
     "name": "stdout",
     "output_type": "stream",
     "text": [
      "epoch : 300  loss : 0.10940360333286828\n",
      "epoch : 320  loss : 0.10923182735564337\n",
      "epoch : 340  loss : 0.10906283709663252\n",
      "epoch : 360  loss : 0.108896587410453\n",
      "epoch : 380  loss : 0.10873303386448441\n",
      "epoch : 400  loss : 0.10857213272578202\n",
      "epoch : 420  loss : 0.10841384094802363\n",
      "epoch : 440  loss : 0.10825811615874618\n",
      "epoch : 460  loss : 0.10810491664699985\n",
      "epoch : 480  loss : 0.10795420135146341\n",
      "epoch : 500  loss : 0.10780592984902256\n",
      "epoch : 520  loss : 0.10766006234379305\n",
      "epoch : 540  loss : 0.10751655965656369\n",
      "epoch : 560  loss : 0.10737538321463169\n",
      "epoch : 580  loss : 0.10723649504200343\n",
      "epoch : 600  loss : 0.10709985774993366\n",
      "epoch : 620  loss : 0.10696543452777971\n",
      "epoch : 640  loss : 0.106833189134146\n",
      "epoch : 660  loss : 0.10670308588829888\n",
      "epoch : 680  loss : 0.10657508966183082\n",
      "epoch : 700  loss : 0.10644916587055585\n",
      "epoch : 720  loss : 0.10632528046661889\n",
      "epoch : 740  loss : 0.10620339993080362\n",
      "epoch : 760  loss : 0.10608349126502377\n",
      "epoch : 780  loss : 0.10596552198498481\n",
      "epoch : 800  loss : 0.10584946011300359\n",
      "epoch : 820  loss : 0.10573527417097445\n",
      "epoch : 840  loss : 0.1056229331734717\n",
      "epoch : 860  loss : 0.10551240662097873\n",
      "epoch : 880  loss : 0.10540366449323528\n",
      "epoch : 900  loss : 0.10529667724269477\n",
      "epoch : 920  loss : 0.10519141578808472\n",
      "epoch : 940  loss : 0.10508785150806349\n",
      "epoch : 960  loss : 0.10498595623496763\n",
      "epoch : 980  loss : 0.10488570224864442\n",
      "epoch : 1000  loss : 0.10478706227036473\n",
      "epoch : 0  loss : 1.108023442455963\n",
      "epoch : 20  loss : 0.3109268605987994\n",
      "epoch : 40  loss : 0.29990840337965474\n",
      "epoch : 60  loss : 0.28953512838805295\n",
      "epoch : 80  loss : 0.27972206565643176\n",
      "epoch : 100  loss : 0.270446107557328\n",
      "epoch : 120  loss : 0.26168305034730827\n",
      "epoch : 140  loss : 0.2534080281746063\n",
      "epoch : 160  loss : 0.2455959190368935\n",
      "epoch : 180  loss : 0.23822169229131637\n",
      "epoch : 200  loss : 0.23126069705024568\n",
      "epoch : 220  loss : 0.22468889351506932\n",
      "epoch : 240  loss : 0.2184830315464853\n",
      "epoch : 260  loss : 0.21262078212552676\n",
      "epoch : 280  loss : 0.20708082799030886\n",
      "epoch : 300  loss : 0.20184291982471986\n",
      "epoch : 320  loss : 0.19688790409525636\n",
      "epoch : 340  loss : 0.19219772812074376\n",
      "epoch : 360  loss : 0.1877554273252737\n",
      "epoch : 380  loss : 0.18354509894634902\n",
      "epoch : 400  loss : 0.17955186580179372\n",
      "epoch : 420  loss : 0.17576183309428908\n",
      "epoch : 440  loss : 0.1721620406702119\n",
      "epoch : 460  loss : 0.16874041265785752\n",
      "epoch : 480  loss : 0.16548570599003298\n",
      "epoch : 500  loss : 0.16238745896380805\n",
      "epoch : 520  loss : 0.15943594069979222\n",
      "epoch : 540  loss : 0.15662210212737454\n",
      "epoch : 560  loss : 0.15393752893335663\n",
      "epoch : 580  loss : 0.15137439676205322\n",
      "epoch : 600  loss : 0.14892542883856155\n",
      "epoch : 620  loss : 0.14658385609760022\n",
      "epoch : 640  loss : 0.1443433798329599\n",
      "epoch : 660  loss : 0.14219813683286192\n",
      "epoch : 680  loss : 0.14014266693074298\n",
      "epoch : 700  loss : 0.13817188287618115\n",
      "epoch : 720  loss : 0.13628104241440472\n",
      "epoch : 740  loss : 0.13446572245309746\n",
      "epoch : 760  loss : 0.13272179519045002\n",
      "epoch : 780  loss : 0.13104540607734247\n",
      "epoch : 800  loss : 0.129432953488185\n",
      "epoch : 820  loss : 0.12788106997851556\n",
      "epoch : 840  loss : 0.12638660501234703\n",
      "epoch : 860  loss : 0.12494660904801397\n",
      "epoch : 880  loss : 0.12355831887753328\n",
      "epoch : 900  loss : 0.12221914412100147\n",
      "epoch : 920  loss : 0.1209266547841077\n",
      "epoch : 940  loss : 0.11967856979330295\n",
      "epoch : 960  loss : 0.11847274642943466\n",
      "epoch : 980  loss : 0.11730717058665936\n",
      "epoch : 1000  loss : 0.11617994778914689\n"
     ]
    }
   ],
   "source": [
    "prediction,actual = OVR(new_data,0.3,1000,0.01)"
   ]
  },
  {
   "cell_type": "code",
   "execution_count": 22,
   "metadata": {},
   "outputs": [],
   "source": [
    "def confusion_matrix(actual,prediction):\n",
    "    n = actual.shape[0]\n",
    "    conf_mat = np.zeros((n,n))\n",
    "    for i in range(n):\n",
    "        for j in range(n):\n",
    "            conf_mat[i][j] += len(np.intersect1d(np.nonzero(actual[i]),np.nonzero(prediction[j])))        \n",
    "    return conf_mat"
   ]
  },
  {
   "cell_type": "code",
   "execution_count": 23,
   "metadata": {},
   "outputs": [
    {
     "data": {
      "text/plain": [
       "array([[ 6., 13.,  0.,  0.,  0.,  0.],\n",
       "       [ 7., 16.,  0.,  0.,  0.,  0.],\n",
       "       [ 1.,  0.,  0.,  0.,  0.,  1.],\n",
       "       [ 5.,  0.,  0.,  0.,  0.,  0.],\n",
       "       [ 0.,  0.,  0.,  0.,  0.,  5.],\n",
       "       [ 0.,  0.,  0.,  0.,  0., 10.]])"
      ]
     },
     "execution_count": 23,
     "metadata": {},
     "output_type": "execute_result"
    }
   ],
   "source": [
    "glass_con = confusion_matrix(actual, prediction)\n",
    "glass_con"
   ]
  },
  {
   "cell_type": "markdown",
   "metadata": {},
   "source": [
    "# Wine dataset"
   ]
  },
  {
   "cell_type": "code",
   "execution_count": 24,
   "metadata": {},
   "outputs": [],
   "source": [
    "from sklearn.datasets import load_wine"
   ]
  },
  {
   "cell_type": "code",
   "execution_count": 25,
   "metadata": {},
   "outputs": [],
   "source": [
    "data = load_wine()"
   ]
  },
  {
   "cell_type": "code",
   "execution_count": 26,
   "metadata": {},
   "outputs": [],
   "source": [
    "X = data.data\n",
    "y = data.target"
   ]
  },
  {
   "cell_type": "code",
   "execution_count": 27,
   "metadata": {},
   "outputs": [],
   "source": [
    "wine = pd.DataFrame(X)\n",
    "wine['type'] = y\n",
    "wine = wine.sample(frac=1)"
   ]
  },
  {
   "cell_type": "code",
   "execution_count": 28,
   "metadata": {
    "scrolled": true
   },
   "outputs": [
    {
     "data": {
      "text/html": [
       "<div>\n",
       "<style scoped>\n",
       "    .dataframe tbody tr th:only-of-type {\n",
       "        vertical-align: middle;\n",
       "    }\n",
       "\n",
       "    .dataframe tbody tr th {\n",
       "        vertical-align: top;\n",
       "    }\n",
       "\n",
       "    .dataframe thead th {\n",
       "        text-align: right;\n",
       "    }\n",
       "</style>\n",
       "<table border=\"1\" class=\"dataframe\">\n",
       "  <thead>\n",
       "    <tr style=\"text-align: right;\">\n",
       "      <th></th>\n",
       "      <th>0</th>\n",
       "      <th>1</th>\n",
       "      <th>2</th>\n",
       "      <th>3</th>\n",
       "      <th>4</th>\n",
       "      <th>5</th>\n",
       "      <th>6</th>\n",
       "      <th>7</th>\n",
       "      <th>8</th>\n",
       "      <th>9</th>\n",
       "      <th>10</th>\n",
       "      <th>11</th>\n",
       "      <th>12</th>\n",
       "      <th>type</th>\n",
       "    </tr>\n",
       "  </thead>\n",
       "  <tbody>\n",
       "    <tr>\n",
       "      <th>97</th>\n",
       "      <td>12.29</td>\n",
       "      <td>1.41</td>\n",
       "      <td>1.98</td>\n",
       "      <td>16.0</td>\n",
       "      <td>85.0</td>\n",
       "      <td>2.55</td>\n",
       "      <td>2.50</td>\n",
       "      <td>0.29</td>\n",
       "      <td>1.77</td>\n",
       "      <td>2.90</td>\n",
       "      <td>1.23</td>\n",
       "      <td>2.74</td>\n",
       "      <td>428.0</td>\n",
       "      <td>1</td>\n",
       "    </tr>\n",
       "    <tr>\n",
       "      <th>56</th>\n",
       "      <td>14.22</td>\n",
       "      <td>1.70</td>\n",
       "      <td>2.30</td>\n",
       "      <td>16.3</td>\n",
       "      <td>118.0</td>\n",
       "      <td>3.20</td>\n",
       "      <td>3.00</td>\n",
       "      <td>0.26</td>\n",
       "      <td>2.03</td>\n",
       "      <td>6.38</td>\n",
       "      <td>0.94</td>\n",
       "      <td>3.31</td>\n",
       "      <td>970.0</td>\n",
       "      <td>0</td>\n",
       "    </tr>\n",
       "    <tr>\n",
       "      <th>59</th>\n",
       "      <td>12.37</td>\n",
       "      <td>0.94</td>\n",
       "      <td>1.36</td>\n",
       "      <td>10.6</td>\n",
       "      <td>88.0</td>\n",
       "      <td>1.98</td>\n",
       "      <td>0.57</td>\n",
       "      <td>0.28</td>\n",
       "      <td>0.42</td>\n",
       "      <td>1.95</td>\n",
       "      <td>1.05</td>\n",
       "      <td>1.82</td>\n",
       "      <td>520.0</td>\n",
       "      <td>1</td>\n",
       "    </tr>\n",
       "    <tr>\n",
       "      <th>81</th>\n",
       "      <td>12.72</td>\n",
       "      <td>1.81</td>\n",
       "      <td>2.20</td>\n",
       "      <td>18.8</td>\n",
       "      <td>86.0</td>\n",
       "      <td>2.20</td>\n",
       "      <td>2.53</td>\n",
       "      <td>0.26</td>\n",
       "      <td>1.77</td>\n",
       "      <td>3.90</td>\n",
       "      <td>1.16</td>\n",
       "      <td>3.14</td>\n",
       "      <td>714.0</td>\n",
       "      <td>1</td>\n",
       "    </tr>\n",
       "    <tr>\n",
       "      <th>130</th>\n",
       "      <td>12.86</td>\n",
       "      <td>1.35</td>\n",
       "      <td>2.32</td>\n",
       "      <td>18.0</td>\n",
       "      <td>122.0</td>\n",
       "      <td>1.51</td>\n",
       "      <td>1.25</td>\n",
       "      <td>0.21</td>\n",
       "      <td>0.94</td>\n",
       "      <td>4.10</td>\n",
       "      <td>0.76</td>\n",
       "      <td>1.29</td>\n",
       "      <td>630.0</td>\n",
       "      <td>2</td>\n",
       "    </tr>\n",
       "  </tbody>\n",
       "</table>\n",
       "</div>"
      ],
      "text/plain": [
       "         0     1     2     3      4     5     6     7     8     9    10    11  \\\n",
       "97   12.29  1.41  1.98  16.0   85.0  2.55  2.50  0.29  1.77  2.90  1.23  2.74   \n",
       "56   14.22  1.70  2.30  16.3  118.0  3.20  3.00  0.26  2.03  6.38  0.94  3.31   \n",
       "59   12.37  0.94  1.36  10.6   88.0  1.98  0.57  0.28  0.42  1.95  1.05  1.82   \n",
       "81   12.72  1.81  2.20  18.8   86.0  2.20  2.53  0.26  1.77  3.90  1.16  3.14   \n",
       "130  12.86  1.35  2.32  18.0  122.0  1.51  1.25  0.21  0.94  4.10  0.76  1.29   \n",
       "\n",
       "        12  type  \n",
       "97   428.0     1  \n",
       "56   970.0     0  \n",
       "59   520.0     1  \n",
       "81   714.0     1  \n",
       "130  630.0     2  "
      ]
     },
     "execution_count": 28,
     "metadata": {},
     "output_type": "execute_result"
    }
   ],
   "source": [
    "wine.head()"
   ]
  },
  {
   "cell_type": "markdown",
   "metadata": {},
   "source": [
    "### dimension reduction with PCA"
   ]
  },
  {
   "cell_type": "code",
   "execution_count": 29,
   "metadata": {},
   "outputs": [],
   "source": [
    "from sklearn.decomposition import PCA\n",
    "pca2 = PCA(n_components=2)"
   ]
  },
  {
   "cell_type": "code",
   "execution_count": 30,
   "metadata": {},
   "outputs": [
    {
     "data": {
      "text/plain": [
       "PCA(copy=True, iterated_power='auto', n_components=2, random_state=None,\n",
       "    svd_solver='auto', tol=0.0, whiten=False)"
      ]
     },
     "execution_count": 30,
     "metadata": {},
     "output_type": "execute_result"
    }
   ],
   "source": [
    "pca2.fit(wine.iloc[:,0:13])"
   ]
  },
  {
   "cell_type": "code",
   "execution_count": 31,
   "metadata": {},
   "outputs": [
    {
     "data": {
      "text/plain": [
       "0.9998271461166032"
      ]
     },
     "execution_count": 31,
     "metadata": {},
     "output_type": "execute_result"
    }
   ],
   "source": [
    "pca2.explained_variance_ratio_.sum()"
   ]
  },
  {
   "cell_type": "code",
   "execution_count": 32,
   "metadata": {},
   "outputs": [],
   "source": [
    "X1 = pca2.fit_transform(wine.iloc[:,0:13])[:,0]\n",
    "X2 = pca2.fit_transform(wine.iloc[:,0:13])[:,1]                       \n",
    "wine2 = pd.DataFrame({'X1':X1,'X2':X2,'class':wine.iloc[:,-1]})"
   ]
  },
  {
   "cell_type": "code",
   "execution_count": 33,
   "metadata": {},
   "outputs": [
    {
     "data": {
      "text/plain": [
       "1    71\n",
       "0    59\n",
       "2    48\n",
       "Name: class, dtype: int64"
      ]
     },
     "execution_count": 33,
     "metadata": {},
     "output_type": "execute_result"
    }
   ],
   "source": [
    "wine2['class'].value_counts()"
   ]
  },
  {
   "cell_type": "code",
   "execution_count": 34,
   "metadata": {},
   "outputs": [
    {
     "data": {
      "image/png": "[encoded data removed]",
      "text/plain": [
       "<Figure size 432x288 with 1 Axes>"
      ]
     },
     "metadata": {
      "needs_background": "light"
     },
     "output_type": "display_data"
    }
   ],
   "source": [
    "plt.scatter(wine2['X1'], wine2['X2'], c=wine2['class'])\n",
    "plt.show()"
   ]
  },
  {
   "cell_type": "code",
   "execution_count": 35,
   "metadata": {
    "scrolled": false
   },
   "outputs": [
    {
     "name": "stdout",
     "output_type": "stream",
     "text": [
      "epoch : 0  loss : 0.8113730768886772\n",
      "epoch : 20  loss : 0.8909897351844835\n",
      "epoch : 40  loss : 0.8077517078345119\n",
      "epoch : 60  loss : 0.7360473158176558\n",
      "epoch : 80  loss : 0.6491199176104304\n",
      "epoch : 100  loss : 0.5585284689709566\n",
      "epoch : 120  loss : 0.4867653239808993\n",
      "epoch : 140  loss : 0.4424551229968402\n",
      "epoch : 160  loss : 0.42235582827187645\n",
      "epoch : 180  loss : 0.41655575665393074\n",
      "epoch : 200  loss : 0.41495635086412985\n",
      "epoch : 220  loss : 0.41398381077003904\n",
      "epoch : 240  loss : 0.41319577834650884\n",
      "epoch : 260  loss : 0.4125423447754751\n",
      "epoch : 280  loss : 0.41199708655607076\n",
      "epoch : 300  loss : 0.41153973780916636\n",
      "epoch : 320  loss : 0.4111543990257564\n",
      "epoch : 340  loss : 0.4108284496013392\n",
      "epoch : 360  loss : 0.41055177206946325\n",
      "epoch : 380  loss : 0.4103161861498518\n",
      "epoch : 400  loss : 0.41011502840232794\n",
      "epoch : 420  loss : 0.40994283520106206\n",
      "epoch : 440  loss : 0.409795100446869\n",
      "epoch : 460  loss : 0.40966808824927914\n",
      "epoch : 480  loss : 0.4095586866281432\n",
      "epoch : 500  loss : 0.40946429221537917\n",
      "epoch : 520  loss : 0.409382718648802\n",
      "epoch : 540  loss : 0.40931212325466715\n",
      "epoch : 560  loss : 0.4092509479753927\n",
      "epoch : 580  loss : 0.40919787148375847\n",
      "epoch : 600  loss : 0.4091517701472663\n",
      "epoch : 620  loss : 0.4091116860423186\n",
      "epoch : 640  loss : 0.40907680061963553\n",
      "epoch : 660  loss : 0.4090464129263381\n",
      "epoch : 680  loss : 0.40901992152214217\n",
      "epoch : 700  loss : 0.40899680940557476\n",
      "epoch : 720  loss : 0.40897663140443\n",
      "epoch : 740  loss : 0.40895900359257914\n",
      "epoch : 760  loss : 0.4089435943799761\n",
      "epoch : 780  loss : 0.40893011698962056\n",
      "epoch : 800  loss : 0.4089183230884115\n",
      "epoch : 820  loss : 0.4089079973812745\n",
      "epoch : 840  loss : 0.4088989530120328\n",
      "epoch : 860  loss : 0.4088910276419674\n",
      "epoch : 880  loss : 0.40888408009928695\n",
      "epoch : 900  loss : 0.40887798751083454\n",
      "epoch : 920  loss : 0.4088726428421646\n",
      "epoch : 940  loss : 0.4088679527842562\n",
      "epoch : 960  loss : 0.40886383593511877\n",
      "epoch : 980  loss : 0.40886022123280363\n",
      "epoch : 1000  loss : 0.4088570466031638\n",
      "epoch : 1020  loss : 0.4088542577914017\n",
      "epoch : 1040  loss : 0.4088518073511769\n",
      "epoch : 1060  loss : 0.4088496537690172\n",
      "epoch : 1080  loss : 0.40884776070510015\n",
      "epoch : 1100  loss : 0.40884609633426655\n",
      "epoch : 1120  loss : 0.40884463277348954\n",
      "epoch : 1140  loss : 0.4088433455840084\n",
      "epoch : 1160  loss : 0.40884221333802595\n",
      "epoch : 1180  loss : 0.40884121724129935\n",
      "epoch : 1200  loss : 0.408840340804172\n",
      "epoch : 1220  loss : 0.4088395695546257\n",
      "epoch : 1240  loss : 0.4088388907878276\n",
      "epoch : 1260  loss : 0.4088382933473911\n",
      "epoch : 1280  loss : 0.4088377674342283\n",
      "epoch : 1300  loss : 0.40883730443942307\n",
      "epoch : 1320  loss : 0.40883689679802965\n",
      "epoch : 1340  loss : 0.4088365378611191\n",
      "epoch : 1360  loss : 0.40883622178374396\n",
      "epoch : 1380  loss : 0.40883594342679974\n",
      "epoch : 1400  loss : 0.40883569827102634\n",
      "epoch : 1420  loss : 0.408835482341619\n",
      "epoch : 1440  loss : 0.40883529214211806\n",
      "epoch : 1460  loss : 0.4088351245964149\n",
      "epoch : 1480  loss : 0.40883497699786403\n",
      "epoch : 1500  loss : 0.40883484696461575\n",
      "epoch : 1520  loss : 0.40883473240039975\n",
      "epoch : 1540  loss : 0.40883463146008636\n",
      "epoch : 1560  loss : 0.4088345425194333\n",
      "epoch : 1580  loss : 0.40883446414850677\n",
      "epoch : 1600  loss : 0.4088343950883234\n",
      "epoch : 1620  loss : 0.4088343342303199\n",
      "epoch : 1640  loss : 0.40883428059830357\n",
      "epoch : 1660  loss : 0.408834233332583\n",
      "epoch : 1680  loss : 0.4088341916760107\n",
      "epoch : 1700  loss : 0.40883415496170844\n",
      "epoch : 1720  loss : 0.4088341226022686\n",
      "epoch : 1740  loss : 0.4088340940802532\n",
      "epoch : 1760  loss : 0.40883406893983465\n",
      "epoch : 1780  loss : 0.4088340467794389\n",
      "epoch : 1800  loss : 0.4088340272452712\n",
      "epoch : 1820  loss : 0.40883401002561603\n",
      "epoch : 1840  loss : 0.4088339948458213\n",
      "epoch : 1860  loss : 0.40883398146388084\n",
      "epoch : 1880  loss : 0.4088339696665459\n",
      "epoch : 1900  loss : 0.40883395926590094\n",
      "epoch : 1920  loss : 0.4088339500963482\n",
      "epoch : 1940  loss : 0.40883394201195267\n",
      "epoch : 1960  loss : 0.4088339348841027\n",
      "epoch : 1980  loss : 0.4088339285994507\n",
      "epoch : 2000  loss : 0.4088339230580982\n",
      "epoch : 2020  loss : 0.4088339181719983\n",
      "epoch : 2040  loss : 0.4088339138635467\n",
      "epoch : 2060  loss : 0.40883391006434233\n",
      "epoch : 2080  loss : 0.4088339067140938\n",
      "epoch : 2100  loss : 0.40883390375965695\n",
      "epoch : 2120  loss : 0.40883390115418644\n",
      "epoch : 2140  loss : 0.40883389885638827\n",
      "epoch : 2160  loss : 0.40883389682986127\n",
      "epoch : 2180  loss : 0.4088338950425166\n",
      "epoch : 2200  loss : 0.40883389346606613\n",
      "epoch : 2220  loss : 0.4088338920755721\n",
      "epoch : 2240  loss : 0.40883389084904936\n",
      "epoch : 2260  loss : 0.4088338897671161\n",
      "epoch : 2280  loss : 0.40883388881268456\n",
      "epoch : 2300  loss : 0.4088338879706895\n",
      "epoch : 2320  loss : 0.408833887227849\n",
      "epoch : 2340  loss : 0.408833886572452\n",
      "epoch : 2360  loss : 0.4088338859941735\n",
      "epoch : 2380  loss : 0.4088338854839094\n",
      "epoch : 2400  loss : 0.40883388503363277\n",
      "epoch : 2420  loss : 0.4088338846362656\n",
      "epoch : 2440  loss : 0.4088338842855666\n",
      "epoch : 2460  loss : 0.4088338839760326\n",
      "epoch : 2480  loss : 0.40883388370281076\n",
      "epoch : 2500  loss : 0.4088338834616214\n",
      "epoch : 2520  loss : 0.4088338832486908\n",
      "epoch : 2540  loss : 0.4088338830606911\n",
      "epoch : 2560  loss : 0.4088338828946871\n",
      "epoch : 2580  loss : 0.4088338827480902\n",
      "epoch : 2600  loss : 0.40883388261861786\n",
      "epoch : 2620  loss : 0.40883388250425634\n",
      "epoch : 2640  loss : 0.40883388240322976\n",
      "epoch : 2660  loss : 0.408833882313972\n",
      "epoch : 2680  loss : 0.408833882235101\n",
      "epoch : 2700  loss : 0.4088338821653981\n",
      "epoch : 2720  loss : 0.40883388210378824\n",
      "epoch : 2740  loss : 0.4088338820493227\n",
      "epoch : 2760  loss : 0.40883388200116505\n",
      "epoch : 2780  loss : 0.4088338819585769\n",
      "epoch : 2800  loss : 0.40883388192090697\n",
      "epoch : 2820  loss : 0.40883388188758035\n",
      "epoch : 2840  loss : 0.40883388185808994\n",
      "epoch : 2860  loss : 0.40883388183198865\n",
      "epoch : 2880  loss : 0.4088338818088809\n",
      "epoch : 2900  loss : 0.4088338817884186\n",
      "epoch : 2920  loss : 0.4088338817702938\n",
      "epoch : 2940  loss : 0.4088338817542352\n",
      "epoch : 2960  loss : 0.40883388174000274\n",
      "epoch : 2980  loss : 0.40883388172738505\n",
      "epoch : 3000  loss : 0.40883388171619506\n",
      "epoch : 0  loss : 0.6434716188438702\n",
      "epoch : 20  loss : 0.557267279967228\n",
      "epoch : 40  loss : 0.37400607319605067\n",
      "epoch : 60  loss : 0.2866212953999336\n",
      "epoch : 80  loss : 0.26376129400117376\n",
      "epoch : 100  loss : 0.24833185817603634\n",
      "epoch : 120  loss : 0.2369927174185061\n",
      "epoch : 140  loss : 0.22827318803487656\n",
      "epoch : 160  loss : 0.22134259974295606\n",
      "epoch : 180  loss : 0.2156944303408245\n",
      "epoch : 200  loss : 0.2110006284396879\n",
      "epoch : 220  loss : 0.20703832599246522\n",
      "epoch : 240  loss : 0.20365018567481655\n",
      "epoch : 260  loss : 0.20072160142979165\n",
      "epoch : 280  loss : 0.19816690379716656\n",
      "epoch : 300  loss : 0.19592064736653722\n",
      "epoch : 320  loss : 0.19393190401763008\n",
      "epoch : 340  loss : 0.19216040692130934\n",
      "epoch : 360  loss : 0.19057387442400486\n",
      "epoch : 380  loss : 0.18914610917759478\n",
      "epoch : 400  loss : 0.18785562025823777\n",
      "epoch : 420  loss : 0.1866846063711111\n",
      "epoch : 440  loss : 0.18561819351951758\n",
      "epoch : 460  loss : 0.1846438552981475\n",
      "epoch : 480  loss : 0.1837509664068384\n",
      "epoch : 500  loss : 0.1829304547823096\n",
      "epoch : 520  loss : 0.1821745277085012\n",
      "epoch : 540  loss : 0.18147645409615412\n",
      "epoch : 560  loss : 0.18083038988258968\n",
      "epoch : 580  loss : 0.18023123687091058\n",
      "epoch : 600  loss : 0.17967452774423343\n",
      "epoch : 620  loss : 0.17915633174619333\n",
      "epoch : 640  loss : 0.1786731768094897\n",
      "epoch : 660  loss : 0.1782219848731798\n",
      "epoch : 680  loss : 0.17780001784914085\n",
      "epoch : 700  loss : 0.17740483224334813\n",
      "epoch : 720  loss : 0.1770342408542607\n",
      "epoch : 740  loss : 0.17668628029159347\n",
      "epoch : 760  loss : 0.1763591833079386\n",
      "epoch : 780  loss : 0.17605135513053616\n",
      "epoch : 800  loss : 0.17576135313386526\n",
      "epoch : 820  loss : 0.1754878693152364\n",
      "epoch : 840  loss : 0.17522971513240942\n",
      "epoch : 860  loss : 0.17498580833989064\n",
      "epoch : 880  loss : 0.1747551615231311\n",
      "epoch : 900  loss : 0.17453687208053312\n",
      "epoch : 920  loss : 0.17433011344443775\n",
      "epoch : 940  loss : 0.17413412736601697\n",
      "epoch : 960  loss : 0.17394821711672545\n",
      "epoch : 980  loss : 0.1737717414818469\n",
      "epoch : 1000  loss : 0.17360410944062557\n",
      "epoch : 1020  loss : 0.17344477544323986\n",
      "epoch : 1040  loss : 0.1732932352080394\n",
      "epoch : 1060  loss : 0.17314902197349236\n",
      "epoch : 1080  loss : 0.17301170314856393\n",
      "epoch : 1100  loss : 0.17288087731306823\n",
      "epoch : 1120  loss : 0.17275617152615466\n",
      "epoch : 1140  loss : 0.1726372389067074\n",
      "epoch : 1160  loss : 0.17252375645422174\n",
      "epoch : 1180  loss : 0.17241542308280441\n",
      "epoch : 1200  loss : 0.17231195784444026\n",
      "epoch : 1220  loss : 0.17221309832067175\n",
      "epoch : 1240  loss : 0.17211859916441913\n",
      "epoch : 1260  loss : 0.17202823077589782\n",
      "epoch : 1280  loss : 0.17194177809851885\n",
      "epoch : 1300  loss : 0.17185903952232684\n",
      "epoch : 1320  loss : 0.1717798258839828\n",
      "epoch : 1340  loss : 0.17170395955356335\n",
      "epoch : 1360  loss : 0.17163127359954938\n",
      "epoch : 1380  loss : 0.17156161102434284\n",
      "epoch : 1400  loss : 0.17149482406349403\n",
      "epoch : 1420  loss : 0.17143077354256328\n",
      "epoch : 1440  loss : 0.1713693282861936\n",
      "epoch : 1460  loss : 0.17131036457454413\n",
      "epoch : 1480  loss : 0.1712537656427418\n",
      "epoch : 1500  loss : 0.1711994212194566\n",
      "epoch : 1520  loss : 0.17114722710110297\n",
      "epoch : 1540  loss : 0.17109708475852017\n",
      "epoch : 1560  loss : 0.17104890097329986\n",
      "epoch : 1580  loss : 0.17100258750120395\n",
      "epoch : 1600  loss : 0.17095806076036787\n",
      "epoch : 1620  loss : 0.17091524154219961\n",
      "epoch : 1640  loss : 0.17087405474308973\n",
      "epoch : 1660  loss : 0.17083442911521687\n",
      "epoch : 1680  loss : 0.17079629703489943\n",
      "epoch : 1700  loss : 0.17075959428707804\n",
      "epoch : 1720  loss : 0.17072425986464962\n",
      "epoch : 1740  loss : 0.17069023578148074\n",
      "epoch : 1760  loss : 0.1706574668980382\n",
      "epoch : 1780  loss : 0.17062590075866327\n",
      "epoch : 1800  loss : 0.1705954874396027\n",
      "epoch : 1820  loss : 0.17056617940698496\n",
      "epoch : 1840  loss : 0.1705379313839994\n",
      "epoch : 1860  loss : 0.17051070022659734\n",
      "epoch : 1880  loss : 0.17048444480709282\n",
      "epoch : 1900  loss : 0.17045912590508888\n"
     ]
    },
    {
     "name": "stdout",
     "output_type": "stream",
     "text": [
      "epoch : 1920  loss : 0.17043470610520553\n",
      "epoch : 1940  loss : 0.17041114970112473\n",
      "epoch : 1960  loss : 0.17038842260550877\n",
      "epoch : 1980  loss : 0.17036649226538175\n",
      "epoch : 2000  loss : 0.17034532758259763\n",
      "epoch : 2020  loss : 0.17032489883904559\n",
      "epoch : 2040  loss : 0.17030517762627334\n",
      "epoch : 2060  loss : 0.17028613677922974\n",
      "epoch : 2080  loss : 0.17026775031385294\n",
      "epoch : 2100  loss : 0.17024999336825064\n",
      "epoch : 2120  loss : 0.17023284214723752\n",
      "epoch : 2140  loss : 0.17021627387001104\n",
      "epoch : 2160  loss : 0.17020026672076466\n",
      "epoch : 2180  loss : 0.17018479980205145\n",
      "epoch : 2200  loss : 0.17016985309072305\n",
      "epoch : 2220  loss : 0.1701554073962839\n",
      "epoch : 2240  loss : 0.17014144432150893\n",
      "epoch : 2260  loss : 0.17012794622518704\n",
      "epoch : 2280  loss : 0.17011489618685852\n",
      "epoch : 2300  loss : 0.17010227797342628\n",
      "epoch : 2320  loss : 0.17009007600752818\n",
      "epoch : 2340  loss : 0.1700782753375647\n",
      "epoch : 2360  loss : 0.17006686160928408\n",
      "epoch : 2380  loss : 0.17005582103883368\n",
      "epoch : 2400  loss : 0.17004514038719118\n",
      "epoch : 2420  loss : 0.17003480693589643\n",
      "epoch : 2440  loss : 0.1700248084640085\n",
      "epoch : 2460  loss : 0.17001513322621892\n",
      "epoch : 2480  loss : 0.170005769932054\n",
      "epoch : 2500  loss : 0.1699967077261072\n",
      "epoch : 2520  loss : 0.16998793616924165\n",
      "epoch : 2540  loss : 0.16997944522071132\n",
      "epoch : 2560  loss : 0.1699712252211474\n",
      "epoch : 2580  loss : 0.16996326687636654\n",
      "epoch : 2600  loss : 0.16995556124195188\n",
      "epoch : 2620  loss : 0.16994809970856883\n",
      "epoch : 2640  loss : 0.1699408739879744\n",
      "epoch : 2660  loss : 0.16993387609968313\n",
      "epoch : 2680  loss : 0.16992709835825628\n",
      "epoch : 2700  loss : 0.1699205333611794\n",
      "epoch : 2720  loss : 0.16991417397730035\n",
      "epoch : 2740  loss : 0.16990801333579594\n",
      "epoch : 2760  loss : 0.16990204481564217\n",
      "epoch : 2780  loss : 0.16989626203556066\n",
      "epoch : 2800  loss : 0.16989065884441856\n",
      "epoch : 2820  loss : 0.16988522931205768\n",
      "epoch : 2840  loss : 0.16987996772053224\n",
      "epoch : 2860  loss : 0.16987486855573458\n",
      "epoch : 2880  loss : 0.16986992649938912\n",
      "epoch : 2900  loss : 0.16986513642139736\n",
      "epoch : 2920  loss : 0.16986049337251588\n",
      "epoch : 2940  loss : 0.16985599257735143\n",
      "epoch : 2960  loss : 0.16985162942765816\n",
      "epoch : 2980  loss : 0.16984739947592128\n",
      "epoch : 3000  loss : 0.16984329842921536\n",
      "epoch : 0  loss : 0.9507131112241645\n",
      "epoch : 20  loss : 0.6915668742909332\n",
      "epoch : 40  loss : 0.6597836815909089\n",
      "epoch : 60  loss : 0.637529214862634\n",
      "epoch : 80  loss : 0.6246693466889365\n",
      "epoch : 100  loss : 0.6170841848543871\n",
      "epoch : 120  loss : 0.6123888766420204\n",
      "epoch : 140  loss : 0.6093272090099693\n",
      "epoch : 160  loss : 0.6072351140453274\n",
      "epoch : 180  loss : 0.6057496117557225\n",
      "epoch : 200  loss : 0.6046631002824956\n",
      "epoch : 220  loss : 0.6038507633987799\n",
      "epoch : 240  loss : 0.6032337044803645\n",
      "epoch : 260  loss : 0.6027596690430886\n",
      "epoch : 280  loss : 0.6023926062085344\n",
      "epoch : 300  loss : 0.6021067908642097\n",
      "epoch : 320  loss : 0.6018833710067771\n",
      "epoch : 340  loss : 0.6017082485449833\n",
      "epoch : 360  loss : 0.6015707206648381\n",
      "epoch : 380  loss : 0.6014625724304049\n",
      "epoch : 400  loss : 0.6013774483051282\n",
      "epoch : 420  loss : 0.6013104032664539\n",
      "epoch : 440  loss : 0.6012575741137833\n",
      "epoch : 460  loss : 0.6012159340567667\n",
      "epoch : 480  loss : 0.601183106746016\n",
      "epoch : 500  loss : 0.6011572237770322\n",
      "epoch : 520  loss : 0.6011368146073834\n",
      "epoch : 540  loss : 0.60112072100328\n",
      "epoch : 560  loss : 0.601108030259524\n",
      "epoch : 580  loss : 0.6010980229087731\n",
      "epoch : 600  loss : 0.6010901316833255\n",
      "epoch : 620  loss : 0.6010839092555847\n",
      "epoch : 640  loss : 0.6010790028499879\n",
      "epoch : 660  loss : 0.6010751342464811\n",
      "epoch : 680  loss : 0.6010720840216766\n",
      "epoch : 700  loss : 0.6010696791248882\n",
      "epoch : 720  loss : 0.6010677830808558\n",
      "epoch : 740  loss : 0.601066288262612\n",
      "epoch : 760  loss : 0.6010651097965397\n",
      "epoch : 780  loss : 0.6010641807546582\n",
      "epoch : 800  loss : 0.601063448362258\n",
      "epoch : 820  loss : 0.6010628710065018\n",
      "epoch : 840  loss : 0.6010624158768938\n",
      "epoch : 860  loss : 0.6010620571042333\n",
      "epoch : 880  loss : 0.6010617742928034\n",
      "epoch : 900  loss : 0.6010615513627643\n",
      "epoch : 920  loss : 0.6010613756372405\n",
      "epoch : 940  loss : 0.6010612371224106\n",
      "epoch : 960  loss : 0.6010611279398242\n",
      "epoch : 980  loss : 0.6010610418787785\n",
      "epoch : 1000  loss : 0.6010609740433757\n",
      "epoch : 1020  loss : 0.6010609205742449\n",
      "epoch : 1040  loss : 0.601060878429144\n",
      "epoch : 1060  loss : 0.6010608452099846\n",
      "epoch : 1080  loss : 0.6010608190264658\n",
      "epoch : 1100  loss : 0.601060798388568\n",
      "epoch : 1120  loss : 0.6010607821218031\n",
      "epoch : 1140  loss : 0.6010607693004038\n",
      "epoch : 1160  loss : 0.6010607591946594\n",
      "epoch : 1180  loss : 0.6010607512293988\n",
      "epoch : 1200  loss : 0.6010607449512645\n",
      "epoch : 1220  loss : 0.6010607400029155\n",
      "epoch : 1240  loss : 0.6010607361026947\n",
      "epoch : 1260  loss : 0.6010607330285995\n",
      "epoch : 1280  loss : 0.6010607306056477\n",
      "epoch : 1300  loss : 0.6010607286959184\n",
      "epoch : 1320  loss : 0.6010607271907049\n",
      "epoch : 1340  loss : 0.6010607260043241\n",
      "epoch : 1360  loss : 0.6010607250692421\n",
      "epoch : 1380  loss : 0.6010607243322297\n",
      "epoch : 1400  loss : 0.6010607237513318\n",
      "epoch : 1420  loss : 0.6010607232934807\n",
      "epoch : 1440  loss : 0.6010607229326123\n",
      "epoch : 1460  loss : 0.6010607226481839\n",
      "epoch : 1480  loss : 0.601060722424004\n",
      "epoch : 1500  loss : 0.6010607222473101\n",
      "epoch : 1520  loss : 0.6010607221080444\n",
      "epoch : 1540  loss : 0.6010607219982786\n",
      "epoch : 1560  loss : 0.6010607219117636\n",
      "epoch : 1580  loss : 0.6010607218435745\n",
      "epoch : 1600  loss : 0.6010607217898296\n",
      "epoch : 1620  loss : 0.601060721747469\n",
      "epoch : 1640  loss : 0.6010607217140815\n",
      "epoch : 1660  loss : 0.6010607216877663\n",
      "epoch : 1680  loss : 0.6010607216670252\n",
      "epoch : 1700  loss : 0.6010607216506776\n",
      "epoch : 1720  loss : 0.601060721637793\n",
      "epoch : 1740  loss : 0.6010607216276375\n",
      "epoch : 1760  loss : 0.6010607216196331\n",
      "epoch : 1780  loss : 0.6010607216133244\n",
      "epoch : 1800  loss : 0.601060721608352\n",
      "epoch : 1820  loss : 0.601060721604433\n",
      "epoch : 1840  loss : 0.6010607216013438\n",
      "epoch : 1860  loss : 0.6010607215989093\n",
      "epoch : 1880  loss : 0.6010607215969903\n",
      "epoch : 1900  loss : 0.601060721595478\n",
      "epoch : 1920  loss : 0.6010607215942857\n",
      "epoch : 1940  loss : 0.6010607215933463\n",
      "epoch : 1960  loss : 0.6010607215926059\n",
      "epoch : 1980  loss : 0.6010607215920221\n",
      "epoch : 2000  loss : 0.601060721591562\n",
      "epoch : 2020  loss : 0.6010607215911994\n",
      "epoch : 2040  loss : 0.6010607215909135\n",
      "epoch : 2060  loss : 0.6010607215906886\n",
      "epoch : 2080  loss : 0.6010607215905109\n",
      "epoch : 2100  loss : 0.6010607215903709\n",
      "epoch : 2120  loss : 0.6010607215902607\n",
      "epoch : 2140  loss : 0.6010607215901737\n",
      "epoch : 2160  loss : 0.6010607215901054\n",
      "epoch : 2180  loss : 0.6010607215900512\n",
      "epoch : 2200  loss : 0.6010607215900087\n",
      "epoch : 2220  loss : 0.6010607215899751\n",
      "epoch : 2240  loss : 0.6010607215899487\n",
      "epoch : 2260  loss : 0.6010607215899277\n",
      "epoch : 2280  loss : 0.6010607215899115\n",
      "epoch : 2300  loss : 0.6010607215898984\n",
      "epoch : 2320  loss : 0.6010607215898882\n",
      "epoch : 2340  loss : 0.6010607215898802\n",
      "epoch : 2360  loss : 0.6010607215898738\n",
      "epoch : 2380  loss : 0.6010607215898689\n",
      "epoch : 2400  loss : 0.6010607215898649\n",
      "epoch : 2420  loss : 0.6010607215898619\n",
      "epoch : 2440  loss : 0.6010607215898595\n",
      "epoch : 2460  loss : 0.6010607215898575\n",
      "epoch : 2480  loss : 0.6010607215898559\n",
      "epoch : 2500  loss : 0.6010607215898549\n",
      "epoch : 2520  loss : 0.6010607215898538\n",
      "epoch : 2540  loss : 0.6010607215898534\n",
      "epoch : 2560  loss : 0.6010607215898527\n",
      "epoch : 2580  loss : 0.6010607215898519\n",
      "epoch : 2600  loss : 0.6010607215898516\n",
      "epoch : 2620  loss : 0.6010607215898514\n",
      "epoch : 2640  loss : 0.601060721589851\n",
      "epoch : 2660  loss : 0.601060721589851\n",
      "epoch : 2680  loss : 0.6010607215898509\n",
      "epoch : 2700  loss : 0.6010607215898508\n",
      "epoch : 2720  loss : 0.6010607215898506\n",
      "epoch : 2740  loss : 0.6010607215898506\n",
      "epoch : 2760  loss : 0.6010607215898506\n",
      "epoch : 2780  loss : 0.6010607215898506\n",
      "epoch : 2800  loss : 0.6010607215898506\n",
      "epoch : 2820  loss : 0.6010607215898505\n",
      "epoch : 2840  loss : 0.6010607215898505\n",
      "epoch : 2860  loss : 0.6010607215898502\n",
      "epoch : 2880  loss : 0.6010607215898502\n",
      "epoch : 2900  loss : 0.6010607215898502\n",
      "epoch : 2920  loss : 0.6010607215898502\n",
      "epoch : 2940  loss : 0.6010607215898502\n",
      "epoch : 2960  loss : 0.6010607215898502\n",
      "epoch : 2980  loss : 0.6010607215898502\n",
      "epoch : 3000  loss : 0.6010607215898502\n"
     ]
    }
   ],
   "source": [
    "prediction2,actual2 = OVR(wine2,0.3,3000,0.1)"
   ]
  },
  {
   "cell_type": "code",
   "execution_count": 42,
   "metadata": {},
   "outputs": [
    {
     "data": {
      "text/plain": [
       "array([[1, 1, 0, 0, 0, 0, 1, 0, 0, 1, 1, 0, 0, 0, 1, 1, 1, 0, 0, 1, 0, 0,\n",
       "        1, 0, 0, 1, 0, 1, 1, 1, 1, 1, 0, 0, 1, 0, 0, 0, 0, 0, 0, 0, 0, 1,\n",
       "        0, 0, 1, 0, 1, 0, 1, 0, 0],\n",
       "       [0, 0, 0, 1, 1, 1, 0, 1, 1, 0, 0, 1, 0, 1, 0, 0, 0, 1, 0, 0, 1, 0,\n",
       "        0, 0, 0, 0, 1, 0, 0, 0, 0, 0, 0, 0, 0, 0, 0, 1, 1, 1, 1, 0, 0, 0,\n",
       "        0, 1, 0, 0, 0, 0, 0, 1, 0],\n",
       "       [0, 0, 1, 0, 0, 0, 0, 0, 0, 0, 0, 0, 1, 0, 0, 0, 0, 0, 1, 0, 0, 1,\n",
       "        0, 1, 1, 0, 0, 0, 0, 0, 0, 0, 1, 1, 0, 1, 1, 0, 0, 0, 0, 1, 1, 0,\n",
       "        1, 0, 0, 1, 0, 1, 0, 0, 1]])"
      ]
     },
     "execution_count": 42,
     "metadata": {},
     "output_type": "execute_result"
    }
   ],
   "source": [
    "actual2"
   ]
  },
  {
   "cell_type": "code",
   "execution_count": 43,
   "metadata": {},
   "outputs": [
    {
     "data": {
      "text/plain": [
       "array([[1, 1, 1, 0, 0, 0, 1, 0, 0, 0, 1, 0, 1, 0, 1, 1, 1, 0, 1, 1, 0, 1,\n",
       "        1, 1, 1, 1, 0, 1, 1, 1, 1, 1, 1, 1, 1, 1, 1, 0, 1, 0, 0, 1, 1, 1,\n",
       "        1, 0, 1, 1, 1, 1, 1, 0, 1],\n",
       "       [0, 0, 0, 1, 1, 1, 0, 1, 1, 1, 0, 1, 0, 1, 0, 0, 0, 1, 0, 0, 1, 0,\n",
       "        0, 0, 0, 0, 1, 0, 0, 0, 0, 0, 0, 0, 0, 0, 0, 1, 0, 1, 1, 0, 0, 0,\n",
       "        0, 1, 0, 0, 0, 0, 0, 1, 0],\n",
       "       [0, 0, 0, 0, 0, 0, 0, 0, 0, 0, 0, 0, 0, 0, 0, 0, 0, 0, 0, 0, 0, 0,\n",
       "        0, 0, 0, 0, 0, 0, 0, 0, 0, 0, 0, 0, 0, 0, 0, 0, 0, 0, 0, 0, 0, 0,\n",
       "        0, 0, 0, 0, 0, 0, 0, 0, 0]])"
      ]
     },
     "execution_count": 43,
     "metadata": {},
     "output_type": "execute_result"
    }
   ],
   "source": [
    "prediction2"
   ]
  },
  {
   "cell_type": "code",
   "execution_count": 36,
   "metadata": {},
   "outputs": [
    {
     "data": {
      "text/plain": [
       "array([[20.,  1.,  0.],\n",
       "       [ 1., 15.,  0.],\n",
       "       [16.,  0.,  0.]])"
      ]
     },
     "execution_count": 36,
     "metadata": {},
     "output_type": "execute_result"
    }
   ],
   "source": [
    "wine_con = confusion_matrix(actual2, prediction2)\n",
    "wine_con"
   ]
  },
  {
   "cell_type": "code",
   "execution_count": 37,
   "metadata": {},
   "outputs": [
    {
     "data": {
      "text/plain": [
       "array([[1, 1, 0, 0, 0, 0, 1, 0, 0, 1, 1, 0, 0, 0, 1, 1, 1, 0, 0, 1, 0, 0,\n",
       "        1, 0, 0, 1, 0, 1, 1, 1, 1, 1, 0, 0, 1, 0, 0, 0, 0, 0, 0, 0, 0, 1,\n",
       "        0, 0, 1, 0, 1, 0, 1, 0, 0],\n",
       "       [0, 0, 0, 1, 1, 1, 0, 1, 1, 0, 0, 1, 0, 1, 0, 0, 0, 1, 0, 0, 1, 0,\n",
       "        0, 0, 0, 0, 1, 0, 0, 0, 0, 0, 0, 0, 0, 0, 0, 1, 1, 1, 1, 0, 0, 0,\n",
       "        0, 1, 0, 0, 0, 0, 0, 1, 0],\n",
       "       [0, 0, 1, 0, 0, 0, 0, 0, 0, 0, 0, 0, 1, 0, 0, 0, 0, 0, 1, 0, 0, 1,\n",
       "        0, 1, 1, 0, 0, 0, 0, 0, 0, 0, 1, 1, 0, 1, 1, 0, 0, 0, 0, 1, 1, 0,\n",
       "        1, 0, 0, 1, 0, 1, 0, 0, 1]])"
      ]
     },
     "execution_count": 37,
     "metadata": {},
     "output_type": "execute_result"
    }
   ],
   "source": [
    "actual2"
   ]
  },
  {
   "cell_type": "markdown",
   "metadata": {},
   "source": [
    "# Micro F1 & Macro F1"
   ]
  },
  {
   "cell_type": "code",
   "execution_count": 38,
   "metadata": {},
   "outputs": [],
   "source": [
    "def f1_scores(con,score): \n",
    "    # score = 0 : micro / score =1 : macro / score = 2 : weighted macro\n",
    "    \n",
    "    # (1) Micro F1\n",
    "    if score==0: \n",
    "        return np.diag(con).sum()/con.sum()\n",
    "    rec,pre,f1 = [],[],[]\n",
    "    \n",
    "    for i in range(con.shape[0]):\n",
    "        recall = con[i][i] / con[i].sum()\n",
    "        precision = con[i][i] / con[:,i].sum()\n",
    "        f1_score = 2*recall*precision / (recall+precision)\n",
    "        rec.append(recall)\n",
    "        pre.append(precision)\n",
    "        f1.append(f1_score)\n",
    "    \n",
    "    # (2) Macro F1\n",
    "    if score==1:\n",
    "        return np.average(f1)\n",
    "    \n",
    "    # (3) Weighted Macro F1\n",
    "    elif score==2:\n",
    "        w = [con[x].sum() for x in range(con.shape[0])]\n",
    "        return np.average(f1,weights=w)"
   ]
  },
  {
   "cell_type": "code",
   "execution_count": 39,
   "metadata": {},
   "outputs": [
    {
     "name": "stdout",
     "output_type": "stream",
     "text": [
      "Wine Dataset\n",
      "Micro F1 : 0.66\n",
      "Macro F1 (Average) : nan\n",
      "Macro F1 (Weighted Average) : nan\n"
     ]
    },
    {
     "name": "stderr",
     "output_type": "stream",
     "text": [
      "C:\\Users\\samsung\\Anaconda3\\lib\\site-packages\\ipykernel_launcher.py:11: RuntimeWarning: invalid value encountered in double_scalars\n",
      "  # This is added back by InteractiveShellApp.init_path()\n"
     ]
    }
   ],
   "source": [
    "print('Wine Dataset')\n",
    "print('Micro F1 :',f1_scores(wine_con,0).round(3))\n",
    "print('Macro F1 (Average) :',f1_scores(wine_con,1).round(3))\n",
    "print('Macro F1 (Weighted Average) :',f1_scores(wine_con,2).round(3))"
   ]
  },
  {
   "cell_type": "code",
   "execution_count": 41,
   "metadata": {},
   "outputs": [
    {
     "name": "stderr",
     "output_type": "stream",
     "text": [
      "C:\\Users\\samsung\\Anaconda3\\lib\\site-packages\\ipykernel_launcher.py:11: RuntimeWarning: invalid value encountered in double_scalars\n",
      "  # This is added back by InteractiveShellApp.init_path()\n"
     ]
    },
    {
     "data": {
      "text/plain": [
       "nan"
      ]
     },
     "execution_count": 41,
     "metadata": {},
     "output_type": "execute_result"
    }
   ],
   "source": [
    "f1_scores(wine_con,1)"
   ]
  },
  {
   "cell_type": "code",
   "execution_count": null,
   "metadata": {},
   "outputs": [],
   "source": []
  }
 ],
 "metadata": {
  "kernelspec": {
   "display_name": "Python 3",
   "language": "python",
   "name": "python3"
  },
  "language_info": {
   "codemirror_mode": {
    "name": "ipython",
    "version": 3
   },
   "file_extension": ".py",
   "mimetype": "text/x-python",
   "name": "python",
   "nbconvert_exporter": "python",
   "pygments_lexer": "ipython3",
   "version": "3.6.9"
  }
 },
 "nbformat": 4,
 "nbformat_minor": 2
}
