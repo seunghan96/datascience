{
 "cells": [
  {
   "cell_type": "markdown",
   "metadata": {},
   "source": [
    "# [ Karate Dataset Classification with Logistic Regression ]\n",
    "- train ratio : 0.1, 0.3, 0.5, 0.7\n",
    "- metric : accuracy, precision, recall, F1-score\n",
    "- dataset : Karate"
   ]
  },
  {
   "cell_type": "markdown",
   "metadata": {},
   "source": [
    "# 1. Import Libraries & Dataset"
   ]
  },
  {
   "cell_type": "code",
   "execution_count": 1,
   "metadata": {},
   "outputs": [],
   "source": [
    "import pandas as pd\n",
    "import numpy as np\n",
    "import matplotlib.pyplot as plt\n",
    "\n",
    "%matplotlib inline"
   ]
  },
  {
   "cell_type": "code",
   "execution_count": 2,
   "metadata": {},
   "outputs": [],
   "source": [
    "ev = pd.read_csv('embedded_vector.csv')"
   ]
  },
  {
   "cell_type": "code",
   "execution_count": 3,
   "metadata": {},
   "outputs": [
    {
     "data": {
      "text/html": [
       "<div>\n",
       "<style scoped>\n",
       "    .dataframe tbody tr th:only-of-type {\n",
       "        vertical-align: middle;\n",
       "    }\n",
       "\n",
       "    .dataframe tbody tr th {\n",
       "        vertical-align: top;\n",
       "    }\n",
       "\n",
       "    .dataframe thead th {\n",
       "        text-align: right;\n",
       "    }\n",
       "</style>\n",
       "<table border=\"1\" class=\"dataframe\">\n",
       "  <thead>\n",
       "    <tr style=\"text-align: right;\">\n",
       "      <th></th>\n",
       "      <th>x1</th>\n",
       "      <th>x2</th>\n",
       "      <th>class</th>\n",
       "    </tr>\n",
       "  </thead>\n",
       "  <tbody>\n",
       "    <tr>\n",
       "      <th>22</th>\n",
       "      <td>0.809701</td>\n",
       "      <td>0.846643</td>\n",
       "      <td>0</td>\n",
       "    </tr>\n",
       "    <tr>\n",
       "      <th>15</th>\n",
       "      <td>-0.010531</td>\n",
       "      <td>0.347128</td>\n",
       "      <td>0</td>\n",
       "    </tr>\n",
       "    <tr>\n",
       "      <th>2</th>\n",
       "      <td>0.497586</td>\n",
       "      <td>0.133329</td>\n",
       "      <td>1</td>\n",
       "    </tr>\n",
       "    <tr>\n",
       "      <th>25</th>\n",
       "      <td>0.133797</td>\n",
       "      <td>0.228465</td>\n",
       "      <td>0</td>\n",
       "    </tr>\n",
       "    <tr>\n",
       "      <th>4</th>\n",
       "      <td>1.084508</td>\n",
       "      <td>0.080561</td>\n",
       "      <td>1</td>\n",
       "    </tr>\n",
       "  </tbody>\n",
       "</table>\n",
       "</div>"
      ],
      "text/plain": [
       "          x1        x2  class\n",
       "22  0.809701  0.846643      0\n",
       "15 -0.010531  0.347128      0\n",
       "2   0.497586  0.133329      1\n",
       "25  0.133797  0.228465      0\n",
       "4   1.084508  0.080561      1"
      ]
     },
     "execution_count": 3,
     "metadata": {},
     "output_type": "execute_result"
    }
   ],
   "source": [
    "data = ev[['X','Y','Color']]\n",
    "data.columns = ['x1','x2','class']\n",
    "data = data.sample(frac=1) # to shuffle\n",
    "\n",
    "data.head()"
   ]
  },
  {
   "cell_type": "code",
   "execution_count": 4,
   "metadata": {},
   "outputs": [
    {
     "data": {
      "text/plain": [
       "(34, 3)"
      ]
     },
     "execution_count": 4,
     "metadata": {},
     "output_type": "execute_result"
    }
   ],
   "source": [
    "data.shape"
   ]
  },
  {
   "cell_type": "code",
   "execution_count": 5,
   "metadata": {},
   "outputs": [
    {
     "data": {
      "image/png": "[encoded data removed]",
      "text/plain": [
       "<Figure size 432x288 with 1 Axes>"
      ]
     },
     "metadata": {
      "needs_background": "light"
     },
     "output_type": "display_data"
    }
   ],
   "source": [
    "plt.scatter(data['x1'], data['x2'], c=data['class'])\n",
    "plt.show()"
   ]
  },
  {
   "cell_type": "code",
   "execution_count": 6,
   "metadata": {},
   "outputs": [
    {
     "data": {
      "text/plain": [
       "1    17\n",
       "0    17\n",
       "Name: class, dtype: int64"
      ]
     },
     "execution_count": 6,
     "metadata": {},
     "output_type": "execute_result"
    }
   ],
   "source": [
    "data['class'].value_counts()"
   ]
  },
  {
   "cell_type": "markdown",
   "metadata": {},
   "source": [
    "# 2. Define Functions"
   ]
  },
  {
   "cell_type": "markdown",
   "metadata": {},
   "source": [
    "- 1) train_test_split\n",
    "- 2) matrix multiplication\n",
    "- 3) sigmoid\n",
    "- 4) standard scaler\n",
    "- 5) loss function"
   ]
  },
  {
   "cell_type": "code",
   "execution_count": 7,
   "metadata": {
    "scrolled": true
   },
   "outputs": [],
   "source": [
    "def train_test_split(data,test_ratio):\n",
    "    data.iloc[:,[0,1]] = standard_scaler(data.iloc[:,[0,1]])\n",
    "    test_index = np.random.choice(len(data),int(len(data)*test_ratio),replace=False)\n",
    "    train = data[~data.index.isin(test_index)]\n",
    "    test = data[data.index.isin(test_index)]\n",
    "    \n",
    "    train_X = np.array(train)[:,[0,1]]\n",
    "    train_y = np.array(train)[:,[2]].flatten()\n",
    "    test_X = np.array(test)[:,[0,1]]\n",
    "    test_y = np.array(test)[:,[2]].flatten()\n",
    "    return train_X,train_y, test_X,test_y"
   ]
  },
  {
   "cell_type": "code",
   "execution_count": 8,
   "metadata": {},
   "outputs": [],
   "source": [
    "def mul(W,b,x):\n",
    "    return np.dot(x,W)+b\n",
    "\n",
    "def sigmoid(x):    \n",
    "    k = 1 / (1 + np.exp(-x))\n",
    "    return k[:,0]"
   ]
  },
  {
   "cell_type": "code",
   "execution_count": 9,
   "metadata": {},
   "outputs": [],
   "source": [
    "def standard_scaler(x):\n",
    "    mean = np.mean(x)\n",
    "    std = np.std(x)\n",
    "    return (x-mean)/std"
   ]
  },
  {
   "cell_type": "code",
   "execution_count": 10,
   "metadata": {},
   "outputs": [],
   "source": [
    "def loss_func(y_hat,y):\n",
    "    total_loss = np.mean(y*np.log(y_hat) + (1-y)*np.log(1-y_hat))\n",
    "    return -total_loss"
   ]
  },
  {
   "cell_type": "markdown",
   "metadata": {},
   "source": [
    "### 3) MLP"
   ]
  },
  {
   "cell_type": "markdown",
   "metadata": {},
   "source": [
    "# 3. Train Model"
   ]
  },
  {
   "cell_type": "markdown",
   "metadata": {},
   "source": [
    "### Logistic Regression"
   ]
  },
  {
   "cell_type": "code",
   "execution_count": 11,
   "metadata": {},
   "outputs": [],
   "source": [
    "def logreg(x,y,epoch,lr):\n",
    "    W = np.random.rand(x.shape[1],1)\n",
    "    b = np.random.rand(1)\n",
    "    \n",
    "    for ep in range(epoch+1):\n",
    "        Z = mul(W,b,x)\n",
    "        y_hat = sigmoid(Z)\n",
    "        loss = loss_func(y_hat,y)\n",
    "        dw = np.matmul(x.T,y_hat-y)/x.shape[0]\n",
    "        db = np.sum(y_hat-y)\n",
    "        \n",
    "        W = W-lr*dw.reshape(-1,1)\n",
    "        b = b-lr*db\n",
    "        \n",
    "        if ep % 10000 == 0:\n",
    "            print('epoch :',ep,' loss :',loss)\n",
    "            \n",
    "    return W,b"
   ]
  },
  {
   "cell_type": "markdown",
   "metadata": {},
   "source": [
    "# 4. Prediction"
   ]
  },
  {
   "cell_type": "markdown",
   "metadata": {},
   "source": [
    "**TOO SMALL dataset! unstable model**"
   ]
  },
  {
   "cell_type": "code",
   "execution_count": 170,
   "metadata": {},
   "outputs": [],
   "source": [
    "train_X_10, train_y_10, test_X_10, test_y_10 = train_test_split(data,0.9)\n",
    "train_X_30, train_y_30, test_X_30, test_y_30 = train_test_split(data,0.7)\n",
    "train_X_50, train_y_50, test_X_50, test_y_50 = train_test_split(data,0.5)\n",
    "train_X_70, train_y_70, test_X_70, test_y_70 = train_test_split(data,0.3)"
   ]
  },
  {
   "cell_type": "markdown",
   "metadata": {},
   "source": [
    "### 4 cases\n",
    "- case 1) train 10%\n",
    "- case 2) train 30%\n",
    "- case 3) train 50%\n",
    "- case 4) train 70%"
   ]
  },
  {
   "cell_type": "markdown",
   "metadata": {},
   "source": [
    "### 1) weight & bias"
   ]
  },
  {
   "cell_type": "code",
   "execution_count": 171,
   "metadata": {
    "scrolled": true
   },
   "outputs": [
    {
     "name": "stdout",
     "output_type": "stream",
     "text": [
      "epoch : 0  loss : 0.6593308365741114\n",
      "epoch : 10000  loss : 0.16243315108234851\n",
      "epoch : 20000  loss : 0.08608784835902628\n",
      "epoch : 30000  loss : 0.057835378260770044\n",
      "epoch : 40000  loss : 0.043373910298135046\n"
     ]
    }
   ],
   "source": [
    "W_10,b_10 = logreg(train_X_10,train_y_10,40000,0.001)"
   ]
  },
  {
   "cell_type": "code",
   "execution_count": 172,
   "metadata": {},
   "outputs": [
    {
     "name": "stdout",
     "output_type": "stream",
     "text": [
      "epoch : 0  loss : 0.595785050592402\n",
      "epoch : 10000  loss : 0.5277547221980337\n",
      "epoch : 20000  loss : 0.5264002682692209\n",
      "epoch : 30000  loss : 0.5260746776716059\n",
      "epoch : 40000  loss : 0.5259887552029092\n"
     ]
    }
   ],
   "source": [
    "W_30,b_30 = logreg(train_X_30,train_y_30,40000,0.001)"
   ]
  },
  {
   "cell_type": "code",
   "execution_count": 173,
   "metadata": {},
   "outputs": [
    {
     "name": "stdout",
     "output_type": "stream",
     "text": [
      "epoch : 0  loss : 0.48855425918653145\n",
      "epoch : 10000  loss : 0.29181192527506544\n",
      "epoch : 20000  loss : 0.2689832066669257\n",
      "epoch : 30000  loss : 0.25930977959826224\n",
      "epoch : 40000  loss : 0.2540498366830823\n"
     ]
    }
   ],
   "source": [
    "W_50,b_50 = logreg(train_X_50,train_y_50,40000,0.001)"
   ]
  },
  {
   "cell_type": "code",
   "execution_count": 174,
   "metadata": {},
   "outputs": [
    {
     "name": "stdout",
     "output_type": "stream",
     "text": [
      "epoch : 0  loss : 0.6410069002890594\n",
      "epoch : 10000  loss : 0.5650531338346519\n",
      "epoch : 20000  loss : 0.5616843341978129\n",
      "epoch : 30000  loss : 0.5614450045147054\n",
      "epoch : 40000  loss : 0.5614244991790818\n"
     ]
    }
   ],
   "source": [
    "W_70,b_70 = logreg(train_X_70,train_y_70,40000,0.001)"
   ]
  },
  {
   "cell_type": "markdown",
   "metadata": {},
   "source": [
    "### 2) Prediction Result"
   ]
  },
  {
   "cell_type": "code",
   "execution_count": 175,
   "metadata": {},
   "outputs": [],
   "source": [
    "def predict(test_X,W,b):\n",
    "    preds = []\n",
    "    for i in sigmoid(np.dot(test_X, W) + b):\n",
    "        if i>0.5:\n",
    "            preds.append(1)\n",
    "        else:\n",
    "            preds.append(0)\n",
    "    return np.array(preds)"
   ]
  },
  {
   "cell_type": "code",
   "execution_count": 176,
   "metadata": {
    "scrolled": true
   },
   "outputs": [],
   "source": [
    "y_pred_10 = predict(test_X_10, W_10,b_10)\n",
    "y_pred_30 = predict(test_X_30, W_30,b_30)\n",
    "y_pred_50 = predict(test_X_50, W_50,b_50)\n",
    "y_pred_70 = predict(test_X_70, W_70,b_70)"
   ]
  },
  {
   "cell_type": "code",
   "execution_count": 177,
   "metadata": {},
   "outputs": [
    {
     "data": {
      "text/plain": [
       "array([1, 0, 1, 1, 1, 1, 1, 1, 0, 1, 1, 1, 0, 0, 0, 0, 0])"
      ]
     },
     "execution_count": 177,
     "metadata": {},
     "output_type": "execute_result"
    }
   ],
   "source": [
    "y_pred_50"
   ]
  },
  {
   "cell_type": "markdown",
   "metadata": {},
   "source": [
    "### 3) Metric"
   ]
  },
  {
   "cell_type": "code",
   "execution_count": 178,
   "metadata": {},
   "outputs": [],
   "source": [
    "def Metrics(pred,actual):\n",
    "    TP,TN,FP,FN = 0,0,0,0\n",
    "    for i in range(len(pred)):\n",
    "        if pred[i]*actual[i]==1:\n",
    "            TP +=1\n",
    "        elif pred[i]>actual[i]:\n",
    "            FP +=1\n",
    "        elif pred[i]<actual[i]:\n",
    "            FN +=1\n",
    "        else:\n",
    "            TN +=1\n",
    "    \n",
    "    accuracy = (TP+TN) / (TP+TN+FP+FN)\n",
    "    precision = TP / (TP+FP)\n",
    "    recall = TP / (TP+FN)\n",
    "    F1_score = 2*(precision*recall)/(precision+recall)\n",
    "    return accuracy,precision,recall,F1_score"
   ]
  },
  {
   "cell_type": "code",
   "execution_count": 179,
   "metadata": {},
   "outputs": [
    {
     "name": "stdout",
     "output_type": "stream",
     "text": [
      "Training Dataset 10%\n",
      "accuarcy : 0.667\n",
      "precision : 0.692\n",
      "recall : 0.6\n",
      "f1-score : 0.643\n"
     ]
    }
   ],
   "source": [
    "print('Training Dataset 10%')\n",
    "acc, pre, rec, f1 = Metrics(y_pred_10,test_y_10)\n",
    "print('accuarcy :', np.round(acc,3))\n",
    "print('precision :', np.round(pre,3))\n",
    "print('recall :', np.round(rec,3))\n",
    "print('f1-score :', np.round(f1,3))"
   ]
  },
  {
   "cell_type": "code",
   "execution_count": 180,
   "metadata": {},
   "outputs": [
    {
     "name": "stdout",
     "output_type": "stream",
     "text": [
      "Training Dataset 30%\n",
      "accuarcy : 0.478\n",
      "precision : 0.421\n",
      "recall : 0.889\n",
      "f1-score : 0.571\n"
     ]
    }
   ],
   "source": [
    "print('Training Dataset 30%')\n",
    "acc, pre, rec, f1 = Metrics(y_pred_30,test_y_30)\n",
    "print('accuarcy :', np.round(acc,3))\n",
    "print('precision :', np.round(pre,3))\n",
    "print('recall :', np.round(rec,3))\n",
    "print('f1-score :', np.round(f1,3))"
   ]
  },
  {
   "cell_type": "code",
   "execution_count": 181,
   "metadata": {},
   "outputs": [
    {
     "name": "stdout",
     "output_type": "stream",
     "text": [
      "Training Dataset 50%\n",
      "accuarcy : 0.647\n",
      "precision : 0.7\n",
      "recall : 0.7\n",
      "f1-score : 0.7\n"
     ]
    }
   ],
   "source": [
    "print('Training Dataset 50%')\n",
    "acc, pre, rec, f1 = Metrics(y_pred_50,test_y_50)\n",
    "print('accuarcy :', np.round(acc,3))\n",
    "print('precision :', np.round(pre,3))\n",
    "print('recall :', np.round(rec,3))\n",
    "print('f1-score :', np.round(f1,3))"
   ]
  },
  {
   "cell_type": "code",
   "execution_count": 182,
   "metadata": {},
   "outputs": [
    {
     "name": "stdout",
     "output_type": "stream",
     "text": [
      "Training Dataset 70%\n",
      "accuarcy : 0.8\n",
      "precision : 0.75\n",
      "recall : 0.75\n",
      "f1-score : 0.75\n"
     ]
    }
   ],
   "source": [
    "print('Training Dataset 70%')\n",
    "acc, pre, rec, f1 = Metrics(y_pred_70,test_y_70)\n",
    "print('accuarcy :', np.round(acc,3))\n",
    "print('precision :', np.round(pre,3))\n",
    "print('recall :', np.round(rec,3))\n",
    "print('f1-score :', np.round(f1,3))"
   ]
  },
  {
   "cell_type": "code",
   "execution_count": null,
   "metadata": {},
   "outputs": [],
   "source": []
  },
  {
   "cell_type": "code",
   "execution_count": null,
   "metadata": {},
   "outputs": [],
   "source": []
  }
 ],
 "metadata": {
  "kernelspec": {
   "display_name": "Python 3",
   "language": "python",
   "name": "python3"
  },
  "language_info": {
   "codemirror_mode": {
    "name": "ipython",
    "version": 3
   },
   "file_extension": ".py",
   "mimetype": "text/x-python",
   "name": "python",
   "nbconvert_exporter": "python",
   "pygments_lexer": "ipython3",
   "version": "3.6.9"
  }
 },
 "nbformat": 4,
 "nbformat_minor": 2
}
