{
 "cells": [
  {
   "cell_type": "markdown",
   "metadata": {},
   "source": [
    "# 1. 문서 검색"
   ]
  },
  {
   "cell_type": "markdown",
   "metadata": {},
   "source": [
    "- 난이도 : 하\n",
    "- 유형 : 탐색"
   ]
  },
  {
   "cell_type": "markdown",
   "metadata": {},
   "source": [
    "## (1) 승한 풀이"
   ]
  },
  {
   "cell_type": "code",
   "execution_count": 3,
   "metadata": {},
   "outputs": [
    {
     "name": "stdout",
     "output_type": "stream",
     "text": [
      "ababdddabafadsab\n",
      "ab\n",
      "4\n"
     ]
    }
   ],
   "source": [
    "doc = input()\n",
    "word = input()\n",
    "\n",
    "length = len(word)\n",
    "\n",
    "idx=0\n",
    "count=0\n",
    "\n",
    "while len(doc)-idx>=length:\n",
    "    if doc[idx:idx+length] == word:\n",
    "        count +=1\n",
    "        idx += length\n",
    "    else:\n",
    "        idx +=1\n",
    "    \n",
    "print(count)"
   ]
  },
  {
   "cell_type": "markdown",
   "metadata": {},
   "source": [
    "## (2) 모범 답안"
   ]
  },
  {
   "cell_type": "code",
   "execution_count": 3,
   "metadata": {},
   "outputs": [
    {
     "name": "stdout",
     "output_type": "stream",
     "text": [
      "abcdabcdabababdfabcab\n",
      "ab\n",
      "7\n"
     ]
    }
   ],
   "source": [
    "doc = input()\n",
    "word = input()\n",
    "\n",
    "\n",
    "idx = 0\n",
    "count = 0\n",
    "\n",
    "while len(doc)-idx >= len(word):\n",
    "    if doc[idx:idx+len(word)]==word:\n",
    "        count +=1\n",
    "        idx += len(word)\n",
    "    else :\n",
    "        idx +=1\n",
    "\n",
    "print(count)"
   ]
  },
  {
   "cell_type": "code",
   "execution_count": null,
   "metadata": {},
   "outputs": [],
   "source": []
  },
  {
   "cell_type": "code",
   "execution_count": null,
   "metadata": {},
   "outputs": [],
   "source": []
  }
 ],
 "metadata": {
  "kernelspec": {
   "display_name": "Python 3",
   "language": "python",
   "name": "python3"
  },
  "language_info": {
   "codemirror_mode": {
    "name": "ipython",
    "version": 3
   },
   "file_extension": ".py",
   "mimetype": "text/x-python",
   "name": "python",
   "nbconvert_exporter": "python",
   "pygments_lexer": "ipython3",
   "version": "3.6.9"
  }
 },
 "nbformat": 4,
 "nbformat_minor": 2
}
