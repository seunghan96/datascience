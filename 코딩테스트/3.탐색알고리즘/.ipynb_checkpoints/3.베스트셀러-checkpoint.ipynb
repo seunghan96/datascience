{
 "cells": [
  {
   "cell_type": "markdown",
   "metadata": {},
   "source": [
    "# 3. 베스트 셀러"
   ]
  },
  {
   "cell_type": "markdown",
   "metadata": {},
   "source": [
    "- 난이도 : 하\n",
    "- 유형 : 탐색"
   ]
  },
  {
   "cell_type": "markdown",
   "metadata": {},
   "source": [
    "## (1) 승한 답안"
   ]
  },
  {
   "cell_type": "code",
   "execution_count": 3,
   "metadata": {
    "scrolled": true
   },
   "outputs": [
    {
     "name": "stdout",
     "output_type": "stream",
     "text": [
      "5\n",
      "a\n",
      "a\n",
      "b\n",
      "b\n",
      "c\n",
      "['a', 'b']\n",
      "a\n"
     ]
    }
   ],
   "source": [
    "n = int(input()) # 집어 넣을 책의 수\n",
    "\n",
    "books = {}\n",
    "\n",
    "for _ in range(n):\n",
    "    book = input()\n",
    "    if book in books:\n",
    "        books[book] +=1\n",
    "    else :\n",
    "        books[book] =1\n",
    "\n",
    "maximum = max(books.values()) # 제일 많은 책의 수\n",
    "\n",
    "book_list = []\n",
    "\n",
    "for book,value in books.items():\n",
    "    if value==maximum:\n",
    "        book_list.append(book)\n",
    "        \n",
    "print(book_list) # 가장 많은 \"모든\" 책\n",
    "print(sorted(book_list)[0]) # 가장 많은 책 중 \"첫 번째\" 책"
   ]
  },
  {
   "cell_type": "markdown",
   "metadata": {},
   "source": [
    "## (2) 모범 답안"
   ]
  },
  {
   "cell_type": "code",
   "execution_count": 2,
   "metadata": {},
   "outputs": [
    {
     "name": "stdout",
     "output_type": "stream",
     "text": [
      "5\n",
      "a\n",
      "b\n",
      "a\n",
      "a\n",
      "c\n",
      "a\n"
     ]
    }
   ],
   "source": [
    "n = int(input())\n",
    "\n",
    "books = {}\n",
    "\n",
    "for _ in range(n):\n",
    "    book = input()\n",
    "    if book in books:\n",
    "        books[book] +=1\n",
    "    else :\n",
    "        books[book] = 1\n",
    "        \n",
    "target = max(books.values())\n",
    "book_list=  []\n",
    "\n",
    "for book,number in books.items():\n",
    "    if number==target:\n",
    "        book_list.append(book)\n",
    "        \n",
    "print(sorted(book_list)[0])"
   ]
  },
  {
   "cell_type": "code",
   "execution_count": null,
   "metadata": {},
   "outputs": [],
   "source": []
  }
 ],
 "metadata": {
  "kernelspec": {
   "display_name": "Python 3",
   "language": "python",
   "name": "python3"
  },
  "language_info": {
   "codemirror_mode": {
    "name": "ipython",
    "version": 3
   },
   "file_extension": ".py",
   "mimetype": "text/x-python",
   "name": "python",
   "nbconvert_exporter": "python",
   "pygments_lexer": "ipython3",
   "version": "3.6.9"
  }
 },
 "nbformat": 4,
 "nbformat_minor": 2
}
