{
 "cells": [
  {
   "cell_type": "markdown",
   "metadata": {},
   "source": [
    "# 5. 성 지키기"
   ]
  },
  {
   "cell_type": "markdown",
   "metadata": {},
   "source": [
    "- 난이도 : 하\n",
    "- 유형 : 탐색"
   ]
  },
  {
   "cell_type": "markdown",
   "metadata": {},
   "source": [
    "## (1) 승한 정답"
   ]
  },
  {
   "cell_type": "code",
   "execution_count": 1,
   "metadata": {},
   "outputs": [
    {
     "name": "stdout",
     "output_type": "stream",
     "text": [
      "4 4\n",
      "OOOO\n",
      "OOXO\n",
      "XOOO\n",
      "XOOX\n",
      "1\n"
     ]
    }
   ],
   "source": [
    "n_row,n_col = map(int,input().split())\n",
    "array = []\n",
    "\n",
    "for _ in range(n_row):\n",
    "    array.append(input()) # 여기서 input은 각각 m개씩 ( ex. m=4 : XXOX, OOXO 등)\n",
    "    \n",
    "row = [0]*n_row\n",
    "col = [0]*n_col\n",
    "\n",
    "for i in range(n_row):\n",
    "    for j in range(n_col):\n",
    "        if array[i][j] =='X': # 경비원이 있다 == 'X'\n",
    "            row[i]=1\n",
    "            col[j]=1\n",
    "            \n",
    "row_count = 0\n",
    "for i in range(n_row):\n",
    "    if row[i]==0: # 경비원이 없다면\n",
    "        row_count +=1\n",
    "        \n",
    "col_count = 0\n",
    "for j in range(n_col):\n",
    "    if col[j]==0: # 경비원이 없다면\n",
    "        col_count +=1\n",
    "        \n",
    "print(max(row_count,col_count))"
   ]
  },
  {
   "cell_type": "markdown",
   "metadata": {},
   "source": [
    "## (2) 모범 정답"
   ]
  },
  {
   "cell_type": "code",
   "execution_count": 2,
   "metadata": {},
   "outputs": [
    {
     "name": "stdout",
     "output_type": "stream",
     "text": [
      "4 4\n",
      "OOOO\n",
      "OOXO\n",
      "XOOO\n",
      "XOOX\n",
      "1\n"
     ]
    }
   ],
   "source": [
    "n,m = map(int,input().split())\n",
    "array = []\n",
    "\n",
    "for _ in range(n):\n",
    "    array.append(input())\n",
    "    \n",
    "row = [0]*n\n",
    "col = [0]*m\n",
    "\n",
    "for i in range(n):\n",
    "    for j in range(m):\n",
    "        if array[i][j]=='X':\n",
    "            row[i]=1\n",
    "            col[j]=1\n",
    "            \n",
    "row_count = 0\n",
    "for i in range(n):\n",
    "    if row[i]==0:\n",
    "        row_count +=1\n",
    "        \n",
    "col_count = 0\n",
    "for j in range(m):\n",
    "    if col[j]==0:\n",
    "        col_count +=1\n",
    "        \n",
    "print(max(row_count,col_count))"
   ]
  }
 ],
 "metadata": {
  "kernelspec": {
   "display_name": "Python 3",
   "language": "python",
   "name": "python3"
  },
  "language_info": {
   "codemirror_mode": {
    "name": "ipython",
    "version": 3
   },
   "file_extension": ".py",
   "mimetype": "text/x-python",
   "name": "python",
   "nbconvert_exporter": "python",
   "pygments_lexer": "ipython3",
   "version": "3.6.9"
  }
 },
 "nbformat": 4,
 "nbformat_minor": 2
}
