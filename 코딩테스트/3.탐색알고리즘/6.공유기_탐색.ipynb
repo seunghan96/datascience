{
 "cells": [
  {
   "cell_type": "markdown",
   "metadata": {},
   "source": [
    "# 6. 공유기 탐색"
   ]
  },
  {
   "cell_type": "markdown",
   "metadata": {},
   "source": [
    "- 난이도 : 중\n",
    "- 유형 : 이진 탐색"
   ]
  },
  {
   "cell_type": "markdown",
   "metadata": {},
   "source": [
    "## (1) 승한 정답"
   ]
  },
  {
   "cell_type": "code",
   "execution_count": null,
   "metadata": {},
   "outputs": [],
   "source": [
    "# n : 집의 수\n",
    "# c : 설치할 공유기의 개수\n",
    "\n",
    "n,c = list(map(int,input().split()))\n",
    "array = []\n",
    "\n",
    "for _ in range(n):\n",
    "    array.append(int(input()))\n",
    "    \n",
    "array = sorted(array)\n",
    "\n",
    "gap_start = array[1] - array[0]\n",
    "gap_end = array[-1] - array[0]\n",
    "result = 0\n",
    "\n",
    "while (gap_end>=gap_start):\n",
    "    mid = "
   ]
  },
  {
   "cell_type": "markdown",
   "metadata": {},
   "source": [
    "## (2) 모범 답안"
   ]
  },
  {
   "cell_type": "code",
   "execution_count": 1,
   "metadata": {},
   "outputs": [
    {
     "name": "stdout",
     "output_type": "stream",
     "text": [
      "5 3\n",
      "1\n",
      "6\n",
      "26\n",
      "34\n",
      "100\n",
      "28\n"
     ]
    }
   ],
   "source": [
    "n,c = list(map(int,input().split(' ')))\n",
    "array = []\n",
    "\n",
    "for _ in range(n):\n",
    "    array.append(int(input()))\n",
    "    \n",
    "array = sorted(array)\n",
    "\n",
    "start = array[1] - array[0]\n",
    "end = array[-1] - array[0]\n",
    "result = 0\n",
    "\n",
    "while (start<=end):\n",
    "    mid = (start+end)//2\n",
    "    value = array[0]\n",
    "    count = 1\n",
    "    \n",
    "    for i in range(1,len(array)):\n",
    "        if array[i] >= value+mid:\n",
    "            value = array[i]\n",
    "            count +=1\n",
    "        if count>=3:\n",
    "            start= mid+1\n",
    "            result = mid\n",
    "        else:\n",
    "            end = mid-1\n",
    "            \n",
    "print(result)"
   ]
  },
  {
   "cell_type": "code",
   "execution_count": null,
   "metadata": {},
   "outputs": [],
   "source": []
  }
 ],
 "metadata": {
  "kernelspec": {
   "display_name": "Python 3",
   "language": "python",
   "name": "python3"
  },
  "language_info": {
   "codemirror_mode": {
    "name": "ipython",
    "version": 3
   },
   "file_extension": ".py",
   "mimetype": "text/x-python",
   "name": "python",
   "nbconvert_exporter": "python",
   "pygments_lexer": "ipython3",
   "version": "3.6.9"
  }
 },
 "nbformat": 4,
 "nbformat_minor": 2
}
