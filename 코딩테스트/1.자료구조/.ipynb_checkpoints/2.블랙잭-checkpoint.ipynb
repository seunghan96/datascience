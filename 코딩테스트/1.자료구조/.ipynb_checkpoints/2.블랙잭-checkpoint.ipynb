{
 "cells": [
  {
   "cell_type": "markdown",
   "metadata": {},
   "source": [
    "- m : 목표 수 ( 절대 넘어서는 안됨 )\n",
    "- data에서 3개의 숫자를 골라서 m(혹은 m에 가깝게) 만들기"
   ]
  },
  {
   "cell_type": "code",
   "execution_count": 4,
   "metadata": {},
   "outputs": [
    {
     "name": "stdout",
     "output_type": "stream",
     "text": [
      "1 1923\n",
      "102 324 103 999 1000 123 91\n",
      "1447\n"
     ]
    }
   ],
   "source": [
    "n,m = list(map(int,input().split(' ')))\n",
    "data = list(map(int,input().split(' ')))\n",
    "\n",
    "result = 0\n",
    "length = len(data)\n",
    "\n",
    "for i in range(0,length):\n",
    "    for j in range(i+1,length):\n",
    "        for k in range(j+1,length):\n",
    "            sum_value = data[i]+data[j]+data[k]\n",
    "            if sum_value <= m:\n",
    "                result = max(result,sum_value)\n",
    "\n",
    "print(result)"
   ]
  },
  {
   "cell_type": "code",
   "execution_count": 11,
   "metadata": {},
   "outputs": [
    {
     "name": "stdout",
     "output_type": "stream",
     "text": [
      "1+10+100=111\n",
      "1+10+1000=1011\n",
      "1+10+10000=10011\n",
      "1+10+100000=100011\n",
      "1+100+1000=1101\n",
      "1+100+10000=10101\n",
      "1+100+100000=100101\n",
      "1+1000+10000=11001\n",
      "1+1000+100000=101001\n",
      "1+10000+100000=110001\n",
      "10+100+1000=1110\n",
      "10+100+10000=10110\n",
      "10+100+100000=100110\n",
      "10+1000+10000=11010\n",
      "10+1000+100000=101010\n",
      "10+10000+100000=110010\n",
      "100+1000+10000=11100\n",
      "100+1000+100000=101100\n",
      "100+10000+100000=110100\n",
      "1000+10000+100000=111000\n",
      "\n",
      "\n",
      "\n",
      " 20\n"
     ]
    }
   ],
   "source": [
    "x = [1,10,100,1000,10000,100000]\n",
    "length = len(x)\n",
    "count =0\n",
    "\n",
    "for i in range(0,length):\n",
    "    for j in range(i+1,length):\n",
    "        for k in range(j+1,length):\n",
    "            count +=1\n",
    "            print (f'{x[i]}+{x[j]}+{x[k]}={x[i]+x[j]+x[k]}')\n",
    "            \n",
    "print('\\n\\n\\n',count)"
   ]
  },
  {
   "cell_type": "code",
   "execution_count": null,
   "metadata": {},
   "outputs": [],
   "source": []
  }
 ],
 "metadata": {
  "kernelspec": {
   "display_name": "Python 3",
   "language": "python",
   "name": "python3"
  },
  "language_info": {
   "codemirror_mode": {
    "name": "ipython",
    "version": 3
   },
   "file_extension": ".py",
   "mimetype": "text/x-python",
   "name": "python",
   "nbconvert_exporter": "python",
   "pygments_lexer": "ipython3",
   "version": "3.6.9"
  }
 },
 "nbformat": 4,
 "nbformat_minor": 2
}
