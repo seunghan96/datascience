{
 "cells": [
  {
   "cell_type": "markdown",
   "metadata": {},
   "source": [
    "순서\n",
    "- Step 1) asc & desc 둘 다 True\n",
    "- Step 2) 오름차순/내림차순 끊기면 False로 바꾸기\n",
    "- Step 3) 둘다 False면 mixed"
   ]
  },
  {
   "cell_type": "code",
   "execution_count": 8,
   "metadata": {},
   "outputs": [
    {
     "name": "stdout",
     "output_type": "stream",
     "text": [
      "1 2 3 4 5\n",
      "[1, 2, 3, 4, 5]\n"
     ]
    }
   ],
   "source": [
    "a = list(map(int,input().split(' ')))\n",
    "print(a)"
   ]
  },
  {
   "cell_type": "code",
   "execution_count": 13,
   "metadata": {},
   "outputs": [
    {
     "name": "stdout",
     "output_type": "stream",
     "text": [
      "1 3 4 5\n",
      "ascending\n"
     ]
    }
   ],
   "source": [
    "a = list(map(int,input().split(' ')))\n",
    "\n",
    "asc,desc = True, True\n",
    "\n",
    "for i in range(1,len(a)):\n",
    "    if a[i] > a[i-1]:\n",
    "        desc = False\n",
    "    elif a[i] < a[i-1]:\n",
    "        asc = False\n",
    "\n",
    "if asc:\n",
    "    print('ascending')\n",
    "elif desc:\n",
    "    print('descending')\n",
    "else :\n",
    "    print('mixed')"
   ]
  },
  {
   "cell_type": "code",
   "execution_count": null,
   "metadata": {},
   "outputs": [],
   "source": []
  }
 ],
 "metadata": {
  "kernelspec": {
   "display_name": "Python 3",
   "language": "python",
   "name": "python3"
  },
  "language_info": {
   "codemirror_mode": {
    "name": "ipython",
    "version": 3
   },
   "file_extension": ".py",
   "mimetype": "text/x-python",
   "name": "python",
   "nbconvert_exporter": "python",
   "pygments_lexer": "ipython3",
   "version": "3.6.9"
  }
 },
 "nbformat": 4,
 "nbformat_minor": 2
}
