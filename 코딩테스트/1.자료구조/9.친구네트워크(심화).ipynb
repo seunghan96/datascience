{
 "cells": [
  {
   "cell_type": "code",
   "execution_count": 1,
   "metadata": {},
   "outputs": [],
   "source": [
    "def find(x):\n",
    "    if x == parent[x]:\n",
    "        return x\n",
    "    else :\n",
    "        p = find(parent[x])\n",
    "        parent[x] = p\n",
    "        return parent[x]"
   ]
  },
  {
   "cell_type": "code",
   "execution_count": 7,
   "metadata": {},
   "outputs": [],
   "source": [
    "def union(x,y):\n",
    "    x = find(x)\n",
    "    y = find(y)\n",
    "    \n",
    "    if x != y:\n",
    "        parent[y]=x\n",
    "        number[x] += number[y]"
   ]
  },
  {
   "cell_type": "code",
   "execution_count": 9,
   "metadata": {},
   "outputs": [
    {
     "name": "stdout",
     "output_type": "stream",
     "text": [
      "1\n",
      "6\n",
      "1 3\n",
      "2\n",
      "1 4\n",
      "3\n",
      "1 5\n",
      "4\n",
      "1 3\n",
      "4\n",
      "1 2\n",
      "5\n",
      "7 9\n",
      "2\n"
     ]
    }
   ],
   "source": [
    "test_case = int(input())\n",
    "\n",
    "for _ in range(test_case):\n",
    "    parent = dict()\n",
    "    number = dict()\n",
    "    \n",
    "    f = int(input())\n",
    "    \n",
    "    for _ in range(f):\n",
    "        x,y = input().split(\" \")\n",
    "        if x not in parent:\n",
    "            parent[x] = x\n",
    "            number[x] = 1\n",
    "        if y not in parent:\n",
    "            parent[y] = y\n",
    "            number[y] = 1\n",
    "            \n",
    "        union(x,y)\n",
    "        print(number[find(x)])"
   ]
  }
 ],
 "metadata": {
  "kernelspec": {
   "display_name": "Python 3",
   "language": "python",
   "name": "python3"
  },
  "language_info": {
   "codemirror_mode": {
    "name": "ipython",
    "version": 3
   },
   "file_extension": ".py",
   "mimetype": "text/x-python",
   "name": "python",
   "nbconvert_exporter": "python",
   "pygments_lexer": "ipython3",
   "version": "3.6.9"
  }
 },
 "nbformat": 4,
 "nbformat_minor": 2
}
