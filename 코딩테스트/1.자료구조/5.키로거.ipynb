{
 "cells": [
  {
   "cell_type": "markdown",
   "metadata": {},
   "source": [
    "- 난이도 : 중\n",
    "- 문제 유형 : 스택, 구현, 그리디"
   ]
  },
  {
   "cell_type": "code",
   "execution_count": 1,
   "metadata": {},
   "outputs": [
    {
     "name": "stdout",
     "output_type": "stream",
     "text": [
      "3\n",
      "234<<423<5>23-\n",
      "24253234\n",
      "235<3\n",
      "2335\n",
      "12<<5\n",
      "512\n"
     ]
    }
   ],
   "source": [
    "test_case = int(input())\n",
    "\n",
    "for _ in range(test_case):\n",
    "    left= []\n",
    "    right = []\n",
    "    data= input()\n",
    "    for i in data:\n",
    "        if i == '-':\n",
    "            if left:\n",
    "                left.pop()\n",
    "        elif i == '<':\n",
    "            if left:\n",
    "                right.append(left.pop())\n",
    "        elif i == '>':\n",
    "            if right:\n",
    "                left.append(right.pop())\n",
    "        else:\n",
    "            left.append(i)\n",
    "    left.extend(reversed(right))\n",
    "    print(''.join(left))"
   ]
  },
  {
   "cell_type": "code",
   "execution_count": null,
   "metadata": {},
   "outputs": [],
   "source": []
  }
 ],
 "metadata": {
  "kernelspec": {
   "display_name": "Python 3",
   "language": "python",
   "name": "python3"
  },
  "language_info": {
   "codemirror_mode": {
    "name": "ipython",
    "version": 3
   },
   "file_extension": ".py",
   "mimetype": "text/x-python",
   "name": "python",
   "nbconvert_exporter": "python",
   "pygments_lexer": "ipython3",
   "version": "3.6.9"
  }
 },
 "nbformat": 4,
 "nbformat_minor": 2
}
