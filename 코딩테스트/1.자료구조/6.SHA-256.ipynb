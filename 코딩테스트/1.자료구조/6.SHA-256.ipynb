{
 "cells": [
  {
   "cell_type": "markdown",
   "metadata": {},
   "source": [
    "- 난이도 : 하\n",
    "- 유형 : 해시, 구현"
   ]
  },
  {
   "cell_type": "code",
   "execution_count": 1,
   "metadata": {},
   "outputs": [
    {
     "name": "stdout",
     "output_type": "stream",
     "text": [
      "이승한\n",
      "6e40f77c972d41b9fa5a1fd23fe6e69288b3551227f3c491e77180307d5c9784\n"
     ]
    }
   ],
   "source": [
    "import hashlib\n",
    "\n",
    "input_data = input()\n",
    "encoded = input_data.encode()\n",
    "result = hashlib.sha256(encoded).hexdigest()\n",
    "print(result)"
   ]
  }
 ],
 "metadata": {
  "kernelspec": {
   "display_name": "Python 3",
   "language": "python",
   "name": "python3"
  },
  "language_info": {
   "codemirror_mode": {
    "name": "ipython",
    "version": 3
   },
   "file_extension": ".py",
   "mimetype": "text/x-python",
   "name": "python",
   "nbconvert_exporter": "python",
   "pygments_lexer": "ipython3",
   "version": "3.6.9"
  }
 },
 "nbformat": 4,
 "nbformat_minor": 2
}
