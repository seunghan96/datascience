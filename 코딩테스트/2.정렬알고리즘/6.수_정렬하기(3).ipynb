{
 "cells": [
  {
   "cell_type": "markdown",
   "metadata": {},
   "source": [
    "- 난이도 : 하\n",
    "- 유형 : 정렬"
   ]
  },
  {
   "cell_type": "markdown",
   "metadata": {},
   "source": [
    "데이터 개수가 최대 1,000,000개 -> 시간복잡도 O(NlogN)의 정렬 알고리즘 사용"
   ]
  },
  {
   "cell_type": "markdown",
   "metadata": {},
   "source": [
    "## 병합 정렬"
   ]
  },
  {
   "cell_type": "code",
   "execution_count": 5,
   "metadata": {},
   "outputs": [],
   "source": [
    "def merge_sort(array):\n",
    "    if len(array)<=1 :\n",
    "        return array\n",
    "    mid = len(array)//2\n",
    "    left = merge_sort(array[:mid])\n",
    "    right = merge_sort(array[mid:])\n",
    "    \n",
    "    i,j,k=0,0,0\n",
    "    while (i<len(left)) & (j<len(right)):\n",
    "        if left[i] < right[j]:\n",
    "            array[k] = left[i]\n",
    "            i+=1\n",
    "        else :\n",
    "            array[k] = right[j]\n",
    "            j+=1\n",
    "        k+=1\n",
    "    if i==len(left):\n",
    "        while j < len(right):\n",
    "            array[k]= right[j]\n",
    "            j+=1\n",
    "            k+=1\n",
    "    elif j==len(right):\n",
    "        while i < len(left):\n",
    "            array[k] = left[i]\n",
    "            i+=1\n",
    "            k+=1\n",
    "            \n",
    "    return array"
   ]
  },
  {
   "cell_type": "code",
   "execution_count": 6,
   "metadata": {},
   "outputs": [
    {
     "name": "stdout",
     "output_type": "stream",
     "text": [
      "5\n",
      "1\n",
      "3\n",
      "2\n",
      "4\n",
      "5\n",
      "1\n",
      "2\n",
      "3\n",
      "4\n",
      "5\n"
     ]
    }
   ],
   "source": [
    "n = int(input())\n",
    "array = []\n",
    "\n",
    "for _ in range(n):\n",
    "    array.append(int(input()))\n",
    "    \n",
    "sorted_array = merge_sort(array)\n",
    "\n",
    "for data in sorted_array:\n",
    "    print(data)"
   ]
  },
  {
   "cell_type": "markdown",
   "metadata": {},
   "source": [
    "## Python 라이브러리"
   ]
  },
  {
   "cell_type": "code",
   "execution_count": 7,
   "metadata": {},
   "outputs": [
    {
     "name": "stdout",
     "output_type": "stream",
     "text": [
      "5\n",
      "1\n",
      "3\n",
      "6\n",
      "2\n",
      "4\n",
      "1\n",
      "2\n",
      "3\n",
      "4\n",
      "6\n"
     ]
    }
   ],
   "source": [
    "n = int(input())\n",
    "array = []\n",
    "\n",
    "for _ in range(n):\n",
    "    array.append(int(input()))\n",
    "    \n",
    "sorted_array = sorted(array)\n",
    "\n",
    "for data in sorted_array:\n",
    "    print(data)"
   ]
  },
  {
   "cell_type": "code",
   "execution_count": null,
   "metadata": {},
   "outputs": [],
   "source": []
  }
 ],
 "metadata": {
  "kernelspec": {
   "display_name": "Python 3",
   "language": "python",
   "name": "python3"
  },
  "language_info": {
   "codemirror_mode": {
    "name": "ipython",
    "version": 3
   },
   "file_extension": ".py",
   "mimetype": "text/x-python",
   "name": "python",
   "nbconvert_exporter": "python",
   "pygments_lexer": "ipython3",
   "version": "3.6.9"
  }
 },
 "nbformat": 4,
 "nbformat_minor": 2
}
