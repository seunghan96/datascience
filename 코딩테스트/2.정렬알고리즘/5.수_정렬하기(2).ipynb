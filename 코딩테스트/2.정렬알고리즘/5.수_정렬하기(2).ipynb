{
 "cells": [
  {
   "cell_type": "markdown",
   "metadata": {},
   "source": [
    "- 난이도 : 하\n",
    "- 유형 : 정렬"
   ]
  },
  {
   "cell_type": "code",
   "execution_count": 1,
   "metadata": {},
   "outputs": [],
   "source": [
    "import sys"
   ]
  },
  {
   "cell_type": "code",
   "execution_count": 6,
   "metadata": {},
   "outputs": [
    {
     "name": "stdout",
     "output_type": "stream",
     "text": [
      "5\n",
      "23\n",
      "15\n",
      "63\n",
      "2\n",
      "324\n",
      "2\n",
      "15\n",
      "23\n",
      "63\n",
      "324\n"
     ]
    }
   ],
   "source": [
    "#n = int(sys.stdin.readline())\n",
    "n = int(input())\n",
    "arr= [0]*10001\n",
    "\n",
    "for _ in range(n):\n",
    "    #data = int(sys.stdin.readline())\n",
    "    data = int(input())\n",
    "    arr[data] += 1\n",
    "    \n",
    "for i in range(10001):\n",
    "    if arr[i] != 0 :\n",
    "        for j in range(arr[i]):\n",
    "            print(i)"
   ]
  },
  {
   "cell_type": "code",
   "execution_count": null,
   "metadata": {},
   "outputs": [],
   "source": []
  }
 ],
 "metadata": {
  "kernelspec": {
   "display_name": "Python 3",
   "language": "python",
   "name": "python3"
  },
  "language_info": {
   "codemirror_mode": {
    "name": "ipython",
    "version": 3
   },
   "file_extension": ".py",
   "mimetype": "text/x-python",
   "name": "python",
   "nbconvert_exporter": "python",
   "pygments_lexer": "ipython3",
   "version": "3.6.9"
  }
 },
 "nbformat": 4,
 "nbformat_minor": 2
}
