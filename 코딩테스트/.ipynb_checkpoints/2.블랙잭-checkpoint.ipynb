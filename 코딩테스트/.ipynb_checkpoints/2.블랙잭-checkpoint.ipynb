{
 "cells": [
  {
   "cell_type": "code",
   "execution_count": 4,
   "metadata": {},
   "outputs": [
    {
     "name": "stdout",
     "output_type": "stream",
     "text": [
      "5 138\n",
      "1 20 30 100 200\n",
      "131\n"
     ]
    }
   ],
   "source": [
    "n,m = list(map(int,input().split(' ')))\n",
    "data = list(map(int,input().split(' ')))\n",
    "\n",
    "result = 0\n",
    "length = len(data)\n",
    "\n",
    "for i in range(0,length):\n",
    "    for j in range(i+1,length):\n",
    "        for k in range(j+1,length):\n",
    "            sum_value = data[i]+data[j]+data[k]\n",
    "            if sum_value <= m:\n",
    "                result = max(result,sum_value)\n",
    "\n",
    "print(result)"
   ]
  },
  {
   "cell_type": "code",
   "execution_count": null,
   "metadata": {},
   "outputs": [],
   "source": []
  }
 ],
 "metadata": {
  "kernelspec": {
   "display_name": "Python 3",
   "language": "python",
   "name": "python3"
  },
  "language_info": {
   "codemirror_mode": {
    "name": "ipython",
    "version": 3
   },
   "file_extension": ".py",
   "mimetype": "text/x-python",
   "name": "python",
   "nbconvert_exporter": "python",
   "pygments_lexer": "ipython3",
   "version": "3.6.9"
  }
 },
 "nbformat": 4,
 "nbformat_minor": 2
}
