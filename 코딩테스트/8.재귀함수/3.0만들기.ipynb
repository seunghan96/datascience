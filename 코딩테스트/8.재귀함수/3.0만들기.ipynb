{
 "cells": [
  {
   "cell_type": "markdown",
   "metadata": {},
   "source": [
    "- 난이도 : 중\n",
    "- 유형 : 재귀 함수"
   ]
  },
  {
   "cell_type": "code",
   "execution_count": 2,
   "metadata": {},
   "outputs": [
    {
     "data": {
      "text/plain": [
       "5"
      ]
     },
     "execution_count": 2,
     "metadata": {},
     "output_type": "execute_result"
    }
   ],
   "source": [
    "eval('2+3')"
   ]
  },
  {
   "cell_type": "code",
   "execution_count": 3,
   "metadata": {},
   "outputs": [],
   "source": [
    "import copy"
   ]
  },
  {
   "cell_type": "code",
   "execution_count": 13,
   "metadata": {},
   "outputs": [],
   "source": [
    "def recursive(arr,n):\n",
    "    if len(arr)==n:\n",
    "        operators_list.append(copy.deepcopy(arr))\n",
    "        return\n",
    "    \n",
    "    arr.append(' ')\n",
    "    recursive(arr,n)\n",
    "    arr.pop()\n",
    "    \n",
    "    arr.append('+')\n",
    "    recursive(arr,n)\n",
    "    arr.pop()\n",
    "    \n",
    "    arr.append('-')\n",
    "    recursive(arr,n)\n",
    "    arr.pop()"
   ]
  },
  {
   "cell_type": "code",
   "execution_count": 15,
   "metadata": {},
   "outputs": [
    {
     "name": "stdout",
     "output_type": "stream",
     "text": [
      "5\n",
      "2\n",
      "\n",
      "5\n",
      "1 2-3-4-5\n",
      "\n",
      "6\n",
      "1 2+3-4-5-6\n",
      "\n",
      "4\n",
      "1-2-3+4\n",
      "\n",
      "5\n",
      "1 2-3-4-5\n",
      "\n"
     ]
    }
   ],
   "source": [
    "test_case = int(input())\n",
    "\n",
    "for _ in range(test_case):\n",
    "    operators_list = []\n",
    "    n = int(input())\n",
    "    recursive([],n-1)\n",
    "    \n",
    "    integ = [i for i in range(1,n+1)]\n",
    "    \n",
    "    for operators in operators_list:\n",
    "        string = \"\"\n",
    "        for i in range(n-1):\n",
    "            string += str(integ[i]) + operators[i]\n",
    "        string += str(integ[-1])\n",
    "        \n",
    "        if eval(string.replace(\" \",\"\"))==0:\n",
    "            print(string)\n",
    "    print()"
   ]
  },
  {
   "cell_type": "code",
   "execution_count": 6,
   "metadata": {},
   "outputs": [
    {
     "data": {
      "text/plain": [
       "[[13, 2]]"
      ]
     },
     "execution_count": 6,
     "metadata": {},
     "output_type": "execute_result"
    }
   ],
   "source": [
    "operators_list"
   ]
  },
  {
   "cell_type": "code",
   "execution_count": null,
   "metadata": {},
   "outputs": [],
   "source": []
  }
 ],
 "metadata": {
  "kernelspec": {
   "display_name": "Python 3",
   "language": "python",
   "name": "python3"
  },
  "language_info": {
   "codemirror_mode": {
    "name": "ipython",
    "version": 3
   },
   "file_extension": ".py",
   "mimetype": "text/x-python",
   "name": "python",
   "nbconvert_exporter": "python",
   "pygments_lexer": "ipython3",
   "version": "3.6.9"
  }
 },
 "nbformat": 4,
 "nbformat_minor": 2
}
