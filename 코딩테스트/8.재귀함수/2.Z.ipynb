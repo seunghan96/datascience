{
 "cells": [
  {
   "cell_type": "markdown",
   "metadata": {},
   "source": [
    "- 난이도 : 중\n",
    "- 유형 : 재귀 함수"
   ]
  },
  {
   "cell_type": "code",
   "execution_count": 1,
   "metadata": {},
   "outputs": [],
   "source": [
    "def solve(n,x,y):\n",
    "    global result\n",
    "    if n == 2 :\n",
    "        if x ==X and y==Y:\n",
    "            print(result)\n",
    "            return \n",
    "        result +=1\n",
    "        \n",
    "        if x==X and y+1==Y:\n",
    "            print(result)\n",
    "            return\n",
    "        result +=1\n",
    "        \n",
    "        if x+1==X and y==Y:\n",
    "            print(result)\n",
    "            return\n",
    "        result +=1\n",
    "        \n",
    "        if x+1==X and y+1==Y:\n",
    "            print(result)\n",
    "            return\n",
    "        result +=1\n",
    "        return\n",
    "    \n",
    "    solve(n/2, x,y)\n",
    "    solve(n/2, x,y+(n/2))\n",
    "    solve(n/2, x+(n/2),y)\n",
    "    solve(n/2, x+(n/2),y+(n/2))"
   ]
  },
  {
   "cell_type": "code",
   "execution_count": 8,
   "metadata": {},
   "outputs": [
    {
     "name": "stdout",
     "output_type": "stream",
     "text": [
      "10,1,0\n",
      "2\n"
     ]
    }
   ],
   "source": [
    "result = 0\n",
    "N,X,Y = map(int,input().split(','))\n",
    "\n",
    "solve(2**N,0,0)"
   ]
  },
  {
   "cell_type": "code",
   "execution_count": null,
   "metadata": {},
   "outputs": [],
   "source": []
  }
 ],
 "metadata": {
  "kernelspec": {
   "display_name": "Python 3",
   "language": "python",
   "name": "python3"
  },
  "language_info": {
   "codemirror_mode": {
    "name": "ipython",
    "version": 3
   },
   "file_extension": ".py",
   "mimetype": "text/x-python",
   "name": "python",
   "nbconvert_exporter": "python",
   "pygments_lexer": "ipython3",
   "version": "3.6.9"
  }
 },
 "nbformat": 4,
 "nbformat_minor": 2
}
