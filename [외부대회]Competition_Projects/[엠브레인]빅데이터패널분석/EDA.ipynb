{
 "cells": [
  {
   "cell_type": "markdown",
   "metadata": {},
   "source": [
    "# 엠브레인 빅데이터 분석"
   ]
  },
  {
   "cell_type": "code",
   "execution_count": 1,
   "metadata": {},
   "outputs": [],
   "source": [
    "import pandas as pd\n",
    "import matplotlib.pyplot as plt"
   ]
  },
  {
   "cell_type": "markdown",
   "metadata": {},
   "source": [
    "### 파일 별로 알기 쉽게 변수 지정"
   ]
  },
  {
   "cell_type": "code",
   "execution_count": 2,
   "metadata": {},
   "outputs": [],
   "source": [
    "x = pd.read_excel('data_info.xlsx')\n",
    "y = ['a1','a2','a3','b1','b2','b3','b4','b5','b6','c1','c2','c3','c4','c5','c6']\n",
    "z = pd.DataFrame(y,x['Unnamed: 3'])"
   ]
  },
  {
   "cell_type": "code",
   "execution_count": 24,
   "metadata": {},
   "outputs": [
    {
     "data": {
      "text/html": [
       "<div>\n",
       "<style scoped>\n",
       "    .dataframe tbody tr th:only-of-type {\n",
       "        vertical-align: middle;\n",
       "    }\n",
       "\n",
       "    .dataframe tbody tr th {\n",
       "        vertical-align: top;\n",
       "    }\n",
       "\n",
       "    .dataframe thead th {\n",
       "        text-align: right;\n",
       "    }\n",
       "</style>\n",
       "<table border=\"1\" class=\"dataframe\">\n",
       "  <thead>\n",
       "    <tr style=\"text-align: right;\">\n",
       "      <th></th>\n",
       "      <th>0</th>\n",
       "    </tr>\n",
       "    <tr>\n",
       "      <th>Unnamed: 3</th>\n",
       "      <th></th>\n",
       "    </tr>\n",
       "  </thead>\n",
       "  <tbody>\n",
       "    <tr>\n",
       "      <th>[PPDB] 패널 기초 조사 설문지.docx</th>\n",
       "      <td>a1</td>\n",
       "    </tr>\n",
       "    <tr>\n",
       "      <th>[PPDB] 패널 기초 조사 코드북.xlsx</th>\n",
       "      <td>a2</td>\n",
       "    </tr>\n",
       "    <tr>\n",
       "      <th>[PPDB] data.csv</th>\n",
       "      <td>a3</td>\n",
       "    </tr>\n",
       "    <tr>\n",
       "      <th>[PAYMENT] 데이터 정제_테이블명세서.xlsx</th>\n",
       "      <td>b1</td>\n",
       "    </tr>\n",
       "    <tr>\n",
       "      <th>[PAYMENT] 브랜드코드_추출.xlsx</th>\n",
       "      <td>b2</td>\n",
       "    </tr>\n",
       "    <tr>\n",
       "      <th>[PAYMENT] PAYMENT_201811.csv</th>\n",
       "      <td>b3</td>\n",
       "    </tr>\n",
       "    <tr>\n",
       "      <th>[PAYMENT] Summary_Brand.csv</th>\n",
       "      <td>b4</td>\n",
       "    </tr>\n",
       "    <tr>\n",
       "      <th>[PAYMENT] Summary_Category.csv</th>\n",
       "      <td>b5</td>\n",
       "    </tr>\n",
       "    <tr>\n",
       "      <th>[PAYMENT] Summary_Total.csv</th>\n",
       "      <td>b6</td>\n",
       "    </tr>\n",
       "    <tr>\n",
       "      <th>[APP] 데이터정제_테이블명세서.xlsx</th>\n",
       "      <td>c1</td>\n",
       "    </tr>\n",
       "    <tr>\n",
       "      <th>[APP] usage_category_MME.xlsx</th>\n",
       "      <td>c2</td>\n",
       "    </tr>\n",
       "    <tr>\n",
       "      <th>[APP] Refine_Usage_Sum_Time(60~63).csv</th>\n",
       "      <td>c3</td>\n",
       "    </tr>\n",
       "    <tr>\n",
       "      <th>[APP] Refine_CategoryTime_G.csv</th>\n",
       "      <td>c4</td>\n",
       "    </tr>\n",
       "    <tr>\n",
       "      <th>[APP] Refine_CategoryTime_MME.csv</th>\n",
       "      <td>c5</td>\n",
       "    </tr>\n",
       "    <tr>\n",
       "      <th>[APP] Refine_AppTime.csv</th>\n",
       "      <td>c6</td>\n",
       "    </tr>\n",
       "  </tbody>\n",
       "</table>\n",
       "</div>"
      ],
      "text/plain": [
       "                                         0\n",
       "Unnamed: 3                                \n",
       "[PPDB] 패널 기초 조사 설문지.docx                a1\n",
       "[PPDB] 패널 기초 조사 코드북.xlsx                a2\n",
       "[PPDB] data.csv                         a3\n",
       "[PAYMENT] 데이터 정제_테이블명세서.xlsx            b1\n",
       "[PAYMENT] 브랜드코드_추출.xlsx        b2\n",
       "[PAYMENT] PAYMENT_201811.csv            b3\n",
       "[PAYMENT] Summary_Brand.csv             b4\n",
       "[PAYMENT] Summary_Category.csv          b5\n",
       "[PAYMENT] Summary_Total.csv             b6\n",
       "[APP] 데이터정제_테이블명세서.xlsx                 c1\n",
       "[APP] usage_category_MME.xlsx           c2\n",
       "[APP] Refine_Usage_Sum_Time(60~63).csv  c3\n",
       "[APP] Refine_CategoryTime_G.csv         c4\n",
       "[APP] Refine_CategoryTime_MME.csv       c5\n",
       "[APP] Refine_AppTime.csv                c6"
      ]
     },
     "execution_count": 24,
     "metadata": {},
     "output_type": "execute_result"
    }
   ],
   "source": [
    "z"
   ]
  },
  {
   "cell_type": "code",
   "execution_count": 3,
   "metadata": {},
   "outputs": [
    {
     "name": "stderr",
     "output_type": "stream",
     "text": [
      "C:\\Users\\samsung\\Anaconda3\\lib\\site-packages\\IPython\\core\\interactiveshell.py:2785: DtypeWarning: Columns (9,416,417,418,419,420,421,422) have mixed types. Specify dtype option on import or set low_memory=False.\n",
      "  interactivity=interactivity, compiler=compiler, result=result)\n"
     ]
    }
   ],
   "source": [
    "a3 = pd.read_csv('[PPDB] data.csv')"
   ]
  },
  {
   "cell_type": "code",
   "execution_count": 4,
   "metadata": {},
   "outputs": [
    {
     "data": {
      "text/html": [
       "<div>\n",
       "<style scoped>\n",
       "    .dataframe tbody tr th:only-of-type {\n",
       "        vertical-align: middle;\n",
       "    }\n",
       "\n",
       "    .dataframe tbody tr th {\n",
       "        vertical-align: top;\n",
       "    }\n",
       "\n",
       "    .dataframe thead th {\n",
       "        text-align: right;\n",
       "    }\n",
       "</style>\n",
       "<table border=\"1\" class=\"dataframe\">\n",
       "  <thead>\n",
       "    <tr style=\"text-align: right;\">\n",
       "      <th></th>\n",
       "      <th>id</th>\n",
       "      <th>PP_date</th>\n",
       "      <th>X0001</th>\n",
       "      <th>X0002</th>\n",
       "      <th>X0003</th>\n",
       "      <th>X0004</th>\n",
       "      <th>X0005</th>\n",
       "      <th>X0006</th>\n",
       "      <th>X0007</th>\n",
       "      <th>X0008</th>\n",
       "      <th>...</th>\n",
       "      <th>M0018</th>\n",
       "      <th>M0019</th>\n",
       "      <th>M0020</th>\n",
       "      <th>M0021</th>\n",
       "      <th>M0022</th>\n",
       "      <th>M0023</th>\n",
       "      <th>M0024</th>\n",
       "      <th>M0025</th>\n",
       "      <th>M0026</th>\n",
       "      <th>M0027</th>\n",
       "    </tr>\n",
       "  </thead>\n",
       "  <tbody>\n",
       "    <tr>\n",
       "      <th>0</th>\n",
       "      <td>A0000033</td>\n",
       "      <td>2019-01-11 17:49:19.873</td>\n",
       "      <td>2</td>\n",
       "      <td>5</td>\n",
       "      <td>10</td>\n",
       "      <td>5</td>\n",
       "      <td>1</td>\n",
       "      <td>1</td>\n",
       "      <td>2</td>\n",
       "      <td>6</td>\n",
       "      <td>...</td>\n",
       "      <td>0</td>\n",
       "      <td>0</td>\n",
       "      <td>0</td>\n",
       "      <td>0</td>\n",
       "      <td>0</td>\n",
       "      <td>0</td>\n",
       "      <td>0</td>\n",
       "      <td>0</td>\n",
       "      <td>0</td>\n",
       "      <td>0</td>\n",
       "    </tr>\n",
       "    <tr>\n",
       "      <th>1</th>\n",
       "      <td>A0000056</td>\n",
       "      <td>2018-07-18 10:08:35.563</td>\n",
       "      <td>2</td>\n",
       "      <td>4</td>\n",
       "      <td>7</td>\n",
       "      <td>4</td>\n",
       "      <td>14</td>\n",
       "      <td>4</td>\n",
       "      <td>2</td>\n",
       "      <td>2</td>\n",
       "      <td>...</td>\n",
       "      <td>0</td>\n",
       "      <td>0</td>\n",
       "      <td>1</td>\n",
       "      <td>0</td>\n",
       "      <td>0</td>\n",
       "      <td>0</td>\n",
       "      <td>0</td>\n",
       "      <td>0</td>\n",
       "      <td>0</td>\n",
       "      <td>0</td>\n",
       "    </tr>\n",
       "    <tr>\n",
       "      <th>2</th>\n",
       "      <td>A0000065</td>\n",
       "      <td>2018-11-16 09:41:46.077</td>\n",
       "      <td>2</td>\n",
       "      <td>4</td>\n",
       "      <td>7</td>\n",
       "      <td>4</td>\n",
       "      <td>1</td>\n",
       "      <td>1</td>\n",
       "      <td>2</td>\n",
       "      <td>6</td>\n",
       "      <td>...</td>\n",
       "      <td>0</td>\n",
       "      <td>0</td>\n",
       "      <td>1</td>\n",
       "      <td>0</td>\n",
       "      <td>0</td>\n",
       "      <td>0</td>\n",
       "      <td>0</td>\n",
       "      <td>0</td>\n",
       "      <td>0</td>\n",
       "      <td>0</td>\n",
       "    </tr>\n",
       "    <tr>\n",
       "      <th>3</th>\n",
       "      <td>A0000203</td>\n",
       "      <td>2019-01-07 21:53:37.613</td>\n",
       "      <td>2</td>\n",
       "      <td>4</td>\n",
       "      <td>7</td>\n",
       "      <td>4</td>\n",
       "      <td>1</td>\n",
       "      <td>1</td>\n",
       "      <td>1</td>\n",
       "      <td>5</td>\n",
       "      <td>...</td>\n",
       "      <td>0</td>\n",
       "      <td>0</td>\n",
       "      <td>0</td>\n",
       "      <td>0</td>\n",
       "      <td>0</td>\n",
       "      <td>0</td>\n",
       "      <td>0</td>\n",
       "      <td>0</td>\n",
       "      <td>0</td>\n",
       "      <td>0</td>\n",
       "    </tr>\n",
       "    <tr>\n",
       "      <th>4</th>\n",
       "      <td>A0000258</td>\n",
       "      <td>2018-09-13 14:18:11.850</td>\n",
       "      <td>1</td>\n",
       "      <td>4</td>\n",
       "      <td>7</td>\n",
       "      <td>4</td>\n",
       "      <td>1</td>\n",
       "      <td>1</td>\n",
       "      <td>1</td>\n",
       "      <td>4</td>\n",
       "      <td>...</td>\n",
       "      <td>0</td>\n",
       "      <td>0</td>\n",
       "      <td>0</td>\n",
       "      <td>0</td>\n",
       "      <td>0</td>\n",
       "      <td>0</td>\n",
       "      <td>0</td>\n",
       "      <td>0</td>\n",
       "      <td>0</td>\n",
       "      <td>0</td>\n",
       "    </tr>\n",
       "  </tbody>\n",
       "</table>\n",
       "<p>5 rows × 701 columns</p>\n",
       "</div>"
      ],
      "text/plain": [
       "         id                  PP_date  X0001  X0002  X0003  X0004  X0005  \\\n",
       "0  A0000033  2019-01-11 17:49:19.873      2      5     10      5      1   \n",
       "1  A0000056  2018-07-18 10:08:35.563      2      4      7      4     14   \n",
       "2  A0000065  2018-11-16 09:41:46.077      2      4      7      4      1   \n",
       "3  A0000203  2019-01-07 21:53:37.613      2      4      7      4      1   \n",
       "4  A0000258  2018-09-13 14:18:11.850      1      4      7      4      1   \n",
       "\n",
       "   X0006  X0007 X0008  ...    M0018  M0019  M0020  M0021  M0022  M0023  M0024  \\\n",
       "0      1      2     6  ...        0      0      0      0      0      0      0   \n",
       "1      4      2     2  ...        0      0      1      0      0      0      0   \n",
       "2      1      2     6  ...        0      0      1      0      0      0      0   \n",
       "3      1      1     5  ...        0      0      0      0      0      0      0   \n",
       "4      1      1     4  ...        0      0      0      0      0      0      0   \n",
       "\n",
       "   M0025  M0026  M0027  \n",
       "0      0      0      0  \n",
       "1      0      0      0  \n",
       "2      0      0      0  \n",
       "3      0      0      0  \n",
       "4      0      0      0  \n",
       "\n",
       "[5 rows x 701 columns]"
      ]
     },
     "execution_count": 4,
     "metadata": {},
     "output_type": "execute_result"
    }
   ],
   "source": [
    "a3.head()"
   ]
  },
  {
   "cell_type": "markdown",
   "metadata": {},
   "source": [
    "### 성별 확인"
   ]
  },
  {
   "cell_type": "code",
   "execution_count": 5,
   "metadata": {},
   "outputs": [],
   "source": [
    "Man = a3[a3['X0001']==1]\n",
    "Woman = a3[a3['X0001']==2]"
   ]
  },
  {
   "cell_type": "code",
   "execution_count": 6,
   "metadata": {},
   "outputs": [
    {
     "data": {
      "text/plain": [
       "0    27873\n",
       "1    14578\n",
       "Name: F0057, dtype: int64"
      ]
     },
     "execution_count": 6,
     "metadata": {},
     "output_type": "execute_result"
    }
   ],
   "source": [
    "Man['F0057'].value_counts()"
   ]
  },
  {
   "cell_type": "code",
   "execution_count": 7,
   "metadata": {},
   "outputs": [
    {
     "data": {
      "text/plain": [
       "0    67725\n",
       "1     5678\n",
       "Name: F0057, dtype: int64"
      ]
     },
     "execution_count": 7,
     "metadata": {},
     "output_type": "execute_result"
    }
   ],
   "source": [
    "Woman['F0057'].value_counts()"
   ]
  },
  {
   "cell_type": "code",
   "execution_count": 8,
   "metadata": {},
   "outputs": [],
   "source": [
    "WomanSmoke = Woman[Woman['F0057']==1]\n",
    "WomanSmokeX = Woman[Woman['F0057']==0]"
   ]
  },
  {
   "cell_type": "markdown",
   "metadata": {},
   "source": [
    "## 온라인 쇼핑 여부 ( 남.녀 / 소득 / 소비대상 등... )"
   ]
  },
  {
   "cell_type": "markdown",
   "metadata": {},
   "source": [
    "#### 주제 : 온라인 쇼핑 하는/안하는 사람들의 차이\n",
    "#### ( 온라인 쇼핑 = 모바일 쇼핑 + 인터넷 쇼핑 + TV홈쇼핑 )"
   ]
  },
  {
   "cell_type": "code",
   "execution_count": 6,
   "metadata": {},
   "outputs": [],
   "source": [
    "a3['ONLINE'] = a3[['I0025','I0026','I0027']].sum(axis=1)\n",
    "ONLINE_X = a3[a3['ONLINE']==0] # 20999명\n",
    "ONLINE_O = a3[a3['ONLINE']!=0] # 94855명"
   ]
  },
  {
   "cell_type": "code",
   "execution_count": 7,
   "metadata": {},
   "outputs": [
    {
     "data": {
      "text/plain": [
       "2    63568\n",
       "1    31287\n",
       "Name: X0001, dtype: int64"
      ]
     },
     "execution_count": 7,
     "metadata": {},
     "output_type": "execute_result"
    }
   ],
   "source": [
    "# 온라인 하는 사람 성비\n",
    "ONLINE_O['X0001'].value_counts()  "
   ]
  },
  {
   "cell_type": "code",
   "execution_count": 8,
   "metadata": {},
   "outputs": [
    {
     "data": {
      "text/plain": [
       "1    11164\n",
       "2     9835\n",
       "Name: X0001, dtype: int64"
      ]
     },
     "execution_count": 8,
     "metadata": {},
     "output_type": "execute_result"
    }
   ],
   "source": [
    "# 온라인 안하는 사람 성비\n",
    "ONLINE_X['X0001'].value_counts()  "
   ]
  },
  {
   "cell_type": "code",
   "execution_count": 9,
   "metadata": {},
   "outputs": [
    {
     "data": {
      "text/plain": [
       "Text(0.5,1,'Non-online Shoppers')"
      ]
     },
     "execution_count": 9,
     "metadata": {},
     "output_type": "execute_result"
    },
    {
     "data": {
      "image/png": "[encoded data removed]",
      "text/plain": [
       "<Figure size 432x288 with 2 Axes>"
      ]
     },
     "metadata": {},
     "output_type": "display_data"
    }
   ],
   "source": [
    "plt.subplot(1, 2, 1)\n",
    "plt.pie(ONLINE_O['X0001'].value_counts(normalize=True),labels=['Woman','Man'],autopct='%1.1f%%',colors=['lightcoral','darkcyan'])\n",
    "plt.title('Online Shoppers')\n",
    "\n",
    "plt.subplot(1, 2, 2)\n",
    "plt.pie(ONLINE_X['X0001'].value_counts(normalize=True),labels=['Man','Woman'],autopct='%1.1f%%',colors=['darkcyan','lightcoral'])\n",
    "plt.title('Non-online Shoppers')"
   ]
  },
  {
   "cell_type": "markdown",
   "metadata": {},
   "source": [
    "#### 온라인 하는/안하는 남&녀"
   ]
  },
  {
   "cell_type": "code",
   "execution_count": 10,
   "metadata": {},
   "outputs": [],
   "source": [
    "ONLINE_O_Man = ONLINE_O[ONLINE_O['X0001']==1]\n",
    "ONLINE_X_Man = ONLINE_X[ONLINE_X['X0001']==1]\n",
    "\n",
    "ONLINE_O_Woman = ONLINE_O[ONLINE_O['X0001']==2]\n",
    "ONLINE_X_Woman = ONLINE_X[ONLINE_X['X0001']==2]"
   ]
  },
  {
   "cell_type": "code",
   "execution_count": 11,
   "metadata": {},
   "outputs": [
    {
     "name": "stdout",
     "output_type": "stream",
     "text": [
      "94855\n",
      "20999\n"
     ]
    }
   ],
   "source": [
    "print(len(ONLINE_O))\n",
    "print(len(ONLINE_X))"
   ]
  },
  {
   "cell_type": "code",
   "execution_count": 12,
   "metadata": {},
   "outputs": [
    {
     "name": "stdout",
     "output_type": "stream",
     "text": [
      "대형몰 이용하는 Online유저 비율 :  0.35216910020557696\n",
      "편의점 이용하는 Online유저 비율 :  0.8691160191871804\n",
      "전문점 이용하는 Online유저 비율 :  0.5369458647409203\n",
      "전통시장 이용하는 Online유저 비율 :  0.7645669706393969\n",
      "해외직구 이용하는 Online유저 비율 :  0.18057034420958304\n"
     ]
    }
   ],
   "source": [
    "# Online : 94855명\n",
    "온라인유저대형몰 = ONLINE_O[['I0015','I0016','I0017','I0018','I0019']].sum(axis=1)>2\n",
    "온라인유저편의점 = ONLINE_O[['I0020']].sum(axis=1)==1\n",
    "온라인유저전문점 = ONLINE_O[['I0021','I0022']].sum(axis=1)>0\n",
    "온라인유저전통시장 = ONLINE_O[['I0023','I0024']].sum(axis=1)>0\n",
    "온라인유저해외직구 = ONLINE_O[['I0028']].sum(axis=1)==1\n",
    "print('대형몰 이용하는 Online유저 비율 : ', 온라인유저대형몰.sum()/94855)\n",
    "print('편의점 이용하는 Online유저 비율 : ', 온라인유저편의점.sum()/94855)\n",
    "print('전문점 이용하는 Online유저 비율 : ', 온라인유저전문점.sum()/94855)\n",
    "print('전통시장 이용하는 Online유저 비율 : ',온라인유저전통시장.sum()/94855)\n",
    "print('해외직구 이용하는 Online유저 비율 : ', 온라인유저해외직구.sum()/94855)"
   ]
  },
  {
   "cell_type": "code",
   "execution_count": 15,
   "metadata": {},
   "outputs": [
    {
     "name": "stdout",
     "output_type": "stream",
     "text": [
      "대형몰 이용하는 Non-Online유저 비율 :  0.14505452640601935\n",
      "편의점 이용하는 Non-Online유저 비율 :  0.6241725796466498\n",
      "전문점 이용하는 Non-Online유저 비율 :  0.2429163293490166\n",
      "전통시장 이용하는 Non-Online유저 비율 :  0.4361160055240726\n",
      "해외직구 이용하는 Non-Online유저 비율 :  0.02704890709081385\n"
     ]
    }
   ],
   "source": [
    "# 비Online : 20999명\n",
    "비온라인유저대형몰 = ONLINE_X[['I0015','I0016','I0017','I0018','I0019']].sum(axis=1)>2\n",
    "비온라인유저편의점 = ONLINE_X[['I0020']].sum(axis=1)==1\n",
    "비온라인유저전문점 = ONLINE_X[['I0021','I0022']].sum(axis=1)>0\n",
    "비온라인유저전통시장 = ONLINE_X[['I0023','I0024']].sum(axis=1)>0\n",
    "비온라인유저해외직구 = ONLINE_X[['I0028']].sum(axis=1)==1\n",
    "print('대형몰 이용하는 Non-Online유저 비율 : ', 비온라인유저대형몰.sum()/20999)\n",
    "print('편의점 이용하는 Non-Online유저 비율 : ', 비온라인유저편의점.sum()/20999)\n",
    "print('전문점 이용하는 Non-Online유저 비율 : ', 비온라인유저전문점.sum()/20999)\n",
    "print('전통시장 이용하는 Non-Online유저 비율 : ',비온라인유저전통시장.sum()/20999)\n",
    "print('해외직구 이용하는 Non-Online유저 비율 : ', 비온라인유저해외직구.sum()/20999)"
   ]
  },
  {
   "cell_type": "markdown",
   "metadata": {},
   "source": [
    "### 온라인 쇼핑을 하는 사람의 경우, 온라인 쇼핑을 하지 않는 사람보다 다른 형태의 쇼핑(대형몰/편의점/전문점/전통시장/해외직구)또한 더 많이 하는 것으로 나왔다.\n",
    "### ( 온라인 쇼핑이 다른 형태의 쇼핑의 대체재가 아닌 보완재의 성격을 띈다고 볼 수 있음 )"
   ]
  },
  {
   "cell_type": "markdown",
   "metadata": {},
   "source": [
    "### 그 중 눈에 띄는 것 : 비온라인 유저의 43.6% 최근 3개월 동안 전통시장을 이용한적이 있으나, 이에 반해 온라인 유저의 경우에는 76.5%였다\n",
    "\n",
    "### 대형몰,편의점,전문점,해외직구 등을 통해서 구할 수 있는 물품들은 주로 온라인 쇼핑을 통해서도 구할 수 있으나, 전통시장의 것의 경우에는 찾아보기 쉽지 않음 -> 전통시장에서 구할 수 있는 것들도 온라인 쇼핑에서도 판매한다면?"
   ]
  },
  {
   "cell_type": "code",
   "execution_count": 25,
   "metadata": {},
   "outputs": [
    {
     "name": "stdout",
     "output_type": "stream",
     "text": [
      "정기배달 이용O Online유저 비율 :  0.2900954087818249\n",
      "정기배달 이용X Online유저 비율 :  0.7099045912181751\n",
      "정기배달 이용O Non-Online유저 비율 :  0.29058526596504597\n",
      "정기배달 이용X Non-Online유저 비율 :  0.709414734034954\n"
     ]
    }
   ],
   "source": [
    "정기배달O온라인O = ONLINE_O[['A0063','A0064','A0065','A0066','A0067','A0068','A0069','A0070','A0071']].sum(axis=1)>0\n",
    "정기배달X온라인O = ONLINE_O[['A0063','A0064','A0065','A0066','A0067','A0068','A0069','A0070','A0071']].sum(axis=1)==0\n",
    "\n",
    "정기배달O온라인X = ONLINE_X[['A0063','A0064','A0065','A0066','A0067','A0068','A0069','A0070','A0071']].sum(axis=1)>0\n",
    "정기배달X온라인X = ONLINE_X[['A0063','A0064','A0065','A0066','A0067','A0068','A0069','A0070','A0071']].sum(axis=1)==0\n",
    "\n",
    "print('정기배달 이용O Online유저 비율 : ', 정기배달O온라인O.sum()/94855)\n",
    "print('정기배달 이용X Online유저 비율 : ', 정기배달X온라인O.sum()/94855)\n",
    "print('정기배달 이용O Non-Online유저 비율 : ',정기배달O온라인X.sum()/20999)\n",
    "print('정기배달 이용X Non-Online유저 비율 : ',정기배달X온라인X.sum()/20999)"
   ]
  },
  {
   "cell_type": "code",
   "execution_count": 40,
   "metadata": {},
   "outputs": [],
   "source": [
    "음식음료list = []\n",
    "for i in range(11,79):\n",
    "        음식음료list.append('E00'+str(i))"
   ]
  },
  {
   "cell_type": "markdown",
   "metadata": {},
   "source": [
    "dictionary = {}\n",
    "for i in 음식음료list:\n",
    "    x = ONLINE_O[[i]].sum(axis=1)==1\n",
    "    y = ONLINE_X[[i]].sum(axis=1)==1\n",
    "    dictionary.update({i:((x.sum()/94855),(y.sum()/20999))})\n",
    "    \n",
    "dictionary"
   ]
  },
  {
   "cell_type": "code",
   "execution_count": 13,
   "metadata": {},
   "outputs": [],
   "source": [
    "# 유의미한 차이\n",
    "# 17,20,24,27,32,38,44,64,66,76"
   ]
  },
  {
   "cell_type": "code",
   "execution_count": 14,
   "metadata": {},
   "outputs": [
    {
     "ename": "SyntaxError",
     "evalue": "invalid syntax (<ipython-input-14-2e5feb556623>, line 3)",
     "output_type": "error",
     "traceback": [
      "\u001b[1;36m  File \u001b[1;32m\"<ipython-input-14-2e5feb556623>\"\u001b[1;36m, line \u001b[1;32m3\u001b[0m\n\u001b[1;33m    for i in 11:79:\u001b[0m\n\u001b[1;37m                   ^\u001b[0m\n\u001b[1;31mSyntaxError\u001b[0m\u001b[1;31m:\u001b[0m invalid syntax\n"
     ]
    }
   ],
   "source": [
    "# 만능 공식\n",
    "list = []\n",
    "for i in 11:79:\n",
    "        list.append('E00'+i)        \n",
    "정기배달O온라인O = ONLINE_O[['A0070']].sum(axis=1)>0\n",
    "정기배달X온라인O = ONLINE_O[['A0070']].sum(axis=1)==0\n",
    "\n",
    "정기배달O온라인X = ONLINE_X[['A0070']].sum(axis=1)>0\n",
    "정기배달X온라인X = ONLINE_X[['A0070']].sum(axis=1)==0\n",
    "\n",
    "print('정기배달 이용O Online유저 비율 : ', 정기배달O온라인O.sum()/94855)\n",
    "print('정기배달 이용X Online유저 비율 : ', 정기배달X온라인O.sum()/94855)\n",
    "print('정기배달 이용O Non-Online유저 비율 : ',정기배달O온라인X.sum()/20999)\n",
    "print('정기배달 이용X Non-Online유저 비율 : ',정기배달X온라인X.sum()/20999)"
   ]
  },
  {
   "cell_type": "markdown",
   "metadata": {},
   "source": [
    "### NEW"
   ]
  },
  {
   "cell_type": "code",
   "execution_count": 10,
   "metadata": {},
   "outputs": [],
   "source": [
    "#b1 = pd.read_excel('[PAYMENT] 데이터 정제_테이블명세서.xlsx')\n",
    "#b2 = pd.read_excel('[PAYMENT] 브랜드코드_추출.XLSX')\n",
    "b3_1 = pd.read_csv('[PAYMENT] PAYMENT_201811.CSV')\n",
    "b3_2 = pd.read_csv('[PAYMENT] PAYMENT_201812.CSV')\n",
    "b3_3 = pd.read_csv('[PAYMENT] PAYMENT_201901.CSV')\n",
    "b3_4 = pd.read_csv('[PAYMENT] PAYMENT_201902.CSV')\n",
    "#b4 = pd.read_csv('[PAYMENT] Summary_Brand.csv')\n",
    "#b5 = pd.read_csv('[PAYMENT] Summary_Category.csv')\n",
    "#b6 = pd.read_csv('[PAYMENT] Summary_Total.csv')"
   ]
  },
  {
   "cell_type": "code",
   "execution_count": 11,
   "metadata": {},
   "outputs": [],
   "source": [
    "b3 = pd.concat([b3_1,b3_2,b3_3,b3_4])"
   ]
  },
  {
   "cell_type": "code",
   "execution_count": 134,
   "metadata": {},
   "outputs": [],
   "source": [
    "#c1 = pd.read_excel('[APP] 데이터정제_테이블명세서.xlsx')\n",
    "#c2 = pd.read_excel('[APP] usage_category_MME.xlsx')\n",
    "c31 = pd.read_csv('[APP] Refine_Usage_Sum_Time(60~63).csv')\n",
    "c32 = pd.read_csv('[APP] Refine_Usage_Sum_Time(64~67).csv')\n",
    "c33 = pd.read_csv('[APP] Refine_Usage_Sum_Time(68~72).csv')\n",
    "c34 = pd.read_csv('[APP] Refine_Usage_Sum_Time(73~76).csv')\n",
    "#c4 = pd.read_csv('[APP] Refine_CategoryTime_G.csv')\n",
    "#c5 = pd.read_csv('[APP] Refine_CategoryTime_MME.csv')\n",
    "#c6 = pd.read_csv('[APP] Refine_AppTime.csv')"
   ]
  },
  {
   "cell_type": "code",
   "execution_count": 136,
   "metadata": {},
   "outputs": [
    {
     "ename": "MemoryError",
     "evalue": "",
     "output_type": "error",
     "traceback": [
      "\u001b[1;31m---------------------------------------------------------------------------\u001b[0m",
      "\u001b[1;31mMemoryError\u001b[0m                               Traceback (most recent call last)",
      "\u001b[1;32m<ipython-input-136-27506df7c147>\u001b[0m in \u001b[0;36m<module>\u001b[1;34m()\u001b[0m\n\u001b[1;32m----> 1\u001b[1;33m \u001b[0mc3\u001b[0m \u001b[1;33m=\u001b[0m \u001b[0mpd\u001b[0m\u001b[1;33m.\u001b[0m\u001b[0mconcat\u001b[0m\u001b[1;33m(\u001b[0m\u001b[1;33m[\u001b[0m\u001b[0mc31\u001b[0m\u001b[1;33m,\u001b[0m\u001b[0mc32\u001b[0m\u001b[1;33m,\u001b[0m\u001b[0mc33\u001b[0m\u001b[1;33m,\u001b[0m\u001b[0mc34\u001b[0m\u001b[1;33m]\u001b[0m\u001b[1;33m)\u001b[0m\u001b[1;33m\u001b[0m\u001b[0m\n\u001b[0m",
      "\u001b[1;32m~\\Anaconda3\\lib\\site-packages\\pandas\\core\\reshape\\concat.py\u001b[0m in \u001b[0;36mconcat\u001b[1;34m(objs, axis, join, join_axes, ignore_index, keys, levels, names, verify_integrity, sort, copy)\u001b[0m\n\u001b[0;32m    223\u001b[0m                        \u001b[0mkeys\u001b[0m\u001b[1;33m=\u001b[0m\u001b[0mkeys\u001b[0m\u001b[1;33m,\u001b[0m \u001b[0mlevels\u001b[0m\u001b[1;33m=\u001b[0m\u001b[0mlevels\u001b[0m\u001b[1;33m,\u001b[0m \u001b[0mnames\u001b[0m\u001b[1;33m=\u001b[0m\u001b[0mnames\u001b[0m\u001b[1;33m,\u001b[0m\u001b[1;33m\u001b[0m\u001b[0m\n\u001b[0;32m    224\u001b[0m                        \u001b[0mverify_integrity\u001b[0m\u001b[1;33m=\u001b[0m\u001b[0mverify_integrity\u001b[0m\u001b[1;33m,\u001b[0m\u001b[1;33m\u001b[0m\u001b[0m\n\u001b[1;32m--> 225\u001b[1;33m                        copy=copy, sort=sort)\n\u001b[0m\u001b[0;32m    226\u001b[0m     \u001b[1;32mreturn\u001b[0m \u001b[0mop\u001b[0m\u001b[1;33m.\u001b[0m\u001b[0mget_result\u001b[0m\u001b[1;33m(\u001b[0m\u001b[1;33m)\u001b[0m\u001b[1;33m\u001b[0m\u001b[0m\n\u001b[0;32m    227\u001b[0m \u001b[1;33m\u001b[0m\u001b[0m\n",
      "\u001b[1;32m~\\Anaconda3\\lib\\site-packages\\pandas\\core\\reshape\\concat.py\u001b[0m in \u001b[0;36m__init__\u001b[1;34m(self, objs, axis, join, join_axes, keys, levels, names, ignore_index, verify_integrity, copy, sort)\u001b[0m\n\u001b[0;32m    376\u001b[0m         \u001b[0mself\u001b[0m\u001b[1;33m.\u001b[0m\u001b[0mcopy\u001b[0m \u001b[1;33m=\u001b[0m \u001b[0mcopy\u001b[0m\u001b[1;33m\u001b[0m\u001b[0m\n\u001b[0;32m    377\u001b[0m \u001b[1;33m\u001b[0m\u001b[0m\n\u001b[1;32m--> 378\u001b[1;33m         \u001b[0mself\u001b[0m\u001b[1;33m.\u001b[0m\u001b[0mnew_axes\u001b[0m \u001b[1;33m=\u001b[0m \u001b[0mself\u001b[0m\u001b[1;33m.\u001b[0m\u001b[0m_get_new_axes\u001b[0m\u001b[1;33m(\u001b[0m\u001b[1;33m)\u001b[0m\u001b[1;33m\u001b[0m\u001b[0m\n\u001b[0m\u001b[0;32m    379\u001b[0m \u001b[1;33m\u001b[0m\u001b[0m\n\u001b[0;32m    380\u001b[0m     \u001b[1;32mdef\u001b[0m \u001b[0mget_result\u001b[0m\u001b[1;33m(\u001b[0m\u001b[0mself\u001b[0m\u001b[1;33m)\u001b[0m\u001b[1;33m:\u001b[0m\u001b[1;33m\u001b[0m\u001b[0m\n",
      "\u001b[1;32m~\\Anaconda3\\lib\\site-packages\\pandas\\core\\reshape\\concat.py\u001b[0m in \u001b[0;36m_get_new_axes\u001b[1;34m(self)\u001b[0m\n\u001b[0;32m    456\u001b[0m                 \u001b[0mnew_axes\u001b[0m\u001b[1;33m[\u001b[0m\u001b[0mi\u001b[0m\u001b[1;33m]\u001b[0m \u001b[1;33m=\u001b[0m \u001b[0max\u001b[0m\u001b[1;33m\u001b[0m\u001b[0m\n\u001b[0;32m    457\u001b[0m \u001b[1;33m\u001b[0m\u001b[0m\n\u001b[1;32m--> 458\u001b[1;33m         \u001b[0mnew_axes\u001b[0m\u001b[1;33m[\u001b[0m\u001b[0mself\u001b[0m\u001b[1;33m.\u001b[0m\u001b[0maxis\u001b[0m\u001b[1;33m]\u001b[0m \u001b[1;33m=\u001b[0m \u001b[0mself\u001b[0m\u001b[1;33m.\u001b[0m\u001b[0m_get_concat_axis\u001b[0m\u001b[1;33m(\u001b[0m\u001b[1;33m)\u001b[0m\u001b[1;33m\u001b[0m\u001b[0m\n\u001b[0m\u001b[0;32m    459\u001b[0m         \u001b[1;32mreturn\u001b[0m \u001b[0mnew_axes\u001b[0m\u001b[1;33m\u001b[0m\u001b[0m\n\u001b[0;32m    460\u001b[0m \u001b[1;33m\u001b[0m\u001b[0m\n",
      "\u001b[1;32m~\\Anaconda3\\lib\\site-packages\\pandas\\core\\reshape\\concat.py\u001b[0m in \u001b[0;36m_get_concat_axis\u001b[1;34m(self)\u001b[0m\n\u001b[0;32m    509\u001b[0m \u001b[1;33m\u001b[0m\u001b[0m\n\u001b[0;32m    510\u001b[0m         \u001b[1;32mif\u001b[0m \u001b[0mself\u001b[0m\u001b[1;33m.\u001b[0m\u001b[0mkeys\u001b[0m \u001b[1;32mis\u001b[0m \u001b[1;32mNone\u001b[0m\u001b[1;33m:\u001b[0m\u001b[1;33m\u001b[0m\u001b[0m\n\u001b[1;32m--> 511\u001b[1;33m             \u001b[0mconcat_axis\u001b[0m \u001b[1;33m=\u001b[0m \u001b[0m_concat_indexes\u001b[0m\u001b[1;33m(\u001b[0m\u001b[0mindexes\u001b[0m\u001b[1;33m)\u001b[0m\u001b[1;33m\u001b[0m\u001b[0m\n\u001b[0m\u001b[0;32m    512\u001b[0m         \u001b[1;32melse\u001b[0m\u001b[1;33m:\u001b[0m\u001b[1;33m\u001b[0m\u001b[0m\n\u001b[0;32m    513\u001b[0m             concat_axis = _make_concat_multiindex(indexes, self.keys,\n",
      "\u001b[1;32m~\\Anaconda3\\lib\\site-packages\\pandas\\core\\reshape\\concat.py\u001b[0m in \u001b[0;36m_concat_indexes\u001b[1;34m(indexes)\u001b[0m\n\u001b[0;32m    527\u001b[0m \u001b[1;33m\u001b[0m\u001b[0m\n\u001b[0;32m    528\u001b[0m \u001b[1;32mdef\u001b[0m \u001b[0m_concat_indexes\u001b[0m\u001b[1;33m(\u001b[0m\u001b[0mindexes\u001b[0m\u001b[1;33m)\u001b[0m\u001b[1;33m:\u001b[0m\u001b[1;33m\u001b[0m\u001b[0m\n\u001b[1;32m--> 529\u001b[1;33m     \u001b[1;32mreturn\u001b[0m \u001b[0mindexes\u001b[0m\u001b[1;33m[\u001b[0m\u001b[1;36m0\u001b[0m\u001b[1;33m]\u001b[0m\u001b[1;33m.\u001b[0m\u001b[0mappend\u001b[0m\u001b[1;33m(\u001b[0m\u001b[0mindexes\u001b[0m\u001b[1;33m[\u001b[0m\u001b[1;36m1\u001b[0m\u001b[1;33m:\u001b[0m\u001b[1;33m]\u001b[0m\u001b[1;33m)\u001b[0m\u001b[1;33m\u001b[0m\u001b[0m\n\u001b[0m\u001b[0;32m    530\u001b[0m \u001b[1;33m\u001b[0m\u001b[0m\n\u001b[0;32m    531\u001b[0m \u001b[1;33m\u001b[0m\u001b[0m\n",
      "\u001b[1;32m~\\Anaconda3\\lib\\site-packages\\pandas\\core\\indexes\\base.py\u001b[0m in \u001b[0;36mappend\u001b[1;34m(self, other)\u001b[0m\n\u001b[0;32m   2124\u001b[0m         \u001b[0mname\u001b[0m \u001b[1;33m=\u001b[0m \u001b[1;32mNone\u001b[0m \u001b[1;32mif\u001b[0m \u001b[0mlen\u001b[0m\u001b[1;33m(\u001b[0m\u001b[0mnames\u001b[0m\u001b[1;33m)\u001b[0m \u001b[1;33m>\u001b[0m \u001b[1;36m1\u001b[0m \u001b[1;32melse\u001b[0m \u001b[0mself\u001b[0m\u001b[1;33m.\u001b[0m\u001b[0mname\u001b[0m\u001b[1;33m\u001b[0m\u001b[0m\n\u001b[0;32m   2125\u001b[0m \u001b[1;33m\u001b[0m\u001b[0m\n\u001b[1;32m-> 2126\u001b[1;33m         \u001b[1;32mreturn\u001b[0m \u001b[0mself\u001b[0m\u001b[1;33m.\u001b[0m\u001b[0m_concat\u001b[0m\u001b[1;33m(\u001b[0m\u001b[0mto_concat\u001b[0m\u001b[1;33m,\u001b[0m \u001b[0mname\u001b[0m\u001b[1;33m)\u001b[0m\u001b[1;33m\u001b[0m\u001b[0m\n\u001b[0m\u001b[0;32m   2127\u001b[0m \u001b[1;33m\u001b[0m\u001b[0m\n\u001b[0;32m   2128\u001b[0m     \u001b[1;32mdef\u001b[0m \u001b[0m_concat\u001b[0m\u001b[1;33m(\u001b[0m\u001b[0mself\u001b[0m\u001b[1;33m,\u001b[0m \u001b[0mto_concat\u001b[0m\u001b[1;33m,\u001b[0m \u001b[0mname\u001b[0m\u001b[1;33m)\u001b[0m\u001b[1;33m:\u001b[0m\u001b[1;33m\u001b[0m\u001b[0m\n",
      "\u001b[1;32m~\\Anaconda3\\lib\\site-packages\\pandas\\core\\indexes\\base.py\u001b[0m in \u001b[0;36m_concat\u001b[1;34m(self, to_concat, name)\u001b[0m\n\u001b[0;32m   2131\u001b[0m \u001b[1;33m\u001b[0m\u001b[0m\n\u001b[0;32m   2132\u001b[0m         \u001b[1;32mif\u001b[0m \u001b[0mlen\u001b[0m\u001b[1;33m(\u001b[0m\u001b[0mtyps\u001b[0m\u001b[1;33m)\u001b[0m \u001b[1;33m==\u001b[0m \u001b[1;36m1\u001b[0m\u001b[1;33m:\u001b[0m\u001b[1;33m\u001b[0m\u001b[0m\n\u001b[1;32m-> 2133\u001b[1;33m             \u001b[1;32mreturn\u001b[0m \u001b[0mself\u001b[0m\u001b[1;33m.\u001b[0m\u001b[0m_concat_same_dtype\u001b[0m\u001b[1;33m(\u001b[0m\u001b[0mto_concat\u001b[0m\u001b[1;33m,\u001b[0m \u001b[0mname\u001b[0m\u001b[1;33m=\u001b[0m\u001b[0mname\u001b[0m\u001b[1;33m)\u001b[0m\u001b[1;33m\u001b[0m\u001b[0m\n\u001b[0m\u001b[0;32m   2134\u001b[0m         \u001b[1;32mreturn\u001b[0m \u001b[0m_concat\u001b[0m\u001b[1;33m.\u001b[0m\u001b[0m_concat_index_asobject\u001b[0m\u001b[1;33m(\u001b[0m\u001b[0mto_concat\u001b[0m\u001b[1;33m,\u001b[0m \u001b[0mname\u001b[0m\u001b[1;33m=\u001b[0m\u001b[0mname\u001b[0m\u001b[1;33m)\u001b[0m\u001b[1;33m\u001b[0m\u001b[0m\n\u001b[0;32m   2135\u001b[0m \u001b[1;33m\u001b[0m\u001b[0m\n",
      "\u001b[1;32m~\\Anaconda3\\lib\\site-packages\\pandas\\core\\indexes\\range.py\u001b[0m in \u001b[0;36m_concat_same_dtype\u001b[1;34m(self, indexes, name)\u001b[0m\n\u001b[0;32m    477\u001b[0m \u001b[1;33m\u001b[0m\u001b[0m\n\u001b[0;32m    478\u001b[0m     \u001b[1;32mdef\u001b[0m \u001b[0m_concat_same_dtype\u001b[0m\u001b[1;33m(\u001b[0m\u001b[0mself\u001b[0m\u001b[1;33m,\u001b[0m \u001b[0mindexes\u001b[0m\u001b[1;33m,\u001b[0m \u001b[0mname\u001b[0m\u001b[1;33m)\u001b[0m\u001b[1;33m:\u001b[0m\u001b[1;33m\u001b[0m\u001b[0m\n\u001b[1;32m--> 479\u001b[1;33m         \u001b[1;32mreturn\u001b[0m \u001b[0m_concat\u001b[0m\u001b[1;33m.\u001b[0m\u001b[0m_concat_rangeindex_same_dtype\u001b[0m\u001b[1;33m(\u001b[0m\u001b[0mindexes\u001b[0m\u001b[1;33m)\u001b[0m\u001b[1;33m.\u001b[0m\u001b[0mrename\u001b[0m\u001b[1;33m(\u001b[0m\u001b[0mname\u001b[0m\u001b[1;33m)\u001b[0m\u001b[1;33m\u001b[0m\u001b[0m\n\u001b[0m\u001b[0;32m    480\u001b[0m \u001b[1;33m\u001b[0m\u001b[0m\n\u001b[0;32m    481\u001b[0m     \u001b[1;32mdef\u001b[0m \u001b[0m__len__\u001b[0m\u001b[1;33m(\u001b[0m\u001b[0mself\u001b[0m\u001b[1;33m)\u001b[0m\u001b[1;33m:\u001b[0m\u001b[1;33m\u001b[0m\u001b[0m\n",
      "\u001b[1;32m~\\Anaconda3\\lib\\site-packages\\pandas\\core\\dtypes\\concat.py\u001b[0m in \u001b[0;36m_concat_rangeindex_same_dtype\u001b[1;34m(indexes)\u001b[0m\n\u001b[0;32m    639\u001b[0m                            (next is not None and obj._start != next))\n\u001b[0;32m    640\u001b[0m         \u001b[1;32mif\u001b[0m \u001b[0mnon_consecutive\u001b[0m\u001b[1;33m:\u001b[0m\u001b[1;33m\u001b[0m\u001b[0m\n\u001b[1;32m--> 641\u001b[1;33m             \u001b[1;32mreturn\u001b[0m \u001b[0m_concat_index_same_dtype\u001b[0m\u001b[1;33m(\u001b[0m\u001b[0mindexes\u001b[0m\u001b[1;33m,\u001b[0m \u001b[0mklass\u001b[0m\u001b[1;33m=\u001b[0m\u001b[0mInt64Index\u001b[0m\u001b[1;33m)\u001b[0m\u001b[1;33m\u001b[0m\u001b[0m\n\u001b[0m\u001b[0;32m    642\u001b[0m \u001b[1;33m\u001b[0m\u001b[0m\n\u001b[0;32m    643\u001b[0m         \u001b[1;32mif\u001b[0m \u001b[0mstep\u001b[0m \u001b[1;32mis\u001b[0m \u001b[1;32mnot\u001b[0m \u001b[1;32mNone\u001b[0m\u001b[1;33m:\u001b[0m\u001b[1;33m\u001b[0m\u001b[0m\n",
      "\u001b[1;32m~\\Anaconda3\\lib\\site-packages\\pandas\\core\\dtypes\\concat.py\u001b[0m in \u001b[0;36m_concat_index_same_dtype\u001b[1;34m(indexes, klass)\u001b[0m\n\u001b[0;32m    510\u001b[0m \u001b[1;32mdef\u001b[0m \u001b[0m_concat_index_same_dtype\u001b[0m\u001b[1;33m(\u001b[0m\u001b[0mindexes\u001b[0m\u001b[1;33m,\u001b[0m \u001b[0mklass\u001b[0m\u001b[1;33m=\u001b[0m\u001b[1;32mNone\u001b[0m\u001b[1;33m)\u001b[0m\u001b[1;33m:\u001b[0m\u001b[1;33m\u001b[0m\u001b[0m\n\u001b[0;32m    511\u001b[0m     \u001b[0mklass\u001b[0m \u001b[1;33m=\u001b[0m \u001b[0mklass\u001b[0m \u001b[1;32mif\u001b[0m \u001b[0mklass\u001b[0m \u001b[1;32mis\u001b[0m \u001b[1;32mnot\u001b[0m \u001b[1;32mNone\u001b[0m \u001b[1;32melse\u001b[0m \u001b[0mindexes\u001b[0m\u001b[1;33m[\u001b[0m\u001b[1;36m0\u001b[0m\u001b[1;33m]\u001b[0m\u001b[1;33m.\u001b[0m\u001b[0m__class__\u001b[0m\u001b[1;33m\u001b[0m\u001b[0m\n\u001b[1;32m--> 512\u001b[1;33m     \u001b[1;32mreturn\u001b[0m \u001b[0mklass\u001b[0m\u001b[1;33m(\u001b[0m\u001b[0mnp\u001b[0m\u001b[1;33m.\u001b[0m\u001b[0mconcatenate\u001b[0m\u001b[1;33m(\u001b[0m\u001b[1;33m[\u001b[0m\u001b[0mx\u001b[0m\u001b[1;33m.\u001b[0m\u001b[0m_values\u001b[0m \u001b[1;32mfor\u001b[0m \u001b[0mx\u001b[0m \u001b[1;32min\u001b[0m \u001b[0mindexes\u001b[0m\u001b[1;33m]\u001b[0m\u001b[1;33m)\u001b[0m\u001b[1;33m)\u001b[0m\u001b[1;33m\u001b[0m\u001b[0m\n\u001b[0m\u001b[0;32m    513\u001b[0m \u001b[1;33m\u001b[0m\u001b[0m\n\u001b[0;32m    514\u001b[0m \u001b[1;33m\u001b[0m\u001b[0m\n",
      "\u001b[1;31mMemoryError\u001b[0m: "
     ]
    }
   ],
   "source": [
    "c3 = pd.concat([c31,c32,c33,c34])"
   ]
  },
  {
   "cell_type": "code",
   "execution_count": 13,
   "metadata": {},
   "outputs": [],
   "source": [
    "YouTube = c3[c3['app_name']=='YouTube']\n",
    "oksusu = c3[c3['app_name']=='oksusu']\n",
    "네이버TV = c3[c3['app_name']=='네이버TV']\n",
    "AfreecaTV = c3[c3['app_name']=='AfreecaTV']"
   ]
  },
  {
   "cell_type": "code",
   "execution_count": 14,
   "metadata": {},
   "outputs": [
    {
     "data": {
      "text/plain": [
       "32223"
      ]
     },
     "execution_count": 14,
     "metadata": {},
     "output_type": "execute_result"
    }
   ],
   "source": [
    "len(c3['panel_id'].unique())"
   ]
  },
  {
   "cell_type": "code",
   "execution_count": 15,
   "metadata": {},
   "outputs": [
    {
     "name": "stdout",
     "output_type": "stream",
     "text": [
      "28570\n",
      "5111\n",
      "3990\n",
      "2239\n"
     ]
    }
   ],
   "source": [
    "print(len(YouTube['panel_id'].unique()))\n",
    "print(len(oksusu['panel_id'].unique()))\n",
    "print(len(네이버TV['panel_id'].unique()))\n",
    "print(len(AfreecaTV['panel_id'].unique()))"
   ]
  },
  {
   "cell_type": "code",
   "execution_count": 133,
   "metadata": {},
   "outputs": [
    {
     "data": {
      "text/html": [
       "<div>\n",
       "<style scoped>\n",
       "    .dataframe tbody tr th:only-of-type {\n",
       "        vertical-align: middle;\n",
       "    }\n",
       "\n",
       "    .dataframe tbody tr th {\n",
       "        vertical-align: top;\n",
       "    }\n",
       "\n",
       "    .dataframe thead th {\n",
       "        text-align: right;\n",
       "    }\n",
       "</style>\n",
       "<table border=\"1\" class=\"dataframe\">\n",
       "  <thead>\n",
       "    <tr style=\"text-align: right;\">\n",
       "      <th></th>\n",
       "      <th>reg_cnt</th>\n",
       "      <th>total_time_stamp</th>\n",
       "      <th>frequency</th>\n",
       "    </tr>\n",
       "    <tr>\n",
       "      <th>panel_id</th>\n",
       "      <th></th>\n",
       "      <th></th>\n",
       "      <th></th>\n",
       "    </tr>\n",
       "  </thead>\n",
       "  <tbody>\n",
       "    <tr>\n",
       "      <th>A0000277</th>\n",
       "      <td>63.000000</td>\n",
       "      <td>23228.000000</td>\n",
       "      <td>1.0</td>\n",
       "    </tr>\n",
       "    <tr>\n",
       "      <th>A0000910</th>\n",
       "      <td>62.000000</td>\n",
       "      <td>24797.333333</td>\n",
       "      <td>1.0</td>\n",
       "    </tr>\n",
       "    <tr>\n",
       "      <th>A0001355</th>\n",
       "      <td>60.000000</td>\n",
       "      <td>1902.000000</td>\n",
       "      <td>1.0</td>\n",
       "    </tr>\n",
       "    <tr>\n",
       "      <th>A0001620</th>\n",
       "      <td>61.000000</td>\n",
       "      <td>8969.666667</td>\n",
       "      <td>1.0</td>\n",
       "    </tr>\n",
       "    <tr>\n",
       "      <th>A0001776</th>\n",
       "      <td>61.000000</td>\n",
       "      <td>335.000000</td>\n",
       "      <td>1.0</td>\n",
       "    </tr>\n",
       "    <tr>\n",
       "      <th>A0001778</th>\n",
       "      <td>61.000000</td>\n",
       "      <td>493.666667</td>\n",
       "      <td>1.0</td>\n",
       "    </tr>\n",
       "    <tr>\n",
       "      <th>A0002394</th>\n",
       "      <td>62.000000</td>\n",
       "      <td>409.000000</td>\n",
       "      <td>1.0</td>\n",
       "    </tr>\n",
       "    <tr>\n",
       "      <th>A0002542</th>\n",
       "      <td>61.500000</td>\n",
       "      <td>5609.500000</td>\n",
       "      <td>1.0</td>\n",
       "    </tr>\n",
       "    <tr>\n",
       "      <th>A0003204</th>\n",
       "      <td>61.500000</td>\n",
       "      <td>24700.500000</td>\n",
       "      <td>1.0</td>\n",
       "    </tr>\n",
       "    <tr>\n",
       "      <th>A0003696</th>\n",
       "      <td>62.000000</td>\n",
       "      <td>13.000000</td>\n",
       "      <td>1.0</td>\n",
       "    </tr>\n",
       "    <tr>\n",
       "      <th>A0003768</th>\n",
       "      <td>62.000000</td>\n",
       "      <td>303.333333</td>\n",
       "      <td>1.0</td>\n",
       "    </tr>\n",
       "    <tr>\n",
       "      <th>A0004703</th>\n",
       "      <td>62.000000</td>\n",
       "      <td>2074.500000</td>\n",
       "      <td>1.0</td>\n",
       "    </tr>\n",
       "    <tr>\n",
       "      <th>A0005444</th>\n",
       "      <td>61.666667</td>\n",
       "      <td>739.333333</td>\n",
       "      <td>1.0</td>\n",
       "    </tr>\n",
       "    <tr>\n",
       "      <th>A0005465</th>\n",
       "      <td>62.500000</td>\n",
       "      <td>31077.000000</td>\n",
       "      <td>1.0</td>\n",
       "    </tr>\n",
       "    <tr>\n",
       "      <th>A0007379</th>\n",
       "      <td>61.500000</td>\n",
       "      <td>3049.250000</td>\n",
       "      <td>1.0</td>\n",
       "    </tr>\n",
       "    <tr>\n",
       "      <th>A0007678</th>\n",
       "      <td>62.000000</td>\n",
       "      <td>12.000000</td>\n",
       "      <td>1.0</td>\n",
       "    </tr>\n",
       "    <tr>\n",
       "      <th>A0008228</th>\n",
       "      <td>61.500000</td>\n",
       "      <td>14.500000</td>\n",
       "      <td>1.0</td>\n",
       "    </tr>\n",
       "    <tr>\n",
       "      <th>A0008794</th>\n",
       "      <td>61.000000</td>\n",
       "      <td>262.500000</td>\n",
       "      <td>1.0</td>\n",
       "    </tr>\n",
       "    <tr>\n",
       "      <th>A0009118</th>\n",
       "      <td>61.666667</td>\n",
       "      <td>6668.000000</td>\n",
       "      <td>1.0</td>\n",
       "    </tr>\n",
       "    <tr>\n",
       "      <th>A0009602</th>\n",
       "      <td>60.500000</td>\n",
       "      <td>9564.000000</td>\n",
       "      <td>1.0</td>\n",
       "    </tr>\n",
       "    <tr>\n",
       "      <th>A0009694</th>\n",
       "      <td>61.500000</td>\n",
       "      <td>30040.000000</td>\n",
       "      <td>1.0</td>\n",
       "    </tr>\n",
       "    <tr>\n",
       "      <th>H0000006</th>\n",
       "      <td>62.500000</td>\n",
       "      <td>1947.500000</td>\n",
       "      <td>1.0</td>\n",
       "    </tr>\n",
       "    <tr>\n",
       "      <th>H0000102</th>\n",
       "      <td>62.500000</td>\n",
       "      <td>14364.500000</td>\n",
       "      <td>1.0</td>\n",
       "    </tr>\n",
       "    <tr>\n",
       "      <th>H0000151</th>\n",
       "      <td>61.500000</td>\n",
       "      <td>13233.500000</td>\n",
       "      <td>1.0</td>\n",
       "    </tr>\n",
       "    <tr>\n",
       "      <th>H0000227</th>\n",
       "      <td>63.000000</td>\n",
       "      <td>2050.000000</td>\n",
       "      <td>1.0</td>\n",
       "    </tr>\n",
       "    <tr>\n",
       "      <th>H0000256</th>\n",
       "      <td>62.500000</td>\n",
       "      <td>35411.000000</td>\n",
       "      <td>1.0</td>\n",
       "    </tr>\n",
       "    <tr>\n",
       "      <th>H0000269</th>\n",
       "      <td>63.000000</td>\n",
       "      <td>1660.000000</td>\n",
       "      <td>1.0</td>\n",
       "    </tr>\n",
       "    <tr>\n",
       "      <th>H0000290</th>\n",
       "      <td>62.500000</td>\n",
       "      <td>8967.000000</td>\n",
       "      <td>1.0</td>\n",
       "    </tr>\n",
       "    <tr>\n",
       "      <th>H0000390</th>\n",
       "      <td>62.000000</td>\n",
       "      <td>3526.000000</td>\n",
       "      <td>1.0</td>\n",
       "    </tr>\n",
       "    <tr>\n",
       "      <th>H0000408</th>\n",
       "      <td>63.000000</td>\n",
       "      <td>35.000000</td>\n",
       "      <td>1.0</td>\n",
       "    </tr>\n",
       "    <tr>\n",
       "      <th>...</th>\n",
       "      <td>...</td>\n",
       "      <td>...</td>\n",
       "      <td>...</td>\n",
       "    </tr>\n",
       "    <tr>\n",
       "      <th>S0001981</th>\n",
       "      <td>61.500000</td>\n",
       "      <td>54738.000000</td>\n",
       "      <td>1.0</td>\n",
       "    </tr>\n",
       "    <tr>\n",
       "      <th>S0002043</th>\n",
       "      <td>61.500000</td>\n",
       "      <td>19947.500000</td>\n",
       "      <td>1.0</td>\n",
       "    </tr>\n",
       "    <tr>\n",
       "      <th>S0002157</th>\n",
       "      <td>61.500000</td>\n",
       "      <td>109.500000</td>\n",
       "      <td>1.0</td>\n",
       "    </tr>\n",
       "    <tr>\n",
       "      <th>S0002182</th>\n",
       "      <td>61.500000</td>\n",
       "      <td>15334.750000</td>\n",
       "      <td>1.0</td>\n",
       "    </tr>\n",
       "    <tr>\n",
       "      <th>S0002264</th>\n",
       "      <td>63.000000</td>\n",
       "      <td>96.000000</td>\n",
       "      <td>1.0</td>\n",
       "    </tr>\n",
       "    <tr>\n",
       "      <th>S0002400</th>\n",
       "      <td>61.333333</td>\n",
       "      <td>316.000000</td>\n",
       "      <td>1.0</td>\n",
       "    </tr>\n",
       "    <tr>\n",
       "      <th>S0002537</th>\n",
       "      <td>62.000000</td>\n",
       "      <td>125.000000</td>\n",
       "      <td>1.0</td>\n",
       "    </tr>\n",
       "    <tr>\n",
       "      <th>S0002589</th>\n",
       "      <td>61.000000</td>\n",
       "      <td>3166.666667</td>\n",
       "      <td>1.0</td>\n",
       "    </tr>\n",
       "    <tr>\n",
       "      <th>S0002612</th>\n",
       "      <td>61.500000</td>\n",
       "      <td>1306.500000</td>\n",
       "      <td>1.0</td>\n",
       "    </tr>\n",
       "    <tr>\n",
       "      <th>S0002645</th>\n",
       "      <td>61.500000</td>\n",
       "      <td>5100.250000</td>\n",
       "      <td>1.0</td>\n",
       "    </tr>\n",
       "    <tr>\n",
       "      <th>S0002729</th>\n",
       "      <td>62.000000</td>\n",
       "      <td>11835.500000</td>\n",
       "      <td>1.0</td>\n",
       "    </tr>\n",
       "    <tr>\n",
       "      <th>S0002736</th>\n",
       "      <td>61.500000</td>\n",
       "      <td>11268.500000</td>\n",
       "      <td>1.0</td>\n",
       "    </tr>\n",
       "    <tr>\n",
       "      <th>S0002791</th>\n",
       "      <td>61.333333</td>\n",
       "      <td>1269.333333</td>\n",
       "      <td>1.0</td>\n",
       "    </tr>\n",
       "    <tr>\n",
       "      <th>S0002829</th>\n",
       "      <td>63.000000</td>\n",
       "      <td>3425.000000</td>\n",
       "      <td>1.0</td>\n",
       "    </tr>\n",
       "    <tr>\n",
       "      <th>S0003083</th>\n",
       "      <td>62.000000</td>\n",
       "      <td>114.000000</td>\n",
       "      <td>1.0</td>\n",
       "    </tr>\n",
       "    <tr>\n",
       "      <th>S0003327</th>\n",
       "      <td>61.500000</td>\n",
       "      <td>12789.750000</td>\n",
       "      <td>1.0</td>\n",
       "    </tr>\n",
       "    <tr>\n",
       "      <th>S0003496</th>\n",
       "      <td>61.500000</td>\n",
       "      <td>2162.750000</td>\n",
       "      <td>1.0</td>\n",
       "    </tr>\n",
       "    <tr>\n",
       "      <th>S0003608</th>\n",
       "      <td>61.500000</td>\n",
       "      <td>35733.250000</td>\n",
       "      <td>1.0</td>\n",
       "    </tr>\n",
       "    <tr>\n",
       "      <th>S0003699</th>\n",
       "      <td>61.500000</td>\n",
       "      <td>548.000000</td>\n",
       "      <td>1.0</td>\n",
       "    </tr>\n",
       "    <tr>\n",
       "      <th>S0003875</th>\n",
       "      <td>61.500000</td>\n",
       "      <td>9011.500000</td>\n",
       "      <td>1.0</td>\n",
       "    </tr>\n",
       "    <tr>\n",
       "      <th>S0003918</th>\n",
       "      <td>61.000000</td>\n",
       "      <td>1167.000000</td>\n",
       "      <td>1.0</td>\n",
       "    </tr>\n",
       "    <tr>\n",
       "      <th>S0004001</th>\n",
       "      <td>61.500000</td>\n",
       "      <td>16143.750000</td>\n",
       "      <td>1.0</td>\n",
       "    </tr>\n",
       "    <tr>\n",
       "      <th>S0004006</th>\n",
       "      <td>61.666667</td>\n",
       "      <td>1169.666667</td>\n",
       "      <td>1.0</td>\n",
       "    </tr>\n",
       "    <tr>\n",
       "      <th>S0004064</th>\n",
       "      <td>63.000000</td>\n",
       "      <td>17572.000000</td>\n",
       "      <td>1.0</td>\n",
       "    </tr>\n",
       "    <tr>\n",
       "      <th>S0004096</th>\n",
       "      <td>61.500000</td>\n",
       "      <td>17936.500000</td>\n",
       "      <td>1.0</td>\n",
       "    </tr>\n",
       "    <tr>\n",
       "      <th>S0004212</th>\n",
       "      <td>61.000000</td>\n",
       "      <td>1935.500000</td>\n",
       "      <td>1.0</td>\n",
       "    </tr>\n",
       "    <tr>\n",
       "      <th>S0004242</th>\n",
       "      <td>61.000000</td>\n",
       "      <td>1819.000000</td>\n",
       "      <td>1.0</td>\n",
       "    </tr>\n",
       "    <tr>\n",
       "      <th>T0012282</th>\n",
       "      <td>61.000000</td>\n",
       "      <td>913.000000</td>\n",
       "      <td>1.0</td>\n",
       "    </tr>\n",
       "    <tr>\n",
       "      <th>T0012350</th>\n",
       "      <td>62.500000</td>\n",
       "      <td>586.000000</td>\n",
       "      <td>1.0</td>\n",
       "    </tr>\n",
       "    <tr>\n",
       "      <th>z0000103</th>\n",
       "      <td>61.500000</td>\n",
       "      <td>1564.750000</td>\n",
       "      <td>1.0</td>\n",
       "    </tr>\n",
       "  </tbody>\n",
       "</table>\n",
       "<p>28570 rows × 3 columns</p>\n",
       "</div>"
      ],
      "text/plain": [
       "            reg_cnt  total_time_stamp  frequency\n",
       "panel_id                                        \n",
       "A0000277  63.000000      23228.000000        1.0\n",
       "A0000910  62.000000      24797.333333        1.0\n",
       "A0001355  60.000000       1902.000000        1.0\n",
       "A0001620  61.000000       8969.666667        1.0\n",
       "A0001776  61.000000        335.000000        1.0\n",
       "A0001778  61.000000        493.666667        1.0\n",
       "A0002394  62.000000        409.000000        1.0\n",
       "A0002542  61.500000       5609.500000        1.0\n",
       "A0003204  61.500000      24700.500000        1.0\n",
       "A0003696  62.000000         13.000000        1.0\n",
       "A0003768  62.000000        303.333333        1.0\n",
       "A0004703  62.000000       2074.500000        1.0\n",
       "A0005444  61.666667        739.333333        1.0\n",
       "A0005465  62.500000      31077.000000        1.0\n",
       "A0007379  61.500000       3049.250000        1.0\n",
       "A0007678  62.000000         12.000000        1.0\n",
       "A0008228  61.500000         14.500000        1.0\n",
       "A0008794  61.000000        262.500000        1.0\n",
       "A0009118  61.666667       6668.000000        1.0\n",
       "A0009602  60.500000       9564.000000        1.0\n",
       "A0009694  61.500000      30040.000000        1.0\n",
       "H0000006  62.500000       1947.500000        1.0\n",
       "H0000102  62.500000      14364.500000        1.0\n",
       "H0000151  61.500000      13233.500000        1.0\n",
       "H0000227  63.000000       2050.000000        1.0\n",
       "H0000256  62.500000      35411.000000        1.0\n",
       "H0000269  63.000000       1660.000000        1.0\n",
       "H0000290  62.500000       8967.000000        1.0\n",
       "H0000390  62.000000       3526.000000        1.0\n",
       "H0000408  63.000000         35.000000        1.0\n",
       "...             ...               ...        ...\n",
       "S0001981  61.500000      54738.000000        1.0\n",
       "S0002043  61.500000      19947.500000        1.0\n",
       "S0002157  61.500000        109.500000        1.0\n",
       "S0002182  61.500000      15334.750000        1.0\n",
       "S0002264  63.000000         96.000000        1.0\n",
       "S0002400  61.333333        316.000000        1.0\n",
       "S0002537  62.000000        125.000000        1.0\n",
       "S0002589  61.000000       3166.666667        1.0\n",
       "S0002612  61.500000       1306.500000        1.0\n",
       "S0002645  61.500000       5100.250000        1.0\n",
       "S0002729  62.000000      11835.500000        1.0\n",
       "S0002736  61.500000      11268.500000        1.0\n",
       "S0002791  61.333333       1269.333333        1.0\n",
       "S0002829  63.000000       3425.000000        1.0\n",
       "S0003083  62.000000        114.000000        1.0\n",
       "S0003327  61.500000      12789.750000        1.0\n",
       "S0003496  61.500000       2162.750000        1.0\n",
       "S0003608  61.500000      35733.250000        1.0\n",
       "S0003699  61.500000        548.000000        1.0\n",
       "S0003875  61.500000       9011.500000        1.0\n",
       "S0003918  61.000000       1167.000000        1.0\n",
       "S0004001  61.500000      16143.750000        1.0\n",
       "S0004006  61.666667       1169.666667        1.0\n",
       "S0004064  63.000000      17572.000000        1.0\n",
       "S0004096  61.500000      17936.500000        1.0\n",
       "S0004212  61.000000       1935.500000        1.0\n",
       "S0004242  61.000000       1819.000000        1.0\n",
       "T0012282  61.000000        913.000000        1.0\n",
       "T0012350  62.500000        586.000000        1.0\n",
       "z0000103  61.500000       1564.750000        1.0\n",
       "\n",
       "[28570 rows x 3 columns]"
      ]
     },
     "execution_count": 133,
     "metadata": {},
     "output_type": "execute_result"
    }
   ],
   "source": [
    "YouTube.groupby('panel_id').mean()"
   ]
  },
  {
   "cell_type": "markdown",
   "metadata": {},
   "source": [
    "## 1. 유튜브"
   ]
  },
  {
   "cell_type": "code",
   "execution_count": 16,
   "metadata": {},
   "outputs": [],
   "source": [
    "x = YouTube['panel_id'].unique()\n",
    "YouTube_user = a3[a3['id'].isin(x)]\n",
    "YouTube_data = b3[b3['PANEL_ID'].isin(x)]\n",
    "YouTube_app = c3[c3['panel_id'].isin(x)]"
   ]
  },
  {
   "cell_type": "code",
   "execution_count": 56,
   "metadata": {},
   "outputs": [
    {
     "data": {
      "text/plain": [
       "14793"
      ]
     },
     "execution_count": 56,
     "metadata": {},
     "output_type": "execute_result"
    }
   ],
   "source": [
    "#len(YouTube_user_man)\n",
    "#len(YouTube_user_woman)\n",
    "len(YouTube_user)"
   ]
  },
  {
   "cell_type": "code",
   "execution_count": 25,
   "metadata": {},
   "outputs": [],
   "source": [
    "Man = a3[a3['X0001']==1]\n",
    "Woman = a3[a3['X0001']==2]"
   ]
  },
  {
   "cell_type": "code",
   "execution_count": 28,
   "metadata": {},
   "outputs": [],
   "source": [
    "m_panel = Man['id']\n",
    "w_panel = Woman['id']"
   ]
  },
  {
   "cell_type": "code",
   "execution_count": 58,
   "metadata": {},
   "outputs": [],
   "source": [
    "YouTube_user_man = YouTube_user[YouTube_user['id'].isin(m_panel)]\n",
    "YouTube_user_woman = YouTube_user[YouTube_user['id'].isin(w_panel)]\n",
    "YouTube_data_man = YouTube_data[YouTube_data['PANEL_ID'].isin(m_panel)]\n",
    "YouTube_data_woman = YouTube_data[YouTube_data['PANEL_ID'].isin(w_panel)]\n",
    "YouTube_app_man = YouTube_app[YouTube_app['panel_id'].isin(m_panel)]\n",
    "YouTube_app_woman = YouTube_app[YouTube_app['panel_id'].isin(w_panel)]"
   ]
  },
  {
   "cell_type": "code",
   "execution_count": 81,
   "metadata": {},
   "outputs": [
    {
     "data": {
      "text/html": [
       "<div>\n",
       "<style scoped>\n",
       "    .dataframe tbody tr th:only-of-type {\n",
       "        vertical-align: middle;\n",
       "    }\n",
       "\n",
       "    .dataframe tbody tr th {\n",
       "        vertical-align: top;\n",
       "    }\n",
       "\n",
       "    .dataframe thead th {\n",
       "        text-align: right;\n",
       "    }\n",
       "</style>\n",
       "<table border=\"1\" class=\"dataframe\">\n",
       "  <thead>\n",
       "    <tr style=\"text-align: right;\">\n",
       "      <th></th>\n",
       "      <th>X0002</th>\n",
       "      <th>X0003</th>\n",
       "      <th>X0004</th>\n",
       "      <th>X0005</th>\n",
       "      <th>X0006</th>\n",
       "      <th>X0007</th>\n",
       "      <th>X0009</th>\n",
       "      <th>Y0001</th>\n",
       "      <th>Y0002</th>\n",
       "      <th>Y0003</th>\n",
       "      <th>...</th>\n",
       "      <th>M0018</th>\n",
       "      <th>M0019</th>\n",
       "      <th>M0020</th>\n",
       "      <th>M0021</th>\n",
       "      <th>M0022</th>\n",
       "      <th>M0023</th>\n",
       "      <th>M0024</th>\n",
       "      <th>M0025</th>\n",
       "      <th>M0026</th>\n",
       "      <th>M0027</th>\n",
       "    </tr>\n",
       "    <tr>\n",
       "      <th>X0001</th>\n",
       "      <th></th>\n",
       "      <th></th>\n",
       "      <th></th>\n",
       "      <th></th>\n",
       "      <th></th>\n",
       "      <th></th>\n",
       "      <th></th>\n",
       "      <th></th>\n",
       "      <th></th>\n",
       "      <th></th>\n",
       "      <th></th>\n",
       "      <th></th>\n",
       "      <th></th>\n",
       "      <th></th>\n",
       "      <th></th>\n",
       "      <th></th>\n",
       "      <th></th>\n",
       "      <th></th>\n",
       "      <th></th>\n",
       "      <th></th>\n",
       "      <th></th>\n",
       "    </tr>\n",
       "  </thead>\n",
       "  <tbody>\n",
       "    <tr>\n",
       "      <th>1</th>\n",
       "      <td>2.871590</td>\n",
       "      <td>5.305790</td>\n",
       "      <td>3.288882</td>\n",
       "      <td>5.90780</td>\n",
       "      <td>1.968735</td>\n",
       "      <td>1.447599</td>\n",
       "      <td>23.000000</td>\n",
       "      <td>3.408359</td>\n",
       "      <td>0.079758</td>\n",
       "      <td>0.114213</td>\n",
       "      <td>...</td>\n",
       "      <td>0.082788</td>\n",
       "      <td>0.014675</td>\n",
       "      <td>0.428777</td>\n",
       "      <td>0.148987</td>\n",
       "      <td>0.101133</td>\n",
       "      <td>0.031424</td>\n",
       "      <td>0.039081</td>\n",
       "      <td>0.084862</td>\n",
       "      <td>0.117244</td>\n",
       "      <td>0.034615</td>\n",
       "    </tr>\n",
       "    <tr>\n",
       "      <th>2</th>\n",
       "      <td>2.835406</td>\n",
       "      <td>5.187588</td>\n",
       "      <td>3.278860</td>\n",
       "      <td>5.97947</td>\n",
       "      <td>1.951549</td>\n",
       "      <td>1.526044</td>\n",
       "      <td>25.312412</td>\n",
       "      <td>3.392773</td>\n",
       "      <td>0.089629</td>\n",
       "      <td>0.148405</td>\n",
       "      <td>...</td>\n",
       "      <td>0.097372</td>\n",
       "      <td>0.021117</td>\n",
       "      <td>0.578367</td>\n",
       "      <td>0.237565</td>\n",
       "      <td>0.087048</td>\n",
       "      <td>0.030971</td>\n",
       "      <td>0.031441</td>\n",
       "      <td>0.059010</td>\n",
       "      <td>0.086227</td>\n",
       "      <td>0.030502</td>\n",
       "    </tr>\n",
       "  </tbody>\n",
       "</table>\n",
       "<p>2 rows × 606 columns</p>\n",
       "</div>"
      ],
      "text/plain": [
       "          X0002     X0003     X0004    X0005     X0006     X0007      X0009  \\\n",
       "X0001                                                                         \n",
       "1      2.871590  5.305790  3.288882  5.90780  1.968735  1.447599  23.000000   \n",
       "2      2.835406  5.187588  3.278860  5.97947  1.951549  1.526044  25.312412   \n",
       "\n",
       "          Y0001     Y0002     Y0003    ...        M0018     M0019     M0020  \\\n",
       "X0001                                  ...                                    \n",
       "1      3.408359  0.079758  0.114213    ...     0.082788  0.014675  0.428777   \n",
       "2      3.392773  0.089629  0.148405    ...     0.097372  0.021117  0.578367   \n",
       "\n",
       "          M0021     M0022     M0023     M0024     M0025     M0026     M0027  \n",
       "X0001                                                                        \n",
       "1      0.148987  0.101133  0.031424  0.039081  0.084862  0.117244  0.034615  \n",
       "2      0.237565  0.087048  0.030971  0.031441  0.059010  0.086227  0.030502  \n",
       "\n",
       "[2 rows x 606 columns]"
      ]
     },
     "execution_count": 81,
     "metadata": {},
     "output_type": "execute_result"
    }
   ],
   "source": [
    "YouTube_user.groupby('X0001').mean()"
   ]
  },
  {
   "cell_type": "code",
   "execution_count": 84,
   "metadata": {},
   "outputs": [],
   "source": [
    "yum10 = YouTube_user_man[YouTube_user_man['X0002']==1]\n",
    "yum20 = YouTube_user_man[YouTube_user_man['X0002']==2]\n",
    "yum30 = YouTube_user_man[YouTube_user_man['X0002']==3]\n",
    "yum40 = YouTube_user_man[YouTube_user_man['X0002']==4]\n",
    "yum50 = YouTube_user_man[YouTube_user_man['X0002']==5]\n",
    "yum60 = YouTube_user_man[YouTube_user_man['X0002']==6]\n",
    "yuw10 = YouTube_user_woman[YouTube_user_woman['X0002']==1]\n",
    "yuw20 = YouTube_user_woman[YouTube_user_woman['X0002']==2]\n",
    "yuw30 = YouTube_user_woman[YouTube_user_woman['X0002']==3]\n",
    "yuw40 = YouTube_user_woman[YouTube_user_woman['X0002']==4]\n",
    "yuw50 = YouTube_user_woman[YouTube_user_woman['X0002']==5]\n",
    "yuw60 = YouTube_user_woman[YouTube_user_woman['X0002']==6]"
   ]
  },
  {
   "cell_type": "code",
   "execution_count": 109,
   "metadata": {},
   "outputs": [
    {
     "data": {
      "text/plain": [
       "2.0"
      ]
     },
     "execution_count": 109,
     "metadata": {},
     "output_type": "execute_result"
    }
   ],
   "source": [
    "yum10.columns[2]\n",
    "xx10[0]"
   ]
  },
  {
   "cell_type": "code",
   "execution_count": 128,
   "metadata": {},
   "outputs": [
    {
     "data": {
      "text/plain": [
       "1588"
      ]
     },
     "execution_count": 128,
     "metadata": {},
     "output_type": "execute_result"
    }
   ],
   "source": [
    "len(yum20)"
   ]
  },
  {
   "cell_type": "raw",
   "metadata": {},
   "source": [
    "Y0001: 가족인원수\n",
    "Y0002,Y0003 : 가족 내 영.유아 유무\n",
    "C0039 : 화장품) 온라인전용브랜드 이용 여부"
   ]
  },
  {
   "cell_type": "code",
   "execution_count": 130,
   "metadata": {},
   "outputs": [
    {
     "data": {
      "text/plain": [
       "['Y0001 : 0.2618681627843446',\n",
       " 'Y0002 : 0.23606389016513066',\n",
       " 'Y0003 : 0.28029609984137505',\n",
       " 'A0072 : 0.7294565279118632',\n",
       " 'C0008 : 0.23566699993148912',\n",
       " 'C0011 : 0.7238467566544277',\n",
       " 'C0015 : 0.6829222974378316',\n",
       " 'C0016 : 0.6632981722213598',\n",
       " 'C0017 : 0.7971125590903284',\n",
       " 'C0018 : 0.6941906146928222',\n",
       " 'C0020 : 0.668573347753087',\n",
       " 'C0023 : 0.1775592071372028',\n",
       " 'C0024 : 0.22694559568449443',\n",
       " 'C0025 : 0.20116971300309655',\n",
       " 'C0026 : 0.17287095820017082',\n",
       " 'C0027 : 0.26493420592520067',\n",
       " 'C0028 : 0.17034289908290445',\n",
       " 'C0029 : 0.2744931156576877',\n",
       " 'C0030 : 0.15900893303396654',\n",
       " 'C0032 : 0.2914306457833877',\n",
       " 'C0034 : 0.3077547652007241',\n",
       " 'C0036 : 0.25693670524360623',\n",
       " 'C0038 : 0.26229273870783304',\n",
       " 'C0039 : 0.797048477011556',\n",
       " 'C0041 : 0.6949348992839335',\n",
       " 'C0042 : 0.6957792029937083',\n",
       " 'C0043 : 0.7466926175529122',\n",
       " 'C0044 : 0.7168857745256108',\n",
       " 'C0045 : 0.14279961608822558',\n",
       " 'C0046 : 0.19667715313103995',\n",
       " 'C0047 : 0.10243670974404778',\n",
       " 'C0048 : 0.17020498502560866',\n",
       " 'C0049 : 0.164669390394123',\n",
       " 'C0050 : 0.17545998939968424',\n",
       " 'C0051 : 0.2757029405451814',\n",
       " 'D0002 : 0.2644364384971693',\n",
       " 'D0003 : 0.2823869951268366',\n",
       " 'D0004 : 0.28797220042596117',\n",
       " 'D0005 : 0.23606389016513066',\n",
       " 'E0015 : 0.3171192962102075',\n",
       " 'E0023 : 0.7111334319316034',\n",
       " 'E0030 : 0.012480991872051614',\n",
       " 'E0033 : 0.7773300566047484',\n",
       " 'E0035 : 0.31175562990829186',\n",
       " 'E0041 : 0.7397617213746087',\n",
       " 'E0046 : 0.3186407139684206',\n",
       " 'E0049 : 0.901645436339988',\n",
       " 'E0051 : 0.05176143471802208',\n",
       " 'E0057 : 0.28874511225647903',\n",
       " 'E0059 : 0.3166495475137584',\n",
       " 'E0065 : 0.697984024343857',\n",
       " 'E0069 : 0.26243191766632135',\n",
       " 'E0070 : 0.7246671872613895',\n",
       " 'F0010 : 0.7761172987452418',\n",
       " 'F0012 : 0.6822007643253271',\n",
       " 'F0027 : 0.3046844401785074',\n",
       " 'F0035 : 0.3278429653442439',\n",
       " 'F0041 : 0.3023230270745236',\n",
       " 'F0055 : 0.30061262642503134',\n",
       " 'G0021 : 0.27493283514383743',\n",
       " 'G0022 : 0.3252738048279254',\n",
       " 'G0024 : 0.2335066587682924',\n",
       " 'H0002 : 0.3270374936349262',\n",
       " 'H0003 : 0.3088025589407929',\n",
       " 'H0005 : 0.305647706100658',\n",
       " 'H0006 : 0.2565311838553424',\n",
       " 'H0016 : 0.6832446808510638',\n",
       " 'H0020 : 0.66251814778024',\n",
       " 'I0005 : 0.6677107149307713',\n",
       " 'I0007 : 0.7750797265270907',\n",
       " 'I0013 : 0.7685539608631283',\n",
       " 'I0039 : 0.6898664648585309',\n",
       " 'I0042 : 0.6759249264646355',\n",
       " 'I0045 : 0.6610677694058721',\n",
       " 'I0046 : 0.7710949224754928',\n",
       " 'I0047 : 0.6617460569073472',\n",
       " 'I0050 : 0.6728254303044694',\n",
       " 'I0056 : 0.7603811801029557',\n",
       " 'I0057 : 0.7577323257493312',\n",
       " 'I0058 : 0.7074711959272381',\n",
       " 'I0064 : 0.25254436236485567',\n",
       " 'I0066 : 0.3157438883498725',\n",
       " 'I0069 : 0.6748691858048489',\n",
       " 'I0070 : 0.8339113257139787',\n",
       " 'I0071 : 0.7153579214586907',\n",
       " 'I0072 : 0.8985296689400972',\n",
       " 'I0073 : 0.8464856504086072',\n",
       " 'I0077 : 0.7472572704970665',\n",
       " 'I0078 : 0.7384054159372064',\n",
       " 'I0079 : 0.8775645260947457',\n",
       " 'I0080 : 0.6802519942186965',\n",
       " 'I0083 : 0.29049464263551994',\n",
       " 'I0087 : 0.7746598790286819',\n",
       " 'I0088 : 0.7802518524109647',\n",
       " 'I0089 : 0.7170735763111478',\n",
       " 'I0090 : 0.8314281793632341',\n",
       " 'I0091 : 0.7967460063504566',\n",
       " 'I0092 : 0.7611366112248107',\n",
       " 'J0002 : 0.7452704939573584',\n",
       " 'J0024 : 0.6640382544043472',\n",
       " 'J0034 : 0.7158873612457783',\n",
       " 'J0085 : 0.20453550244821592',\n",
       " 'K0002 : 0.3128029617441382',\n",
       " 'K0003 : 0.6698311168531909']"
      ]
     },
     "execution_count": 130,
     "metadata": {},
     "output_type": "execute_result"
    }
   ],
   "source": [
    "xy20= []\n",
    "for i in yum20.mean():\n",
    "    xy20.append(i)\n",
    "\n",
    "xx20=[]\n",
    "for i in yuw20.mean():\n",
    "    xx20.append(i)\n",
    "\n",
    "x20 = []\n",
    "for i in range(606):\n",
    "    a =xy20[i]/(xx20[i]+xy20[i])\n",
    "    if a>0.66 or a<0.33 :\n",
    "        b = str(yum20.columns[i+2]) + \" : \" + str(a)\n",
    "        x20.append(b)\n",
    "\n",
    "x20"
   ]
  },
  {
   "cell_type": "code",
   "execution_count": 77,
   "metadata": {},
   "outputs": [
    {
     "ename": "ValueError",
     "evalue": "The truth value of a Series is ambiguous. Use a.empty, a.bool(), a.item(), a.any() or a.all().",
     "output_type": "error",
     "traceback": [
      "\u001b[1;31m---------------------------------------------------------------------------\u001b[0m",
      "\u001b[1;31mValueError\u001b[0m                                Traceback (most recent call last)",
      "\u001b[1;32m<ipython-input-77-2ba6db044e29>\u001b[0m in \u001b[0;36m<module>\u001b[1;34m()\u001b[0m\n\u001b[0;32m      1\u001b[0m \u001b[1;32mfor\u001b[0m \u001b[0mi\u001b[0m \u001b[1;32min\u001b[0m \u001b[0mYouTube_user_man\u001b[0m\u001b[1;33m.\u001b[0m\u001b[0mcolumns\u001b[0m \u001b[1;33m:\u001b[0m\u001b[1;33m\u001b[0m\u001b[0m\n\u001b[0;32m      2\u001b[0m     \u001b[0ma\u001b[0m \u001b[1;33m=\u001b[0m \u001b[0mYouTube_user_man\u001b[0m\u001b[1;33m[\u001b[0m\u001b[1;33m[\u001b[0m\u001b[0mi\u001b[0m\u001b[1;33m]\u001b[0m\u001b[1;33m]\u001b[0m\u001b[1;33m.\u001b[0m\u001b[0mmean\u001b[0m\u001b[1;33m(\u001b[0m\u001b[0maxis\u001b[0m\u001b[1;33m=\u001b[0m\u001b[1;36m0\u001b[0m\u001b[1;33m)\u001b[0m \u001b[1;33m/\u001b[0m \u001b[0mYouTube_user_woman\u001b[0m\u001b[1;33m[\u001b[0m\u001b[1;33m[\u001b[0m\u001b[0mi\u001b[0m\u001b[1;33m]\u001b[0m\u001b[1;33m]\u001b[0m\u001b[1;33m.\u001b[0m\u001b[0mmean\u001b[0m\u001b[1;33m(\u001b[0m\u001b[0maxis\u001b[0m\u001b[1;33m=\u001b[0m\u001b[1;36m0\u001b[0m\u001b[1;33m)\u001b[0m\u001b[1;33m\u001b[0m\u001b[0m\n\u001b[1;32m----> 3\u001b[1;33m     \u001b[1;32mif\u001b[0m \u001b[0ma\u001b[0m \u001b[1;33m>\u001b[0m \u001b[1;36m1.2\u001b[0m \u001b[1;32mor\u001b[0m \u001b[0ma\u001b[0m \u001b[1;33m<\u001b[0m \u001b[1;36m0.8\u001b[0m\u001b[1;33m:\u001b[0m\u001b[1;33m\u001b[0m\u001b[0m\n\u001b[0m\u001b[0;32m      4\u001b[0m         \u001b[0mprint\u001b[0m\u001b[1;33m(\u001b[0m\u001b[0mYouTube_user_man\u001b[0m\u001b[1;33m[\u001b[0m\u001b[1;33m[\u001b[0m\u001b[0mi\u001b[0m\u001b[1;33m]\u001b[0m\u001b[1;33m]\u001b[0m\u001b[1;33m.\u001b[0m\u001b[0mmean\u001b[0m\u001b[1;33m(\u001b[0m\u001b[0maxis\u001b[0m\u001b[1;33m=\u001b[0m\u001b[1;36m0\u001b[0m\u001b[1;33m)\u001b[0m \u001b[1;33m/\u001b[0m \u001b[0mYouTube_user_woman\u001b[0m\u001b[1;33m[\u001b[0m\u001b[1;33m[\u001b[0m\u001b[0mi\u001b[0m\u001b[1;33m]\u001b[0m\u001b[1;33m]\u001b[0m\u001b[1;33m.\u001b[0m\u001b[0mmean\u001b[0m\u001b[1;33m(\u001b[0m\u001b[0maxis\u001b[0m\u001b[1;33m=\u001b[0m\u001b[1;36m0\u001b[0m\u001b[1;33m)\u001b[0m\u001b[1;33m)\u001b[0m\u001b[1;33m\u001b[0m\u001b[0m\n\u001b[0;32m      5\u001b[0m \u001b[1;31m#YouTube_user_man[['X0002']].mean(axis=0)\u001b[0m\u001b[1;33m\u001b[0m\u001b[1;33m\u001b[0m\u001b[0m\n",
      "\u001b[1;32m~\\Anaconda3\\lib\\site-packages\\pandas\\core\\generic.py\u001b[0m in \u001b[0;36m__nonzero__\u001b[1;34m(self)\u001b[0m\n\u001b[0;32m   1571\u001b[0m         raise ValueError(\"The truth value of a {0} is ambiguous. \"\n\u001b[0;32m   1572\u001b[0m                          \u001b[1;34m\"Use a.empty, a.bool(), a.item(), a.any() or a.all().\"\u001b[0m\u001b[1;33m\u001b[0m\u001b[0m\n\u001b[1;32m-> 1573\u001b[1;33m                          .format(self.__class__.__name__))\n\u001b[0m\u001b[0;32m   1574\u001b[0m \u001b[1;33m\u001b[0m\u001b[0m\n\u001b[0;32m   1575\u001b[0m     \u001b[0m__bool__\u001b[0m \u001b[1;33m=\u001b[0m \u001b[0m__nonzero__\u001b[0m\u001b[1;33m\u001b[0m\u001b[0m\n",
      "\u001b[1;31mValueError\u001b[0m: The truth value of a Series is ambiguous. Use a.empty, a.bool(), a.item(), a.any() or a.all()."
     ]
    }
   ],
   "source": [
    "for i in YouTube_user_man.columns :\n",
    "    a = YouTube_user_man[[i]].mean(axis=0) / YouTube_user_woman[[i]].mean(axis=0)\n",
    "    if a > 1.2 or a < 0.8:\n",
    "        print(YouTube_user_man[[i]].mean(axis=0) / YouTube_user_woman[[i]].mean(axis=0))\n",
    "#YouTube_user_man[['X0002']].mean(axis=0)"
   ]
  },
  {
   "cell_type": "code",
   "execution_count": 64,
   "metadata": {},
   "outputs": [
    {
     "data": {
      "text/plain": [
       "Index(['id', 'PP_date', 'X0001', 'X0002', 'X0003', 'X0004', 'X0005', 'X0006',\n",
       "       'X0007', 'X0008',\n",
       "       ...\n",
       "       'M0018', 'M0019', 'M0020', 'M0021', 'M0022', 'M0023', 'M0024', 'M0025',\n",
       "       'M0026', 'M0027'],\n",
       "      dtype='object', length=701)"
      ]
     },
     "execution_count": 64,
     "metadata": {},
     "output_type": "execute_result"
    }
   ],
   "source": [
    "YouTube_user_man.columns"
   ]
  },
  {
   "cell_type": "code",
   "execution_count": null,
   "metadata": {},
   "outputs": [],
   "source": []
  },
  {
   "cell_type": "code",
   "execution_count": null,
   "metadata": {},
   "outputs": [],
   "source": []
  },
  {
   "cell_type": "code",
   "execution_count": null,
   "metadata": {},
   "outputs": [],
   "source": []
  },
  {
   "cell_type": "code",
   "execution_count": null,
   "metadata": {},
   "outputs": [],
   "source": []
  },
  {
   "cell_type": "code",
   "execution_count": null,
   "metadata": {},
   "outputs": [],
   "source": []
  },
  {
   "cell_type": "code",
   "execution_count": null,
   "metadata": {},
   "outputs": [],
   "source": []
  },
  {
   "cell_type": "code",
   "execution_count": 47,
   "metadata": {},
   "outputs": [],
   "source": [
    "YouTube_total = YouTube_app['app_name'].value_counts()\n",
    "YouTube_total = YouTube_total.loc[YouTube_total.values>1000]\n",
    "YouTube_total = dict(YouTube_total)\n",
    "\n",
    "c3_total = c3['app_name'].value_counts()\n",
    "c3_total = c3_total.loc[c3_total.values >1000]\n",
    "c3_total = dict((k,c3_total[k]) for k in YouTube_total.keys())"
   ]
  },
  {
   "cell_type": "code",
   "execution_count": 49,
   "metadata": {},
   "outputs": [],
   "source": [
    "df1 = pd.DataFrame(c3_total, index=[0]).T\n",
    "df2 = pd.DataFrame(YouTube_total, index=[0]).T"
   ]
  },
  {
   "cell_type": "code",
   "execution_count": 52,
   "metadata": {},
   "outputs": [
    {
     "data": {
      "text/html": [
       "<div>\n",
       "<style scoped>\n",
       "    .dataframe tbody tr th:only-of-type {\n",
       "        vertical-align: middle;\n",
       "    }\n",
       "\n",
       "    .dataframe tbody tr th {\n",
       "        vertical-align: top;\n",
       "    }\n",
       "\n",
       "    .dataframe thead th {\n",
       "        text-align: right;\n",
       "    }\n",
       "</style>\n",
       "<table border=\"1\" class=\"dataframe\">\n",
       "  <thead>\n",
       "    <tr style=\"text-align: right;\">\n",
       "      <th></th>\n",
       "      <th>Total</th>\n",
       "      <th>YouTube</th>\n",
       "      <th>비율</th>\n",
       "      <th>인원고려비율</th>\n",
       "    </tr>\n",
       "  </thead>\n",
       "  <tbody>\n",
       "    <tr>\n",
       "      <th>카카오톡</th>\n",
       "      <td>101423</td>\n",
       "      <td>92610</td>\n",
       "      <td>0.913106</td>\n",
       "      <td>0.992054</td>\n",
       "    </tr>\n",
       "    <tr>\n",
       "      <th>YouTube</th>\n",
       "      <td>81322</td>\n",
       "      <td>81322</td>\n",
       "      <td>1.000000</td>\n",
       "      <td>1.086460</td>\n",
       "    </tr>\n",
       "    <tr>\n",
       "      <th>NAVER</th>\n",
       "      <td>80849</td>\n",
       "      <td>73991</td>\n",
       "      <td>0.915175</td>\n",
       "      <td>0.994301</td>\n",
       "    </tr>\n",
       "    <tr>\n",
       "      <th>갤러리</th>\n",
       "      <td>79965</td>\n",
       "      <td>73033</td>\n",
       "      <td>0.913312</td>\n",
       "      <td>0.992277</td>\n",
       "    </tr>\n",
       "    <tr>\n",
       "      <th>패널파워</th>\n",
       "      <td>69234</td>\n",
       "      <td>63101</td>\n",
       "      <td>0.911416</td>\n",
       "      <td>0.990217</td>\n",
       "    </tr>\n",
       "  </tbody>\n",
       "</table>\n",
       "</div>"
      ],
      "text/plain": [
       "          Total  YouTube        비율    인원고려비율\n",
       "카카오톡     101423    92610  0.913106  0.992054\n",
       "YouTube   81322    81322  1.000000  1.086460\n",
       "NAVER     80849    73991  0.915175  0.994301\n",
       "갤러리       79965    73033  0.913312  0.992277\n",
       "패널파워      69234    63101  0.911416  0.990217"
      ]
     },
     "execution_count": 52,
     "metadata": {},
     "output_type": "execute_result"
    }
   ],
   "source": [
    "df = pd.merge(df1, df2, left_index=True, right_index=True)\n",
    "df = df.rename(columns={'0_x':'Total','0_y':'YouTube'})\n",
    "df['비율'] = df['YouTube']/df['Total']\n",
    "df['인원고려비율'] = df['비율']/(len(YouTube_app)/len(c3))\n",
    "df.head() # 이게 1보다 크면, YouTube유저가 더 많이 이용하는 경향이 있는 앱!"
   ]
  },
  {
   "cell_type": "code",
   "execution_count": 54,
   "metadata": {},
   "outputs": [
    {
     "data": {
      "text/html": [
       "<div>\n",
       "<style scoped>\n",
       "    .dataframe tbody tr th:only-of-type {\n",
       "        vertical-align: middle;\n",
       "    }\n",
       "\n",
       "    .dataframe tbody tr th {\n",
       "        vertical-align: top;\n",
       "    }\n",
       "\n",
       "    .dataframe thead th {\n",
       "        text-align: right;\n",
       "    }\n",
       "</style>\n",
       "<table border=\"1\" class=\"dataframe\">\n",
       "  <thead>\n",
       "    <tr style=\"text-align: right;\">\n",
       "      <th></th>\n",
       "      <th>Total</th>\n",
       "      <th>YouTube</th>\n",
       "      <th>비율</th>\n",
       "      <th>인원고려비율</th>\n",
       "    </tr>\n",
       "  </thead>\n",
       "  <tbody>\n",
       "    <tr>\n",
       "      <th>YouTube</th>\n",
       "      <td>81322</td>\n",
       "      <td>81322</td>\n",
       "      <td>1.000000</td>\n",
       "      <td>1.086460</td>\n",
       "    </tr>\n",
       "    <tr>\n",
       "      <th>제5인격</th>\n",
       "      <td>1029</td>\n",
       "      <td>1024</td>\n",
       "      <td>0.995141</td>\n",
       "      <td>1.081181</td>\n",
       "    </tr>\n",
       "    <tr>\n",
       "      <th>LoL 프렌즈</th>\n",
       "      <td>1207</td>\n",
       "      <td>1201</td>\n",
       "      <td>0.995029</td>\n",
       "      <td>1.081059</td>\n",
       "    </tr>\n",
       "    <tr>\n",
       "      <th>Twitch</th>\n",
       "      <td>3613</td>\n",
       "      <td>3586</td>\n",
       "      <td>0.992527</td>\n",
       "      <td>1.078341</td>\n",
       "    </tr>\n",
       "    <tr>\n",
       "      <th>OP.GG</th>\n",
       "      <td>1371</td>\n",
       "      <td>1357</td>\n",
       "      <td>0.989788</td>\n",
       "      <td>1.075365</td>\n",
       "    </tr>\n",
       "    <tr>\n",
       "      <th>Helix Jump</th>\n",
       "      <td>2843</td>\n",
       "      <td>2803</td>\n",
       "      <td>0.985930</td>\n",
       "      <td>1.071174</td>\n",
       "    </tr>\n",
       "    <tr>\n",
       "      <th>Steam</th>\n",
       "      <td>2032</td>\n",
       "      <td>2002</td>\n",
       "      <td>0.985236</td>\n",
       "      <td>1.070420</td>\n",
       "    </tr>\n",
       "    <tr>\n",
       "      <th>V LIVE</th>\n",
       "      <td>3282</td>\n",
       "      <td>3231</td>\n",
       "      <td>0.984461</td>\n",
       "      <td>1.069577</td>\n",
       "    </tr>\n",
       "    <tr>\n",
       "      <th>피자</th>\n",
       "      <td>1095</td>\n",
       "      <td>1076</td>\n",
       "      <td>0.982648</td>\n",
       "      <td>1.067608</td>\n",
       "    </tr>\n",
       "    <tr>\n",
       "      <th>i-Adsnap</th>\n",
       "      <td>1635</td>\n",
       "      <td>1606</td>\n",
       "      <td>0.982263</td>\n",
       "      <td>1.067189</td>\n",
       "    </tr>\n",
       "    <tr>\n",
       "      <th>AfreecaTV</th>\n",
       "      <td>5427</td>\n",
       "      <td>5326</td>\n",
       "      <td>0.981389</td>\n",
       "      <td>1.066240</td>\n",
       "    </tr>\n",
       "  </tbody>\n",
       "</table>\n",
       "</div>"
      ],
      "text/plain": [
       "            Total  YouTube        비율    인원고려비율\n",
       "YouTube     81322    81322  1.000000  1.086460\n",
       "제5인격         1029     1024  0.995141  1.081181\n",
       "LoL 프렌즈      1207     1201  0.995029  1.081059\n",
       "Twitch       3613     3586  0.992527  1.078341\n",
       "OP.GG        1371     1357  0.989788  1.075365\n",
       "Helix Jump   2843     2803  0.985930  1.071174\n",
       "Steam        2032     2002  0.985236  1.070420\n",
       "V LIVE       3282     3231  0.984461  1.069577\n",
       "피자           1095     1076  0.982648  1.067608\n",
       "i-Adsnap     1635     1606  0.982263  1.067189\n",
       "AfreecaTV    5427     5326  0.981389  1.066240"
      ]
     },
     "execution_count": 54,
     "metadata": {},
     "output_type": "execute_result"
    }
   ],
   "source": [
    "df.sort_values(by='인원고려비율', ascending=False, na_position='first').head(11)"
   ]
  },
  {
   "cell_type": "markdown",
   "metadata": {},
   "source": [
    "### 유튜브 유저들이, 전체 유저에 비해 더 많이 하는 앱 순위의 1~6위는 게임 관련! (게임/게임거래 등)"
   ]
  },
  {
   "cell_type": "markdown",
   "metadata": {},
   "source": [
    "## 2. oksusu"
   ]
  },
  {
   "cell_type": "code",
   "execution_count": 65,
   "metadata": {},
   "outputs": [],
   "source": [
    "x = oksusu['panel_id'].unique()\n",
    "oksusu_user = a3[a3['id'].isin(x)]\n",
    "oksusu_data = b3[b3['PANEL_ID'].isin(x)]\n",
    "oksusu_app = c3[c3['panel_id'].isin(x)]"
   ]
  },
  {
   "cell_type": "code",
   "execution_count": 66,
   "metadata": {},
   "outputs": [],
   "source": [
    "oksusu_total = oksusu_app['app_name'].value_counts()\n",
    "oksusu_total = oksusu_total.loc[oksusu_total.values>1000]\n",
    "oksusu_total = dict(oksusu_total)\n",
    "\n",
    "c3_total = c3['app_name'].value_counts()\n",
    "c3_total = c3_total.loc[c3_total.values >1000]\n",
    "c3_total = dict((k,c3_total[k]) for k in oksusu_total.keys())"
   ]
  },
  {
   "cell_type": "code",
   "execution_count": 67,
   "metadata": {},
   "outputs": [],
   "source": [
    "df1 = pd.DataFrame(c3_total, index=[0]).T\n",
    "df2 = pd.DataFrame(oksusu_total, index=[0]).T"
   ]
  },
  {
   "cell_type": "code",
   "execution_count": 68,
   "metadata": {},
   "outputs": [
    {
     "data": {
      "text/html": [
       "<div>\n",
       "<style scoped>\n",
       "    .dataframe tbody tr th:only-of-type {\n",
       "        vertical-align: middle;\n",
       "    }\n",
       "\n",
       "    .dataframe tbody tr th {\n",
       "        vertical-align: top;\n",
       "    }\n",
       "\n",
       "    .dataframe thead th {\n",
       "        text-align: right;\n",
       "    }\n",
       "</style>\n",
       "<table border=\"1\" class=\"dataframe\">\n",
       "  <thead>\n",
       "    <tr style=\"text-align: right;\">\n",
       "      <th></th>\n",
       "      <th>Total</th>\n",
       "      <th>oksusu</th>\n",
       "      <th>비율</th>\n",
       "      <th>인원고려비율</th>\n",
       "    </tr>\n",
       "  </thead>\n",
       "  <tbody>\n",
       "    <tr>\n",
       "      <th>카카오톡</th>\n",
       "      <td>101423</td>\n",
       "      <td>17311</td>\n",
       "      <td>0.170681</td>\n",
       "      <td>0.864365</td>\n",
       "    </tr>\n",
       "    <tr>\n",
       "      <th>NAVER</th>\n",
       "      <td>80849</td>\n",
       "      <td>14476</td>\n",
       "      <td>0.179050</td>\n",
       "      <td>0.906746</td>\n",
       "    </tr>\n",
       "    <tr>\n",
       "      <th>갤러리</th>\n",
       "      <td>79965</td>\n",
       "      <td>14462</td>\n",
       "      <td>0.180854</td>\n",
       "      <td>0.915883</td>\n",
       "    </tr>\n",
       "    <tr>\n",
       "      <th>YouTube</th>\n",
       "      <td>81322</td>\n",
       "      <td>13947</td>\n",
       "      <td>0.171503</td>\n",
       "      <td>0.868529</td>\n",
       "    </tr>\n",
       "    <tr>\n",
       "      <th>패널파워</th>\n",
       "      <td>69234</td>\n",
       "      <td>12267</td>\n",
       "      <td>0.177182</td>\n",
       "      <td>0.897285</td>\n",
       "    </tr>\n",
       "  </tbody>\n",
       "</table>\n",
       "</div>"
      ],
      "text/plain": [
       "          Total  oksusu        비율    인원고려비율\n",
       "카카오톡     101423   17311  0.170681  0.864365\n",
       "NAVER     80849   14476  0.179050  0.906746\n",
       "갤러리       79965   14462  0.180854  0.915883\n",
       "YouTube   81322   13947  0.171503  0.868529\n",
       "패널파워      69234   12267  0.177182  0.897285"
      ]
     },
     "execution_count": 68,
     "metadata": {},
     "output_type": "execute_result"
    }
   ],
   "source": [
    "df = pd.merge(df1, df2, left_index=True, right_index=True)\n",
    "df = df.rename(columns={'0_x':'Total','0_y':'oksusu'})\n",
    "df['비율'] = df['oksusu']/df['Total']\n",
    "df['인원고려비율'] = df['비율']/(len(oksusu_app)/len(c3))\n",
    "df.head() # 이게 1보다 크면, YouTube유저가 더 많이 이용하는 경향이 있는 앱!"
   ]
  },
  {
   "cell_type": "code",
   "execution_count": 73,
   "metadata": {},
   "outputs": [
    {
     "data": {
      "text/plain": [
       "617110"
      ]
     },
     "execution_count": 73,
     "metadata": {},
     "output_type": "execute_result"
    }
   ],
   "source": [
    "len(네이버TV_app)"
   ]
  },
  {
   "cell_type": "code",
   "execution_count": 71,
   "metadata": {},
   "outputs": [
    {
     "data": {
      "text/html": [
       "<div>\n",
       "<style scoped>\n",
       "    .dataframe tbody tr th:only-of-type {\n",
       "        vertical-align: middle;\n",
       "    }\n",
       "\n",
       "    .dataframe tbody tr th {\n",
       "        vertical-align: top;\n",
       "    }\n",
       "\n",
       "    .dataframe thead th {\n",
       "        text-align: right;\n",
       "    }\n",
       "</style>\n",
       "<table border=\"1\" class=\"dataframe\">\n",
       "  <thead>\n",
       "    <tr style=\"text-align: right;\">\n",
       "      <th></th>\n",
       "      <th>Total</th>\n",
       "      <th>oksusu</th>\n",
       "      <th>비율</th>\n",
       "      <th>인원고려비율</th>\n",
       "    </tr>\n",
       "  </thead>\n",
       "  <tbody>\n",
       "    <tr>\n",
       "      <th>oksusu</th>\n",
       "      <td>11439</td>\n",
       "      <td>11439</td>\n",
       "      <td>1.000000</td>\n",
       "      <td>5.064208</td>\n",
       "    </tr>\n",
       "    <tr>\n",
       "      <th>뮤직메이트</th>\n",
       "      <td>4085</td>\n",
       "      <td>2171</td>\n",
       "      <td>0.531457</td>\n",
       "      <td>2.691406</td>\n",
       "    </tr>\n",
       "    <tr>\n",
       "      <th>T멤버십</th>\n",
       "      <td>13094</td>\n",
       "      <td>5650</td>\n",
       "      <td>0.431495</td>\n",
       "      <td>2.185182</td>\n",
       "    </tr>\n",
       "    <tr>\n",
       "      <th>AIA Vitality T건강걷기</th>\n",
       "      <td>4274</td>\n",
       "      <td>1799</td>\n",
       "      <td>0.420917</td>\n",
       "      <td>2.131612</td>\n",
       "    </tr>\n",
       "    <tr>\n",
       "      <th>요금안내서 Bill Letter</th>\n",
       "      <td>4901</td>\n",
       "      <td>1995</td>\n",
       "      <td>0.407060</td>\n",
       "      <td>2.061435</td>\n",
       "    </tr>\n",
       "    <tr>\n",
       "      <th>T연락처</th>\n",
       "      <td>3276</td>\n",
       "      <td>1256</td>\n",
       "      <td>0.383394</td>\n",
       "      <td>1.941589</td>\n",
       "    </tr>\n",
       "    <tr>\n",
       "      <th>Most</th>\n",
       "      <td>2896</td>\n",
       "      <td>1063</td>\n",
       "      <td>0.367058</td>\n",
       "      <td>1.858858</td>\n",
       "    </tr>\n",
       "    <tr>\n",
       "      <th>모바일 T world</th>\n",
       "      <td>18546</td>\n",
       "      <td>6795</td>\n",
       "      <td>0.366386</td>\n",
       "      <td>1.855456</td>\n",
       "    </tr>\n",
       "    <tr>\n",
       "      <th>네이트</th>\n",
       "      <td>6145</td>\n",
       "      <td>2098</td>\n",
       "      <td>0.341416</td>\n",
       "      <td>1.729000</td>\n",
       "    </tr>\n",
       "    <tr>\n",
       "      <th>POOQ</th>\n",
       "      <td>3653</td>\n",
       "      <td>1146</td>\n",
       "      <td>0.313715</td>\n",
       "      <td>1.588717</td>\n",
       "    </tr>\n",
       "    <tr>\n",
       "      <th>T전화</th>\n",
       "      <td>36557</td>\n",
       "      <td>11453</td>\n",
       "      <td>0.313292</td>\n",
       "      <td>1.586574</td>\n",
       "    </tr>\n",
       "    <tr>\n",
       "      <th>메가박스</th>\n",
       "      <td>3986</td>\n",
       "      <td>1105</td>\n",
       "      <td>0.277220</td>\n",
       "      <td>1.403901</td>\n",
       "    </tr>\n",
       "    <tr>\n",
       "      <th>롯데시네마</th>\n",
       "      <td>4872</td>\n",
       "      <td>1281</td>\n",
       "      <td>0.262931</td>\n",
       "      <td>1.331537</td>\n",
       "    </tr>\n",
       "    <tr>\n",
       "      <th>Syrup 월렛</th>\n",
       "      <td>31025</td>\n",
       "      <td>8140</td>\n",
       "      <td>0.262369</td>\n",
       "      <td>1.328691</td>\n",
       "    </tr>\n",
       "    <tr>\n",
       "      <th>Samsung Health</th>\n",
       "      <td>15719</td>\n",
       "      <td>4087</td>\n",
       "      <td>0.260004</td>\n",
       "      <td>1.316713</td>\n",
       "    </tr>\n",
       "    <tr>\n",
       "      <th>원더락</th>\n",
       "      <td>4776</td>\n",
       "      <td>1235</td>\n",
       "      <td>0.258585</td>\n",
       "      <td>1.309526</td>\n",
       "    </tr>\n",
       "    <tr>\n",
       "      <th>11번가</th>\n",
       "      <td>34472</td>\n",
       "      <td>8712</td>\n",
       "      <td>0.252727</td>\n",
       "      <td>1.279861</td>\n",
       "    </tr>\n",
       "    <tr>\n",
       "      <th>이마트</th>\n",
       "      <td>4518</td>\n",
       "      <td>1127</td>\n",
       "      <td>0.249447</td>\n",
       "      <td>1.263250</td>\n",
       "    </tr>\n",
       "    <tr>\n",
       "      <th>삼성카드</th>\n",
       "      <td>16924</td>\n",
       "      <td>4176</td>\n",
       "      <td>0.246750</td>\n",
       "      <td>1.249594</td>\n",
       "    </tr>\n",
       "    <tr>\n",
       "      <th>버즈스크린 with 하나머니</th>\n",
       "      <td>7295</td>\n",
       "      <td>1786</td>\n",
       "      <td>0.244825</td>\n",
       "      <td>1.239846</td>\n",
       "    </tr>\n",
       "  </tbody>\n",
       "</table>\n",
       "</div>"
      ],
      "text/plain": [
       "                    Total  oksusu        비율    인원고려비율\n",
       "oksusu              11439   11439  1.000000  5.064208\n",
       "뮤직메이트                4085    2171  0.531457  2.691406\n",
       "T멤버십                13094    5650  0.431495  2.185182\n",
       "AIA Vitality T건강걷기   4274    1799  0.420917  2.131612\n",
       "요금안내서 Bill Letter    4901    1995  0.407060  2.061435\n",
       "T연락처                 3276    1256  0.383394  1.941589\n",
       "Most                 2896    1063  0.367058  1.858858\n",
       "모바일 T world         18546    6795  0.366386  1.855456\n",
       "네이트                  6145    2098  0.341416  1.729000\n",
       "POOQ                 3653    1146  0.313715  1.588717\n",
       "T전화                 36557   11453  0.313292  1.586574\n",
       "메가박스                 3986    1105  0.277220  1.403901\n",
       "롯데시네마                4872    1281  0.262931  1.331537\n",
       "Syrup 월렛            31025    8140  0.262369  1.328691\n",
       "Samsung Health      15719    4087  0.260004  1.316713\n",
       "원더락                  4776    1235  0.258585  1.309526\n",
       "11번가                34472    8712  0.252727  1.279861\n",
       "이마트                  4518    1127  0.249447  1.263250\n",
       "삼성카드                16924    4176  0.246750  1.249594\n",
       "버즈스크린 with 하나머니      7295    1786  0.244825  1.239846"
      ]
     },
     "execution_count": 71,
     "metadata": {},
     "output_type": "execute_result"
    }
   ],
   "source": [
    "df.sort_values(by='인원고려비율', ascending=False, na_position='first').head(20)"
   ]
  },
  {
   "cell_type": "code",
   "execution_count": 72,
   "metadata": {},
   "outputs": [
    {
     "data": {
      "text/plain": [
       "167"
      ]
     },
     "execution_count": 72,
     "metadata": {},
     "output_type": "execute_result"
    }
   ],
   "source": [
    "len(oksusu_total)"
   ]
  },
  {
   "cell_type": "markdown",
   "metadata": {},
   "source": [
    "## 3. 네이버TV"
   ]
  },
  {
   "cell_type": "code",
   "execution_count": 25,
   "metadata": {},
   "outputs": [],
   "source": [
    "x = 네이버TV['panel_id'].unique()\n",
    "네이버TV_user = a3[a3['id'].isin(x)]\n",
    "네이버TV_data = b3[b3['PANEL_ID'].isin(x)]\n",
    "네이버TV_app = c3[c3['panel_id'].isin(x)]"
   ]
  },
  {
   "cell_type": "code",
   "execution_count": 26,
   "metadata": {},
   "outputs": [],
   "source": [
    "네이버TV_total = 네이버TV_app['app_name'].value_counts()\n",
    "네이버TV_total = 네이버TV_total.loc[네이버TV_total.values>1000]\n",
    "네이버TV_total = dict(네이버TV_total)\n",
    "\n",
    "c3_total = c3['app_name'].value_counts()\n",
    "c3_total = c3_total.loc[c3_total.values >1000]\n",
    "c3_total = dict((k,c3_total[k]) for k in 네이버TV_total.keys())"
   ]
  },
  {
   "cell_type": "code",
   "execution_count": 27,
   "metadata": {},
   "outputs": [],
   "source": [
    "df1 = pd.DataFrame(c3_total, index=[0]).T\n",
    "df2 = pd.DataFrame(네이버TV_total, index=[0]).T"
   ]
  },
  {
   "cell_type": "code",
   "execution_count": 28,
   "metadata": {},
   "outputs": [
    {
     "data": {
      "text/html": [
       "<div>\n",
       "<style scoped>\n",
       "    .dataframe tbody tr th:only-of-type {\n",
       "        vertical-align: middle;\n",
       "    }\n",
       "\n",
       "    .dataframe tbody tr th {\n",
       "        vertical-align: top;\n",
       "    }\n",
       "\n",
       "    .dataframe thead th {\n",
       "        text-align: right;\n",
       "    }\n",
       "</style>\n",
       "<table border=\"1\" class=\"dataframe\">\n",
       "  <thead>\n",
       "    <tr style=\"text-align: right;\">\n",
       "      <th></th>\n",
       "      <th>Total</th>\n",
       "      <th>네이버TV</th>\n",
       "      <th>비율</th>\n",
       "      <th>인원고려비율</th>\n",
       "    </tr>\n",
       "  </thead>\n",
       "  <tbody>\n",
       "    <tr>\n",
       "      <th>카카오톡</th>\n",
       "      <td>101423</td>\n",
       "      <td>13516</td>\n",
       "      <td>0.133264</td>\n",
       "      <td>0.952598</td>\n",
       "    </tr>\n",
       "    <tr>\n",
       "      <th>YouTube</th>\n",
       "      <td>81322</td>\n",
       "      <td>12094</td>\n",
       "      <td>0.148717</td>\n",
       "      <td>1.063065</td>\n",
       "    </tr>\n",
       "    <tr>\n",
       "      <th>NAVER</th>\n",
       "      <td>80849</td>\n",
       "      <td>11096</td>\n",
       "      <td>0.137244</td>\n",
       "      <td>0.981047</td>\n",
       "    </tr>\n",
       "    <tr>\n",
       "      <th>갤러리</th>\n",
       "      <td>79965</td>\n",
       "      <td>10757</td>\n",
       "      <td>0.134521</td>\n",
       "      <td>0.961588</td>\n",
       "    </tr>\n",
       "    <tr>\n",
       "      <th>Chrome</th>\n",
       "      <td>63163</td>\n",
       "      <td>9229</td>\n",
       "      <td>0.146114</td>\n",
       "      <td>1.044455</td>\n",
       "    </tr>\n",
       "  </tbody>\n",
       "</table>\n",
       "</div>"
      ],
      "text/plain": [
       "          Total  네이버TV        비율    인원고려비율\n",
       "카카오톡     101423  13516  0.133264  0.952598\n",
       "YouTube   81322  12094  0.148717  1.063065\n",
       "NAVER     80849  11096  0.137244  0.981047\n",
       "갤러리       79965  10757  0.134521  0.961588\n",
       "Chrome    63163   9229  0.146114  1.044455"
      ]
     },
     "execution_count": 28,
     "metadata": {},
     "output_type": "execute_result"
    }
   ],
   "source": [
    "df = pd.merge(df1, df2, left_index=True, right_index=True)\n",
    "df = df.rename(columns={'0_x':'Total','0_y':'네이버TV'})\n",
    "df['비율'] = df['네이버TV']/df['Total']\n",
    "df['인원고려비율'] = df['비율']/(len(네이버TV_app)/len(c3))\n",
    "df.head() # 이게 1보다 크면, 네이버TV유저가 더 많이 이용하는 경향이 있는 앱!"
   ]
  },
  {
   "cell_type": "code",
   "execution_count": 29,
   "metadata": {},
   "outputs": [
    {
     "data": {
      "text/html": [
       "<div>\n",
       "<style scoped>\n",
       "    .dataframe tbody tr th:only-of-type {\n",
       "        vertical-align: middle;\n",
       "    }\n",
       "\n",
       "    .dataframe tbody tr th {\n",
       "        vertical-align: top;\n",
       "    }\n",
       "\n",
       "    .dataframe thead th {\n",
       "        text-align: right;\n",
       "    }\n",
       "</style>\n",
       "<table border=\"1\" class=\"dataframe\">\n",
       "  <thead>\n",
       "    <tr style=\"text-align: right;\">\n",
       "      <th></th>\n",
       "      <th>Total</th>\n",
       "      <th>네이버TV</th>\n",
       "      <th>비율</th>\n",
       "      <th>인원고려비율</th>\n",
       "    </tr>\n",
       "  </thead>\n",
       "  <tbody>\n",
       "    <tr>\n",
       "      <th>네이버TV</th>\n",
       "      <td>8330</td>\n",
       "      <td>8330</td>\n",
       "      <td>1.000000</td>\n",
       "      <td>7.148222</td>\n",
       "    </tr>\n",
       "    <tr>\n",
       "      <th>V LIVE</th>\n",
       "      <td>3282</td>\n",
       "      <td>1240</td>\n",
       "      <td>0.377818</td>\n",
       "      <td>2.700730</td>\n",
       "    </tr>\n",
       "    <tr>\n",
       "      <th>AfreecaTV</th>\n",
       "      <td>5427</td>\n",
       "      <td>1617</td>\n",
       "      <td>0.297955</td>\n",
       "      <td>2.129846</td>\n",
       "    </tr>\n",
       "    <tr>\n",
       "      <th>에브리타임</th>\n",
       "      <td>4677</td>\n",
       "      <td>1335</td>\n",
       "      <td>0.285439</td>\n",
       "      <td>2.040384</td>\n",
       "    </tr>\n",
       "    <tr>\n",
       "      <th>MX 플레이어</th>\n",
       "      <td>5134</td>\n",
       "      <td>1244</td>\n",
       "      <td>0.242306</td>\n",
       "      <td>1.732058</td>\n",
       "    </tr>\n",
       "    <tr>\n",
       "      <th>트위터</th>\n",
       "      <td>8652</td>\n",
       "      <td>2017</td>\n",
       "      <td>0.233125</td>\n",
       "      <td>1.666431</td>\n",
       "    </tr>\n",
       "    <tr>\n",
       "      <th>지니 뮤직</th>\n",
       "      <td>8225</td>\n",
       "      <td>1626</td>\n",
       "      <td>0.197690</td>\n",
       "      <td>1.413132</td>\n",
       "    </tr>\n",
       "    <tr>\n",
       "      <th>Melon</th>\n",
       "      <td>21338</td>\n",
       "      <td>4177</td>\n",
       "      <td>0.195754</td>\n",
       "      <td>1.399293</td>\n",
       "    </tr>\n",
       "    <tr>\n",
       "      <th>Papago</th>\n",
       "      <td>5250</td>\n",
       "      <td>1016</td>\n",
       "      <td>0.193524</td>\n",
       "      <td>1.383351</td>\n",
       "    </tr>\n",
       "    <tr>\n",
       "      <th>다음웹툰</th>\n",
       "      <td>5782</td>\n",
       "      <td>1107</td>\n",
       "      <td>0.191456</td>\n",
       "      <td>1.368572</td>\n",
       "    </tr>\n",
       "    <tr>\n",
       "      <th>네이버 웹툰</th>\n",
       "      <td>24221</td>\n",
       "      <td>4623</td>\n",
       "      <td>0.190867</td>\n",
       "      <td>1.364363</td>\n",
       "    </tr>\n",
       "  </tbody>\n",
       "</table>\n",
       "</div>"
      ],
      "text/plain": [
       "           Total  네이버TV        비율    인원고려비율\n",
       "네이버TV       8330   8330  1.000000  7.148222\n",
       "V LIVE      3282   1240  0.377818  2.700730\n",
       "AfreecaTV   5427   1617  0.297955  2.129846\n",
       "에브리타임       4677   1335  0.285439  2.040384\n",
       "MX 플레이어     5134   1244  0.242306  1.732058\n",
       "트위터         8652   2017  0.233125  1.666431\n",
       "지니 뮤직       8225   1626  0.197690  1.413132\n",
       "Melon      21338   4177  0.195754  1.399293\n",
       "Papago      5250   1016  0.193524  1.383351\n",
       "다음웹툰        5782   1107  0.191456  1.368572\n",
       "네이버 웹툰     24221   4623  0.190867  1.364363"
      ]
     },
     "execution_count": 29,
     "metadata": {},
     "output_type": "execute_result"
    }
   ],
   "source": [
    "df.sort_values(by='인원고려비율', ascending=False, na_position='first').head(11)"
   ]
  },
  {
   "cell_type": "markdown",
   "metadata": {},
   "source": [
    "## 4. AfreecaTV"
   ]
  },
  {
   "cell_type": "code",
   "execution_count": 30,
   "metadata": {},
   "outputs": [],
   "source": [
    "x = AfreecaTV['panel_id'].unique()\n",
    "AfreecaTV_user = a3[a3['id'].isin(x)]\n",
    "AfreecaTV_data = b3[b3['PANEL_ID'].isin(x)]\n",
    "AfreecaTV_app = c3[c3['panel_id'].isin(x)]"
   ]
  },
  {
   "cell_type": "code",
   "execution_count": 31,
   "metadata": {},
   "outputs": [],
   "source": [
    "AfreecaTV_total = AfreecaTV_app['app_name'].value_counts()\n",
    "AfreecaTV_total = AfreecaTV_total.loc[AfreecaTV_total.values>1000]\n",
    "AfreecaTV_total = dict(AfreecaTV_total)\n",
    "\n",
    "c3_total = c3['app_name'].value_counts()\n",
    "c3_total = c3_total.loc[c3_total.values >1000]\n",
    "c3_total = dict((k,c3_total[k]) for k in AfreecaTV_total.keys())"
   ]
  },
  {
   "cell_type": "code",
   "execution_count": 32,
   "metadata": {},
   "outputs": [
    {
     "data": {
      "text/html": [
       "<div>\n",
       "<style scoped>\n",
       "    .dataframe tbody tr th:only-of-type {\n",
       "        vertical-align: middle;\n",
       "    }\n",
       "\n",
       "    .dataframe tbody tr th {\n",
       "        vertical-align: top;\n",
       "    }\n",
       "\n",
       "    .dataframe thead th {\n",
       "        text-align: right;\n",
       "    }\n",
       "</style>\n",
       "<table border=\"1\" class=\"dataframe\">\n",
       "  <thead>\n",
       "    <tr style=\"text-align: right;\">\n",
       "      <th></th>\n",
       "      <th>Total</th>\n",
       "      <th>AfreecaTV</th>\n",
       "      <th>비율</th>\n",
       "      <th>인원고려비율</th>\n",
       "    </tr>\n",
       "  </thead>\n",
       "  <tbody>\n",
       "    <tr>\n",
       "      <th>카카오톡</th>\n",
       "      <td>101423</td>\n",
       "      <td>7225</td>\n",
       "      <td>0.071236</td>\n",
       "      <td>1.058530</td>\n",
       "    </tr>\n",
       "    <tr>\n",
       "      <th>YouTube</th>\n",
       "      <td>81322</td>\n",
       "      <td>6905</td>\n",
       "      <td>0.084909</td>\n",
       "      <td>1.261703</td>\n",
       "    </tr>\n",
       "    <tr>\n",
       "      <th>갤러리</th>\n",
       "      <td>79965</td>\n",
       "      <td>5646</td>\n",
       "      <td>0.070606</td>\n",
       "      <td>1.049162</td>\n",
       "    </tr>\n",
       "    <tr>\n",
       "      <th>NAVER</th>\n",
       "      <td>80849</td>\n",
       "      <td>5645</td>\n",
       "      <td>0.069822</td>\n",
       "      <td>1.037507</td>\n",
       "    </tr>\n",
       "    <tr>\n",
       "      <th>AfreecaTV</th>\n",
       "      <td>5427</td>\n",
       "      <td>5427</td>\n",
       "      <td>1.000000</td>\n",
       "      <td>14.859411</td>\n",
       "    </tr>\n",
       "  </tbody>\n",
       "</table>\n",
       "</div>"
      ],
      "text/plain": [
       "            Total  AfreecaTV        비율     인원고려비율\n",
       "카카오톡       101423       7225  0.071236   1.058530\n",
       "YouTube     81322       6905  0.084909   1.261703\n",
       "갤러리         79965       5646  0.070606   1.049162\n",
       "NAVER       80849       5645  0.069822   1.037507\n",
       "AfreecaTV    5427       5427  1.000000  14.859411"
      ]
     },
     "execution_count": 32,
     "metadata": {},
     "output_type": "execute_result"
    }
   ],
   "source": [
    "df1 = pd.DataFrame(c3_total, index=[0]).T\n",
    "df2 = pd.DataFrame(AfreecaTV_total, index=[0]).T\n",
    "df = pd.merge(df1, df2, left_index=True, right_index=True)\n",
    "df = df.rename(columns={'0_x':'Total','0_y':'AfreecaTV'})\n",
    "df['비율'] = df['AfreecaTV']/df['Total']\n",
    "df['인원고려비율'] = df['비율']/(len(AfreecaTV_app)/len(c3))\n",
    "df.head() # 이게 1보다 크면, AfreecaTV유저가 더 많이 이용하는 경향이 있는 앱!"
   ]
  },
  {
   "cell_type": "code",
   "execution_count": 33,
   "metadata": {},
   "outputs": [
    {
     "data": {
      "text/html": [
       "<div>\n",
       "<style scoped>\n",
       "    .dataframe tbody tr th:only-of-type {\n",
       "        vertical-align: middle;\n",
       "    }\n",
       "\n",
       "    .dataframe tbody tr th {\n",
       "        vertical-align: top;\n",
       "    }\n",
       "\n",
       "    .dataframe thead th {\n",
       "        text-align: right;\n",
       "    }\n",
       "</style>\n",
       "<table border=\"1\" class=\"dataframe\">\n",
       "  <thead>\n",
       "    <tr style=\"text-align: right;\">\n",
       "      <th></th>\n",
       "      <th>Total</th>\n",
       "      <th>AfreecaTV</th>\n",
       "      <th>비율</th>\n",
       "      <th>인원고려비율</th>\n",
       "    </tr>\n",
       "  </thead>\n",
       "  <tbody>\n",
       "    <tr>\n",
       "      <th>AfreecaTV</th>\n",
       "      <td>5427</td>\n",
       "      <td>5427</td>\n",
       "      <td>1.000000</td>\n",
       "      <td>14.859411</td>\n",
       "    </tr>\n",
       "    <tr>\n",
       "      <th>Twitch</th>\n",
       "      <td>3613</td>\n",
       "      <td>1224</td>\n",
       "      <td>0.338777</td>\n",
       "      <td>5.034021</td>\n",
       "    </tr>\n",
       "    <tr>\n",
       "      <th>네이버TV</th>\n",
       "      <td>8330</td>\n",
       "      <td>1439</td>\n",
       "      <td>0.172749</td>\n",
       "      <td>2.566950</td>\n",
       "    </tr>\n",
       "    <tr>\n",
       "      <th>Messenger</th>\n",
       "      <td>15655</td>\n",
       "      <td>2677</td>\n",
       "      <td>0.171000</td>\n",
       "      <td>2.540955</td>\n",
       "    </tr>\n",
       "    <tr>\n",
       "      <th>네이버 웹툰</th>\n",
       "      <td>24221</td>\n",
       "      <td>3118</td>\n",
       "      <td>0.128731</td>\n",
       "      <td>1.912871</td>\n",
       "    </tr>\n",
       "    <tr>\n",
       "      <th>토스</th>\n",
       "      <td>19388</td>\n",
       "      <td>2404</td>\n",
       "      <td>0.123994</td>\n",
       "      <td>1.842481</td>\n",
       "    </tr>\n",
       "    <tr>\n",
       "      <th>Google Play 게임</th>\n",
       "      <td>14019</td>\n",
       "      <td>1669</td>\n",
       "      <td>0.119053</td>\n",
       "      <td>1.769053</td>\n",
       "    </tr>\n",
       "    <tr>\n",
       "      <th>Facebook</th>\n",
       "      <td>40083</td>\n",
       "      <td>4573</td>\n",
       "      <td>0.114088</td>\n",
       "      <td>1.695284</td>\n",
       "    </tr>\n",
       "    <tr>\n",
       "      <th>Melon</th>\n",
       "      <td>21338</td>\n",
       "      <td>2133</td>\n",
       "      <td>0.099963</td>\n",
       "      <td>1.485384</td>\n",
       "    </tr>\n",
       "    <tr>\n",
       "      <th>배달의민족</th>\n",
       "      <td>19830</td>\n",
       "      <td>1835</td>\n",
       "      <td>0.092537</td>\n",
       "      <td>1.375039</td>\n",
       "    </tr>\n",
       "    <tr>\n",
       "      <th>YouTube</th>\n",
       "      <td>81322</td>\n",
       "      <td>6905</td>\n",
       "      <td>0.084909</td>\n",
       "      <td>1.261703</td>\n",
       "    </tr>\n",
       "  </tbody>\n",
       "</table>\n",
       "</div>"
      ],
      "text/plain": [
       "                Total  AfreecaTV        비율     인원고려비율\n",
       "AfreecaTV        5427       5427  1.000000  14.859411\n",
       "Twitch           3613       1224  0.338777   5.034021\n",
       "네이버TV            8330       1439  0.172749   2.566950\n",
       "Messenger       15655       2677  0.171000   2.540955\n",
       "네이버 웹툰          24221       3118  0.128731   1.912871\n",
       "토스              19388       2404  0.123994   1.842481\n",
       "Google Play 게임  14019       1669  0.119053   1.769053\n",
       "Facebook        40083       4573  0.114088   1.695284\n",
       "Melon           21338       2133  0.099963   1.485384\n",
       "배달의민족           19830       1835  0.092537   1.375039\n",
       "YouTube         81322       6905  0.084909   1.261703"
      ]
     },
     "execution_count": 33,
     "metadata": {},
     "output_type": "execute_result"
    }
   ],
   "source": [
    "df.sort_values(by='인원고려비율', ascending=False, na_position='first').head(11)"
   ]
  },
  {
   "cell_type": "code",
   "execution_count": 74,
   "metadata": {},
   "outputs": [
    {
     "data": {
      "text/plain": [
       "296865"
      ]
     },
     "execution_count": 74,
     "metadata": {},
     "output_type": "execute_result"
    }
   ],
   "source": [
    "len(AfreecaTV_app)"
   ]
  },
  {
   "cell_type": "markdown",
   "metadata": {},
   "source": [
    "## 4개 어플 유저의 신상정보"
   ]
  },
  {
   "cell_type": "code",
   "execution_count": 34,
   "metadata": {},
   "outputs": [
    {
     "data": {
      "text/html": [
       "<div>\n",
       "<style scoped>\n",
       "    .dataframe tbody tr th:only-of-type {\n",
       "        vertical-align: middle;\n",
       "    }\n",
       "\n",
       "    .dataframe tbody tr th {\n",
       "        vertical-align: top;\n",
       "    }\n",
       "\n",
       "    .dataframe thead th {\n",
       "        text-align: right;\n",
       "    }\n",
       "</style>\n",
       "<table border=\"1\" class=\"dataframe\">\n",
       "  <thead>\n",
       "    <tr style=\"text-align: right;\">\n",
       "      <th></th>\n",
       "      <th>id</th>\n",
       "      <th>PP_date</th>\n",
       "      <th>X0001</th>\n",
       "      <th>X0002</th>\n",
       "      <th>X0003</th>\n",
       "      <th>X0004</th>\n",
       "      <th>X0005</th>\n",
       "      <th>X0006</th>\n",
       "      <th>X0007</th>\n",
       "      <th>X0008</th>\n",
       "      <th>...</th>\n",
       "      <th>M0018</th>\n",
       "      <th>M0019</th>\n",
       "      <th>M0020</th>\n",
       "      <th>M0021</th>\n",
       "      <th>M0022</th>\n",
       "      <th>M0023</th>\n",
       "      <th>M0024</th>\n",
       "      <th>M0025</th>\n",
       "      <th>M0026</th>\n",
       "      <th>M0027</th>\n",
       "    </tr>\n",
       "  </thead>\n",
       "  <tbody>\n",
       "    <tr>\n",
       "      <th>19</th>\n",
       "      <td>A0001620</td>\n",
       "      <td>2018-05-18 22:18:53.450</td>\n",
       "      <td>1</td>\n",
       "      <td>4</td>\n",
       "      <td>8</td>\n",
       "      <td>5</td>\n",
       "      <td>4</td>\n",
       "      <td>1</td>\n",
       "      <td>1</td>\n",
       "      <td>4</td>\n",
       "      <td>...</td>\n",
       "      <td>0</td>\n",
       "      <td>0</td>\n",
       "      <td>1</td>\n",
       "      <td>0</td>\n",
       "      <td>0</td>\n",
       "      <td>0</td>\n",
       "      <td>0</td>\n",
       "      <td>0</td>\n",
       "      <td>0</td>\n",
       "      <td>0</td>\n",
       "    </tr>\n",
       "    <tr>\n",
       "      <th>630</th>\n",
       "      <td>H0006473</td>\n",
       "      <td>2018-07-12 10:09:06.883</td>\n",
       "      <td>1</td>\n",
       "      <td>3</td>\n",
       "      <td>5</td>\n",
       "      <td>3</td>\n",
       "      <td>4</td>\n",
       "      <td>1</td>\n",
       "      <td>2</td>\n",
       "      <td>4</td>\n",
       "      <td>...</td>\n",
       "      <td>0</td>\n",
       "      <td>0</td>\n",
       "      <td>0</td>\n",
       "      <td>0</td>\n",
       "      <td>0</td>\n",
       "      <td>0</td>\n",
       "      <td>0</td>\n",
       "      <td>0</td>\n",
       "      <td>0</td>\n",
       "      <td>0</td>\n",
       "    </tr>\n",
       "    <tr>\n",
       "      <th>655</th>\n",
       "      <td>H0006874</td>\n",
       "      <td>2018-09-11 15:21:31.037</td>\n",
       "      <td>2</td>\n",
       "      <td>2</td>\n",
       "      <td>4</td>\n",
       "      <td>3</td>\n",
       "      <td>9</td>\n",
       "      <td>5</td>\n",
       "      <td>1</td>\n",
       "      <td>4</td>\n",
       "      <td>...</td>\n",
       "      <td>0</td>\n",
       "      <td>0</td>\n",
       "      <td>0</td>\n",
       "      <td>0</td>\n",
       "      <td>0</td>\n",
       "      <td>0</td>\n",
       "      <td>0</td>\n",
       "      <td>0</td>\n",
       "      <td>0</td>\n",
       "      <td>0</td>\n",
       "    </tr>\n",
       "    <tr>\n",
       "      <th>687</th>\n",
       "      <td>H0007473</td>\n",
       "      <td>2018-08-16 10:33:20.997</td>\n",
       "      <td>2</td>\n",
       "      <td>3</td>\n",
       "      <td>5</td>\n",
       "      <td>3</td>\n",
       "      <td>8</td>\n",
       "      <td>1</td>\n",
       "      <td>1</td>\n",
       "      <td>5</td>\n",
       "      <td>...</td>\n",
       "      <td>0</td>\n",
       "      <td>0</td>\n",
       "      <td>0</td>\n",
       "      <td>0</td>\n",
       "      <td>0</td>\n",
       "      <td>0</td>\n",
       "      <td>0</td>\n",
       "      <td>0</td>\n",
       "      <td>0</td>\n",
       "      <td>0</td>\n",
       "    </tr>\n",
       "    <tr>\n",
       "      <th>695</th>\n",
       "      <td>H0007623</td>\n",
       "      <td>2018-07-20 14:59:59.770</td>\n",
       "      <td>2</td>\n",
       "      <td>3</td>\n",
       "      <td>5</td>\n",
       "      <td>3</td>\n",
       "      <td>1</td>\n",
       "      <td>1</td>\n",
       "      <td>1</td>\n",
       "      <td>2</td>\n",
       "      <td>...</td>\n",
       "      <td>0</td>\n",
       "      <td>1</td>\n",
       "      <td>1</td>\n",
       "      <td>0</td>\n",
       "      <td>1</td>\n",
       "      <td>0</td>\n",
       "      <td>0</td>\n",
       "      <td>0</td>\n",
       "      <td>0</td>\n",
       "      <td>0</td>\n",
       "    </tr>\n",
       "  </tbody>\n",
       "</table>\n",
       "<p>5 rows × 701 columns</p>\n",
       "</div>"
      ],
      "text/plain": [
       "           id                  PP_date  X0001  X0002  X0003  X0004  X0005  \\\n",
       "19   A0001620  2018-05-18 22:18:53.450      1      4      8      5      4   \n",
       "630  H0006473  2018-07-12 10:09:06.883      1      3      5      3      4   \n",
       "655  H0006874  2018-09-11 15:21:31.037      2      2      4      3      9   \n",
       "687  H0007473  2018-08-16 10:33:20.997      2      3      5      3      8   \n",
       "695  H0007623  2018-07-20 14:59:59.770      2      3      5      3      1   \n",
       "\n",
       "     X0006  X0007 X0008  ...    M0018  M0019  M0020  M0021  M0022  M0023  \\\n",
       "19       1      1     4  ...        0      0      1      0      0      0   \n",
       "630      1      2     4  ...        0      0      0      0      0      0   \n",
       "655      5      1     4  ...        0      0      0      0      0      0   \n",
       "687      1      1     5  ...        0      0      0      0      0      0   \n",
       "695      1      1     2  ...        0      1      1      0      1      0   \n",
       "\n",
       "     M0024  M0025  M0026  M0027  \n",
       "19       0      0      0      0  \n",
       "630      0      0      0      0  \n",
       "655      0      0      0      0  \n",
       "687      0      0      0      0  \n",
       "695      0      0      0      0  \n",
       "\n",
       "[5 rows x 701 columns]"
      ]
     },
     "execution_count": 34,
     "metadata": {},
     "output_type": "execute_result"
    }
   ],
   "source": [
    "네이버TV_user.head()"
   ]
  },
  {
   "cell_type": "code",
   "execution_count": 35,
   "metadata": {},
   "outputs": [
    {
     "name": "stdout",
     "output_type": "stream",
     "text": [
      "YouTube의 남:여 :  0.4237815182856757 : 0.5762184817143243\n",
      "oksusu의 남:여 :  0.4013254786450663 : 0.5986745213549337\n",
      "네이버TV의 남:여 :  0.6476462196861626 : 0.35235378031383735\n",
      "AfreecaTV의 남:여 :  0.7876016260162602 : 0.21239837398373984\n"
     ]
    }
   ],
   "source": [
    "a = len(YouTube_user[YouTube_user['X0001']==1])/len(YouTube_user)\n",
    "b = len(oksusu_user[oksusu_user['X0001']==1])/len(oksusu_user)\n",
    "c = len(네이버TV_user[네이버TV_user['X0001']==1])/len(네이버TV_user)\n",
    "d = len(AfreecaTV_user[AfreecaTV_user['X0001']==1])/len(AfreecaTV_user)\n",
    "\n",
    "print('YouTube의 남:여 : ',a,':',1-a)\n",
    "print('oksusu의 남:여 : ',b,':',1-b)\n",
    "print('네이버TV의 남:여 : ',c,':',1-c)\n",
    "print('AfreecaTV의 남:여 : ',d,':',1-d)"
   ]
  },
  {
   "cell_type": "code",
   "execution_count": 36,
   "metadata": {},
   "outputs": [
    {
     "data": {
      "text/plain": [
       "4     23713\n",
       "5     19796\n",
       "6     17780\n",
       "3     17322\n",
       "7     11832\n",
       "8      8789\n",
       "2      7898\n",
       "9      4335\n",
       "10     2395\n",
       "11     1583\n",
       "1       411\n",
       "Name: X0003, dtype: int64"
      ]
     },
     "execution_count": 36,
     "metadata": {},
     "output_type": "execute_result"
    }
   ],
   "source": [
    "# PANEL전체의 연령대\n",
    "a3['X0003'].value_counts()"
   ]
  },
  {
   "cell_type": "code",
   "execution_count": 37,
   "metadata": {},
   "outputs": [
    {
     "data": {
      "text/plain": [
       "6     2626\n",
       "5     2523\n",
       "4     2307\n",
       "3     1850\n",
       "7     1700\n",
       "2     1489\n",
       "8     1224\n",
       "9      543\n",
       "10     286\n",
       "11     167\n",
       "1       78\n",
       "Name: X0003, dtype: int64"
      ]
     },
     "execution_count": 37,
     "metadata": {},
     "output_type": "execute_result"
    }
   ],
   "source": [
    "# Youtube_user의 연령대\n",
    "YouTube_user['X0003'].value_counts() # 30후 -> 30초 -> 20후 -> 20초"
   ]
  },
  {
   "cell_type": "code",
   "execution_count": 38,
   "metadata": {},
   "outputs": [
    {
     "data": {
      "text/plain": [
       "6     618\n",
       "5     502\n",
       "7     410\n",
       "4     410\n",
       "8     265\n",
       "3     233\n",
       "2     122\n",
       "9      93\n",
       "10     35\n",
       "11     27\n",
       "1       1\n",
       "Name: X0003, dtype: int64"
      ]
     },
     "execution_count": 38,
     "metadata": {},
     "output_type": "execute_result"
    }
   ],
   "source": [
    "# oksusu_user의 연령대\n",
    "oksusu_user['X0003'].value_counts() # 30후 -> 30초 -> 40초 = 20후"
   ]
  },
  {
   "cell_type": "code",
   "execution_count": 39,
   "metadata": {},
   "outputs": [
    {
     "data": {
      "text/plain": [
       "3     387\n",
       "4     380\n",
       "5     327\n",
       "6     319\n",
       "2     302\n",
       "7     174\n",
       "8     130\n",
       "9      53\n",
       "10     19\n",
       "11      8\n",
       "1       4\n",
       "Name: X0003, dtype: int64"
      ]
     },
     "execution_count": 39,
     "metadata": {},
     "output_type": "execute_result"
    }
   ],
   "source": [
    "# 네이버TV의 연령대\n",
    "네이버TV_user['X0003'].value_counts() # 20초 -> 20후 -> 30초 -> 30gn"
   ]
  },
  {
   "cell_type": "code",
   "execution_count": 40,
   "metadata": {},
   "outputs": [
    {
     "data": {
      "text/plain": [
       "2     233\n",
       "3     214\n",
       "4     208\n",
       "5     127\n",
       "6      96\n",
       "7      47\n",
       "8      30\n",
       "9      13\n",
       "1       8\n",
       "10      6\n",
       "11      2\n",
       "Name: X0003, dtype: int64"
      ]
     },
     "execution_count": 40,
     "metadata": {},
     "output_type": "execute_result"
    }
   ],
   "source": [
    "# AfreecaTV의 연령대\n",
    "AfreecaTV_user['X0003'].value_counts() # 10후 -> 20초 -> 20후 -> 30초 -> 30후 -> "
   ]
  },
  {
   "cell_type": "code",
   "execution_count": 41,
   "metadata": {},
   "outputs": [
    {
     "data": {
      "text/plain": [
       "4      5391\n",
       "7      2872\n",
       "1      2535\n",
       "2      1004\n",
       "998     728\n",
       "9       556\n",
       "8       461\n",
       "5       441\n",
       "3       365\n",
       "6       262\n",
       "997      96\n",
       "11       31\n",
       "12       25\n",
       "10       24\n",
       "0         2\n",
       "Name: L0031, dtype: int64"
      ]
     },
     "execution_count": 41,
     "metadata": {},
     "output_type": "execute_result"
    }
   ],
   "source": [
    "# TV에서 주로 보는 것\n",
    "YouTube_user['L0031'].value_counts()\n",
    "#oksusu_user['L0031'].value_counts()\n",
    "#네이버TV_user['L0031'].value_counts()\n",
    "#AfreecaTV_user['L0031'].value_counts()"
   ]
  },
  {
   "cell_type": "code",
   "execution_count": 42,
   "metadata": {
    "scrolled": true
   },
   "outputs": [
    {
     "name": "stdout",
     "output_type": "stream",
     "text": [
      "YouTube인의 스포츠 시청비율 :  0.29845197052660044\n",
      "oksusu인의 스포츠 시청비율 :  0.3280559646539028\n",
      "네이버TV인의 스포츠 시청비율 :  0.5320970042796006\n",
      "AfreecaTV인의 스포츠 시청비율 :  0.40752032520325204\n",
      "\n",
      "\n",
      "YouTube인의 드라마 시청비율 :  0.5645913607787467\n",
      "oksusu인의 드라마 시청비율 :  0.6192930780559647\n",
      "네이버TV인의 드라마 시청비율 :  0.5011887779362815\n",
      "AfreecaTV인의 드라마 시청비율 :  0.41260162601626016\n"
     ]
    }
   ],
   "source": [
    "# 스포츠/드라마 보는 비율\n",
    "print(\"YouTube인의 스포츠 시청비율 : \", len(YouTube_user[YouTube_user['L0020']==1]) / len(YouTube_user))\n",
    "print(\"oksusu인의 스포츠 시청비율 : \", len(oksusu_user[oksusu_user['L0020']==1]) / len(oksusu_user))\n",
    "print(\"네이버TV인의 스포츠 시청비율 : \", len(네이버TV_user[네이버TV_user['L0020']==1]) / len(네이버TV_user))\n",
    "print(\"AfreecaTV인의 스포츠 시청비율 : \", len(AfreecaTV_user[AfreecaTV_user['L0020']==1]) / len(AfreecaTV_user))\n",
    "print('\\n')\n",
    "print(\"YouTube인의 드라마 시청비율 : \", len(YouTube_user[YouTube_user['L0025']==1]) / len(YouTube_user))\n",
    "print(\"oksusu인의 드라마 시청비율 : \", len(oksusu_user[oksusu_user['L0025']==1]) / len(oksusu_user))\n",
    "print(\"네이버TV인의 드라마 시청비율 : \", len(네이버TV_user[네이버TV_user['L0025']==1]) / len(네이버TV_user))\n",
    "print(\"AfreecaTV인의 드라마 시청비율 : \", len(AfreecaTV_user[AfreecaTV_user['L0025']==1]) / len(AfreecaTV_user))"
   ]
  },
  {
   "cell_type": "markdown",
   "metadata": {},
   "source": [
    "#### YouTube & oksusu -> 드라마 시청자들\n",
    "#### 네이버TV & afreecaTV -> 스포츠 시청자들"
   ]
  },
  {
   "cell_type": "markdown",
   "metadata": {},
   "source": [
    "## L.미디어"
   ]
  },
  {
   "cell_type": "code",
   "execution_count": 43,
   "metadata": {},
   "outputs": [],
   "source": [
    "import itertools"
   ]
  },
  {
   "cell_type": "code",
   "execution_count": 44,
   "metadata": {},
   "outputs": [
    {
     "name": "stdout",
     "output_type": "stream",
     "text": [
      "YouTube인의  L0001 비율 :  0.69\n",
      "oksusu인의  L0001 비율 :  0.738\n",
      "네이버TV인의  L0001 비율 :  0.67\n",
      "AfreecaTV인의  L0001 비율 :  0.582\n",
      "\n",
      "\n",
      "YouTube인의  L0002 비율 :  0.428\n",
      "oksusu인의  L0002 비율 :  0.428\n",
      "네이버TV인의  L0002 비율 :  0.41\n",
      "AfreecaTV인의  L0002 비율 :  0.391\n",
      "\n",
      "\n",
      "YouTube인의  L0003 비율 :  0.107\n",
      "oksusu인의  L0003 비율 :  0.099\n",
      "네이버TV인의  L0003 비율 :  0.156\n",
      "AfreecaTV인의  L0003 비율 :  0.164\n",
      "\n",
      "\n",
      "YouTube인의  L0004 비율 :  0.271\n",
      "oksusu인의  L0004 비율 :  0.227\n",
      "네이버TV인의  L0004 비율 :  0.333\n",
      "AfreecaTV인의  L0004 비율 :  0.372\n",
      "\n",
      "\n",
      "YouTube인의  L0005 비율 :  0.217\n",
      "oksusu인의  L0005 비율 :  0.314\n",
      "네이버TV인의  L0005 비율 :  0.307\n",
      "AfreecaTV인의  L0005 비율 :  0.29\n",
      "\n",
      "\n",
      "YouTube인의  L0006 비율 :  0.481\n",
      "oksusu인의  L0006 비율 :  0.554\n",
      "네이버TV인의  L0006 비율 :  0.573\n",
      "AfreecaTV인의  L0006 비율 :  0.534\n",
      "\n",
      "\n",
      "YouTube인의  L0007 비율 :  0.02\n",
      "oksusu인의  L0007 비율 :  0.021\n",
      "네이버TV인의  L0007 비율 :  0.023\n",
      "AfreecaTV인의  L0007 비율 :  0.013\n",
      "\n",
      "\n",
      "YouTube인의  L0010 비율 :  0.667\n",
      "oksusu인의  L0010 비율 :  0.712\n",
      "네이버TV인의  L0010 비율 :  0.643\n",
      "AfreecaTV인의  L0010 비율 :  0.544\n",
      "\n",
      "\n",
      "YouTube인의  L0011 비율 :  0.512\n",
      "oksusu인의  L0011 비율 :  0.523\n",
      "네이버TV인의  L0011 비율 :  0.474\n",
      "AfreecaTV인의  L0011 비율 :  0.438\n",
      "\n",
      "\n",
      "YouTube인의  L0012 비율 :  0.308\n",
      "oksusu인의  L0012 비율 :  0.314\n",
      "네이버TV인의  L0012 비율 :  0.306\n",
      "AfreecaTV인의  L0012 비율 :  0.265\n",
      "\n",
      "\n",
      "YouTube인의  L0013 비율 :  0.118\n",
      "oksusu인의  L0013 비율 :  0.1\n",
      "네이버TV인의  L0013 비율 :  0.129\n",
      "AfreecaTV인의  L0013 비율 :  0.147\n",
      "\n",
      "\n",
      "YouTube인의  L0014 비율 :  0.501\n",
      "oksusu인의  L0014 비율 :  0.465\n",
      "네이버TV인의  L0014 비율 :  0.602\n",
      "AfreecaTV인의  L0014 비율 :  0.595\n",
      "\n",
      "\n",
      "YouTube인의  L0015 비율 :  0.275\n",
      "oksusu인의  L0015 비율 :  0.487\n",
      "네이버TV인의  L0015 비율 :  0.334\n",
      "AfreecaTV인의  L0015 비율 :  0.255\n",
      "\n",
      "\n",
      "YouTube인의  L0016 비율 :  0.093\n",
      "oksusu인의  L0016 비율 :  0.079\n",
      "네이버TV인의  L0016 비율 :  0.129\n",
      "AfreecaTV인의  L0016 비율 :  0.129\n",
      "\n",
      "\n",
      "YouTube인의  L0019 비율 :  0.528\n",
      "oksusu인의  L0019 비율 :  0.564\n",
      "네이버TV인의  L0019 비율 :  0.51\n",
      "AfreecaTV인의  L0019 비율 :  0.41\n",
      "\n",
      "\n",
      "YouTube인의  L0020 비율 :  0.298\n",
      "oksusu인의  L0020 비율 :  0.328\n",
      "네이버TV인의  L0020 비율 :  0.532\n",
      "AfreecaTV인의  L0020 비율 :  0.408\n",
      "\n",
      "\n",
      "YouTube인의  L0021 비율 :  0.24\n",
      "oksusu인의  L0021 비율 :  0.232\n",
      "네이버TV인의  L0021 비율 :  0.2\n",
      "AfreecaTV인의  L0021 비율 :  0.169\n",
      "\n",
      "\n",
      "YouTube인의  L0022 비율 :  0.778\n",
      "oksusu인의  L0022 비율 :  0.806\n",
      "네이버TV인의  L0022 비율 :  0.78\n",
      "AfreecaTV인의  L0022 비율 :  0.752\n",
      "\n",
      "\n",
      "YouTube인의  L0023 비율 :  0.33\n",
      "oksusu인의  L0023 비율 :  0.318\n",
      "네이버TV인의  L0023 비율 :  0.333\n",
      "AfreecaTV인의  L0023 비율 :  0.379\n",
      "\n",
      "\n",
      "YouTube인의  L0024 비율 :  0.235\n",
      "oksusu인의  L0024 비율 :  0.209\n",
      "네이버TV인의  L0024 비율 :  0.291\n",
      "AfreecaTV인의  L0024 비율 :  0.242\n",
      "\n",
      "\n",
      "YouTube인의  L0025 비율 :  0.565\n",
      "oksusu인의  L0025 비율 :  0.619\n",
      "네이버TV인의  L0025 비율 :  0.501\n",
      "AfreecaTV인의  L0025 비율 :  0.413\n",
      "\n",
      "\n",
      "YouTube인의  L0026 비율 :  0.161\n",
      "oksusu인의  L0026 비율 :  0.154\n",
      "네이버TV인의  L0026 비율 :  0.121\n",
      "AfreecaTV인의  L0026 비율 :  0.097\n",
      "\n",
      "\n",
      "YouTube인의  L0027 비율 :  0.416\n",
      "oksusu인의  L0027 비율 :  0.452\n",
      "네이버TV인의  L0027 비율 :  0.43\n",
      "AfreecaTV인의  L0027 비율 :  0.399\n",
      "\n",
      "\n",
      "YouTube인의  L0028 비율 :  0.055\n",
      "oksusu인의  L0028 비율 :  0.051\n",
      "네이버TV인의  L0028 비율 :  0.032\n",
      "AfreecaTV인의  L0028 비율 :  0.021\n",
      "\n",
      "\n",
      "YouTube인의  L0029 비율 :  0.069\n",
      "oksusu인의  L0029 비율 :  0.064\n",
      "네이버TV인의  L0029 비율 :  0.057\n",
      "AfreecaTV인의  L0029 비율 :  0.054\n",
      "\n",
      "\n",
      "YouTube인의  L0030 비율 :  0.159\n",
      "oksusu인의  L0030 비율 :  0.161\n",
      "네이버TV인의  L0030 비율 :  0.099\n",
      "AfreecaTV인의  L0030 비율 :  0.062\n",
      "\n",
      "\n"
     ]
    }
   ],
   "source": [
    "for i in itertools.chain(range(1,8),range(10,17),range(19,31)):\n",
    "    if i<10:\n",
    "        a='L000'+str(i)\n",
    "    else:\n",
    "        a='L00'+str(i)\n",
    "    print(\"YouTube인의 \",a,\"비율 : \", round(len(YouTube_user[YouTube_user[a]==1]) / len(YouTube_user),3))\n",
    "    print(\"oksusu인의 \",a,\"비율 : \", round(len(oksusu_user[oksusu_user[a]==1]) / len(oksusu_user),3))\n",
    "    print(\"네이버TV인의 \",a,\"비율 : \", round(len(네이버TV_user[네이버TV_user[a]==1]) / len(네이버TV_user),3))\n",
    "    print(\"AfreecaTV인의 \",a,\"비율 : \", round(len(AfreecaTV_user[AfreecaTV_user[a]==1]) / len(AfreecaTV_user),3))\n",
    "    print('\\n')"
   ]
  },
  {
   "cell_type": "markdown",
   "metadata": {},
   "source": [
    "## M.금융"
   ]
  },
  {
   "cell_type": "code",
   "execution_count": 45,
   "metadata": {},
   "outputs": [
    {
     "name": "stdout",
     "output_type": "stream",
     "text": [
      "YouTube인의  M0001 비율 :  0.718\n",
      "oksusu인의  M0001 비율 :  0.78\n",
      "네이버TV인의  M0001 비율 :  0.698\n",
      "AfreecaTV인의  M0001 비율 :  0.584\n",
      "\n",
      "\n",
      "YouTube인의  M0002 비율 :  0.079\n",
      "oksusu인의  M0002 비율 :  0.121\n",
      "네이버TV인의  M0002 비율 :  0.073\n",
      "AfreecaTV인의  M0002 비율 :  0.049\n",
      "\n",
      "\n",
      "YouTube인의  M0003 비율 :  0.263\n",
      "oksusu인의  M0003 비율 :  0.275\n",
      "네이버TV인의  M0003 비율 :  0.286\n",
      "AfreecaTV인의  M0003 비율 :  0.227\n",
      "\n",
      "\n",
      "YouTube인의  M0004 비율 :  0.451\n",
      "oksusu인의  M0004 비율 :  0.456\n",
      "네이버TV인의  M0004 비율 :  0.5\n",
      "AfreecaTV인의  M0004 비율 :  0.392\n",
      "\n",
      "\n",
      "YouTube인의  M0005 비율 :  0.331\n",
      "oksusu인의  M0005 비율 :  0.331\n",
      "네이버TV인의  M0005 비율 :  0.383\n",
      "AfreecaTV인의  M0005 비율 :  0.326\n",
      "\n",
      "\n",
      "YouTube인의  M0006 비율 :  0.296\n",
      "oksusu인의  M0006 비율 :  0.383\n",
      "네이버TV인의  M0006 비율 :  0.368\n",
      "AfreecaTV인의  M0006 비율 :  0.287\n",
      "\n",
      "\n",
      "YouTube인의  M0007 비율 :  0.109\n",
      "oksusu인의  M0007 비율 :  0.108\n",
      "네이버TV인의  M0007 비율 :  0.131\n",
      "AfreecaTV인의  M0007 비율 :  0.133\n",
      "\n",
      "\n",
      "YouTube인의  M0008 비율 :  0.302\n",
      "oksusu인의  M0008 비율 :  0.324\n",
      "네이버TV인의  M0008 비율 :  0.304\n",
      "AfreecaTV인의  M0008 비율 :  0.297\n",
      "\n",
      "\n",
      "YouTube인의  M0009 비율 :  0.688\n",
      "oksusu인의  M0009 비율 :  0.672\n",
      "네이버TV인의  M0009 비율 :  0.704\n",
      "AfreecaTV인의  M0009 비율 :  0.673\n",
      "\n",
      "\n",
      "YouTube인의  M0010 비율 :  0.613\n",
      "oksusu인의  M0010 비율 :  0.672\n",
      "네이버TV인의  M0010 비율 :  0.556\n",
      "AfreecaTV인의  M0010 비율 :  0.442\n",
      "\n",
      "\n",
      "YouTube인의  M0011 비율 :  0.21\n",
      "oksusu인의  M0011 비율 :  0.244\n",
      "네이버TV인의  M0011 비율 :  0.21\n",
      "AfreecaTV인의  M0011 비율 :  0.154\n",
      "\n",
      "\n",
      "YouTube인의  M0012 비율 :  0.551\n",
      "oksusu인의  M0012 비율 :  0.545\n",
      "네이버TV인의  M0012 비율 :  0.573\n",
      "AfreecaTV인의  M0012 비율 :  0.557\n",
      "\n",
      "\n",
      "YouTube인의  M0013 비율 :  0.133\n",
      "oksusu인의  M0013 비율 :  0.116\n",
      "네이버TV인의  M0013 비율 :  0.163\n",
      "AfreecaTV인의  M0013 비율 :  0.162\n",
      "\n",
      "\n",
      "YouTube인의  M0014 비율 :  0.232\n",
      "oksusu인의  M0014 비율 :  0.297\n",
      "네이버TV인의  M0014 비율 :  0.303\n",
      "AfreecaTV인의  M0014 비율 :  0.225\n",
      "\n",
      "\n",
      "YouTube인의  M0015 비율 :  0.063\n",
      "oksusu인의  M0015 비율 :  0.072\n",
      "네이버TV인의  M0015 비율 :  0.072\n",
      "AfreecaTV인의  M0015 비율 :  0.05\n",
      "\n",
      "\n",
      "YouTube인의  M0016 비율 :  0.094\n",
      "oksusu인의  M0016 비율 :  0.091\n",
      "네이버TV인의  M0016 비율 :  0.111\n",
      "AfreecaTV인의  M0016 비율 :  0.098\n",
      "\n",
      "\n",
      "YouTube인의  M0017 비율 :  0.199\n",
      "oksusu인의  M0017 비율 :  0.207\n",
      "네이버TV인의  M0017 비율 :  0.175\n",
      "AfreecaTV인의  M0017 비율 :  0.16\n",
      "\n",
      "\n",
      "YouTube인의  M0018 비율 :  0.091\n",
      "oksusu인의  M0018 비율 :  0.093\n",
      "네이버TV인의  M0018 비율 :  0.074\n",
      "AfreecaTV인의  M0018 비율 :  0.07\n",
      "\n",
      "\n",
      "YouTube인의  M0019 비율 :  0.018\n",
      "oksusu인의  M0019 비율 :  0.021\n",
      "네이버TV인의  M0019 비율 :  0.011\n",
      "AfreecaTV인의  M0019 비율 :  0.015\n",
      "\n",
      "\n",
      "YouTube인의  M0020 비율 :  0.515\n",
      "oksusu인의  M0020 비율 :  0.556\n",
      "네이버TV인의  M0020 비율 :  0.459\n",
      "AfreecaTV인의  M0020 비율 :  0.372\n",
      "\n",
      "\n",
      "YouTube인의  M0021 비율 :  0.2\n",
      "oksusu인의  M0021 비율 :  0.218\n",
      "네이버TV인의  M0021 비율 :  0.165\n",
      "AfreecaTV인의  M0021 비율 :  0.141\n",
      "\n",
      "\n",
      "YouTube인의  M0022 비율 :  0.093\n",
      "oksusu인의  M0022 비율 :  0.101\n",
      "네이버TV인의  M0022 비율 :  0.096\n",
      "AfreecaTV인의  M0022 비율 :  0.067\n",
      "\n",
      "\n",
      "YouTube인의  M0023 비율 :  0.031\n",
      "oksusu인의  M0023 비율 :  0.028\n",
      "네이버TV인의  M0023 비율 :  0.034\n",
      "AfreecaTV인의  M0023 비율 :  0.022\n",
      "\n",
      "\n",
      "YouTube인의  M0024 비율 :  0.035\n",
      "oksusu인의  M0024 비율 :  0.034\n",
      "네이버TV인의  M0024 비율 :  0.036\n",
      "AfreecaTV인의  M0024 비율 :  0.036\n",
      "\n",
      "\n",
      "YouTube인의  M0025 비율 :  0.07\n",
      "oksusu인의  M0025 비율 :  0.078\n",
      "네이버TV인의  M0025 비율 :  0.075\n",
      "AfreecaTV인의  M0025 비율 :  0.05\n",
      "\n",
      "\n",
      "YouTube인의  M0026 비율 :  0.099\n",
      "oksusu인의  M0026 비율 :  0.107\n",
      "네이버TV인의  M0026 비율 :  0.102\n",
      "AfreecaTV인의  M0026 비율 :  0.071\n",
      "\n",
      "\n",
      "YouTube인의  M0027 비율 :  0.032\n",
      "oksusu인의  M0027 비율 :  0.034\n",
      "네이버TV인의  M0027 비율 :  0.029\n",
      "AfreecaTV인의  M0027 비율 :  0.024\n",
      "\n",
      "\n"
     ]
    }
   ],
   "source": [
    "for i in range(1,28):\n",
    "    if i<10:\n",
    "        a='M000'+str(i)\n",
    "    else:\n",
    "        a='M00'+str(i)\n",
    "    print(\"YouTube인의 \",a,\"비율 : \", round(len(YouTube_user[YouTube_user[a]==1]) / len(YouTube_user),3))\n",
    "    print(\"oksusu인의 \",a,\"비율 : \", round(len(oksusu_user[oksusu_user[a]==1]) / len(oksusu_user),3))\n",
    "    print(\"네이버TV인의 \",a,\"비율 : \", round(len(네이버TV_user[네이버TV_user[a]==1]) / len(네이버TV_user),3))\n",
    "    print(\"AfreecaTV인의 \",a,\"비율 : \", round(len(AfreecaTV_user[AfreecaTV_user[a]==1]) / len(AfreecaTV_user),3))\n",
    "    print('\\n')"
   ]
  },
  {
   "cell_type": "code",
   "execution_count": null,
   "metadata": {},
   "outputs": [],
   "source": []
  },
  {
   "cell_type": "code",
   "execution_count": null,
   "metadata": {},
   "outputs": [],
   "source": []
  },
  {
   "cell_type": "code",
   "execution_count": null,
   "metadata": {},
   "outputs": [],
   "source": []
  },
  {
   "cell_type": "code",
   "execution_count": null,
   "metadata": {},
   "outputs": [],
   "source": []
  },
  {
   "cell_type": "code",
   "execution_count": null,
   "metadata": {},
   "outputs": [],
   "source": []
  },
  {
   "cell_type": "code",
   "execution_count": null,
   "metadata": {},
   "outputs": [],
   "source": []
  },
  {
   "cell_type": "markdown",
   "metadata": {},
   "source": [
    "### < 남자 유저 / 남자 비유저 / 여자 유저 / 여자 비유저 >  로 구분"
   ]
  },
  {
   "cell_type": "code",
   "execution_count": 56,
   "metadata": {},
   "outputs": [],
   "source": [
    "ManO = b6[b6['Man O']==True].drop(['Man O','Man X','Woman O','Woman X'],axis=1) \n",
    "ManX = b6[b6['Man X']==True].drop(['Man O','Man X','Woman O','Woman X'],axis=1) \n",
    "WomanO = b6[b6['Woman O']==True].drop(['Man O','Man X','Woman O','Woman X'],axis=1) \n",
    "WomanX = b6[b6['Woman X']==True].drop(['Man O','Man X','Woman O','Woman X'],axis=1) "
   ]
  },
  {
   "cell_type": "code",
   "execution_count": 57,
   "metadata": {},
   "outputs": [
    {
     "data": {
      "text/html": [
       "<div>\n",
       "<style scoped>\n",
       "    .dataframe tbody tr th:only-of-type {\n",
       "        vertical-align: middle;\n",
       "    }\n",
       "\n",
       "    .dataframe tbody tr th {\n",
       "        vertical-align: top;\n",
       "    }\n",
       "\n",
       "    .dataframe thead th {\n",
       "        text-align: right;\n",
       "    }\n",
       "</style>\n",
       "<table border=\"1\" class=\"dataframe\">\n",
       "  <thead>\n",
       "    <tr style=\"text-align: right;\">\n",
       "      <th></th>\n",
       "      <th>PANEL_ID</th>\n",
       "      <th>USER_ID</th>\n",
       "      <th>TOTAL_CNT</th>\n",
       "      <th>TOTAL_SUM_PRICE</th>\n",
       "      <th>date</th>\n",
       "    </tr>\n",
       "  </thead>\n",
       "  <tbody>\n",
       "    <tr>\n",
       "      <th>2</th>\n",
       "      <td>P0155163</td>\n",
       "      <td>UI005153380246260127081435384179</td>\n",
       "      <td>34</td>\n",
       "      <td>5534051</td>\n",
       "      <td>201811</td>\n",
       "    </tr>\n",
       "    <tr>\n",
       "      <th>15</th>\n",
       "      <td>M0138648</td>\n",
       "      <td>UI005153382108310527265671090960</td>\n",
       "      <td>81</td>\n",
       "      <td>15904456</td>\n",
       "      <td>201811</td>\n",
       "    </tr>\n",
       "    <tr>\n",
       "      <th>30</th>\n",
       "      <td>P0082794</td>\n",
       "      <td>UI005153385399086327594748665557</td>\n",
       "      <td>227</td>\n",
       "      <td>12957126</td>\n",
       "      <td>201811</td>\n",
       "    </tr>\n",
       "    <tr>\n",
       "      <th>31</th>\n",
       "      <td>P0270021</td>\n",
       "      <td>UI005153385431206927599930070576</td>\n",
       "      <td>50</td>\n",
       "      <td>11346097</td>\n",
       "      <td>201811</td>\n",
       "    </tr>\n",
       "    <tr>\n",
       "      <th>32</th>\n",
       "      <td>I0689855</td>\n",
       "      <td>UI005153386051146827661924052458</td>\n",
       "      <td>23</td>\n",
       "      <td>375321</td>\n",
       "      <td>201811</td>\n",
       "    </tr>\n",
       "  </tbody>\n",
       "</table>\n",
       "</div>"
      ],
      "text/plain": [
       "    PANEL_ID                           USER_ID  TOTAL_CNT  TOTAL_SUM_PRICE  \\\n",
       "2   P0155163  UI005153380246260127081435384179         34          5534051   \n",
       "15  M0138648  UI005153382108310527265671090960         81         15904456   \n",
       "30  P0082794  UI005153385399086327594748665557        227         12957126   \n",
       "31  P0270021  UI005153385431206927599930070576         50         11346097   \n",
       "32  I0689855  UI005153386051146827661924052458         23           375321   \n",
       "\n",
       "      date  \n",
       "2   201811  \n",
       "15  201811  \n",
       "30  201811  \n",
       "31  201811  \n",
       "32  201811  "
      ]
     },
     "execution_count": 57,
     "metadata": {},
     "output_type": "execute_result"
    }
   ],
   "source": [
    "ManO.head()"
   ]
  },
  {
   "cell_type": "code",
   "execution_count": 58,
   "metadata": {},
   "outputs": [
    {
     "data": {
      "text/plain": [
       "count    1.804500e+04\n",
       "mean     1.792013e+07\n",
       "std      1.515087e+08\n",
       "min      0.000000e+00\n",
       "25%      7.283500e+05\n",
       "50%      3.092134e+06\n",
       "75%      1.114810e+07\n",
       "max      1.115429e+10\n",
       "Name: TOTAL_SUM_PRICE, dtype: float64"
      ]
     },
     "execution_count": 58,
     "metadata": {},
     "output_type": "execute_result"
    }
   ],
   "source": [
    "ManO['TOTAL_SUM_PRICE'].describe()"
   ]
  },
  {
   "cell_type": "code",
   "execution_count": 59,
   "metadata": {},
   "outputs": [
    {
     "data": {
      "text/plain": [
       "count    4.988000e+03\n",
       "mean     9.000517e+06\n",
       "std      3.285465e+07\n",
       "min      1.000000e+00\n",
       "25%      3.158530e+05\n",
       "50%      1.653750e+06\n",
       "75%      6.604733e+06\n",
       "max      7.562295e+08\n",
       "Name: TOTAL_SUM_PRICE, dtype: float64"
      ]
     },
     "execution_count": 59,
     "metadata": {},
     "output_type": "execute_result"
    }
   ],
   "source": [
    "ManX['TOTAL_SUM_PRICE'].describe()"
   ]
  },
  {
   "cell_type": "code",
   "execution_count": 60,
   "metadata": {},
   "outputs": [
    {
     "data": {
      "text/plain": [
       "count    3.059200e+04\n",
       "mean     1.793216e+07\n",
       "std      1.785288e+08\n",
       "min      0.000000e+00\n",
       "25%      9.085555e+05\n",
       "50%      3.368944e+06\n",
       "75%      1.027173e+07\n",
       "max      1.124208e+10\n",
       "Name: TOTAL_SUM_PRICE, dtype: float64"
      ]
     },
     "execution_count": 60,
     "metadata": {},
     "output_type": "execute_result"
    }
   ],
   "source": [
    "WomanO['TOTAL_SUM_PRICE'].describe()"
   ]
  },
  {
   "cell_type": "code",
   "execution_count": 61,
   "metadata": {},
   "outputs": [
    {
     "data": {
      "text/plain": [
       "count    3.457000e+03\n",
       "mean     3.005335e+07\n",
       "std      5.204729e+08\n",
       "min      0.000000e+00\n",
       "25%      5.321800e+05\n",
       "50%      2.085316e+06\n",
       "75%      7.374013e+06\n",
       "max      1.652310e+10\n",
       "Name: TOTAL_SUM_PRICE, dtype: float64"
      ]
     },
     "execution_count": 61,
     "metadata": {},
     "output_type": "execute_result"
    }
   ],
   "source": [
    "WomanX['TOTAL_SUM_PRICE'].describe()"
   ]
  },
  {
   "cell_type": "code",
   "execution_count": 62,
   "metadata": {},
   "outputs": [],
   "source": [
    "plotManO = ManO.describe(percentiles=[0.1,0.2,0.3,0.4,0.5,0.6,0.7,0.8,0.9]).drop(['count','mean','std','max','min'])\n",
    "plotManX = ManX.describe(percentiles=[0.1,0.2,0.3,0.4,0.5,0.6,0.7,0.8,0.9]).drop(['count','mean','std','max','min'])\n",
    "plotWomanO = WomanO.describe(percentiles=[0.1,0.2,0.3,0.4,0.5,0.6,0.7,0.8,0.9]).drop(['count','mean','std','max','min'])\n",
    "plotWomanX = WomanX.describe(percentiles=[0.1,0.2,0.3,0.4,0.5,0.6,0.7,0.8,0.9]).drop(['count','mean','std','max','min'])"
   ]
  },
  {
   "cell_type": "markdown",
   "metadata": {},
   "source": [
    "### 2018년11월 ~ 2019년 2월까지 Online/Nononline shopper들의 Total 소비 내역"
   ]
  },
  {
   "cell_type": "code",
   "execution_count": 75,
   "metadata": {},
   "outputs": [],
   "source": [
    "from matplotlib import font_manager, rc\n",
    "font_name = font_manager.FontProperties(fname=\"C:\\Windows\\Fonts\\HYGTRE.ttf\").get_name()\n",
    "rc('font', family=font_name)"
   ]
  },
  {
   "cell_type": "code",
   "execution_count": 76,
   "metadata": {},
   "outputs": [
    {
     "data": {
      "image/png": "[encoded data removed]",
      "text/plain": [
       "<Figure size 432x288 with 1 Axes>"
      ]
     },
     "metadata": {},
     "output_type": "display_data"
    }
   ],
   "source": [
    "import matplotlib.pyplot as plt\n",
    "\n",
    "plt.plot(plotManO['TOTAL_SUM_PRICE']/10000,'black',label='Man O') # plotting t, a separately \n",
    "plt.plot(plotManX['TOTAL_SUM_PRICE']/10000,'blue',label='Man X') # plotting t, b separately \n",
    "plt.plot(plotWomanO['TOTAL_SUM_PRICE']/10000,'red',label='Woman O') # plotting t, c separately \n",
    "plt.plot(plotWomanX['TOTAL_SUM_PRICE']/10000,'orange',label='Woman X')\n",
    "plt.legend()\n",
    "plt.ylabel('지출액 (단위:만원)')\n",
    "plt.show()"
   ]
  },
  {
   "cell_type": "markdown",
   "metadata": {},
   "source": [
    "### 혹시나 이것이 인터넷 사용능력(사용 시간)의 정도에 차이에서 비롯된 것일수도 있기 때문에 검토해봐야!"
   ]
  },
  {
   "cell_type": "code",
   "execution_count": 64,
   "metadata": {},
   "outputs": [
    {
     "name": "stderr",
     "output_type": "stream",
     "text": [
      "C:\\Users\\samsung\\Anaconda3\\lib\\site-packages\\ipykernel_launcher.py:1: SettingWithCopyWarning: \n",
      "A value is trying to be set on a copy of a slice from a DataFrame.\n",
      "Try using .loc[row_indexer,col_indexer] = value instead\n",
      "\n",
      "See the caveats in the documentation: http://pandas.pydata.org/pandas-docs/stable/indexing.html#indexing-view-versus-copy\n",
      "  \"\"\"Entry point for launching an IPython kernel.\n",
      "C:\\Users\\samsung\\Anaconda3\\lib\\site-packages\\ipykernel_launcher.py:2: SettingWithCopyWarning: \n",
      "A value is trying to be set on a copy of a slice from a DataFrame.\n",
      "Try using .loc[row_indexer,col_indexer] = value instead\n",
      "\n",
      "See the caveats in the documentation: http://pandas.pydata.org/pandas-docs/stable/indexing.html#indexing-view-versus-copy\n",
      "  \n"
     ]
    }
   ],
   "source": [
    "ONLINE_O['Internet Usage'] = ONLINE_O['J0001']+ONLINE_O['J0002']+ONLINE_O['J0003']+ONLINE_O['J0004']\n",
    "ONLINE_X['Internet Usage'] = ONLINE_X['J0001']+ONLINE_X['J0002']+ONLINE_X['J0003']+ONLINE_X['J0004']"
   ]
  },
  {
   "cell_type": "markdown",
   "metadata": {},
   "source": [
    "### 모바일.인터넷 이용시간은?\n",
    "#### => 온라인 쇼핑 여부가 \"모바일.인터넷 이용시간\"에 따라 크게 영향을 받지 않다고 볼 수 있음!"
   ]
  },
  {
   "cell_type": "code",
   "execution_count": 69,
   "metadata": {},
   "outputs": [
    {
     "name": "stdout",
     "output_type": "stream",
     "text": [
      "온라인 쇼핑남 :  13.31\n",
      "비온라인 쇼핑남 :  12.97\n",
      "온라인 쇼핑녀 :  13.15\n",
      "비온라인 쇼핑녀 :  12.84\n"
     ]
    }
   ],
   "source": [
    "print('온라인 쇼핑남 : ',\"%.2f\" % ONLINE_O[ONLINE_O['X0001']==1]['Internet Usage'].mean())\n",
    "print('비온라인 쇼핑남 : ',\"%.2f\" % ONLINE_X[ONLINE_X['X0001']==1]['Internet Usage'].mean())\n",
    "print('온라인 쇼핑녀 : ',\"%.2f\" % ONLINE_O[ONLINE_O['X0001']==2]['Internet Usage'].mean())\n",
    "print('비온라인 쇼핑녀 : ',\"%.2f\" % ONLINE_X[ONLINE_X['X0001']==2]['Internet Usage'].mean())"
   ]
  },
  {
   "cell_type": "markdown",
   "metadata": {},
   "source": [
    "### Shopper들의 연령대는?"
   ]
  },
  {
   "cell_type": "code",
   "execution_count": 78,
   "metadata": {},
   "outputs": [],
   "source": [
    "# 연령 구분\n",
    "#1: 13 ~ 18\n",
    "#2: 19 ~ 24\n",
    "#3: 25 ~ 34\n",
    "#4: 35 ~ 44\n",
    "#5: 45 ~"
   ]
  },
  {
   "cell_type": "code",
   "execution_count": 72,
   "metadata": {},
   "outputs": [
    {
     "data": {
      "text/plain": [
       "4    0.316266\n",
       "3    0.305686\n",
       "5    0.210790\n",
       "2    0.123086\n",
       "1    0.044172\n",
       "Name: X0004, dtype: float64"
      ]
     },
     "execution_count": 72,
     "metadata": {},
     "output_type": "execute_result"
    }
   ],
   "source": [
    "# 온라인 쇼핑남\n",
    "ONLINE_O[ONLINE_O['X0001']==1]['X0004'].value_counts(normalize=True)"
   ]
  },
  {
   "cell_type": "code",
   "execution_count": 79,
   "metadata": {},
   "outputs": [
    {
     "data": {
      "text/plain": [
       "3    0.288517\n",
       "4    0.206736\n",
       "2    0.182014\n",
       "5    0.174400\n",
       "1    0.148334\n",
       "Name: X0004, dtype: float64"
      ]
     },
     "execution_count": 79,
     "metadata": {},
     "output_type": "execute_result"
    }
   ],
   "source": [
    "# 비온라인 쇼핑남\n",
    "ONLINE_X[ONLINE_X['X0001']==1]['X0004'].value_counts(normalize=True)"
   ]
  },
  {
   "cell_type": "code",
   "execution_count": 28,
   "metadata": {},
   "outputs": [
    {
     "data": {
      "text/plain": [
       "3    0.425765\n",
       "4    0.248144\n",
       "2    0.178392\n",
       "5    0.115498\n",
       "1    0.032202\n",
       "Name: X0004, dtype: float64"
      ]
     },
     "execution_count": 28,
     "metadata": {},
     "output_type": "execute_result"
    }
   ],
   "source": [
    "# 온라인 쇼핑녀\n",
    "ONLINE_O[ONLINE_O['X0001']==2]['X0004'].value_counts(normalize=True)"
   ]
  },
  {
   "cell_type": "code",
   "execution_count": 30,
   "metadata": {},
   "outputs": [
    {
     "data": {
      "text/plain": [
       "3    0.372039\n",
       "2    0.237417\n",
       "4    0.166243\n",
       "5    0.123843\n",
       "1    0.100458\n",
       "Name: X0004, dtype: float64"
      ]
     },
     "execution_count": 30,
     "metadata": {},
     "output_type": "execute_result"
    }
   ],
   "source": [
    "# 비온라인 쇼핑녀\n",
    "ONLINE_X[ONLINE_X['X0001']==2]['X0004'].value_counts(normalize=True)"
   ]
  },
  {
   "cell_type": "markdown",
   "metadata": {},
   "source": [
    "#### 여성의 경우, 온라인쇼핑을 하는 사람이 25~34세 그룹에 집중되어 있음 (42%)\n",
    "#### 남성의 경우, 비교적 고르게 분포"
   ]
  },
  {
   "cell_type": "markdown",
   "metadata": {},
   "source": [
    "# 이 밑은 무시...그냥 뭐 있을까 해서 막 뒤져본거라...."
   ]
  },
  {
   "cell_type": "code",
   "execution_count": 7,
   "metadata": {},
   "outputs": [
    {
     "data": {
      "text/html": [
       "<div>\n",
       "<style scoped>\n",
       "    .dataframe tbody tr th:only-of-type {\n",
       "        vertical-align: middle;\n",
       "    }\n",
       "\n",
       "    .dataframe tbody tr th {\n",
       "        vertical-align: top;\n",
       "    }\n",
       "\n",
       "    .dataframe thead th {\n",
       "        text-align: right;\n",
       "    }\n",
       "</style>\n",
       "<table border=\"1\" class=\"dataframe\">\n",
       "  <thead>\n",
       "    <tr style=\"text-align: right;\">\n",
       "      <th></th>\n",
       "      <th>SMS_ID</th>\n",
       "      <th>USER_ID</th>\n",
       "      <th>PANEL_ID</th>\n",
       "      <th>USER_SMSDATE_PRICE</th>\n",
       "      <th>gender</th>\n",
       "      <th>age</th>\n",
       "      <th>Area_Code1</th>\n",
       "      <th>Area_Code2</th>\n",
       "      <th>Area_Name1</th>\n",
       "      <th>Area_Name2</th>\n",
       "      <th>...</th>\n",
       "      <th>CARD_NAME</th>\n",
       "      <th>APPROVAL_DATE</th>\n",
       "      <th>APPROVAL_TIME</th>\n",
       "      <th>APPROVAL_METHOD</th>\n",
       "      <th>IS_FROM</th>\n",
       "      <th>APPROVAL_REAL_PRICE</th>\n",
       "      <th>PRICE</th>\n",
       "      <th>SMS_REGISTRATION_TIMESTAMP</th>\n",
       "      <th>REGISTRATION_TIMESTAMP</th>\n",
       "      <th>ORIGIN_TABLE</th>\n",
       "    </tr>\n",
       "  </thead>\n",
       "  <tbody>\n",
       "    <tr>\n",
       "      <th>0</th>\n",
       "      <td>PIS05154099800841455233116230589</td>\n",
       "      <td>UI005153267849123015839752332480</td>\n",
       "      <td>H0056608</td>\n",
       "      <td>UI005153267849123015839752332480_20181101_3400</td>\n",
       "      <td>1</td>\n",
       "      <td>39</td>\n",
       "      <td>11</td>\n",
       "      <td>27</td>\n",
       "      <td>서울특별시</td>\n",
       "      <td>성북구</td>\n",
       "      <td>...</td>\n",
       "      <td>366901-**-***406</td>\n",
       "      <td>1031.0</td>\n",
       "      <td>2359.0</td>\n",
       "      <td>0</td>\n",
       "      <td>P</td>\n",
       "      <td>3400</td>\n",
       "      <td>3400</td>\n",
       "      <td>2018-11-01 00:00:06.000</td>\n",
       "      <td>2018-11-01 00:00:04.000</td>\n",
       "      <td>Payment_DepositWithdrawal</td>\n",
       "    </tr>\n",
       "    <tr>\n",
       "      <th>1</th>\n",
       "      <td>PIS05154099802440155234714902715</td>\n",
       "      <td>UI005153854430751421737596329123</td>\n",
       "      <td>I0167859</td>\n",
       "      <td>UI005153854430751421737596329123_20181101_10020</td>\n",
       "      <td>2</td>\n",
       "      <td>42</td>\n",
       "      <td>14</td>\n",
       "      <td>17</td>\n",
       "      <td>인천광역시</td>\n",
       "      <td>서구</td>\n",
       "      <td>...</td>\n",
       "      <td>NaN</td>\n",
       "      <td>NaN</td>\n",
       "      <td>NaN</td>\n",
       "      <td>0</td>\n",
       "      <td>P</td>\n",
       "      <td>10020</td>\n",
       "      <td>10020</td>\n",
       "      <td>2018-11-01 00:00:26.000</td>\n",
       "      <td>2018-11-01 00:00:20.000</td>\n",
       "      <td>Payment_EasyPay</td>\n",
       "    </tr>\n",
       "    <tr>\n",
       "      <th>2</th>\n",
       "      <td>PIS05154099809944455242219203937</td>\n",
       "      <td>UI005153265830843015637924333502</td>\n",
       "      <td>I0512829</td>\n",
       "      <td>UI005153265830843015637924333502_20181101_189000</td>\n",
       "      <td>2</td>\n",
       "      <td>38</td>\n",
       "      <td>12</td>\n",
       "      <td>17</td>\n",
       "      <td>부산광역시</td>\n",
       "      <td>부산진구</td>\n",
       "      <td>...</td>\n",
       "      <td>NaN</td>\n",
       "      <td>NaN</td>\n",
       "      <td>NaN</td>\n",
       "      <td>0</td>\n",
       "      <td>P</td>\n",
       "      <td>189000</td>\n",
       "      <td>189000</td>\n",
       "      <td>2018-11-01 00:01:39.000</td>\n",
       "      <td>2018-11-01 00:01:35.000</td>\n",
       "      <td>Payment_EasyPay</td>\n",
       "    </tr>\n",
       "    <tr>\n",
       "      <th>3</th>\n",
       "      <td>PIS05154099813229655245504403191</td>\n",
       "      <td>UI005153353914026624448212034912</td>\n",
       "      <td>S0002313</td>\n",
       "      <td>UI005153353914026624448212034912_20181101_3600</td>\n",
       "      <td>2</td>\n",
       "      <td>41</td>\n",
       "      <td>18</td>\n",
       "      <td>55</td>\n",
       "      <td>경기도</td>\n",
       "      <td>부천시</td>\n",
       "      <td>...</td>\n",
       "      <td>219-038331-12-***</td>\n",
       "      <td>1101.0</td>\n",
       "      <td>2.0</td>\n",
       "      <td>0</td>\n",
       "      <td>P</td>\n",
       "      <td>3600</td>\n",
       "      <td>3600</td>\n",
       "      <td>2018-11-01 00:02:10.000</td>\n",
       "      <td>2018-11-01 00:02:07.000</td>\n",
       "      <td>Payment_DepositWithdrawal</td>\n",
       "    </tr>\n",
       "    <tr>\n",
       "      <th>4</th>\n",
       "      <td>PIS05154099818398955250673739546</td>\n",
       "      <td>UI005153275508234116607632787004</td>\n",
       "      <td>P0159882</td>\n",
       "      <td>UI005153275508234116607632787004_20181101_47000</td>\n",
       "      <td>1</td>\n",
       "      <td>38</td>\n",
       "      <td>16</td>\n",
       "      <td>11</td>\n",
       "      <td>대전광역시</td>\n",
       "      <td>대덕구</td>\n",
       "      <td>...</td>\n",
       "      <td>NaN</td>\n",
       "      <td>NaN</td>\n",
       "      <td>NaN</td>\n",
       "      <td>0</td>\n",
       "      <td>P</td>\n",
       "      <td>47000</td>\n",
       "      <td>47000</td>\n",
       "      <td>2018-11-01 00:03:02.000</td>\n",
       "      <td>2018-11-01 00:02:59.000</td>\n",
       "      <td>Payment_EasyPay</td>\n",
       "    </tr>\n",
       "  </tbody>\n",
       "</table>\n",
       "<p>5 rows × 33 columns</p>\n",
       "</div>"
      ],
      "text/plain": [
       "                             SMS_ID                           USER_ID  \\\n",
       "0  PIS05154099800841455233116230589  UI005153267849123015839752332480   \n",
       "1  PIS05154099802440155234714902715  UI005153854430751421737596329123   \n",
       "2  PIS05154099809944455242219203937  UI005153265830843015637924333502   \n",
       "3  PIS05154099813229655245504403191  UI005153353914026624448212034912   \n",
       "4  PIS05154099818398955250673739546  UI005153275508234116607632787004   \n",
       "\n",
       "   PANEL_ID                                USER_SMSDATE_PRICE gender  age  \\\n",
       "0  H0056608    UI005153267849123015839752332480_20181101_3400      1   39   \n",
       "1  I0167859   UI005153854430751421737596329123_20181101_10020      2   42   \n",
       "2  I0512829  UI005153265830843015637924333502_20181101_189000      2   38   \n",
       "3  S0002313    UI005153353914026624448212034912_20181101_3600      2   41   \n",
       "4  P0159882   UI005153275508234116607632787004_20181101_47000      1   38   \n",
       "\n",
       "  Area_Code1 Area_Code2 Area_Name1 Area_Name2            ...              \\\n",
       "0         11         27      서울특별시        성북구            ...               \n",
       "1         14         17      인천광역시         서구            ...               \n",
       "2         12         17      부산광역시       부산진구            ...               \n",
       "3         18         55        경기도        부천시            ...               \n",
       "4         16         11      대전광역시        대덕구            ...               \n",
       "\n",
       "           CARD_NAME  APPROVAL_DATE  APPROVAL_TIME APPROVAL_METHOD IS_FROM  \\\n",
       "0   366901-**-***406         1031.0         2359.0               0       P   \n",
       "1                NaN            NaN            NaN               0       P   \n",
       "2                NaN            NaN            NaN               0       P   \n",
       "3  219-038331-12-***         1101.0            2.0               0       P   \n",
       "4                NaN            NaN            NaN               0       P   \n",
       "\n",
       "   APPROVAL_REAL_PRICE   PRICE  SMS_REGISTRATION_TIMESTAMP  \\\n",
       "0                 3400    3400     2018-11-01 00:00:06.000   \n",
       "1                10020   10020     2018-11-01 00:00:26.000   \n",
       "2               189000  189000     2018-11-01 00:01:39.000   \n",
       "3                 3600    3600     2018-11-01 00:02:10.000   \n",
       "4                47000   47000     2018-11-01 00:03:02.000   \n",
       "\n",
       "    REGISTRATION_TIMESTAMP               ORIGIN_TABLE  \n",
       "0  2018-11-01 00:00:04.000  Payment_DepositWithdrawal  \n",
       "1  2018-11-01 00:00:20.000            Payment_EasyPay  \n",
       "2  2018-11-01 00:01:35.000            Payment_EasyPay  \n",
       "3  2018-11-01 00:02:07.000  Payment_DepositWithdrawal  \n",
       "4  2018-11-01 00:02:59.000            Payment_EasyPay  \n",
       "\n",
       "[5 rows x 33 columns]"
      ]
     },
     "execution_count": 7,
     "metadata": {},
     "output_type": "execute_result"
    }
   ],
   "source": [
    "b3.head()"
   ]
  },
  {
   "cell_type": "code",
   "execution_count": null,
   "metadata": {},
   "outputs": [],
   "source": []
  },
  {
   "cell_type": "markdown",
   "metadata": {},
   "source": [
    "#### 구매금액"
   ]
  },
  {
   "cell_type": "code",
   "execution_count": 18,
   "metadata": {},
   "outputs": [
    {
     "data": {
      "text/plain": [
       "count    1.319886e+06\n",
       "mean     2.430569e+05\n",
       "std      4.329557e+06\n",
       "min      0.000000e+00\n",
       "25%      5.100000e+03\n",
       "50%      1.580000e+04\n",
       "75%      5.104000e+04\n",
       "max      1.000000e+09\n",
       "Name: PRICE, dtype: float64"
      ]
     },
     "execution_count": 18,
     "metadata": {},
     "output_type": "execute_result"
    }
   ],
   "source": [
    "b3_2['PRICE'].describe()"
   ]
  },
  {
   "cell_type": "code",
   "execution_count": 21,
   "metadata": {},
   "outputs": [],
   "source": [
    "price1 = b3_2[b3_2['PRICE']<=5100]\n",
    "\n",
    "price2 = b3_2[b3_2['PRICE']<=15800]\n",
    "price2 = price2[price2['PRICE']>5100]\n",
    "\n",
    "price3 = b3_2[b3_2['PRICE']<=51040]\n",
    "price3 = price3[price3['PRICE']>15800]\n",
    "\n",
    "price4 = b3_2[b3_2['PRICE']>51040]"
   ]
  },
  {
   "cell_type": "code",
   "execution_count": 26,
   "metadata": {},
   "outputs": [
    {
     "data": {
      "text/html": [
       "<div>\n",
       "<style scoped>\n",
       "    .dataframe tbody tr th:only-of-type {\n",
       "        vertical-align: middle;\n",
       "    }\n",
       "\n",
       "    .dataframe tbody tr th {\n",
       "        vertical-align: top;\n",
       "    }\n",
       "\n",
       "    .dataframe thead th {\n",
       "        text-align: right;\n",
       "    }\n",
       "</style>\n",
       "<table border=\"1\" class=\"dataframe\">\n",
       "  <thead>\n",
       "    <tr style=\"text-align: right;\">\n",
       "      <th></th>\n",
       "      <th>PANEL_ID</th>\n",
       "      <th>PRICE</th>\n",
       "      <th>age</th>\n",
       "    </tr>\n",
       "  </thead>\n",
       "  <tbody>\n",
       "    <tr>\n",
       "      <th>0</th>\n",
       "      <td>H0056608</td>\n",
       "      <td>3400</td>\n",
       "      <td>39</td>\n",
       "    </tr>\n",
       "    <tr>\n",
       "      <th>3</th>\n",
       "      <td>S0002313</td>\n",
       "      <td>3600</td>\n",
       "      <td>41</td>\n",
       "    </tr>\n",
       "    <tr>\n",
       "      <th>5</th>\n",
       "      <td>H0162332</td>\n",
       "      <td>4500</td>\n",
       "      <td>30</td>\n",
       "    </tr>\n",
       "    <tr>\n",
       "      <th>11</th>\n",
       "      <td>I0697840</td>\n",
       "      <td>4900</td>\n",
       "      <td>31</td>\n",
       "    </tr>\n",
       "    <tr>\n",
       "      <th>16</th>\n",
       "      <td>I0474632</td>\n",
       "      <td>2500</td>\n",
       "      <td>29</td>\n",
       "    </tr>\n",
       "  </tbody>\n",
       "</table>\n",
       "</div>"
      ],
      "text/plain": [
       "    PANEL_ID  PRICE  age\n",
       "0   H0056608   3400   39\n",
       "3   S0002313   3600   41\n",
       "5   H0162332   4500   30\n",
       "11  I0697840   4900   31\n",
       "16  I0474632   2500   29"
      ]
     },
     "execution_count": 26,
     "metadata": {},
     "output_type": "execute_result"
    }
   ],
   "source": [
    "price1.head()"
   ]
  }
 ],
 "metadata": {
  "kernelspec": {
   "display_name": "Python 3",
   "language": "python",
   "name": "python3"
  },
  "language_info": {
   "codemirror_mode": {
    "name": "ipython",
    "version": 3
   },
   "file_extension": ".py",
   "mimetype": "text/x-python",
   "name": "python",
   "nbconvert_exporter": "python",
   "pygments_lexer": "ipython3",
   "version": "3.6.5"
  }
 },
 "nbformat": 4,
 "nbformat_minor": 2
}
