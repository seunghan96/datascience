{
 "cells": [
  {
   "cell_type": "code",
   "execution_count": 10,
   "metadata": {},
   "outputs": [],
   "source": [
    "from scipy import stats\n",
    "import matplotlib.pyplot as plt\n",
    "%matplotlib inline\n",
    "import seaborn as sns\n",
    "import pandas as pd\n",
    "import numpy as np"
   ]
  },
  {
   "cell_type": "code",
   "execution_count": 11,
   "metadata": {},
   "outputs": [],
   "source": [
    "cosme1000_df2 = pd.read_pickle('cosme1000_df2')\n",
    "#기본정보X항목 제외 다른 항목들"
   ]
  },
  {
   "cell_type": "code",
   "execution_count": 12,
   "metadata": {
    "scrolled": true
   },
   "outputs": [
    {
     "data": {
      "text/plain": [
       "Index(['C0037', 'C0038', 'C0039', 'C0040', 'C0041', 'K0001', 'K0002', 'K0003',\n",
       "       'K0004', 'K0005', 'K0006', 'K0007', 'K0008', 'K0009', 'K0010', 'K0011',\n",
       "       'K0012', 'K0013', 'K0014', 'K0015', 'K0016', 'K0017', 'K0018', 'K0019',\n",
       "       'K0020', 'K0021', 'K0022', 'K0023', 'K0024', 'K0025', 'K0026', 'I0032',\n",
       "       'I0064', 'L0019', 'L0020', 'L0021', 'L0022', 'L0023', 'L0024', 'L0025',\n",
       "       'L0026', 'L0027', 'L0028', 'L0029', 'J0010', 'J0025', 'H0010', 'B0015',\n",
       "       'B0016', 'B0017', 'B0018', 'B0019', 'B0020', 'B0021', 'B0022', 'B0023',\n",
       "       'B0024', 'B0025', 'B0026', 'B0027', 'B0028', 'B0029', 'B0030', 'F0007',\n",
       "       'F0008', 'F0009', 'F0011', 'F0014', 'F0016', 'F0017', 'F0026', 'F0030',\n",
       "       'E0021', 'E0022', 'E0023', 'E0041', 'E0043', 'E0056', 'E0057', 'E0058',\n",
       "       'E0059', 'E0060', 'E0061', 'E0062', 'olive', 'innis', 'etude',\n",
       "       'theface', 'missha', 'tonymoly', 'modularity_class'],\n",
       "      dtype='object')"
      ]
     },
     "execution_count": 12,
     "metadata": {},
     "output_type": "execute_result"
    }
   ],
   "source": [
    "cosme1000_df2.columns"
   ]
  },
  {
   "cell_type": "code",
   "execution_count": 13,
   "metadata": {},
   "outputs": [],
   "source": [
    "S = cosme1000_df2[cosme1000_df2['modularity_class']==0]\n",
    "H = cosme1000_df2[cosme1000_df2['modularity_class']==1]\n",
    "I = cosme1000_df2[cosme1000_df2['modularity_class']==2]"
   ]
  },
  {
   "cell_type": "code",
   "execution_count": 52,
   "metadata": {},
   "outputs": [
    {
     "data": {
      "text/plain": [
       "115831"
      ]
     },
     "execution_count": 52,
     "metadata": {},
     "output_type": "execute_result"
    }
   ],
   "source": [
    "max(S.index)"
   ]
  },
  {
   "cell_type": "code",
   "execution_count": 40,
   "metadata": {},
   "outputs": [
    {
     "data": {
      "text/plain": [
       "Int64Index([113907,  40627,  28765,  32960,  39692,  32841,  31235,  88037,\n",
       "              4016,  91743,\n",
       "            ...\n",
       "             20037,  94220,  30337,  93360,   6398,  97207,   6509,   9493,\n",
       "            108833,  88904],\n",
       "           dtype='int64', length=313)"
      ]
     },
     "execution_count": 40,
     "metadata": {},
     "output_type": "execute_result"
    }
   ],
   "source": [
    "S.index"
   ]
  },
  {
   "cell_type": "code",
   "execution_count": 62,
   "metadata": {},
   "outputs": [],
   "source": [
    "s = list(S.index)\n",
    "h = list(H.index)\n",
    "i = list(I.index)"
   ]
  },
  {
   "cell_type": "code",
   "execution_count": 63,
   "metadata": {},
   "outputs": [],
   "source": [
    "RS = a3[a3.index.isin(s)]\n",
    "RH = a3[a3.index.isin(h)]\n",
    "RI = a3[a3.index.isin(i)]"
   ]
  },
  {
   "cell_type": "code",
   "execution_count": 85,
   "metadata": {},
   "outputs": [],
   "source": [
    "End = pd.DataFrame([RS.mean(), RH.mean(), RI.mean()])"
   ]
  },
  {
   "cell_type": "code",
   "execution_count": 86,
   "metadata": {},
   "outputs": [
    {
     "data": {
      "text/html": [
       "<div>\n",
       "<style scoped>\n",
       "    .dataframe tbody tr th:only-of-type {\n",
       "        vertical-align: middle;\n",
       "    }\n",
       "\n",
       "    .dataframe tbody tr th {\n",
       "        vertical-align: top;\n",
       "    }\n",
       "\n",
       "    .dataframe thead th {\n",
       "        text-align: right;\n",
       "    }\n",
       "</style>\n",
       "<table border=\"1\" class=\"dataframe\">\n",
       "  <thead>\n",
       "    <tr style=\"text-align: right;\">\n",
       "      <th></th>\n",
       "      <th>X0001</th>\n",
       "      <th>X0002</th>\n",
       "      <th>X0003</th>\n",
       "      <th>X0004</th>\n",
       "      <th>X0005</th>\n",
       "      <th>X0006</th>\n",
       "      <th>X0007</th>\n",
       "      <th>X0009</th>\n",
       "      <th>Y0001</th>\n",
       "      <th>Y0002</th>\n",
       "      <th>...</th>\n",
       "      <th>M0018</th>\n",
       "      <th>M0019</th>\n",
       "      <th>M0020</th>\n",
       "      <th>M0021</th>\n",
       "      <th>M0022</th>\n",
       "      <th>M0023</th>\n",
       "      <th>M0024</th>\n",
       "      <th>M0025</th>\n",
       "      <th>M0026</th>\n",
       "      <th>M0027</th>\n",
       "    </tr>\n",
       "  </thead>\n",
       "  <tbody>\n",
       "    <tr>\n",
       "      <th>0</th>\n",
       "      <td>1.827476</td>\n",
       "      <td>2.757188</td>\n",
       "      <td>5.063898</td>\n",
       "      <td>3.287540</td>\n",
       "      <td>5.335463</td>\n",
       "      <td>1.706070</td>\n",
       "      <td>1.469649</td>\n",
       "      <td>16.798722</td>\n",
       "      <td>3.201278</td>\n",
       "      <td>0.083067</td>\n",
       "      <td>...</td>\n",
       "      <td>0.118211</td>\n",
       "      <td>0.022364</td>\n",
       "      <td>0.725240</td>\n",
       "      <td>0.319489</td>\n",
       "      <td>0.188498</td>\n",
       "      <td>0.051118</td>\n",
       "      <td>0.095847</td>\n",
       "      <td>0.092652</td>\n",
       "      <td>0.166134</td>\n",
       "      <td>0.073482</td>\n",
       "    </tr>\n",
       "    <tr>\n",
       "      <th>1</th>\n",
       "      <td>1.705160</td>\n",
       "      <td>2.899263</td>\n",
       "      <td>5.336609</td>\n",
       "      <td>3.395577</td>\n",
       "      <td>6.022113</td>\n",
       "      <td>1.906634</td>\n",
       "      <td>1.454545</td>\n",
       "      <td>26.923833</td>\n",
       "      <td>3.434889</td>\n",
       "      <td>0.063882</td>\n",
       "      <td>...</td>\n",
       "      <td>0.095823</td>\n",
       "      <td>0.007371</td>\n",
       "      <td>0.533170</td>\n",
       "      <td>0.179361</td>\n",
       "      <td>0.078624</td>\n",
       "      <td>0.024570</td>\n",
       "      <td>0.039312</td>\n",
       "      <td>0.078624</td>\n",
       "      <td>0.110565</td>\n",
       "      <td>0.024570</td>\n",
       "    </tr>\n",
       "    <tr>\n",
       "      <th>2</th>\n",
       "      <td>1.654545</td>\n",
       "      <td>3.000000</td>\n",
       "      <td>5.454545</td>\n",
       "      <td>3.429091</td>\n",
       "      <td>5.490909</td>\n",
       "      <td>1.825455</td>\n",
       "      <td>1.574545</td>\n",
       "      <td>21.727273</td>\n",
       "      <td>3.374545</td>\n",
       "      <td>0.094545</td>\n",
       "      <td>...</td>\n",
       "      <td>0.087273</td>\n",
       "      <td>0.014545</td>\n",
       "      <td>0.563636</td>\n",
       "      <td>0.163636</td>\n",
       "      <td>0.101818</td>\n",
       "      <td>0.029091</td>\n",
       "      <td>0.032727</td>\n",
       "      <td>0.069091</td>\n",
       "      <td>0.090909</td>\n",
       "      <td>0.021818</td>\n",
       "    </tr>\n",
       "  </tbody>\n",
       "</table>\n",
       "<p>3 rows × 607 columns</p>\n",
       "</div>"
      ],
      "text/plain": [
       "      X0001     X0002     X0003     X0004     X0005     X0006     X0007  \\\n",
       "0  1.827476  2.757188  5.063898  3.287540  5.335463  1.706070  1.469649   \n",
       "1  1.705160  2.899263  5.336609  3.395577  6.022113  1.906634  1.454545   \n",
       "2  1.654545  3.000000  5.454545  3.429091  5.490909  1.825455  1.574545   \n",
       "\n",
       "       X0009     Y0001     Y0002    ...        M0018     M0019     M0020  \\\n",
       "0  16.798722  3.201278  0.083067    ...     0.118211  0.022364  0.725240   \n",
       "1  26.923833  3.434889  0.063882    ...     0.095823  0.007371  0.533170   \n",
       "2  21.727273  3.374545  0.094545    ...     0.087273  0.014545  0.563636   \n",
       "\n",
       "      M0021     M0022     M0023     M0024     M0025     M0026     M0027  \n",
       "0  0.319489  0.188498  0.051118  0.095847  0.092652  0.166134  0.073482  \n",
       "1  0.179361  0.078624  0.024570  0.039312  0.078624  0.110565  0.024570  \n",
       "2  0.163636  0.101818  0.029091  0.032727  0.069091  0.090909  0.021818  \n",
       "\n",
       "[3 rows x 607 columns]"
      ]
     },
     "execution_count": 86,
     "metadata": {},
     "output_type": "execute_result"
    }
   ],
   "source": [
    "End"
   ]
  },
  {
   "cell_type": "code",
   "execution_count": 112,
   "metadata": {},
   "outputs": [
    {
     "data": {
      "text/plain": [
       "<matplotlib.axes._subplots.AxesSubplot at 0x1e6c3281cc0>"
      ]
     },
     "execution_count": 112,
     "metadata": {},
     "output_type": "execute_result"
    },
    {
     "data": {
      "image/png": "[encoded data removed]",
      "text/plain": [
       "<Figure size 432x288 with 1 Axes>"
      ]
     },
     "metadata": {},
     "output_type": "display_data"
    }
   ],
   "source": [
    "sns.barplot(x=End.index,y=End['I0069'])"
   ]
  },
  {
   "cell_type": "code",
   "execution_count": 84,
   "metadata": {
    "scrolled": true
   },
   "outputs": [
    {
     "name": "stderr",
     "output_type": "stream",
     "text": [
      "C:\\Users\\samsung\\Anaconda3\\lib\\site-packages\\scipy\\stats\\stats.py:1713: FutureWarning: Using a non-tuple sequence for multidimensional indexing is deprecated; use `arr[tuple(seq)]` instead of `arr[seq]`. In the future this will be interpreted as an array index, `arr[np.array(seq)]`, which will result either in an error or a different result.\n",
      "  return np.add.reduce(sorted[indexer] * weights, axis=axis) / sumval\n"
     ]
    },
    {
     "ename": "KeyboardInterrupt",
     "evalue": "",
     "output_type": "error",
     "traceback": [
      "\u001b[1;31m---------------------------------------------------------------------------\u001b[0m",
      "\u001b[1;31mKeyboardInterrupt\u001b[0m                         Traceback (most recent call last)",
      "\u001b[1;32m<ipython-input-84-09aef535fd17>\u001b[0m in \u001b[0;36m<module>\u001b[1;34m()\u001b[0m\n\u001b[1;32m----> 1\u001b[1;33m \u001b[0msns\u001b[0m\u001b[1;33m.\u001b[0m\u001b[0mbarplot\u001b[0m\u001b[1;33m(\u001b[0m\u001b[0mdata\u001b[0m\u001b[1;33m=\u001b[0m\u001b[0mEnd\u001b[0m\u001b[1;33m.\u001b[0m\u001b[0mT\u001b[0m\u001b[1;33m)\u001b[0m\u001b[1;33m\u001b[0m\u001b[0m\n\u001b[0m",
      "\u001b[1;32m~\\Anaconda3\\lib\\site-packages\\seaborn\\categorical.py\u001b[0m in \u001b[0;36mbarplot\u001b[1;34m(x, y, hue, data, order, hue_order, estimator, ci, n_boot, units, orient, color, palette, saturation, errcolor, errwidth, capsize, dodge, ax, **kwargs)\u001b[0m\n\u001b[0;32m   2957\u001b[0m                           \u001b[0mestimator\u001b[0m\u001b[1;33m,\u001b[0m \u001b[0mci\u001b[0m\u001b[1;33m,\u001b[0m \u001b[0mn_boot\u001b[0m\u001b[1;33m,\u001b[0m \u001b[0munits\u001b[0m\u001b[1;33m,\u001b[0m\u001b[1;33m\u001b[0m\u001b[0m\n\u001b[0;32m   2958\u001b[0m                           \u001b[0morient\u001b[0m\u001b[1;33m,\u001b[0m \u001b[0mcolor\u001b[0m\u001b[1;33m,\u001b[0m \u001b[0mpalette\u001b[0m\u001b[1;33m,\u001b[0m \u001b[0msaturation\u001b[0m\u001b[1;33m,\u001b[0m\u001b[1;33m\u001b[0m\u001b[0m\n\u001b[1;32m-> 2959\u001b[1;33m                           errcolor, errwidth, capsize, dodge)\n\u001b[0m\u001b[0;32m   2960\u001b[0m \u001b[1;33m\u001b[0m\u001b[0m\n\u001b[0;32m   2961\u001b[0m     \u001b[1;32mif\u001b[0m \u001b[0max\u001b[0m \u001b[1;32mis\u001b[0m \u001b[1;32mNone\u001b[0m\u001b[1;33m:\u001b[0m\u001b[1;33m\u001b[0m\u001b[0m\n",
      "\u001b[1;32m~\\Anaconda3\\lib\\site-packages\\seaborn\\categorical.py\u001b[0m in \u001b[0;36m__init__\u001b[1;34m(self, x, y, hue, data, order, hue_order, estimator, ci, n_boot, units, orient, color, palette, saturation, errcolor, errwidth, capsize, dodge)\u001b[0m\n\u001b[0;32m   1596\u001b[0m                                  order, hue_order, units)\n\u001b[0;32m   1597\u001b[0m         \u001b[0mself\u001b[0m\u001b[1;33m.\u001b[0m\u001b[0mestablish_colors\u001b[0m\u001b[1;33m(\u001b[0m\u001b[0mcolor\u001b[0m\u001b[1;33m,\u001b[0m \u001b[0mpalette\u001b[0m\u001b[1;33m,\u001b[0m \u001b[0msaturation\u001b[0m\u001b[1;33m)\u001b[0m\u001b[1;33m\u001b[0m\u001b[0m\n\u001b[1;32m-> 1598\u001b[1;33m         \u001b[0mself\u001b[0m\u001b[1;33m.\u001b[0m\u001b[0mestimate_statistic\u001b[0m\u001b[1;33m(\u001b[0m\u001b[0mestimator\u001b[0m\u001b[1;33m,\u001b[0m \u001b[0mci\u001b[0m\u001b[1;33m,\u001b[0m \u001b[0mn_boot\u001b[0m\u001b[1;33m)\u001b[0m\u001b[1;33m\u001b[0m\u001b[0m\n\u001b[0m\u001b[0;32m   1599\u001b[0m \u001b[1;33m\u001b[0m\u001b[0m\n\u001b[0;32m   1600\u001b[0m         \u001b[0mself\u001b[0m\u001b[1;33m.\u001b[0m\u001b[0mdodge\u001b[0m \u001b[1;33m=\u001b[0m \u001b[0mdodge\u001b[0m\u001b[1;33m\u001b[0m\u001b[0m\n",
      "\u001b[1;32m~\\Anaconda3\\lib\\site-packages\\seaborn\\categorical.py\u001b[0m in \u001b[0;36mestimate_statistic\u001b[1;34m(self, estimator, ci, n_boot)\u001b[0m\n\u001b[0;32m   1499\u001b[0m                         boots = bootstrap(stat_data, func=estimator,\n\u001b[0;32m   1500\u001b[0m                                           \u001b[0mn_boot\u001b[0m\u001b[1;33m=\u001b[0m\u001b[0mn_boot\u001b[0m\u001b[1;33m,\u001b[0m\u001b[1;33m\u001b[0m\u001b[0m\n\u001b[1;32m-> 1501\u001b[1;33m                                           units=unit_data)\n\u001b[0m\u001b[0;32m   1502\u001b[0m                         \u001b[0mconfint\u001b[0m\u001b[1;33m.\u001b[0m\u001b[0mappend\u001b[0m\u001b[1;33m(\u001b[0m\u001b[0mutils\u001b[0m\u001b[1;33m.\u001b[0m\u001b[0mci\u001b[0m\u001b[1;33m(\u001b[0m\u001b[0mboots\u001b[0m\u001b[1;33m,\u001b[0m \u001b[0mci\u001b[0m\u001b[1;33m)\u001b[0m\u001b[1;33m)\u001b[0m\u001b[1;33m\u001b[0m\u001b[0m\n\u001b[0;32m   1503\u001b[0m \u001b[1;33m\u001b[0m\u001b[0m\n",
      "\u001b[1;32m~\\Anaconda3\\lib\\site-packages\\seaborn\\algorithms.py\u001b[0m in \u001b[0;36mbootstrap\u001b[1;34m(*args, **kwargs)\u001b[0m\n\u001b[0;32m     72\u001b[0m     \u001b[0mboot_dist\u001b[0m \u001b[1;33m=\u001b[0m \u001b[1;33m[\u001b[0m\u001b[1;33m]\u001b[0m\u001b[1;33m\u001b[0m\u001b[0m\n\u001b[0;32m     73\u001b[0m     \u001b[1;32mfor\u001b[0m \u001b[0mi\u001b[0m \u001b[1;32min\u001b[0m \u001b[0mrange\u001b[0m\u001b[1;33m(\u001b[0m\u001b[0mint\u001b[0m\u001b[1;33m(\u001b[0m\u001b[0mn_boot\u001b[0m\u001b[1;33m)\u001b[0m\u001b[1;33m)\u001b[0m\u001b[1;33m:\u001b[0m\u001b[1;33m\u001b[0m\u001b[0m\n\u001b[1;32m---> 74\u001b[1;33m         \u001b[0mresampler\u001b[0m \u001b[1;33m=\u001b[0m \u001b[0mrs\u001b[0m\u001b[1;33m.\u001b[0m\u001b[0mrandint\u001b[0m\u001b[1;33m(\u001b[0m\u001b[1;36m0\u001b[0m\u001b[1;33m,\u001b[0m \u001b[0mn\u001b[0m\u001b[1;33m,\u001b[0m \u001b[0mn\u001b[0m\u001b[1;33m)\u001b[0m\u001b[1;33m\u001b[0m\u001b[0m\n\u001b[0m\u001b[0;32m     75\u001b[0m         \u001b[0msample\u001b[0m \u001b[1;33m=\u001b[0m \u001b[1;33m[\u001b[0m\u001b[0ma\u001b[0m\u001b[1;33m.\u001b[0m\u001b[0mtake\u001b[0m\u001b[1;33m(\u001b[0m\u001b[0mresampler\u001b[0m\u001b[1;33m,\u001b[0m \u001b[0maxis\u001b[0m\u001b[1;33m=\u001b[0m\u001b[1;36m0\u001b[0m\u001b[1;33m)\u001b[0m \u001b[1;32mfor\u001b[0m \u001b[0ma\u001b[0m \u001b[1;32min\u001b[0m \u001b[0margs\u001b[0m\u001b[1;33m]\u001b[0m\u001b[1;33m\u001b[0m\u001b[0m\n\u001b[0;32m     76\u001b[0m         \u001b[0mboot_dist\u001b[0m\u001b[1;33m.\u001b[0m\u001b[0mappend\u001b[0m\u001b[1;33m(\u001b[0m\u001b[0mfunc\u001b[0m\u001b[1;33m(\u001b[0m\u001b[1;33m*\u001b[0m\u001b[0msample\u001b[0m\u001b[1;33m,\u001b[0m \u001b[1;33m**\u001b[0m\u001b[0mfunc_kwargs\u001b[0m\u001b[1;33m)\u001b[0m\u001b[1;33m)\u001b[0m\u001b[1;33m\u001b[0m\u001b[0m\n",
      "\u001b[1;31mKeyboardInterrupt\u001b[0m: "
     ]
    }
   ],
   "source": [
    "sns.barplot(data=End.T)"
   ]
  },
  {
   "cell_type": "code",
   "execution_count": 80,
   "metadata": {},
   "outputs": [],
   "source": [
    "End.T.to_excel('zzz.xlsx')"
   ]
  },
  {
   "cell_type": "code",
   "execution_count": 34,
   "metadata": {},
   "outputs": [],
   "source": [
    "import os"
   ]
  },
  {
   "cell_type": "code",
   "execution_count": 38,
   "metadata": {
    "scrolled": false
   },
   "outputs": [
    {
     "name": "stderr",
     "output_type": "stream",
     "text": [
      "C:\\Users\\samsung\\Anaconda3\\lib\\site-packages\\IPython\\core\\interactiveshell.py:2785: DtypeWarning: Columns (9,416,417,418,419,420,421,422) have mixed types. Specify dtype option on import or set low_memory=False.\n",
      "  interactivity=interactivity, compiler=compiler, result=result)\n"
     ]
    }
   ],
   "source": [
    "a3 = pd.read_csv('[PPDB] data.csv')"
   ]
  },
  {
   "cell_type": "code",
   "execution_count": 44,
   "metadata": {},
   "outputs": [
    {
     "data": {
      "text/plain": [
       "RangeIndex(start=0, stop=115854, step=1)"
      ]
     },
     "execution_count": 44,
     "metadata": {},
     "output_type": "execute_result"
    }
   ],
   "source": [
    "a3['id']"
   ]
  },
  {
   "cell_type": "code",
   "execution_count": 27,
   "metadata": {},
   "outputs": [],
   "source": [
    "df = pd.DataFrame([S.mean(),H.mean(),I.mean()])"
   ]
  },
  {
   "cell_type": "code",
   "execution_count": 28,
   "metadata": {},
   "outputs": [
    {
     "data": {
      "text/html": [
       "<div>\n",
       "<style scoped>\n",
       "    .dataframe tbody tr th:only-of-type {\n",
       "        vertical-align: middle;\n",
       "    }\n",
       "\n",
       "    .dataframe tbody tr th {\n",
       "        vertical-align: top;\n",
       "    }\n",
       "\n",
       "    .dataframe thead th {\n",
       "        text-align: right;\n",
       "    }\n",
       "</style>\n",
       "<table border=\"1\" class=\"dataframe\">\n",
       "  <thead>\n",
       "    <tr style=\"text-align: right;\">\n",
       "      <th></th>\n",
       "      <th>C0037</th>\n",
       "      <th>C0038</th>\n",
       "      <th>C0039</th>\n",
       "      <th>C0040</th>\n",
       "      <th>C0041</th>\n",
       "      <th>K0001</th>\n",
       "      <th>K0002</th>\n",
       "      <th>K0003</th>\n",
       "      <th>K0004</th>\n",
       "      <th>K0005</th>\n",
       "      <th>...</th>\n",
       "      <th>E0060</th>\n",
       "      <th>E0061</th>\n",
       "      <th>E0062</th>\n",
       "      <th>olive</th>\n",
       "      <th>innis</th>\n",
       "      <th>etude</th>\n",
       "      <th>theface</th>\n",
       "      <th>missha</th>\n",
       "      <th>tonymoly</th>\n",
       "      <th>modularity_class</th>\n",
       "    </tr>\n",
       "  </thead>\n",
       "  <tbody>\n",
       "    <tr>\n",
       "      <th>0</th>\n",
       "      <td>0.690096</td>\n",
       "      <td>0.651757</td>\n",
       "      <td>0.396166</td>\n",
       "      <td>0.361022</td>\n",
       "      <td>0.846645</td>\n",
       "      <td>0.309904</td>\n",
       "      <td>0.667732</td>\n",
       "      <td>0.115016</td>\n",
       "      <td>0.194888</td>\n",
       "      <td>0.079872</td>\n",
       "      <td>...</td>\n",
       "      <td>0.715655</td>\n",
       "      <td>0.833866</td>\n",
       "      <td>0.437700</td>\n",
       "      <td>0.725240</td>\n",
       "      <td>0.316294</td>\n",
       "      <td>0.067093</td>\n",
       "      <td>0.044728</td>\n",
       "      <td>0.092652</td>\n",
       "      <td>0.015974</td>\n",
       "      <td>0.0</td>\n",
       "    </tr>\n",
       "    <tr>\n",
       "      <th>1</th>\n",
       "      <td>0.319410</td>\n",
       "      <td>0.171990</td>\n",
       "      <td>0.179361</td>\n",
       "      <td>0.137592</td>\n",
       "      <td>0.778870</td>\n",
       "      <td>0.289926</td>\n",
       "      <td>0.621622</td>\n",
       "      <td>0.071253</td>\n",
       "      <td>0.164619</td>\n",
       "      <td>0.017199</td>\n",
       "      <td>...</td>\n",
       "      <td>0.481572</td>\n",
       "      <td>0.491400</td>\n",
       "      <td>0.100737</td>\n",
       "      <td>0.759214</td>\n",
       "      <td>0.326781</td>\n",
       "      <td>0.049140</td>\n",
       "      <td>0.041769</td>\n",
       "      <td>0.090909</td>\n",
       "      <td>0.014742</td>\n",
       "      <td>1.0</td>\n",
       "    </tr>\n",
       "    <tr>\n",
       "      <th>2</th>\n",
       "      <td>0.305455</td>\n",
       "      <td>0.258182</td>\n",
       "      <td>0.170909</td>\n",
       "      <td>0.185455</td>\n",
       "      <td>0.690909</td>\n",
       "      <td>0.218182</td>\n",
       "      <td>0.552727</td>\n",
       "      <td>0.076364</td>\n",
       "      <td>0.174545</td>\n",
       "      <td>0.036364</td>\n",
       "      <td>...</td>\n",
       "      <td>0.563636</td>\n",
       "      <td>0.509091</td>\n",
       "      <td>0.123636</td>\n",
       "      <td>0.829091</td>\n",
       "      <td>0.178182</td>\n",
       "      <td>0.029091</td>\n",
       "      <td>0.050909</td>\n",
       "      <td>0.076364</td>\n",
       "      <td>0.025455</td>\n",
       "      <td>2.0</td>\n",
       "    </tr>\n",
       "  </tbody>\n",
       "</table>\n",
       "<p>3 rows × 91 columns</p>\n",
       "</div>"
      ],
      "text/plain": [
       "      C0037     C0038     C0039     C0040     C0041     K0001     K0002  \\\n",
       "0  0.690096  0.651757  0.396166  0.361022  0.846645  0.309904  0.667732   \n",
       "1  0.319410  0.171990  0.179361  0.137592  0.778870  0.289926  0.621622   \n",
       "2  0.305455  0.258182  0.170909  0.185455  0.690909  0.218182  0.552727   \n",
       "\n",
       "      K0003     K0004     K0005        ...            E0060     E0061  \\\n",
       "0  0.115016  0.194888  0.079872        ...         0.715655  0.833866   \n",
       "1  0.071253  0.164619  0.017199        ...         0.481572  0.491400   \n",
       "2  0.076364  0.174545  0.036364        ...         0.563636  0.509091   \n",
       "\n",
       "      E0062     olive     innis     etude   theface    missha  tonymoly  \\\n",
       "0  0.437700  0.725240  0.316294  0.067093  0.044728  0.092652  0.015974   \n",
       "1  0.100737  0.759214  0.326781  0.049140  0.041769  0.090909  0.014742   \n",
       "2  0.123636  0.829091  0.178182  0.029091  0.050909  0.076364  0.025455   \n",
       "\n",
       "   modularity_class  \n",
       "0               0.0  \n",
       "1               1.0  \n",
       "2               2.0  \n",
       "\n",
       "[3 rows x 91 columns]"
      ]
     },
     "execution_count": 28,
     "metadata": {},
     "output_type": "execute_result"
    }
   ],
   "source": [
    "df"
   ]
  },
  {
   "cell_type": "code",
   "execution_count": 23,
   "metadata": {},
   "outputs": [
    {
     "name": "stdout",
     "output_type": "stream",
     "text": [
      "전체에서 olive 를 찾는 사람의 비중은  0.7678391959798995\n",
      "S그룹에서 olive 를 찾는 사람의 비중은  0.7252396166134185\n",
      "H그룹에서 olive 를 찾는 사람의 비중은  0.7592137592137592\n",
      "Ii그룹에서 olive 를 찾는 사람의 비중은  0.8290909090909091 \n",
      "\n",
      "전체에서 innis 를 찾는 사람의 비중은  0.28241206030150756\n",
      "S그룹에서 innis 를 찾는 사람의 비중은  0.31629392971246006\n",
      "H그룹에서 innis 를 찾는 사람의 비중은  0.32678132678132676\n",
      "Ii그룹에서 innis 를 찾는 사람의 비중은  0.1781818181818182 \n",
      "\n",
      "전체에서 etude 를 찾는 사람의 비중은  0.04924623115577889\n",
      "S그룹에서 etude 를 찾는 사람의 비중은  0.0670926517571885\n",
      "H그룹에서 etude 를 찾는 사람의 비중은  0.04914004914004914\n",
      "Ii그룹에서 etude 를 찾는 사람의 비중은  0.02909090909090909 \n",
      "\n",
      "전체에서 theface 를 찾는 사람의 비중은  0.04522613065326633\n",
      "S그룹에서 theface 를 찾는 사람의 비중은  0.04472843450479233\n",
      "H그룹에서 theface 를 찾는 사람의 비중은  0.04176904176904177\n",
      "Ii그룹에서 theface 를 찾는 사람의 비중은  0.05090909090909091 \n",
      "\n",
      "전체에서 missha 를 찾는 사람의 비중은  0.08743718592964825\n",
      "S그룹에서 missha 를 찾는 사람의 비중은  0.0926517571884984\n",
      "H그룹에서 missha 를 찾는 사람의 비중은  0.09090909090909091\n",
      "Ii그룹에서 missha 를 찾는 사람의 비중은  0.07636363636363637 \n",
      "\n",
      "전체에서 tonymoly 를 찾는 사람의 비중은  0.018090452261306532\n",
      "S그룹에서 tonymoly 를 찾는 사람의 비중은  0.01597444089456869\n",
      "H그룹에서 tonymoly 를 찾는 사람의 비중은  0.014742014742014743\n",
      "Ii그룹에서 tonymoly 를 찾는 사람의 비중은  0.025454545454545455 \n",
      "\n"
     ]
    }
   ],
   "source": [
    "list = ['olive','innis','etude','theface','missha','tonymoly']\n",
    "\n",
    "for i in list:\n",
    "    print( '전체에서', i , '를 찾는 사람의 비중은 ', cosme1000_df2[i].sum()/len(cosme1000_df2))\n",
    "    print( 'S그룹에서', i , '를 찾는 사람의 비중은 ', S[i].sum()/len(S))\n",
    "    print( 'H그룹에서', i , '를 찾는 사람의 비중은 ', H[i].sum()/len(H))\n",
    "    print( 'Ii그룹에서', i , '를 찾는 사람의 비중은 ', I[i].sum()/len(I),'\\n')"
   ]
  },
  {
   "cell_type": "code",
   "execution_count": 15,
   "metadata": {},
   "outputs": [
    {
     "data": {
      "text/plain": [
       "227"
      ]
     },
     "execution_count": 15,
     "metadata": {},
     "output_type": "execute_result"
    }
   ],
   "source": [
    "S['olive'].sum()\n",
    "S"
   ]
  },
  {
   "cell_type": "code",
   "execution_count": 3,
   "metadata": {},
   "outputs": [],
   "source": [
    "cosme1000_x2_df = pd.read_pickle('cosme1000_x2_df')\n",
    "#기본정보X항목만"
   ]
  },
  {
   "cell_type": "code",
   "execution_count": 4,
   "metadata": {},
   "outputs": [],
   "source": [
    "cosme1000_y2_df = pd.read_pickle('cosme1000_y2_df')\n",
    "#가구정보Y항목만, Y0010은 누락"
   ]
  },
  {
   "cell_type": "code",
   "execution_count": 6,
   "metadata": {},
   "outputs": [
    {
     "data": {
      "text/plain": [
       "<matplotlib.axes._subplots.AxesSubplot at 0x1e350d7bac8>"
      ]
     },
     "execution_count": 6,
     "metadata": {},
     "output_type": "execute_result"
    },
    {
     "data": {
      "image/png": "[encoded data removed]",
      "text/plain": [
       "<Figure size 432x288 with 1 Axes>"
      ]
     },
     "metadata": {},
     "output_type": "display_data"
    }
   ],
   "source": [
    "#x축의 0과 1 중에서 1에 해당하는 게 말 그대로 그렇다고 응답한 사람들 수\n",
    "# 0 = S군집, 1 = H군집, 2 = I군집\n",
    "sns.countplot(data=cosme1000_df2, x=\"K0003\", hue=\"modularity_class\")\n",
    "#data = \"불러 온 세 개 데이터프레임 중에서 관심 있는 데이터프레임\" \n",
    "#cosme1000_df2는 X,Y항목 제외 나머지, cosme1000_x2_df는 X항목(기본정보)만, cosme1000_y2_df는 Y항목(가구정보)만\n",
    "#Y0010은 누락되어서 볼 수 없음 ㅠㅠ\n",
    "#x = \"보고 싶은 설문조사 코드\"\n",
    "#를 각각 집어넣는다~\n",
    "#hue는 안 건드리면 됨!"
   ]
  },
  {
   "cell_type": "code",
   "execution_count": null,
   "metadata": {},
   "outputs": [],
   "source": []
  }
 ],
 "metadata": {
  "kernelspec": {
   "display_name": "Python 3",
   "language": "python",
   "name": "python3"
  },
  "language_info": {
   "codemirror_mode": {
    "name": "ipython",
    "version": 3
   },
   "file_extension": ".py",
   "mimetype": "text/x-python",
   "name": "python",
   "nbconvert_exporter": "python",
   "pygments_lexer": "ipython3",
   "version": "3.6.5"
  }
 },
 "nbformat": 4,
 "nbformat_minor": 2
}
