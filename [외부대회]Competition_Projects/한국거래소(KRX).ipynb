{
 "cells": [
  {
   "cell_type": "markdown",
   "metadata": {},
   "source": [
    "# 한국 거래소에서 시가총액 데이터 수집\n",
    "* KRX에서 상장 기업의 시가총액 데이터를 기간별로 수집하는 방법에 대해서 알아보겠습니다. \n",
    "* selenium, BeautifulSoup, requests, json 라이브러리를 사용하여 진행하겠습니다. "
   ]
  },
  {
   "cell_type": "code",
   "execution_count": 1,
   "metadata": {
    "ExecuteTime": {
     "end_time": "2020-07-03T06:52:20.899332Z",
     "start_time": "2020-07-03T06:52:14.710919Z"
    }
   },
   "outputs": [],
   "source": [
    "from selenium import webdriver\n",
    "from selenium.webdriver.common.keys import Keys\n",
    "from bs4 import BeautifulSoup\n",
    "import pandas as pd \n",
    "import requests\n",
    "import json\n",
    "import time"
   ]
  },
  {
   "cell_type": "markdown",
   "metadata": {},
   "source": [
    "* Chrome를 실제로 운전하게 될 driver라는 웹 드라이버 객체를 생성합니다. \n",
    "    > Chrome, Firefox, PhantomJS등 각각의 브라우저마다 드라이버가 다르고, 호출 함수도 다릅니다. \n",
    "* 드라이버에게 파이썬 코드로 우리가 웹에서 하는 행동을 지시할 수 있습니다. \n",
    "* chromedriver.exe 파일이 저장되어 있는 경로를 Chrome() 메소드에 전달 "
   ]
  },
  {
   "cell_type": "code",
   "execution_count": null,
   "metadata": {},
   "outputs": [],
   "source": [
    "driver = webdriver.Chrome(\"C:\\chromedriver\\chromedriver.exe\")"
   ]
  },
  {
   "cell_type": "markdown",
   "metadata": {},
   "source": [
    "* get() 메소드를 사용하여 사용자가 원하는 주소로 이동합니다.\n",
    "* 이동 뒤에 sleep() 함수를 사용하여 페이지가 완전히 로딩될 때까지 기다립니다. "
   ]
  },
  {
   "cell_type": "code",
   "execution_count": null,
   "metadata": {},
   "outputs": [],
   "source": [
    "# 종합 시황 다운로드 받기 \n",
    "driver.get('http://marketdata.krx.co.kr/mdi#document=0101')\n",
    "# 5초간 기다림\n",
    "time.sleep(5)"
   ]
  },
  {
   "cell_type": "markdown",
   "metadata": {},
   "source": [
    "* find_element_by_css_selector 메소드는 selector에서 복사한 값을 기준으로 해당 지정한 곳의 정보를 찾습니다.\n",
    "* 찾고 난 뒤에 텍스트 상자라면 clear()를 사용하여 값을 삭제할수도, 버튼이라면 click()를 사용하여 실제 클릭을 진행할 수 있습니다.\n",
    "* 아래 예제는 문서 3개를 다운로드를 자동으로 받는 예제입니다. click() 함수를 사용하여 자동으로 다운로드 합니다."
   ]
  },
  {
   "cell_type": "code",
   "execution_count": null,
   "metadata": {},
   "outputs": [],
   "source": [
    "driver.find_element_by_css_selector(\"#c9f0f895fb98ab9159f51fd0297e236d > div.coreboard-data.design-board-normal > table > tbody > tr:nth-child(1) > td.attach-td\").click()\n",
    "driver.find_element_by_css_selector(\"#c9f0f895fb98ab9159f51fd0297e236d > div.coreboard-data.design-board-normal > table > tbody > tr:nth-child(1) > td.attach-td > div > div > ul > li > a\").click()"
   ]
  },
  {
   "cell_type": "code",
   "execution_count": null,
   "metadata": {},
   "outputs": [],
   "source": [
    "driver.find_element_by_css_selector(\"#c9f0f895fb98ab9159f51fd0297e236d > div.coreboard-data.design-board-normal > table > tbody > tr:nth-child(2) > td.attach-td > div > button\").click()           \n",
    "driver.find_element_by_css_selector(\"#c9f0f895fb98ab9159f51fd0297e236d > div.coreboard-data.design-board-normal > table > tbody > tr:nth-child(2) > td.attach-td > div > div > ul > li > a\").click()      "
   ]
  },
  {
   "cell_type": "code",
   "execution_count": null,
   "metadata": {},
   "outputs": [],
   "source": [
    "driver.find_element_by_css_selector(\"#c9f0f895fb98ab9159f51fd0297e236d > div.coreboard-data.design-board-normal > table > tbody > tr:nth-child(3) > td.attach-td > div > button\").click()           \n",
    "driver.find_element_by_css_selector(\"#c9f0f895fb98ab9159f51fd0297e236d > div.coreboard-data.design-board-normal > table > tbody > tr:nth-child(3) > td.attach-td > div > div > ul > li > a\").click()       "
   ]
  },
  {
   "cell_type": "markdown",
   "metadata": {},
   "source": [
    "* 조회 기간의 글자를 clear() 메소드를 사용하여 깨끗하기 지웁니다. \n",
    "* 그리고 send_keys() 메소드를 사용하여 내가 원하는 날짜 값을 전달합니다. "
   ]
  },
  {
   "cell_type": "code",
   "execution_count": null,
   "metadata": {},
   "outputs": [],
   "source": [
    "driver.find_element_by_css_selector('#fromdate1679091c5a880faf6fb5e6087eb1b2dc').clear()"
   ]
  },
  {
   "cell_type": "code",
   "execution_count": null,
   "metadata": {},
   "outputs": [],
   "source": [
    "driver.find_element_by_css_selector('#fromdate1679091c5a880faf6fb5e6087eb1b2dc').send_keys('20190628')"
   ]
  },
  {
   "cell_type": "markdown",
   "metadata": {},
   "source": [
    "* 자동화를 진행하게 된다면 20190628처럼 사람이 직접 입력하지 않고 자동으로 만들어야 합니다. \n",
    "* 우리가 이전 시간에 배웠던 datetime 라이브러리의 date 클래스의 today() 메소드를 사용하여 현재 날짜를 자동으로 가져옵니다."
   ]
  },
  {
   "cell_type": "code",
   "execution_count": null,
   "metadata": {},
   "outputs": [],
   "source": [
    "import datetime"
   ]
  },
  {
   "cell_type": "code",
   "execution_count": null,
   "metadata": {},
   "outputs": [],
   "source": [
    "datetime.date.today()"
   ]
  },
  {
   "cell_type": "markdown",
   "metadata": {},
   "source": [
    "* str() 함수를 사용하면 문자열로 변경할 수 있고, 문자열 메소드인 replace()를 사용하면 -를 제거할 수 있습니다."
   ]
  },
  {
   "cell_type": "code",
   "execution_count": null,
   "metadata": {},
   "outputs": [],
   "source": [
    "str(datetime.date.today()).replace(\"-\", \"\")"
   ]
  },
  {
   "cell_type": "markdown",
   "metadata": {},
   "source": [
    "* date객체에서 strftime() 메소드를 사용하면 문자열 변환을 포맷에 맞게 출력할 수 있습니다."
   ]
  },
  {
   "cell_type": "code",
   "execution_count": null,
   "metadata": {},
   "outputs": [],
   "source": [
    "today = datetime.date.today()"
   ]
  },
  {
   "cell_type": "markdown",
   "metadata": {},
   "source": [
    "* %Y : year\n",
    "* %m : Month\n",
    "* %d : day"
   ]
  },
  {
   "cell_type": "code",
   "execution_count": null,
   "metadata": {},
   "outputs": [],
   "source": [
    "today.strftime(\"%Y%m%d\")"
   ]
  },
  {
   "cell_type": "code",
   "execution_count": null,
   "metadata": {},
   "outputs": [],
   "source": []
  },
  {
   "cell_type": "markdown",
   "metadata": {},
   "source": [
    "# 시가총액 데이터 다운로드 받기 "
   ]
  },
  {
   "cell_type": "markdown",
   "metadata": {},
   "source": [
    "* 시가 총액을 다운로드 받을 수 있는 사이트로 이동합니다.\n",
    "* http://marketdata.krx.co.kr/mdi#document=040402"
   ]
  },
  {
   "cell_type": "code",
   "execution_count": 19,
   "metadata": {
    "ExecuteTime": {
     "end_time": "2020-07-03T07:08:40.291746Z",
     "start_time": "2020-07-03T07:08:40.285749Z"
    }
   },
   "outputs": [],
   "source": [
    "head = {'Host': 'marketdata.krx.co.kr',\n",
    "        'User-Agent': 'Mozilla/5.0 (Windows NT 10.0; Win64; x64) AppleWebKit/537.36 (KHTML, like Gecko) Chrome/79.0.3945.117 Safari/537.36'\n",
    "        }"
   ]
  },
  {
   "cell_type": "code",
   "execution_count": 47,
   "metadata": {
    "ExecuteTime": {
     "end_time": "2020-07-03T07:10:49.634749Z",
     "start_time": "2020-07-03T07:10:49.628752Z"
    }
   },
   "outputs": [],
   "source": [
    "otp_url = \"http://marketdata.krx.co.kr/contents/COM/GenerateOTP.jspx\"\n",
    "\n",
    "data = {'bld': 'MKD/04/0404/04040200/mkd04040200_01',\n",
    "        'name': 'form'}"
   ]
  },
  {
   "cell_type": "code",
   "execution_count": 48,
   "metadata": {
    "ExecuteTime": {
     "end_time": "2020-07-03T07:10:50.014055Z",
     "start_time": "2020-07-03T07:10:49.949650Z"
    }
   },
   "outputs": [],
   "source": [
    "otp_r = requests.get(otp_url, params=data, headers=head)"
   ]
  },
  {
   "cell_type": "markdown",
   "metadata": {},
   "source": [
    "* requests.get() 메소드를 통해서 아래 주소를 접근"
   ]
  },
  {
   "cell_type": "code",
   "execution_count": 49,
   "metadata": {
    "ExecuteTime": {
     "end_time": "2020-07-03T07:10:50.704268Z",
     "start_time": "2020-07-03T07:10:50.695200Z"
    }
   },
   "outputs": [
    {
     "data": {
      "text/plain": [
       "'http://marketdata.krx.co.kr/contents/COM/GenerateOTP.jspx?bld=MKD%2F04%2F0404%2F04040200%2Fmkd04040200_01&name=form'"
      ]
     },
     "execution_count": 49,
     "metadata": {},
     "output_type": "execute_result"
    }
   ],
   "source": [
    "otp_r.url"
   ]
  },
  {
   "cell_type": "markdown",
   "metadata": {},
   "source": [
    "* 응답받은 값을 확인"
   ]
  },
  {
   "cell_type": "code",
   "execution_count": 50,
   "metadata": {
    "ExecuteTime": {
     "end_time": "2020-07-03T07:10:51.473416Z",
     "start_time": "2020-07-03T07:10:51.462422Z"
    }
   },
   "outputs": [
    {
     "data": {
      "text/plain": [
       "'MfqYzeUrwxtQn7deVWIdv5KFsdEOsCBJ4X+2QZ/7+/ZqqXv8unnqt/mtyrYtOqsTZrWE3MY3SKJ6BXxz2XqrMDT6DBSsSfOZBUQ/z6dJwv0DftdNLOw7V7SVn7Pt5lKMSYcJZaP38mVibamRrDEQnPS5ycdabP/RYxT+yqfvspk='"
      ]
     },
     "execution_count": 50,
     "metadata": {},
     "output_type": "execute_result"
    }
   ],
   "source": [
    "otp_r.text"
   ]
  },
  {
   "cell_type": "markdown",
   "metadata": {},
   "source": [
    "* post 방식"
   ]
  },
  {
   "cell_type": "code",
   "execution_count": 51,
   "metadata": {
    "ExecuteTime": {
     "end_time": "2020-07-03T07:10:52.269959Z",
     "start_time": "2020-07-03T07:10:52.261793Z"
    }
   },
   "outputs": [],
   "source": [
    "market_cap = 'http://marketdata.krx.co.kr/contents/MKD/99/MKD99000001.jspx'"
   ]
  },
  {
   "cell_type": "code",
   "execution_count": 52,
   "metadata": {
    "ExecuteTime": {
     "end_time": "2020-07-03T07:10:52.816515Z",
     "start_time": "2020-07-03T07:10:52.807517Z"
    }
   },
   "outputs": [],
   "source": [
    "payload = {     'market_gubun': 'ALL',\n",
    "                'sect_tp_cd': 'ALL',\n",
    "                'schdate': '20200703',\n",
    "                'pagePath': '/contents/MKD/04/0404/04040200/MKD04040200.jsp',\n",
    "                'curPage': '1'\n",
    "               #'bldcode' : 'MKD/04/0404/04040200/mkd04040200_02'\n",
    "           }\n",
    "payload['code'] = otp_r.text"
   ]
  },
  {
   "cell_type": "code",
   "execution_count": 53,
   "metadata": {
    "ExecuteTime": {
     "end_time": "2020-07-03T07:10:53.612537Z",
     "start_time": "2020-07-03T07:10:53.278430Z"
    }
   },
   "outputs": [],
   "source": [
    "post_code = requests.post(market_cap,  data=payload, headers=head)"
   ]
  },
  {
   "cell_type": "code",
   "execution_count": 54,
   "metadata": {
    "ExecuteTime": {
     "end_time": "2020-07-03T07:10:53.752755Z",
     "start_time": "2020-07-03T07:10:53.744762Z"
    }
   },
   "outputs": [
    {
     "data": {
      "text/plain": [
       "'{\"시가총액 상하위\":[{\"rn\":\"1\",\"isu_cd\":\"005930\",\"kor_shrt_isu_nm\":\"삼성전자\",\"isu_cur_pr\":\"53,600\",\"fluc_tp_cd\":\"1\",\"prv_dd_cmpr\":\"700\",\"updn_rate\":\"1.3\",\"isu_tr_vl\":\"11,833,037\",\"isu_tr_amt\":\"630,397,097,900\",\"opnprc\":\"53,000\",\"hgprc\":\"53,600\",\"lwprc\":\"52,700\",\"cur_pr_tot_amt\":\"319,980,344,680,000\",\"tot_amt_per\":\"18.38\",\"lst_stk_vl\":\"5,969,782,550\",\"f1\":\"\",\"f2\":\"\",\"totCnt\":\"2472\"},{\"rn\":\"2\",\"isu_cd\":\"000660\",\"kor_shrt_isu_nm\":\"SK하이닉스\",\"isu_cur_pr\":\"85,400\",\"fluc_tp_cd\":\"1\",\"prv_dd_cmpr\":\"1,000\",\"updn_rate\":\"1.2\",\"isu_tr_vl\":\"2,188,927\",\"isu_tr_amt\":\"185,910,970,600\",\"opnprc\":\"85,000\",\"hgprc\":\"85,600\",\"lwprc\":\"84,500\",\"cur_pr_tot_amt\":\"62,171,401,971,000\",\"tot_amt_per\":\"3.57\",\"lst_stk_vl\":\"728,002,365\",\"f1\":\"\",\"f2\":\"\",\"totCnt\":\"\"},{\"rn\":\"3\",\"isu_cd\":\"207940\",\"kor_shrt_isu_nm\":\"삼성바이오로직스\",\"isu_cur_pr\":\"771,000\",\"fluc_tp_cd\":\"2\",\"prv_dd_cmpr\":\"15,000\",\"updn_rate\":\"-1.9\",\"isu_tr_vl\":\"223,020\",\"isu_tr_amt\":\"171,902,647,000\",\"opnprc\":\"795,000\",\"hgprc\":\"796,000\",\"lwprc\":\"764,000\",\"cur_pr_tot_amt\":\"51,013,215,000,000\",\"tot_amt_per\":\"2.93\",\"lst_stk_vl\":\"66,165,000\",\"f1\":\"\",\"f2\":\"\",\"totCnt\":\"\"},{\"rn\":\"4\",\"isu_cd\":\"035420\",\"kor_shrt_isu_nm\":\"NAVER\",\"isu_cur_pr\":\"277,500\",\"fluc_tp_cd\":\"1\",\"prv_dd_cmpr\":\"500\",\"updn_rate\":\"0.2\",\"isu_tr_vl\":\"967,298\",\"isu_tr_amt\":\"268,712,672,250\",\"opnprc\":\"276,500\",\"hgprc\":\"280,500\",\"lwprc\":\"274,500\",\"cur_pr_tot_amt\":\"45,583,092,112,500\",\"tot_amt_per\":\"2.62\",\"lst_stk_vl\":\"164,263,395\",\"f1\":\"\",\"f2\":\"\",\"totCnt\":\"\"},{\"rn\":\"5\",\"isu_cd\":\"068270\",\"kor_shrt_isu_nm\":\"셀트리온\",\"isu_cur_pr\":\"309,500\",\"fluc_tp_cd\":\"1\",\"prv_dd_cmpr\":\"1,000\",\"updn_rate\":\"0.3\",\"isu_tr_vl\":\"754,165\",\"isu_tr_amt\":\"231,070,318,000\",\"opnprc\":\"311,500\",\"hgprc\":\"312,000\",\"lwprc\":\"300,500\",\"cur_pr_tot_amt\":\"41,763,739,657,500\",\"tot_amt_per\":\"2.40\",\"lst_stk_vl\":\"134,939,385\",\"f1\":\"\",\"f2\":\"\",\"totCnt\":\"\"},{\"rn\":\"6\",\"isu_cd\":\"005935\",\"kor_shrt_isu_nm\":\"삼성전자우\",\"isu_cur_pr\":\"46,900\",\"fluc_tp_cd\":\"1\",\"prv_dd_cmpr\":\"250\",\"updn_rate\":\"0.5\",\"isu_tr_vl\":\"1,452,190\",\"isu_tr_amt\":\"67,952,160,115\",\"opnprc\":\"46,700\",\"hgprc\":\"46,950\",\"lwprc\":\"46,500\",\"cur_pr_tot_amt\":\"38,593,386,230,000\",\"tot_amt_per\":\"2.22\",\"lst_stk_vl\":\"822,886,700\",\"f1\":\"\",\"f2\":\"\",\"totCnt\":\"\"},{\"rn\":\"7\",\"isu_cd\":\"051910\",\"kor_shrt_isu_nm\":\"LG화학\",\"isu_cur_pr\":\"507,000\",\"fluc_tp_cd\":\"1\",\"prv_dd_cmpr\":\"11,000\",\"updn_rate\":\"2.2\",\"isu_tr_vl\":\"440,508\",\"isu_tr_amt\":\"223,608,031,000\",\"opnprc\":\"509,000\",\"hgprc\":\"515,000\",\"lwprc\":\"502,000\",\"cur_pr_tot_amt\":\"35,790,317,901,000\",\"tot_amt_per\":\"2.06\",\"lst_stk_vl\":\"70,592,343\",\"f1\":\"\",\"f2\":\"\",\"totCnt\":\"\"},{\"rn\":\"8\",\"isu_cd\":\"006400\",\"kor_shrt_isu_nm\":\"삼성SDI\",\"isu_cur_pr\":\"381,000\",\"fluc_tp_cd\":\"1\",\"prv_dd_cmpr\":\"9,500\",\"updn_rate\":\"2.6\",\"isu_tr_vl\":\"538,722\",\"isu_tr_amt\":\"205,254,685,000\",\"opnprc\":\"379,500\",\"hgprc\":\"385,000\",\"lwprc\":\"378,000\",\"cur_pr_tot_amt\":\"26,199,285,930,000\",\"tot_amt_per\":\"1.50\",\"lst_stk_vl\":\"68,764,530\",\"f1\":\"\",\"f2\":\"\",\"totCnt\":\"\"},{\"rn\":\"9\",\"isu_cd\":\"035720\",\"kor_shrt_isu_nm\":\"카카오\",\"isu_cur_pr\":\"294,000\",\"fluc_tp_cd\":\"1\",\"prv_dd_cmpr\":\"8,500\",\"updn_rate\":\"3.0\",\"isu_tr_vl\":\"1,597,485\",\"isu_tr_amt\":\"467,180,461,500\",\"opnprc\":\"289,500\",\"hgprc\":\"297,000\",\"lwprc\":\"284,000\",\"cur_pr_tot_amt\":\"25,813,202,352,000\",\"tot_amt_per\":\"1.48\",\"lst_stk_vl\":\"87,800,008\",\"f1\":\"\",\"f2\":\"\",\"totCnt\":\"\"},{\"rn\":\"10\",\"isu_cd\":\"051900\",\"kor_shrt_isu_nm\":\"LG생활건강\",\"isu_cur_pr\":\"1,380,000\",\"fluc_tp_cd\":\"1\",\"prv_dd_cmpr\":\"1,000\",\"updn_rate\":\"0.1\",\"isu_tr_vl\":\"41,664\",\"isu_tr_amt\":\"57,415,539,768\",\"opnprc\":\"1,377,000\",\"hgprc\":\"1,389,000\",\"lwprc\":\"1,357,000\",\"cur_pr_tot_amt\":\"21,553,111,860,000\",\"tot_amt_per\":\"1.24\",\"lst_stk_vl\":\"15,618,197\",\"f1\":\"\",\"f2\":\"\",\"totCnt\":\"\"}]}'"
      ]
     },
     "execution_count": 54,
     "metadata": {},
     "output_type": "execute_result"
    }
   ],
   "source": [
    "post_code.text"
   ]
  },
  {
   "cell_type": "markdown",
   "metadata": {},
   "source": [
    "* for문을 300번까지 돌린 이유는 데이터가 없다면 크기를 확인하고(100) 이하면 종료 로직이 들어 있기 때문에 크게 잡았습니다.\n",
    "* 종목은 수시로 변경될 수 있기 때문에 숫자를 딱 정하는 것보다 약간 더 크게 만들어 로직을 넣는 것을 추천합니다."
   ]
  },
  {
   "cell_type": "code",
   "execution_count": 55,
   "metadata": {
    "ExecuteTime": {
     "end_time": "2020-07-03T07:13:51.857704Z",
     "start_time": "2020-07-03T07:11:25.357110Z"
    }
   },
   "outputs": [
    {
     "name": "stdout",
     "output_type": "stream",
     "text": [
      "10\n",
      "20\n",
      "30\n",
      "40\n",
      "50\n",
      "60\n",
      "70\n",
      "80\n",
      "90\n",
      "100\n",
      "110\n",
      "120\n",
      "130\n",
      "140\n",
      "150\n",
      "160\n",
      "170\n",
      "180\n",
      "190\n",
      "200\n",
      "210\n",
      "220\n",
      "230\n",
      "240\n"
     ]
    }
   ],
   "source": [
    "rt_list = []\n",
    "\n",
    "for cnt in range(1,300):\n",
    "    otp_r = requests.get(otp_url, params=data, headers=head)\n",
    "    payload['code'] = otp_r.text\n",
    "    if(cnt % 10 == 0):\n",
    "        print (cnt)\n",
    "    payload['curPage'] = cnt\n",
    "    rt3 = requests.post(market_cap,  data=payload, headers=head)\n",
    "    # 응답 받은 데이터가 15보다 크면 입력 아니면 종료 \n",
    "    if(len(rt3.text) > 15):\n",
    "        rt_list.append(rt3.text)\n",
    "    else:\n",
    "        break"
   ]
  },
  {
   "cell_type": "markdown",
   "metadata": {},
   "source": [
    "* rt_list의 원소 하나하나는 문자열로 이루어져 있습니다. 눈으로 확인하면 dict 형태이지만(서버에선 json형식으로 전달) 문자열이 때문에 json 라이브러리의 힘을 빌려야 합니다."
   ]
  },
  {
   "cell_type": "markdown",
   "metadata": {},
   "source": [
    "* json의 loads() 함수를 사용하여 문자열을 dict 형태로 변환합니다. 그리고 '시가총액 상하위' 키를 가지고 있는 값을 추출하여 DataFrame을 생성합니다.\n"
   ]
  },
  {
   "cell_type": "code",
   "execution_count": 57,
   "metadata": {
    "ExecuteTime": {
     "end_time": "2020-07-03T07:16:05.023111Z",
     "start_time": "2020-07-03T07:16:04.916155Z"
    }
   },
   "outputs": [
    {
     "data": {
      "text/html": [
       "<div>\n",
       "<style scoped>\n",
       "    .dataframe tbody tr th:only-of-type {\n",
       "        vertical-align: middle;\n",
       "    }\n",
       "\n",
       "    .dataframe tbody tr th {\n",
       "        vertical-align: top;\n",
       "    }\n",
       "\n",
       "    .dataframe thead th {\n",
       "        text-align: right;\n",
       "    }\n",
       "</style>\n",
       "<table border=\"1\" class=\"dataframe\">\n",
       "  <thead>\n",
       "    <tr style=\"text-align: right;\">\n",
       "      <th></th>\n",
       "      <th>rn</th>\n",
       "      <th>isu_cd</th>\n",
       "      <th>kor_shrt_isu_nm</th>\n",
       "      <th>isu_cur_pr</th>\n",
       "      <th>fluc_tp_cd</th>\n",
       "      <th>prv_dd_cmpr</th>\n",
       "      <th>updn_rate</th>\n",
       "      <th>isu_tr_vl</th>\n",
       "      <th>isu_tr_amt</th>\n",
       "      <th>opnprc</th>\n",
       "      <th>hgprc</th>\n",
       "      <th>lwprc</th>\n",
       "      <th>cur_pr_tot_amt</th>\n",
       "      <th>tot_amt_per</th>\n",
       "      <th>lst_stk_vl</th>\n",
       "      <th>f1</th>\n",
       "      <th>f2</th>\n",
       "      <th>totCnt</th>\n",
       "    </tr>\n",
       "  </thead>\n",
       "  <tbody>\n",
       "    <tr>\n",
       "      <th>0</th>\n",
       "      <td>1</td>\n",
       "      <td>005930</td>\n",
       "      <td>삼성전자</td>\n",
       "      <td>53,600</td>\n",
       "      <td>1</td>\n",
       "      <td>700</td>\n",
       "      <td>1.3</td>\n",
       "      <td>11,833,037</td>\n",
       "      <td>630,397,097,900</td>\n",
       "      <td>53,000</td>\n",
       "      <td>53,600</td>\n",
       "      <td>52,700</td>\n",
       "      <td>319,980,344,680,000</td>\n",
       "      <td>18.38</td>\n",
       "      <td>5,969,782,550</td>\n",
       "      <td></td>\n",
       "      <td></td>\n",
       "      <td>2472</td>\n",
       "    </tr>\n",
       "    <tr>\n",
       "      <th>1</th>\n",
       "      <td>2</td>\n",
       "      <td>000660</td>\n",
       "      <td>SK하이닉스</td>\n",
       "      <td>85,400</td>\n",
       "      <td>1</td>\n",
       "      <td>1,000</td>\n",
       "      <td>1.2</td>\n",
       "      <td>2,188,927</td>\n",
       "      <td>185,910,970,600</td>\n",
       "      <td>85,000</td>\n",
       "      <td>85,600</td>\n",
       "      <td>84,500</td>\n",
       "      <td>62,171,401,971,000</td>\n",
       "      <td>3.57</td>\n",
       "      <td>728,002,365</td>\n",
       "      <td></td>\n",
       "      <td></td>\n",
       "      <td></td>\n",
       "    </tr>\n",
       "    <tr>\n",
       "      <th>2</th>\n",
       "      <td>3</td>\n",
       "      <td>207940</td>\n",
       "      <td>삼성바이오로직스</td>\n",
       "      <td>771,000</td>\n",
       "      <td>2</td>\n",
       "      <td>15,000</td>\n",
       "      <td>-1.9</td>\n",
       "      <td>223,020</td>\n",
       "      <td>171,902,647,000</td>\n",
       "      <td>795,000</td>\n",
       "      <td>796,000</td>\n",
       "      <td>764,000</td>\n",
       "      <td>51,013,215,000,000</td>\n",
       "      <td>2.93</td>\n",
       "      <td>66,165,000</td>\n",
       "      <td></td>\n",
       "      <td></td>\n",
       "      <td></td>\n",
       "    </tr>\n",
       "    <tr>\n",
       "      <th>3</th>\n",
       "      <td>4</td>\n",
       "      <td>035420</td>\n",
       "      <td>NAVER</td>\n",
       "      <td>277,500</td>\n",
       "      <td>1</td>\n",
       "      <td>500</td>\n",
       "      <td>0.2</td>\n",
       "      <td>967,298</td>\n",
       "      <td>268,712,672,250</td>\n",
       "      <td>276,500</td>\n",
       "      <td>280,500</td>\n",
       "      <td>274,500</td>\n",
       "      <td>45,583,092,112,500</td>\n",
       "      <td>2.62</td>\n",
       "      <td>164,263,395</td>\n",
       "      <td></td>\n",
       "      <td></td>\n",
       "      <td></td>\n",
       "    </tr>\n",
       "    <tr>\n",
       "      <th>4</th>\n",
       "      <td>5</td>\n",
       "      <td>068270</td>\n",
       "      <td>셀트리온</td>\n",
       "      <td>309,500</td>\n",
       "      <td>1</td>\n",
       "      <td>1,000</td>\n",
       "      <td>0.3</td>\n",
       "      <td>754,165</td>\n",
       "      <td>231,070,318,000</td>\n",
       "      <td>311,500</td>\n",
       "      <td>312,000</td>\n",
       "      <td>300,500</td>\n",
       "      <td>41,763,739,657,500</td>\n",
       "      <td>2.40</td>\n",
       "      <td>134,939,385</td>\n",
       "      <td></td>\n",
       "      <td></td>\n",
       "      <td></td>\n",
       "    </tr>\n",
       "    <tr>\n",
       "      <th>5</th>\n",
       "      <td>6</td>\n",
       "      <td>005935</td>\n",
       "      <td>삼성전자우</td>\n",
       "      <td>46,900</td>\n",
       "      <td>1</td>\n",
       "      <td>250</td>\n",
       "      <td>0.5</td>\n",
       "      <td>1,452,190</td>\n",
       "      <td>67,952,160,115</td>\n",
       "      <td>46,700</td>\n",
       "      <td>46,950</td>\n",
       "      <td>46,500</td>\n",
       "      <td>38,593,386,230,000</td>\n",
       "      <td>2.22</td>\n",
       "      <td>822,886,700</td>\n",
       "      <td></td>\n",
       "      <td></td>\n",
       "      <td></td>\n",
       "    </tr>\n",
       "    <tr>\n",
       "      <th>6</th>\n",
       "      <td>7</td>\n",
       "      <td>051910</td>\n",
       "      <td>LG화학</td>\n",
       "      <td>507,000</td>\n",
       "      <td>1</td>\n",
       "      <td>11,000</td>\n",
       "      <td>2.2</td>\n",
       "      <td>440,508</td>\n",
       "      <td>223,608,031,000</td>\n",
       "      <td>509,000</td>\n",
       "      <td>515,000</td>\n",
       "      <td>502,000</td>\n",
       "      <td>35,790,317,901,000</td>\n",
       "      <td>2.06</td>\n",
       "      <td>70,592,343</td>\n",
       "      <td></td>\n",
       "      <td></td>\n",
       "      <td></td>\n",
       "    </tr>\n",
       "    <tr>\n",
       "      <th>7</th>\n",
       "      <td>8</td>\n",
       "      <td>006400</td>\n",
       "      <td>삼성SDI</td>\n",
       "      <td>381,000</td>\n",
       "      <td>1</td>\n",
       "      <td>9,500</td>\n",
       "      <td>2.6</td>\n",
       "      <td>538,722</td>\n",
       "      <td>205,254,685,000</td>\n",
       "      <td>379,500</td>\n",
       "      <td>385,000</td>\n",
       "      <td>378,000</td>\n",
       "      <td>26,199,285,930,000</td>\n",
       "      <td>1.50</td>\n",
       "      <td>68,764,530</td>\n",
       "      <td></td>\n",
       "      <td></td>\n",
       "      <td></td>\n",
       "    </tr>\n",
       "    <tr>\n",
       "      <th>8</th>\n",
       "      <td>9</td>\n",
       "      <td>035720</td>\n",
       "      <td>카카오</td>\n",
       "      <td>294,000</td>\n",
       "      <td>1</td>\n",
       "      <td>8,500</td>\n",
       "      <td>3.0</td>\n",
       "      <td>1,597,485</td>\n",
       "      <td>467,180,461,500</td>\n",
       "      <td>289,500</td>\n",
       "      <td>297,000</td>\n",
       "      <td>284,000</td>\n",
       "      <td>25,813,202,352,000</td>\n",
       "      <td>1.48</td>\n",
       "      <td>87,800,008</td>\n",
       "      <td></td>\n",
       "      <td></td>\n",
       "      <td></td>\n",
       "    </tr>\n",
       "    <tr>\n",
       "      <th>9</th>\n",
       "      <td>10</td>\n",
       "      <td>051900</td>\n",
       "      <td>LG생활건강</td>\n",
       "      <td>1,380,000</td>\n",
       "      <td>1</td>\n",
       "      <td>1,000</td>\n",
       "      <td>0.1</td>\n",
       "      <td>41,664</td>\n",
       "      <td>57,415,539,768</td>\n",
       "      <td>1,377,000</td>\n",
       "      <td>1,389,000</td>\n",
       "      <td>1,357,000</td>\n",
       "      <td>21,553,111,860,000</td>\n",
       "      <td>1.24</td>\n",
       "      <td>15,618,197</td>\n",
       "      <td></td>\n",
       "      <td></td>\n",
       "      <td></td>\n",
       "    </tr>\n",
       "  </tbody>\n",
       "</table>\n",
       "</div>"
      ],
      "text/plain": [
       "   rn  isu_cd kor_shrt_isu_nm isu_cur_pr fluc_tp_cd prv_dd_cmpr updn_rate  \\\n",
       "0   1  005930            삼성전자     53,600          1         700       1.3   \n",
       "1   2  000660          SK하이닉스     85,400          1       1,000       1.2   \n",
       "2   3  207940        삼성바이오로직스    771,000          2      15,000      -1.9   \n",
       "3   4  035420           NAVER    277,500          1         500       0.2   \n",
       "4   5  068270            셀트리온    309,500          1       1,000       0.3   \n",
       "5   6  005935           삼성전자우     46,900          1         250       0.5   \n",
       "6   7  051910            LG화학    507,000          1      11,000       2.2   \n",
       "7   8  006400           삼성SDI    381,000          1       9,500       2.6   \n",
       "8   9  035720             카카오    294,000          1       8,500       3.0   \n",
       "9  10  051900          LG생활건강  1,380,000          1       1,000       0.1   \n",
       "\n",
       "    isu_tr_vl       isu_tr_amt     opnprc      hgprc      lwprc  \\\n",
       "0  11,833,037  630,397,097,900     53,000     53,600     52,700   \n",
       "1   2,188,927  185,910,970,600     85,000     85,600     84,500   \n",
       "2     223,020  171,902,647,000    795,000    796,000    764,000   \n",
       "3     967,298  268,712,672,250    276,500    280,500    274,500   \n",
       "4     754,165  231,070,318,000    311,500    312,000    300,500   \n",
       "5   1,452,190   67,952,160,115     46,700     46,950     46,500   \n",
       "6     440,508  223,608,031,000    509,000    515,000    502,000   \n",
       "7     538,722  205,254,685,000    379,500    385,000    378,000   \n",
       "8   1,597,485  467,180,461,500    289,500    297,000    284,000   \n",
       "9      41,664   57,415,539,768  1,377,000  1,389,000  1,357,000   \n",
       "\n",
       "        cur_pr_tot_amt tot_amt_per     lst_stk_vl f1 f2 totCnt  \n",
       "0  319,980,344,680,000       18.38  5,969,782,550         2472  \n",
       "1   62,171,401,971,000        3.57    728,002,365               \n",
       "2   51,013,215,000,000        2.93     66,165,000               \n",
       "3   45,583,092,112,500        2.62    164,263,395               \n",
       "4   41,763,739,657,500        2.40    134,939,385               \n",
       "5   38,593,386,230,000        2.22    822,886,700               \n",
       "6   35,790,317,901,000        2.06     70,592,343               \n",
       "7   26,199,285,930,000        1.50     68,764,530               \n",
       "8   25,813,202,352,000        1.48     87,800,008               \n",
       "9   21,553,111,860,000        1.24     15,618,197               "
      ]
     },
     "execution_count": 57,
     "metadata": {},
     "output_type": "execute_result"
    }
   ],
   "source": [
    "pd.DataFrame(json.loads(rt_list[0])['시가총액 상하위'])"
   ]
  },
  {
   "cell_type": "markdown",
   "metadata": {},
   "source": [
    "* 이 작업을 for문을 돌려서 concat() 함수(DataFrame을 row단위로 합쳐주는 역할) 호출하여 DataFrame을 total_df라는 하나의 데이터 합칩니다."
   ]
  },
  {
   "cell_type": "code",
   "execution_count": 58,
   "metadata": {
    "ExecuteTime": {
     "end_time": "2020-07-03T07:16:13.301931Z",
     "start_time": "2020-07-03T07:16:10.914829Z"
    }
   },
   "outputs": [],
   "source": [
    "total_df = pd.DataFrame()\n",
    "for x in rt_list:\n",
    "    rt = json.loads(x)\n",
    "    total_df = pd.concat([total_df, pd.DataFrame(rt['시가총액 상하위'])])"
   ]
  },
  {
   "cell_type": "code",
   "execution_count": 61,
   "metadata": {
    "ExecuteTime": {
     "end_time": "2020-07-03T07:16:24.266973Z",
     "start_time": "2020-07-03T07:16:24.256982Z"
    }
   },
   "outputs": [],
   "source": [
    "column = { 'rn'     : '순위', \n",
    "           'isu_cd' : '종목코드', \n",
    "           'kor_shrt_isu_nm' :'종목명',\n",
    "           'opnprc' : '시가',\n",
    "            'hgprc' : '고가',\n",
    "            'lwprc' : '저가',\n",
    "            'isu_cur_pr' :'종가',\n",
    "            'prv_dd_cmpr' : '대비',\n",
    "            'fluc_tp_cd' : '상승하락',          \n",
    "            'updn_rate' : '등락률(%)',\n",
    "            'isu_tr_vl': '거래량(주)',\n",
    "            'isu_tr_amt' : '거래대금',\n",
    "            'cur_pr_tot_amt' : '시가총액',\n",
    "            'tot_amt_per' : '시가총액비중(%)',\n",
    "            'lst_stk_vl' : '상장주식수',\n",
    "            'f1' : '외국인보유수량',\n",
    "            'f2' : '외국인 지분율(%)'}"
   ]
  },
  {
   "cell_type": "code",
   "execution_count": 63,
   "metadata": {
    "ExecuteTime": {
     "end_time": "2020-07-03T07:16:32.726319Z",
     "start_time": "2020-07-03T07:16:32.715308Z"
    }
   },
   "outputs": [],
   "source": [
    "total_df.rename(columns=column, inplace=True)"
   ]
  },
  {
   "cell_type": "markdown",
   "metadata": {},
   "source": [
    "* 해당 데이터는 날짜 데이터가 없기 때문에 post()안에 요청했던 날짜로 date라는 컬럼을 생성하고 날짜를 넣어줍니다. \n",
    "* 이 작업도 자동화로 해야겠죠? 위의 코드를 바탕으로 만들어보는 것을 권장합니다."
   ]
  },
  {
   "cell_type": "code",
   "execution_count": 65,
   "metadata": {
    "ExecuteTime": {
     "end_time": "2020-07-03T07:17:36.684255Z",
     "start_time": "2020-07-03T07:17:36.672267Z"
    }
   },
   "outputs": [],
   "source": [
    "total_df['date']= '2020-07-03'"
   ]
  },
  {
   "cell_type": "markdown",
   "metadata": {},
   "source": [
    "* 인덱스 값을 초기화합니다."
   ]
  },
  {
   "cell_type": "code",
   "execution_count": 68,
   "metadata": {
    "ExecuteTime": {
     "end_time": "2020-07-03T07:18:08.380452Z",
     "start_time": "2020-07-03T07:18:08.372456Z"
    }
   },
   "outputs": [],
   "source": [
    "total_df.reset_index(drop=True, inplace=True)"
   ]
  },
  {
   "cell_type": "code",
   "execution_count": null,
   "metadata": {},
   "outputs": [],
   "source": []
  }
 ],
 "metadata": {
  "kernelspec": {
   "display_name": "Python 3",
   "language": "python",
   "name": "python3"
  },
  "language_info": {
   "codemirror_mode": {
    "name": "ipython",
    "version": 3
   },
   "file_extension": ".py",
   "mimetype": "text/x-python",
   "name": "python",
   "nbconvert_exporter": "python",
   "pygments_lexer": "ipython3",
   "version": "3.6.9"
  },
  "toc": {
   "base_numbering": 1,
   "nav_menu": {},
   "number_sections": true,
   "sideBar": true,
   "skip_h1_title": false,
   "title_cell": "Table of Contents",
   "title_sidebar": "Contents",
   "toc_cell": false,
   "toc_position": {},
   "toc_section_display": true,
   "toc_window_display": false
  }
 },
 "nbformat": 4,
 "nbformat_minor": 2
}
