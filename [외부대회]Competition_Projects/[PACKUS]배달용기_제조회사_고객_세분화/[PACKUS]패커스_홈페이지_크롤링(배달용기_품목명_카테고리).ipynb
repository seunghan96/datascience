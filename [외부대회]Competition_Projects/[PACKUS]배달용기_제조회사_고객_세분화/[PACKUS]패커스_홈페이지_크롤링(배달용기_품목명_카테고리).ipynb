{
 "cells": [
  {
   "cell_type": "code",
   "execution_count": 58,
   "metadata": {},
   "outputs": [],
   "source": [
    "import pandas as pd"
   ]
  },
  {
   "cell_type": "code",
   "execution_count": 1,
   "metadata": {},
   "outputs": [],
   "source": [
    "import requests\n",
    "from bs4 import BeautifulSoup as bs"
   ]
  },
  {
   "cell_type": "code",
   "execution_count": 55,
   "metadata": {},
   "outputs": [],
   "source": [
    "best = []\n",
    "korean = []\n",
    "chinese = []\n",
    "japanese = []\n",
    "western = []\n",
    "sealing = []\n",
    "bakerycafe = []\n",
    "agri= []\n",
    "kitchen = []\n",
    "sticker = []\n",
    "small = []"
   ]
  },
  {
   "cell_type": "code",
   "execution_count": 46,
   "metadata": {},
   "outputs": [],
   "source": [
    "# Best\n",
    "url = 'http://packus.co.kr/goods/goods_list.php?cateCd=047'\n",
    "resp = requests.get(url)\n",
    "soup = bs(resp.text)\n",
    "soup2 = soup.find_all('strong',class_='item_name')\n",
    "for i in range(len(soup2)):\n",
    "    best.append(soup2[i].get_text())"
   ]
  },
  {
   "cell_type": "code",
   "execution_count": 47,
   "metadata": {},
   "outputs": [],
   "source": [
    "# Korean\n",
    "for i in range(1,10):\n",
    "    url = 'http://packus.co.kr/goods/goods_list.php?page='+str(i)+'&cateCd=038'\n",
    "    resp = requests.get(url)\n",
    "    soup = bs(resp.text)\n",
    "    soup2 = soup.find_all('strong',class_='item_name')\n",
    "    for i in range(len(soup2)):\n",
    "        korean.append(soup2[i].get_text())"
   ]
  },
  {
   "cell_type": "code",
   "execution_count": 50,
   "metadata": {},
   "outputs": [],
   "source": [
    "# Chinese\n",
    "for i in range(1,9):\n",
    "    url = 'http://packus.co.kr/goods/goods_list.php?page='+str(i)+'&cateCd=039'\n",
    "    resp = requests.get(url)\n",
    "    soup = bs(resp.text)\n",
    "    soup2 = soup.find_all('strong',class_='item_name')\n",
    "    for i in range(len(soup2)):\n",
    "        chinese.append(soup2[i].get_text())"
   ]
  },
  {
   "cell_type": "code",
   "execution_count": 53,
   "metadata": {},
   "outputs": [],
   "source": [
    "# Japanese\n",
    "for i in range(1,10):\n",
    "    url = 'http://packus.co.kr/goods/goods_list.php?page='+str(i)+'&cateCd=040'\n",
    "    resp = requests.get(url)\n",
    "    soup = bs(resp.text)\n",
    "    soup2 = soup.find_all('strong',class_='item_name')\n",
    "    for i in range(len(soup2)):\n",
    "        japanese.append(soup2[i].get_text())"
   ]
  },
  {
   "cell_type": "code",
   "execution_count": 56,
   "metadata": {},
   "outputs": [],
   "source": [
    "# western 8\n",
    "for i in range(1,9):\n",
    "    url = 'http://packus.co.kr/goods/goods_list.php?page='+str(i)+'&cateCd=041'\n",
    "    resp = requests.get(url)\n",
    "    soup = bs(resp.text)\n",
    "    soup2 = soup.find_all('strong',class_='item_name')\n",
    "    for i in range(len(soup2)):\n",
    "        western.append(soup2[i].get_text())\n",
    "        \n",
    "# sealing 3\n",
    "for i in range(1,4):\n",
    "    url = 'http://packus.co.kr/goods/goods_list.php?page='+str(i)+'&cateCd=042'\n",
    "    resp = requests.get(url)\n",
    "    soup = bs(resp.text)\n",
    "    soup2 = soup.find_all('strong',class_='item_name')\n",
    "    for i in range(len(soup2)):\n",
    "        sealing.append(soup2[i].get_text())\n",
    "        \n",
    "# bakerycafe 4\n",
    "for i in range(1,5):\n",
    "    url = 'http://packus.co.kr/goods/goods_list.php?page='+str(i)+'&cateCd=043'\n",
    "    resp = requests.get(url)\n",
    "    soup = bs(resp.text)\n",
    "    soup2 = soup.find_all('strong',class_='item_name')\n",
    "    for i in range(len(soup2)):\n",
    "        bakerycafe.append(soup2[i].get_text())\n",
    "        \n",
    "# agri 2\n",
    "for i in range(1,3):\n",
    "    url = 'http://packus.co.kr/goods/goods_list.php?page='+str(i)+'&cateCd=044'\n",
    "    resp = requests.get(url)\n",
    "    soup = bs(resp.text)\n",
    "    soup2 = soup.find_all('strong',class_='item_name')\n",
    "    for i in range(len(soup2)):\n",
    "        agri.append(soup2[i].get_text())\n",
    "        \n",
    "# kitchen 11\n",
    "for i in range(1,12):\n",
    "    url = 'http://packus.co.kr/goods/goods_list.php?page='+str(i)+'&cateCd=046'\n",
    "    resp = requests.get(url)\n",
    "    soup = bs(resp.text)\n",
    "    soup2 = soup.find_all('strong',class_='item_name')\n",
    "    for i in range(len(soup2)):\n",
    "        kitchen.append(soup2[i].get_text())\n",
    "        \n",
    "# sticker 1\n",
    "for i in range(1,2):\n",
    "    url = 'http://packus.co.kr/goods/goods_list.php?page='+str(i)+'&cateCd=051'\n",
    "    resp = requests.get(url)\n",
    "    soup = bs(resp.text)\n",
    "    soup2 = soup.find_all('strong',class_='item_name')\n",
    "    for i in range(len(soup2)):\n",
    "        sticker.append(soup2[i].get_text())\n",
    "        \n",
    "# small 1\n",
    "for i in range(1,2):\n",
    "    url = 'http://packus.co.kr/goods/goods_list.php?page='+str(i)+'&cateCd=053'\n",
    "    resp = requests.get(url)\n",
    "    soup = bs(resp.text)\n",
    "    soup2 = soup.find_all('strong',class_='item_name')\n",
    "    for i in range(len(soup2)):\n",
    "        small.append(soup2[i].get_text())"
   ]
  },
  {
   "cell_type": "code",
   "execution_count": 81,
   "metadata": {},
   "outputs": [],
   "source": [
    "cat = pd.concat([pd.DataFrame(best),\n",
    "           pd.DataFrame(chinese),\n",
    "          pd.DataFrame(japanese),\n",
    "          pd.DataFrame(korean),\n",
    "          pd.DataFrame(western),\n",
    "          pd.DataFrame(sealing),\n",
    "          pd.DataFrame(bakerycafe),\n",
    "          pd.DataFrame(agri),\n",
    "          pd.DataFrame(kitchen),\n",
    "          pd.DataFrame(sticker),\n",
    "          pd.DataFrame(small)], axis=1)"
   ]
  },
  {
   "cell_type": "code",
   "execution_count": 83,
   "metadata": {},
   "outputs": [],
   "source": [
    " cat.columns = ['best','chinese','japanese','korean','western','sealing','bakerycafe','agri','kitchen','sticker','small']"
   ]
  },
  {
   "cell_type": "code",
   "execution_count": 86,
   "metadata": {},
   "outputs": [],
   "source": [
    "cat.to_csv('product_category.csv')"
   ]
  },
  {
   "cell_type": "code",
   "execution_count": null,
   "metadata": {},
   "outputs": [],
   "source": []
  },
  {
   "cell_type": "code",
   "execution_count": null,
   "metadata": {},
   "outputs": [],
   "source": []
  },
  {
   "cell_type": "code",
   "execution_count": null,
   "metadata": {},
   "outputs": [],
   "source": []
  },
  {
   "cell_type": "code",
   "execution_count": null,
   "metadata": {},
   "outputs": [],
   "source": []
  }
 ],
 "metadata": {
  "kernelspec": {
   "display_name": "Python 3",
   "language": "python",
   "name": "python3"
  },
  "language_info": {
   "codemirror_mode": {
    "name": "ipython",
    "version": 3
   },
   "file_extension": ".py",
   "mimetype": "text/x-python",
   "name": "python",
   "nbconvert_exporter": "python",
   "pygments_lexer": "ipython3",
   "version": "3.6.9"
  }
 },
 "nbformat": 4,
 "nbformat_minor": 2
}
