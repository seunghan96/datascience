{
 "cells": [
  {
   "cell_type": "code",
   "execution_count": 1,
   "metadata": {},
   "outputs": [],
   "source": [
    "import pandas as pd\n",
    "import numpy as np\n",
    "import seaborn as sns\n",
    "import warnings\n",
    "warnings.filterwarnings('ignore')"
   ]
  },
  {
   "cell_type": "code",
   "execution_count": 2,
   "metadata": {},
   "outputs": [],
   "source": [
    "import pandas_profiling"
   ]
  },
  {
   "cell_type": "code",
   "execution_count": 3,
   "metadata": {},
   "outputs": [],
   "source": [
    "from mpl_toolkits.mplot3d import axes3d, Axes3D"
   ]
  },
  {
   "cell_type": "code",
   "execution_count": 4,
   "metadata": {},
   "outputs": [],
   "source": [
    "import matplotlib.pyplot as plt\n",
    "from matplotlib import font_manager, rc, rcParams\n",
    "\n",
    "def set_korea_font():\n",
    "    font_name = font_manager.FontProperties(fname=\"c:/Windows/Fonts/malgun.ttf\").get_name()\n",
    "    rc('font', family=font_name)\n",
    "    rcParams.update({'font.size': 11})\n",
    "    rcParams['axes.unicode_minus'] = False  \n",
    "set_korea_font()"
   ]
  },
  {
   "cell_type": "markdown",
   "metadata": {},
   "source": [
    "## < Clustering할 최종 USER data >\n",
    "- 5094명의 data\n",
    "\n",
    "> NUMERIC\n",
    "- 1) 누적 주문 건수\n",
    "- 2) 총 사용 적립금\n",
    "- 3) 총 실주문 건수\n",
    "- 4) 총 구매금액\n",
    "- 5) 주문 경로 ( = PC/모바일 주문 비율 ( PC 비율로 표기 ) )\n",
    "- 6) 쿠폰 할인금액\n",
    "- 7) 이용기간 ( 회원가입일~최종접속일 )\n",
    "- 8) 최근 접속까지의 일 수 ( 2019.10.10 - 최근접속 )\n",
    "\n",
    "> BOOLEAN\n",
    "- 9) 추천인 아이디 유무 (0,1)\n",
    "- 10) 평생회원 여부 (0,1)\n",
    "\n",
    "> CATEGORICAL -> ONE HOT ENCODING하기\n",
    "- 11) 회원 구분 ( 개인 / 사업자 ) \n",
    "- 12) 회원 등급 ( 일반 / 전화주문 / 사업자 / 기타 )\n",
    "- 13) 회원 가입 경로 ( 인쇄물 / 인터넷 / 기타 / 없음 )"
   ]
  },
  {
   "cell_type": "markdown",
   "metadata": {},
   "source": [
    "# FOUR DATA"
   ]
  },
  {
   "cell_type": "markdown",
   "metadata": {},
   "source": [
    "### 1) user : dummy화 X, scaling X\n",
    "### 2) user_dm : dummy화 O , scaling X\n",
    "### 3) user_dmsc : dummy화 O, scaling O\n",
    "### 4) pcadf : pc 8개로 차원축소한 data"
   ]
  },
  {
   "cell_type": "code",
   "execution_count": 5,
   "metadata": {},
   "outputs": [],
   "source": [
    "user = pd.read_csv('usersummary.csv')"
   ]
  },
  {
   "cell_type": "code",
   "execution_count": 6,
   "metadata": {},
   "outputs": [],
   "source": [
    "user = user.set_index('아이디')"
   ]
  },
  {
   "cell_type": "code",
   "execution_count": 30,
   "metadata": {},
   "outputs": [
    {
     "data": {
      "text/html": [
       "<div>\n",
       "<style scoped>\n",
       "    .dataframe tbody tr th:only-of-type {\n",
       "        vertical-align: middle;\n",
       "    }\n",
       "\n",
       "    .dataframe tbody tr th {\n",
       "        vertical-align: top;\n",
       "    }\n",
       "\n",
       "    .dataframe thead th {\n",
       "        text-align: right;\n",
       "    }\n",
       "</style>\n",
       "<table border=\"1\" class=\"dataframe\">\n",
       "  <thead>\n",
       "    <tr style=\"text-align: right;\">\n",
       "      <th></th>\n",
       "      <th>누적주문건수</th>\n",
       "      <th>총 사용 적립금</th>\n",
       "      <th>총구매금액</th>\n",
       "      <th>추천인아이디</th>\n",
       "      <th>평생회원</th>\n",
       "      <th>회원구분_x</th>\n",
       "      <th>회원등급</th>\n",
       "      <th>회원추가항목_가입경로</th>\n",
       "      <th>PC_</th>\n",
       "      <th>주문서 쿠폰 할인금액</th>\n",
       "      <th>이용기간</th>\n",
       "      <th>최근접속</th>\n",
       "    </tr>\n",
       "    <tr>\n",
       "      <th>아이디</th>\n",
       "      <th></th>\n",
       "      <th></th>\n",
       "      <th></th>\n",
       "      <th></th>\n",
       "      <th></th>\n",
       "      <th></th>\n",
       "      <th></th>\n",
       "      <th></th>\n",
       "      <th></th>\n",
       "      <th></th>\n",
       "      <th></th>\n",
       "      <th></th>\n",
       "    </tr>\n",
       "  </thead>\n",
       "  <tbody>\n",
       "    <tr>\n",
       "      <th>cgh1385</th>\n",
       "      <td>1.0</td>\n",
       "      <td>0.0</td>\n",
       "      <td>70500.0</td>\n",
       "      <td>0</td>\n",
       "      <td>0.0</td>\n",
       "      <td>개인</td>\n",
       "      <td>일반</td>\n",
       "      <td>없음</td>\n",
       "      <td>0.666667</td>\n",
       "      <td>0.0</td>\n",
       "      <td>1</td>\n",
       "      <td>1032</td>\n",
       "    </tr>\n",
       "    <tr>\n",
       "      <th>pjkl77</th>\n",
       "      <td>3.0</td>\n",
       "      <td>0.0</td>\n",
       "      <td>63000.0</td>\n",
       "      <td>0</td>\n",
       "      <td>0.0</td>\n",
       "      <td>사업자</td>\n",
       "      <td>사업자</td>\n",
       "      <td>없음</td>\n",
       "      <td>0.555556</td>\n",
       "      <td>8000.0</td>\n",
       "      <td>43</td>\n",
       "      <td>977</td>\n",
       "    </tr>\n",
       "    <tr>\n",
       "      <th>bear011</th>\n",
       "      <td>37.0</td>\n",
       "      <td>31900.0</td>\n",
       "      <td>2870970.0</td>\n",
       "      <td>0</td>\n",
       "      <td>0.0</td>\n",
       "      <td>사업자</td>\n",
       "      <td>사업자</td>\n",
       "      <td>없음</td>\n",
       "      <td>0.867925</td>\n",
       "      <td>0.0</td>\n",
       "      <td>701</td>\n",
       "      <td>316</td>\n",
       "    </tr>\n",
       "    <tr>\n",
       "      <th>kim0750</th>\n",
       "      <td>1.0</td>\n",
       "      <td>0.0</td>\n",
       "      <td>77700.0</td>\n",
       "      <td>0</td>\n",
       "      <td>0.0</td>\n",
       "      <td>사업자</td>\n",
       "      <td>사업자</td>\n",
       "      <td>없음</td>\n",
       "      <td>1.000000</td>\n",
       "      <td>5000.0</td>\n",
       "      <td>0</td>\n",
       "      <td>1016</td>\n",
       "    </tr>\n",
       "    <tr>\n",
       "      <th>nonane9979</th>\n",
       "      <td>3.0</td>\n",
       "      <td>0.0</td>\n",
       "      <td>238900.0</td>\n",
       "      <td>0</td>\n",
       "      <td>0.0</td>\n",
       "      <td>사업자</td>\n",
       "      <td>사업자</td>\n",
       "      <td>없음</td>\n",
       "      <td>0.875000</td>\n",
       "      <td>0.0</td>\n",
       "      <td>26</td>\n",
       "      <td>990</td>\n",
       "    </tr>\n",
       "  </tbody>\n",
       "</table>\n",
       "</div>"
      ],
      "text/plain": [
       "            누적주문건수  총 사용 적립금      총구매금액  추천인아이디  평생회원 회원구분_x 회원등급 회원추가항목_가입경로  \\\n",
       "아이디                                                                             \n",
       "cgh1385        1.0       0.0    70500.0       0   0.0     개인   일반          없음   \n",
       "pjkl77         3.0       0.0    63000.0       0   0.0    사업자  사업자          없음   \n",
       "bear011       37.0   31900.0  2870970.0       0   0.0    사업자  사업자          없음   \n",
       "kim0750        1.0       0.0    77700.0       0   0.0    사업자  사업자          없음   \n",
       "nonane9979     3.0       0.0   238900.0       0   0.0    사업자  사업자          없음   \n",
       "\n",
       "                 PC_  주문서 쿠폰 할인금액  이용기간  최근접속  \n",
       "아이디                                            \n",
       "cgh1385     0.666667          0.0     1  1032  \n",
       "pjkl77      0.555556       8000.0    43   977  \n",
       "bear011     0.867925          0.0   701   316  \n",
       "kim0750     1.000000       5000.0     0  1016  \n",
       "nonane9979  0.875000          0.0    26   990  "
      ]
     },
     "execution_count": 30,
     "metadata": {},
     "output_type": "execute_result"
    }
   ],
   "source": [
    "user.head()"
   ]
  },
  {
   "cell_type": "code",
   "execution_count": 31,
   "metadata": {},
   "outputs": [
    {
     "data": {
      "text/plain": [
       "(5094, 12)"
      ]
     },
     "execution_count": 31,
     "metadata": {},
     "output_type": "execute_result"
    }
   ],
   "source": [
    "user.shape"
   ]
  },
  {
   "cell_type": "markdown",
   "metadata": {},
   "source": [
    "pandas_profiling.ProfileReport(user)"
   ]
  },
  {
   "cell_type": "markdown",
   "metadata": {},
   "source": [
    "### One-hot Encoding"
   ]
  },
  {
   "cell_type": "code",
   "execution_count": 8,
   "metadata": {},
   "outputs": [],
   "source": [
    "# 5094명 중, 특별회원/딜러/관리자는 각각 12, 2, 2명밖에 없음 -> \"기타\"로 처리\n",
    "user['회원등급'][(user['회원등급']=='특별회원')|(user['회원등급']=='딜러')|(user['회원등급']=='관리자')] = '기타'"
   ]
  },
  {
   "cell_type": "code",
   "execution_count": 9,
   "metadata": {},
   "outputs": [],
   "source": [
    "a1= pd.get_dummies(user.iloc[:,5],prefix='회원 구분')\n",
    "a2 = pd.get_dummies(user.iloc[:,6],prefix='회원 등급')\n",
    "a3 = pd.get_dummies(user.iloc[:,7],prefix='가입 경로')"
   ]
  },
  {
   "cell_type": "code",
   "execution_count": 10,
   "metadata": {},
   "outputs": [],
   "source": [
    "user_dm = pd.concat([user,a1,a2,a3],axis=1)"
   ]
  },
  {
   "cell_type": "code",
   "execution_count": 11,
   "metadata": {},
   "outputs": [],
   "source": [
    "user_dm = user_dm.drop(['회원구분_x','회원등급','회원추가항목_가입경로'],axis=1)"
   ]
  },
  {
   "cell_type": "code",
   "execution_count": 12,
   "metadata": {},
   "outputs": [
    {
     "data": {
      "text/plain": [
       "(5094, 22)"
      ]
     },
     "execution_count": 12,
     "metadata": {},
     "output_type": "execute_result"
    }
   ],
   "source": [
    "user_dm.shape"
   ]
  },
  {
   "cell_type": "code",
   "execution_count": 32,
   "metadata": {},
   "outputs": [
    {
     "data": {
      "text/plain": [
       "Index(['누적주문건수', '총 사용 적립금', '총구매금액', '추천인아이디', '평생회원', 'PC_', '주문서 쿠폰 할인금액',\n",
       "       '이용기간', '최근접속', '회원 구분_개인', '회원 구분_사업자', '회원 등급_기타', '회원 등급_딜러 유치 회원',\n",
       "       '회원 등급_사업자', '회원 등급_일반', '회원 등급_전화주문 고객', '가입 경로_기타', '가입 경로_없음',\n",
       "       '가입 경로_인터넷 검색', '가입 경로_잡지를 통해', '가입 경로_전단지 인쇄물을 통해', '가입 경로_지인 추천을 통해'],\n",
       "      dtype='object')"
      ]
     },
     "execution_count": 32,
     "metadata": {},
     "output_type": "execute_result"
    }
   ],
   "source": [
    "user_dm.columns"
   ]
  },
  {
   "cell_type": "code",
   "execution_count": 13,
   "metadata": {},
   "outputs": [
    {
     "data": {
      "text/html": [
       "<div>\n",
       "<style scoped>\n",
       "    .dataframe tbody tr th:only-of-type {\n",
       "        vertical-align: middle;\n",
       "    }\n",
       "\n",
       "    .dataframe tbody tr th {\n",
       "        vertical-align: top;\n",
       "    }\n",
       "\n",
       "    .dataframe thead th {\n",
       "        text-align: right;\n",
       "    }\n",
       "</style>\n",
       "<table border=\"1\" class=\"dataframe\">\n",
       "  <thead>\n",
       "    <tr style=\"text-align: right;\">\n",
       "      <th></th>\n",
       "      <th>누적주문건수</th>\n",
       "      <th>총 사용 적립금</th>\n",
       "      <th>총구매금액</th>\n",
       "      <th>추천인아이디</th>\n",
       "      <th>평생회원</th>\n",
       "      <th>PC_</th>\n",
       "      <th>주문서 쿠폰 할인금액</th>\n",
       "      <th>이용기간</th>\n",
       "      <th>최근접속</th>\n",
       "      <th>회원 구분_개인</th>\n",
       "      <th>...</th>\n",
       "      <th>회원 등급_딜러 유치 회원</th>\n",
       "      <th>회원 등급_사업자</th>\n",
       "      <th>회원 등급_일반</th>\n",
       "      <th>회원 등급_전화주문 고객</th>\n",
       "      <th>가입 경로_기타</th>\n",
       "      <th>가입 경로_없음</th>\n",
       "      <th>가입 경로_인터넷 검색</th>\n",
       "      <th>가입 경로_잡지를 통해</th>\n",
       "      <th>가입 경로_전단지 인쇄물을 통해</th>\n",
       "      <th>가입 경로_지인 추천을 통해</th>\n",
       "    </tr>\n",
       "  </thead>\n",
       "  <tbody>\n",
       "    <tr>\n",
       "      <th>count</th>\n",
       "      <td>5094.00000</td>\n",
       "      <td>5094.000000</td>\n",
       "      <td>5.094000e+03</td>\n",
       "      <td>5094.000000</td>\n",
       "      <td>5094.000000</td>\n",
       "      <td>5094.000000</td>\n",
       "      <td>5.094000e+03</td>\n",
       "      <td>5094.000000</td>\n",
       "      <td>5094.000000</td>\n",
       "      <td>5094.000000</td>\n",
       "      <td>...</td>\n",
       "      <td>5094.000000</td>\n",
       "      <td>5094.00000</td>\n",
       "      <td>5094.000000</td>\n",
       "      <td>5094.000000</td>\n",
       "      <td>5094.000000</td>\n",
       "      <td>5094.000000</td>\n",
       "      <td>5094.000000</td>\n",
       "      <td>5094.000000</td>\n",
       "      <td>5094.000000</td>\n",
       "      <td>5094.000000</td>\n",
       "    </tr>\n",
       "    <tr>\n",
       "      <th>mean</th>\n",
       "      <td>8.54947</td>\n",
       "      <td>3485.254024</td>\n",
       "      <td>6.258606e+05</td>\n",
       "      <td>0.030624</td>\n",
       "      <td>0.488810</td>\n",
       "      <td>0.583091</td>\n",
       "      <td>1.944321e+03</td>\n",
       "      <td>102.453867</td>\n",
       "      <td>313.302905</td>\n",
       "      <td>0.637417</td>\n",
       "      <td>...</td>\n",
       "      <td>0.018453</td>\n",
       "      <td>0.31115</td>\n",
       "      <td>0.341775</td>\n",
       "      <td>0.325481</td>\n",
       "      <td>0.035925</td>\n",
       "      <td>0.663918</td>\n",
       "      <td>0.069690</td>\n",
       "      <td>0.064389</td>\n",
       "      <td>0.110718</td>\n",
       "      <td>0.055359</td>\n",
       "    </tr>\n",
       "    <tr>\n",
       "      <th>std</th>\n",
       "      <td>16.78540</td>\n",
       "      <td>18544.824818</td>\n",
       "      <td>1.400586e+06</td>\n",
       "      <td>0.172314</td>\n",
       "      <td>0.499924</td>\n",
       "      <td>0.320531</td>\n",
       "      <td>3.458667e+04</td>\n",
       "      <td>140.001258</td>\n",
       "      <td>172.656431</td>\n",
       "      <td>0.480793</td>\n",
       "      <td>...</td>\n",
       "      <td>0.134596</td>\n",
       "      <td>0.46301</td>\n",
       "      <td>0.474351</td>\n",
       "      <td>0.468600</td>\n",
       "      <td>0.186120</td>\n",
       "      <td>0.472414</td>\n",
       "      <td>0.254649</td>\n",
       "      <td>0.245470</td>\n",
       "      <td>0.313814</td>\n",
       "      <td>0.228703</td>\n",
       "    </tr>\n",
       "    <tr>\n",
       "      <th>min</th>\n",
       "      <td>1.00000</td>\n",
       "      <td>0.000000</td>\n",
       "      <td>1.320000e+03</td>\n",
       "      <td>0.000000</td>\n",
       "      <td>0.000000</td>\n",
       "      <td>0.000000</td>\n",
       "      <td>0.000000e+00</td>\n",
       "      <td>0.000000</td>\n",
       "      <td>93.000000</td>\n",
       "      <td>0.000000</td>\n",
       "      <td>...</td>\n",
       "      <td>0.000000</td>\n",
       "      <td>0.00000</td>\n",
       "      <td>0.000000</td>\n",
       "      <td>0.000000</td>\n",
       "      <td>0.000000</td>\n",
       "      <td>0.000000</td>\n",
       "      <td>0.000000</td>\n",
       "      <td>0.000000</td>\n",
       "      <td>0.000000</td>\n",
       "      <td>0.000000</td>\n",
       "    </tr>\n",
       "    <tr>\n",
       "      <th>25%</th>\n",
       "      <td>2.00000</td>\n",
       "      <td>0.000000</td>\n",
       "      <td>9.766750e+04</td>\n",
       "      <td>0.000000</td>\n",
       "      <td>0.000000</td>\n",
       "      <td>0.333333</td>\n",
       "      <td>0.000000e+00</td>\n",
       "      <td>0.000000</td>\n",
       "      <td>177.000000</td>\n",
       "      <td>0.000000</td>\n",
       "      <td>...</td>\n",
       "      <td>0.000000</td>\n",
       "      <td>0.00000</td>\n",
       "      <td>0.000000</td>\n",
       "      <td>0.000000</td>\n",
       "      <td>0.000000</td>\n",
       "      <td>0.000000</td>\n",
       "      <td>0.000000</td>\n",
       "      <td>0.000000</td>\n",
       "      <td>0.000000</td>\n",
       "      <td>0.000000</td>\n",
       "    </tr>\n",
       "    <tr>\n",
       "      <th>50%</th>\n",
       "      <td>3.00000</td>\n",
       "      <td>0.000000</td>\n",
       "      <td>2.096750e+05</td>\n",
       "      <td>0.000000</td>\n",
       "      <td>0.000000</td>\n",
       "      <td>0.547727</td>\n",
       "      <td>0.000000e+00</td>\n",
       "      <td>27.000000</td>\n",
       "      <td>247.000000</td>\n",
       "      <td>1.000000</td>\n",
       "      <td>...</td>\n",
       "      <td>0.000000</td>\n",
       "      <td>0.00000</td>\n",
       "      <td>0.000000</td>\n",
       "      <td>0.000000</td>\n",
       "      <td>0.000000</td>\n",
       "      <td>1.000000</td>\n",
       "      <td>0.000000</td>\n",
       "      <td>0.000000</td>\n",
       "      <td>0.000000</td>\n",
       "      <td>0.000000</td>\n",
       "    </tr>\n",
       "    <tr>\n",
       "      <th>75%</th>\n",
       "      <td>8.00000</td>\n",
       "      <td>0.000000</td>\n",
       "      <td>5.551250e+05</td>\n",
       "      <td>0.000000</td>\n",
       "      <td>1.000000</td>\n",
       "      <td>0.857143</td>\n",
       "      <td>0.000000e+00</td>\n",
       "      <td>170.000000</td>\n",
       "      <td>399.000000</td>\n",
       "      <td>1.000000</td>\n",
       "      <td>...</td>\n",
       "      <td>0.000000</td>\n",
       "      <td>1.00000</td>\n",
       "      <td>1.000000</td>\n",
       "      <td>1.000000</td>\n",
       "      <td>0.000000</td>\n",
       "      <td>1.000000</td>\n",
       "      <td>0.000000</td>\n",
       "      <td>0.000000</td>\n",
       "      <td>0.000000</td>\n",
       "      <td>0.000000</td>\n",
       "    </tr>\n",
       "    <tr>\n",
       "      <th>max</th>\n",
       "      <td>295.00000</td>\n",
       "      <td>537270.000000</td>\n",
       "      <td>2.848858e+07</td>\n",
       "      <td>1.000000</td>\n",
       "      <td>1.000000</td>\n",
       "      <td>1.000000</td>\n",
       "      <td>2.279240e+06</td>\n",
       "      <td>819.000000</td>\n",
       "      <td>1032.000000</td>\n",
       "      <td>1.000000</td>\n",
       "      <td>...</td>\n",
       "      <td>1.000000</td>\n",
       "      <td>1.00000</td>\n",
       "      <td>1.000000</td>\n",
       "      <td>1.000000</td>\n",
       "      <td>1.000000</td>\n",
       "      <td>1.000000</td>\n",
       "      <td>1.000000</td>\n",
       "      <td>1.000000</td>\n",
       "      <td>1.000000</td>\n",
       "      <td>1.000000</td>\n",
       "    </tr>\n",
       "  </tbody>\n",
       "</table>\n",
       "<p>8 rows × 22 columns</p>\n",
       "</div>"
      ],
      "text/plain": [
       "           누적주문건수       총 사용 적립금         총구매금액       추천인아이디         평생회원  \\\n",
       "count  5094.00000    5094.000000  5.094000e+03  5094.000000  5094.000000   \n",
       "mean      8.54947    3485.254024  6.258606e+05     0.030624     0.488810   \n",
       "std      16.78540   18544.824818  1.400586e+06     0.172314     0.499924   \n",
       "min       1.00000       0.000000  1.320000e+03     0.000000     0.000000   \n",
       "25%       2.00000       0.000000  9.766750e+04     0.000000     0.000000   \n",
       "50%       3.00000       0.000000  2.096750e+05     0.000000     0.000000   \n",
       "75%       8.00000       0.000000  5.551250e+05     0.000000     1.000000   \n",
       "max     295.00000  537270.000000  2.848858e+07     1.000000     1.000000   \n",
       "\n",
       "               PC_   주문서 쿠폰 할인금액         이용기간         최근접속     회원 구분_개인  \\\n",
       "count  5094.000000  5.094000e+03  5094.000000  5094.000000  5094.000000   \n",
       "mean      0.583091  1.944321e+03   102.453867   313.302905     0.637417   \n",
       "std       0.320531  3.458667e+04   140.001258   172.656431     0.480793   \n",
       "min       0.000000  0.000000e+00     0.000000    93.000000     0.000000   \n",
       "25%       0.333333  0.000000e+00     0.000000   177.000000     0.000000   \n",
       "50%       0.547727  0.000000e+00    27.000000   247.000000     1.000000   \n",
       "75%       0.857143  0.000000e+00   170.000000   399.000000     1.000000   \n",
       "max       1.000000  2.279240e+06   819.000000  1032.000000     1.000000   \n",
       "\n",
       "            ...         회원 등급_딜러 유치 회원   회원 등급_사업자     회원 등급_일반  \\\n",
       "count       ...            5094.000000  5094.00000  5094.000000   \n",
       "mean        ...               0.018453     0.31115     0.341775   \n",
       "std         ...               0.134596     0.46301     0.474351   \n",
       "min         ...               0.000000     0.00000     0.000000   \n",
       "25%         ...               0.000000     0.00000     0.000000   \n",
       "50%         ...               0.000000     0.00000     0.000000   \n",
       "75%         ...               0.000000     1.00000     1.000000   \n",
       "max         ...               1.000000     1.00000     1.000000   \n",
       "\n",
       "       회원 등급_전화주문 고객     가입 경로_기타     가입 경로_없음  가입 경로_인터넷 검색  가입 경로_잡지를 통해  \\\n",
       "count    5094.000000  5094.000000  5094.000000   5094.000000   5094.000000   \n",
       "mean        0.325481     0.035925     0.663918      0.069690      0.064389   \n",
       "std         0.468600     0.186120     0.472414      0.254649      0.245470   \n",
       "min         0.000000     0.000000     0.000000      0.000000      0.000000   \n",
       "25%         0.000000     0.000000     0.000000      0.000000      0.000000   \n",
       "50%         0.000000     0.000000     1.000000      0.000000      0.000000   \n",
       "75%         1.000000     0.000000     1.000000      0.000000      0.000000   \n",
       "max         1.000000     1.000000     1.000000      1.000000      1.000000   \n",
       "\n",
       "       가입 경로_전단지 인쇄물을 통해  가입 경로_지인 추천을 통해  \n",
       "count        5094.000000      5094.000000  \n",
       "mean            0.110718         0.055359  \n",
       "std             0.313814         0.228703  \n",
       "min             0.000000         0.000000  \n",
       "25%             0.000000         0.000000  \n",
       "50%             0.000000         0.000000  \n",
       "75%             0.000000         0.000000  \n",
       "max             1.000000         1.000000  \n",
       "\n",
       "[8 rows x 22 columns]"
      ]
     },
     "execution_count": 13,
     "metadata": {},
     "output_type": "execute_result"
    }
   ],
   "source": [
    "user_dm.describe()"
   ]
  },
  {
   "cell_type": "code",
   "execution_count": 14,
   "metadata": {},
   "outputs": [],
   "source": [
    "user_dm.to_csv('user_dummyO_scalingX.csv')"
   ]
  },
  {
   "cell_type": "markdown",
   "metadata": {},
   "source": [
    "### Scaling"
   ]
  },
  {
   "cell_type": "code",
   "execution_count": 15,
   "metadata": {},
   "outputs": [],
   "source": [
    "from sklearn.preprocessing import StandardScaler"
   ]
  },
  {
   "cell_type": "code",
   "execution_count": 16,
   "metadata": {},
   "outputs": [],
   "source": [
    "sc = StandardScaler()\n",
    "sc.fit(user_dm[['누적주문건수','총 사용 적립금','총구매금액','주문서 쿠폰 할인금액','이용기간','최근접속']])\n",
    "user_scaled = sc.fit_transform(user_dm[['누적주문건수','총 사용 적립금','총구매금액','주문서 쿠폰 할인금액','이용기간','최근접속']])"
   ]
  },
  {
   "cell_type": "code",
   "execution_count": 17,
   "metadata": {},
   "outputs": [],
   "source": [
    "user_dmsc = user_dm.copy()\n",
    "user_dmsc[['누적주문건수','총 사용 적립금','총구매금액','주문서 쿠폰 할인금액','이용기간','최근접속']] = user_scaled"
   ]
  },
  {
   "cell_type": "code",
   "execution_count": 18,
   "metadata": {},
   "outputs": [
    {
     "data": {
      "text/html": [
       "<div>\n",
       "<style scoped>\n",
       "    .dataframe tbody tr th:only-of-type {\n",
       "        vertical-align: middle;\n",
       "    }\n",
       "\n",
       "    .dataframe tbody tr th {\n",
       "        vertical-align: top;\n",
       "    }\n",
       "\n",
       "    .dataframe thead th {\n",
       "        text-align: right;\n",
       "    }\n",
       "</style>\n",
       "<table border=\"1\" class=\"dataframe\">\n",
       "  <thead>\n",
       "    <tr style=\"text-align: right;\">\n",
       "      <th></th>\n",
       "      <th>누적주문건수</th>\n",
       "      <th>총 사용 적립금</th>\n",
       "      <th>총구매금액</th>\n",
       "      <th>추천인아이디</th>\n",
       "      <th>평생회원</th>\n",
       "      <th>PC_</th>\n",
       "      <th>주문서 쿠폰 할인금액</th>\n",
       "      <th>이용기간</th>\n",
       "      <th>최근접속</th>\n",
       "      <th>회원 구분_개인</th>\n",
       "      <th>...</th>\n",
       "      <th>회원 등급_딜러 유치 회원</th>\n",
       "      <th>회원 등급_사업자</th>\n",
       "      <th>회원 등급_일반</th>\n",
       "      <th>회원 등급_전화주문 고객</th>\n",
       "      <th>가입 경로_기타</th>\n",
       "      <th>가입 경로_없음</th>\n",
       "      <th>가입 경로_인터넷 검색</th>\n",
       "      <th>가입 경로_잡지를 통해</th>\n",
       "      <th>가입 경로_전단지 인쇄물을 통해</th>\n",
       "      <th>가입 경로_지인 추천을 통해</th>\n",
       "    </tr>\n",
       "    <tr>\n",
       "      <th>아이디</th>\n",
       "      <th></th>\n",
       "      <th></th>\n",
       "      <th></th>\n",
       "      <th></th>\n",
       "      <th></th>\n",
       "      <th></th>\n",
       "      <th></th>\n",
       "      <th></th>\n",
       "      <th></th>\n",
       "      <th></th>\n",
       "      <th></th>\n",
       "      <th></th>\n",
       "      <th></th>\n",
       "      <th></th>\n",
       "      <th></th>\n",
       "      <th></th>\n",
       "      <th></th>\n",
       "      <th></th>\n",
       "      <th></th>\n",
       "      <th></th>\n",
       "      <th></th>\n",
       "    </tr>\n",
       "  </thead>\n",
       "  <tbody>\n",
       "    <tr>\n",
       "      <th>cgh1385</th>\n",
       "      <td>-0.449808</td>\n",
       "      <td>-0.187955</td>\n",
       "      <td>-0.396559</td>\n",
       "      <td>0</td>\n",
       "      <td>0.0</td>\n",
       "      <td>0.666667</td>\n",
       "      <td>-0.056221</td>\n",
       "      <td>-0.724735</td>\n",
       "      <td>4.162994</td>\n",
       "      <td>1</td>\n",
       "      <td>...</td>\n",
       "      <td>0</td>\n",
       "      <td>0</td>\n",
       "      <td>1</td>\n",
       "      <td>0</td>\n",
       "      <td>0</td>\n",
       "      <td>1</td>\n",
       "      <td>0</td>\n",
       "      <td>0</td>\n",
       "      <td>0</td>\n",
       "      <td>0</td>\n",
       "    </tr>\n",
       "    <tr>\n",
       "      <th>pjkl77</th>\n",
       "      <td>-0.330645</td>\n",
       "      <td>-0.187955</td>\n",
       "      <td>-0.401915</td>\n",
       "      <td>0</td>\n",
       "      <td>0.0</td>\n",
       "      <td>0.555556</td>\n",
       "      <td>0.175104</td>\n",
       "      <td>-0.424708</td>\n",
       "      <td>3.844411</td>\n",
       "      <td>0</td>\n",
       "      <td>...</td>\n",
       "      <td>0</td>\n",
       "      <td>1</td>\n",
       "      <td>0</td>\n",
       "      <td>0</td>\n",
       "      <td>0</td>\n",
       "      <td>1</td>\n",
       "      <td>0</td>\n",
       "      <td>0</td>\n",
       "      <td>0</td>\n",
       "      <td>0</td>\n",
       "    </tr>\n",
       "    <tr>\n",
       "      <th>bear011</th>\n",
       "      <td>1.695123</td>\n",
       "      <td>1.532370</td>\n",
       "      <td>1.603136</td>\n",
       "      <td>0</td>\n",
       "      <td>0.0</td>\n",
       "      <td>0.867925</td>\n",
       "      <td>-0.056221</td>\n",
       "      <td>4.275711</td>\n",
       "      <td>0.015623</td>\n",
       "      <td>0</td>\n",
       "      <td>...</td>\n",
       "      <td>0</td>\n",
       "      <td>1</td>\n",
       "      <td>0</td>\n",
       "      <td>0</td>\n",
       "      <td>0</td>\n",
       "      <td>1</td>\n",
       "      <td>0</td>\n",
       "      <td>0</td>\n",
       "      <td>0</td>\n",
       "      <td>0</td>\n",
       "    </tr>\n",
       "    <tr>\n",
       "      <th>kim0750</th>\n",
       "      <td>-0.449808</td>\n",
       "      <td>-0.187955</td>\n",
       "      <td>-0.391418</td>\n",
       "      <td>0</td>\n",
       "      <td>0.0</td>\n",
       "      <td>1.000000</td>\n",
       "      <td>0.088357</td>\n",
       "      <td>-0.731879</td>\n",
       "      <td>4.070315</td>\n",
       "      <td>0</td>\n",
       "      <td>...</td>\n",
       "      <td>0</td>\n",
       "      <td>1</td>\n",
       "      <td>0</td>\n",
       "      <td>0</td>\n",
       "      <td>0</td>\n",
       "      <td>1</td>\n",
       "      <td>0</td>\n",
       "      <td>0</td>\n",
       "      <td>0</td>\n",
       "      <td>0</td>\n",
       "    </tr>\n",
       "    <tr>\n",
       "      <th>nonane9979</th>\n",
       "      <td>-0.330645</td>\n",
       "      <td>-0.187955</td>\n",
       "      <td>-0.276312</td>\n",
       "      <td>0</td>\n",
       "      <td>0.0</td>\n",
       "      <td>0.875000</td>\n",
       "      <td>-0.056221</td>\n",
       "      <td>-0.546148</td>\n",
       "      <td>3.919712</td>\n",
       "      <td>0</td>\n",
       "      <td>...</td>\n",
       "      <td>0</td>\n",
       "      <td>1</td>\n",
       "      <td>0</td>\n",
       "      <td>0</td>\n",
       "      <td>0</td>\n",
       "      <td>1</td>\n",
       "      <td>0</td>\n",
       "      <td>0</td>\n",
       "      <td>0</td>\n",
       "      <td>0</td>\n",
       "    </tr>\n",
       "  </tbody>\n",
       "</table>\n",
       "<p>5 rows × 22 columns</p>\n",
       "</div>"
      ],
      "text/plain": [
       "              누적주문건수  총 사용 적립금     총구매금액  추천인아이디  평생회원       PC_  주문서 쿠폰 할인금액  \\\n",
       "아이디                                                                             \n",
       "cgh1385    -0.449808 -0.187955 -0.396559       0   0.0  0.666667    -0.056221   \n",
       "pjkl77     -0.330645 -0.187955 -0.401915       0   0.0  0.555556     0.175104   \n",
       "bear011     1.695123  1.532370  1.603136       0   0.0  0.867925    -0.056221   \n",
       "kim0750    -0.449808 -0.187955 -0.391418       0   0.0  1.000000     0.088357   \n",
       "nonane9979 -0.330645 -0.187955 -0.276312       0   0.0  0.875000    -0.056221   \n",
       "\n",
       "                이용기간      최근접속  회원 구분_개인       ...         회원 등급_딜러 유치 회원  \\\n",
       "아이디                                            ...                          \n",
       "cgh1385    -0.724735  4.162994         1       ...                      0   \n",
       "pjkl77     -0.424708  3.844411         0       ...                      0   \n",
       "bear011     4.275711  0.015623         0       ...                      0   \n",
       "kim0750    -0.731879  4.070315         0       ...                      0   \n",
       "nonane9979 -0.546148  3.919712         0       ...                      0   \n",
       "\n",
       "            회원 등급_사업자  회원 등급_일반  회원 등급_전화주문 고객  가입 경로_기타  가입 경로_없음  \\\n",
       "아이디                                                                  \n",
       "cgh1385             0         1              0         0         1   \n",
       "pjkl77              1         0              0         0         1   \n",
       "bear011             1         0              0         0         1   \n",
       "kim0750             1         0              0         0         1   \n",
       "nonane9979          1         0              0         0         1   \n",
       "\n",
       "            가입 경로_인터넷 검색  가입 경로_잡지를 통해  가입 경로_전단지 인쇄물을 통해  가입 경로_지인 추천을 통해  \n",
       "아이디                                                                         \n",
       "cgh1385                0             0                  0                0  \n",
       "pjkl77                 0             0                  0                0  \n",
       "bear011                0             0                  0                0  \n",
       "kim0750                0             0                  0                0  \n",
       "nonane9979             0             0                  0                0  \n",
       "\n",
       "[5 rows x 22 columns]"
      ]
     },
     "execution_count": 18,
     "metadata": {},
     "output_type": "execute_result"
    }
   ],
   "source": [
    "user_dmsc.head()"
   ]
  },
  {
   "cell_type": "markdown",
   "metadata": {},
   "source": [
    "### outlier 제거 ( Z값 +3,-3 바깥 )"
   ]
  },
  {
   "cell_type": "code",
   "execution_count": 19,
   "metadata": {},
   "outputs": [],
   "source": [
    "from scipy import stats\n",
    "\n",
    "for i in ['누적주문건수','총 사용 적립금','총구매금액','주문서 쿠폰 할인금액','이용기간','최근접속']:\n",
    "    user_dmsc = user_dmsc[np.abs(user_dmsc[i]-user_dmsc[i].mean()) <= (3*user_dmsc[i].std())]"
   ]
  },
  {
   "cell_type": "code",
   "execution_count": 20,
   "metadata": {},
   "outputs": [],
   "source": [
    "user_dmsc.to_csv('user_dummyO_scalingO.csv')"
   ]
  },
  {
   "cell_type": "code",
   "execution_count": 21,
   "metadata": {},
   "outputs": [
    {
     "data": {
      "text/plain": [
       "(4583, 22)"
      ]
     },
     "execution_count": 21,
     "metadata": {},
     "output_type": "execute_result"
    }
   ],
   "source": [
    "user_dmsc.shape"
   ]
  },
  {
   "cell_type": "code",
   "execution_count": null,
   "metadata": {},
   "outputs": [],
   "source": []
  },
  {
   "cell_type": "markdown",
   "metadata": {},
   "source": [
    "# MODELING\n",
    "- k-means ( simple )\n",
    "- hierarchical ( cluster간의 대분류/중분류/소분류 가능 )\n",
    "- SOM ( new data따라 계속 update 가능하므로 )"
   ]
  },
  {
   "cell_type": "code",
   "execution_count": 22,
   "metadata": {},
   "outputs": [],
   "source": [
    "from sklearn.decomposition import PCA\n",
    "\n",
    "from sklearn.cluster import KMeans\n",
    "from sklearn.cluster import AgglomerativeClustering\n",
    "from som import SOM"
   ]
  },
  {
   "cell_type": "code",
   "execution_count": 23,
   "metadata": {},
   "outputs": [],
   "source": [
    "#from sklearn.metrics import silhouette_score"
   ]
  },
  {
   "cell_type": "markdown",
   "metadata": {},
   "source": [
    "## < PCA >"
   ]
  },
  {
   "cell_type": "markdown",
   "metadata": {},
   "source": [
    "### 8개로 92%설명!"
   ]
  },
  {
   "cell_type": "code",
   "execution_count": 24,
   "metadata": {},
   "outputs": [],
   "source": [
    "pca = PCA(n_components=8)\n",
    "pca.fit(user_dmsc)\n",
    "pca_values = pca.transform(user_dmsc)"
   ]
  },
  {
   "cell_type": "code",
   "execution_count": 25,
   "metadata": {},
   "outputs": [
    {
     "data": {
      "text/plain": [
       "0.9"
      ]
     },
     "execution_count": 25,
     "metadata": {},
     "output_type": "execute_result"
    }
   ],
   "source": [
    "sum(pca.explained_variance_ratio_).round(2)"
   ]
  },
  {
   "cell_type": "code",
   "execution_count": 26,
   "metadata": {},
   "outputs": [
    {
     "data": {
      "image/png": "[encoded data removed]",
      "text/plain": [
       "<Figure size 432x288 with 1 Axes>"
      ]
     },
     "metadata": {},
     "output_type": "display_data"
    }
   ],
   "source": [
    "plt.figure(figsize=(6, 4))\n",
    "plt.bar(range(8),pca.explained_variance_ratio_, alpha=0.5, align='center', label='individual explained variance')\n",
    "\n",
    "plt.ylabel('Explained variance ratio')\n",
    "plt.xlabel('Principal components')\n",
    "plt.legend(loc='best')\n",
    "plt.show()"
   ]
  },
  {
   "cell_type": "code",
   "execution_count": 27,
   "metadata": {},
   "outputs": [
    {
     "data": {
      "text/html": [
       "<div>\n",
       "<style scoped>\n",
       "    .dataframe tbody tr th:only-of-type {\n",
       "        vertical-align: middle;\n",
       "    }\n",
       "\n",
       "    .dataframe tbody tr th {\n",
       "        vertical-align: top;\n",
       "    }\n",
       "\n",
       "    .dataframe thead th {\n",
       "        text-align: right;\n",
       "    }\n",
       "</style>\n",
       "<table border=\"1\" class=\"dataframe\">\n",
       "  <thead>\n",
       "    <tr style=\"text-align: right;\">\n",
       "      <th></th>\n",
       "      <th>pc1</th>\n",
       "      <th>pc2</th>\n",
       "      <th>pc3</th>\n",
       "      <th>pc4</th>\n",
       "      <th>pc5</th>\n",
       "      <th>pc6</th>\n",
       "      <th>pc7</th>\n",
       "      <th>pc8</th>\n",
       "    </tr>\n",
       "    <tr>\n",
       "      <th>아이디</th>\n",
       "      <th></th>\n",
       "      <th></th>\n",
       "      <th></th>\n",
       "      <th></th>\n",
       "      <th></th>\n",
       "      <th></th>\n",
       "      <th></th>\n",
       "      <th></th>\n",
       "    </tr>\n",
       "  </thead>\n",
       "  <tbody>\n",
       "    <tr>\n",
       "      <th>91559380</th>\n",
       "      <td>0.359893</td>\n",
       "      <td>-0.733428</td>\n",
       "      <td>2.474140</td>\n",
       "      <td>1.423490</td>\n",
       "      <td>-0.700689</td>\n",
       "      <td>-0.488936</td>\n",
       "      <td>-0.797622</td>\n",
       "      <td>0.034800</td>\n",
       "    </tr>\n",
       "    <tr>\n",
       "      <th>danbi531</th>\n",
       "      <td>-1.431374</td>\n",
       "      <td>-0.144208</td>\n",
       "      <td>2.212528</td>\n",
       "      <td>1.117344</td>\n",
       "      <td>-0.552615</td>\n",
       "      <td>-0.132613</td>\n",
       "      <td>-0.687181</td>\n",
       "      <td>0.071707</td>\n",
       "    </tr>\n",
       "    <tr>\n",
       "      <th>scsodamae</th>\n",
       "      <td>-0.783358</td>\n",
       "      <td>1.390950</td>\n",
       "      <td>2.603797</td>\n",
       "      <td>0.260452</td>\n",
       "      <td>-0.460697</td>\n",
       "      <td>0.464107</td>\n",
       "      <td>0.615058</td>\n",
       "      <td>-0.225362</td>\n",
       "    </tr>\n",
       "    <tr>\n",
       "      <th>ehfdl1108</th>\n",
       "      <td>-0.981171</td>\n",
       "      <td>1.298937</td>\n",
       "      <td>2.386230</td>\n",
       "      <td>0.006509</td>\n",
       "      <td>-0.530484</td>\n",
       "      <td>-0.543432</td>\n",
       "      <td>-0.107830</td>\n",
       "      <td>0.013430</td>\n",
       "    </tr>\n",
       "    <tr>\n",
       "      <th>wanya</th>\n",
       "      <td>-1.928318</td>\n",
       "      <td>0.072628</td>\n",
       "      <td>1.954450</td>\n",
       "      <td>1.096761</td>\n",
       "      <td>-0.551976</td>\n",
       "      <td>0.148392</td>\n",
       "      <td>-0.409228</td>\n",
       "      <td>-0.031211</td>\n",
       "    </tr>\n",
       "  </tbody>\n",
       "</table>\n",
       "</div>"
      ],
      "text/plain": [
       "                pc1       pc2       pc3       pc4       pc5       pc6  \\\n",
       "아이디                                                                     \n",
       "91559380   0.359893 -0.733428  2.474140  1.423490 -0.700689 -0.488936   \n",
       "danbi531  -1.431374 -0.144208  2.212528  1.117344 -0.552615 -0.132613   \n",
       "scsodamae -0.783358  1.390950  2.603797  0.260452 -0.460697  0.464107   \n",
       "ehfdl1108 -0.981171  1.298937  2.386230  0.006509 -0.530484 -0.543432   \n",
       "wanya     -1.928318  0.072628  1.954450  1.096761 -0.551976  0.148392   \n",
       "\n",
       "                pc7       pc8  \n",
       "아이디                            \n",
       "91559380  -0.797622  0.034800  \n",
       "danbi531  -0.687181  0.071707  \n",
       "scsodamae  0.615058 -0.225362  \n",
       "ehfdl1108 -0.107830  0.013430  \n",
       "wanya     -0.409228 -0.031211  "
      ]
     },
     "execution_count": 27,
     "metadata": {},
     "output_type": "execute_result"
    }
   ],
   "source": [
    "pcadf = pd.DataFrame(pca_values, columns = ['pc'+str(i) for i in range(1,9)])\n",
    "pcadf.head(5)\n",
    "pcadf.index = user_dmsc.index\n",
    "pcadf.head()"
   ]
  },
  {
   "cell_type": "code",
   "execution_count": 29,
   "metadata": {},
   "outputs": [],
   "source": [
    "pcadf.to_csv('pcadf.csv')"
   ]
  },
  {
   "cell_type": "markdown",
   "metadata": {},
   "source": [
    "# CLUSTERING"
   ]
  },
  {
   "cell_type": "code",
   "execution_count": 28,
   "metadata": {},
   "outputs": [],
   "source": [
    "import collections"
   ]
  },
  {
   "cell_type": "markdown",
   "metadata": {},
   "source": [
    "## 1) K-means"
   ]
  },
  {
   "cell_type": "code",
   "execution_count": null,
   "metadata": {},
   "outputs": [],
   "source": [
    "sse = [] # sum of squares error\n",
    "\n",
    "for i in range(3,12) :\n",
    "    kmeans = KMeans(n_clusters=i)\n",
    "    kmeans.fit(pcadf)\n",
    "    sse.append(kmeans.inertia_)"
   ]
  },
  {
   "cell_type": "markdown",
   "metadata": {},
   "source": [
    "#### 그래프만 봐서는 몇개가 최적인지 알기 어렵다.\n",
    "- k=4,5,6 정도로 다 해봐서 insight 발견할 수 있는 k로 설정하기!"
   ]
  },
  {
   "cell_type": "code",
   "execution_count": null,
   "metadata": {},
   "outputs": [],
   "source": [
    "plt.plot(range(3,12),sse)"
   ]
  },
  {
   "cell_type": "code",
   "execution_count": null,
   "metadata": {},
   "outputs": [],
   "source": [
    "k5 = KMeans(n_clusters=5)\n",
    "k5.fit(pcadf)"
   ]
  },
  {
   "cell_type": "code",
   "execution_count": null,
   "metadata": {},
   "outputs": [],
   "source": [
    "collections.Counter(k5.labels_)"
   ]
  },
  {
   "cell_type": "code",
   "execution_count": null,
   "metadata": {},
   "outputs": [],
   "source": [
    "pcadf_kmeans = pcadf.copy()\n",
    "pcadf_kmeans['cluster'] = k5.labels_"
   ]
  },
  {
   "cell_type": "code",
   "execution_count": null,
   "metadata": {},
   "outputs": [],
   "source": [
    "pcadf_kmeans['cluster'].value_counts()"
   ]
  },
  {
   "cell_type": "code",
   "execution_count": null,
   "metadata": {},
   "outputs": [],
   "source": [
    "plt.figure(figsize=(15,15))\n",
    "sns.scatterplot(x=\"pc1\", y=\"pc2\", hue=\"cluster\",palette=\"Set2\",data=pcadf_kmeans)"
   ]
  },
  {
   "cell_type": "code",
   "execution_count": null,
   "metadata": {},
   "outputs": [],
   "source": [
    "#ltns['cluster'] = pd.Series(kproto.labels_, index=ltns.index)"
   ]
  },
  {
   "cell_type": "markdown",
   "metadata": {},
   "source": [
    "## Hierarchical Clustering"
   ]
  },
  {
   "cell_type": "code",
   "execution_count": null,
   "metadata": {},
   "outputs": [],
   "source": [
    "h20 =AgglomerativeClustering(n_clusters=20)\n",
    "h20.fit(pcadf)"
   ]
  },
  {
   "cell_type": "code",
   "execution_count": null,
   "metadata": {},
   "outputs": [],
   "source": []
  },
  {
   "cell_type": "code",
   "execution_count": null,
   "metadata": {},
   "outputs": [],
   "source": [
    "from scipy.cluster.hierarchy import dendrogram, linkage"
   ]
  },
  {
   "cell_type": "code",
   "execution_count": null,
   "metadata": {},
   "outputs": [],
   "source": [
    "mergings = linkage(pcadf,method='complete')"
   ]
  },
  {
   "cell_type": "code",
   "execution_count": null,
   "metadata": {},
   "outputs": [],
   "source": []
  },
  {
   "cell_type": "markdown",
   "metadata": {},
   "source": [
    "## 3. SOM"
   ]
  },
  {
   "attachments": {
    "image.png": {
     "image/png": "[encoded data removed]"
    }
   },
   "cell_type": "markdown",
   "metadata": {},
   "source": [
    "### ![image.png](attachment:image.png)"
   ]
  },
  {
   "cell_type": "markdown",
   "metadata": {},
   "source": [
    "https://machinelearningnepal.com/2018/01/17/online-som/ "
   ]
  },
  {
   "cell_type": "code",
   "execution_count": null,
   "metadata": {},
   "outputs": [],
   "source": [
    "#from online_som import SOM\n",
    "from online_som import SOM"
   ]
  },
  {
   "cell_type": "code",
   "execution_count": null,
   "metadata": {},
   "outputs": [],
   "source": [
    "def predict3x3(df):\n",
    "    bmu, bmu_idx = agri_som.find_bmu(df.values)\n",
    "    df['bmu'] = bmu\n",
    "    df['bmu_idx'] = bmu_idx\n",
    "    return df"
   ]
  },
  {
   "cell_type": "code",
   "execution_count": null,
   "metadata": {},
   "outputs": [],
   "source": [
    "def predict2x2(df):\n",
    "    bmu, bmu_idx = agri_som2.find_bmu(df.values)\n",
    "    df['bmu'] = bmu\n",
    "    df['bmu_idx'] = bmu_idx\n",
    "    return df"
   ]
  },
  {
   "cell_type": "markdown",
   "metadata": {},
   "source": [
    "### 3x3"
   ]
  },
  {
   "cell_type": "code",
   "execution_count": null,
   "metadata": {},
   "outputs": [],
   "source": [
    "agri_som = SOM(3,3,8)\n",
    "agri_som.train(pcadf.values,\n",
    "          num_epochs=200,\n",
    "          init_learning_rate=0.01\n",
    "          )"
   ]
  },
  {
   "cell_type": "markdown",
   "metadata": {},
   "source": [
    "### 2x2"
   ]
  },
  {
   "cell_type": "code",
   "execution_count": null,
   "metadata": {},
   "outputs": [],
   "source": [
    "agri_som2 = SOM(2,2,8)\n",
    "agri_som2.train(pcadf.values,\n",
    "          num_epochs=200,\n",
    "          init_learning_rate=0.01\n",
    "          )"
   ]
  },
  {
   "cell_type": "markdown",
   "metadata": {},
   "source": [
    "### 3x3"
   ]
  },
  {
   "cell_type": "code",
   "execution_count": null,
   "metadata": {},
   "outputs": [],
   "source": [
    "clustered_df = pcadf.apply(predict3x3, axis=1)\n",
    "clustered_df['bmu_idx'] = clustered_df['bmu_idx'].astype('str')"
   ]
  },
  {
   "cell_type": "code",
   "execution_count": null,
   "metadata": {
    "scrolled": true
   },
   "outputs": [],
   "source": [
    "clustered_df['bmu_idx'].value_counts()"
   ]
  },
  {
   "cell_type": "code",
   "execution_count": null,
   "metadata": {},
   "outputs": [],
   "source": [
    "user_SOM = user[user.index.isin(user_dmsc.index)]\n",
    "user_SOM['cluster'] = pd.Series(clustered_df['bmu_idx'])"
   ]
  },
  {
   "cell_type": "code",
   "execution_count": null,
   "metadata": {},
   "outputs": [],
   "source": [
    "clustered_df.to_csv('3x3_pca.csv')"
   ]
  },
  {
   "cell_type": "code",
   "execution_count": null,
   "metadata": {},
   "outputs": [],
   "source": [
    "user_SOM.to_csv('3x3_user.csv')"
   ]
  },
  {
   "cell_type": "markdown",
   "metadata": {},
   "source": [
    "### 2x2"
   ]
  },
  {
   "cell_type": "code",
   "execution_count": null,
   "metadata": {},
   "outputs": [],
   "source": [
    "clustered_df2 = pcadf.apply(predict2x2, axis=1)\n",
    "clustered_df2['bmu_idx'] = clustered_df2['bmu_idx'].astype('str')"
   ]
  },
  {
   "cell_type": "code",
   "execution_count": null,
   "metadata": {},
   "outputs": [],
   "source": [
    "user_SOM2 = user[user.index.isin(user_dmsc.index)]\n",
    "user_SOM2['cluster'] = pd.Series(clustered_df2['bmu_idx'])"
   ]
  },
  {
   "cell_type": "code",
   "execution_count": null,
   "metadata": {},
   "outputs": [],
   "source": [
    "clustered_df2.to_csv('2x2_pca.csv')"
   ]
  },
  {
   "cell_type": "code",
   "execution_count": null,
   "metadata": {},
   "outputs": [],
   "source": [
    "user_SOM2.to_csv('2x2_user.csv')"
   ]
  },
  {
   "cell_type": "markdown",
   "metadata": {},
   "source": [
    "## Visualization 3x3"
   ]
  },
  {
   "cell_type": "code",
   "execution_count": null,
   "metadata": {},
   "outputs": [],
   "source": [
    "plt.figure(figsize=(10,10))\n",
    "sns.scatterplot(x=\"pc1\", y=\"pc2\", hue=\"bmu_idx\",data=clustered_df)"
   ]
  },
  {
   "cell_type": "code",
   "execution_count": null,
   "metadata": {},
   "outputs": [],
   "source": [
    "from mpl_toolkits.mplot3d import Axes3D\n",
    "fig = plt.figure(figsize=(15,15))\n",
    "ax = fig.add_subplot(111, projection='3d')\n",
    "\n",
    "\n",
    "ax.scatter(clustered_df[clustered_df['bmu_idx']=='[0 0]']['pc1'],\n",
    "           clustered_df[clustered_df['bmu_idx']=='[0 0]']['pc2'],\n",
    "           clustered_df[clustered_df['bmu_idx']=='[0 0]']['pc3'], c='#42d4f4', marker='o')\n",
    "ax.scatter(clustered_df[clustered_df['bmu_idx']=='[0 1]']['pc1'],\n",
    "           clustered_df[clustered_df['bmu_idx']=='[0 1]']['pc2'],\n",
    "           clustered_df[clustered_df['bmu_idx']=='[0 1]']['pc3'], c='#e6194B', marker='o')\n",
    "ax.scatter(clustered_df[clustered_df['bmu_idx']=='[0 2]']['pc1'],\n",
    "           clustered_df[clustered_df['bmu_idx']=='[0 2]']['pc2'],\n",
    "           clustered_df[clustered_df['bmu_idx']=='[0 2]']['pc3'], c='#f58231', marker='o')\n",
    "ax.scatter(clustered_df[clustered_df['bmu_idx']=='[1 0]']['pc1'],\n",
    "           clustered_df[clustered_df['bmu_idx']=='[1 0]']['pc2'],\n",
    "           clustered_df[clustered_df['bmu_idx']=='[1 0]']['pc3'], c='#3cb44b', marker='o')\n",
    "ax.scatter(clustered_df[clustered_df['bmu_idx']=='[1 1]']['pc1'],\n",
    "           clustered_df[clustered_df['bmu_idx']=='[1 1]']['pc2'],\n",
    "           clustered_df[clustered_df['bmu_idx']=='[1 1]']['pc3'], c='#4363d8', marker='o')\n",
    "ax.scatter(clustered_df[clustered_df['bmu_idx']=='[1 2]']['pc1'],\n",
    "           clustered_df[clustered_df['bmu_idx']=='[1 2]']['pc2'],\n",
    "           clustered_df[clustered_df['bmu_idx']=='[1 2]']['pc3'], c='#911eb4', marker='o')\n",
    "ax.scatter(clustered_df[clustered_df['bmu_idx']=='[2 0]']['pc1'],\n",
    "           clustered_df[clustered_df['bmu_idx']=='[2 0]']['pc2'],\n",
    "           clustered_df[clustered_df['bmu_idx']=='[2 0]']['pc3'], c='#f032e6', marker='o')\n",
    "ax.scatter(clustered_df[clustered_df['bmu_idx']=='[2 1]']['pc1'],\n",
    "           clustered_df[clustered_df['bmu_idx']=='[2 1]']['pc2'],\n",
    "           clustered_df[clustered_df['bmu_idx']=='[2 1]']['pc3'], c='#469990', marker='o')\n",
    "ax.scatter(clustered_df[clustered_df['bmu_idx']=='[2 2]']['pc1'],\n",
    "           clustered_df[clustered_df['bmu_idx']=='[2 2]']['pc2'],\n",
    "           clustered_df[clustered_df['bmu_idx']=='[2 2]']['pc3'], c='#000000', marker='o')\n",
    "    \n",
    "\n",
    "ax.set_xlabel('PC1')\n",
    "ax.set_xlim(-2,2)\n",
    "ax.set_ylabel('PC2')\n",
    "ax.set_ylim(-1,2)\n",
    "ax.set_zlabel('PC3')\n",
    "ax.set_zlim(-2,2)\n",
    "\n",
    "plt.show()"
   ]
  },
  {
   "cell_type": "markdown",
   "metadata": {},
   "source": [
    "## Visualization 2x2"
   ]
  },
  {
   "cell_type": "code",
   "execution_count": null,
   "metadata": {},
   "outputs": [],
   "source": [
    "plt.figure(figsize=(10,10))\n",
    "sns.scatterplot(x=\"pc1\", y=\"pc2\", hue=\"bmu_idx\",data=clustered_df2)"
   ]
  },
  {
   "cell_type": "code",
   "execution_count": null,
   "metadata": {
    "scrolled": false
   },
   "outputs": [],
   "source": [
    "fig = plt.figure(figsize=(15,15))\n",
    "ax = fig.add_subplot(111, projection='3d')\n",
    "\n",
    "\n",
    "ax.scatter(clustered_df2[clustered_df2['bmu_idx']=='[0 0]']['pc1'],\n",
    "           clustered_df2[clustered_df2['bmu_idx']=='[0 0]']['pc2'],\n",
    "           clustered_df2[clustered_df2['bmu_idx']=='[0 0]']['pc3'], c='#42d4f4', marker='o',label='[0 0]')\n",
    "ax.scatter(clustered_df2[clustered_df2['bmu_idx']=='[0 1]']['pc1'],\n",
    "           clustered_df2[clustered_df2['bmu_idx']=='[0 1]']['pc2'],\n",
    "           clustered_df2[clustered_df2['bmu_idx']=='[0 1]']['pc3'], c='#e6194B', marker='o',label='[0 1]')\n",
    "ax.scatter(clustered_df2[clustered_df2['bmu_idx']=='[1 0]']['pc1'],\n",
    "           clustered_df2[clustered_df2['bmu_idx']=='[1 0]']['pc2'],\n",
    "           clustered_df2[clustered_df2['bmu_idx']=='[1 0]']['pc3'], c='#f58231', marker='o',label='[1 0]')\n",
    "ax.scatter(clustered_df2[clustered_df2['bmu_idx']=='[1 1]']['pc1'],\n",
    "           clustered_df2[clustered_df2['bmu_idx']=='[1 1]']['pc2'],\n",
    "           clustered_df2[clustered_df2['bmu_idx']=='[1 1]']['pc3'], c='#3cb44b', marker='o',label='[1 1]')\n",
    "\n",
    "ax.set_xlabel('PC1')\n",
    "ax.set_xlim(-2,2)\n",
    "ax.set_ylabel('PC2')\n",
    "ax.set_ylim(-1,2)\n",
    "ax.set_zlabel('PC3')\n",
    "ax.set_zlim(-2,2)\n",
    "plt.legend(prop={'size': 16})\n",
    "plt.show()"
   ]
  },
  {
   "cell_type": "markdown",
   "metadata": {},
   "source": [
    "## pair plot"
   ]
  },
  {
   "cell_type": "code",
   "execution_count": null,
   "metadata": {},
   "outputs": [],
   "source": [
    "sns.pairplot(data=clustered_df[['pc1','pc2','pc3','bmu_idx']],  hue='bmu_idx', size=10)"
   ]
  },
  {
   "cell_type": "code",
   "execution_count": null,
   "metadata": {},
   "outputs": [],
   "source": [
    "sns.pairplot(data=clustered_df2[['pc1','pc2','pc3','bmu_idx']],  hue='bmu_idx', size=10)"
   ]
  },
  {
   "cell_type": "code",
   "execution_count": null,
   "metadata": {},
   "outputs": [],
   "source": []
  },
  {
   "cell_type": "code",
   "execution_count": null,
   "metadata": {},
   "outputs": [],
   "source": []
  },
  {
   "cell_type": "code",
   "execution_count": null,
   "metadata": {},
   "outputs": [],
   "source": []
  }
 ],
 "metadata": {
  "kernelspec": {
   "display_name": "Python 3",
   "language": "python",
   "name": "python3"
  },
  "language_info": {
   "codemirror_mode": {
    "name": "ipython",
    "version": 3
   },
   "file_extension": ".py",
   "mimetype": "text/x-python",
   "name": "python",
   "nbconvert_exporter": "python",
   "pygments_lexer": "ipython3",
   "version": "3.6.9"
  }
 },
 "nbformat": 4,
 "nbformat_minor": 2
}
