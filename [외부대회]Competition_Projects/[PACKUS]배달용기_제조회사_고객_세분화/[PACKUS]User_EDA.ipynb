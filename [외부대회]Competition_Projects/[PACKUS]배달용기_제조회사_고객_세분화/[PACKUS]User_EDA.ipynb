{
 "cells": [
  {
   "cell_type": "markdown",
   "metadata": {},
   "source": [
    "# [PACKUS] 유저별 총 주문금액, Active User 수, 1인당 주문 금액 (1)"
   ]
  },
  {
   "cell_type": "code",
   "execution_count": 1,
   "metadata": {},
   "outputs": [],
   "source": [
    "import numpy as np\n",
    "import pandas as pd\n",
    "import matplotlib.pyplot as plt"
   ]
  },
  {
   "cell_type": "markdown",
   "metadata": {},
   "source": [
    "### Data 1) SKT 배달음식 + 강수량 + (NICE)편의점 3종 음식"
   ]
  },
  {
   "cell_type": "code",
   "execution_count": 2,
   "metadata": {},
   "outputs": [],
   "source": [
    "new = pd.read_csv('new_data.csv')"
   ]
  },
  {
   "cell_type": "code",
   "execution_count": 3,
   "metadata": {},
   "outputs": [],
   "source": [
    "new.columns = ['날짜','족발/보쌈','중국음식','치킨','피자','일강수량(mm)','컵라면','김밥','도시락']"
   ]
  },
  {
   "cell_type": "code",
   "execution_count": 4,
   "metadata": {},
   "outputs": [],
   "source": [
    "new['날짜'] = pd.to_datetime(new['날짜']).dt.to_period('D')"
   ]
  },
  {
   "cell_type": "markdown",
   "metadata": {},
   "source": [
    "### Data2) (패커스) 총 주문 금액( = y값 )"
   ]
  },
  {
   "cell_type": "code",
   "execution_count": 5,
   "metadata": {},
   "outputs": [],
   "source": [
    "order = pd.read_excel('(통합)고객 주문리스트17-19.xlsx')"
   ]
  },
  {
   "cell_type": "code",
   "execution_count": 7,
   "metadata": {},
   "outputs": [],
   "source": [
    "order['날짜'] = pd.to_datetime(order['결제일시(입금확인일)'], errors='coerce').dt.to_period('D')"
   ]
  },
  {
   "cell_type": "code",
   "execution_count": 8,
   "metadata": {},
   "outputs": [],
   "source": [
    "packus = pd.DataFrame(order.groupby('날짜').sum()['총 주문금액'])\n",
    "packus = packus.reset_index()"
   ]
  },
  {
   "cell_type": "markdown",
   "metadata": {},
   "source": [
    "### Data3) (패커스) 시간별 누적 회원 가입자 수"
   ]
  },
  {
   "cell_type": "code",
   "execution_count": 9,
   "metadata": {},
   "outputs": [
    {
     "name": "stderr",
     "output_type": "stream",
     "text": [
      "C:\\Users\\samsung\\Anaconda3\\lib\\site-packages\\ipykernel_launcher.py:9: FutureWarning: currently extract(expand=None) means expand=False (return Index/Series/DataFrame) but in a future version of pandas this will be changed to expand=True (return DataFrame)\n",
      "  if __name__ == '__main__':\n"
     ]
    }
   ],
   "source": [
    "user = pd.read_excel('(통합)DB분석_회원관리서버.xlsx')\n",
    "user['최종접속일'] = pd.to_datetime(user['최종접속일']).dt.to_period('D')\n",
    "user['회원 가입일'] = pd.to_datetime(user['회원 가입일']).dt.to_period('D')\n",
    "user['최종주문일'] = pd.to_datetime(user['최종주문일']).dt.to_period('D')\n",
    "user['최종로그인일'] = pd.to_datetime(user['최종로그인일'], errors='coerce').dt.to_period('D')\n",
    "user['최종로그인일'] = user['최종로그인일'].dt.to_timestamp()\n",
    "user['휴면해제일'] = pd.to_datetime(user['휴면해제일'], errors='coerce').dt.to_period('D')\n",
    "user['휴면해제일'] = user['휴면해제일'].dt.to_timestamp()\n",
    "emailuser = user['아이디'].str.extract(r'(\\w+)@(.+)').dropna()\n",
    "indices = emailuser.index\n",
    "user.loc[indices,'아이디'] = emailuser[0]\n",
    "\n",
    "realfake = user[user.duplicated('아이디', keep=False)].sort_values('아이디').index\n",
    "\n",
    "dupuser = user[user.duplicated('아이디', keep=False)].sort_values('아이디')[['아이디','최종로그인일']].dropna()\n",
    "dupuser = dupuser[dupuser['최종로그인일']>pd.to_datetime('2010-01-01')]\n",
    "dupuser = dupuser.sort_values('최종로그인일').drop_duplicates('아이디', keep='last')\n",
    "dupindex = dupuser.index\n",
    "\n",
    "realindex = user.index.difference(realfake).union(dupindex)"
   ]
  },
  {
   "cell_type": "code",
   "execution_count": 10,
   "metadata": {},
   "outputs": [
    {
     "name": "stderr",
     "output_type": "stream",
     "text": [
      "C:\\Users\\samsung\\Anaconda3\\lib\\site-packages\\ipykernel_launcher.py:1: DeprecationWarning: \n",
      ".ix is deprecated. Please use\n",
      ".loc for label based indexing or\n",
      ".iloc for positional indexing\n",
      "\n",
      "See the documentation here:\n",
      "http://pandas.pydata.org/pandas-docs/stable/indexing.html#ix-indexer-is-deprecated\n",
      "  \"\"\"Entry point for launching an IPython kernel.\n"
     ]
    }
   ],
   "source": [
    "realuser = user.ix[realindex]\n",
    "realuser = realuser[['아이디','회원 가입일','최종주문일']]"
   ]
  },
  {
   "cell_type": "code",
   "execution_count": 11,
   "metadata": {},
   "outputs": [],
   "source": [
    "makeid = pd.DataFrame(realuser['회원 가입일'].value_counts())\n",
    "makeid = makeid.reset_index()\n",
    "makeid['index'] = pd.to_datetime(makeid['index'].astype('str'))"
   ]
  },
  {
   "cell_type": "code",
   "execution_count": 12,
   "metadata": {},
   "outputs": [],
   "source": [
    "makeid2 = pd.DataFrame(realuser['최종주문일'].value_counts())\n",
    "makeid2 = makeid2.reset_index()\n",
    "makeid2['index'] = pd.to_datetime(makeid2['index'].astype('str'))"
   ]
  },
  {
   "cell_type": "code",
   "execution_count": 13,
   "metadata": {},
   "outputs": [],
   "source": [
    "ID = pd.merge(makeid,makeid2,how='outer',left_on=['index'], right_on=['index'])"
   ]
  },
  {
   "cell_type": "markdown",
   "metadata": {},
   "source": [
    "### Merge Data 1,2,3\n",
    "- Data1 : (1) SKT 업종별 전화 배달/ (2) 기상청 강수량 / (3) NICE 3종음식 편의점\n",
    "- Data2 : (4) 패커스 총 주문금액\n",
    "- Data3 : (5) 패커스 IN & OUT 사람 수 ( by 회원가입일 & 최종주문일 )"
   ]
  },
  {
   "cell_type": "code",
   "execution_count": 14,
   "metadata": {},
   "outputs": [
    {
     "data": {
      "text/html": [
       "<div>\n",
       "<style scoped>\n",
       "    .dataframe tbody tr th:only-of-type {\n",
       "        vertical-align: middle;\n",
       "    }\n",
       "\n",
       "    .dataframe tbody tr th {\n",
       "        vertical-align: top;\n",
       "    }\n",
       "\n",
       "    .dataframe thead th {\n",
       "        text-align: right;\n",
       "    }\n",
       "</style>\n",
       "<table border=\"1\" class=\"dataframe\">\n",
       "  <thead>\n",
       "    <tr style=\"text-align: right;\">\n",
       "      <th></th>\n",
       "      <th>날짜</th>\n",
       "      <th>족발/보쌈</th>\n",
       "      <th>중국음식</th>\n",
       "      <th>치킨</th>\n",
       "      <th>피자</th>\n",
       "      <th>일강수량(mm)</th>\n",
       "      <th>컵라면</th>\n",
       "      <th>김밥</th>\n",
       "      <th>도시락</th>\n",
       "    </tr>\n",
       "  </thead>\n",
       "  <tbody>\n",
       "    <tr>\n",
       "      <th>0</th>\n",
       "      <td>2013-08-01</td>\n",
       "      <td>2989.0</td>\n",
       "      <td>29310.0</td>\n",
       "      <td>21906.0</td>\n",
       "      <td>6624.0</td>\n",
       "      <td>0.0</td>\n",
       "      <td>NaN</td>\n",
       "      <td>NaN</td>\n",
       "      <td>NaN</td>\n",
       "    </tr>\n",
       "    <tr>\n",
       "      <th>1</th>\n",
       "      <td>2013-08-02</td>\n",
       "      <td>3389.0</td>\n",
       "      <td>30199.0</td>\n",
       "      <td>27457.0</td>\n",
       "      <td>8091.0</td>\n",
       "      <td>7.5</td>\n",
       "      <td>NaN</td>\n",
       "      <td>NaN</td>\n",
       "      <td>NaN</td>\n",
       "    </tr>\n",
       "    <tr>\n",
       "      <th>2</th>\n",
       "      <td>2013-08-03</td>\n",
       "      <td>3935.0</td>\n",
       "      <td>35965.0</td>\n",
       "      <td>32984.0</td>\n",
       "      <td>9601.0</td>\n",
       "      <td>0.1</td>\n",
       "      <td>NaN</td>\n",
       "      <td>NaN</td>\n",
       "      <td>NaN</td>\n",
       "    </tr>\n",
       "    <tr>\n",
       "      <th>3</th>\n",
       "      <td>2013-08-04</td>\n",
       "      <td>3682.0</td>\n",
       "      <td>36219.0</td>\n",
       "      <td>31856.0</td>\n",
       "      <td>10519.0</td>\n",
       "      <td>4.5</td>\n",
       "      <td>NaN</td>\n",
       "      <td>NaN</td>\n",
       "      <td>NaN</td>\n",
       "    </tr>\n",
       "    <tr>\n",
       "      <th>4</th>\n",
       "      <td>2013-08-05</td>\n",
       "      <td>2645.0</td>\n",
       "      <td>27561.0</td>\n",
       "      <td>19661.0</td>\n",
       "      <td>6318.0</td>\n",
       "      <td>7.0</td>\n",
       "      <td>NaN</td>\n",
       "      <td>NaN</td>\n",
       "      <td>NaN</td>\n",
       "    </tr>\n",
       "  </tbody>\n",
       "</table>\n",
       "</div>"
      ],
      "text/plain": [
       "          날짜   족발/보쌈     중국음식       치킨       피자  일강수량(mm)  컵라면  김밥  도시락\n",
       "0 2013-08-01  2989.0  29310.0  21906.0   6624.0       0.0  NaN NaN  NaN\n",
       "1 2013-08-02  3389.0  30199.0  27457.0   8091.0       7.5  NaN NaN  NaN\n",
       "2 2013-08-03  3935.0  35965.0  32984.0   9601.0       0.1  NaN NaN  NaN\n",
       "3 2013-08-04  3682.0  36219.0  31856.0  10519.0       4.5  NaN NaN  NaN\n",
       "4 2013-08-05  2645.0  27561.0  19661.0   6318.0       7.0  NaN NaN  NaN"
      ]
     },
     "execution_count": 14,
     "metadata": {},
     "output_type": "execute_result"
    }
   ],
   "source": [
    "new.head()"
   ]
  },
  {
   "cell_type": "code",
   "execution_count": 15,
   "metadata": {},
   "outputs": [
    {
     "data": {
      "text/html": [
       "<div>\n",
       "<style scoped>\n",
       "    .dataframe tbody tr th:only-of-type {\n",
       "        vertical-align: middle;\n",
       "    }\n",
       "\n",
       "    .dataframe tbody tr th {\n",
       "        vertical-align: top;\n",
       "    }\n",
       "\n",
       "    .dataframe thead th {\n",
       "        text-align: right;\n",
       "    }\n",
       "</style>\n",
       "<table border=\"1\" class=\"dataframe\">\n",
       "  <thead>\n",
       "    <tr style=\"text-align: right;\">\n",
       "      <th></th>\n",
       "      <th>날짜</th>\n",
       "      <th>총 주문금액</th>\n",
       "    </tr>\n",
       "  </thead>\n",
       "  <tbody>\n",
       "    <tr>\n",
       "      <th>0</th>\n",
       "      <td>2017-01-02</td>\n",
       "      <td>70500</td>\n",
       "    </tr>\n",
       "    <tr>\n",
       "      <th>1</th>\n",
       "      <td>2017-01-15</td>\n",
       "      <td>21000</td>\n",
       "    </tr>\n",
       "    <tr>\n",
       "      <th>2</th>\n",
       "      <td>2017-01-18</td>\n",
       "      <td>77700</td>\n",
       "    </tr>\n",
       "    <tr>\n",
       "      <th>3</th>\n",
       "      <td>2017-01-23</td>\n",
       "      <td>21000</td>\n",
       "    </tr>\n",
       "    <tr>\n",
       "      <th>4</th>\n",
       "      <td>2017-02-02</td>\n",
       "      <td>76000</td>\n",
       "    </tr>\n",
       "  </tbody>\n",
       "</table>\n",
       "</div>"
      ],
      "text/plain": [
       "          날짜  총 주문금액\n",
       "0 2017-01-02   70500\n",
       "1 2017-01-15   21000\n",
       "2 2017-01-18   77700\n",
       "3 2017-01-23   21000\n",
       "4 2017-02-02   76000"
      ]
     },
     "execution_count": 15,
     "metadata": {},
     "output_type": "execute_result"
    }
   ],
   "source": [
    "packus.head()"
   ]
  },
  {
   "cell_type": "code",
   "execution_count": 16,
   "metadata": {},
   "outputs": [
    {
     "data": {
      "text/html": [
       "<div>\n",
       "<style scoped>\n",
       "    .dataframe tbody tr th:only-of-type {\n",
       "        vertical-align: middle;\n",
       "    }\n",
       "\n",
       "    .dataframe tbody tr th {\n",
       "        vertical-align: top;\n",
       "    }\n",
       "\n",
       "    .dataframe thead th {\n",
       "        text-align: right;\n",
       "    }\n",
       "</style>\n",
       "<table border=\"1\" class=\"dataframe\">\n",
       "  <thead>\n",
       "    <tr style=\"text-align: right;\">\n",
       "      <th></th>\n",
       "      <th>index</th>\n",
       "      <th>회원 가입일</th>\n",
       "      <th>최종주문일</th>\n",
       "    </tr>\n",
       "  </thead>\n",
       "  <tbody>\n",
       "    <tr>\n",
       "      <th>0</th>\n",
       "      <td>2018-10-25</td>\n",
       "      <td>64.0</td>\n",
       "      <td>29.0</td>\n",
       "    </tr>\n",
       "    <tr>\n",
       "      <th>1</th>\n",
       "      <td>2018-10-23</td>\n",
       "      <td>61.0</td>\n",
       "      <td>33.0</td>\n",
       "    </tr>\n",
       "    <tr>\n",
       "      <th>2</th>\n",
       "      <td>2019-01-28</td>\n",
       "      <td>56.0</td>\n",
       "      <td>37.0</td>\n",
       "    </tr>\n",
       "    <tr>\n",
       "      <th>3</th>\n",
       "      <td>2018-10-24</td>\n",
       "      <td>55.0</td>\n",
       "      <td>19.0</td>\n",
       "    </tr>\n",
       "    <tr>\n",
       "      <th>4</th>\n",
       "      <td>2018-05-14</td>\n",
       "      <td>54.0</td>\n",
       "      <td>18.0</td>\n",
       "    </tr>\n",
       "  </tbody>\n",
       "</table>\n",
       "</div>"
      ],
      "text/plain": [
       "       index  회원 가입일  최종주문일\n",
       "0 2018-10-25    64.0   29.0\n",
       "1 2018-10-23    61.0   33.0\n",
       "2 2019-01-28    56.0   37.0\n",
       "3 2018-10-24    55.0   19.0\n",
       "4 2018-05-14    54.0   18.0"
      ]
     },
     "execution_count": 16,
     "metadata": {},
     "output_type": "execute_result"
    }
   ],
   "source": [
    "ID.head()"
   ]
  },
  {
   "cell_type": "markdown",
   "metadata": {},
   "source": [
    "### data 1 + 2"
   ]
  },
  {
   "cell_type": "code",
   "execution_count": 17,
   "metadata": {},
   "outputs": [],
   "source": [
    "data = pd.merge(new,packus, how='outer',left_on=['날짜'],right_on=['날짜'])\n",
    "data['날짜'] = data['날짜'].astype('str')\n",
    "ID['index'] = ID['index'].astype('str')"
   ]
  },
  {
   "cell_type": "markdown",
   "metadata": {},
   "source": [
    "### data 1 + 2 + 3"
   ]
  },
  {
   "cell_type": "code",
   "execution_count": 18,
   "metadata": {},
   "outputs": [
    {
     "data": {
      "text/html": [
       "<div>\n",
       "<style scoped>\n",
       "    .dataframe tbody tr th:only-of-type {\n",
       "        vertical-align: middle;\n",
       "    }\n",
       "\n",
       "    .dataframe tbody tr th {\n",
       "        vertical-align: top;\n",
       "    }\n",
       "\n",
       "    .dataframe thead th {\n",
       "        text-align: right;\n",
       "    }\n",
       "</style>\n",
       "<table border=\"1\" class=\"dataframe\">\n",
       "  <thead>\n",
       "    <tr style=\"text-align: right;\">\n",
       "      <th></th>\n",
       "      <th>날짜</th>\n",
       "      <th>족발/보쌈</th>\n",
       "      <th>중국음식</th>\n",
       "      <th>치킨</th>\n",
       "      <th>피자</th>\n",
       "      <th>일강수량(mm)</th>\n",
       "      <th>컵라면</th>\n",
       "      <th>김밥</th>\n",
       "      <th>도시락</th>\n",
       "      <th>총 주문금액</th>\n",
       "      <th>회원 가입일</th>\n",
       "      <th>최종주문일</th>\n",
       "    </tr>\n",
       "  </thead>\n",
       "  <tbody>\n",
       "    <tr>\n",
       "      <th>0</th>\n",
       "      <td>2013-08-01</td>\n",
       "      <td>2989.0</td>\n",
       "      <td>29310.0</td>\n",
       "      <td>21906.0</td>\n",
       "      <td>6624.0</td>\n",
       "      <td>0.0</td>\n",
       "      <td>NaN</td>\n",
       "      <td>NaN</td>\n",
       "      <td>NaN</td>\n",
       "      <td>NaN</td>\n",
       "      <td>NaN</td>\n",
       "      <td>NaN</td>\n",
       "    </tr>\n",
       "    <tr>\n",
       "      <th>1</th>\n",
       "      <td>2013-08-02</td>\n",
       "      <td>3389.0</td>\n",
       "      <td>30199.0</td>\n",
       "      <td>27457.0</td>\n",
       "      <td>8091.0</td>\n",
       "      <td>7.5</td>\n",
       "      <td>NaN</td>\n",
       "      <td>NaN</td>\n",
       "      <td>NaN</td>\n",
       "      <td>NaN</td>\n",
       "      <td>NaN</td>\n",
       "      <td>NaN</td>\n",
       "    </tr>\n",
       "    <tr>\n",
       "      <th>2</th>\n",
       "      <td>2013-08-03</td>\n",
       "      <td>3935.0</td>\n",
       "      <td>35965.0</td>\n",
       "      <td>32984.0</td>\n",
       "      <td>9601.0</td>\n",
       "      <td>0.1</td>\n",
       "      <td>NaN</td>\n",
       "      <td>NaN</td>\n",
       "      <td>NaN</td>\n",
       "      <td>NaN</td>\n",
       "      <td>NaN</td>\n",
       "      <td>NaN</td>\n",
       "    </tr>\n",
       "    <tr>\n",
       "      <th>3</th>\n",
       "      <td>2013-08-04</td>\n",
       "      <td>3682.0</td>\n",
       "      <td>36219.0</td>\n",
       "      <td>31856.0</td>\n",
       "      <td>10519.0</td>\n",
       "      <td>4.5</td>\n",
       "      <td>NaN</td>\n",
       "      <td>NaN</td>\n",
       "      <td>NaN</td>\n",
       "      <td>NaN</td>\n",
       "      <td>NaN</td>\n",
       "      <td>NaN</td>\n",
       "    </tr>\n",
       "    <tr>\n",
       "      <th>4</th>\n",
       "      <td>2013-08-05</td>\n",
       "      <td>2645.0</td>\n",
       "      <td>27561.0</td>\n",
       "      <td>19661.0</td>\n",
       "      <td>6318.0</td>\n",
       "      <td>7.0</td>\n",
       "      <td>NaN</td>\n",
       "      <td>NaN</td>\n",
       "      <td>NaN</td>\n",
       "      <td>NaN</td>\n",
       "      <td>NaN</td>\n",
       "      <td>NaN</td>\n",
       "    </tr>\n",
       "  </tbody>\n",
       "</table>\n",
       "</div>"
      ],
      "text/plain": [
       "          날짜   족발/보쌈     중국음식       치킨       피자  일강수량(mm)  컵라면  김밥  도시락  \\\n",
       "0 2013-08-01  2989.0  29310.0  21906.0   6624.0       0.0  NaN NaN  NaN   \n",
       "1 2013-08-02  3389.0  30199.0  27457.0   8091.0       7.5  NaN NaN  NaN   \n",
       "2 2013-08-03  3935.0  35965.0  32984.0   9601.0       0.1  NaN NaN  NaN   \n",
       "3 2013-08-04  3682.0  36219.0  31856.0  10519.0       4.5  NaN NaN  NaN   \n",
       "4 2013-08-05  2645.0  27561.0  19661.0   6318.0       7.0  NaN NaN  NaN   \n",
       "\n",
       "   총 주문금액  회원 가입일  최종주문일  \n",
       "0     NaN     NaN    NaN  \n",
       "1     NaN     NaN    NaN  \n",
       "2     NaN     NaN    NaN  \n",
       "3     NaN     NaN    NaN  \n",
       "4     NaN     NaN    NaN  "
      ]
     },
     "execution_count": 18,
     "metadata": {},
     "output_type": "execute_result"
    }
   ],
   "source": [
    "Real = pd.merge(data,ID, how='outer',left_on=['날짜'],right_on=['index']).drop('index',axis=1)\n",
    "Real['날짜'] = pd.to_datetime(Real['날짜'].astype('str'))\n",
    "Real.head()"
   ]
  },
  {
   "cell_type": "markdown",
   "metadata": {},
   "source": [
    "### DATA 별로, 기간이 다름.\n",
    "> 1) 2017.01.01~ 2018.12.31 : 완전한 data\n",
    "\n",
    "> 2) 2017.01.01~ 2019.08.31 : (NICE 편의점 data값이 없는) 불완전한 data"
   ]
  },
  {
   "cell_type": "code",
   "execution_count": 19,
   "metadata": {},
   "outputs": [],
   "source": [
    "modeldata = Real.copy()\n",
    "modeldata = modeldata.fillna(0) "
   ]
  },
  {
   "cell_type": "code",
   "execution_count": 20,
   "metadata": {},
   "outputs": [],
   "source": [
    "modeldata['누적 가입자수'] = modeldata['회원 가입일'].cumsum()\n",
    "modeldata['누적 이탈자수'] = modeldata['최종주문일'].cumsum()\n",
    "modeldata.drop(['회원 가입일','최종주문일'],axis=1,inplace=True)"
   ]
  },
  {
   "cell_type": "code",
   "execution_count": 23,
   "metadata": {},
   "outputs": [
    {
     "data": {
      "text/html": [
       "<div>\n",
       "<style scoped>\n",
       "    .dataframe tbody tr th:only-of-type {\n",
       "        vertical-align: middle;\n",
       "    }\n",
       "\n",
       "    .dataframe tbody tr th {\n",
       "        vertical-align: top;\n",
       "    }\n",
       "\n",
       "    .dataframe thead th {\n",
       "        text-align: right;\n",
       "    }\n",
       "</style>\n",
       "<table border=\"1\" class=\"dataframe\">\n",
       "  <thead>\n",
       "    <tr style=\"text-align: right;\">\n",
       "      <th></th>\n",
       "      <th>날짜</th>\n",
       "      <th>족발/보쌈</th>\n",
       "      <th>중국음식</th>\n",
       "      <th>치킨</th>\n",
       "      <th>피자</th>\n",
       "      <th>일강수량(mm)</th>\n",
       "      <th>컵라면</th>\n",
       "      <th>김밥</th>\n",
       "      <th>도시락</th>\n",
       "      <th>총 주문금액</th>\n",
       "      <th>누적 가입자수</th>\n",
       "      <th>누적 이탈자수</th>\n",
       "    </tr>\n",
       "  </thead>\n",
       "  <tbody>\n",
       "    <tr>\n",
       "      <th>0</th>\n",
       "      <td>2013-08-01</td>\n",
       "      <td>2989.0</td>\n",
       "      <td>29310.0</td>\n",
       "      <td>21906.0</td>\n",
       "      <td>6624.0</td>\n",
       "      <td>0.0</td>\n",
       "      <td>0.0</td>\n",
       "      <td>0.0</td>\n",
       "      <td>0.0</td>\n",
       "      <td>0.0</td>\n",
       "      <td>0.0</td>\n",
       "      <td>0.0</td>\n",
       "    </tr>\n",
       "    <tr>\n",
       "      <th>1</th>\n",
       "      <td>2013-08-02</td>\n",
       "      <td>3389.0</td>\n",
       "      <td>30199.0</td>\n",
       "      <td>27457.0</td>\n",
       "      <td>8091.0</td>\n",
       "      <td>7.5</td>\n",
       "      <td>0.0</td>\n",
       "      <td>0.0</td>\n",
       "      <td>0.0</td>\n",
       "      <td>0.0</td>\n",
       "      <td>0.0</td>\n",
       "      <td>0.0</td>\n",
       "    </tr>\n",
       "    <tr>\n",
       "      <th>2</th>\n",
       "      <td>2013-08-03</td>\n",
       "      <td>3935.0</td>\n",
       "      <td>35965.0</td>\n",
       "      <td>32984.0</td>\n",
       "      <td>9601.0</td>\n",
       "      <td>0.1</td>\n",
       "      <td>0.0</td>\n",
       "      <td>0.0</td>\n",
       "      <td>0.0</td>\n",
       "      <td>0.0</td>\n",
       "      <td>0.0</td>\n",
       "      <td>0.0</td>\n",
       "    </tr>\n",
       "    <tr>\n",
       "      <th>3</th>\n",
       "      <td>2013-08-04</td>\n",
       "      <td>3682.0</td>\n",
       "      <td>36219.0</td>\n",
       "      <td>31856.0</td>\n",
       "      <td>10519.0</td>\n",
       "      <td>4.5</td>\n",
       "      <td>0.0</td>\n",
       "      <td>0.0</td>\n",
       "      <td>0.0</td>\n",
       "      <td>0.0</td>\n",
       "      <td>0.0</td>\n",
       "      <td>0.0</td>\n",
       "    </tr>\n",
       "    <tr>\n",
       "      <th>4</th>\n",
       "      <td>2013-08-05</td>\n",
       "      <td>2645.0</td>\n",
       "      <td>27561.0</td>\n",
       "      <td>19661.0</td>\n",
       "      <td>6318.0</td>\n",
       "      <td>7.0</td>\n",
       "      <td>0.0</td>\n",
       "      <td>0.0</td>\n",
       "      <td>0.0</td>\n",
       "      <td>0.0</td>\n",
       "      <td>0.0</td>\n",
       "      <td>0.0</td>\n",
       "    </tr>\n",
       "  </tbody>\n",
       "</table>\n",
       "</div>"
      ],
      "text/plain": [
       "          날짜   족발/보쌈     중국음식       치킨       피자  일강수량(mm)  컵라면   김밥  도시락  \\\n",
       "0 2013-08-01  2989.0  29310.0  21906.0   6624.0       0.0  0.0  0.0  0.0   \n",
       "1 2013-08-02  3389.0  30199.0  27457.0   8091.0       7.5  0.0  0.0  0.0   \n",
       "2 2013-08-03  3935.0  35965.0  32984.0   9601.0       0.1  0.0  0.0  0.0   \n",
       "3 2013-08-04  3682.0  36219.0  31856.0  10519.0       4.5  0.0  0.0  0.0   \n",
       "4 2013-08-05  2645.0  27561.0  19661.0   6318.0       7.0  0.0  0.0  0.0   \n",
       "\n",
       "   총 주문금액  누적 가입자수  누적 이탈자수  \n",
       "0     0.0      0.0      0.0  \n",
       "1     0.0      0.0      0.0  \n",
       "2     0.0      0.0      0.0  \n",
       "3     0.0      0.0      0.0  \n",
       "4     0.0      0.0      0.0  "
      ]
     },
     "execution_count": 23,
     "metadata": {},
     "output_type": "execute_result"
    }
   ],
   "source": [
    "modeldata.head()"
   ]
  },
  {
   "cell_type": "code",
   "execution_count": 24,
   "metadata": {},
   "outputs": [],
   "source": [
    "modeldata.to_csv('modeldata.csv')"
   ]
  }
 ],
 "metadata": {
  "kernelspec": {
   "display_name": "Python 3",
   "language": "python",
   "name": "python3"
  },
  "language_info": {
   "codemirror_mode": {
    "name": "ipython",
    "version": 3
   },
   "file_extension": ".py",
   "mimetype": "text/x-python",
   "name": "python",
   "nbconvert_exporter": "python",
   "pygments_lexer": "ipython3",
   "version": "3.6.9"
  }
 },
 "nbformat": 4,
 "nbformat_minor": 2
}
