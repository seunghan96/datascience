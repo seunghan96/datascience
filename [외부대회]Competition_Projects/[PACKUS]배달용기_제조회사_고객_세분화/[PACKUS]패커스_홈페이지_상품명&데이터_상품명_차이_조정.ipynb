{
 "cells": [
  {
   "cell_type": "markdown",
   "metadata": {},
   "source": [
    "# [PACKUS] 패커스 홈페이지 상품명 & 데이터 상품명 차이 조정\n",
    ">## 단어 간의 유사도(similarity) 파악을 통해 상품명 일치시키기!"
   ]
  },
  {
   "cell_type": "code",
   "execution_count": 2,
   "metadata": {},
   "outputs": [],
   "source": [
    "import pandas as pd\n",
    "import numpy as np"
   ]
  },
  {
   "cell_type": "code",
   "execution_count": 25,
   "metadata": {},
   "outputs": [
    {
     "name": "stderr",
     "output_type": "stream",
     "text": [
      "C:\\Users\\samsung\\Anaconda3\\lib\\site-packages\\fuzzywuzzy\\fuzz.py:11: UserWarning: Using slow pure-python SequenceMatcher. Install python-Levenshtein to remove this warning\n",
      "  warnings.warn('Using slow pure-python SequenceMatcher. Install python-Levenshtein to remove this warning')\n"
     ]
    }
   ],
   "source": [
    "from fuzzywuzzy import fuzz\n",
    "from fuzzywuzzy import process"
   ]
  },
  {
   "cell_type": "code",
   "execution_count": 4,
   "metadata": {},
   "outputs": [],
   "source": [
    "orderlist = pd.read_excel('(통합)고객 주문리스트17-19.xlsx')"
   ]
  },
  {
   "cell_type": "code",
   "execution_count": 14,
   "metadata": {},
   "outputs": [],
   "source": [
    "product = pd.read_csv('product_category.csv')"
   ]
  },
  {
   "cell_type": "code",
   "execution_count": 48,
   "metadata": {
    "scrolled": true
   },
   "outputs": [
    {
     "data": {
      "text/plain": [
       "Index(['Unnamed: 0', 'best', 'chinese', 'japanese', 'korean', 'western',\n",
       "       'sealing', 'bakerycafe', 'agri', 'kitchen', 'sticker', 'small'],\n",
       "      dtype='object')"
      ]
     },
     "execution_count": 48,
     "metadata": {},
     "output_type": "execute_result"
    }
   ],
   "source": [
    "product.columns"
   ]
  },
  {
   "cell_type": "code",
   "execution_count": 49,
   "metadata": {},
   "outputs": [],
   "source": [
    "productlist = list(orderlist['상품명(패커스(PACKUS))'].unique())\n",
    "\n",
    "best = []\n",
    "chinese = []\n",
    "japanese = []\n",
    "korean = []\n",
    "western = []\n",
    "sealing = []\n",
    "bakerycafe = []\n",
    "agri = []\n",
    "kitchen = []\n",
    "sticker = []\n",
    "small = []"
   ]
  },
  {
   "cell_type": "code",
   "execution_count": 52,
   "metadata": {},
   "outputs": [],
   "source": [
    "for i in product['best'].dropna():\n",
    "    best.append(process.extractOne(i,productlist,scorer=fuzz.token_sort_ratio)[0])\n",
    "    \n",
    "for i in product['chinese'].dropna():\n",
    "    chinese.append(process.extractOne(i,productlist,scorer=fuzz.token_sort_ratio)[0])\n",
    "    \n",
    "for i in product['japanese'].dropna():\n",
    "    japanese.append(process.extractOne(i,productlist,scorer=fuzz.token_sort_ratio)[0])\n",
    "    \n",
    "for i in product['korean'].dropna():\n",
    "    korean.append(process.extractOne(i,productlist,scorer=fuzz.token_sort_ratio)[0])\n",
    "    \n",
    "for i in product['western'].dropna():\n",
    "    western.append(process.extractOne(i,productlist,scorer=fuzz.token_sort_ratio)[0])\n",
    "\n",
    "for i in product['sealing'].dropna():\n",
    "    sealing.append(process.extractOne(i,productlist,scorer=fuzz.token_sort_ratio)[0])\n",
    "    \n",
    "for i in product['bakerycafe'].dropna():\n",
    "    bakerycafe.append(process.extractOne(i,productlist,scorer=fuzz.token_sort_ratio)[0])\n",
    "\n",
    "for i in product['agri'].dropna():\n",
    "    agri.append(process.extractOne(i,productlist,scorer=fuzz.token_sort_ratio)[0])\n",
    "    \n",
    "for i in product['kitchen'].dropna():\n",
    "    kitchen.append(process.extractOne(i,productlist,scorer=fuzz.token_sort_ratio)[0])\n",
    "    \n",
    "for i in product['sticker'].dropna():\n",
    "    sticker.append(process.extractOne(i,productlist,scorer=fuzz.token_sort_ratio)[0])\n",
    "    \n",
    "for i in product['small'].dropna():\n",
    "    small.append(process.extractOne(i,productlist,scorer=fuzz.token_sort_ratio)[0])"
   ]
  },
  {
   "cell_type": "code",
   "execution_count": 53,
   "metadata": {},
   "outputs": [],
   "source": [
    "cat = pd.concat([pd.DataFrame(best),\n",
    "           pd.DataFrame(chinese),\n",
    "          pd.DataFrame(japanese),\n",
    "          pd.DataFrame(korean),\n",
    "          pd.DataFrame(western),\n",
    "          pd.DataFrame(sealing),\n",
    "          pd.DataFrame(bakerycafe),\n",
    "          pd.DataFrame(agri),\n",
    "          pd.DataFrame(kitchen),\n",
    "          pd.DataFrame(sticker),\n",
    "          pd.DataFrame(small)], axis=1)"
   ]
  },
  {
   "cell_type": "code",
   "execution_count": 54,
   "metadata": {},
   "outputs": [],
   "source": [
    " cat.columns = ['best','chinese','japanese','korean','western','sealing','bakerycafe','agri','kitchen','sticker','small']"
   ]
  },
  {
   "cell_type": "code",
   "execution_count": 57,
   "metadata": {},
   "outputs": [],
   "source": [
    "cat.to_csv('product_category_revised.csv')"
   ]
  }
 ],
 "metadata": {
  "kernelspec": {
   "display_name": "Python 3",
   "language": "python",
   "name": "python3"
  },
  "language_info": {
   "codemirror_mode": {
    "name": "ipython",
    "version": 3
   },
   "file_extension": ".py",
   "mimetype": "text/x-python",
   "name": "python",
   "nbconvert_exporter": "python",
   "pygments_lexer": "ipython3",
   "version": "3.6.9"
  }
 },
 "nbformat": 4,
 "nbformat_minor": 2
}
