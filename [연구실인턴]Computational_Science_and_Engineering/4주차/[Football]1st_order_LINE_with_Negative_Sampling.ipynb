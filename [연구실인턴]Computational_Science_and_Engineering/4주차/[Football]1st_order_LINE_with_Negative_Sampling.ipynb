{
 "cells": [
  {
   "cell_type": "markdown",
   "metadata": {},
   "source": [
    "# [ First Order Proximity with Negative Sampling ]"
   ]
  },
  {
   "cell_type": "markdown",
   "metadata": {},
   "source": [
    "## 1. Import Dataset & Libraries"
   ]
  },
  {
   "cell_type": "code",
   "execution_count": 1,
   "metadata": {},
   "outputs": [],
   "source": [
    "import networkx as nx\n",
    "import matplotlib.pyplot as plt\n",
    "import numpy as np\n",
    "import random\n",
    "import pandas as pd\n",
    "from random import shuffle\n",
    "from copy import copy\n",
    "\n",
    "%matplotlib inline"
   ]
  },
  {
   "cell_type": "markdown",
   "metadata": {},
   "source": [
    "#### 1) adjacent matrix & one-hot encoded matrix"
   ]
  },
  {
   "cell_type": "code",
   "execution_count": 2,
   "metadata": {},
   "outputs": [],
   "source": [
    "H = nx.read_gml('football.gml')"
   ]
  },
  {
   "cell_type": "code",
   "execution_count": 3,
   "metadata": {},
   "outputs": [],
   "source": [
    "A = nx.to_numpy_matrix(H,nodelist=H.nodes())"
   ]
  },
  {
   "cell_type": "code",
   "execution_count": 4,
   "metadata": {},
   "outputs": [],
   "source": [
    "OH = np.identity(A.shape[0])"
   ]
  },
  {
   "cell_type": "markdown",
   "metadata": {},
   "source": [
    "## 2. Define Functions"
   ]
  },
  {
   "cell_type": "markdown",
   "metadata": {},
   "source": [
    "#### 1) first_prox \n",
    "- 2개 node의 vector를 input하면 first-order proximity 계산"
   ]
  },
  {
   "cell_type": "code",
   "execution_count": 6,
   "metadata": {},
   "outputs": [],
   "source": [
    "def first_prox(node_vec1,node_vec2):\n",
    "    mul = np.dot(node_vec1.T,node_vec2)\n",
    "    return 1/(1+np.exp(-mul))"
   ]
  },
  {
   "cell_type": "markdown",
   "metadata": {},
   "source": [
    "## 3. First-order Proximity with Negative Sampling"
   ]
  },
  {
   "cell_type": "code",
   "execution_count": 7,
   "metadata": {},
   "outputs": [],
   "source": [
    "def FirstOrder_neg_sampling(dim,num_neg,epoch,lr):\n",
    "    low_dim = np.random.uniform(-2,2,(OH.shape[0],dim))\n",
    "    #low_dim = np.random.rand(OH.shape[0],dim)\n",
    "    \n",
    "    for ep in range(epoch+1):\n",
    "        embed_vec =np.matmul(OH,low_dim)        \n",
    "        \n",
    "        for node in range(embed_vec.shape[0]):\n",
    "            ######################### find Neighbours & Non-Neighbours ##########################\n",
    "            \n",
    "            neighbours_index = np.nonzero(A[node])[1]\n",
    "            not_neighbours_index = np.setdiff1d(np.arange(embed_vec.shape[0]), np.nonzero(A[node])[1])\n",
    "            sampled_not_neighbours_index = np.random.choice(not_neighbours_index,num_neg,replace=False)\n",
    "            \n",
    "            ########## find vectors of (1) main node, (2) neighbours, (3) non-neighbours ##########\n",
    "            \n",
    "            node_vec = embed_vec[node]  \n",
    "            \n",
    "            for positive in neighbours_index:\n",
    "                pos_vec = embed_vec[positive]\n",
    "                neg_vecs = embed_vec[sampled_not_neighbours_index]\n",
    "                \n",
    "            ############################# UPDATE ###############################################\n",
    "                embed_vec[node] -= lr*(first_prox(node_vec,pos_vec)-1)*pos_vec\n",
    "        \n",
    "                for neg_vec in neg_vecs:\n",
    "                    embed_vec[node] -= lr*(first_prox(node_vec,neg_vec))*neg_vec\n",
    "                    \n",
    "        if ep>0 and ep%20==0:\n",
    "            print('epoch ',ep,'is done.')\n",
    "    print('training finished')                \n",
    "    return embed_vec"
   ]
  },
  {
   "cell_type": "code",
   "execution_count": 9,
   "metadata": {
    "scrolled": false
   },
   "outputs": [
    {
     "name": "stdout",
     "output_type": "stream",
     "text": [
      "epoch  20 is done.\n",
      "epoch  40 is done.\n",
      "epoch  60 is done.\n",
      "epoch  80 is done.\n",
      "training finished\n"
     ]
    }
   ],
   "source": [
    "Emb = FirstOrder_neg_sampling(dim=10,num_neg=5,epoch=80,lr=0.025)"
   ]
  },
  {
   "cell_type": "code",
   "execution_count": 10,
   "metadata": {},
   "outputs": [],
   "source": [
    "Emb_df = pd.DataFrame(Emb)\n",
    "Emb_df['Label'] = dict(H.node('value')).values()"
   ]
  },
  {
   "cell_type": "code",
   "execution_count": 11,
   "metadata": {},
   "outputs": [
    {
     "data": {
      "text/html": [
       "<div>\n",
       "<style scoped>\n",
       "    .dataframe tbody tr th:only-of-type {\n",
       "        vertical-align: middle;\n",
       "    }\n",
       "\n",
       "    .dataframe tbody tr th {\n",
       "        vertical-align: top;\n",
       "    }\n",
       "\n",
       "    .dataframe thead th {\n",
       "        text-align: right;\n",
       "    }\n",
       "</style>\n",
       "<table border=\"1\" class=\"dataframe\">\n",
       "  <thead>\n",
       "    <tr style=\"text-align: right;\">\n",
       "      <th></th>\n",
       "      <th>0</th>\n",
       "      <th>1</th>\n",
       "      <th>2</th>\n",
       "      <th>3</th>\n",
       "      <th>4</th>\n",
       "      <th>5</th>\n",
       "      <th>6</th>\n",
       "      <th>7</th>\n",
       "      <th>8</th>\n",
       "      <th>9</th>\n",
       "      <th>Label</th>\n",
       "    </tr>\n",
       "  </thead>\n",
       "  <tbody>\n",
       "    <tr>\n",
       "      <th>0</th>\n",
       "      <td>0.865126</td>\n",
       "      <td>0.732464</td>\n",
       "      <td>0.654681</td>\n",
       "      <td>-0.280288</td>\n",
       "      <td>-0.416516</td>\n",
       "      <td>0.779290</td>\n",
       "      <td>1.989182</td>\n",
       "      <td>0.944528</td>\n",
       "      <td>0.758910</td>\n",
       "      <td>0.924716</td>\n",
       "      <td>7</td>\n",
       "    </tr>\n",
       "    <tr>\n",
       "      <th>1</th>\n",
       "      <td>-0.315168</td>\n",
       "      <td>-1.665299</td>\n",
       "      <td>-0.984810</td>\n",
       "      <td>1.077798</td>\n",
       "      <td>0.511267</td>\n",
       "      <td>0.939566</td>\n",
       "      <td>1.635527</td>\n",
       "      <td>-0.366913</td>\n",
       "      <td>-0.451699</td>\n",
       "      <td>1.780345</td>\n",
       "      <td>0</td>\n",
       "    </tr>\n",
       "    <tr>\n",
       "      <th>2</th>\n",
       "      <td>-0.569846</td>\n",
       "      <td>-0.199044</td>\n",
       "      <td>1.784970</td>\n",
       "      <td>0.186517</td>\n",
       "      <td>2.154936</td>\n",
       "      <td>-0.550533</td>\n",
       "      <td>-0.937430</td>\n",
       "      <td>0.107572</td>\n",
       "      <td>1.074133</td>\n",
       "      <td>0.326420</td>\n",
       "      <td>2</td>\n",
       "    </tr>\n",
       "    <tr>\n",
       "      <th>3</th>\n",
       "      <td>0.832763</td>\n",
       "      <td>0.221549</td>\n",
       "      <td>-0.575225</td>\n",
       "      <td>-0.686977</td>\n",
       "      <td>-1.096524</td>\n",
       "      <td>0.453152</td>\n",
       "      <td>-0.012188</td>\n",
       "      <td>0.983878</td>\n",
       "      <td>0.942373</td>\n",
       "      <td>0.570720</td>\n",
       "      <td>3</td>\n",
       "    </tr>\n",
       "    <tr>\n",
       "      <th>4</th>\n",
       "      <td>0.117742</td>\n",
       "      <td>0.502898</td>\n",
       "      <td>0.749028</td>\n",
       "      <td>0.396632</td>\n",
       "      <td>-0.188808</td>\n",
       "      <td>0.286299</td>\n",
       "      <td>1.366271</td>\n",
       "      <td>-0.073079</td>\n",
       "      <td>-0.786144</td>\n",
       "      <td>-0.255506</td>\n",
       "      <td>7</td>\n",
       "    </tr>\n",
       "  </tbody>\n",
       "</table>\n",
       "</div>"
      ],
      "text/plain": [
       "          0         1         2         3         4         5         6  \\\n",
       "0  0.865126  0.732464  0.654681 -0.280288 -0.416516  0.779290  1.989182   \n",
       "1 -0.315168 -1.665299 -0.984810  1.077798  0.511267  0.939566  1.635527   \n",
       "2 -0.569846 -0.199044  1.784970  0.186517  2.154936 -0.550533 -0.937430   \n",
       "3  0.832763  0.221549 -0.575225 -0.686977 -1.096524  0.453152 -0.012188   \n",
       "4  0.117742  0.502898  0.749028  0.396632 -0.188808  0.286299  1.366271   \n",
       "\n",
       "          7         8         9  Label  \n",
       "0  0.944528  0.758910  0.924716      7  \n",
       "1 -0.366913 -0.451699  1.780345      0  \n",
       "2  0.107572  1.074133  0.326420      2  \n",
       "3  0.983878  0.942373  0.570720      3  \n",
       "4 -0.073079 -0.786144 -0.255506      7  "
      ]
     },
     "execution_count": 11,
     "metadata": {},
     "output_type": "execute_result"
    }
   ],
   "source": [
    "Emb_df.head()"
   ]
  },
  {
   "cell_type": "markdown",
   "metadata": {},
   "source": [
    "## 4. Visualization"
   ]
  },
  {
   "cell_type": "raw",
   "metadata": {},
   "source": [
    "Emb_df.loc[Emb_df.Label==0,'Color']='#F22F2F'\n",
    "Emb_df.loc[Emb_df.Label==1,'Color']='#F5A913'\n",
    "Emb_df.loc[Emb_df.Label==2,'Color']='#F5F513'\n",
    "Emb_df.loc[Emb_df.Label==3,'Color']='#8BF513'\n",
    "Emb_df.loc[Emb_df.Label==4,'Color']='#8DBA5A'\n",
    "Emb_df.loc[Emb_df.Label==5,'Color']='#25FDFD'\n",
    "Emb_df.loc[Emb_df.Label==6,'Color']='#25A7FD'\n",
    "Emb_df.loc[Emb_df.Label==7,'Color']='#1273B3'\n",
    "Emb_df.loc[Emb_df.Label==8,'Color']='#8E12B3'\n",
    "Emb_df.loc[Emb_df.Label==9,'Color']='#EBCAF5'\n",
    "Emb_df.loc[Emb_df.Label==10,'Color']='#D468C2'\n",
    "Emb_df.loc[Emb_df.Label==11,'Color']='#1C090D'\n",
    "\n",
    "Emb_df = Emb_df.drop('Label',axis=1)"
   ]
  },
  {
   "cell_type": "markdown",
   "metadata": {},
   "source": [
    "### in case of \"dimension 2\""
   ]
  },
  {
   "cell_type": "raw",
   "metadata": {},
   "source": [
    "plt.scatter(Emb_df[0],Emb_df[1],c=Emb_df['Color'])"
   ]
  },
  {
   "cell_type": "markdown",
   "metadata": {},
   "source": [
    "### in case of \"dimension 3\""
   ]
  },
  {
   "cell_type": "raw",
   "metadata": {},
   "source": [
    "from mpl_toolkits.mplot3d import Axes3D\n",
    "fig = plt.figure(figsize=(10,10))\n",
    "ax = fig.add_subplot(111, projection='3d')\n",
    "ax.scatter(Emb_df[0], Emb_df[1], Emb_df[2], zdir='z', s=50, c=Emb_df['Color'], depthshade=True)"
   ]
  },
  {
   "cell_type": "code",
   "execution_count": 12,
   "metadata": {},
   "outputs": [],
   "source": [
    "Emb_df.to_csv('[Football]Embedded_with_FirstOrder.csv')"
   ]
  },
  {
   "cell_type": "code",
   "execution_count": null,
   "metadata": {},
   "outputs": [],
   "source": []
  }
 ],
 "metadata": {
  "kernelspec": {
   "display_name": "Python 3",
   "language": "python",
   "name": "python3"
  },
  "language_info": {
   "codemirror_mode": {
    "name": "ipython",
    "version": 3
   },
   "file_extension": ".py",
   "mimetype": "text/x-python",
   "name": "python",
   "nbconvert_exporter": "python",
   "pygments_lexer": "ipython3",
   "version": "3.6.9"
  }
 },
 "nbformat": 4,
 "nbformat_minor": 2
}
