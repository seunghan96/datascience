{
 "cells": [
  {
   "cell_type": "markdown",
   "metadata": {},
   "source": [
    "# [ Glass Type Classification with OVR]\n",
    "- train ratio : 0.1, 0.3, 0.5, 0.7\n",
    "- metric : accuracy, precision, recall, F1-score\n",
    "- dataset : glass.csv"
   ]
  },
  {
   "cell_type": "markdown",
   "metadata": {},
   "source": [
    "# 1. Import Libraries & Dataset"
   ]
  },
  {
   "cell_type": "code",
   "execution_count": 1,
   "metadata": {},
   "outputs": [],
   "source": [
    "import pandas as pd\n",
    "import numpy as np\n",
    "import matplotlib.pyplot as plt\n",
    "\n",
    "%matplotlib inline"
   ]
  },
  {
   "cell_type": "code",
   "execution_count": 2,
   "metadata": {},
   "outputs": [],
   "source": [
    "gl = pd.read_csv('glass.csv',header=None)\n",
    "gl = gl.drop(0,axis=1)\n",
    "gl = gl.sample(frac=1)\n",
    "gl.columns = ['Ri','Na','Mg','Al','Si','K','Ca','Ba','Fe','Type']"
   ]
  },
  {
   "cell_type": "code",
   "execution_count": 3,
   "metadata": {},
   "outputs": [
    {
     "data": {
      "text/html": [
       "<div>\n",
       "<style scoped>\n",
       "    .dataframe tbody tr th:only-of-type {\n",
       "        vertical-align: middle;\n",
       "    }\n",
       "\n",
       "    .dataframe tbody tr th {\n",
       "        vertical-align: top;\n",
       "    }\n",
       "\n",
       "    .dataframe thead th {\n",
       "        text-align: right;\n",
       "    }\n",
       "</style>\n",
       "<table border=\"1\" class=\"dataframe\">\n",
       "  <thead>\n",
       "    <tr style=\"text-align: right;\">\n",
       "      <th></th>\n",
       "      <th>Ri</th>\n",
       "      <th>Na</th>\n",
       "      <th>Mg</th>\n",
       "      <th>Al</th>\n",
       "      <th>Si</th>\n",
       "      <th>K</th>\n",
       "      <th>Ca</th>\n",
       "      <th>Ba</th>\n",
       "      <th>Fe</th>\n",
       "      <th>Type</th>\n",
       "    </tr>\n",
       "  </thead>\n",
       "  <tbody>\n",
       "    <tr>\n",
       "      <th>67</th>\n",
       "      <td>1.52152</td>\n",
       "      <td>13.05</td>\n",
       "      <td>3.65</td>\n",
       "      <td>0.87</td>\n",
       "      <td>72.32</td>\n",
       "      <td>0.19</td>\n",
       "      <td>9.85</td>\n",
       "      <td>0.0</td>\n",
       "      <td>0.17</td>\n",
       "      <td>1</td>\n",
       "    </tr>\n",
       "    <tr>\n",
       "      <th>134</th>\n",
       "      <td>1.51811</td>\n",
       "      <td>13.33</td>\n",
       "      <td>3.85</td>\n",
       "      <td>1.25</td>\n",
       "      <td>72.78</td>\n",
       "      <td>0.52</td>\n",
       "      <td>8.12</td>\n",
       "      <td>0.0</td>\n",
       "      <td>0.00</td>\n",
       "      <td>2</td>\n",
       "    </tr>\n",
       "    <tr>\n",
       "      <th>163</th>\n",
       "      <td>1.51514</td>\n",
       "      <td>14.01</td>\n",
       "      <td>2.68</td>\n",
       "      <td>3.50</td>\n",
       "      <td>69.89</td>\n",
       "      <td>1.68</td>\n",
       "      <td>5.87</td>\n",
       "      <td>2.2</td>\n",
       "      <td>0.00</td>\n",
       "      <td>5</td>\n",
       "    </tr>\n",
       "    <tr>\n",
       "      <th>7</th>\n",
       "      <td>1.51756</td>\n",
       "      <td>13.15</td>\n",
       "      <td>3.61</td>\n",
       "      <td>1.05</td>\n",
       "      <td>73.24</td>\n",
       "      <td>0.57</td>\n",
       "      <td>8.24</td>\n",
       "      <td>0.0</td>\n",
       "      <td>0.00</td>\n",
       "      <td>1</td>\n",
       "    </tr>\n",
       "    <tr>\n",
       "      <th>168</th>\n",
       "      <td>1.51666</td>\n",
       "      <td>12.86</td>\n",
       "      <td>0.00</td>\n",
       "      <td>1.83</td>\n",
       "      <td>73.88</td>\n",
       "      <td>0.97</td>\n",
       "      <td>10.17</td>\n",
       "      <td>0.0</td>\n",
       "      <td>0.00</td>\n",
       "      <td>5</td>\n",
       "    </tr>\n",
       "  </tbody>\n",
       "</table>\n",
       "</div>"
      ],
      "text/plain": [
       "          Ri     Na    Mg    Al     Si     K     Ca   Ba    Fe  Type\n",
       "67   1.52152  13.05  3.65  0.87  72.32  0.19   9.85  0.0  0.17     1\n",
       "134  1.51811  13.33  3.85  1.25  72.78  0.52   8.12  0.0  0.00     2\n",
       "163  1.51514  14.01  2.68  3.50  69.89  1.68   5.87  2.2  0.00     5\n",
       "7    1.51756  13.15  3.61  1.05  73.24  0.57   8.24  0.0  0.00     1\n",
       "168  1.51666  12.86  0.00  1.83  73.88  0.97  10.17  0.0  0.00     5"
      ]
     },
     "execution_count": 3,
     "metadata": {},
     "output_type": "execute_result"
    }
   ],
   "source": [
    "gl.head()"
   ]
  },
  {
   "cell_type": "code",
   "execution_count": 4,
   "metadata": {
    "scrolled": false
   },
   "outputs": [
    {
     "data": {
      "text/plain": [
       "2    76\n",
       "1    70\n",
       "7    29\n",
       "3    17\n",
       "5    13\n",
       "6     9\n",
       "Name: Type, dtype: int64"
      ]
     },
     "execution_count": 4,
     "metadata": {},
     "output_type": "execute_result"
    }
   ],
   "source": [
    "gl.Type.value_counts()"
   ]
  },
  {
   "cell_type": "code",
   "execution_count": 5,
   "metadata": {},
   "outputs": [],
   "source": [
    "gl['Type'] = gl['Type'].replace({1:1,2:2,3:3,5:4,6:5,7:6})"
   ]
  },
  {
   "cell_type": "code",
   "execution_count": 6,
   "metadata": {},
   "outputs": [
    {
     "data": {
      "text/plain": [
       "(214, 10)"
      ]
     },
     "execution_count": 6,
     "metadata": {},
     "output_type": "execute_result"
    }
   ],
   "source": [
    "gl.shape"
   ]
  },
  {
   "cell_type": "markdown",
   "metadata": {},
   "source": [
    "### into 2 Dimensional \n",
    "- using Principal Component Analysis"
   ]
  },
  {
   "cell_type": "code",
   "execution_count": 7,
   "metadata": {},
   "outputs": [],
   "source": [
    "from sklearn.decomposition import PCA\n",
    "pca = PCA(n_components=2)"
   ]
  },
  {
   "cell_type": "code",
   "execution_count": 8,
   "metadata": {
    "scrolled": true
   },
   "outputs": [
    {
     "data": {
      "text/plain": [
       "PCA(copy=True, iterated_power='auto', n_components=2, random_state=None,\n",
       "    svd_solver='auto', tol=0.0, whiten=False)"
      ]
     },
     "execution_count": 8,
     "metadata": {},
     "output_type": "execute_result"
    }
   ],
   "source": [
    "pca.fit(gl.iloc[:,0:10])"
   ]
  },
  {
   "cell_type": "code",
   "execution_count": 9,
   "metadata": {},
   "outputs": [
    {
     "data": {
      "text/plain": [
       "0.7823516591052566"
      ]
     },
     "execution_count": 9,
     "metadata": {},
     "output_type": "execute_result"
    }
   ],
   "source": [
    "pca.explained_variance_ratio_.sum()"
   ]
  },
  {
   "cell_type": "code",
   "execution_count": 10,
   "metadata": {},
   "outputs": [],
   "source": [
    "X1 = pca.fit_transform(gl.iloc[:,0:10])[:,0]\n",
    "X2 = pca.fit_transform(gl.iloc[:,0:10])[:,1]                       \n",
    "new_data = pd.DataFrame({'X1':X1,'X2':X2,'class':gl.iloc[:,-1]})"
   ]
  },
  {
   "cell_type": "code",
   "execution_count": 11,
   "metadata": {},
   "outputs": [],
   "source": [
    "new_data['class'] = new_data['class'].replace({1:1,2:2,3:3,5:4,6:5,7:6})"
   ]
  },
  {
   "cell_type": "code",
   "execution_count": 12,
   "metadata": {},
   "outputs": [
    {
     "data": {
      "text/html": [
       "<div>\n",
       "<style scoped>\n",
       "    .dataframe tbody tr th:only-of-type {\n",
       "        vertical-align: middle;\n",
       "    }\n",
       "\n",
       "    .dataframe tbody tr th {\n",
       "        vertical-align: top;\n",
       "    }\n",
       "\n",
       "    .dataframe thead th {\n",
       "        text-align: right;\n",
       "    }\n",
       "</style>\n",
       "<table border=\"1\" class=\"dataframe\">\n",
       "  <thead>\n",
       "    <tr style=\"text-align: right;\">\n",
       "      <th></th>\n",
       "      <th>X1</th>\n",
       "      <th>X2</th>\n",
       "      <th>class</th>\n",
       "    </tr>\n",
       "  </thead>\n",
       "  <tbody>\n",
       "    <tr>\n",
       "      <th>67</th>\n",
       "      <td>-1.741467</td>\n",
       "      <td>1.240174</td>\n",
       "      <td>1</td>\n",
       "    </tr>\n",
       "    <tr>\n",
       "      <th>134</th>\n",
       "      <td>-1.297034</td>\n",
       "      <td>-0.807601</td>\n",
       "      <td>2</td>\n",
       "    </tr>\n",
       "    <tr>\n",
       "      <th>163</th>\n",
       "      <td>1.040108</td>\n",
       "      <td>-3.505661</td>\n",
       "      <td>4</td>\n",
       "    </tr>\n",
       "    <tr>\n",
       "      <th>7</th>\n",
       "      <td>-1.899693</td>\n",
       "      <td>-0.332358</td>\n",
       "      <td>1</td>\n",
       "    </tr>\n",
       "    <tr>\n",
       "      <th>168</th>\n",
       "      <td>2.884773</td>\n",
       "      <td>1.178943</td>\n",
       "      <td>4</td>\n",
       "    </tr>\n",
       "  </tbody>\n",
       "</table>\n",
       "</div>"
      ],
      "text/plain": [
       "           X1        X2  class\n",
       "67  -1.741467  1.240174      1\n",
       "134 -1.297034 -0.807601      2\n",
       "163  1.040108 -3.505661      4\n",
       "7   -1.899693 -0.332358      1\n",
       "168  2.884773  1.178943      4"
      ]
     },
     "execution_count": 12,
     "metadata": {},
     "output_type": "execute_result"
    }
   ],
   "source": [
    "new_data.head()"
   ]
  },
  {
   "cell_type": "code",
   "execution_count": 13,
   "metadata": {},
   "outputs": [
    {
     "data": {
      "image/png": "[encoded data removed]",
      "text/plain": [
       "<Figure size 432x288 with 1 Axes>"
      ]
     },
     "metadata": {
      "needs_background": "light"
     },
     "output_type": "display_data"
    }
   ],
   "source": [
    "plt.scatter(new_data['X1'], new_data['X2'], c=new_data['class'])\n",
    "plt.show()"
   ]
  },
  {
   "cell_type": "markdown",
   "metadata": {},
   "source": [
    "# 2. Define Functions"
   ]
  },
  {
   "cell_type": "markdown",
   "metadata": {},
   "source": [
    "- 1) train_test_split\n",
    "- 2) matrix multiplication\n",
    "- 3) sigmoid\n",
    "- 4) standard scaler\n",
    "- 5) loss function"
   ]
  },
  {
   "cell_type": "code",
   "execution_count": 14,
   "metadata": {
    "scrolled": true
   },
   "outputs": [],
   "source": [
    "def train_test_split(data,test_ratio):\n",
    "    \n",
    "    data.iloc[:,[0,1]] = standard_scaler(data.iloc[:,[0,1]])\n",
    "    test_index = np.random.choice(len(data),int(len(data)*test_ratio),replace=False)\n",
    "    train = data[~data.index.isin(test_index)]\n",
    "    test = data[data.index.isin(test_index)]\n",
    "    \n",
    "    train_X = np.array(train)[:,[0,1]]\n",
    "    train_y = np.array(train)[:,[2]].flatten()\n",
    "    test_X = np.array(test)[:,[0,1]]\n",
    "    test_y = np.array(test)[:,[2]].flatten()\n",
    "    return train_X,train_y, test_X,test_y"
   ]
  },
  {
   "cell_type": "code",
   "execution_count": 15,
   "metadata": {},
   "outputs": [],
   "source": [
    "def mul(W,b,x):\n",
    "    return np.dot(x,W)+b\n",
    "\n",
    "def sigmoid(x):    \n",
    "    k = 1 / (1 + np.exp(-x))\n",
    "    return k[:,0]"
   ]
  },
  {
   "cell_type": "code",
   "execution_count": 16,
   "metadata": {},
   "outputs": [],
   "source": [
    "def standard_scaler(x):\n",
    "    mean = np.mean(x)\n",
    "    std = np.std(x)\n",
    "    return (x-mean)/std"
   ]
  },
  {
   "cell_type": "code",
   "execution_count": 17,
   "metadata": {},
   "outputs": [],
   "source": [
    "def loss_func(y_hat,y):\n",
    "    total_loss = np.mean(y*np.log(y_hat+(1e-6)) + (1-y)*np.log(1-y_hat+(1e-6)))\n",
    "    return -total_loss"
   ]
  },
  {
   "cell_type": "markdown",
   "metadata": {},
   "source": [
    "# 3. Train Model"
   ]
  },
  {
   "cell_type": "markdown",
   "metadata": {},
   "source": [
    "### Logistic Regression"
   ]
  },
  {
   "cell_type": "code",
   "execution_count": 18,
   "metadata": {},
   "outputs": [],
   "source": [
    "def logreg(x,y,epoch,lr):\n",
    "    W = np.random.rand(x.shape[1],1)\n",
    "    b = np.random.rand(1)\n",
    "    \n",
    "    for ep in range(epoch+1):\n",
    "        Z = mul(W,b,x)\n",
    "        y_hat = sigmoid(Z)\n",
    "        loss = loss_func(y_hat,y)\n",
    "        dw = np.matmul(x.T,y_hat-y)/x.shape[0]\n",
    "        db = np.sum(y_hat-y)\n",
    "        \n",
    "        W = W-lr*dw.reshape(-1,1)\n",
    "        b = b-lr*db\n",
    "        \n",
    "        if ep % 20 == 0:\n",
    "            print('epoch :',ep,' loss :',loss)\n",
    "            \n",
    "    return W,b"
   ]
  },
  {
   "cell_type": "markdown",
   "metadata": {},
   "source": [
    "# 4. Prediction"
   ]
  },
  {
   "cell_type": "markdown",
   "metadata": {},
   "source": [
    "### train"
   ]
  },
  {
   "cell_type": "code",
   "execution_count": 19,
   "metadata": {},
   "outputs": [],
   "source": [
    "def predict(test_X,W,b):\n",
    "    result = sigmoid(np.dot(test_X, W) + b)\n",
    "    return result"
   ]
  },
  {
   "cell_type": "code",
   "execution_count": 20,
   "metadata": {},
   "outputs": [],
   "source": [
    "def Metrics(pred,actual):\n",
    "    TP,TN,FP,FN = 0,0,0,0\n",
    "    for i in range(len(pred)):\n",
    "        if pred[i]*actual[i]==1:\n",
    "            TP +=1\n",
    "        elif pred[i]>actual[i]:\n",
    "            FP +=1\n",
    "        elif pred[i]<actual[i]:\n",
    "            FN +=1\n",
    "        else:\n",
    "            TN +=1\n",
    "    \n",
    "    accuracy = (TP+TN) / (TP+TN+FP+FN)\n",
    "    precision = TP / (TP+FP)\n",
    "    recall = TP / (TP+FN)\n",
    "    F1_score = 2*(precision*recall)/(precision+recall)\n",
    "    return accuracy,precision,recall,F1_score"
   ]
  },
  {
   "cell_type": "code",
   "execution_count": 21,
   "metadata": {},
   "outputs": [
    {
     "data": {
      "text/plain": [
       "array([1, 2, 4, 5, 3], dtype=int64)"
      ]
     },
     "execution_count": 21,
     "metadata": {},
     "output_type": "execute_result"
    }
   ],
   "source": [
    "new_data['class'].unique()"
   ]
  },
  {
   "cell_type": "code",
   "execution_count": 22,
   "metadata": {},
   "outputs": [],
   "source": [
    "def OVR(data,test_ratio,epoch,lr):\n",
    "    train_x,train_y,test_x,test_y = train_test_split(data,test_ratio)\n",
    "    pred_result = []\n",
    "    real_result = []\n",
    "    for index in data['class'].unique():\n",
    "        train_y2 = (train_y == index).astype(int)        \n",
    "        test_y2 = (test_y == index).astype(int)\n",
    "        W,b = logreg(train_x,train_y2,epoch,lr)\n",
    "        y_pred = predict(test_x,W,b)\n",
    "        pred_result.append(y_pred)\n",
    "        real_result.append(test_y2)\n",
    "    pred_OH = (pred_result == np.amax(pred_result,axis=0)).astype('int')\n",
    "    act_OH = np.concatenate(real_result).ravel().reshape(data.iloc[:,-1].nunique(),-1)    \n",
    "    return pred_OH,act_OH"
   ]
  },
  {
   "cell_type": "code",
   "execution_count": 45,
   "metadata": {
    "scrolled": true
   },
   "outputs": [
    {
     "name": "stdout",
     "output_type": "stream",
     "text": [
      "epoch : 0  loss : 1.0841965565345977\n",
      "epoch : 20  loss : 0.8125628459699497\n",
      "epoch : 40  loss : 0.7857028819173271\n",
      "epoch : 60  loss : 0.7607058786666459\n",
      "epoch : 80  loss : 0.7374596236752304\n",
      "epoch : 100  loss : 0.715853500714399\n",
      "epoch : 120  loss : 0.6957794846543294\n",
      "epoch : 140  loss : 0.6771331583503721\n",
      "epoch : 160  loss : 0.6598144026555943\n",
      "epoch : 180  loss : 0.643727827976877\n",
      "epoch : 200  loss : 0.6287830098493595\n",
      "epoch : 220  loss : 0.6148945816361127\n",
      "epoch : 240  loss : 0.6019822269281315\n",
      "epoch : 260  loss : 0.5899706040117071\n",
      "epoch : 280  loss : 0.5787892257499878\n",
      "epoch : 300  loss : 0.5683723108112693\n",
      "epoch : 320  loss : 0.5586586164826041\n",
      "epoch : 340  loss : 0.5495912592464783\n",
      "epoch : 360  loss : 0.5411175266558027\n",
      "epoch : 380  loss : 0.5331886825333544\n",
      "epoch : 400  loss : 0.5257597668386521\n",
      "epoch : 420  loss : 0.5187893913964665\n",
      "epoch : 440  loss : 0.512239532818887\n",
      "epoch : 460  loss : 0.5060753241882316\n",
      "epoch : 480  loss : 0.5002648472749017\n",
      "epoch : 500  loss : 0.49477892717307803\n",
      "epoch : 520  loss : 0.4895909312235172\n",
      "epoch : 540  loss : 0.4846765739633759\n",
      "epoch : 560  loss : 0.48001372962267186\n",
      "epoch : 580  loss : 0.4755822534076928\n",
      "epoch : 600  loss : 0.47136381250511517\n",
      "epoch : 620  loss : 0.4673417274338256\n",
      "epoch : 640  loss : 0.4635008240847063\n",
      "epoch : 660  loss : 0.45982729653523063\n",
      "epoch : 680  loss : 0.4563085805126766\n",
      "epoch : 700  loss : 0.4529332372092064\n",
      "epoch : 720  loss : 0.4496908470225646\n",
      "epoch : 740  loss : 0.44657191270399194\n",
      "epoch : 760  loss : 0.44356777133519143\n",
      "epoch : 780  loss : 0.4406705145234152\n",
      "epoch : 800  loss : 0.4378729161926278\n",
      "epoch : 820  loss : 0.4351683673543374\n",
      "epoch : 840  loss : 0.4325508172597566\n",
      "epoch : 860  loss : 0.43001472036179866\n",
      "epoch : 880  loss : 0.427554988548054\n",
      "epoch : 900  loss : 0.42516694814192957\n",
      "epoch : 920  loss : 0.42284630120676\n",
      "epoch : 940  loss : 0.4205890907254932\n",
      "epoch : 960  loss : 0.4183916692655595\n",
      "epoch : 980  loss : 0.4162506707740282\n",
      "epoch : 1000  loss : 0.41416298518168954\n",
      "epoch : 0  loss : 0.8290368963276997\n",
      "epoch : 20  loss : 0.7203374500304469\n",
      "epoch : 40  loss : 0.7116124072696319\n",
      "epoch : 60  loss : 0.70361721709665\n",
      "epoch : 80  loss : 0.6962949418875688\n",
      "epoch : 100  loss : 0.6895915226590208\n",
      "epoch : 120  loss : 0.6834560197139493\n",
      "epoch : 140  loss : 0.6778407531480232\n",
      "epoch : 160  loss : 0.6727013486378833\n",
      "epoch : 180  loss : 0.6679967083856613\n",
      "epoch : 200  loss : 0.663688925145826\n",
      "epoch : 220  loss : 0.6597431548869896\n",
      "epoch : 240  loss : 0.6561274611443166\n",
      "epoch : 260  loss : 0.6528126417024889\n",
      "epoch : 280  loss : 0.6497720460401297\n",
      "epoch : 300  loss : 0.6469813900288955\n",
      "epoch : 320  loss : 0.6444185727359835\n",
      "epoch : 340  loss : 0.6420634988212063\n",
      "epoch : 360  loss : 0.6398979089260132\n",
      "epoch : 380  loss : 0.6379052195902778\n",
      "epoch : 400  loss : 0.6360703735689545\n",
      "epoch : 420  loss : 0.6343797009210965\n",
      "epoch : 440  loss : 0.6328207908772678\n",
      "epoch : 460  loss : 0.6313823742308784\n",
      "epoch : 480  loss : 0.6300542158212417\n",
      "epoch : 500  loss : 0.6288270165619834\n",
      "epoch : 520  loss : 0.627692324402192\n",
      "epoch : 540  loss : 0.6266424535768941\n",
      "epoch : 560  loss : 0.6256704114982387\n",
      "epoch : 580  loss : 0.6247698326515699\n",
      "epoch : 600  loss : 0.6239349188855232\n",
      "epoch : 620  loss : 0.6231603855179998\n",
      "epoch : 640  loss : 0.6224414127171168\n",
      "epoch : 660  loss : 0.6217736016555946\n",
      "epoch : 680  loss : 0.6211529349768357\n",
      "epoch : 700  loss : 0.6205757411500212\n",
      "epoch : 720  loss : 0.6200386623290476\n",
      "epoch : 740  loss : 0.6195386253656172\n",
      "epoch : 760  loss : 0.6190728156599551\n",
      "epoch : 780  loss : 0.6186386535633123\n",
      "epoch : 800  loss : 0.6182337730746439\n",
      "epoch : 820  loss : 0.6178560025996274\n",
      "epoch : 840  loss : 0.6175033475636473\n",
      "epoch : 860  loss : 0.6171739746916178\n",
      "epoch : 880  loss : 0.6168661977867189\n",
      "epoch : 900  loss : 0.6165784648574197\n",
      "epoch : 920  loss : 0.6163093464577275\n",
      "epoch : 940  loss : 0.6160575251195702\n",
      "epoch : 960  loss : 0.6158217857687525\n",
      "epoch : 980  loss : 0.6156010070271606\n",
      "epoch : 1000  loss : 0.6153941533139345\n",
      "epoch : 0  loss : 0.6725584047606838\n",
      "epoch : 20  loss : 0.3185986192003628\n",
      "epoch : 40  loss : 0.3162764683832592\n",
      "epoch : 60  loss : 0.3141347663863698\n",
      "epoch : 80  loss : 0.312086796740988\n",
      "epoch : 100  loss : 0.3101290701405991\n",
      "epoch : 120  loss : 0.3082582362752358\n",
      "epoch : 140  loss : 0.30647097852485006\n",
      "epoch : 160  loss : 0.30476402538311037\n",
      "epoch : 180  loss : 0.30313416040111474\n",
      "epoch : 200  loss : 0.3015782307949343\n",
      "epoch : 220  loss : 0.3000931547833589\n",
      "epoch : 240  loss : 0.2986759277236988\n",
      "epoch : 260  loss : 0.2973236271222612\n",
      "epoch : 280  loss : 0.29603341660228\n",
      "epoch : 300  loss : 0.2948025489156128\n",
      "epoch : 320  loss : 0.29362836808580917\n",
      "epoch : 340  loss : 0.2925083107695818\n",
      "epoch : 360  loss : 0.29143990692161775\n",
      "epoch : 380  loss : 0.29042077984441894\n",
      "epoch : 400  loss : 0.2894486457007115\n",
      "epoch : 420  loss : 0.2885213125612044\n",
      "epoch : 440  loss : 0.28763667905531504\n",
      "epoch : 460  loss : 0.28679273268709776\n",
      "epoch : 480  loss : 0.2859875478731732\n",
      "epoch : 500  loss : 0.2852192837540669\n",
      "epoch : 520  loss : 0.2844861818251386\n",
      "epoch : 540  loss : 0.28378656342826747\n",
      "epoch : 560  loss : 0.2831188271407253\n",
      "epoch : 580  loss : 0.28248144609323417\n",
      "epoch : 600  loss : 0.28187296524510164\n",
      "epoch : 620  loss : 0.28129199864055204\n",
      "epoch : 640  loss : 0.28073722666693185\n",
      "epoch : 660  loss : 0.28020739333235656\n",
      "epoch : 680  loss : 0.27970130357756334\n",
      "epoch : 700  loss : 0.2792178206342329\n",
      "epoch : 720  loss : 0.27875586343982045\n",
      "epoch : 740  loss : 0.2783144041169725\n",
      "epoch : 760  loss : 0.27789246552388086\n",
      "epoch : 780  loss : 0.2774891188804234\n",
      "epoch : 800  loss : 0.27710348147363034\n",
      "epoch : 820  loss : 0.27673471444489234\n",
      "epoch : 840  loss : 0.27638202066035755\n",
      "epoch : 860  loss : 0.27604464266514867\n",
      "epoch : 880  loss : 0.2757218607213319\n",
      "epoch : 900  loss : 0.27541299092899446\n",
      "epoch : 920  loss : 0.2751173834293049\n",
      "epoch : 940  loss : 0.27483442068803887\n",
      "epoch : 960  loss : 0.274563515857736\n",
      "epoch : 980  loss : 0.2743041112164027\n",
      "epoch : 1000  loss : 0.27405567668048547\n",
      "epoch : 0  loss : 0.9685826601860883\n",
      "epoch : 20  loss : 0.33363717012194044\n",
      "epoch : 40  loss : 0.319576388459379\n",
      "epoch : 60  loss : 0.30667455626739476\n",
      "epoch : 80  loss : 0.2946199825545553\n",
      "epoch : 100  loss : 0.283381606516726\n",
      "epoch : 120  loss : 0.272923184222239\n",
      "epoch : 140  loss : 0.26320395190423795\n",
      "epoch : 160  loss : 0.25418008288460003\n",
      "epoch : 180  loss : 0.24580608812784832\n",
      "epoch : 200  loss : 0.23803607098521298\n",
      "epoch : 220  loss : 0.23082477962082454\n",
      "epoch : 240  loss : 0.22412843300204324\n",
      "epoch : 260  loss : 0.21790532283098935\n",
      "epoch : 280  loss : 0.21211621214147958\n",
      "epoch : 300  loss : 0.20672456157765726\n",
      "epoch : 320  loss : 0.2016966180505948\n",
      "epoch : 340  loss : 0.19700139949182505\n",
      "epoch : 360  loss : 0.1926106056702028\n",
      "epoch : 380  loss : 0.18849848001615133\n",
      "epoch : 400  loss : 0.18464164214845077\n",
      "epoch : 420  loss : 0.18101890594828285\n",
      "epoch : 440  loss : 0.17761109387871932\n",
      "epoch : 460  loss : 0.17440085489632987\n",
      "epoch : 480  loss : 0.17137249070983573\n",
      "epoch : 500  loss : 0.1685117932108584\n",
      "epoch : 520  loss : 0.16580589451443406\n",
      "epoch : 540  loss : 0.1632431300848349\n",
      "epoch : 560  loss : 0.16081291478189497\n",
      "epoch : 580  loss : 0.158505631258975\n",
      "epoch : 600  loss : 0.15631252990840622\n",
      "epoch : 620  loss : 0.15422563943219678\n",
      "epoch : 640  loss : 0.15223768707672736\n",
      "epoch : 660  loss : 0.15034202758235385\n",
      "epoch : 680  loss : 0.1485325799426087\n",
      "epoch : 700  loss : 0.14680377112937723\n",
      "epoch : 720  loss : 0.1451504860107651\n",
      "epoch : 740  loss : 0.1435680227612577\n",
      "epoch : 760  loss : 0.14205205313533073\n",
      "epoch : 780  loss : 0.1405985870435614\n",
      "epoch : 800  loss : 0.13920394093324545\n",
      "epoch : 820  loss : 0.1378647095329455\n",
      "epoch : 840  loss : 0.13657774057217306\n",
      "epoch : 860  loss : 0.13534011213367947\n",
      "epoch : 880  loss : 0.13414911233692584\n",
      "epoch : 900  loss : 0.1330022210876236\n",
      "epoch : 920  loss : 0.1318970936602293\n",
      "epoch : 940  loss : 0.13083154590838128\n",
      "epoch : 960  loss : 0.12980354092291524\n",
      "epoch : 980  loss : 0.1288111769786867\n",
      "epoch : 1000  loss : 0.12785267663032865\n",
      "epoch : 0  loss : 1.0587872631648834\n",
      "epoch : 20  loss : 0.3354497925625886\n",
      "epoch : 40  loss : 0.3332693030959057\n",
      "epoch : 60  loss : 0.3318038795287104\n",
      "epoch : 80  loss : 0.3303962012626633\n",
      "epoch : 100  loss : 0.3290392091859416\n",
      "epoch : 120  loss : 0.3277312236051589\n",
      "epoch : 140  loss : 0.32647063796717984\n",
      "epoch : 160  loss : 0.32525587595268385\n",
      "epoch : 180  loss : 0.3240853930339425\n",
      "epoch : 200  loss : 0.3229576778898981\n",
      "epoch : 220  loss : 0.3218712535816517\n",
      "epoch : 240  loss : 0.3208246785235185\n",
      "epoch : 260  loss : 0.3198165472619325\n",
      "epoch : 280  loss : 0.3188454910729154\n",
      "epoch : 300  loss : 0.31791017838926927\n",
      "epoch : 320  loss : 0.3170093150690717\n",
      "epoch : 340  loss : 0.3161416445172958\n",
      "epoch : 360  loss : 0.3153059476724338\n",
      "epoch : 380  loss : 0.31450104286991587\n"
     ]
    },
    {
     "name": "stdout",
     "output_type": "stream",
     "text": [
      "epoch : 400  loss : 0.3137257855938966\n",
      "epoch : 420  loss : 0.3129790681286573\n",
      "epoch : 440  loss : 0.31225981912046386\n",
      "epoch : 460  loss : 0.3115670030602429\n",
      "epoch : 480  loss : 0.31089961969691426\n",
      "epoch : 500  loss : 0.3102567033906566\n",
      "epoch : 520  loss : 0.30963732241479763\n",
      "epoch : 540  loss : 0.30904057821442804\n",
      "epoch : 560  loss : 0.30846560462924005\n",
      "epoch : 580  loss : 0.30791156708749773\n",
      "epoch : 600  loss : 0.3073776617774731\n",
      "epoch : 620  loss : 0.30686311480211426\n",
      "epoch : 640  loss : 0.3063671813221754\n",
      "epoch : 660  loss : 0.3058891446925226\n",
      "epoch : 680  loss : 0.30542831559583894\n",
      "epoch : 700  loss : 0.3049840311774941\n",
      "epoch : 720  loss : 0.30455565418491054\n",
      "epoch : 740  loss : 0.3041425721143558\n",
      "epoch : 760  loss : 0.3037441963677208\n",
      "epoch : 780  loss : 0.3033599614214946\n",
      "epoch : 800  loss : 0.30298932400983336\n",
      "epoch : 820  loss : 0.3026317623233324\n",
      "epoch : 840  loss : 0.3022867752248429\n",
      "epoch : 860  loss : 0.301953881483439\n",
      "epoch : 880  loss : 0.30163261902742494\n",
      "epoch : 900  loss : 0.3013225442170738\n",
      "epoch : 920  loss : 0.30102323113762086\n",
      "epoch : 940  loss : 0.30073427091287624\n",
      "epoch : 960  loss : 0.300455271039682\n",
      "epoch : 980  loss : 0.30018585474332354\n",
      "epoch : 1000  loss : 0.29992566035389046\n"
     ]
    }
   ],
   "source": [
    "prediction,actual = OVR(new_data,0.3,1000,0.01)"
   ]
  },
  {
   "cell_type": "code",
   "execution_count": 46,
   "metadata": {},
   "outputs": [],
   "source": [
    "def confusion_matrix(actual,prediction):\n",
    "    n = actual.shape[0]\n",
    "    conf_mat = np.zeros((n,n))\n",
    "    for i in range(n):\n",
    "        for j in range(n):\n",
    "            conf_mat[i][j] += len(np.intersect1d(np.nonzero(actual[i]),np.nonzero(prediction[j])))        \n",
    "    return conf_mat"
   ]
  },
  {
   "cell_type": "code",
   "execution_count": 47,
   "metadata": {},
   "outputs": [
    {
     "data": {
      "text/plain": [
       "array([], dtype=int64)"
      ]
     },
     "execution_count": 47,
     "metadata": {},
     "output_type": "execute_result"
    }
   ],
   "source": [
    "np.intersect1d(np.nonzero(actual[4]),np.nonzero(prediction[0]))"
   ]
  },
  {
   "cell_type": "code",
   "execution_count": 75,
   "metadata": {},
   "outputs": [
    {
     "data": {
      "text/plain": [
       "array([[23.,  0.,  0.,  0.,  0.],\n",
       "       [ 3., 19.,  0.,  0.,  0.],\n",
       "       [ 0.,  5.,  0.,  0.,  0.],\n",
       "       [ 0.,  0.,  0., 10.,  0.],\n",
       "       [ 0.,  4.,  0.,  0.,  0.]])"
      ]
     },
     "execution_count": 75,
     "metadata": {},
     "output_type": "execute_result"
    }
   ],
   "source": [
    "glass_con = confusion_matrix(actual, prediction)\n",
    "glass_con"
   ]
  },
  {
   "cell_type": "markdown",
   "metadata": {},
   "source": [
    "# Wine dataset"
   ]
  },
  {
   "cell_type": "code",
   "execution_count": 27,
   "metadata": {},
   "outputs": [],
   "source": [
    "from sklearn.datasets import load_wine"
   ]
  },
  {
   "cell_type": "code",
   "execution_count": 28,
   "metadata": {},
   "outputs": [],
   "source": [
    "data = load_wine()"
   ]
  },
  {
   "cell_type": "code",
   "execution_count": 29,
   "metadata": {},
   "outputs": [],
   "source": [
    "X = data.data\n",
    "y = data.target"
   ]
  },
  {
   "cell_type": "code",
   "execution_count": 30,
   "metadata": {},
   "outputs": [],
   "source": [
    "wine = pd.DataFrame(X)\n",
    "wine['type'] = y\n",
    "wine = wine.sample(frac=1)"
   ]
  },
  {
   "cell_type": "code",
   "execution_count": 31,
   "metadata": {
    "scrolled": true
   },
   "outputs": [
    {
     "data": {
      "text/html": [
       "<div>\n",
       "<style scoped>\n",
       "    .dataframe tbody tr th:only-of-type {\n",
       "        vertical-align: middle;\n",
       "    }\n",
       "\n",
       "    .dataframe tbody tr th {\n",
       "        vertical-align: top;\n",
       "    }\n",
       "\n",
       "    .dataframe thead th {\n",
       "        text-align: right;\n",
       "    }\n",
       "</style>\n",
       "<table border=\"1\" class=\"dataframe\">\n",
       "  <thead>\n",
       "    <tr style=\"text-align: right;\">\n",
       "      <th></th>\n",
       "      <th>0</th>\n",
       "      <th>1</th>\n",
       "      <th>2</th>\n",
       "      <th>3</th>\n",
       "      <th>4</th>\n",
       "      <th>5</th>\n",
       "      <th>6</th>\n",
       "      <th>7</th>\n",
       "      <th>8</th>\n",
       "      <th>9</th>\n",
       "      <th>10</th>\n",
       "      <th>11</th>\n",
       "      <th>12</th>\n",
       "      <th>type</th>\n",
       "    </tr>\n",
       "  </thead>\n",
       "  <tbody>\n",
       "    <tr>\n",
       "      <th>149</th>\n",
       "      <td>13.08</td>\n",
       "      <td>3.90</td>\n",
       "      <td>2.36</td>\n",
       "      <td>21.5</td>\n",
       "      <td>113.0</td>\n",
       "      <td>1.41</td>\n",
       "      <td>1.39</td>\n",
       "      <td>0.34</td>\n",
       "      <td>1.14</td>\n",
       "      <td>9.40</td>\n",
       "      <td>0.57</td>\n",
       "      <td>1.33</td>\n",
       "      <td>550.0</td>\n",
       "      <td>2</td>\n",
       "    </tr>\n",
       "    <tr>\n",
       "      <th>169</th>\n",
       "      <td>13.40</td>\n",
       "      <td>4.60</td>\n",
       "      <td>2.86</td>\n",
       "      <td>25.0</td>\n",
       "      <td>112.0</td>\n",
       "      <td>1.98</td>\n",
       "      <td>0.96</td>\n",
       "      <td>0.27</td>\n",
       "      <td>1.11</td>\n",
       "      <td>8.50</td>\n",
       "      <td>0.67</td>\n",
       "      <td>1.92</td>\n",
       "      <td>630.0</td>\n",
       "      <td>2</td>\n",
       "    </tr>\n",
       "    <tr>\n",
       "      <th>58</th>\n",
       "      <td>13.72</td>\n",
       "      <td>1.43</td>\n",
       "      <td>2.50</td>\n",
       "      <td>16.7</td>\n",
       "      <td>108.0</td>\n",
       "      <td>3.40</td>\n",
       "      <td>3.67</td>\n",
       "      <td>0.19</td>\n",
       "      <td>2.04</td>\n",
       "      <td>6.80</td>\n",
       "      <td>0.89</td>\n",
       "      <td>2.87</td>\n",
       "      <td>1285.0</td>\n",
       "      <td>0</td>\n",
       "    </tr>\n",
       "    <tr>\n",
       "      <th>117</th>\n",
       "      <td>12.42</td>\n",
       "      <td>1.61</td>\n",
       "      <td>2.19</td>\n",
       "      <td>22.5</td>\n",
       "      <td>108.0</td>\n",
       "      <td>2.00</td>\n",
       "      <td>2.09</td>\n",
       "      <td>0.34</td>\n",
       "      <td>1.61</td>\n",
       "      <td>2.06</td>\n",
       "      <td>1.06</td>\n",
       "      <td>2.96</td>\n",
       "      <td>345.0</td>\n",
       "      <td>1</td>\n",
       "    </tr>\n",
       "    <tr>\n",
       "      <th>148</th>\n",
       "      <td>13.32</td>\n",
       "      <td>3.24</td>\n",
       "      <td>2.38</td>\n",
       "      <td>21.5</td>\n",
       "      <td>92.0</td>\n",
       "      <td>1.93</td>\n",
       "      <td>0.76</td>\n",
       "      <td>0.45</td>\n",
       "      <td>1.25</td>\n",
       "      <td>8.42</td>\n",
       "      <td>0.55</td>\n",
       "      <td>1.62</td>\n",
       "      <td>650.0</td>\n",
       "      <td>2</td>\n",
       "    </tr>\n",
       "  </tbody>\n",
       "</table>\n",
       "</div>"
      ],
      "text/plain": [
       "         0     1     2     3      4     5     6     7     8     9    10    11  \\\n",
       "149  13.08  3.90  2.36  21.5  113.0  1.41  1.39  0.34  1.14  9.40  0.57  1.33   \n",
       "169  13.40  4.60  2.86  25.0  112.0  1.98  0.96  0.27  1.11  8.50  0.67  1.92   \n",
       "58   13.72  1.43  2.50  16.7  108.0  3.40  3.67  0.19  2.04  6.80  0.89  2.87   \n",
       "117  12.42  1.61  2.19  22.5  108.0  2.00  2.09  0.34  1.61  2.06  1.06  2.96   \n",
       "148  13.32  3.24  2.38  21.5   92.0  1.93  0.76  0.45  1.25  8.42  0.55  1.62   \n",
       "\n",
       "         12  type  \n",
       "149   550.0     2  \n",
       "169   630.0     2  \n",
       "58   1285.0     0  \n",
       "117   345.0     1  \n",
       "148   650.0     2  "
      ]
     },
     "execution_count": 31,
     "metadata": {},
     "output_type": "execute_result"
    }
   ],
   "source": [
    "wine.head()"
   ]
  },
  {
   "cell_type": "markdown",
   "metadata": {},
   "source": [
    "### dimension reduction with PCA"
   ]
  },
  {
   "cell_type": "code",
   "execution_count": 32,
   "metadata": {},
   "outputs": [],
   "source": [
    "from sklearn.decomposition import PCA\n",
    "pca2 = PCA(n_components=2)"
   ]
  },
  {
   "cell_type": "code",
   "execution_count": 33,
   "metadata": {},
   "outputs": [
    {
     "data": {
      "text/plain": [
       "PCA(copy=True, iterated_power='auto', n_components=2, random_state=None,\n",
       "    svd_solver='auto', tol=0.0, whiten=False)"
      ]
     },
     "execution_count": 33,
     "metadata": {},
     "output_type": "execute_result"
    }
   ],
   "source": [
    "pca2.fit(wine.iloc[:,0:13])"
   ]
  },
  {
   "cell_type": "code",
   "execution_count": 34,
   "metadata": {},
   "outputs": [
    {
     "data": {
      "text/plain": [
       "0.9998271461166032"
      ]
     },
     "execution_count": 34,
     "metadata": {},
     "output_type": "execute_result"
    }
   ],
   "source": [
    "pca2.explained_variance_ratio_.sum()"
   ]
  },
  {
   "cell_type": "code",
   "execution_count": 35,
   "metadata": {},
   "outputs": [],
   "source": [
    "X1 = pca2.fit_transform(wine.iloc[:,0:13])[:,0]\n",
    "X2 = pca2.fit_transform(wine.iloc[:,0:13])[:,1]                       \n",
    "wine2 = pd.DataFrame({'X1':X1,'X2':X2,'class':wine.iloc[:,-1]})"
   ]
  },
  {
   "cell_type": "code",
   "execution_count": 36,
   "metadata": {},
   "outputs": [
    {
     "data": {
      "text/plain": [
       "1    71\n",
       "0    59\n",
       "2    48\n",
       "Name: class, dtype: int64"
      ]
     },
     "execution_count": 36,
     "metadata": {},
     "output_type": "execute_result"
    }
   ],
   "source": [
    "wine2['class'].value_counts()"
   ]
  },
  {
   "cell_type": "code",
   "execution_count": 37,
   "metadata": {},
   "outputs": [
    {
     "data": {
      "image/png": "[encoded data removed]",
      "text/plain": [
       "<Figure size 432x288 with 1 Axes>"
      ]
     },
     "metadata": {
      "needs_background": "light"
     },
     "output_type": "display_data"
    }
   ],
   "source": [
    "plt.scatter(wine2['X1'], wine2['X2'], c=wine2['class'])\n",
    "plt.show()"
   ]
  },
  {
   "cell_type": "code",
   "execution_count": 71,
   "metadata": {
    "scrolled": true
   },
   "outputs": [
    {
     "name": "stdout",
     "output_type": "stream",
     "text": [
      "epoch : 0  loss : 1.0182704296624818\n",
      "epoch : 20  loss : 0.7735933218242664\n",
      "epoch : 40  loss : 0.7827601795503949\n",
      "epoch : 60  loss : 0.768065812361361\n",
      "epoch : 80  loss : 0.755820946179505\n",
      "epoch : 100  loss : 0.7458704354574796\n",
      "epoch : 120  loss : 0.7378670844391708\n",
      "epoch : 140  loss : 0.7314576608210094\n",
      "epoch : 160  loss : 0.726333110517503\n",
      "epoch : 180  loss : 0.722237305652942\n",
      "epoch : 200  loss : 0.7189628916113733\n",
      "epoch : 220  loss : 0.7163437831531977\n",
      "epoch : 240  loss : 0.7142475701436692\n",
      "epoch : 260  loss : 0.7125688609008215\n",
      "epoch : 280  loss : 0.7112237740655483\n",
      "epoch : 300  loss : 0.7101455009575213\n",
      "epoch : 320  loss : 0.7092807754083527\n",
      "epoch : 340  loss : 0.7085870808984494\n",
      "epoch : 360  loss : 0.7080304446173955\n",
      "epoch : 380  loss : 0.7075836943438477\n",
      "epoch : 400  loss : 0.7072250790034275\n",
      "epoch : 420  loss : 0.7069371749346004\n",
      "epoch : 440  loss : 0.7067060169495708\n",
      "epoch : 460  loss : 0.7065204066791269\n",
      "epoch : 480  loss : 0.7063713610987502\n",
      "epoch : 500  loss : 0.7062516721840391\n",
      "epoch : 520  loss : 0.7061555548723908\n",
      "epoch : 540  loss : 0.706078365340234\n",
      "epoch : 560  loss : 0.7060163753686172\n",
      "epoch : 580  loss : 0.7059665915137412\n",
      "epoch : 600  loss : 0.7059266101114161\n",
      "epoch : 620  loss : 0.7058945009679897\n",
      "epoch : 640  loss : 0.7058687140333616\n",
      "epoch : 660  loss : 0.7058480044970393\n",
      "epoch : 680  loss : 0.7058313726594851\n",
      "epoch : 700  loss : 0.7058180156575555\n",
      "epoch : 720  loss : 0.705807288703023\n",
      "epoch : 740  loss : 0.7057986739571206\n",
      "epoch : 760  loss : 0.7057917555354016\n",
      "epoch : 780  loss : 0.7057861994347129\n",
      "epoch : 800  loss : 0.7057817374125492\n",
      "epoch : 820  loss : 0.7057781540403242\n",
      "epoch : 840  loss : 0.7057752763055302\n",
      "epoch : 860  loss : 0.7057729652609311\n",
      "epoch : 880  loss : 0.7057711093177536\n",
      "epoch : 900  loss : 0.7057696188592407\n",
      "epoch : 920  loss : 0.7057684219146283\n",
      "epoch : 940  loss : 0.7057674606847999\n",
      "epoch : 960  loss : 0.7057666887519528\n",
      "epoch : 980  loss : 0.7057660688386288\n",
      "epoch : 1000  loss : 0.7057655710079502\n",
      "epoch : 1020  loss : 0.7057651712182137\n",
      "epoch : 1040  loss : 0.705764850162072\n",
      "epoch : 1060  loss : 0.705764592334275\n",
      "epoch : 1080  loss : 0.7057643852829771\n",
      "epoch : 1100  loss : 0.7057642190084623\n",
      "epoch : 1120  loss : 0.7057640854802683\n",
      "epoch : 1140  loss : 0.7057639782493921\n",
      "epoch : 1160  loss : 0.7057638921368579\n",
      "epoch : 1180  loss : 0.7057638229836157\n",
      "epoch : 1200  loss : 0.7057637674496847\n",
      "epoch : 1220  loss : 0.7057637228528513\n",
      "epoch : 1240  loss : 0.7057636870391369\n",
      "epoch : 1260  loss : 0.7057636582787656\n",
      "epoch : 1280  loss : 0.7057636351826257\n",
      "epoch : 1300  loss : 0.7057636166351795\n",
      "epoch : 1320  loss : 0.7057636017405845\n",
      "epoch : 1340  loss : 0.7057635897794305\n",
      "epoch : 1360  loss : 0.7057635801739884\n",
      "epoch : 1380  loss : 0.7057635724603105\n",
      "epoch : 1400  loss : 0.7057635662658208\n",
      "epoch : 1420  loss : 0.7057635612913207\n",
      "epoch : 1440  loss : 0.7057635572965368\n",
      "epoch : 1460  loss : 0.7057635540885174\n",
      "epoch : 1480  loss : 0.7057635515123106\n",
      "epoch : 1500  loss : 0.7057635494434834\n",
      "epoch : 1520  loss : 0.7057635477821076\n",
      "epoch : 1540  loss : 0.705763546447937\n",
      "epoch : 1560  loss : 0.7057635453765297\n",
      "epoch : 1580  loss : 0.7057635445161342\n",
      "epoch : 1600  loss : 0.7057635438251925\n",
      "epoch : 1620  loss : 0.7057635432703305\n",
      "epoch : 1640  loss : 0.7057635428247484\n",
      "epoch : 1660  loss : 0.7057635424669227\n",
      "epoch : 1680  loss : 0.7057635421795707\n",
      "epoch : 1700  loss : 0.705763541948812\n",
      "epoch : 1720  loss : 0.7057635417635011\n",
      "epoch : 1740  loss : 0.7057635416146875\n",
      "epoch : 1760  loss : 0.705763541495182\n",
      "epoch : 1780  loss : 0.7057635413992133\n",
      "epoch : 1800  loss : 0.7057635413221455\n",
      "epoch : 1820  loss : 0.7057635412602561\n",
      "epoch : 1840  loss : 0.7057635412105555\n",
      "epoch : 1860  loss : 0.7057635411706438\n",
      "epoch : 1880  loss : 0.7057635411385923\n",
      "epoch : 1900  loss : 0.7057635411128536\n",
      "epoch : 1920  loss : 0.705763541092184\n",
      "epoch : 1940  loss : 0.7057635410755856\n",
      "epoch : 1960  loss : 0.7057635410622557\n",
      "epoch : 1980  loss : 0.7057635410515515\n",
      "epoch : 2000  loss : 0.7057635410429555\n",
      "epoch : 2020  loss : 0.7057635410360521\n",
      "epoch : 2040  loss : 0.7057635410305084\n",
      "epoch : 2060  loss : 0.7057635410260568\n",
      "epoch : 2080  loss : 0.7057635410224816\n",
      "epoch : 2100  loss : 0.7057635410196105\n",
      "epoch : 2120  loss : 0.7057635410173053\n",
      "epoch : 2140  loss : 0.7057635410154537\n",
      "epoch : 2160  loss : 0.7057635410139673\n",
      "epoch : 2180  loss : 0.7057635410127728\n",
      "epoch : 2200  loss : 0.7057635410118142\n",
      "epoch : 2220  loss : 0.7057635410110444\n",
      "epoch : 2240  loss : 0.7057635410104262\n",
      "epoch : 2260  loss : 0.7057635410099297\n",
      "epoch : 2280  loss : 0.705763541009531\n",
      "epoch : 2300  loss : 0.7057635410092103\n",
      "epoch : 2320  loss : 0.7057635410089534\n",
      "epoch : 2340  loss : 0.7057635410087468\n",
      "epoch : 2360  loss : 0.705763541008581\n",
      "epoch : 2380  loss : 0.7057635410084476\n",
      "epoch : 2400  loss : 0.705763541008341\n",
      "epoch : 2420  loss : 0.7057635410082551\n",
      "epoch : 2440  loss : 0.7057635410081861\n",
      "epoch : 2460  loss : 0.7057635410081308\n",
      "epoch : 2480  loss : 0.705763541008086\n",
      "epoch : 2500  loss : 0.7057635410080505\n",
      "epoch : 2520  loss : 0.7057635410080215\n",
      "epoch : 2540  loss : 0.7057635410079988\n",
      "epoch : 2560  loss : 0.7057635410079803\n",
      "epoch : 2580  loss : 0.7057635410079655\n",
      "epoch : 2600  loss : 0.7057635410079534\n",
      "epoch : 2620  loss : 0.7057635410079438\n",
      "epoch : 2640  loss : 0.7057635410079365\n",
      "epoch : 2660  loss : 0.7057635410079302\n",
      "epoch : 2680  loss : 0.7057635410079253\n",
      "epoch : 2700  loss : 0.7057635410079209\n",
      "epoch : 2720  loss : 0.7057635410079178\n",
      "epoch : 2740  loss : 0.7057635410079154\n",
      "epoch : 2760  loss : 0.7057635410079133\n",
      "epoch : 2780  loss : 0.7057635410079115\n",
      "epoch : 2800  loss : 0.7057635410079103\n",
      "epoch : 2820  loss : 0.7057635410079091\n",
      "epoch : 2840  loss : 0.7057635410079078\n",
      "epoch : 2860  loss : 0.7057635410079074\n",
      "epoch : 2880  loss : 0.705763541007907\n",
      "epoch : 2900  loss : 0.7057635410079064\n",
      "epoch : 2920  loss : 0.7057635410079062\n",
      "epoch : 2940  loss : 0.7057635410079062\n",
      "epoch : 2960  loss : 0.7057635410079061\n",
      "epoch : 2980  loss : 0.705763541007906\n",
      "epoch : 3000  loss : 0.7057635410079056\n",
      "epoch : 0  loss : 0.6926759010266967\n",
      "epoch : 20  loss : 0.46115911361363066\n",
      "epoch : 40  loss : 0.3159604243236549\n",
      "epoch : 60  loss : 0.2750530987484755\n",
      "epoch : 80  loss : 0.25196097889410096\n",
      "epoch : 100  loss : 0.23611875201187418\n",
      "epoch : 120  loss : 0.22456608480512774\n",
      "epoch : 140  loss : 0.2157523477197484\n",
      "epoch : 160  loss : 0.20879519584853062\n",
      "epoch : 180  loss : 0.2031575065067281\n",
      "epoch : 200  loss : 0.1984936707959772\n",
      "epoch : 220  loss : 0.19457087711248705\n",
      "epoch : 240  loss : 0.19122620243333724\n",
      "epoch : 260  loss : 0.1883419365422982\n",
      "epoch : 280  loss : 0.1858307193906928\n",
      "epoch : 300  loss : 0.18362622129296463\n",
      "epoch : 320  loss : 0.18167708958696782\n",
      "epoch : 340  loss : 0.179942893779384\n",
      "epoch : 360  loss : 0.17839133474693603\n",
      "epoch : 380  loss : 0.17699627747935415\n",
      "epoch : 400  loss : 0.1757363347228291\n",
      "epoch : 420  loss : 0.17459382794741313\n",
      "epoch : 440  loss : 0.17355401227742906\n",
      "epoch : 460  loss : 0.1726044896232754\n",
      "epoch : 480  loss : 0.1717347583128896\n",
      "epoch : 500  loss : 0.170935863265265\n",
      "epoch : 520  loss : 0.17020012126370618\n",
      "epoch : 540  loss : 0.16952090304214007\n",
      "epoch : 560  loss : 0.16889245885138593\n",
      "epoch : 580  loss : 0.16830977765586783\n",
      "epoch : 600  loss : 0.16776847259673544\n",
      "epoch : 620  loss : 0.16726468715449336\n",
      "epoch : 640  loss : 0.16679501775971792\n",
      "epoch : 660  loss : 0.16635644957434764\n",
      "epoch : 680  loss : 0.16594630289468415\n",
      "epoch : 700  loss : 0.16556218817774318\n",
      "epoch : 720  loss : 0.16520196811230084\n",
      "epoch : 740  loss : 0.1648637254786865\n",
      "epoch : 760  loss : 0.16454573579146817\n",
      "epoch : 780  loss : 0.16424644391444498\n",
      "epoch : 800  loss : 0.1639644439908799\n",
      "epoch : 820  loss : 0.16369846215340045\n",
      "epoch : 840  loss : 0.1634473415747396\n",
      "epoch : 860  loss : 0.1632100294979711\n",
      "epoch : 880  loss : 0.16298556594729907\n",
      "epoch : 900  loss : 0.16277307387098403\n",
      "epoch : 920  loss : 0.16257175050908937\n",
      "epoch : 940  loss : 0.1623808598123379\n",
      "epoch : 960  loss : 0.16219972576596026\n",
      "epoch : 980  loss : 0.16202772649517116\n",
      "epoch : 1000  loss : 0.16186428904775507\n",
      "epoch : 1020  loss : 0.16170888476490716\n",
      "epoch : 1040  loss : 0.16156102516454765\n",
      "epoch : 1060  loss : 0.16142025827227485\n",
      "epoch : 1080  loss : 0.1612861653443241\n",
      "epoch : 1100  loss : 0.16115835793465344\n",
      "epoch : 1120  loss : 0.16103647526484258\n",
      "epoch : 1140  loss : 0.16092018186105536\n",
      "epoch : 1160  loss : 0.1608091654270545\n",
      "epoch : 1180  loss : 0.16070313492630187\n",
      "epoch : 1200  loss : 0.16060181884963498\n",
      "epoch : 1220  loss : 0.16050496364798036\n",
      "epoch : 1240  loss : 0.16041233231211768\n",
      "epoch : 1260  loss : 0.16032370308371097\n",
      "epoch : 1280  loss : 0.1602388682837267\n",
      "epoch : 1300  loss : 0.16015763324600768\n",
      "epoch : 1320  loss : 0.160079815345204\n",
      "epoch : 1340  loss : 0.16000524310950975\n",
      "epoch : 1360  loss : 0.159933755409739\n",
      "epoch : 1380  loss : 0.1598652007172275\n",
      "epoch : 1400  loss : 0.15979943642387553\n",
      "epoch : 1420  loss : 0.15973632821837938\n",
      "epoch : 1440  loss : 0.15967574951333835\n",
      "epoch : 1460  loss : 0.1596175809184911\n"
     ]
    },
    {
     "name": "stdout",
     "output_type": "stream",
     "text": [
      "epoch : 1480  loss : 0.15956170975583095\n",
      "epoch : 1500  loss : 0.15950802961279273\n",
      "epoch : 1520  loss : 0.15945643993009112\n",
      "epoch : 1540  loss : 0.15940684562113597\n",
      "epoch : 1560  loss : 0.15935915672026016\n",
      "epoch : 1580  loss : 0.15931328805726214\n",
      "epoch : 1600  loss : 0.1592691589560153\n",
      "epoch : 1620  loss : 0.15922669295510664\n",
      "epoch : 1640  loss : 0.15918581754866576\n",
      "epoch : 1660  loss : 0.15914646394571516\n",
      "epoch : 1680  loss : 0.15910856684652808\n",
      "epoch : 1700  loss : 0.1590720642346226\n",
      "epoch : 1720  loss : 0.15903689718313976\n",
      "epoch : 1740  loss : 0.15900300967447098\n",
      "epoch : 1760  loss : 0.15897034843209884\n",
      "epoch : 1780  loss : 0.15893886276370572\n",
      "epoch : 1800  loss : 0.1589085044146888\n",
      "epoch : 1820  loss : 0.15887922743129304\n",
      "epoch : 1840  loss : 0.1588509880326402\n",
      "epoch : 1860  loss : 0.1588237444909958\n",
      "epoch : 1880  loss : 0.15879745701966644\n",
      "epoch : 1900  loss : 0.15877208766797438\n",
      "epoch : 1920  loss : 0.15874760022279852\n",
      "epoch : 1940  loss : 0.15872396011621404\n",
      "epoch : 1960  loss : 0.1587011343387996\n",
      "epoch : 1980  loss : 0.15867909135821553\n",
      "epoch : 2000  loss : 0.1586578010426879\n",
      "epoch : 2020  loss : 0.1586372345890612\n",
      "epoch : 2040  loss : 0.15861736445510896\n",
      "epoch : 2060  loss : 0.1585981642958155\n",
      "epoch : 2080  loss : 0.1585796089033627\n",
      "epoch : 2100  loss : 0.15856167415057737\n",
      "epoch : 2120  loss : 0.15854433693761136\n",
      "epoch : 2140  loss : 0.15852757514164426\n",
      "epoch : 2160  loss : 0.15851136756941406\n",
      "epoch : 2180  loss : 0.1584956939123942\n",
      "epoch : 2200  loss : 0.15848053470445\n",
      "epoch : 2220  loss : 0.15846587128181774\n",
      "epoch : 2240  loss : 0.15845168574526258\n",
      "epoch : 2260  loss : 0.1584379609242788\n",
      "epoch : 2280  loss : 0.15842468034320972\n",
      "epoch : 2300  loss : 0.15841182818916769\n",
      "epoch : 2320  loss : 0.15839938928164743\n",
      "epoch : 2340  loss : 0.15838734904373025\n",
      "epoch : 2360  loss : 0.15837569347478558\n",
      "epoch : 2380  loss : 0.1583644091245801\n",
      "epoch : 2400  loss : 0.15835348306871366\n",
      "epoch : 2420  loss : 0.1583429028853042\n",
      "epoch : 2440  loss : 0.1583326566328489\n",
      "epoch : 2460  loss : 0.15832273282919654\n",
      "epoch : 2480  loss : 0.15831312043156523\n",
      "epoch : 2500  loss : 0.15830380881754885\n",
      "epoch : 2520  loss : 0.15829478776705555\n",
      "epoch : 2540  loss : 0.15828604744512675\n",
      "epoch : 2560  loss : 0.1582775783855891\n",
      "epoch : 2580  loss : 0.1582693714754921\n",
      "epoch : 2600  loss : 0.15826141794028997\n",
      "epoch : 2620  loss : 0.15825370932972718\n",
      "epoch : 2640  loss : 0.1582462375043899\n",
      "epoch : 2660  loss : 0.15823899462288746\n",
      "epoch : 2680  loss : 0.15823197312963136\n",
      "epoch : 2700  loss : 0.15822516574318005\n",
      "epoch : 2720  loss : 0.15821856544511956\n",
      "epoch : 2740  loss : 0.1582121654694526\n",
      "epoch : 2760  loss : 0.15820595929247\n",
      "epoch : 2780  loss : 0.1581999406230796\n",
      "epoch : 2800  loss : 0.1581941033935695\n",
      "epoch : 2820  loss : 0.15818844175078314\n",
      "epoch : 2840  loss : 0.15818295004768668\n",
      "epoch : 2860  loss : 0.15817762283530806\n",
      "epoch : 2880  loss : 0.15817245485502962\n",
      "epoch : 2900  loss : 0.1581674410312172\n",
      "epoch : 2920  loss : 0.1581625764641685\n",
      "epoch : 2940  loss : 0.15815785642336627\n",
      "epoch : 2960  loss : 0.15815327634102047\n",
      "epoch : 2980  loss : 0.15814883180588576\n",
      "epoch : 3000  loss : 0.15814451855734202\n",
      "epoch : 0  loss : 0.8885576383394023\n",
      "epoch : 20  loss : 0.8315519247914201\n",
      "epoch : 40  loss : 0.776720137147643\n",
      "epoch : 60  loss : 0.7224662307266622\n",
      "epoch : 80  loss : 0.6605742521482422\n",
      "epoch : 100  loss : 0.595990013117545\n",
      "epoch : 120  loss : 0.540600944119087\n",
      "epoch : 140  loss : 0.49962777561543015\n",
      "epoch : 160  loss : 0.47196069288426823\n",
      "epoch : 180  loss : 0.4547672842018036\n",
      "epoch : 200  loss : 0.4454530541708801\n",
      "epoch : 220  loss : 0.4414270031617233\n",
      "epoch : 240  loss : 0.44003538065259096\n",
      "epoch : 260  loss : 0.4395040410439246\n",
      "epoch : 280  loss : 0.4391813603980793\n",
      "epoch : 300  loss : 0.43892814181219525\n",
      "epoch : 320  loss : 0.4387192346800264\n",
      "epoch : 340  loss : 0.43854533989210565\n",
      "epoch : 360  loss : 0.438399967057716\n",
      "epoch : 380  loss : 0.4382780251027194\n",
      "epoch : 400  loss : 0.4381754445271914\n",
      "epoch : 420  loss : 0.4380889394035601\n",
      "epoch : 440  loss : 0.43801583511924974\n",
      "epoch : 460  loss : 0.43795394020674094\n",
      "epoch : 480  loss : 0.4379014491390887\n",
      "epoch : 500  loss : 0.4378568674167267\n",
      "epoch : 520  loss : 0.43781895304914176\n",
      "epoch : 540  loss : 0.4377866703233016\n",
      "epoch : 560  loss : 0.4377591529304395\n",
      "epoch : 580  loss : 0.43773567431997895\n",
      "epoch : 600  loss : 0.43771562370072825\n",
      "epoch : 620  loss : 0.4376984864991647\n",
      "epoch : 640  loss : 0.4376838283656384\n",
      "epoch : 660  loss : 0.4376712820255962\n",
      "epoch : 680  loss : 0.437660536426771\n",
      "epoch : 700  loss : 0.4376513277496101\n",
      "epoch : 720  loss : 0.43764343193725647\n",
      "epoch : 740  loss : 0.4376366584702557\n",
      "epoch : 760  loss : 0.43763084516490747\n",
      "epoch : 780  loss : 0.43762585381647495\n",
      "epoch : 800  loss : 0.437621566541966\n",
      "epoch : 820  loss : 0.4376178827039143\n",
      "epoch : 840  loss : 0.43761471631802185\n",
      "epoch : 860  loss : 0.43761199386477334\n",
      "epoch : 880  loss : 0.43760965243912137\n",
      "epoch : 900  loss : 0.43760763818370113\n",
      "epoch : 920  loss : 0.4376059049603125\n",
      "epoch : 940  loss : 0.43760441322200405\n",
      "epoch : 960  loss : 0.43760312905434307\n",
      "epoch : 980  loss : 0.43760202335960363\n",
      "epoch : 1000  loss : 0.4376010711618645\n",
      "epoch : 1020  loss : 0.4376002510145428\n",
      "epoch : 1040  loss : 0.43759954449481847\n",
      "epoch : 1060  loss : 0.437598935771861\n",
      "epoch : 1080  loss : 0.43759841123780585\n",
      "epoch : 1100  loss : 0.4375979591921389\n",
      "epoch : 1120  loss : 0.43759756957158863\n",
      "epoch : 1140  loss : 0.4375972337188204\n",
      "epoch : 1160  loss : 0.4375969441842513\n",
      "epoch : 1180  loss : 0.43759669455615263\n",
      "epoch : 1200  loss : 0.43759647931493356\n",
      "epoch : 1220  loss : 0.4375962937081073\n",
      "epoch : 1240  loss : 0.4375961336429604\n",
      "epoch : 1260  loss : 0.43759599559438095\n",
      "epoch : 1280  loss : 0.43759587652567894\n",
      "epoch : 1300  loss : 0.43759577382054327\n",
      "epoch : 1320  loss : 0.43759568522455006\n",
      "epoch : 1340  loss : 0.43759560879486925\n",
      "epoch : 1360  loss : 0.4375955428570064\n",
      "epoch : 1380  loss : 0.43759548596758824\n",
      "epoch : 1400  loss : 0.43759543688233876\n",
      "epoch : 1420  loss : 0.43759539452851703\n",
      "epoch : 1440  loss : 0.4375953579811896\n",
      "epoch : 1460  loss : 0.43759532644280036\n",
      "epoch : 1480  loss : 0.4375952992255772\n",
      "epoch : 1500  loss : 0.43759527573637774\n",
      "epoch : 1520  loss : 0.43759525546363603\n",
      "epoch : 1540  loss : 0.4375952379661153\n",
      "epoch : 1560  loss : 0.4375952228632169\n",
      "epoch : 1580  loss : 0.43759520982662914\n",
      "epoch : 1600  loss : 0.4375951985731287\n",
      "epoch : 1620  loss : 0.4375951888583772\n",
      "epoch : 1640  loss : 0.43759518047157175\n",
      "epoch : 1660  loss : 0.43759517323083497\n",
      "epoch : 1680  loss : 0.43759516697923867\n",
      "epoch : 1700  loss : 0.43759516158137596\n",
      "epoch : 1720  loss : 0.43759515692040557\n",
      "epoch : 1740  loss : 0.43759515289550177\n",
      "epoch : 1760  loss : 0.4375951494196567\n",
      "epoch : 1780  loss : 0.4375951464177835\n",
      "epoch : 1800  loss : 0.4375951438250809\n",
      "epoch : 1820  loss : 0.43759514158562246\n",
      "epoch : 1840  loss : 0.43759513965113866\n",
      "epoch : 1860  loss : 0.43759513797996863\n",
      "epoch : 1880  loss : 0.43759513653615273\n",
      "epoch : 1900  loss : 0.43759513528865207\n",
      "epoch : 1920  loss : 0.43759513421067386\n",
      "epoch : 1940  loss : 0.4375951332790899\n",
      "epoch : 1960  loss : 0.43759513247393494\n",
      "epoch : 1980  loss : 0.43759513177797243\n",
      "epoch : 2000  loss : 0.4375951311763224\n",
      "epoch : 2020  loss : 0.43759513065613764\n",
      "epoch : 2040  loss : 0.43759513020632657\n",
      "epoch : 2060  loss : 0.4375951298173116\n",
      "epoch : 2080  loss : 0.4375951294808234\n",
      "epoch : 2100  loss : 0.43759512918972115\n",
      "epoch : 2120  loss : 0.43759512893783836\n",
      "epoch : 2140  loss : 0.4375951287198497\n",
      "epoch : 2160  loss : 0.4375951285311561\n",
      "epoch : 2180  loss : 0.4375951283677848\n",
      "epoch : 2200  loss : 0.4375951282263054\n",
      "epoch : 2220  loss : 0.4375951281037537\n",
      "epoch : 2240  loss : 0.43759512799756956\n",
      "epoch : 2260  loss : 0.43759512790554106\n",
      "epoch : 2280  loss : 0.4375951278257571\n",
      "epoch : 2300  loss : 0.4375951277565663\n",
      "epoch : 2320  loss : 0.43759512769654174\n",
      "epoch : 2340  loss : 0.43759512764445013\n",
      "epoch : 2360  loss : 0.43759512759922575\n",
      "epoch : 2380  loss : 0.43759512755994695\n",
      "epoch : 2400  loss : 0.43759512752581703\n",
      "epoch : 2420  loss : 0.4375951274961476\n",
      "epoch : 2440  loss : 0.4375951274703426\n",
      "epoch : 2460  loss : 0.4375951274478874\n",
      "epoch : 2480  loss : 0.4375951274283361\n",
      "epoch : 2500  loss : 0.4375951274113034\n",
      "epoch : 2520  loss : 0.4375951273964556\n",
      "epoch : 2540  loss : 0.4375951273835039\n",
      "epoch : 2560  loss : 0.4375951273721985\n",
      "epoch : 2580  loss : 0.43759512736232314\n",
      "epoch : 2600  loss : 0.43759512735369027\n",
      "epoch : 2620  loss : 0.4375951273461374\n",
      "epoch : 2640  loss : 0.4375951273395242\n",
      "epoch : 2660  loss : 0.4375951273337285\n",
      "epoch : 2680  loss : 0.43759512732864475\n",
      "epoch : 2700  loss : 0.43759512732418127\n",
      "epoch : 2720  loss : 0.43759512732025835\n",
      "epoch : 2740  loss : 0.4375951273168071\n",
      "epoch : 2760  loss : 0.4375951273137677\n",
      "epoch : 2780  loss : 0.4375951273110878\n",
      "epoch : 2800  loss : 0.4375951273087225\n",
      "epoch : 2820  loss : 0.43759512730663225\n",
      "epoch : 2840  loss : 0.43759512730478284\n",
      "epoch : 2860  loss : 0.4375951273031447\n",
      "epoch : 2880  loss : 0.43759512730169164\n",
      "epoch : 2900  loss : 0.4375951273004012\n",
      "epoch : 2920  loss : 0.4375951272992538\n",
      "epoch : 2940  loss : 0.4375951272982322\n",
      "epoch : 2960  loss : 0.4375951272973212\n",
      "epoch : 2980  loss : 0.437595127296508\n",
      "epoch : 3000  loss : 0.4375951272957811\n"
     ]
    }
   ],
   "source": [
    "prediction2,actual2 = OVR(wine2,0.3,3000,0.1)"
   ]
  },
  {
   "cell_type": "code",
   "execution_count": 74,
   "metadata": {},
   "outputs": [
    {
     "data": {
      "text/plain": [
       "array([[11.,  0.,  2.],\n",
       "       [ 2., 15.,  0.],\n",
       "       [ 6.,  1., 16.]])"
      ]
     },
     "execution_count": 74,
     "metadata": {},
     "output_type": "execute_result"
    }
   ],
   "source": [
    "wine_con = confusion_matrix(actual2, prediction2)\n",
    "wine_con"
   ]
  },
  {
   "cell_type": "code",
   "execution_count": 40,
   "metadata": {},
   "outputs": [
    {
     "data": {
      "text/plain": [
       "array([[1, 0, 0, 0, 0, 0, 0, 0, 0, 0, 0, 0, 0, 0, 1, 0, 0, 0, 0, 0, 0, 0,\n",
       "        1, 0, 1, 0, 0, 1, 0, 1, 0, 0, 1, 1, 1, 1, 1, 0, 0, 0, 1, 0, 0, 1,\n",
       "        0, 0, 0, 1, 1, 0, 1, 1, 0],\n",
       "       [0, 0, 0, 1, 1, 0, 1, 1, 1, 1, 1, 0, 1, 0, 0, 1, 0, 1, 0, 1, 0, 1,\n",
       "        0, 1, 0, 0, 1, 0, 1, 0, 0, 1, 0, 0, 0, 0, 0, 1, 1, 1, 0, 1, 0, 0,\n",
       "        1, 1, 0, 0, 0, 0, 0, 0, 0],\n",
       "       [0, 1, 1, 0, 0, 1, 0, 0, 0, 0, 0, 1, 0, 1, 0, 0, 1, 0, 1, 0, 1, 0,\n",
       "        0, 0, 0, 1, 0, 0, 0, 0, 1, 0, 0, 0, 0, 0, 0, 0, 0, 0, 0, 0, 1, 0,\n",
       "        0, 0, 1, 0, 0, 1, 0, 0, 1]])"
      ]
     },
     "execution_count": 40,
     "metadata": {},
     "output_type": "execute_result"
    }
   ],
   "source": [
    "actual2"
   ]
  },
  {
   "cell_type": "markdown",
   "metadata": {},
   "source": [
    "# Micro F1 & Macro F1"
   ]
  },
  {
   "cell_type": "code",
   "execution_count": 41,
   "metadata": {},
   "outputs": [],
   "source": [
    "def f1_scores(con,score): \n",
    "    # score = 0 : micro / score =1 : macro / score = 2 : weighted macro\n",
    "    \n",
    "    # (1) Micro F1\n",
    "    if score==0: \n",
    "        return np.diag(con).sum()/con.sum()\n",
    "    rec,pre,f1 = [],[],[]\n",
    "    \n",
    "    for i in range(con.shape[0]):\n",
    "        recall = con[i][i] / con[i].sum()\n",
    "        precision = con[i][i] / con[:,i].sum()\n",
    "        f1_score = 2*recall*precision / (recall+precision)\n",
    "        rec.append(recall)\n",
    "        pre.append(precision)\n",
    "        f1.append(f1_score)\n",
    "    \n",
    "    # (2) Macro F1\n",
    "    if score==1:\n",
    "        return np.average(f1)\n",
    "    \n",
    "    # (3) Weighted Macro F1\n",
    "    elif score==2:\n",
    "        w = [con[x].sum() for x in range(con.shape[0])]\n",
    "        return np.average(f1,weights=w)"
   ]
  },
  {
   "cell_type": "code",
   "execution_count": 79,
   "metadata": {},
   "outputs": [
    {
     "name": "stdout",
     "output_type": "stream",
     "text": [
      "Wine Dataset\n",
      "Micro F1 : 0.792\n",
      "Macro F1 (Average) : 0.792\n",
      "Macro F1 (Weighted Average) : 0.799\n"
     ]
    }
   ],
   "source": [
    "print('Wine Dataset')\n",
    "print('Micro F1 :',f1_scores(wine_con,0).round(3))\n",
    "print('Macro F1 (Average) :',f1_scores(wine_con,1).round(3))\n",
    "print('Macro F1 (Weighted Average) :',f1_scores(wine_con,2).round(3))"
   ]
  },
  {
   "cell_type": "code",
   "execution_count": 76,
   "metadata": {},
   "outputs": [
    {
     "data": {
      "text/plain": [
       "0.792359571322986"
      ]
     },
     "execution_count": 76,
     "metadata": {},
     "output_type": "execute_result"
    }
   ],
   "source": [
    "f1_scores(wine_con,1)"
   ]
  },
  {
   "cell_type": "code",
   "execution_count": null,
   "metadata": {},
   "outputs": [],
   "source": []
  }
 ],
 "metadata": {
  "kernelspec": {
   "display_name": "Python 3",
   "language": "python",
   "name": "python3"
  },
  "language_info": {
   "codemirror_mode": {
    "name": "ipython",
    "version": 3
   },
   "file_extension": ".py",
   "mimetype": "text/x-python",
   "name": "python",
   "nbconvert_exporter": "python",
   "pygments_lexer": "ipython3",
   "version": "3.6.9"
  }
 },
 "nbformat": 4,
 "nbformat_minor": 2
}
