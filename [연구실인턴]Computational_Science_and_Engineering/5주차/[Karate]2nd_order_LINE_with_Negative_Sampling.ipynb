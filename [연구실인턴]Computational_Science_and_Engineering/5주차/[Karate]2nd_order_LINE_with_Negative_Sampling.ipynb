{
 "cells": [
  {
   "cell_type": "markdown",
   "metadata": {},
   "source": [
    "# [Karate] 2nd order LINE implementation with Negative Sampling"
   ]
  },
  {
   "cell_type": "markdown",
   "metadata": {},
   "source": [
    "## 1. Import Dataset & Libraries"
   ]
  },
  {
   "cell_type": "code",
   "execution_count": 1,
   "metadata": {},
   "outputs": [],
   "source": [
    "import networkx as nx\n",
    "import matplotlib.pyplot as plt\n",
    "import numpy as np\n",
    "import pandas as pd\n",
    "\n",
    "%matplotlib inline"
   ]
  },
  {
   "cell_type": "markdown",
   "metadata": {},
   "source": [
    "#### 1) make graph ( undirected -> directed)"
   ]
  },
  {
   "cell_type": "code",
   "execution_count": 2,
   "metadata": {},
   "outputs": [],
   "source": [
    "edge = pd.read_csv('karate_club.edgelist', sep=' ', names=['x','y','w'])\n",
    "edge['w']=1 # unweighted graph"
   ]
  },
  {
   "cell_type": "code",
   "execution_count": 3,
   "metadata": {},
   "outputs": [],
   "source": [
    "graph = nx.Graph()\n",
    "for i in range(edge.shape[0]):\n",
    "    graph.add_node(node_for_adding = edge['x'][i])\n",
    "    graph.add_node(node_for_adding = edge['y'][i])\n",
    "    graph.add_edge(edge['x'][i], edge['y'][i])"
   ]
  },
  {
   "cell_type": "code",
   "execution_count": 4,
   "metadata": {},
   "outputs": [],
   "source": [
    "# make it as directed graph\n",
    "reverse_edge = edge[['y','x','w']]\n",
    "reverse_edge.columns = ['x','y','w']\n",
    "\n",
    "total_edge = pd.concat([edge,reverse_edge])\n",
    "total_edge = np.array(total_edge)\n",
    "np.random.shuffle(total_edge)"
   ]
  },
  {
   "cell_type": "markdown",
   "metadata": {},
   "source": [
    "#### 2) adjacent matrix & one-hot encoded matrix"
   ]
  },
  {
   "cell_type": "code",
   "execution_count": 5,
   "metadata": {},
   "outputs": [],
   "source": [
    "A = nx.to_numpy_matrix(graph, nodelist=sorted(graph.nodes()))\n",
    "OH = np.identity(A.shape[0])"
   ]
  },
  {
   "cell_type": "code",
   "execution_count": 6,
   "metadata": {},
   "outputs": [],
   "source": [
    "OH = np.identity(A.shape[0])"
   ]
  },
  {
   "cell_type": "markdown",
   "metadata": {},
   "source": [
    "## 2. Define Functions"
   ]
  },
  {
   "cell_type": "code",
   "execution_count": 7,
   "metadata": {},
   "outputs": [],
   "source": [
    "def sigmoid(x):\n",
    "    return 1/(1+np.exp(-x+0.00001))"
   ]
  },
  {
   "cell_type": "code",
   "execution_count": 8,
   "metadata": {},
   "outputs": [],
   "source": [
    "# get two nodes from one edge\n",
    "def node_from_edge(edges):\n",
    "    random_idx = np.random.choice(edges.shape[0],1)\n",
    "    edge = edges[random_idx][0]\n",
    "    return edge[0],edge[1]"
   ]
  },
  {
   "cell_type": "code",
   "execution_count": 9,
   "metadata": {},
   "outputs": [],
   "source": [
    "degree = np.array(A.sum(axis=1).flatten())"
   ]
  },
  {
   "cell_type": "code",
   "execution_count": 10,
   "metadata": {},
   "outputs": [],
   "source": [
    "def get_neg(idx,n):\n",
    "    unconnected = np.where(A[idx]==0)[1]    \n",
    "    unconnected_degree = degree[0][unconnected]\n",
    "    unconnected_weight = unconnected_degree / unconnected_degree.sum()\n",
    "    return np.random.choice(unconnected, n, p=unconnected_weight)"
   ]
  },
  {
   "cell_type": "markdown",
   "metadata": {},
   "source": [
    "## 3. Second-order Proximity with Negative Sampling"
   ]
  },
  {
   "cell_type": "code",
   "execution_count": 11,
   "metadata": {},
   "outputs": [],
   "source": [
    "def second_order_neg_sam(num_neg,epoch,lr,dim):\n",
    "    \n",
    "    context_vector = np.random.rand(OH.shape[0],2)\n",
    "    itself_vector = np.random.rand(OH.shape[0],2)\n",
    "    \n",
    "    for _ in range(epoch): # epoch\n",
    "        for edge in total_edge:\n",
    "            start,end = edge[0],edge[1]\n",
    "\n",
    "            start_context,start_itself = context_vector[start], itself_vector[start]\n",
    "            end_context,end_itself = context_vector[end], itself_vector[end]        \n",
    "\n",
    "            EH = np.zeros(dim)\n",
    "            \n",
    "            pos_case = sigmoid(np.dot(context_vector[end],itself_vector[start]))-1\n",
    "            EH += pos_case*context_vector[end]\n",
    "            context_vector[end] -= lr*pos_case*itself_vector[start] # 1) Context / Pos\n",
    "                        \n",
    "            neg_samples = get_neg(start,num_neg)\n",
    "            \n",
    "            for neg in neg_samples:\n",
    "                neg_case = sigmoid(np.dot(context_vector[neg],itself_vector[start]))-0\n",
    "                EH += neg_case*context_vector[neg]\n",
    "                context_vector[neg] -= lr*neg_case*itself_vector[start] # 2) Context / Neg \n",
    "            \n",
    "            itself_vector[start] -= lr*EH # 3) Itself / target\n",
    "            \n",
    "    return context_vector, itself_vector"
   ]
  },
  {
   "cell_type": "code",
   "execution_count": 12,
   "metadata": {
    "scrolled": true
   },
   "outputs": [],
   "source": [
    "con,it = second_order_neg_sam(5,20,0.1,2)"
   ]
  },
  {
   "cell_type": "markdown",
   "metadata": {},
   "source": [
    "## 4. Visualization"
   ]
  },
  {
   "cell_type": "code",
   "execution_count": 13,
   "metadata": {},
   "outputs": [],
   "source": [
    "Emb_df = pd.DataFrame({'X':it[:,0], 'Y':it[:,1],'Label':range(1,35)})\n",
    "\n",
    "blue = [1,2,3,4,5,6,7,8,9,11,12,13,14,17,18,20,22]\n",
    "red = list(set(range(0,35))-set(blue))\n",
    "\n",
    "Emb_df.loc[Emb_df.Label.isin(blue),'Color']=1\n",
    "Emb_df.loc[Emb_df.Label.isin(red),'Color']=0"
   ]
  },
  {
   "cell_type": "code",
   "execution_count": 14,
   "metadata": {},
   "outputs": [
    {
     "data": {
      "image/png": "[encoded data removed]",
      "text/plain": [
       "<Figure size 432x288 with 1 Axes>"
      ]
     },
     "metadata": {
      "needs_background": "light"
     },
     "output_type": "display_data"
    }
   ],
   "source": [
    "plt.scatter(Emb_df['X'], Emb_df['Y'], c=Emb_df['Color'])\n",
    "\n",
    "for i,txt in enumerate(Emb_df['Label']):\n",
    "    plt.annotate(txt, (Emb_df['X'][i], Emb_df['Y'][i]))"
   ]
  }
 ],
 "metadata": {
  "kernelspec": {
   "display_name": "Python 3",
   "language": "python",
   "name": "python3"
  },
  "language_info": {
   "codemirror_mode": {
    "name": "ipython",
    "version": 3
   },
   "file_extension": ".py",
   "mimetype": "text/x-python",
   "name": "python",
   "nbconvert_exporter": "python",
   "pygments_lexer": "ipython3",
   "version": "3.6.9"
  }
 },
 "nbformat": 4,
 "nbformat_minor": 2
}
