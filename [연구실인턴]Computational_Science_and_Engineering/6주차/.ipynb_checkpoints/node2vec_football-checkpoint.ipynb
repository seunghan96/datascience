{
 "cells": [
  {
   "cell_type": "markdown",
   "metadata": {},
   "source": [
    "# [ node2vec implementation ]\n",
    "- with Football dataset"
   ]
  },
  {
   "cell_type": "markdown",
   "metadata": {},
   "source": [
    "# 1. Import Dataset  & Libraries"
   ]
  },
  {
   "cell_type": "code",
   "execution_count": 1,
   "metadata": {},
   "outputs": [],
   "source": [
    "import networkx as nx\n",
    "import matplotlib.pyplot as plt\n",
    "import numpy as np\n",
    "import pandas as pd\n",
    "from tqdm import tqdm\n",
    "\n",
    "%matplotlib inline"
   ]
  },
  {
   "cell_type": "code",
   "execution_count": 2,
   "metadata": {},
   "outputs": [],
   "source": [
    "H = nx.read_gml('football.gml')"
   ]
  },
  {
   "cell_type": "markdown",
   "metadata": {},
   "source": [
    "adjacent matrix & one-hot encoded matrix"
   ]
  },
  {
   "cell_type": "code",
   "execution_count": 3,
   "metadata": {},
   "outputs": [],
   "source": [
    "A = nx.to_numpy_matrix(H,nodelist=H.nodes())"
   ]
  },
  {
   "cell_type": "code",
   "execution_count": 4,
   "metadata": {},
   "outputs": [],
   "source": [
    "OH = np.identity(A.shape[0])"
   ]
  },
  {
   "cell_type": "markdown",
   "metadata": {},
   "source": [
    "# 2. Define functions"
   ]
  },
  {
   "cell_type": "markdown",
   "metadata": {},
   "source": [
    "#### 1) softmax"
   ]
  },
  {
   "cell_type": "code",
   "execution_count": 5,
   "metadata": {},
   "outputs": [],
   "source": [
    "def softmax(x):\n",
    "    c = np.max(x)\n",
    "    b = x-c\n",
    "    exp_x = np.exp(b)\n",
    "    sum_exp_x = np.sum(exp_x)\n",
    "    y = exp_x / sum_exp_x\n",
    "    return y"
   ]
  },
  {
   "cell_type": "markdown",
   "metadata": {},
   "source": [
    "#### 2) pos_list & neg_list : getting the positive & negative nodes"
   ]
  },
  {
   "cell_type": "code",
   "execution_count": 6,
   "metadata": {},
   "outputs": [],
   "source": [
    "def pos_list(node):\n",
    "    return np.nonzero(A[node])[1]    \n",
    "\n",
    "def neg_list(node):\n",
    "    return np.where(A[node]==0)[1]"
   ]
  },
  {
   "cell_type": "markdown",
   "metadata": {},
   "source": [
    "#### 3) next_choice : choosing the next step according to the transition probability, considering the previous state"
   ]
  },
  {
   "cell_type": "markdown",
   "metadata": {},
   "source": [
    "- (1) previous : 't'\n",
    "- (2) now : 'v'\n",
    "- (3) next : 'x'"
   ]
  },
  {
   "cell_type": "code",
   "execution_count": 7,
   "metadata": {},
   "outputs": [],
   "source": [
    "def next_choice(v,t,p,q):\n",
    "    positive = pos_list(v)\n",
    "    li = np.array([])\n",
    "    for pos in positive:\n",
    "        if pos==t:\n",
    "            li = np.append(li,1/p)\n",
    "        elif pos in pos_list(t):\n",
    "            li = np.append(li,1)\n",
    "        else :\n",
    "            li = np.append(li,1/q)\n",
    "    \n",
    "    prob = li/li.sum()\n",
    "    \n",
    "    return np.random.choice(positive,1,p=prob)[0]"
   ]
  },
  {
   "cell_type": "markdown",
   "metadata": {},
   "source": [
    "#### 4) random_step : getting the random step, using next_choice"
   ]
  },
  {
   "cell_type": "code",
   "execution_count": 8,
   "metadata": {},
   "outputs": [],
   "source": [
    "def random_step(v,num_walk,p,q):\n",
    "    t = np.random.choice(pos_list(v)) # (1) previous\n",
    "    \n",
    "    walk_list = [v]\n",
    "    for _ in range(num_walk):\n",
    "        x = next_choice(v,t,p,q)\n",
    "        walk_list.append(x)\n",
    "        v = x\n",
    "        t = v\n",
    "    return walk_list"
   ]
  },
  {
   "cell_type": "markdown",
   "metadata": {},
   "source": [
    "#### 5) feed forward & back propagation "
   ]
  },
  {
   "cell_type": "code",
   "execution_count": 9,
   "metadata": {},
   "outputs": [],
   "source": [
    "def feedforward(input_word,index,w1,w2):\n",
    "    h=np.matmul(w1.T,input_word[index])\n",
    "    u=np.matmul(w2.T,h)\n",
    "    y = softmax(u)\n",
    "    return h,u,y     "
   ]
  },
  {
   "cell_type": "code",
   "execution_count": 10,
   "metadata": {},
   "outputs": [],
   "source": [
    "def backprop(input_word,w1,w2,lr,h,y_pred,index,con):\n",
    "    front = input_word[min(0,index-con) : index]\n",
    "    back = input_word[index+1 : max(index+con+1,len(input_word))]\n",
    "    window_OH = np.concatenate([front,back])\n",
    "    \n",
    "    for j in range(w2.shape[1]):\n",
    "        adjust = (y_pred-window_OH)[:,j].sum()*h\n",
    "        w2[:,j] -= -lr*adjust\n",
    "        \n",
    "    adjust2 = ((y_pred-window_OH).sum(axis=0)*w2).T\n",
    "    w1-= lr*adjust2\n",
    "    return w1,w2    "
   ]
  },
  {
   "cell_type": "markdown",
   "metadata": {},
   "source": [
    "# 3. node2vec"
   ]
  },
  {
   "cell_type": "code",
   "execution_count": 11,
   "metadata": {},
   "outputs": [],
   "source": [
    "def node2vec(input_word,dim,num_epoch,num_walk,lr,con,p,q):   \n",
    "    W1 = np.random.random((A.shape[0],dim))\n",
    "    W2 = np.random.random((dim, A.shape[0]))    \n",
    "    \n",
    "    for epoch in tqdm(range(num_epoch)):\n",
    "        for v in np.arange(A.shape[0]):\n",
    "            walk = random_step(v,num_walk,p,q) # 1) random walk            \n",
    "            RW = input_word[walk]\n",
    "            for i in range(len(RW)):\n",
    "                h,u,y = feedforward(RW,i,W1,W2) # 2) feed forward\n",
    "                W1,W2 = backprop(RW,W1,W2,lr,h,y,i,con) # 3) back propagation\n",
    "                \n",
    "    return W1,W2"
   ]
  },
  {
   "cell_type": "markdown",
   "metadata": {},
   "source": [
    "# 4. Result"
   ]
  },
  {
   "cell_type": "code",
   "execution_count": 12,
   "metadata": {},
   "outputs": [
    {
     "name": "stderr",
     "output_type": "stream",
     "text": [
      "100%|████████████████████████████████████████████████████████████████████████████████████| 5/5 [00:52<00:00, 10.29s/it]\n"
     ]
    }
   ],
   "source": [
    "w1,w2 = node2vec(input_word=OH,\n",
    "                 dim=2,\n",
    "                 num_epoch=5,\n",
    "                 num_walk=13,\n",
    "                 lr=0.001,\n",
    "                 con=5,\n",
    "                 p=2,\n",
    "                 q=2)"
   ]
  },
  {
   "cell_type": "code",
   "execution_count": 13,
   "metadata": {},
   "outputs": [],
   "source": [
    "Emb = np.matmul(OH,w1)"
   ]
  },
  {
   "cell_type": "code",
   "execution_count": 14,
   "metadata": {},
   "outputs": [],
   "source": [
    "Emb_df = pd.DataFrame(Emb)\n",
    "Emb_df['Label'] = dict(H.node('value')).values()\n",
    "\n",
    "Emb_df.loc[Emb_df.Label==0,'Color']='#F22F2F'\n",
    "Emb_df.loc[Emb_df.Label==1,'Color']='#F5A913'\n",
    "Emb_df.loc[Emb_df.Label==2,'Color']='#F5F513'\n",
    "Emb_df.loc[Emb_df.Label==3,'Color']='#8BF513'\n",
    "Emb_df.loc[Emb_df.Label==4,'Color']='#8DBA5A'\n",
    "Emb_df.loc[Emb_df.Label==5,'Color']='#25FDFD'\n",
    "Emb_df.loc[Emb_df.Label==6,'Color']='#25A7FD'\n",
    "Emb_df.loc[Emb_df.Label==7,'Color']='#1273B3'\n",
    "Emb_df.loc[Emb_df.Label==8,'Color']='#8E12B3'\n",
    "Emb_df.loc[Emb_df.Label==9,'Color']='#EBCAF5'\n",
    "Emb_df.loc[Emb_df.Label==10,'Color']='#D468C2'\n",
    "Emb_df.loc[Emb_df.Label==11,'Color']='#1C090D'\n",
    "\n",
    "Emb_df = Emb_df.drop('Label',axis=1)"
   ]
  },
  {
   "cell_type": "code",
   "execution_count": 15,
   "metadata": {},
   "outputs": [
    {
     "data": {
      "text/plain": [
       "<matplotlib.collections.PathCollection at 0x148d53fe240>"
      ]
     },
     "execution_count": 15,
     "metadata": {},
     "output_type": "execute_result"
    },
    {
     "data": {
      "image/png": "[encoded data removed]",
      "text/plain": [
       "<Figure size 432x288 with 1 Axes>"
      ]
     },
     "metadata": {
      "needs_background": "light"
     },
     "output_type": "display_data"
    }
   ],
   "source": [
    "plt.scatter(Emb_df[0],Emb_df[1],c=Emb_df['Color'])"
   ]
  },
  {
   "cell_type": "code",
   "execution_count": null,
   "metadata": {},
   "outputs": [],
   "source": []
  }
 ],
 "metadata": {
  "kernelspec": {
   "display_name": "Python 3",
   "language": "python",
   "name": "python3"
  },
  "language_info": {
   "codemirror_mode": {
    "name": "ipython",
    "version": 3
   },
   "file_extension": ".py",
   "mimetype": "text/x-python",
   "name": "python",
   "nbconvert_exporter": "python",
   "pygments_lexer": "ipython3",
   "version": "3.6.9"
  }
 },
 "nbformat": 4,
 "nbformat_minor": 2
}
