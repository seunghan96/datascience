{
 "cells": [
  {
   "cell_type": "markdown",
   "metadata": {},
   "source": [
    "# [ node2vec implementation ]\n",
    "- with Karate dataset"
   ]
  },
  {
   "cell_type": "markdown",
   "metadata": {},
   "source": [
    "# 1. Import Dataset  & Libraries"
   ]
  },
  {
   "cell_type": "code",
   "execution_count": 1,
   "metadata": {},
   "outputs": [],
   "source": [
    "import networkx as nx\n",
    "import matplotlib.pyplot as plt\n",
    "import numpy as np\n",
    "import pandas as pd\n",
    "\n",
    "%matplotlib inline"
   ]
  },
  {
   "cell_type": "code",
   "execution_count": 2,
   "metadata": {},
   "outputs": [],
   "source": [
    "edge = pd.read_csv('karate_club.edgelist', sep=' ', names=['x','y','w'])"
   ]
  },
  {
   "cell_type": "code",
   "execution_count": 3,
   "metadata": {},
   "outputs": [],
   "source": [
    "graph = nx.Graph()\n",
    "for i in range(edge.shape[0]):\n",
    "    graph.add_node(node_for_adding = edge['x'][i])\n",
    "    graph.add_node(node_for_adding = edge['y'][i])\n",
    "    graph.add_edge(edge['x'][i], edge['y'][i])"
   ]
  },
  {
   "cell_type": "markdown",
   "metadata": {},
   "source": [
    "adjacent matrix & one-hot encoded matrix"
   ]
  },
  {
   "cell_type": "code",
   "execution_count": 4,
   "metadata": {},
   "outputs": [],
   "source": [
    "A = nx.to_numpy_matrix(graph, nodelist=sorted(graph.nodes()))\n",
    "OH = np.identity(A.shape[0])"
   ]
  },
  {
   "cell_type": "markdown",
   "metadata": {},
   "source": [
    "# 2. Define functions"
   ]
  },
  {
   "cell_type": "markdown",
   "metadata": {},
   "source": [
    "#### 1) sigmoid"
   ]
  },
  {
   "cell_type": "code",
   "execution_count": 5,
   "metadata": {},
   "outputs": [],
   "source": [
    "def sigmoid(x):\n",
    "    return 1/(1+np.exp(-x))"
   ]
  },
  {
   "cell_type": "markdown",
   "metadata": {},
   "source": [
    "#### 2) pos_list & neg_list : getting the positive & negative nodes"
   ]
  },
  {
   "cell_type": "code",
   "execution_count": 6,
   "metadata": {},
   "outputs": [],
   "source": [
    "def pos_list(node):\n",
    "    return np.nonzero(A[node])[1]    \n",
    "\n",
    "def neg_list(node):\n",
    "    return np.where(A[node]==0)[1]"
   ]
  },
  {
   "cell_type": "markdown",
   "metadata": {},
   "source": [
    "#### 3) next_choice : choosing the next step according to the transition probability, considering the previous state"
   ]
  },
  {
   "cell_type": "markdown",
   "metadata": {},
   "source": [
    "- (1) previous : 't'\n",
    "- (2) now : 'v'\n",
    "- (3) next : 'x'"
   ]
  },
  {
   "cell_type": "code",
   "execution_count": 7,
   "metadata": {},
   "outputs": [],
   "source": [
    "def next_choice(v,t,p,q):\n",
    "    positive = pos_list(v)\n",
    "    li = np.array([])\n",
    "    for pos in positive:\n",
    "        if pos==t:\n",
    "            li = np.append(li,1/p)\n",
    "        elif pos in pos_list(t):\n",
    "            li = np.append(li,1)\n",
    "        else :\n",
    "            li = np.append(li,1/q)\n",
    "    \n",
    "    prob = li/li.sum()\n",
    "    \n",
    "    return np.random.choice(positive,1,p=prob)[0]"
   ]
  },
  {
   "cell_type": "markdown",
   "metadata": {},
   "source": [
    "#### 4) random_step : getting the random step, using next_choice"
   ]
  },
  {
   "cell_type": "code",
   "execution_count": 8,
   "metadata": {},
   "outputs": [],
   "source": [
    "def random_step(v,num_walk,p,q):\n",
    "    t = np.random.choice(pos_list(v)) # (1) previous\n",
    "    \n",
    "    walk_list = [v]\n",
    "    for _ in range(num_walk):\n",
    "        x = next_choice(v,t,p,q)\n",
    "        walk_list.append(x)\n",
    "        v = x\n",
    "        t = v\n",
    "    return walk_list"
   ]
  },
  {
   "cell_type": "markdown",
   "metadata": {},
   "source": [
    "# 3. node2vec"
   ]
  },
  {
   "cell_type": "code",
   "execution_count": 9,
   "metadata": {},
   "outputs": [],
   "source": [
    "def node2vec(dim,num_epoch,length,lr,k,p,q,num_neg):   \n",
    "    embed = np.random.random((A.shape[0],dim))\n",
    "    \n",
    "    for epoch in range(num_epoch):        \n",
    "        for v in np.arange(A.shape[0]):         \n",
    "            walk = random_step(v,length-1,p,q) # (1) random walk                             \n",
    "            \n",
    "            for idx in range(length-k):     \n",
    "            \n",
    "                not_neg_list = np.append(walk[max(0,idx-k):idx+k],pos_list(walk[idx]))\n",
    "                neg_list = list(set(np.arange(A.shape[0])) - set(not_neg_list))\n",
    "                random_neg = np.random.choice(neg_list,num_neg,replace=False)\n",
    "                            \n",
    "                for pos in range(idx+1,idx+k+1):                                        \n",
    "                    if walk[idx]!=walk[pos]:                \n",
    "                        pos_embed = embed[walk[pos]] \n",
    "                        embed[walk[idx]] -= lr * (sigmoid(np.dot(embed[walk[idx]],pos_embed))-1) * pos_embed\n",
    "                \n",
    "                for neg in random_neg:\n",
    "                    neg_embed = embed[neg]\n",
    "                    embed[walk[idx]] -= lr * (sigmoid(np.dot(embed[walk[idx]],neg_embed))) * neg_embed\n",
    "\n",
    "    return embed"
   ]
  },
  {
   "cell_type": "markdown",
   "metadata": {},
   "source": [
    "# 4. Result"
   ]
  },
  {
   "attachments": {
    "image.png": {
     "image/png": "[encoded data removed]"
    }
   },
   "cell_type": "markdown",
   "metadata": {},
   "source": [
    "![image.png](attachment:image.png)"
   ]
  },
  {
   "cell_type": "code",
   "execution_count": 15,
   "metadata": {},
   "outputs": [],
   "source": [
    "embed = node2vec(dim=2,num_epoch=10,length=8,lr=0.02,\n",
    "                 k=2,p=2,q=2,num_neg=5)"
   ]
  },
  {
   "cell_type": "code",
   "execution_count": 13,
   "metadata": {},
   "outputs": [],
   "source": [
    "def visualize(Emb):    \n",
    "    Emb_df = pd.DataFrame({'X':Emb[:,0], 'Y':Emb[:,1],'Label':range(1,35)})\n",
    "    blue = [1,2,3,4,5,6,7,8,9,11,12,13,14,17,18,20,22]\n",
    "    red = list(set(range(0,34))-set(blue))\n",
    "    Emb_df.loc[Emb_df.Label.isin(blue),'Color']=1\n",
    "    Emb_df.loc[Emb_df.Label.isin(red),'Color']=0\n",
    "    \n",
    "    plt.scatter(Emb_df['X'], Emb_df['Y'], c=Emb_df['Color'],s=100)\n",
    "\n",
    "    for i,txt in enumerate(Emb_df['Label']):\n",
    "        plt.annotate(txt, (Emb_df['X'][i], Emb_df['Y'][i]))"
   ]
  },
  {
   "cell_type": "code",
   "execution_count": 16,
   "metadata": {},
   "outputs": [
    {
     "data": {
      "image/png": "[encoded data removed]",
      "text/plain": [
       "<Figure size 432x288 with 1 Axes>"
      ]
     },
     "metadata": {
      "needs_background": "light"
     },
     "output_type": "display_data"
    }
   ],
   "source": [
    "visualize(embed)"
   ]
  },
  {
   "cell_type": "code",
   "execution_count": null,
   "metadata": {},
   "outputs": [],
   "source": [
    "#pd.DataFrame(embed).to_csv('Karate_embedded_node2vec.csv')"
   ]
  }
 ],
 "metadata": {
  "kernelspec": {
   "display_name": "Python 3",
   "language": "python",
   "name": "python3"
  },
  "language_info": {
   "codemirror_mode": {
    "name": "ipython",
    "version": 3
   },
   "file_extension": ".py",
   "mimetype": "text/x-python",
   "name": "python",
   "nbconvert_exporter": "python",
   "pygments_lexer": "ipython3",
   "version": "3.6.9"
  }
 },
 "nbformat": 4,
 "nbformat_minor": 2
}
