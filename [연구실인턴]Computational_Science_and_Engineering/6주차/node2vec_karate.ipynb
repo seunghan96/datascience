{
 "cells": [
  {
   "cell_type": "markdown",
   "metadata": {},
   "source": [
    "# [ node2vec implementation ]\n",
    "- with Karate dataset"
   ]
  },
  {
   "cell_type": "markdown",
   "metadata": {},
   "source": [
    "# 1. Import Dataset  & Libraries"
   ]
  },
  {
   "cell_type": "code",
   "execution_count": 1,
   "metadata": {},
   "outputs": [],
   "source": [
    "import networkx as nx\n",
    "import matplotlib.pyplot as plt\n",
    "import numpy as np\n",
    "import pandas as pd\n",
    "\n",
    "%matplotlib inline"
   ]
  },
  {
   "cell_type": "code",
   "execution_count": 2,
   "metadata": {},
   "outputs": [],
   "source": [
    "edge = pd.read_csv('karate_club.edgelist', sep=' ', names=['x','y','w'])"
   ]
  },
  {
   "cell_type": "code",
   "execution_count": 3,
   "metadata": {},
   "outputs": [],
   "source": [
    "graph = nx.Graph()\n",
    "for i in range(edge.shape[0]):\n",
    "    graph.add_node(node_for_adding = edge['x'][i])\n",
    "    graph.add_node(node_for_adding = edge['y'][i])\n",
    "    graph.add_edge(edge['x'][i], edge['y'][i])"
   ]
  },
  {
   "cell_type": "markdown",
   "metadata": {},
   "source": [
    "adjacent matrix & one-hot encoded matrix"
   ]
  },
  {
   "cell_type": "code",
   "execution_count": 4,
   "metadata": {},
   "outputs": [],
   "source": [
    "A = nx.to_numpy_matrix(graph, nodelist=sorted(graph.nodes()))\n",
    "OH = np.identity(A.shape[0])"
   ]
  },
  {
   "cell_type": "markdown",
   "metadata": {},
   "source": [
    "# 2. Define functions"
   ]
  },
  {
   "cell_type": "markdown",
   "metadata": {},
   "source": [
    "#### 1) softmax"
   ]
  },
  {
   "cell_type": "code",
   "execution_count": 5,
   "metadata": {},
   "outputs": [],
   "source": [
    "def softmax(x):\n",
    "    c = np.max(x)\n",
    "    b = x-c\n",
    "    exp_x = np.exp(b)\n",
    "    sum_exp_x = np.sum(exp_x)\n",
    "    y = exp_x / sum_exp_x\n",
    "    return y"
   ]
  },
  {
   "cell_type": "markdown",
   "metadata": {},
   "source": [
    "#### 2) pos_list & neg_list : getting the positive & negative nodes"
   ]
  },
  {
   "cell_type": "code",
   "execution_count": 6,
   "metadata": {},
   "outputs": [],
   "source": [
    "def pos_list(node):\n",
    "    return np.nonzero(A[node])[1]    \n",
    "\n",
    "def neg_list(node):\n",
    "    return np.where(A[node]==0)[1]"
   ]
  },
  {
   "cell_type": "markdown",
   "metadata": {},
   "source": [
    "#### 3) next_choice : choosing the next step according to the transition probability, considering the previous state"
   ]
  },
  {
   "cell_type": "markdown",
   "metadata": {},
   "source": [
    "- (1) previous : 't'\n",
    "- (2) now : 'v'\n",
    "- (3) next : 'x'"
   ]
  },
  {
   "cell_type": "code",
   "execution_count": 7,
   "metadata": {},
   "outputs": [],
   "source": [
    "def next_choice(v,t,p,q):\n",
    "    positive = pos_list(v)\n",
    "    li = np.array([])\n",
    "    for pos in positive:\n",
    "        if pos==t:\n",
    "            li = np.append(li,1/p)\n",
    "        elif pos in pos_list(t):\n",
    "            li = np.append(li,1)\n",
    "        else :\n",
    "            li = np.append(li,1/q)\n",
    "    \n",
    "    prob = li/li.sum()\n",
    "    \n",
    "    return np.random.choice(positive,1,p=prob)[0]"
   ]
  },
  {
   "cell_type": "markdown",
   "metadata": {},
   "source": [
    "#### 4) random_step : getting the random step, using next_choice"
   ]
  },
  {
   "cell_type": "code",
   "execution_count": 8,
   "metadata": {},
   "outputs": [],
   "source": [
    "def random_step(v,num_walk,p,q):\n",
    "    t = np.random.choice(pos_list(v)) # (1) previous\n",
    "    \n",
    "    walk_list = [v]\n",
    "    for _ in range(num_walk):\n",
    "        x = next_choice(v,t,p,q)\n",
    "        walk_list.append(x)\n",
    "        v = x\n",
    "        t = v\n",
    "    return walk_list"
   ]
  },
  {
   "cell_type": "markdown",
   "metadata": {},
   "source": [
    "#### 4) feed forward & back propagation "
   ]
  },
  {
   "cell_type": "code",
   "execution_count": 9,
   "metadata": {},
   "outputs": [],
   "source": [
    "def feedforward(input_word,index,w1,w2):\n",
    "    h=np.matmul(w1.T,input_word[index])\n",
    "    u=np.matmul(w2.T,h)\n",
    "    y = softmax(u)\n",
    "    return h,u,y     "
   ]
  },
  {
   "cell_type": "code",
   "execution_count": 10,
   "metadata": {},
   "outputs": [],
   "source": [
    "def backprop(input_word,w1,w2,lr,h,y_pred,index,con):\n",
    "    front = input_word[min(0,index-con) : index]\n",
    "    back = input_word[index+1 : max(index+con+1,len(input_word))]\n",
    "    window_OH = np.concatenate([front,back])\n",
    "    \n",
    "    for j in range(w2.shape[1]):\n",
    "        adjust = (y_pred-window_OH)[:,j].sum()*h\n",
    "        w2[:,j] -= -lr*adjust\n",
    "        \n",
    "    adjust2 = ((y_pred-window_OH).sum(axis=0)*w2).T\n",
    "    w1-= lr*adjust2\n",
    "    return w1,w2    "
   ]
  },
  {
   "cell_type": "markdown",
   "metadata": {},
   "source": [
    "# 3. node2vec"
   ]
  },
  {
   "cell_type": "code",
   "execution_count": 11,
   "metadata": {},
   "outputs": [],
   "source": [
    "def node2vec(input_word,dim,num_epoch,num_walk,lr,con,p,q):   \n",
    "    W1 = np.random.random((A.shape[0],dim))\n",
    "    W2 = np.random.random((dim, A.shape[0]))\n",
    "    \n",
    "    for epoch in range(num_epoch):\n",
    "        for v in np.arange(A.shape[0]):\n",
    "            walk = random_step(v,num_walk,p,q) # 1) random walk            \n",
    "            RW = input_word[walk]\n",
    "            for i in range(len(RW)):\n",
    "                h,u,y = feedforward(RW,i,W1,W2) # 2) feed forward\n",
    "                W1,W2 = backprop(RW,W1,W2,lr,h,y,i,con) # 3) back propagation\n",
    "                \n",
    "    return W1,W2"
   ]
  },
  {
   "cell_type": "markdown",
   "metadata": {},
   "source": [
    "# 4. Result"
   ]
  },
  {
   "cell_type": "code",
   "execution_count": 12,
   "metadata": {},
   "outputs": [],
   "source": [
    "w1,w2 = node2vec(input_word=OH,\n",
    "                 dim=2,\n",
    "                 num_epoch=3,\n",
    "                 num_walk=10,\n",
    "                 lr=0.001,\n",
    "                 con=3,\n",
    "                 p=1.5,\n",
    "                 q=1.5)"
   ]
  },
  {
   "cell_type": "code",
   "execution_count": 13,
   "metadata": {},
   "outputs": [],
   "source": [
    "Emb = np.matmul(OH,w1)"
   ]
  },
  {
   "cell_type": "code",
   "execution_count": 14,
   "metadata": {},
   "outputs": [],
   "source": [
    "def visualize(Emb):    \n",
    "    Emb_df = pd.DataFrame({'X':Emb[:,0], 'Y':Emb[:,1],'Label':range(1,35)})\n",
    "    blue = [1,2,3,4,5,6,7,8,9,11,12,13,14,17,18,20,22]\n",
    "    red = list(set(range(0,34))-set(blue))\n",
    "    Emb_df.loc[Emb_df.Label.isin(blue),'Color']=1\n",
    "    Emb_df.loc[Emb_df.Label.isin(red),'Color']=0\n",
    "    \n",
    "    plt.scatter(Emb_df['X'], Emb_df['Y'], c=Emb_df['Color'])\n",
    "\n",
    "    for i,txt in enumerate(Emb_df['Label']):\n",
    "        plt.annotate(txt, (Emb_df['X'][i], Emb_df['Y'][i]))"
   ]
  },
  {
   "cell_type": "code",
   "execution_count": 15,
   "metadata": {},
   "outputs": [
    {
     "data": {
      "image/png": "[encoded data removed]",
      "text/plain": [
       "<Figure size 432x288 with 1 Axes>"
      ]
     },
     "metadata": {
      "needs_background": "light"
     },
     "output_type": "display_data"
    }
   ],
   "source": [
    "visualize(Emb)"
   ]
  }
 ],
 "metadata": {
  "kernelspec": {
   "display_name": "Python 3",
   "language": "python",
   "name": "python3"
  },
  "language_info": {
   "codemirror_mode": {
    "name": "ipython",
    "version": 3
   },
   "file_extension": ".py",
   "mimetype": "text/x-python",
   "name": "python",
   "nbconvert_exporter": "python",
   "pygments_lexer": "ipython3",
   "version": "3.6.9"
  }
 },
 "nbformat": 4,
 "nbformat_minor": 2
}
