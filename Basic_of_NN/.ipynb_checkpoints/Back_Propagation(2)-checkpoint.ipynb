{
 "cells": [
  {
   "cell_type": "markdown",
   "metadata": {},
   "source": [
    "## Back Propagation 구현"
   ]
  },
  {
   "cell_type": "code",
   "execution_count": 9,
   "metadata": {},
   "outputs": [],
   "source": [
    "import time\n",
    "import numpy as np"
   ]
  },
  {
   "cell_type": "markdown",
   "metadata": {},
   "source": [
    "### 1. define function"
   ]
  },
  {
   "cell_type": "code",
   "execution_count": 10,
   "metadata": {},
   "outputs": [],
   "source": [
    "epsilon = 0.0001\n",
    "\n",
    "def _t(x):\n",
    "    return np.transpose(x)\n",
    "\n",
    "def _m(A,B):\n",
    "    return np.matmul(A,B)"
   ]
  },
  {
   "cell_type": "markdown",
   "metadata": {},
   "source": [
    "### 2. Sigmoid "
   ]
  },
  {
   "cell_type": "markdown",
   "metadata": {},
   "source": [
    "- 따로 class 만드는 이유 : dynamic learning!"
   ]
  },
  {
   "cell_type": "code",
   "execution_count": 12,
   "metadata": {},
   "outputs": [],
   "source": [
    "class Sigmoid:\n",
    "    def __init__(self):\n",
    "        self.last_o = 1\n",
    "        \n",
    "    def __call__(self,x):\n",
    "        self.last_o = 1/(1.0+np.exp(-x))\n",
    "        return self.last_o\n",
    "    \n",
    "    def grad(self):\n",
    "        return self.last_o * (1-self.last_o)"
   ]
  },
  {
   "cell_type": "markdown",
   "metadata": {},
   "source": [
    "### 3. MSE ( Mean Squared Error )"
   ]
  },
  {
   "cell_type": "code",
   "execution_count": 13,
   "metadata": {},
   "outputs": [],
   "source": [
    "class MSE:\n",
    "    def __init__(self):\n",
    "        # gradient\n",
    "        self.dh=1\n",
    "        self.last_diff = 1\n",
    "        \n",
    "    def __call__(self,h,y) : # 1/2 * mean((h-y)^2)\n",
    "        self.last_diff = h-y\n",
    "        return 1/2*np.mean(np.square(h-y))\n",
    "    \n",
    "    def grad(self):\n",
    "        return self.last_diff"
   ]
  },
  {
   "cell_type": "markdown",
   "metadata": {},
   "source": [
    "### 4. Neuron"
   ]
  },
  {
   "cell_type": "code",
   "execution_count": 21,
   "metadata": {},
   "outputs": [],
   "source": [
    "class Neuron:\n",
    "    def __init__(self,W,b,a_obj):\n",
    "        self.W = W\n",
    "        self.b = b\n",
    "        self.a = a_obj()\n",
    "        \n",
    "        self.dW = np.zeros_like(self.W)\n",
    "        self.db = np.zeros_like(self.b)\n",
    "        self.dh = np.zeros_like(_t(self.W))\n",
    "        \n",
    "        self.last_x = np.zeros((self.W.shape[0]))\n",
    "        self.last_h = np.zeros((self.W.shape[1]))\n",
    "    \n",
    "    def __call__(self,x):\n",
    "        self.last_x = x\n",
    "        self.last_h = _m(_t(self.W),x) + self.b\n",
    "        return self.a(self.last_h)\n",
    "        \n",
    "    def grad(self): # dy/dh = W\n",
    "        return self.W * self.a.grad()\n",
    "    \n",
    "    def grad_W(self,dh):\n",
    "        grad = np.ones_like(self.W)\n",
    "        grad_a = self.a.grad()\n",
    "        for j in range(grad.shape[1]): # dy/dw = x\n",
    "            grad[:,j] = dh[j] * grad_a[j] * self.last_x\n",
    "        return grad\n",
    "    \n",
    "    def grad_b(self,dh): # dy/db = 1\n",
    "        return dh*self.a.grad()*1 "
   ]
  },
  {
   "cell_type": "markdown",
   "metadata": {},
   "source": [
    "### 5. DNN ( Deep Neural Network )"
   ]
  },
  {
   "cell_type": "code",
   "execution_count": 22,
   "metadata": {},
   "outputs": [],
   "source": [
    "class DNN:\n",
    "    def __init__(self,hidden_depth, num_neuron, num_input, num_output, activation=Sigmoid):\n",
    "        def init_var(i,o):\n",
    "            return np.random.normal(0.0, 0.01, (i,o)), np.zeros((o,)) # initialize W & b\n",
    "        \n",
    "        self.sequence = list()\n",
    "        \n",
    "        # 1st Hidden Layer\n",
    "        W,b = init_var(num_input,num_neuron)\n",
    "        self.sequence.append(Neuron(W,b,activation))\n",
    "        \n",
    "        # 2nd~last Hidden Layer\n",
    "        for _ in range(hidden_depth - 1):\n",
    "            W,b = init_var(num_neuron,num_neuron)\n",
    "            self.sequence.append(Neuron(W,b,activation))\n",
    "        \n",
    "        # Output Layer\n",
    "        W,b = init_var(num_neuron,num_output)\n",
    "        self.sequence.append(Neuron(W,b,activation))\n",
    "        \n",
    "    def __call__(self,x):\n",
    "        for layer in self.sequence:\n",
    "            x = layer(x)\n",
    "        return x\n",
    "    \n",
    "    def calc_grad(self,loss_obj):\n",
    "        loss_obj.dh = loss_obj.grad()\n",
    "        self.sequence.append(loss_obj)\n",
    "        \n",
    "        # back-propagation\n",
    "        for i in range(len(self.sequence)-1,0,-1):\n",
    "            l1 = self.sequence[i]\n",
    "            l0 = self.sequence[i-1]\n",
    "            \n",
    "            l0.dh = _m(l0.grad(), l1.dh)\n",
    "            l0.dW = l0.grad_W(l1.dh)\n",
    "            l0.db = l0.grad_b(l1.dh)\n",
    "            \n",
    "        self.sequence.remove(loss_obj)      "
   ]
  },
  {
   "cell_type": "markdown",
   "metadata": {},
   "source": [
    "### 6. Gradient Descent"
   ]
  },
  {
   "cell_type": "code",
   "execution_count": 25,
   "metadata": {},
   "outputs": [],
   "source": [
    "def gradient_descent(network, x, y, loss_obj, alpha=0.01):\n",
    "    loss = loss_obj(network(x),y)\n",
    "    network.calc_grad(loss_obj)\n",
    "    for layer in network.sequence:\n",
    "        layer.W += -alpha*layer.dW\n",
    "        layer.b += -alpha*layer.db\n",
    "    return loss"
   ]
  },
  {
   "cell_type": "code",
   "execution_count": 26,
   "metadata": {},
   "outputs": [
    {
     "name": "stdout",
     "output_type": "stream",
     "text": [
      "Epoch 0 : Test Loss 1.167688876529795\n",
      "Epoch 1 : Test Loss 1.1808119481132384\n",
      "Epoch 2 : Test Loss 1.1940792835651612\n",
      "Epoch 3 : Test Loss 1.207489432394759\n",
      "Epoch 4 : Test Loss 1.2210408841429194\n",
      "Epoch 5 : Test Loss 1.2347320711958911\n",
      "Epoch 6 : Test Loss 1.248561371636518\n",
      "Epoch 7 : Test Loss 1.2625271121218482\n",
      "Epoch 8 : Test Loss 1.2766275707763308\n",
      "Epoch 9 : Test Loss 1.2908609800903088\n",
      "Epoch 10 : Test Loss 1.305225529814032\n",
      "Epoch 11 : Test Loss 1.3197193698379543\n",
      "Epoch 12 : Test Loss 1.334340613050686\n",
      "Epoch 13 : Test Loss 1.3490873381665427\n",
      "Epoch 14 : Test Loss 1.3639575925152614\n",
      "Epoch 15 : Test Loss 1.3789493947870641\n",
      "Epoch 16 : Test Loss 1.3940607377268774\n",
      "Epoch 17 : Test Loss 1.409289590772108\n",
      "Epoch 18 : Test Loss 1.4246339026290116\n",
      "Epoch 19 : Test Loss 1.4400916037832503\n",
      "Epoch 20 : Test Loss 1.4556606089408264\n",
      "Epoch 21 : Test Loss 1.4713388193961252\n",
      "Epoch 22 : Test Loss 1.4871241253243335\n",
      "Epoch 23 : Test Loss 1.5030144079960008\n",
      "Epoch 24 : Test Loss 1.5190075419119797\n",
      "Epoch 25 : Test Loss 1.535101396857458\n",
      "Epoch 26 : Test Loss 1.5512938398741707\n",
      "Epoch 27 : Test Loss 1.5675827371503195\n",
      "Epoch 28 : Test Loss 1.5839659558280461\n",
      "Epoch 29 : Test Loss 1.6004413657286605\n",
      "Epoch 30 : Test Loss 1.6170068409961265\n",
      "Epoch 31 : Test Loss 1.633660261659562\n",
      "Epoch 32 : Test Loss 1.6503995151157818\n",
      "Epoch 33 : Test Loss 1.6672224975331158\n",
      "Epoch 34 : Test Loss 1.6841271151779222\n",
      "Epoch 35 : Test Loss 1.7011112856654056\n",
      "Epoch 36 : Test Loss 1.7181729391364833\n",
      "Epoch 37 : Test Loss 1.7353100193625581\n",
      "Epoch 38 : Test Loss 1.752520484780187\n",
      "Epoch 39 : Test Loss 1.7698023094576927\n",
      "Epoch 40 : Test Loss 1.787153483995853\n",
      "Epoch 41 : Test Loss 1.8045720163648435\n",
      "Epoch 42 : Test Loss 1.8220559326796526\n",
      "Epoch 43 : Test Loss 1.8396032779162077\n",
      "Epoch 44 : Test Loss 1.8572121165704665\n",
      "Epoch 45 : Test Loss 1.8748805332627205\n",
      "Epoch 46 : Test Loss 1.8926066332893663\n",
      "Epoch 47 : Test Loss 1.9103885431243497\n",
      "Epoch 48 : Test Loss 1.9282244108725075\n",
      "Epoch 49 : Test Loss 1.946112406676945\n",
      "Epoch 50 : Test Loss 1.9640507230826083\n",
      "Epoch 51 : Test Loss 1.982037575358108\n",
      "Epoch 52 : Test Loss 2.000071201777852\n",
      "Epoch 53 : Test Loss 2.0181498638664634\n",
      "Epoch 54 : Test Loss 2.0362718466074186\n",
      "Epoch 55 : Test Loss 2.0544354586177787\n",
      "Epoch 56 : Test Loss 2.0726390322908372\n",
      "Epoch 57 : Test Loss 2.0908809239084385\n",
      "Epoch 58 : Test Loss 2.109159513724652\n",
      "Epoch 59 : Test Loss 2.127473206022474\n",
      "Epoch 60 : Test Loss 2.145820429145083\n",
      "Epoch 61 : Test Loss 2.164199635503211\n",
      "Epoch 62 : Test Loss 2.1826093015600545\n",
      "Epoch 63 : Test Loss 2.2010479277951296\n",
      "Epoch 64 : Test Loss 2.219514038648412\n",
      "Epoch 65 : Test Loss 2.2380061824460307\n",
      "Epoch 66 : Test Loss 2.2565229313087496\n",
      "Epoch 67 : Test Loss 2.275062881044387\n",
      "Epoch 68 : Test Loss 2.2936246510253\n",
      "Epoch 69 : Test Loss 2.3122068840519963\n",
      "Epoch 70 : Test Loss 2.33080824620386\n",
      "Epoch 71 : Test Loss 2.3494274266779804\n",
      "Epoch 72 : Test Loss 2.368063137616982\n",
      "Epoch 73 : Test Loss 2.38671411392672\n",
      "Epoch 74 : Test Loss 2.405379113084672\n",
      "Epoch 75 : Test Loss 2.424056914939804\n",
      "Epoch 76 : Test Loss 2.4427463215046448\n",
      "Epoch 77 : Test Loss 2.4614461567402737\n",
      "Epoch 78 : Test Loss 2.4801552663348803\n",
      "Epoch 79 : Test Loss 2.498872517476524\n",
      "Epoch 80 : Test Loss 2.517596798620683\n",
      "Epoch 81 : Test Loss 2.53632701925316\n",
      "Epoch 82 : Test Loss 2.5550621096488437\n",
      "Epoch 83 : Test Loss 2.5738010206268616\n",
      "Epoch 84 : Test Loss 2.592542723302555\n",
      "Epoch 85 : Test Loss 2.6112862088367463\n",
      "Epoch 86 : Test Loss 2.6300304881826815\n",
      "Epoch 87 : Test Loss 2.6487745918310655\n",
      "Epoch 88 : Test Loss 2.6675175695535427\n",
      "Epoch 89 : Test Loss 2.686258490144952\n",
      "Epoch 90 : Test Loss 2.7049964411647087\n",
      "Epoch 91 : Test Loss 2.7237305286775766\n",
      "Epoch 92 : Test Loss 2.742459876994148\n",
      "Epoch 93 : Test Loss 2.7611836284112665\n",
      "Epoch 94 : Test Loss 2.779900942952648\n",
      "Epoch 95 : Test Loss 2.798610998109939\n",
      "Epoch 96 : Test Loss 2.817312988584401\n",
      "Epoch 97 : Test Loss 2.8360061260294502\n",
      "Epoch 98 : Test Loss 2.854689638794214\n",
      "Epoch 99 : Test Loss 2.8733627716682784\n",
      "0.31781721115112305 seconds elapsed.\n"
     ]
    }
   ],
   "source": [
    "x = np.random.normal(0.0, 1.0, (10,))\n",
    "y = np.random.normal(0.0,1.0, (2,))\n",
    "\n",
    "t = time.time()\n",
    "dnn = DNN(hidden_depth=5, num_neuron=32, num_input=10, num_output=2, activation=Sigmoid)\n",
    "loss_obj = MSE()\n",
    "\n",
    "for epoch in range(100):\n",
    "    loss = gradient_descent(dnn,x,y,loss_obj,0.01)\n",
    "    print('Epoch {} : Test Loss {}'.format(epoch, loss))\n",
    "\n",
    "print('{} seconds elapsed.'.format(time.time()-t))"
   ]
  },
  {
   "cell_type": "markdown",
   "metadata": {},
   "source": [
    "### MUCH FASTER with Back-Prop!"
   ]
  }
 ],
 "metadata": {
  "kernelspec": {
   "display_name": "Python 3",
   "language": "python",
   "name": "python3"
  },
  "language_info": {
   "codemirror_mode": {
    "name": "ipython",
    "version": 3
   },
   "file_extension": ".py",
   "mimetype": "text/x-python",
   "name": "python",
   "nbconvert_exporter": "python",
   "pygments_lexer": "ipython3",
   "version": "3.6.9"
  }
 },
 "nbformat": 4,
 "nbformat_minor": 2
}
