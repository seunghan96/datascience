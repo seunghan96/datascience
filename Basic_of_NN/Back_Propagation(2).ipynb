{
 "cells": [
  {
   "cell_type": "markdown",
   "metadata": {},
   "source": [
    "## Back Propagation 구현"
   ]
  },
  {
   "cell_type": "code",
   "execution_count": 3,
   "metadata": {},
   "outputs": [],
   "source": [
    "import time\n",
    "import numpy as np"
   ]
  },
  {
   "cell_type": "markdown",
   "metadata": {},
   "source": [
    "### 1. define function"
   ]
  },
  {
   "cell_type": "code",
   "execution_count": 1,
   "metadata": {},
   "outputs": [],
   "source": [
    "epsilon = 0.0001\n",
    "\n",
    "def _t(x):\n",
    "    return np.transpose(x)\n",
    "\n",
    "def _m(A,B):\n",
    "    return np.matmul(A,B)"
   ]
  },
  {
   "cell_type": "markdown",
   "metadata": {},
   "source": [
    "### 2. Sigmoid "
   ]
  },
  {
   "cell_type": "markdown",
   "metadata": {},
   "source": [
    "- 따로 class 만드는 이유 : dynamic learning!"
   ]
  },
  {
   "cell_type": "code",
   "execution_count": 2,
   "metadata": {},
   "outputs": [],
   "source": [
    "class Sigmoid:\n",
    "    def __init__(self):\n",
    "        self.last_o = 1\n",
    "        \n",
    "    def __call__(self,x):\n",
    "        self.last_o = 1/(1.0+np.exp(-x))\n",
    "        return self.last_o\n",
    "    \n",
    "    def grad(self):\n",
    "        return self.last_o * (1-self.last_o)"
   ]
  },
  {
   "cell_type": "markdown",
   "metadata": {},
   "source": [
    "### 3. MSE ( Mean Squared Error )"
   ]
  },
  {
   "cell_type": "code",
   "execution_count": 4,
   "metadata": {},
   "outputs": [],
   "source": [
    "class MSE:\n",
    "    def __init__(self):\n",
    "        # gradient\n",
    "        self.dh=1\n",
    "        self.last_diff = 1\n",
    "        \n",
    "    def __call__(self,h,y) : # 1/2 * mean((h-y)^2)\n",
    "        self.last_diff = h-y\n",
    "        return 1/2*np.mean(np.square(h-y))\n",
    "    \n",
    "    def grad(self):\n",
    "        return self.last_diff"
   ]
  },
  {
   "cell_type": "markdown",
   "metadata": {},
   "source": [
    "### 4. Neuron"
   ]
  },
  {
   "cell_type": "code",
   "execution_count": 5,
   "metadata": {},
   "outputs": [],
   "source": [
    "class Neuron:\n",
    "    def __init__(self,W,b,a_obj):\n",
    "        self.W = W\n",
    "        self.b = b\n",
    "        self.a = a_obj()\n",
    "        \n",
    "        self.dW = np.zeros_like(self.W)\n",
    "        self.db = np.zeros_like(self.b)\n",
    "        self.dh = np.zeros_like(_t(self.W))\n",
    "        \n",
    "        self.last_x = np.zeros((self.W.shape[0]))\n",
    "        self.last_h = np.zeros((self.W.shape[1]))\n",
    "    \n",
    "    def __call__(self,x):\n",
    "        self.last_x = x\n",
    "        self.last_h = _m(_t(self.W),x) + self.b\n",
    "        return self.a(self.last_h)\n",
    "        \n",
    "    def grad(self): # dy/dh = W \n",
    "        return self.W * self.a.grad()\n",
    "    \n",
    "    def grad_W(self,dh):\n",
    "        grad = np.ones_like(self.W)\n",
    "        grad_a = self.a.grad()\n",
    "        for j in range(grad.shape[1]): # dy/dw = dy/dh * dh/dw\n",
    "            grad[:,j] = dh[j] * grad_a[j] * self.last_x\n",
    "        return grad\n",
    "    \n",
    "    def grad_b(self,dh): # dy/db = 1\n",
    "        return dh*self.a.grad()*1 "
   ]
  },
  {
   "cell_type": "markdown",
   "metadata": {},
   "source": [
    "### 5. DNN ( Deep Neural Network )"
   ]
  },
  {
   "cell_type": "code",
   "execution_count": 6,
   "metadata": {},
   "outputs": [],
   "source": [
    "class DNN:\n",
    "    def __init__(self,hidden_depth, num_neuron, num_input, num_output, activation=Sigmoid):\n",
    "        def init_var(i,o):\n",
    "            return np.random.normal(0.0, 0.01, (i,o)), np.zeros((o,)) # initialize W & b\n",
    "        \n",
    "        self.sequence = list()\n",
    "        \n",
    "        # 1st Hidden Layer\n",
    "        W,b = init_var(num_input,num_neuron)\n",
    "        self.sequence.append(Neuron(W,b,activation))\n",
    "        \n",
    "        # 2nd~last Hidden Layer\n",
    "        for _ in range(hidden_depth - 1):\n",
    "            W,b = init_var(num_neuron,num_neuron)\n",
    "            self.sequence.append(Neuron(W,b,activation))\n",
    "        \n",
    "        # Output Layer\n",
    "        W,b = init_var(num_neuron,num_output)\n",
    "        self.sequence.append(Neuron(W,b,activation))\n",
    "        \n",
    "    def __call__(self,x):\n",
    "        for layer in self.sequence:\n",
    "            x = layer(x)\n",
    "        return x\n",
    "    \n",
    "    def calc_grad(self,loss_obj):\n",
    "        loss_obj.dh = loss_obj.grad()\n",
    "        self.sequence.append(loss_obj)\n",
    "        \n",
    "        # back-propagation\n",
    "        for i in range(len(self.sequence)-1,0,-1):\n",
    "            l1 = self.sequence[i]\n",
    "            l0 = self.sequence[i-1]\n",
    "            \n",
    "            l0.dh = _m(l0.grad(), l1.dh)\n",
    "            l0.dW = l0.grad_W(l1.dh)\n",
    "            l0.db = l0.grad_b(l1.dh)\n",
    "            \n",
    "        self.sequence.remove(loss_obj)      "
   ]
  },
  {
   "cell_type": "markdown",
   "metadata": {},
   "source": [
    "### 6. Gradient Descent"
   ]
  },
  {
   "cell_type": "code",
   "execution_count": 7,
   "metadata": {},
   "outputs": [],
   "source": [
    "def gradient_descent(network, x, y, loss_obj, alpha=0.01):\n",
    "    loss = loss_obj(network(x),y)\n",
    "    network.calc_grad(loss_obj)\n",
    "    for layer in network.sequence:\n",
    "        layer.W += -alpha*layer.dW\n",
    "        layer.b += -alpha*layer.db\n",
    "    return loss"
   ]
  },
  {
   "cell_type": "code",
   "execution_count": 12,
   "metadata": {},
   "outputs": [
    {
     "data": {
      "text/plain": [
       "array([ 1.83953917,  0.91310881,  0.39742267,  0.04061736,  1.00257472,\n",
       "       -0.02544987,  1.11252069,  0.15905722,  0.92256944,  0.54025473])"
      ]
     },
     "execution_count": 12,
     "metadata": {},
     "output_type": "execute_result"
    }
   ],
   "source": [
    "x"
   ]
  },
  {
   "cell_type": "code",
   "execution_count": 13,
   "metadata": {},
   "outputs": [
    {
     "data": {
      "text/plain": [
       "array([ 0.73625   , -1.32924432])"
      ]
     },
     "execution_count": 13,
     "metadata": {},
     "output_type": "execute_result"
    }
   ],
   "source": [
    "y"
   ]
  },
  {
   "cell_type": "code",
   "execution_count": 11,
   "metadata": {},
   "outputs": [
    {
     "name": "stdout",
     "output_type": "stream",
     "text": [
      "Epoch 0 : Test Loss 0.8425329724417312\n",
      "Epoch 500 : Test Loss 0.45237323926306916\n",
      "Epoch 1000 : Test Loss 0.44661420602273777\n",
      "Epoch 1500 : Test Loss 0.44485254616474085\n",
      "Epoch 2000 : Test Loss 0.4440051799358345\n",
      "Epoch 2500 : Test Loss 0.4435101047315684\n",
      "Epoch 3000 : Test Loss 0.4431867695329297\n",
      "Epoch 3500 : Test Loss 0.44295965317498154\n",
      "Epoch 4000 : Test Loss 0.4427917064254573\n",
      "Epoch 4500 : Test Loss 0.4426626672127787\n",
      "Epoch 5000 : Test Loss 0.4425605399759419\n",
      "Epoch 5500 : Test Loss 0.4424777797050687\n",
      "Epoch 6000 : Test Loss 0.4424094081086844\n",
      "Epoch 6500 : Test Loss 0.44235201049856904\n",
      "Epoch 7000 : Test Loss 0.4423031682457508\n",
      "Epoch 7500 : Test Loss 0.4422611212877516\n",
      "Epoch 8000 : Test Loss 0.44222455890632906\n",
      "Epoch 8500 : Test Loss 0.4421924853560308\n",
      "Epoch 9000 : Test Loss 0.44216413089933837\n",
      "Epoch 9500 : Test Loss 0.442138891325052\n",
      "17.53489875793457 seconds elapsed.\n"
     ]
    }
   ],
   "source": [
    "x = np.random.normal(0.0, 1.0, (10,))\n",
    "y = np.random.normal(0.0,1.0, (2,))\n",
    "\n",
    "t = time.time()\n",
    "dnn = DNN(hidden_depth=5, num_neuron=32, num_input=10, num_output=2, activation=Sigmoid)\n",
    "loss_obj = MSE()\n",
    "\n",
    "for epoch in range(10000):\n",
    "    loss = gradient_descent(dnn,x,y,loss_obj,0.01)\n",
    "    if epoch%500==0:\n",
    "        print('Epoch {} : Test Loss {}'.format(epoch, loss))\n",
    "\n",
    "print('{} seconds elapsed.'.format(time.time()-t))"
   ]
  },
  {
   "cell_type": "markdown",
   "metadata": {},
   "source": [
    "### MUCH FASTER with Back-Prop!"
   ]
  }
 ],
 "metadata": {
  "kernelspec": {
   "display_name": "Python 3",
   "language": "python",
   "name": "python3"
  },
  "language_info": {
   "codemirror_mode": {
    "name": "ipython",
    "version": 3
   },
   "file_extension": ".py",
   "mimetype": "text/x-python",
   "name": "python",
   "nbconvert_exporter": "python",
   "pygments_lexer": "ipython3",
   "version": "3.6.9"
  }
 },
 "nbformat": 4,
 "nbformat_minor": 2
}
