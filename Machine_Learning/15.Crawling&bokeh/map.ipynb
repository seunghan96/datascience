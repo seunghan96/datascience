{
 "cells": [
  {
   "cell_type": "code",
   "execution_count": null,
   "metadata": {},
   "outputs": [],
   "source": [
    "import geopandas as gpd\n",
    "shapefile = './data/ne_110m_admin_0_countries.shp'\n",
    "\n",
    "gdf = gpd.read_file(shapefile)[['ADMIN', 'ADM0_A3', 'geometry']]\n",
    "#Rename columns.\n",
    "gdf.columns = ['country', 'country_code', 'geometry']\n",
    "gdf.head()"
   ]
  },
  {
   "cell_type": "code",
   "execution_count": 13,
   "metadata": {},
   "outputs": [],
   "source": [
    "import pandas as pd\n",
    "gdf = pd.read_csv('geo.csv')"
   ]
  },
  {
   "cell_type": "code",
   "execution_count": 15,
   "metadata": {},
   "outputs": [
    {
     "data": {
      "text/html": [
       "<div>\n",
       "<style scoped>\n",
       "    .dataframe tbody tr th:only-of-type {\n",
       "        vertical-align: middle;\n",
       "    }\n",
       "\n",
       "    .dataframe tbody tr th {\n",
       "        vertical-align: top;\n",
       "    }\n",
       "\n",
       "    .dataframe thead th {\n",
       "        text-align: right;\n",
       "    }\n",
       "</style>\n",
       "<table border=\"1\" class=\"dataframe\">\n",
       "  <thead>\n",
       "    <tr style=\"text-align: right;\">\n",
       "      <th></th>\n",
       "      <th>country</th>\n",
       "      <th>country_code</th>\n",
       "      <th>geometry</th>\n",
       "    </tr>\n",
       "  </thead>\n",
       "  <tbody>\n",
       "    <tr>\n",
       "      <th>0</th>\n",
       "      <td>Fiji</td>\n",
       "      <td>FJI</td>\n",
       "      <td>MULTIPOLYGON (((180 -16.06713266364245, 180 -1...</td>\n",
       "    </tr>\n",
       "    <tr>\n",
       "      <th>1</th>\n",
       "      <td>United Republic of Tanzania</td>\n",
       "      <td>TZA</td>\n",
       "      <td>POLYGON ((33.90371119710453 -0.950000000000000...</td>\n",
       "    </tr>\n",
       "    <tr>\n",
       "      <th>2</th>\n",
       "      <td>Western Sahara</td>\n",
       "      <td>SAH</td>\n",
       "      <td>POLYGON ((-8.665589565454809 27.65642588959236...</td>\n",
       "    </tr>\n",
       "    <tr>\n",
       "      <th>3</th>\n",
       "      <td>Canada</td>\n",
       "      <td>CAN</td>\n",
       "      <td>MULTIPOLYGON (((-122.84 49.00000000000011, -12...</td>\n",
       "    </tr>\n",
       "    <tr>\n",
       "      <th>4</th>\n",
       "      <td>United States of America</td>\n",
       "      <td>USA</td>\n",
       "      <td>MULTIPOLYGON (((-122.84 49.00000000000011, -12...</td>\n",
       "    </tr>\n",
       "  </tbody>\n",
       "</table>\n",
       "</div>"
      ],
      "text/plain": [
       "                       country country_code  \\\n",
       "0                         Fiji          FJI   \n",
       "1  United Republic of Tanzania          TZA   \n",
       "2               Western Sahara          SAH   \n",
       "3                       Canada          CAN   \n",
       "4     United States of America          USA   \n",
       "\n",
       "                                            geometry  \n",
       "0  MULTIPOLYGON (((180 -16.06713266364245, 180 -1...  \n",
       "1  POLYGON ((33.90371119710453 -0.950000000000000...  \n",
       "2  POLYGON ((-8.665589565454809 27.65642588959236...  \n",
       "3  MULTIPOLYGON (((-122.84 49.00000000000011, -12...  \n",
       "4  MULTIPOLYGON (((-122.84 49.00000000000011, -12...  "
      ]
     },
     "execution_count": 15,
     "metadata": {},
     "output_type": "execute_result"
    }
   ],
   "source": [
    "gdf.head()"
   ]
  },
  {
   "cell_type": "code",
   "execution_count": 16,
   "metadata": {},
   "outputs": [
    {
     "name": "stdout",
     "output_type": "stream",
     "text": [
      "        country country_code  \\\n",
      "159  Antarctica          ATA   \n",
      "\n",
      "                                              geometry  \n",
      "159  MULTIPOLYGON (((-48.66061601418252 -78.0470187...  \n"
     ]
    }
   ],
   "source": [
    "print(gdf[gdf['country'] == 'Antarctica'])\n",
    "\n",
    "gdf = gdf.drop(gdf.index[159])"
   ]
  },
  {
   "cell_type": "code",
   "execution_count": 18,
   "metadata": {},
   "outputs": [],
   "source": [
    "import json\n",
    "#Read data to json.\n",
    "gdf_json = json.loads(gdf.to_json())\n",
    "#Convert to String like object.\n",
    "grid = json.dumps(gdf_json)"
   ]
  },
  {
   "cell_type": "code",
   "execution_count": 21,
   "metadata": {},
   "outputs": [],
   "source": [
    "from geopy.geocoders import Nominatim\n",
    "geolocator = Nominatim(user_agent=\"my_Dashboard\")\n",
    "import numpy as np\n",
    "def geolocate(country=None):\n",
    "    '''\n",
    "    Inputs city and country, or just country. Returns the lat/long coordinates of \n",
    "    either the city if possible, if not, then returns lat/long of the center of the country.\n",
    "    '''\n",
    "    try:\n",
    "            # Geolocate the center of the country\n",
    "        loc = geolocator.geocode(country)\n",
    "            # And return latitude and longitude \n",
    "        return [loc.latitude, loc.longitude]\n",
    "        # Otherwise\n",
    "    except:\n",
    "        print(\"something wrong\")\n",
    "        print(country)\n",
    "        return np.nan\n"
   ]
  },
  {
   "cell_type": "code",
   "execution_count": 22,
   "metadata": {},
   "outputs": [
    {
     "data": {
      "text/plain": [
       "[35.000074, 104.999927]"
      ]
     },
     "execution_count": 22,
     "metadata": {},
     "output_type": "execute_result"
    }
   ],
   "source": [
    "geolocate(country='China')"
   ]
  },
  {
   "cell_type": "code",
   "execution_count": 24,
   "metadata": {},
   "outputs": [],
   "source": [
    "d = { gdf.iloc[1][0] : 'Japan'}\n",
    "gdf = gdf.replace(d)"
   ]
  },
  {
   "cell_type": "code",
   "execution_count": null,
   "metadata": {},
   "outputs": [
    {
     "name": "stdout",
     "output_type": "stream",
     "text": [
      "something wrong\n",
      "Cameroon\n",
      "something wrong\n",
      "Mozambique\n",
      "something wrong\n",
      "eSwatini\n",
      "something wrong\n",
      "Angola\n",
      "something wrong\n",
      "Algeria\n",
      "something wrong\n",
      "Kyrgyzstan\n"
     ]
    }
   ],
   "source": [
    "li = []\n",
    "for i in gdf.index.values : \n",
    "    li.append(geolocate(country = gdf['country'][i]))"
   ]
  },
  {
   "cell_type": "code",
   "execution_count": null,
   "metadata": {},
   "outputs": [],
   "source": [
    "li"
   ]
  }
 ],
 "metadata": {
  "kernelspec": {
   "display_name": "Python 3",
   "language": "python",
   "name": "python3"
  },
  "language_info": {
   "codemirror_mode": {
    "name": "ipython",
    "version": 3
   },
   "file_extension": ".py",
   "mimetype": "text/x-python",
   "name": "python",
   "nbconvert_exporter": "python",
   "pygments_lexer": "ipython3",
   "version": "3.6.9"
  }
 },
 "nbformat": 4,
 "nbformat_minor": 2
}
