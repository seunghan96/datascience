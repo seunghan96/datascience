{
 "cells": [
  {
   "cell_type": "markdown",
   "metadata": {},
   "source": [
    "# Import Dataset & EDA"
   ]
  },
  {
   "cell_type": "code",
   "execution_count": 1,
   "metadata": {
    "ExecuteTime": {
     "end_time": "2020-07-23T01:01:20.603456Z",
     "start_time": "2020-07-23T01:01:18.223817Z"
    }
   },
   "outputs": [],
   "source": [
    "import pandas as pd\n",
    "import numpy as np"
   ]
  },
  {
   "cell_type": "code",
   "execution_count": 2,
   "metadata": {
    "ExecuteTime": {
     "end_time": "2020-07-23T01:01:30.520784Z",
     "start_time": "2020-07-23T01:01:20.609451Z"
    }
   },
   "outputs": [
    {
     "name": "stderr",
     "output_type": "stream",
     "text": [
      "C:\\Users\\samsung\\Anaconda3\\lib\\site-packages\\statsmodels\\tools\\_testing.py:19: FutureWarning: pandas.util.testing is deprecated. Use the functions in the public API at pandas.testing instead.\n",
      "  import pandas.util.testing as tm\n"
     ]
    }
   ],
   "source": [
    "import seaborn as sns\n",
    "import matplotlib.pyplot as plt\n",
    "%matplotlib inline"
   ]
  },
  {
   "cell_type": "code",
   "execution_count": 3,
   "metadata": {
    "ExecuteTime": {
     "end_time": "2020-07-23T01:01:48.209668Z",
     "start_time": "2020-07-23T01:01:30.528779Z"
    }
   },
   "outputs": [],
   "source": [
    "import tensorflow as tf\n",
    "(x_train, y_train), (x_test, y_test) = tf.keras.datasets.mnist.load_data()"
   ]
  },
  {
   "cell_type": "code",
   "execution_count": 52,
   "metadata": {
    "ExecuteTime": {
     "end_time": "2020-07-23T01:39:50.696621Z",
     "start_time": "2020-07-23T01:39:50.689625Z"
    }
   },
   "outputs": [],
   "source": [
    "#x_train = pd.DataFrame(x_train.reshape(60000,-1))\n",
    "y_train = pd.Series(y_train).astype('object')"
   ]
  },
  {
   "cell_type": "code",
   "execution_count": 5,
   "metadata": {
    "ExecuteTime": {
     "end_time": "2020-07-23T01:01:48.262638Z",
     "start_time": "2020-07-23T01:01:48.234655Z"
    }
   },
   "outputs": [
    {
     "data": {
      "text/plain": [
       "(60000, 784)"
      ]
     },
     "execution_count": 5,
     "metadata": {},
     "output_type": "execute_result"
    }
   ],
   "source": [
    "x_train.shape"
   ]
  },
  {
   "cell_type": "markdown",
   "metadata": {},
   "source": [
    "# Data Preprocessing"
   ]
  },
  {
   "cell_type": "code",
   "execution_count": 7,
   "metadata": {
    "ExecuteTime": {
     "end_time": "2020-07-23T01:02:22.405113Z",
     "start_time": "2020-07-23T01:02:17.667825Z"
    }
   },
   "outputs": [],
   "source": [
    "from sklearn.preprocessing import StandardScaler\n",
    "scaler = StandardScaler()\n",
    "x_scaled = scaler.fit_transform(x_train)"
   ]
  },
  {
   "cell_type": "code",
   "execution_count": 8,
   "metadata": {
    "ExecuteTime": {
     "end_time": "2020-07-23T01:02:23.834295Z",
     "start_time": "2020-07-23T01:02:22.414110Z"
    }
   },
   "outputs": [],
   "source": [
    "from sklearn.model_selection import train_test_split\n",
    "X_train,X_val,Y_train,Y_val = train_test_split(pd.DataFrame(x_scaled),y_train,test_size=0.2,\n",
    "                                              random_state=123,stratify=y_train)"
   ]
  },
  {
   "cell_type": "code",
   "execution_count": 11,
   "metadata": {
    "ExecuteTime": {
     "end_time": "2020-07-23T01:02:53.032599Z",
     "start_time": "2020-07-23T01:02:53.022605Z"
    }
   },
   "outputs": [
    {
     "data": {
      "text/plain": [
       "((48000, 784), (12000, 784), (10000, 28, 28))"
      ]
     },
     "execution_count": 11,
     "metadata": {},
     "output_type": "execute_result"
    }
   ],
   "source": [
    "X_train.shape, X_val.shape, x_test.shape"
   ]
  },
  {
   "cell_type": "markdown",
   "metadata": {},
   "source": [
    "# Non-Linear method  \n",
    "( = \"Manifold Learning\" )\n",
    "- 아이소맵 (Isomap)\n",
    "- 다차원 스케일링 ( MDS, Multi-Dimensional Scaling )\n",
    "- LLE ( Locally Linear Embedding )\n",
    "- t-SNE ( t-Stochastic Neighbor Embedding )\n",
    "- 사전 학습 ( Dictionary Learning )\n",
    "- 독립 성분 분석 ( ICA, Independent Component Analysis )"
   ]
  },
  {
   "cell_type": "code",
   "execution_count": 12,
   "metadata": {
    "ExecuteTime": {
     "end_time": "2020-07-23T01:03:00.796160Z",
     "start_time": "2020-07-23T01:02:58.631397Z"
    }
   },
   "outputs": [],
   "source": [
    "from sklearn.manifold import Isomap,MDS,LocallyLinearEmbedding,TSNE\n",
    "from sklearn.decomposition import MiniBatchDictionaryLearning,FastICA"
   ]
  },
  {
   "cell_type": "code",
   "execution_count": 13,
   "metadata": {
    "ExecuteTime": {
     "end_time": "2020-07-23T01:03:02.857982Z",
     "start_time": "2020-07-23T01:03:02.837993Z"
    }
   },
   "outputs": [],
   "source": [
    "def reduced_df(X_train,X_val,method,dim,sample_size,fit_trans=True):\n",
    "    if fit_trans is False :\n",
    "        method.fit(X_train.iloc[0:sample_size,:])    \n",
    "        X_train_reduced = method.transform(X_train)        \n",
    "        X_val_reduced = method.transform(X_val)\n",
    "        X_train_reduced = pd.DataFrame(X_train_reduced,index=X_train.index)\n",
    "        X_val_reduced = pd.DataFrame(X_val_reduced,index=X_val.index)\n",
    "    else:\n",
    "        X_train_reduced = method.fit_transform(X_train.iloc[0:sample_size,:]) \n",
    "        X_val_reduced = method.fit_transform(X_val)    \n",
    "        X_train_reduced = pd.DataFrame(X_train_reduced,index=X_train.index[0:sample_size])\n",
    "        X_val_reduced = pd.DataFrame(X_val_reduced,index=X_val.index)\n",
    "        \n",
    "    X_train_reduced = pd.concat([X_train_reduced,Y_train],axis=1)\n",
    "    X_val_reduced = pd.concat([X_val_reduced,Y_val],axis=1)\n",
    "    colnames = [\"PC\" + str(i) for i in range(1,dim+1)]\n",
    "    colnames.append('class')\n",
    "    X_train_reduced.columns = colnames\n",
    "    X_val_reduced.columns = colnames\n",
    "    return X_train_reduced,X_val_reduced"
   ]
  },
  {
   "cell_type": "markdown",
   "metadata": {},
   "source": [
    "## Isomap"
   ]
  },
  {
   "cell_type": "code",
   "execution_count": 14,
   "metadata": {
    "ExecuteTime": {
     "end_time": "2020-07-23T01:03:03.611550Z",
     "start_time": "2020-07-23T01:03:03.605554Z"
    }
   },
   "outputs": [],
   "source": [
    "n_neighbors = 5\n",
    "n_components = 10\n",
    "n_jobs = 3"
   ]
  },
  {
   "cell_type": "code",
   "execution_count": 15,
   "metadata": {
    "ExecuteTime": {
     "end_time": "2020-07-23T01:03:06.575855Z",
     "start_time": "2020-07-23T01:03:06.567859Z"
    }
   },
   "outputs": [],
   "source": [
    "isomap = Isomap(n_neighbors=n_neighbors, n_components=n_components,n_jobs=n_jobs)"
   ]
  },
  {
   "cell_type": "code",
   "execution_count": 16,
   "metadata": {
    "ExecuteTime": {
     "end_time": "2020-07-23T01:06:09.592939Z",
     "start_time": "2020-07-23T01:03:07.279451Z"
    }
   },
   "outputs": [],
   "source": [
    "X_train_iso, X_val_iso = reduced_df(X_train,X_val,isomap,n_components,2500,fit_trans=False)"
   ]
  },
  {
   "cell_type": "markdown",
   "metadata": {},
   "source": [
    "## MDS ( Multi Dimensional Scaling )"
   ]
  },
  {
   "cell_type": "code",
   "execution_count": 20,
   "metadata": {
    "ExecuteTime": {
     "end_time": "2020-07-23T01:15:42.961603Z",
     "start_time": "2020-07-23T01:15:42.955607Z"
    }
   },
   "outputs": [],
   "source": [
    "n_components = 2 \n",
    "n_init = 6\n",
    "max_iter= 500\n",
    "metric= True\n",
    "#n_jobs = 3\n",
    "random_state=123"
   ]
  },
  {
   "cell_type": "code",
   "execution_count": 24,
   "metadata": {
    "ExecuteTime": {
     "end_time": "2020-07-23T01:18:21.240367Z",
     "start_time": "2020-07-23T01:18:21.231372Z"
    }
   },
   "outputs": [],
   "source": [
    "mds = MDS(n_components=n_components, n_init=n_init, max_iter=max_iter,\n",
    "         metric=metric,random_state=random_state)"
   ]
  },
  {
   "cell_type": "code",
   "execution_count": 26,
   "metadata": {
    "ExecuteTime": {
     "end_time": "2020-07-23T01:19:56.756744Z",
     "start_time": "2020-07-23T01:19:56.751748Z"
    }
   },
   "outputs": [],
   "source": [
    "X_train_mds, X_val_mds = reduced_df(X_train,X_val,mds,n_components,500,fit_trans=True)"
   ]
  },
  {
   "cell_type": "markdown",
   "metadata": {},
   "source": [
    "## LLE ( Locally Linear Embedding )"
   ]
  },
  {
   "cell_type": "code",
   "execution_count": 27,
   "metadata": {
    "ExecuteTime": {
     "end_time": "2020-07-23T01:21:09.724018Z",
     "start_time": "2020-07-23T01:21:09.719024Z"
    }
   },
   "outputs": [],
   "source": [
    "n_components = 2\n",
    "n_neighbors = 10\n",
    "method = 'modified'\n",
    "#n_jobs = 3\n",
    "random_state = 123"
   ]
  },
  {
   "cell_type": "code",
   "execution_count": 28,
   "metadata": {
    "ExecuteTime": {
     "end_time": "2020-07-23T01:21:10.443608Z",
     "start_time": "2020-07-23T01:21:10.434612Z"
    }
   },
   "outputs": [],
   "source": [
    "lle = LocallyLinearEmbedding(n_neighbors=n_neighbors,n_components=n_components,\n",
    "                             method=method,random_state=random_state)"
   ]
  },
  {
   "cell_type": "code",
   "execution_count": 30,
   "metadata": {
    "ExecuteTime": {
     "end_time": "2020-07-23T01:25:33.287771Z",
     "start_time": "2020-07-23T01:25:33.281778Z"
    }
   },
   "outputs": [],
   "source": [
    "#X_train_lle, X_val_lle = reduced_df(X_train,X_val,lle,n_components,2500,fit_trans=False)"
   ]
  },
  {
   "cell_type": "markdown",
   "metadata": {},
   "source": [
    "## t-SNE ( t-Stochastic Neighbor Embedding )"
   ]
  },
  {
   "cell_type": "markdown",
   "metadata": {},
   "source": [
    "### PCA로 한번 1차적 차원 축소"
   ]
  },
  {
   "cell_type": "code",
   "execution_count": 36,
   "metadata": {
    "ExecuteTime": {
     "end_time": "2020-07-23T01:29:52.691429Z",
     "start_time": "2020-07-23T01:29:48.580780Z"
    }
   },
   "outputs": [],
   "source": [
    "from sklearn.decomposition import PCA\n",
    "n_components = 9\n",
    "random_state = 123\n",
    "\n",
    "pca = PCA(n_components=n_components,random_state=random_state)\n",
    "X_train_pca = pd.DataFrame(pca.fit_transform(X_train),index=X_train.index)\n",
    "X_val_pca = pd.DataFrame(pca.fit_transform(X_val),index=X_val.index)"
   ]
  },
  {
   "cell_type": "markdown",
   "metadata": {},
   "source": [
    "### t-SNE로 2차적 차원 축소"
   ]
  },
  {
   "cell_type": "code",
   "execution_count": null,
   "metadata": {
    "ExecuteTime": {
     "end_time": "2020-07-23T01:25:27.425124Z",
     "start_time": "2020-07-23T01:22:50.393Z"
    }
   },
   "outputs": [],
   "source": [
    "n_components = 2\n",
    "lr = 200\n",
    "perplexity = 20\n",
    "ee=12\n",
    "init='random'\n",
    "random_state=123"
   ]
  },
  {
   "cell_type": "code",
   "execution_count": null,
   "metadata": {},
   "outputs": [],
   "source": [
    "tsne = TSNE(n_components=n_components,learning_rate=lr,perplexity=perplexity,\n",
    "           early_exaggeration=ee,init=init,random_state=random_state)"
   ]
  },
  {
   "cell_type": "code",
   "execution_count": null,
   "metadata": {},
   "outputs": [],
   "source": [
    "X_train_tsne, X_val_tsne = reduced_df(X_train,X_val,tsne,n_components,2500,fit_trans=True)"
   ]
  },
  {
   "cell_type": "markdown",
   "metadata": {},
   "source": [
    "## Dictionary Learning"
   ]
  },
  {
   "cell_type": "code",
   "execution_count": null,
   "metadata": {},
   "outputs": [],
   "source": [
    "n_components = 50\n",
    "alpha = 1\n",
    "batch_size = 128\n",
    "n_iter = 20\n",
    "random_state = 123"
   ]
  },
  {
   "cell_type": "code",
   "execution_count": null,
   "metadata": {},
   "outputs": [],
   "source": [
    "mbDL = MiniBatchDictionaryLearning(n_components=n_components,alpha=alpha,\n",
    "                                  batch_size=batch_size,n_iter=n_iter,random_state=random_state)"
   ]
  },
  {
   "cell_type": "code",
   "execution_count": null,
   "metadata": {},
   "outputs": [],
   "source": [
    "X_train_dl, X_val_dl = reduced_df(X_train,X_val,mbDL,n_components,5000,fit_trans=False)"
   ]
  },
  {
   "cell_type": "markdown",
   "metadata": {},
   "source": [
    "## ICA ( Independent Component Analysis )"
   ]
  },
  {
   "cell_type": "code",
   "execution_count": null,
   "metadata": {},
   "outputs": [],
   "source": [
    "n_components = 20\n",
    "algorithm = 'parallel'\n",
    "whiten = True\n",
    "max_iter = 60\n",
    "random_state = 123"
   ]
  },
  {
   "cell_type": "code",
   "execution_count": null,
   "metadata": {},
   "outputs": [],
   "source": [
    "ica = FastICA(n_components,n_components,algorithm=algorithm,whiten=whiten,\n",
    "             max_iter=max_iter, random_state=random_state)"
   ]
  },
  {
   "cell_type": "code",
   "execution_count": 39,
   "metadata": {
    "ExecuteTime": {
     "end_time": "2020-07-23T01:33:36.421487Z",
     "start_time": "2020-07-23T01:33:36.413514Z"
    }
   },
   "outputs": [
    {
     "data": {
      "text/plain": [
       "48000"
      ]
     },
     "execution_count": 39,
     "metadata": {},
     "output_type": "execute_result"
    }
   ],
   "source": [
    "X_train.shape[0]"
   ]
  },
  {
   "cell_type": "code",
   "execution_count": null,
   "metadata": {},
   "outputs": [],
   "source": [
    "X_train_ica, X_val_ica = reduced_df(X_train,X_val,ica,n_components,X_train.shape[0],fit_trans=True)"
   ]
  },
  {
   "cell_type": "markdown",
   "metadata": {},
   "source": [
    "# Visualizing various methods"
   ]
  },
  {
   "cell_type": "code",
   "execution_count": 46,
   "metadata": {
    "ExecuteTime": {
     "end_time": "2020-07-23T01:38:41.281318Z",
     "start_time": "2020-07-23T01:38:41.273323Z"
    }
   },
   "outputs": [],
   "source": [
    "def viz_scatter(df,method):    \n",
    "    sns.scatterplot(x=\"PC1\", y=\"PC2\", hue='class',data=df)\n",
    "    plt.title(\"Method : \"+method,fontsize=20)"
   ]
  },
  {
   "cell_type": "code",
   "execution_count": 48,
   "metadata": {
    "ExecuteTime": {
     "end_time": "2020-07-23T01:38:49.959352Z",
     "start_time": "2020-07-23T01:38:43.325151Z"
    }
   },
   "outputs": [
    {
     "data": {
      "image/png": "[encoded data removed]",
      "text/plain": [
       "<Figure size 432x288 with 1 Axes>"
      ]
     },
     "metadata": {
      "needs_background": "light"
     },
     "output_type": "display_data"
    }
   ],
   "source": [
    "viz_scatter(X_train_iso,'Isomap')"
   ]
  },
  {
   "cell_type": "code",
   "execution_count": null,
   "metadata": {},
   "outputs": [],
   "source": [
    "viz_scatter(X_train_mds,'MDS')"
   ]
  },
  {
   "cell_type": "code",
   "execution_count": null,
   "metadata": {},
   "outputs": [],
   "source": [
    "viz_scatter(X_train_lle,'LLE')"
   ]
  },
  {
   "cell_type": "code",
   "execution_count": null,
   "metadata": {},
   "outputs": [],
   "source": [
    "viz_scatter(X_train_tsne,'t-SNE')"
   ]
  },
  {
   "cell_type": "code",
   "execution_count": null,
   "metadata": {},
   "outputs": [],
   "source": [
    "viz_scatter(X_train_dk,'Dictionary Learning')"
   ]
  },
  {
   "cell_type": "code",
   "execution_count": null,
   "metadata": {},
   "outputs": [],
   "source": [
    "viz_scatter(X_train_ica,'ICA')"
   ]
  }
 ],
 "metadata": {
  "kernelspec": {
   "display_name": "Python 3",
   "language": "python",
   "name": "python3"
  },
  "language_info": {
   "codemirror_mode": {
    "name": "ipython",
    "version": 3
   },
   "file_extension": ".py",
   "mimetype": "text/x-python",
   "name": "python",
   "nbconvert_exporter": "python",
   "pygments_lexer": "ipython3",
   "version": "3.6.9"
  },
  "toc": {
   "base_numbering": 1,
   "nav_menu": {},
   "number_sections": true,
   "sideBar": true,
   "skip_h1_title": false,
   "title_cell": "Table of Contents",
   "title_sidebar": "Contents",
   "toc_cell": false,
   "toc_position": {},
   "toc_section_display": true,
   "toc_window_display": false
  }
 },
 "nbformat": 4,
 "nbformat_minor": 2
}
