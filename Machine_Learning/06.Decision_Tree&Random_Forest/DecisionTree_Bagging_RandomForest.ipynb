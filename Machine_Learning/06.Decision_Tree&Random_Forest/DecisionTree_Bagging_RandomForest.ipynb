{
 "cells": [
  {
   "cell_type": "markdown",
   "metadata": {},
   "source": [
    "# Decision Tree and Random Forest"
   ]
  },
  {
   "cell_type": "markdown",
   "metadata": {},
   "source": [
    "## 1. Import Dataset"
   ]
  },
  {
   "cell_type": "code",
   "execution_count": 1,
   "metadata": {},
   "outputs": [],
   "source": [
    "import pandas as pd\n",
    "import numpy as np\n",
    "import matplotlib.pyplot as plt\n",
    "from sklearn.tree import DecisionTreeClassifier"
   ]
  },
  {
   "cell_type": "code",
   "execution_count": 2,
   "metadata": {},
   "outputs": [],
   "source": [
    "BC = pd.read_csv(\"BreastCancer.txt\",sep=',')"
   ]
  },
  {
   "cell_type": "code",
   "execution_count": 3,
   "metadata": {},
   "outputs": [
    {
     "data": {
      "text/html": [
       "<div>\n",
       "<style scoped>\n",
       "    .dataframe tbody tr th:only-of-type {\n",
       "        vertical-align: middle;\n",
       "    }\n",
       "\n",
       "    .dataframe tbody tr th {\n",
       "        vertical-align: top;\n",
       "    }\n",
       "\n",
       "    .dataframe thead th {\n",
       "        text-align: right;\n",
       "    }\n",
       "</style>\n",
       "<table border=\"1\" class=\"dataframe\">\n",
       "  <thead>\n",
       "    <tr style=\"text-align: right;\">\n",
       "      <th></th>\n",
       "      <th>ID</th>\n",
       "      <th>CT</th>\n",
       "      <th>UCS</th>\n",
       "      <th>UCSP</th>\n",
       "      <th>MA</th>\n",
       "      <th>SECS</th>\n",
       "      <th>BN</th>\n",
       "      <th>BC</th>\n",
       "      <th>NN</th>\n",
       "      <th>M</th>\n",
       "      <th>CLASS</th>\n",
       "    </tr>\n",
       "  </thead>\n",
       "  <tbody>\n",
       "    <tr>\n",
       "      <th>0</th>\n",
       "      <td>1000025</td>\n",
       "      <td>5</td>\n",
       "      <td>1</td>\n",
       "      <td>1</td>\n",
       "      <td>1</td>\n",
       "      <td>2</td>\n",
       "      <td>1</td>\n",
       "      <td>3</td>\n",
       "      <td>1</td>\n",
       "      <td>1</td>\n",
       "      <td>2</td>\n",
       "    </tr>\n",
       "    <tr>\n",
       "      <th>1</th>\n",
       "      <td>1002945</td>\n",
       "      <td>5</td>\n",
       "      <td>4</td>\n",
       "      <td>4</td>\n",
       "      <td>5</td>\n",
       "      <td>7</td>\n",
       "      <td>10</td>\n",
       "      <td>3</td>\n",
       "      <td>2</td>\n",
       "      <td>1</td>\n",
       "      <td>2</td>\n",
       "    </tr>\n",
       "    <tr>\n",
       "      <th>2</th>\n",
       "      <td>1015425</td>\n",
       "      <td>3</td>\n",
       "      <td>1</td>\n",
       "      <td>1</td>\n",
       "      <td>1</td>\n",
       "      <td>2</td>\n",
       "      <td>2</td>\n",
       "      <td>3</td>\n",
       "      <td>1</td>\n",
       "      <td>1</td>\n",
       "      <td>2</td>\n",
       "    </tr>\n",
       "    <tr>\n",
       "      <th>3</th>\n",
       "      <td>1016277</td>\n",
       "      <td>6</td>\n",
       "      <td>8</td>\n",
       "      <td>8</td>\n",
       "      <td>1</td>\n",
       "      <td>3</td>\n",
       "      <td>4</td>\n",
       "      <td>3</td>\n",
       "      <td>7</td>\n",
       "      <td>1</td>\n",
       "      <td>2</td>\n",
       "    </tr>\n",
       "    <tr>\n",
       "      <th>4</th>\n",
       "      <td>1017023</td>\n",
       "      <td>4</td>\n",
       "      <td>1</td>\n",
       "      <td>1</td>\n",
       "      <td>3</td>\n",
       "      <td>2</td>\n",
       "      <td>1</td>\n",
       "      <td>3</td>\n",
       "      <td>1</td>\n",
       "      <td>1</td>\n",
       "      <td>2</td>\n",
       "    </tr>\n",
       "  </tbody>\n",
       "</table>\n",
       "</div>"
      ],
      "text/plain": [
       "        ID  CT  UCS  UCSP  MA  SECS  BN  BC  NN  M  CLASS\n",
       "0  1000025   5    1     1   1     2   1   3   1  1      2\n",
       "1  1002945   5    4     4   5     7  10   3   2  1      2\n",
       "2  1015425   3    1     1   1     2   2   3   1  1      2\n",
       "3  1016277   6    8     8   1     3   4   3   7  1      2\n",
       "4  1017023   4    1     1   3     2   1   3   1  1      2"
      ]
     },
     "execution_count": 3,
     "metadata": {},
     "output_type": "execute_result"
    }
   ],
   "source": [
    "BC.head()"
   ]
  },
  {
   "cell_type": "code",
   "execution_count": 4,
   "metadata": {},
   "outputs": [
    {
     "data": {
      "text/plain": [
       "2    458\n",
       "4    241\n",
       "Name: CLASS, dtype: int64"
      ]
     },
     "execution_count": 4,
     "metadata": {},
     "output_type": "execute_result"
    }
   ],
   "source": [
    "BC['CLASS'].value_counts() "
   ]
  },
  {
   "cell_type": "markdown",
   "metadata": {},
   "source": [
    "## 2. Data Preprocessing"
   ]
  },
  {
   "cell_type": "code",
   "execution_count": 5,
   "metadata": {},
   "outputs": [],
   "source": [
    "BC = BC.loc[lambda x:x['BN']!='?']"
   ]
  },
  {
   "cell_type": "code",
   "execution_count": 6,
   "metadata": {},
   "outputs": [],
   "source": [
    "BC_Response = pd.get_dummies(BC['CLASS']).iloc[:,-1] \n",
    "BC_X = BC.iloc[:,1:-1]"
   ]
  },
  {
   "cell_type": "markdown",
   "metadata": {},
   "source": [
    "## 3. Modeling"
   ]
  },
  {
   "cell_type": "markdown",
   "metadata": {},
   "source": [
    "### (1) Decision Tree Classifier"
   ]
  },
  {
   "cell_type": "code",
   "execution_count": 8,
   "metadata": {},
   "outputs": [],
   "source": [
    "DT_1 = DecisionTreeClassifier(random_state=0)"
   ]
  },
  {
   "cell_type": "code",
   "execution_count": 9,
   "metadata": {},
   "outputs": [
    {
     "data": {
      "text/plain": [
       "DecisionTreeClassifier(class_weight=None, criterion='gini', max_depth=None,\n",
       "                       max_features=None, max_leaf_nodes=None,\n",
       "                       min_impurity_decrease=0.0, min_impurity_split=None,\n",
       "                       min_samples_leaf=1, min_samples_split=2,\n",
       "                       min_weight_fraction_leaf=0.0, presort=False,\n",
       "                       random_state=0, splitter='best')"
      ]
     },
     "execution_count": 9,
     "metadata": {},
     "output_type": "execute_result"
    }
   ],
   "source": [
    "DT_1"
   ]
  },
  {
   "cell_type": "markdown",
   "metadata": {},
   "source": [
    "- criterion : 'gini'가 default ( 그 외 : 'entropy' .. )\n",
    "- max_depth : overfitting을 막기 위함. 어느 깊이까지 decision tree를 만들 것인가?\n",
    "- min_samples_split : node안의 데이터 갯수가 최소 몇 개 이상이어야만 split을 할 것인가?"
   ]
  },
  {
   "cell_type": "markdown",
   "metadata": {},
   "source": [
    "### Cross Validation"
   ]
  },
  {
   "cell_type": "markdown",
   "metadata": {},
   "source": [
    "- scoring에 f1_score, precision, recall을 넣고 cross_validation을 통해 각각의 값을 얻어냄"
   ]
  },
  {
   "cell_type": "code",
   "execution_count": 10,
   "metadata": {},
   "outputs": [],
   "source": [
    "from sklearn import metrics\n",
    "from sklearn.model_selection import cross_validate"
   ]
  },
  {
   "cell_type": "code",
   "execution_count": 11,
   "metadata": {},
   "outputs": [],
   "source": [
    "np.random.seed(0)\n",
    "scoring = ['f1','precision','recall'] \n",
    "scores_1 = cross_validate(DT_1, BC_X, BC_Response, scoring=scoring, cv=5,return_train_score=False)"
   ]
  },
  {
   "cell_type": "code",
   "execution_count": 12,
   "metadata": {},
   "outputs": [
    {
     "name": "stdout",
     "output_type": "stream",
     "text": [
      "parameter가 tuning 되지 않았을 때의 F1 Score : 0.908\n"
     ]
    }
   ],
   "source": [
    "print(\"parameter가 tuning 되지 않았을 때의 F1 Score : {:.3f}\".format(np.mean(scores_1['test_f1'])))"
   ]
  },
  {
   "cell_type": "markdown",
   "metadata": {},
   "source": [
    "### Hyperparameter Tuning\n",
    "( by pre pruning )\n",
    "- max_depth\n",
    "- min_sample_split"
   ]
  },
  {
   "cell_type": "code",
   "execution_count": 13,
   "metadata": {},
   "outputs": [],
   "source": [
    "from sklearn.model_selection import GridSearchCV"
   ]
  },
  {
   "cell_type": "code",
   "execution_count": 14,
   "metadata": {
    "scrolled": true
   },
   "outputs": [
    {
     "name": "stdout",
     "output_type": "stream",
     "text": [
      "Fitting 5 folds for each of 48 candidates, totalling 240 fits\n"
     ]
    },
    {
     "name": "stderr",
     "output_type": "stream",
     "text": [
      "[Parallel(n_jobs=1)]: Using backend SequentialBackend with 1 concurrent workers.\n",
      "[Parallel(n_jobs=1)]: Done 240 out of 240 | elapsed:    1.5s finished\n"
     ]
    },
    {
     "data": {
      "text/plain": [
       "GridSearchCV(cv=5, error_score='raise-deprecating',\n",
       "             estimator=DecisionTreeClassifier(class_weight=None,\n",
       "                                              criterion='gini', max_depth=None,\n",
       "                                              max_features=None,\n",
       "                                              max_leaf_nodes=None,\n",
       "                                              min_impurity_decrease=0.0,\n",
       "                                              min_impurity_split=None,\n",
       "                                              min_samples_leaf=1,\n",
       "                                              min_samples_split=2,\n",
       "                                              min_weight_fraction_leaf=0.0,\n",
       "                                              presort=False, random_state=0,\n",
       "                                              splitter='best'),\n",
       "             iid='warn', n_jobs=None,\n",
       "             param_grid={'max_depth': [2, 3, 4, 5, 6, 7, 8, 9],\n",
       "                         'min_samples_split': [2, 3, 4, 5, 6, 7]},\n",
       "             pre_dispatch='2*n_jobs', refit=True, return_train_score=False,\n",
       "             scoring=None, verbose=1)"
      ]
     },
     "execution_count": 14,
     "metadata": {},
     "output_type": "execute_result"
    }
   ],
   "source": [
    "np.random.seed(0)\n",
    "hyperparamters = {'max_depth':[2,3,4,5,6,7,8,9], \n",
    "                  'min_samples_split':[2,3,4,5,6,7]} \n",
    "GridCV = GridSearchCV(estimator=DT_1, param_grid=hyperparamters, cv=5, verbose=1) \n",
    "GridCV.fit(BC_X, BC_Response)"
   ]
  },
  {
   "cell_type": "code",
   "execution_count": 15,
   "metadata": {},
   "outputs": [
    {
     "data": {
      "text/plain": [
       "{'max_depth': 4, 'min_samples_split': 6}"
      ]
     },
     "execution_count": 15,
     "metadata": {},
     "output_type": "execute_result"
    }
   ],
   "source": [
    "GridCV.best_params_"
   ]
  },
  {
   "cell_type": "code",
   "execution_count": 16,
   "metadata": {},
   "outputs": [],
   "source": [
    "DT_2 = DecisionTreeClassifier(max_depth=4, min_samples_split=6,random_state=0)"
   ]
  },
  {
   "cell_type": "code",
   "execution_count": 17,
   "metadata": {},
   "outputs": [],
   "source": [
    "np.random.seed(0)\n",
    "scoring = ['f1','precision','recall'] \n",
    "scores_2 = cross_validate(DT_2, BC_X, BC_Response, scoring=scoring, cv=5, return_train_score = False)"
   ]
  },
  {
   "cell_type": "code",
   "execution_count": 18,
   "metadata": {
    "scrolled": true
   },
   "outputs": [
    {
     "name": "stdout",
     "output_type": "stream",
     "text": [
      "parameter가 tuning 되지 않았을 때의 F1 Score : 0.908\n",
      "parameter가 tuning 되었을 때의 F1 Score : 0.928 \n"
     ]
    }
   ],
   "source": [
    "print(\"parameter가 tuning 되지 않았을 때의 F1 Score : {:.3f}\".format(np.mean(scores_1['test_f1'])))\n",
    "print('parameter가 tuning 되었을 때의 F1 Score : {:.3f} '.format(np.mean(scores_2['test_f1'])))"
   ]
  },
  {
   "cell_type": "markdown",
   "metadata": {},
   "source": [
    "### (2) Bagging"
   ]
  },
  {
   "cell_type": "markdown",
   "metadata": {},
   "source": [
    "- base_estimator : Decision Tree 외에도 가능!\n",
    "- n_estimators : bootstrap을 몇 개할 것인가?\n",
    "- max_samples : 0~1사이의 값, 1이면 데이터를 활용\n",
    "- max_feature : 변수를 몇 개 사용할 것인가?\n",
    "- oob_score : Bagging의 성능을 측정하기 위해 OOB를 이용하여 비교"
   ]
  },
  {
   "cell_type": "code",
   "execution_count": 19,
   "metadata": {},
   "outputs": [],
   "source": [
    "from sklearn.ensemble import BaggingClassifier"
   ]
  },
  {
   "cell_type": "code",
   "execution_count": 20,
   "metadata": {},
   "outputs": [],
   "source": [
    "Ens_1=BaggingClassifier(DT_1,oob_score=True,random_state=0)"
   ]
  },
  {
   "cell_type": "code",
   "execution_count": 21,
   "metadata": {},
   "outputs": [
    {
     "data": {
      "text/plain": [
       "BaggingClassifier(base_estimator=None, bootstrap=True, bootstrap_features=False,\n",
       "                  max_features=1.0, max_samples=1.0, n_estimators=10,\n",
       "                  n_jobs=None, oob_score=False, random_state=None, verbose=0,\n",
       "                  warm_start=False)"
      ]
     },
     "execution_count": 21,
     "metadata": {},
     "output_type": "execute_result"
    }
   ],
   "source": [
    "BaggingClassifier()"
   ]
  },
  {
   "cell_type": "code",
   "execution_count": 22,
   "metadata": {},
   "outputs": [
    {
     "name": "stderr",
     "output_type": "stream",
     "text": [
      "C:\\Users\\samsung\\Anaconda3\\lib\\site-packages\\sklearn\\ensemble\\bagging.py:611: UserWarning: Some inputs do not have OOB scores. This probably means too few estimators were used to compute any reliable oob estimates.\n",
      "  warn(\"Some inputs do not have OOB scores. \"\n",
      "C:\\Users\\samsung\\Anaconda3\\lib\\site-packages\\sklearn\\ensemble\\bagging.py:616: RuntimeWarning: invalid value encountered in true_divide\n",
      "  predictions.sum(axis=1)[:, np.newaxis])\n",
      "C:\\Users\\samsung\\Anaconda3\\lib\\site-packages\\sklearn\\ensemble\\bagging.py:611: UserWarning: Some inputs do not have OOB scores. This probably means too few estimators were used to compute any reliable oob estimates.\n",
      "  warn(\"Some inputs do not have OOB scores. \"\n",
      "C:\\Users\\samsung\\Anaconda3\\lib\\site-packages\\sklearn\\ensemble\\bagging.py:616: RuntimeWarning: invalid value encountered in true_divide\n",
      "  predictions.sum(axis=1)[:, np.newaxis])\n",
      "C:\\Users\\samsung\\Anaconda3\\lib\\site-packages\\sklearn\\ensemble\\bagging.py:611: UserWarning: Some inputs do not have OOB scores. This probably means too few estimators were used to compute any reliable oob estimates.\n",
      "  warn(\"Some inputs do not have OOB scores. \"\n",
      "C:\\Users\\samsung\\Anaconda3\\lib\\site-packages\\sklearn\\ensemble\\bagging.py:616: RuntimeWarning: invalid value encountered in true_divide\n",
      "  predictions.sum(axis=1)[:, np.newaxis])\n",
      "C:\\Users\\samsung\\Anaconda3\\lib\\site-packages\\sklearn\\ensemble\\bagging.py:611: UserWarning: Some inputs do not have OOB scores. This probably means too few estimators were used to compute any reliable oob estimates.\n",
      "  warn(\"Some inputs do not have OOB scores. \"\n",
      "C:\\Users\\samsung\\Anaconda3\\lib\\site-packages\\sklearn\\ensemble\\bagging.py:616: RuntimeWarning: invalid value encountered in true_divide\n",
      "  predictions.sum(axis=1)[:, np.newaxis])\n"
     ]
    },
    {
     "name": "stdout",
     "output_type": "stream",
     "text": [
      "parameter가 tuning 되지 않았을 때의 F1 Score : 0.908\n",
      "parameter가 tuning 되었을 때의 F1 Score : 0.928 \n",
      "Bagging 했을 때의 F1 Score : 0.941\n"
     ]
    },
    {
     "name": "stderr",
     "output_type": "stream",
     "text": [
      "C:\\Users\\samsung\\Anaconda3\\lib\\site-packages\\sklearn\\ensemble\\bagging.py:611: UserWarning: Some inputs do not have OOB scores. This probably means too few estimators were used to compute any reliable oob estimates.\n",
      "  warn(\"Some inputs do not have OOB scores. \"\n",
      "C:\\Users\\samsung\\Anaconda3\\lib\\site-packages\\sklearn\\ensemble\\bagging.py:616: RuntimeWarning: invalid value encountered in true_divide\n",
      "  predictions.sum(axis=1)[:, np.newaxis])\n"
     ]
    }
   ],
   "source": [
    "np.random.seed(0)\n",
    "scores_3=cross_validate(Ens_1,BC_X, BC_Response, scoring=scoring, cv=5,return_train_score=False)\n",
    "print(\"parameter가 tuning 되지 않았을 때의 F1 Score : {:.3f}\".format(np.mean(scores_1['test_f1'])))\n",
    "print('parameter가 tuning 되었을 때의 F1 Score : {:.3f} '.format(np.mean(scores_2['test_f1'])))\n",
    "print('Bagging 했을 때의 F1 Score : {:.3f}'.format(np.mean(scores_3['test_f1'])))"
   ]
  },
  {
   "cell_type": "code",
   "execution_count": 23,
   "metadata": {},
   "outputs": [
    {
     "name": "stdout",
     "output_type": "stream",
     "text": [
      "Fitting 5 folds for each of 42 candidates, totalling 210 fits\n"
     ]
    },
    {
     "name": "stderr",
     "output_type": "stream",
     "text": [
      "[Parallel(n_jobs=1)]: Using backend SequentialBackend with 1 concurrent workers.\n",
      "[Parallel(n_jobs=1)]: Done 210 out of 210 | elapsed:   45.0s finished\n"
     ]
    },
    {
     "data": {
      "text/plain": [
       "GridSearchCV(cv=5, error_score='raise-deprecating',\n",
       "             estimator=BaggingClassifier(base_estimator=DecisionTreeClassifier(class_weight=None,\n",
       "                                                                               criterion='gini',\n",
       "                                                                               max_depth=None,\n",
       "                                                                               max_features=None,\n",
       "                                                                               max_leaf_nodes=None,\n",
       "                                                                               min_impurity_decrease=0.0,\n",
       "                                                                               min_impurity_split=None,\n",
       "                                                                               min_samples_leaf=1,\n",
       "                                                                               min_samples_split=2,\n",
       "                                                                               min_weight_fraction_leaf=0.0,\n",
       "                                                                               presort=False,\n",
       "                                                                               random_state=0...\n",
       "                                         bootstrap=True,\n",
       "                                         bootstrap_features=False,\n",
       "                                         max_features=1.0, max_samples=1.0,\n",
       "                                         n_estimators=10, n_jobs=None,\n",
       "                                         oob_score=True, random_state=0,\n",
       "                                         verbose=0, warm_start=False),\n",
       "             iid='warn', n_jobs=None,\n",
       "             param_grid={'max_samples': [0.5, 0.6, 0.7, 0.8, 0.9, 1],\n",
       "                         'n_estimators': [35, 45, 55, 65, 75, 85, 95]},\n",
       "             pre_dispatch='2*n_jobs', refit=True, return_train_score=False,\n",
       "             scoring=None, verbose=1)"
      ]
     },
     "execution_count": 23,
     "metadata": {},
     "output_type": "execute_result"
    }
   ],
   "source": [
    "np.random.seed(0)\n",
    "hyperparamters = {'n_estimators':[35,45,55,65,75,85,95], \n",
    "                  'max_samples':[0.5,0.6,0.7,0.8,0.9,1]} #hyperparameter를 dict type으로 넣기\n",
    "GridCV = GridSearchCV(estimator=Ens_1, param_grid=hyperparamters, cv=5, verbose=1) \n",
    "GridCV.fit(BC_X, BC_Response)"
   ]
  },
  {
   "cell_type": "code",
   "execution_count": 24,
   "metadata": {},
   "outputs": [
    {
     "data": {
      "text/plain": [
       "{'max_samples': 0.7, 'n_estimators': 35}"
      ]
     },
     "execution_count": 24,
     "metadata": {},
     "output_type": "execute_result"
    }
   ],
   "source": [
    "GridCV.best_params_"
   ]
  },
  {
   "cell_type": "code",
   "execution_count": 25,
   "metadata": {},
   "outputs": [],
   "source": [
    "Ens_2=BaggingClassifier(DT_1,max_samples=0.7,n_estimators=35,oob_score=True,random_state=0)"
   ]
  },
  {
   "cell_type": "code",
   "execution_count": 26,
   "metadata": {},
   "outputs": [],
   "source": [
    "np.random.seed(0)\n",
    "scores_4 = cross_validate(Ens_2,BC_X,BC_Response, scoring=scoring, cv=5,return_train_score=False)"
   ]
  },
  {
   "cell_type": "code",
   "execution_count": 27,
   "metadata": {},
   "outputs": [
    {
     "name": "stdout",
     "output_type": "stream",
     "text": [
      "parameter가 tuning 되지 않았을 때의 F1 Score : 0.908\n",
      "parameter가 tuning 되었을 때의 F1 Score : 0.928 \n",
      "Bagging 했을 때의 F1 Score : 0.941\n",
      "Bagging을 parameter tuning 했을 때의 F1 Score: 0.948\n"
     ]
    }
   ],
   "source": [
    "print(\"parameter가 tuning 되지 않았을 때의 F1 Score : {:.3f}\".format(np.mean(scores_1['test_f1'])))\n",
    "print('parameter가 tuning 되었을 때의 F1 Score : {:.3f} '.format(np.mean(scores_2['test_f1'])))\n",
    "print('Bagging 했을 때의 F1 Score : {:.3f}'.format(np.mean(scores_3['test_f1'])))\n",
    "print(\"Bagging을 parameter tuning 했을 때의 F1 Score: {:.3f}\".format(np.mean(scores_4['test_f1'])))"
   ]
  },
  {
   "cell_type": "markdown",
   "metadata": {},
   "source": [
    "### (3) RandomForest"
   ]
  },
  {
   "cell_type": "markdown",
   "metadata": {},
   "source": [
    "- max_depth : default=None\n",
    "- min_samples_split : default=2\n",
    "- min_samples_leaf  : default=1\n",
    "- 3가지 parameter는 동일하게 유지, tree를 deep하게 향상시키는 것이 좋기 때문\n",
    "- max_features : 각 split할 때, 선택할 변수의 개수 \n",
    "- 만약 'auto' 라면, max_features=sqrt(n_features)\n",
    "- 만약 'None' 이라면, max_features=n_features (변수개수 그 자체)\n",
    "- 직접 숫자를 넣어줄 수 있다."
   ]
  },
  {
   "cell_type": "code",
   "execution_count": 28,
   "metadata": {},
   "outputs": [],
   "source": [
    "from sklearn.ensemble import RandomForestClassifier"
   ]
  },
  {
   "cell_type": "code",
   "execution_count": 36,
   "metadata": {},
   "outputs": [
    {
     "data": {
      "text/plain": [
       "RandomForestClassifier(bootstrap=True, class_weight=None, criterion='gini',\n",
       "            max_depth=None, max_features='auto', max_leaf_nodes=None,\n",
       "            min_impurity_decrease=0.0, min_impurity_split=None,\n",
       "            min_samples_leaf=1, min_samples_split=2,\n",
       "            min_weight_fraction_leaf=0.0, n_estimators=10, n_jobs=1,\n",
       "            oob_score=False, random_state=None, verbose=0,\n",
       "            warm_start=False)"
      ]
     },
     "execution_count": 36,
     "metadata": {},
     "output_type": "execute_result"
    }
   ],
   "source": [
    "RandomForestClassifier()"
   ]
  },
  {
   "cell_type": "code",
   "execution_count": 37,
   "metadata": {},
   "outputs": [],
   "source": [
    "RF_1=RandomForestClassifier(random_state=0)"
   ]
  },
  {
   "cell_type": "code",
   "execution_count": 38,
   "metadata": {},
   "outputs": [],
   "source": [
    "np.random.seed(0)\n",
    "scores_5=cross_validate(RF_1,BC_X, BC_Response, scoring=scoring, cv=5,return_train_score=False)"
   ]
  },
  {
   "cell_type": "code",
   "execution_count": 39,
   "metadata": {},
   "outputs": [
    {
     "name": "stdout",
     "output_type": "stream",
     "text": [
      "parameter가 tuning 되지 않았을 때의 F1 Score : 0.908\n",
      "parameter가 tuning 되었을 때의 F1 Score : 0.928 \n",
      "Bagging 했을 때의 F1 Score : 0.941\n",
      "Bagging을 parameter tuning 했을 때의 F1 Score: 0.948\n",
      "RandomForest를 했을 때의 F1 Score : 0.942 \n"
     ]
    }
   ],
   "source": [
    "print(\"parameter가 tuning 되지 않았을 때의 F1 Score : {:.3f}\".format(np.mean(scores_1['test_f1'])))\n",
    "print('parameter가 tuning 되었을 때의 F1 Score : {:.3f} '.format(np.mean(scores_2['test_f1'])))\n",
    "print('Bagging 했을 때의 F1 Score : {:.3f}'.format(np.mean(scores_3['test_f1'])))\n",
    "print(\"Bagging을 parameter tuning 했을 때의 F1 Score: {:.3f}\".format(np.mean(scores_4['test_f1'])))\n",
    "print(\"RandomForest를 했을 때의 F1 Score : {:.3f} \".format(np.mean(scores_5['test_f1'])))"
   ]
  },
  {
   "cell_type": "code",
   "execution_count": 40,
   "metadata": {},
   "outputs": [
    {
     "name": "stdout",
     "output_type": "stream",
     "text": [
      "Fitting 5 folds for each of 42 candidates, totalling 210 fits\n"
     ]
    },
    {
     "name": "stderr",
     "output_type": "stream",
     "text": [
      "[Parallel(n_jobs=1)]: Done 210 out of 210 | elapsed:   42.5s finished\n"
     ]
    },
    {
     "data": {
      "text/plain": [
       "GridSearchCV(cv=5, error_score='raise',\n",
       "       estimator=RandomForestClassifier(bootstrap=True, class_weight=None, criterion='gini',\n",
       "            max_depth=None, max_features='auto', max_leaf_nodes=None,\n",
       "            min_impurity_decrease=0.0, min_impurity_split=None,\n",
       "            min_samples_leaf=1, min_samples_split=2,\n",
       "            min_weight_fraction_leaf=0.0, n_estimators=10, n_jobs=1,\n",
       "            oob_score=False, random_state=0, verbose=0, warm_start=False),\n",
       "       fit_params=None, iid=True, n_jobs=1,\n",
       "       param_grid={'n_estimators': [35, 45, 55, 65, 75, 85, 95], 'max_features': [1, 2, 3, 4, 5, 6]},\n",
       "       pre_dispatch='2*n_jobs', refit=True, return_train_score='warn',\n",
       "       scoring=None, verbose=1)"
      ]
     },
     "execution_count": 40,
     "metadata": {},
     "output_type": "execute_result"
    }
   ],
   "source": [
    "np.random.seed(0)\n",
    "hyperparamters = {'n_estimators':[35,45,55,65,75,85,95], \n",
    "                  'max_features':[1,2,3,4,5,6]} #hyperparameter를 dict type으로 넣기\n",
    "GridCV = GridSearchCV(estimator=RF_1, param_grid=hyperparamters, cv=5, verbose=1) \n",
    "GridCV.fit(BC_X, BC_Response)"
   ]
  },
  {
   "cell_type": "code",
   "execution_count": 41,
   "metadata": {},
   "outputs": [
    {
     "data": {
      "text/plain": [
       "{'max_features': 1, 'n_estimators': 35}"
      ]
     },
     "execution_count": 41,
     "metadata": {},
     "output_type": "execute_result"
    }
   ],
   "source": [
    "GridCV.best_params_"
   ]
  },
  {
   "cell_type": "code",
   "execution_count": 42,
   "metadata": {},
   "outputs": [],
   "source": [
    "np.random.seed(0)\n",
    "RF_2 = RandomForestClassifier(n_estimators=35, max_features=1,random_state=0)\n",
    "scores_6 = cross_validate(RF_2, BC_X, BC_Response, scoring=scoring, cv=5, return_train_score = False)"
   ]
  },
  {
   "cell_type": "code",
   "execution_count": 43,
   "metadata": {},
   "outputs": [
    {
     "name": "stdout",
     "output_type": "stream",
     "text": [
      "parameter가 tuning 되지 않았을 때의 F1 Score : 0.908\n",
      "parameter가 tuning 되었을 때의 F1 Score : 0.928 \n",
      "Bagging 했을 때의 F1 Score : 0.941\n",
      "Bagging을 parameter tuning 했을 때의 F1 Score: 0.948\n",
      "RandomForest를 했을 때의 F1 Score : 0.942 \n",
      "RandomForest를 parameter tuning 했을 때의 F1 Score : 0.959\n"
     ]
    }
   ],
   "source": [
    "print(\"parameter가 tuning 되지 않았을 때의 F1 Score : {:.3f}\".format(np.mean(scores_1['test_f1'])))\n",
    "print('parameter가 tuning 되었을 때의 F1 Score : {:.3f} '.format(np.mean(scores_2['test_f1'])))\n",
    "print('Bagging 했을 때의 F1 Score : {:.3f}'.format(np.mean(scores_3['test_f1'])))\n",
    "print(\"Bagging을 parameter tuning 했을 때의 F1 Score: {:.3f}\".format(np.mean(scores_4['test_f1'])))\n",
    "print(\"RandomForest를 했을 때의 F1 Score : {:.3f} \".format(np.mean(scores_5['test_f1'])))\n",
    "print(\"RandomForest를 parameter tuning 했을 때의 F1 Score : {:.3f}\".format(np.mean(scores_6['test_f1'])))"
   ]
  },
  {
   "cell_type": "markdown",
   "metadata": {},
   "source": [
    "## 4. Feature Importance\n",
    "- random_state 지정 안해보고 비교\n",
    "- 선택하는 변수의 갯수(m) 변화에 따른 비교"
   ]
  },
  {
   "cell_type": "code",
   "execution_count": 44,
   "metadata": {
    "scrolled": true
   },
   "outputs": [
    {
     "data": {
      "image/png": "[encoded data removed]",
      "text/plain": [
       "<Figure size 432x288 with 1 Axes>"
      ]
     },
     "metadata": {
      "needs_background": "light"
     },
     "output_type": "display_data"
    }
   ],
   "source": [
    "RF_3=RandomForestClassifier()\n",
    "RF_3.fit(BC_X,BC_Response)\n",
    "importances =RF_3.feature_importances_\n",
    "indices = np.argsort(importances)\n",
    "feat_importances = pd.Series(RF_3.feature_importances_, index=BC_X.columns)\n",
    "feat_importances.nlargest(4).plot(kind='barh')\n",
    "plt.show()"
   ]
  },
  {
   "cell_type": "code",
   "execution_count": 45,
   "metadata": {},
   "outputs": [
    {
     "data": {
      "image/png": "[encoded data removed]",
      "text/plain": [
       "<Figure size 432x288 with 1 Axes>"
      ]
     },
     "metadata": {
      "needs_background": "light"
     },
     "output_type": "display_data"
    }
   ],
   "source": [
    "RF_4=RandomForestClassifier()\n",
    "RF_4.fit(BC_X,BC_Response)\n",
    "importances =RF_4.feature_importances_\n",
    "indices = np.argsort(importances)\n",
    "feat_importances = pd.Series(RF_4.feature_importances_, index=BC_X.columns)\n",
    "feat_importances.nlargest(4).plot(kind='barh')\n",
    "plt.show()"
   ]
  },
  {
   "cell_type": "code",
   "execution_count": 46,
   "metadata": {},
   "outputs": [
    {
     "data": {
      "image/png": "[encoded data removed]",
      "text/plain": [
       "<Figure size 432x288 with 1 Axes>"
      ]
     },
     "metadata": {
      "needs_background": "light"
     },
     "output_type": "display_data"
    }
   ],
   "source": [
    "RF_5=RandomForestClassifier(max_features=3,random_state=0)\n",
    "RF_5.fit(BC_X,BC_Response)\n",
    "importances =RF_5.feature_importances_\n",
    "indices = np.argsort(importances)\n",
    "feat_importances = pd.Series(RF_5.feature_importances_, index=BC_X.columns)\n",
    "feat_importances.nlargest(4).plot(kind='barh')\n",
    "plt.show()"
   ]
  },
  {
   "cell_type": "code",
   "execution_count": 47,
   "metadata": {},
   "outputs": [
    {
     "data": {
      "image/png": "[encoded data removed]",
      "text/plain": [
       "<Figure size 432x288 with 1 Axes>"
      ]
     },
     "metadata": {
      "needs_background": "light"
     },
     "output_type": "display_data"
    }
   ],
   "source": [
    "RF_5=RandomForestClassifier(max_features=4,random_state=0)\n",
    "RF_5.fit(BC_X,BC_Response)\n",
    "importances =RF_5.feature_importances_\n",
    "indices = np.argsort(importances)\n",
    "feat_importances = pd.Series(RF_5.feature_importances_, index=BC_X.columns)\n",
    "feat_importances.nlargest(4).plot(kind='barh')\n",
    "plt.show()"
   ]
  },
  {
   "cell_type": "markdown",
   "metadata": {},
   "source": [
    "- Ensemble 모형은 Black Box지만, Feature Importance는 부분적으로 해석 가능한 부분이다.\n",
    "- Random Forest는 이름 그대로 random하다. random_state option을 지정하지 않으면 전혀 다른 모델이 새롭게 만들어진다.\n",
    "- 보는 바와 같이 Feature Importance는 변동될 수 있다\n",
    "- EDA를 위한 과정 수준에서 적용하면 좋다."
   ]
  },
  {
   "cell_type": "markdown",
   "metadata": {},
   "source": [
    ">### Blackbox model 해석 시, 그 밖에도 \n",
    "- LIME\n",
    "- PDP\n",
    "- ICE-plot\n",
    "- SHAP\n",
    "등의 지표 등이 있다. ( Feature Importance 보다 stable )"
   ]
  }
 ],
 "metadata": {
  "anaconda-cloud": {},
  "kernelspec": {
   "display_name": "Python 3",
   "language": "python",
   "name": "python3"
  },
  "language_info": {
   "codemirror_mode": {
    "name": "ipython",
    "version": 3
   },
   "file_extension": ".py",
   "mimetype": "text/x-python",
   "name": "python",
   "nbconvert_exporter": "python",
   "pygments_lexer": "ipython3",
   "version": "3.6.9"
  }
 },
 "nbformat": 4,
 "nbformat_minor": 2
}
