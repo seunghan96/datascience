{
 "cells": [
  {
   "cell_type": "markdown",
   "metadata": {
    "slideshow": {
     "slide_type": "slide"
    }
   },
   "source": [
    "# Feature Importance"
   ]
  },
  {
   "cell_type": "markdown",
   "metadata": {
    "slideshow": {
     "slide_type": "slide"
    }
   },
   "source": [
    "## 1. Import Dataset"
   ]
  },
  {
   "cell_type": "code",
   "execution_count": 1,
   "metadata": {
    "slideshow": {
     "slide_type": "skip"
    }
   },
   "outputs": [],
   "source": [
    "import numpy as np\n",
    "import pandas as pd\n",
    "import matplotlib.pyplot as plt\n",
    "\n",
    "from sklearn.tree import DecisionTreeRegressor\n",
    "from sklearn.ensemble import AdaBoostRegressor\n",
    "from sklearn.model_selection import cross_validate\n",
    "\n",
    "from sklearn.feature_selection import RFE\n",
    "from sklearn.preprocessing import StandardScaler\n",
    "from sklearn.linear_model import LinearRegression"
   ]
  },
  {
   "cell_type": "code",
   "execution_count": 2,
   "metadata": {
    "slideshow": {
     "slide_type": "skip"
    }
   },
   "outputs": [],
   "source": [
    "from matplotlib import font_manager, rc, rcParams\n",
    "\n",
    "def set_korea_font():\n",
    "    font_name = font_manager.FontProperties(fname=\"c:/Windows/Fonts/malgun.ttf\").get_name()\n",
    "    rc('font', family=font_name)\n",
    "    rcParams.update({'font.size': 11})\n",
    "    rcParams['axes.unicode_minus'] = False  \n",
    "set_korea_font()"
   ]
  },
  {
   "cell_type": "code",
   "execution_count": 3,
   "metadata": {
    "slideshow": {
     "slide_type": "skip"
    }
   },
   "outputs": [],
   "source": [
    "house = pd.read_csv('kc_house_data.csv')\n",
    "dum = pd.read_csv('dummy.csv').iloc[:,2:]\n",
    "dum.columns = ['밸뷰(배드타운)','메디나(부촌)','타코마 및 교외']\n",
    "house = pd.merge(house,dum,left_index=True,right_index=True)"
   ]
  },
  {
   "cell_type": "code",
   "execution_count": 4,
   "metadata": {
    "slideshow": {
     "slide_type": "subslide"
    }
   },
   "outputs": [
    {
     "name": "stdout",
     "output_type": "stream",
     "text": [
      "(21613, 24)\n"
     ]
    },
    {
     "data": {
      "text/html": [
       "<div>\n",
       "<style scoped>\n",
       "    .dataframe tbody tr th:only-of-type {\n",
       "        vertical-align: middle;\n",
       "    }\n",
       "\n",
       "    .dataframe tbody tr th {\n",
       "        vertical-align: top;\n",
       "    }\n",
       "\n",
       "    .dataframe thead th {\n",
       "        text-align: right;\n",
       "    }\n",
       "</style>\n",
       "<table border=\"1\" class=\"dataframe\">\n",
       "  <thead>\n",
       "    <tr style=\"text-align: right;\">\n",
       "      <th></th>\n",
       "      <th>id</th>\n",
       "      <th>date</th>\n",
       "      <th>price</th>\n",
       "      <th>bedrooms</th>\n",
       "      <th>bathrooms</th>\n",
       "      <th>sqft_living</th>\n",
       "      <th>sqft_lot</th>\n",
       "      <th>floors</th>\n",
       "      <th>waterfront</th>\n",
       "      <th>view</th>\n",
       "      <th>...</th>\n",
       "      <th>yr_built</th>\n",
       "      <th>yr_renovated</th>\n",
       "      <th>zipcode</th>\n",
       "      <th>lat</th>\n",
       "      <th>long</th>\n",
       "      <th>sqft_living15</th>\n",
       "      <th>sqft_lot15</th>\n",
       "      <th>밸뷰(배드타운)</th>\n",
       "      <th>메디나(부촌)</th>\n",
       "      <th>타코마 및 교외</th>\n",
       "    </tr>\n",
       "  </thead>\n",
       "  <tbody>\n",
       "    <tr>\n",
       "      <th>0</th>\n",
       "      <td>7129300520</td>\n",
       "      <td>20141013T000000</td>\n",
       "      <td>221900.0</td>\n",
       "      <td>3</td>\n",
       "      <td>1.00</td>\n",
       "      <td>1180</td>\n",
       "      <td>5650</td>\n",
       "      <td>1.0</td>\n",
       "      <td>0</td>\n",
       "      <td>0</td>\n",
       "      <td>...</td>\n",
       "      <td>1955</td>\n",
       "      <td>0</td>\n",
       "      <td>98178</td>\n",
       "      <td>47.5112</td>\n",
       "      <td>-122.257</td>\n",
       "      <td>1340</td>\n",
       "      <td>5650</td>\n",
       "      <td>0</td>\n",
       "      <td>0</td>\n",
       "      <td>1</td>\n",
       "    </tr>\n",
       "    <tr>\n",
       "      <th>1</th>\n",
       "      <td>6414100192</td>\n",
       "      <td>20141209T000000</td>\n",
       "      <td>538000.0</td>\n",
       "      <td>3</td>\n",
       "      <td>2.25</td>\n",
       "      <td>2570</td>\n",
       "      <td>7242</td>\n",
       "      <td>2.0</td>\n",
       "      <td>0</td>\n",
       "      <td>0</td>\n",
       "      <td>...</td>\n",
       "      <td>1951</td>\n",
       "      <td>1991</td>\n",
       "      <td>98125</td>\n",
       "      <td>47.7210</td>\n",
       "      <td>-122.319</td>\n",
       "      <td>1690</td>\n",
       "      <td>7639</td>\n",
       "      <td>0</td>\n",
       "      <td>0</td>\n",
       "      <td>0</td>\n",
       "    </tr>\n",
       "    <tr>\n",
       "      <th>2</th>\n",
       "      <td>5631500400</td>\n",
       "      <td>20150225T000000</td>\n",
       "      <td>180000.0</td>\n",
       "      <td>2</td>\n",
       "      <td>1.00</td>\n",
       "      <td>770</td>\n",
       "      <td>10000</td>\n",
       "      <td>1.0</td>\n",
       "      <td>0</td>\n",
       "      <td>0</td>\n",
       "      <td>...</td>\n",
       "      <td>1933</td>\n",
       "      <td>0</td>\n",
       "      <td>98028</td>\n",
       "      <td>47.7379</td>\n",
       "      <td>-122.233</td>\n",
       "      <td>2720</td>\n",
       "      <td>8062</td>\n",
       "      <td>0</td>\n",
       "      <td>0</td>\n",
       "      <td>0</td>\n",
       "    </tr>\n",
       "    <tr>\n",
       "      <th>3</th>\n",
       "      <td>2487200875</td>\n",
       "      <td>20141209T000000</td>\n",
       "      <td>604000.0</td>\n",
       "      <td>4</td>\n",
       "      <td>3.00</td>\n",
       "      <td>1960</td>\n",
       "      <td>5000</td>\n",
       "      <td>1.0</td>\n",
       "      <td>0</td>\n",
       "      <td>0</td>\n",
       "      <td>...</td>\n",
       "      <td>1965</td>\n",
       "      <td>0</td>\n",
       "      <td>98136</td>\n",
       "      <td>47.5208</td>\n",
       "      <td>-122.393</td>\n",
       "      <td>1360</td>\n",
       "      <td>5000</td>\n",
       "      <td>0</td>\n",
       "      <td>0</td>\n",
       "      <td>0</td>\n",
       "    </tr>\n",
       "    <tr>\n",
       "      <th>4</th>\n",
       "      <td>1954400510</td>\n",
       "      <td>20150218T000000</td>\n",
       "      <td>510000.0</td>\n",
       "      <td>3</td>\n",
       "      <td>2.00</td>\n",
       "      <td>1680</td>\n",
       "      <td>8080</td>\n",
       "      <td>1.0</td>\n",
       "      <td>0</td>\n",
       "      <td>0</td>\n",
       "      <td>...</td>\n",
       "      <td>1987</td>\n",
       "      <td>0</td>\n",
       "      <td>98074</td>\n",
       "      <td>47.6168</td>\n",
       "      <td>-122.045</td>\n",
       "      <td>1800</td>\n",
       "      <td>7503</td>\n",
       "      <td>1</td>\n",
       "      <td>0</td>\n",
       "      <td>0</td>\n",
       "    </tr>\n",
       "  </tbody>\n",
       "</table>\n",
       "<p>5 rows × 24 columns</p>\n",
       "</div>"
      ],
      "text/plain": [
       "           id             date     price  bedrooms  bathrooms  sqft_living  \\\n",
       "0  7129300520  20141013T000000  221900.0         3       1.00         1180   \n",
       "1  6414100192  20141209T000000  538000.0         3       2.25         2570   \n",
       "2  5631500400  20150225T000000  180000.0         2       1.00          770   \n",
       "3  2487200875  20141209T000000  604000.0         4       3.00         1960   \n",
       "4  1954400510  20150218T000000  510000.0         3       2.00         1680   \n",
       "\n",
       "   sqft_lot  floors  waterfront  view    ...     yr_built  yr_renovated  \\\n",
       "0      5650     1.0           0     0    ...         1955             0   \n",
       "1      7242     2.0           0     0    ...         1951          1991   \n",
       "2     10000     1.0           0     0    ...         1933             0   \n",
       "3      5000     1.0           0     0    ...         1965             0   \n",
       "4      8080     1.0           0     0    ...         1987             0   \n",
       "\n",
       "   zipcode      lat     long  sqft_living15  sqft_lot15  밸뷰(배드타운)  메디나(부촌)  \\\n",
       "0    98178  47.5112 -122.257           1340        5650         0        0   \n",
       "1    98125  47.7210 -122.319           1690        7639         0        0   \n",
       "2    98028  47.7379 -122.233           2720        8062         0        0   \n",
       "3    98136  47.5208 -122.393           1360        5000         0        0   \n",
       "4    98074  47.6168 -122.045           1800        7503         1        0   \n",
       "\n",
       "   타코마 및 교외  \n",
       "0         1  \n",
       "1         0  \n",
       "2         0  \n",
       "3         0  \n",
       "4         0  \n",
       "\n",
       "[5 rows x 24 columns]"
      ]
     },
     "execution_count": 4,
     "metadata": {},
     "output_type": "execute_result"
    }
   ],
   "source": [
    "print(house.shape)\n",
    "house.head()"
   ]
  },
  {
   "cell_type": "markdown",
   "metadata": {},
   "source": [
    "## 2. Model : Adaboost"
   ]
  },
  {
   "cell_type": "code",
   "execution_count": 5,
   "metadata": {
    "slideshow": {
     "slide_type": "skip"
    }
   },
   "outputs": [],
   "source": [
    "x_dt=house[['bedrooms', 'bathrooms', 'sqft_living','sqft_lot', 'floors', 'grade', 'sqft_above','condition', 'sqft_lot15',\n",
    "         'waterfront', 'yr_built', 'sqft_living15','view','밸뷰(배드타운)','메디나(부촌)','타코마 및 교외']]\n",
    "y_dt = house['price']"
   ]
  },
  {
   "cell_type": "code",
   "execution_count": 6,
   "metadata": {
    "slideshow": {
     "slide_type": "skip"
    }
   },
   "outputs": [],
   "source": [
    "dt = DecisionTreeRegressor()"
   ]
  },
  {
   "cell_type": "code",
   "execution_count": 7,
   "metadata": {
    "slideshow": {
     "slide_type": "skip"
    }
   },
   "outputs": [
    {
     "data": {
      "text/html": [
       "<div>\n",
       "<style scoped>\n",
       "    .dataframe tbody tr th:only-of-type {\n",
       "        vertical-align: middle;\n",
       "    }\n",
       "\n",
       "    .dataframe tbody tr th {\n",
       "        vertical-align: top;\n",
       "    }\n",
       "\n",
       "    .dataframe thead th {\n",
       "        text-align: right;\n",
       "    }\n",
       "</style>\n",
       "<table border=\"1\" class=\"dataframe\">\n",
       "  <thead>\n",
       "    <tr style=\"text-align: right;\">\n",
       "      <th></th>\n",
       "      <th>bedrooms</th>\n",
       "      <th>bathrooms</th>\n",
       "      <th>sqft_living</th>\n",
       "      <th>sqft_lot</th>\n",
       "      <th>floors</th>\n",
       "      <th>grade</th>\n",
       "      <th>sqft_above</th>\n",
       "      <th>condition</th>\n",
       "      <th>sqft_lot15</th>\n",
       "      <th>waterfront</th>\n",
       "      <th>yr_built</th>\n",
       "      <th>sqft_living15</th>\n",
       "      <th>view</th>\n",
       "      <th>밸뷰(배드타운)</th>\n",
       "      <th>메디나(부촌)</th>\n",
       "      <th>타코마 및 교외</th>\n",
       "    </tr>\n",
       "  </thead>\n",
       "  <tbody>\n",
       "    <tr>\n",
       "      <th>0</th>\n",
       "      <td>-0.398737</td>\n",
       "      <td>-1.447464</td>\n",
       "      <td>-0.979835</td>\n",
       "      <td>-0.228321</td>\n",
       "      <td>-0.915427</td>\n",
       "      <td>-0.558836</td>\n",
       "      <td>-0.734708</td>\n",
       "      <td>-0.629187</td>\n",
       "      <td>-0.260715</td>\n",
       "      <td>-0.087173</td>\n",
       "      <td>-0.544898</td>\n",
       "      <td>-0.943355</td>\n",
       "      <td>-0.305759</td>\n",
       "      <td>-0.559947</td>\n",
       "      <td>-0.210615</td>\n",
       "      <td>1.702483</td>\n",
       "    </tr>\n",
       "    <tr>\n",
       "      <th>1</th>\n",
       "      <td>-0.398737</td>\n",
       "      <td>0.175607</td>\n",
       "      <td>0.533634</td>\n",
       "      <td>-0.189885</td>\n",
       "      <td>0.936506</td>\n",
       "      <td>-0.558836</td>\n",
       "      <td>0.460841</td>\n",
       "      <td>-0.629187</td>\n",
       "      <td>-0.187868</td>\n",
       "      <td>-0.087173</td>\n",
       "      <td>-0.681079</td>\n",
       "      <td>-0.432686</td>\n",
       "      <td>-0.305759</td>\n",
       "      <td>-0.559947</td>\n",
       "      <td>-0.210615</td>\n",
       "      <td>-0.587377</td>\n",
       "    </tr>\n",
       "    <tr>\n",
       "      <th>2</th>\n",
       "      <td>-1.473959</td>\n",
       "      <td>-1.447464</td>\n",
       "      <td>-1.426254</td>\n",
       "      <td>-0.123298</td>\n",
       "      <td>-0.915427</td>\n",
       "      <td>-1.409587</td>\n",
       "      <td>-1.229834</td>\n",
       "      <td>-0.629187</td>\n",
       "      <td>-0.172375</td>\n",
       "      <td>-0.087173</td>\n",
       "      <td>-1.293892</td>\n",
       "      <td>1.070140</td>\n",
       "      <td>-0.305759</td>\n",
       "      <td>-0.559947</td>\n",
       "      <td>-0.210615</td>\n",
       "      <td>-0.587377</td>\n",
       "    </tr>\n",
       "    <tr>\n",
       "      <th>3</th>\n",
       "      <td>0.676485</td>\n",
       "      <td>1.149449</td>\n",
       "      <td>-0.130550</td>\n",
       "      <td>-0.244014</td>\n",
       "      <td>-0.915427</td>\n",
       "      <td>-0.558836</td>\n",
       "      <td>-0.891699</td>\n",
       "      <td>2.444294</td>\n",
       "      <td>-0.284522</td>\n",
       "      <td>-0.087173</td>\n",
       "      <td>-0.204446</td>\n",
       "      <td>-0.914174</td>\n",
       "      <td>-0.305759</td>\n",
       "      <td>-0.559947</td>\n",
       "      <td>-0.210615</td>\n",
       "      <td>-0.587377</td>\n",
       "    </tr>\n",
       "    <tr>\n",
       "      <th>4</th>\n",
       "      <td>-0.398737</td>\n",
       "      <td>-0.149007</td>\n",
       "      <td>-0.435422</td>\n",
       "      <td>-0.169653</td>\n",
       "      <td>-0.915427</td>\n",
       "      <td>0.291916</td>\n",
       "      <td>-0.130895</td>\n",
       "      <td>-0.629187</td>\n",
       "      <td>-0.192849</td>\n",
       "      <td>-0.087173</td>\n",
       "      <td>0.544548</td>\n",
       "      <td>-0.272190</td>\n",
       "      <td>-0.305759</td>\n",
       "      <td>1.785883</td>\n",
       "      <td>-0.210615</td>\n",
       "      <td>-0.587377</td>\n",
       "    </tr>\n",
       "  </tbody>\n",
       "</table>\n",
       "</div>"
      ],
      "text/plain": [
       "   bedrooms  bathrooms  sqft_living  sqft_lot    floors     grade  sqft_above  \\\n",
       "0 -0.398737  -1.447464    -0.979835 -0.228321 -0.915427 -0.558836   -0.734708   \n",
       "1 -0.398737   0.175607     0.533634 -0.189885  0.936506 -0.558836    0.460841   \n",
       "2 -1.473959  -1.447464    -1.426254 -0.123298 -0.915427 -1.409587   -1.229834   \n",
       "3  0.676485   1.149449    -0.130550 -0.244014 -0.915427 -0.558836   -0.891699   \n",
       "4 -0.398737  -0.149007    -0.435422 -0.169653 -0.915427  0.291916   -0.130895   \n",
       "\n",
       "   condition  sqft_lot15  waterfront  yr_built  sqft_living15      view  \\\n",
       "0  -0.629187   -0.260715   -0.087173 -0.544898      -0.943355 -0.305759   \n",
       "1  -0.629187   -0.187868   -0.087173 -0.681079      -0.432686 -0.305759   \n",
       "2  -0.629187   -0.172375   -0.087173 -1.293892       1.070140 -0.305759   \n",
       "3   2.444294   -0.284522   -0.087173 -0.204446      -0.914174 -0.305759   \n",
       "4  -0.629187   -0.192849   -0.087173  0.544548      -0.272190 -0.305759   \n",
       "\n",
       "   밸뷰(배드타운)   메디나(부촌)  타코마 및 교외  \n",
       "0 -0.559947 -0.210615  1.702483  \n",
       "1 -0.559947 -0.210615 -0.587377  \n",
       "2 -0.559947 -0.210615 -0.587377  \n",
       "3 -0.559947 -0.210615 -0.587377  \n",
       "4  1.785883 -0.210615 -0.587377  "
      ]
     },
     "execution_count": 7,
     "metadata": {},
     "output_type": "execute_result"
    }
   ],
   "source": [
    "scaler = StandardScaler()\n",
    "scaler.fit(x_dt)\n",
    "x_dts = pd.DataFrame(scaler.transform(x_dt), columns=x_dt.columns)\n",
    "x_dts.head()"
   ]
  },
  {
   "cell_type": "code",
   "execution_count": 8,
   "metadata": {},
   "outputs": [
    {
     "data": {
      "text/plain": [
       "AdaBoostRegressor(base_estimator=DecisionTreeRegressor(criterion='mse',\n",
       "                                                       max_depth=None,\n",
       "                                                       max_features=None,\n",
       "                                                       max_leaf_nodes=None,\n",
       "                                                       min_impurity_decrease=0.0,\n",
       "                                                       min_impurity_split=None,\n",
       "                                                       min_samples_leaf=1,\n",
       "                                                       min_samples_split=2,\n",
       "                                                       min_weight_fraction_leaf=0.0,\n",
       "                                                       presort=False,\n",
       "                                                       random_state=None,\n",
       "                                                       splitter='best'),\n",
       "                  learning_rate=1.4, loss='linear', n_estimators=30,\n",
       "                  random_state=None)"
      ]
     },
     "execution_count": 8,
     "metadata": {},
     "output_type": "execute_result"
    }
   ],
   "source": [
    "ada = AdaBoostRegressor(dt,learning_rate=1.4,n_estimators=30)\n",
    "ada.fit(x_dt,y_dt)"
   ]
  },
  {
   "cell_type": "markdown",
   "metadata": {
    "slideshow": {
     "slide_type": "slide"
    }
   },
   "source": [
    "## 3. Feature Importance"
   ]
  },
  {
   "cell_type": "markdown",
   "metadata": {
    "slideshow": {
     "slide_type": "fragment"
    }
   },
   "source": [
    "- tree기반 앙상블 모델 등에서 제공\n",
    "- 각 트리에 대해 해당 피쳐가 \"불순도를 줄이는 효과의 평균\" \n",
    "- ( mean decrease impurity 혹은 gini importance 라고도 불림 )\n",
    "- -Ada Boost, Gradient Boost, Random Forest 등"
   ]
  },
  {
   "cell_type": "code",
   "execution_count": 9,
   "metadata": {
    "slideshow": {
     "slide_type": "skip"
    }
   },
   "outputs": [
    {
     "data": {
      "text/plain": [
       "Index(['bedrooms', 'bathrooms', 'sqft_living', 'sqft_lot', 'floors', 'grade',\n",
       "       'sqft_above', 'condition', 'sqft_lot15', 'waterfront', 'yr_built',\n",
       "       'sqft_living15', 'view', '밸뷰(배드타운)', '메디나(부촌)', '타코마 및 교외'],\n",
       "      dtype='object')"
      ]
     },
     "execution_count": 9,
     "metadata": {},
     "output_type": "execute_result"
    }
   ],
   "source": [
    "x_dt.columns"
   ]
  },
  {
   "cell_type": "code",
   "execution_count": 10,
   "metadata": {
    "slideshow": {
     "slide_type": "slide"
    }
   },
   "outputs": [
    {
     "data": {
      "text/plain": [
       "array([0.00322628, 0.00998881, 0.5877866 , 0.01519022, 0.0022346 ,\n",
       "       0.16599282, 0.02547208, 0.00269609, 0.01689297, 0.02826715,\n",
       "       0.04177843, 0.01850836, 0.01683212, 0.01937841, 0.03281747,\n",
       "       0.01293759])"
      ]
     },
     "execution_count": 10,
     "metadata": {},
     "output_type": "execute_result"
    }
   ],
   "source": [
    "ada.feature_importances_"
   ]
  },
  {
   "cell_type": "code",
   "execution_count": 12,
   "metadata": {
    "slideshow": {
     "slide_type": "skip"
    }
   },
   "outputs": [
    {
     "data": {
      "text/html": [
       "<div>\n",
       "<style scoped>\n",
       "    .dataframe tbody tr th:only-of-type {\n",
       "        vertical-align: middle;\n",
       "    }\n",
       "\n",
       "    .dataframe tbody tr th {\n",
       "        vertical-align: top;\n",
       "    }\n",
       "\n",
       "    .dataframe thead th {\n",
       "        text-align: right;\n",
       "    }\n",
       "</style>\n",
       "<table border=\"1\" class=\"dataframe\">\n",
       "  <thead>\n",
       "    <tr style=\"text-align: right;\">\n",
       "      <th></th>\n",
       "      <th>Feature</th>\n",
       "      <th>Feature Importance</th>\n",
       "    </tr>\n",
       "  </thead>\n",
       "  <tbody>\n",
       "    <tr>\n",
       "      <th>2</th>\n",
       "      <td>sqft_living</td>\n",
       "      <td>0.587787</td>\n",
       "    </tr>\n",
       "    <tr>\n",
       "      <th>5</th>\n",
       "      <td>grade</td>\n",
       "      <td>0.165993</td>\n",
       "    </tr>\n",
       "    <tr>\n",
       "      <th>10</th>\n",
       "      <td>yr_built</td>\n",
       "      <td>0.041778</td>\n",
       "    </tr>\n",
       "    <tr>\n",
       "      <th>14</th>\n",
       "      <td>메디나(부촌)</td>\n",
       "      <td>0.032817</td>\n",
       "    </tr>\n",
       "    <tr>\n",
       "      <th>9</th>\n",
       "      <td>waterfront</td>\n",
       "      <td>0.028267</td>\n",
       "    </tr>\n",
       "    <tr>\n",
       "      <th>6</th>\n",
       "      <td>sqft_above</td>\n",
       "      <td>0.025472</td>\n",
       "    </tr>\n",
       "  </tbody>\n",
       "</table>\n",
       "</div>"
      ],
      "text/plain": [
       "        Feature  Feature Importance\n",
       "2   sqft_living            0.587787\n",
       "5         grade            0.165993\n",
       "10     yr_built            0.041778\n",
       "14      메디나(부촌)            0.032817\n",
       "9    waterfront            0.028267\n",
       "6    sqft_above            0.025472"
      ]
     },
     "execution_count": 12,
     "metadata": {},
     "output_type": "execute_result"
    }
   ],
   "source": [
    "res1= pd.DataFrame([[i,j] for i,j in zip(x_dt.columns,ada.feature_importances_)],\n",
    "                   columns=['Feature','Feature Importance']).sort_values(by='Feature Importance',ascending=False)\n",
    "\n",
    "res1.iloc[:6,:]"
   ]
  },
  {
   "cell_type": "code",
   "execution_count": 14,
   "metadata": {
    "slideshow": {
     "slide_type": "subslide"
    }
   },
   "outputs": [
    {
     "data": {
      "text/plain": [
       "<BarContainer object of 16 artists>"
      ]
     },
     "execution_count": 14,
     "metadata": {},
     "output_type": "execute_result"
    },
    {
     "data": {
      "image/png": "[encoded data removed]",
      "text/plain": [
       "<Figure size 1008x720 with 1 Axes>"
      ]
     },
     "metadata": {
      "needs_background": "light"
     },
     "output_type": "display_data"
    }
   ],
   "source": [
    "fi = res1.sort_values(by='Feature Importance')\n",
    "\n",
    "fig = plt.figure(figsize=(14,10))\n",
    "plt.barh(fi.iloc[:,0], fi.iloc[:,1])"
   ]
  },
  {
   "cell_type": "markdown",
   "metadata": {
    "slideshow": {
     "slide_type": "fragment"
    }
   },
   "source": [
    "### 제일 큰 단점 : 'inconsistency' \n",
    "- 모델 별로, 모델 내에서도 돌리는 때 마다도 다른 결과 나올 수도 있음"
   ]
  },
  {
   "cell_type": "markdown",
   "metadata": {
    "slideshow": {
     "slide_type": "fragment"
    }
   },
   "source": [
    "-수치가 높을수록 해당 모델링에서 중요한 영향을 미치는 피쳐라는 의미\n",
    "\n",
    "-랜덤포레스트/부스팅의 특징 상 계속해서 결과가 바뀐다\n",
    "\n",
    "-각 피쳐가 정확히 어떤 방식으로 결과에 영향을 미치는 지 알 수 없다"
   ]
  },
  {
   "cell_type": "code",
   "execution_count": null,
   "metadata": {
    "slideshow": {
     "slide_type": "skip"
    }
   },
   "outputs": [],
   "source": [
    "ada.fit(x_dt,y_dt)\n",
    "res2= pd.DataFrame([[i,j] for i,j in zip(x_dt.columns,ada.feature_importances_)],columns=['시행2 피쳐','피쳐중요도']).sort_values(by='피쳐중요도',ascending=False)\n",
    "ada.fit(x_dt,y_dt)\n",
    "res3= pd.DataFrame([[i,j] for i,j in zip(x_dt.columns,ada.feature_importances_)],columns=['시행3 피쳐','피쳐중요도']).sort_values(by='피쳐중요도',ascending=False)\n",
    "ada.fit(x_dt,y_dt)\n",
    "res4 = pd.DataFrame([[i,j] for i,j in zip(x_dt.columns,ada.feature_importances_)],columns=['시행4 피쳐','피쳐중요도']).sort_values(by='피쳐중요도',ascending=False)"
   ]
  },
  {
   "cell_type": "code",
   "execution_count": 23,
   "metadata": {
    "slideshow": {
     "slide_type": "skip"
    }
   },
   "outputs": [],
   "source": [
    "res2.index=range(1,17)\n",
    "res3.index=range(1,17)\n",
    "res4.index=range(1,17)"
   ]
  },
  {
   "cell_type": "code",
   "execution_count": 24,
   "metadata": {
    "slideshow": {
     "slide_type": "skip"
    }
   },
   "outputs": [],
   "source": [
    "feature_importance = pd.concat((res1,res2,res3,res4),axis=1)\n",
    "feature_importance.index.name='순위'"
   ]
  },
  {
   "cell_type": "code",
   "execution_count": 25,
   "metadata": {
    "slideshow": {
     "slide_type": "slide"
    }
   },
   "outputs": [
    {
     "data": {
      "text/html": [
       "<div>\n",
       "<style scoped>\n",
       "    .dataframe tbody tr th:only-of-type {\n",
       "        vertical-align: middle;\n",
       "    }\n",
       "\n",
       "    .dataframe tbody tr th {\n",
       "        vertical-align: top;\n",
       "    }\n",
       "\n",
       "    .dataframe thead th {\n",
       "        text-align: right;\n",
       "    }\n",
       "</style>\n",
       "<table border=\"1\" class=\"dataframe\">\n",
       "  <thead>\n",
       "    <tr style=\"text-align: right;\">\n",
       "      <th></th>\n",
       "      <th>시행1 피쳐</th>\n",
       "      <th>피쳐중요도</th>\n",
       "      <th>시행2 피쳐</th>\n",
       "      <th>피쳐중요도</th>\n",
       "      <th>시행3 피쳐</th>\n",
       "      <th>피쳐중요도</th>\n",
       "      <th>시행4 피쳐</th>\n",
       "      <th>피쳐중요도</th>\n",
       "    </tr>\n",
       "    <tr>\n",
       "      <th>순위</th>\n",
       "      <th></th>\n",
       "      <th></th>\n",
       "      <th></th>\n",
       "      <th></th>\n",
       "      <th></th>\n",
       "      <th></th>\n",
       "      <th></th>\n",
       "      <th></th>\n",
       "    </tr>\n",
       "  </thead>\n",
       "  <tbody>\n",
       "    <tr>\n",
       "      <th>1</th>\n",
       "      <td>sqft_living</td>\n",
       "      <td>0.582527</td>\n",
       "      <td>sqft_living</td>\n",
       "      <td>0.534364</td>\n",
       "      <td>sqft_living</td>\n",
       "      <td>0.645312</td>\n",
       "      <td>sqft_living</td>\n",
       "      <td>0.410995</td>\n",
       "    </tr>\n",
       "    <tr>\n",
       "      <th>2</th>\n",
       "      <td>grade</td>\n",
       "      <td>0.129735</td>\n",
       "      <td>grade</td>\n",
       "      <td>0.249403</td>\n",
       "      <td>grade</td>\n",
       "      <td>0.161635</td>\n",
       "      <td>grade</td>\n",
       "      <td>0.330324</td>\n",
       "    </tr>\n",
       "    <tr>\n",
       "      <th>3</th>\n",
       "      <td>sqft_above</td>\n",
       "      <td>0.071689</td>\n",
       "      <td>sqft_above</td>\n",
       "      <td>0.070008</td>\n",
       "      <td>yr_built</td>\n",
       "      <td>0.028291</td>\n",
       "      <td>sqft_above</td>\n",
       "      <td>0.043922</td>\n",
       "    </tr>\n",
       "    <tr>\n",
       "      <th>4</th>\n",
       "      <td>yr_built</td>\n",
       "      <td>0.036605</td>\n",
       "      <td>yr_built</td>\n",
       "      <td>0.027021</td>\n",
       "      <td>메디나(부촌)</td>\n",
       "      <td>0.026959</td>\n",
       "      <td>메디나(부촌)</td>\n",
       "      <td>0.036656</td>\n",
       "    </tr>\n",
       "    <tr>\n",
       "      <th>5</th>\n",
       "      <td>메디나(부촌)</td>\n",
       "      <td>0.035479</td>\n",
       "      <td>waterfront</td>\n",
       "      <td>0.024613</td>\n",
       "      <td>밸뷰(배드타운)</td>\n",
       "      <td>0.024094</td>\n",
       "      <td>sqft_lot15</td>\n",
       "      <td>0.028661</td>\n",
       "    </tr>\n",
       "    <tr>\n",
       "      <th>6</th>\n",
       "      <td>waterfront</td>\n",
       "      <td>0.032284</td>\n",
       "      <td>메디나(부촌)</td>\n",
       "      <td>0.017638</td>\n",
       "      <td>waterfront</td>\n",
       "      <td>0.018685</td>\n",
       "      <td>yr_built</td>\n",
       "      <td>0.028232</td>\n",
       "    </tr>\n",
       "    <tr>\n",
       "      <th>7</th>\n",
       "      <td>sqft_lot</td>\n",
       "      <td>0.025969</td>\n",
       "      <td>sqft_living15</td>\n",
       "      <td>0.014080</td>\n",
       "      <td>sqft_living15</td>\n",
       "      <td>0.016745</td>\n",
       "      <td>waterfront</td>\n",
       "      <td>0.024308</td>\n",
       "    </tr>\n",
       "    <tr>\n",
       "      <th>8</th>\n",
       "      <td>sqft_living15</td>\n",
       "      <td>0.024971</td>\n",
       "      <td>sqft_lot15</td>\n",
       "      <td>0.013668</td>\n",
       "      <td>sqft_above</td>\n",
       "      <td>0.015053</td>\n",
       "      <td>sqft_living15</td>\n",
       "      <td>0.023744</td>\n",
       "    </tr>\n",
       "    <tr>\n",
       "      <th>9</th>\n",
       "      <td>sqft_lot15</td>\n",
       "      <td>0.016112</td>\n",
       "      <td>view</td>\n",
       "      <td>0.012544</td>\n",
       "      <td>sqft_lot</td>\n",
       "      <td>0.014426</td>\n",
       "      <td>sqft_lot</td>\n",
       "      <td>0.021551</td>\n",
       "    </tr>\n",
       "    <tr>\n",
       "      <th>10</th>\n",
       "      <td>view</td>\n",
       "      <td>0.013001</td>\n",
       "      <td>sqft_lot</td>\n",
       "      <td>0.010284</td>\n",
       "      <td>view</td>\n",
       "      <td>0.011734</td>\n",
       "      <td>bathrooms</td>\n",
       "      <td>0.014713</td>\n",
       "    </tr>\n",
       "    <tr>\n",
       "      <th>11</th>\n",
       "      <td>타코마 및 교외</td>\n",
       "      <td>0.011289</td>\n",
       "      <td>타코마 및 교외</td>\n",
       "      <td>0.008339</td>\n",
       "      <td>sqft_lot15</td>\n",
       "      <td>0.011223</td>\n",
       "      <td>view</td>\n",
       "      <td>0.012615</td>\n",
       "    </tr>\n",
       "    <tr>\n",
       "      <th>12</th>\n",
       "      <td>bathrooms</td>\n",
       "      <td>0.009724</td>\n",
       "      <td>bathrooms</td>\n",
       "      <td>0.006417</td>\n",
       "      <td>bathrooms</td>\n",
       "      <td>0.011048</td>\n",
       "      <td>타코마 및 교외</td>\n",
       "      <td>0.009789</td>\n",
       "    </tr>\n",
       "    <tr>\n",
       "      <th>13</th>\n",
       "      <td>condition</td>\n",
       "      <td>0.004340</td>\n",
       "      <td>밸뷰(배드타운)</td>\n",
       "      <td>0.005542</td>\n",
       "      <td>타코마 및 교외</td>\n",
       "      <td>0.009844</td>\n",
       "      <td>condition</td>\n",
       "      <td>0.006633</td>\n",
       "    </tr>\n",
       "    <tr>\n",
       "      <th>14</th>\n",
       "      <td>bedrooms</td>\n",
       "      <td>0.003018</td>\n",
       "      <td>floors</td>\n",
       "      <td>0.002230</td>\n",
       "      <td>condition</td>\n",
       "      <td>0.001831</td>\n",
       "      <td>밸뷰(배드타운)</td>\n",
       "      <td>0.004083</td>\n",
       "    </tr>\n",
       "    <tr>\n",
       "      <th>15</th>\n",
       "      <td>floors</td>\n",
       "      <td>0.001966</td>\n",
       "      <td>bedrooms</td>\n",
       "      <td>0.002175</td>\n",
       "      <td>floors</td>\n",
       "      <td>0.001576</td>\n",
       "      <td>bedrooms</td>\n",
       "      <td>0.002552</td>\n",
       "    </tr>\n",
       "    <tr>\n",
       "      <th>16</th>\n",
       "      <td>밸뷰(배드타운)</td>\n",
       "      <td>0.001289</td>\n",
       "      <td>condition</td>\n",
       "      <td>0.001673</td>\n",
       "      <td>bedrooms</td>\n",
       "      <td>0.001544</td>\n",
       "      <td>floors</td>\n",
       "      <td>0.001222</td>\n",
       "    </tr>\n",
       "  </tbody>\n",
       "</table>\n",
       "</div>"
      ],
      "text/plain": [
       "           시행1 피쳐     피쳐중요도         시행2 피쳐     피쳐중요도         시행3 피쳐     피쳐중요도  \\\n",
       "순위                                                                              \n",
       "1     sqft_living  0.582527    sqft_living  0.534364    sqft_living  0.645312   \n",
       "2           grade  0.129735          grade  0.249403          grade  0.161635   \n",
       "3      sqft_above  0.071689     sqft_above  0.070008       yr_built  0.028291   \n",
       "4        yr_built  0.036605       yr_built  0.027021        메디나(부촌)  0.026959   \n",
       "5         메디나(부촌)  0.035479     waterfront  0.024613       밸뷰(배드타운)  0.024094   \n",
       "6      waterfront  0.032284        메디나(부촌)  0.017638     waterfront  0.018685   \n",
       "7        sqft_lot  0.025969  sqft_living15  0.014080  sqft_living15  0.016745   \n",
       "8   sqft_living15  0.024971     sqft_lot15  0.013668     sqft_above  0.015053   \n",
       "9      sqft_lot15  0.016112           view  0.012544       sqft_lot  0.014426   \n",
       "10           view  0.013001       sqft_lot  0.010284           view  0.011734   \n",
       "11       타코마 및 교외  0.011289       타코마 및 교외  0.008339     sqft_lot15  0.011223   \n",
       "12      bathrooms  0.009724      bathrooms  0.006417      bathrooms  0.011048   \n",
       "13      condition  0.004340       밸뷰(배드타운)  0.005542       타코마 및 교외  0.009844   \n",
       "14       bedrooms  0.003018         floors  0.002230      condition  0.001831   \n",
       "15         floors  0.001966       bedrooms  0.002175         floors  0.001576   \n",
       "16       밸뷰(배드타운)  0.001289      condition  0.001673       bedrooms  0.001544   \n",
       "\n",
       "           시행4 피쳐     피쳐중요도  \n",
       "순위                           \n",
       "1     sqft_living  0.410995  \n",
       "2           grade  0.330324  \n",
       "3      sqft_above  0.043922  \n",
       "4         메디나(부촌)  0.036656  \n",
       "5      sqft_lot15  0.028661  \n",
       "6        yr_built  0.028232  \n",
       "7      waterfront  0.024308  \n",
       "8   sqft_living15  0.023744  \n",
       "9        sqft_lot  0.021551  \n",
       "10      bathrooms  0.014713  \n",
       "11           view  0.012615  \n",
       "12       타코마 및 교외  0.009789  \n",
       "13      condition  0.006633  \n",
       "14       밸뷰(배드타운)  0.004083  \n",
       "15       bedrooms  0.002552  \n",
       "16         floors  0.001222  "
      ]
     },
     "execution_count": 25,
     "metadata": {},
     "output_type": "execute_result"
    }
   ],
   "source": [
    "feature_importance "
   ]
  }
 ],
 "metadata": {
  "kernelspec": {
   "display_name": "Python 3",
   "language": "python",
   "name": "python3"
  },
  "language_info": {
   "codemirror_mode": {
    "name": "ipython",
    "version": 3
   },
   "file_extension": ".py",
   "mimetype": "text/x-python",
   "name": "python",
   "nbconvert_exporter": "python",
   "pygments_lexer": "ipython3",
   "version": "3.6.9"
  }
 },
 "nbformat": 4,
 "nbformat_minor": 2
}
