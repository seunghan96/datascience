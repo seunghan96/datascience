{
 "cells": [
  {
   "cell_type": "markdown",
   "metadata": {},
   "source": [
    "# FM모델을 활용한 Recommend System\n",
    "\n",
    "\n",
    "### *RecSys 2015 Challenge Dataset 데이터: 대형 E-Commerce 상에서 사용자들이 6개월 간 '클릭' 데이터 (클릭이 구매용 클릭일 수도, 그저 의미없는 클릭일 수 있음)\n",
    "\n",
    "\n",
    "### *목적: 사용자가 물건을 구매할 것인지의 여부와, 구매한다면  어떤 품목을, 얼마나 구매할 것인지 예측하여 추천하기\n"
   ]
  },
  {
   "cell_type": "code",
   "execution_count": 3,
   "metadata": {},
   "outputs": [],
   "source": [
    "import tensorflow as tf\n",
    "from tffm import TFFMRegressor\n",
    "import pandas as pd\n",
    "import numpy as np\n",
    "from collections import Counter\n",
    "from sklearn.metrics import mean_squared_error\n",
    "from sklearn.model_selection import train_test_split"
   ]
  },
  {
   "cell_type": "markdown",
   "metadata": {},
   "source": [
    "# 데이터 가져오기"
   ]
  },
  {
   "cell_type": "code",
   "execution_count": 4,
   "metadata": {},
   "outputs": [
    {
     "ename": "FileNotFoundError",
     "evalue": "[Errno 2] No such file or directory: 'yoochoose-buys.dat'",
     "output_type": "error",
     "traceback": [
      "\u001b[1;31m---------------------------------------------------------------------------\u001b[0m",
      "\u001b[1;31mFileNotFoundError\u001b[0m                         Traceback (most recent call last)",
      "\u001b[1;32m<ipython-input-4-fda3f0b72fbd>\u001b[0m in \u001b[0;36m<module>\u001b[1;34m()\u001b[0m\n\u001b[1;32m----> 1\u001b[1;33m \u001b[0mbuys\u001b[0m \u001b[1;33m=\u001b[0m \u001b[0mopen\u001b[0m\u001b[1;33m(\u001b[0m\u001b[1;34m'yoochoose-buys.dat'\u001b[0m\u001b[1;33m,\u001b[0m \u001b[1;34m'r'\u001b[0m\u001b[1;33m)\u001b[0m\u001b[1;33m\u001b[0m\u001b[0m\n\u001b[0m\u001b[0;32m      2\u001b[0m \u001b[0mclicks\u001b[0m \u001b[1;33m=\u001b[0m \u001b[0mopen\u001b[0m\u001b[1;33m(\u001b[0m\u001b[1;34m'yoochoose-clicks.dat'\u001b[0m\u001b[1;33m,\u001b[0m \u001b[1;34m'r'\u001b[0m\u001b[1;33m)\u001b[0m\u001b[1;33m\u001b[0m\u001b[0m\n",
      "\u001b[1;31mFileNotFoundError\u001b[0m: [Errno 2] No such file or directory: 'yoochoose-buys.dat'"
     ]
    }
   ],
   "source": [
    "buys = open('yoochoose-buys.dat', 'r')\n",
    "clicks = open('yoochoose-clicks.dat', 'r')"
   ]
  },
  {
   "cell_type": "code",
   "execution_count": 40,
   "metadata": {},
   "outputs": [],
   "source": [
    "initial_buys_df = pd.read_csv(buys, names=['Session ID', 'Timestamp', 'Item ID', 'Category', 'Quantity'],\n",
    "                              dtype={'Session ID': 'float32', 'Timestamp': 'str', 'Item ID': 'float32', 'Category': 'str'})\n",
    "\n",
    "initial_buys_df.set_index('Session ID', inplace=True)\n",
    "\n",
    "initial_clicks_df = pd.read_csv(clicks, names=['Session ID', 'Timestamp', 'Item ID', 'Category'],\n",
    "                                dtype={'Category': 'str'})\n",
    "\n",
    "initial_clicks_df.set_index('Session ID', inplace=True)"
   ]
  },
  {
   "cell_type": "code",
   "execution_count": 41,
   "metadata": {},
   "outputs": [
    {
     "data": {
      "text/html": [
       "<div>\n",
       "<style scoped>\n",
       "    .dataframe tbody tr th:only-of-type {\n",
       "        vertical-align: middle;\n",
       "    }\n",
       "\n",
       "    .dataframe tbody tr th {\n",
       "        vertical-align: top;\n",
       "    }\n",
       "\n",
       "    .dataframe thead th {\n",
       "        text-align: right;\n",
       "    }\n",
       "</style>\n",
       "<table border=\"1\" class=\"dataframe\">\n",
       "  <thead>\n",
       "    <tr style=\"text-align: right;\">\n",
       "      <th></th>\n",
       "      <th>Timestamp</th>\n",
       "      <th>Item ID</th>\n",
       "      <th>Category</th>\n",
       "      <th>Quantity</th>\n",
       "    </tr>\n",
       "    <tr>\n",
       "      <th>Session ID</th>\n",
       "      <th></th>\n",
       "      <th></th>\n",
       "      <th></th>\n",
       "      <th></th>\n",
       "    </tr>\n",
       "  </thead>\n",
       "  <tbody>\n",
       "    <tr>\n",
       "      <th>11368701.0</th>\n",
       "      <td>2014-09-26T07:52:51.357Z</td>\n",
       "      <td>214849808.0</td>\n",
       "      <td>554</td>\n",
       "      <td>2</td>\n",
       "    </tr>\n",
       "    <tr>\n",
       "      <th>11368691.0</th>\n",
       "      <td>2014-09-25T09:37:44.206Z</td>\n",
       "      <td>214700000.0</td>\n",
       "      <td>6806</td>\n",
       "      <td>5</td>\n",
       "    </tr>\n",
       "    <tr>\n",
       "      <th>11523941.0</th>\n",
       "      <td>2014-09-25T06:14:47.965Z</td>\n",
       "      <td>214578016.0</td>\n",
       "      <td>14556</td>\n",
       "      <td>1</td>\n",
       "    </tr>\n",
       "    <tr>\n",
       "      <th>11423202.0</th>\n",
       "      <td>2014-09-26T18:49:34.024Z</td>\n",
       "      <td>214849168.0</td>\n",
       "      <td>1046</td>\n",
       "      <td>1</td>\n",
       "    </tr>\n",
       "    <tr>\n",
       "      <th>11423202.0</th>\n",
       "      <td>2014-09-26T18:49:34.026Z</td>\n",
       "      <td>214560496.0</td>\n",
       "      <td>5549</td>\n",
       "      <td>1</td>\n",
       "    </tr>\n",
       "  </tbody>\n",
       "</table>\n",
       "</div>"
      ],
      "text/plain": [
       "                           Timestamp      Item ID Category  Quantity\n",
       "Session ID                                                          \n",
       "11368701.0  2014-09-26T07:52:51.357Z  214849808.0      554         2\n",
       "11368691.0  2014-09-25T09:37:44.206Z  214700000.0     6806         5\n",
       "11523941.0  2014-09-25T06:14:47.965Z  214578016.0    14556         1\n",
       "11423202.0  2014-09-26T18:49:34.024Z  214849168.0     1046         1\n",
       "11423202.0  2014-09-26T18:49:34.026Z  214560496.0     5549         1"
      ]
     },
     "execution_count": 41,
     "metadata": {},
     "output_type": "execute_result"
    }
   ],
   "source": [
    "initial_buys_df.tail()"
   ]
  },
  {
   "cell_type": "code",
   "execution_count": 42,
   "metadata": {},
   "outputs": [
    {
     "data": {
      "text/html": [
       "<div>\n",
       "<style scoped>\n",
       "    .dataframe tbody tr th:only-of-type {\n",
       "        vertical-align: middle;\n",
       "    }\n",
       "\n",
       "    .dataframe tbody tr th {\n",
       "        vertical-align: top;\n",
       "    }\n",
       "\n",
       "    .dataframe thead th {\n",
       "        text-align: right;\n",
       "    }\n",
       "</style>\n",
       "<table border=\"1\" class=\"dataframe\">\n",
       "  <thead>\n",
       "    <tr style=\"text-align: right;\">\n",
       "      <th></th>\n",
       "      <th>Timestamp</th>\n",
       "      <th>Item ID</th>\n",
       "      <th>Category</th>\n",
       "    </tr>\n",
       "    <tr>\n",
       "      <th>Session ID</th>\n",
       "      <th></th>\n",
       "      <th></th>\n",
       "      <th></th>\n",
       "    </tr>\n",
       "  </thead>\n",
       "  <tbody>\n",
       "    <tr>\n",
       "      <th>1</th>\n",
       "      <td>2014-04-07T10:51:09.277Z</td>\n",
       "      <td>214536502</td>\n",
       "      <td>0</td>\n",
       "    </tr>\n",
       "    <tr>\n",
       "      <th>1</th>\n",
       "      <td>2014-04-07T10:54:09.868Z</td>\n",
       "      <td>214536500</td>\n",
       "      <td>0</td>\n",
       "    </tr>\n",
       "    <tr>\n",
       "      <th>1</th>\n",
       "      <td>2014-04-07T10:54:46.998Z</td>\n",
       "      <td>214536506</td>\n",
       "      <td>0</td>\n",
       "    </tr>\n",
       "    <tr>\n",
       "      <th>1</th>\n",
       "      <td>2014-04-07T10:57:00.306Z</td>\n",
       "      <td>214577561</td>\n",
       "      <td>0</td>\n",
       "    </tr>\n",
       "    <tr>\n",
       "      <th>2</th>\n",
       "      <td>2014-04-07T13:56:37.614Z</td>\n",
       "      <td>214662742</td>\n",
       "      <td>0</td>\n",
       "    </tr>\n",
       "  </tbody>\n",
       "</table>\n",
       "</div>"
      ],
      "text/plain": [
       "                           Timestamp    Item ID Category\n",
       "Session ID                                              \n",
       "1           2014-04-07T10:51:09.277Z  214536502        0\n",
       "1           2014-04-07T10:54:09.868Z  214536500        0\n",
       "1           2014-04-07T10:54:46.998Z  214536506        0\n",
       "1           2014-04-07T10:57:00.306Z  214577561        0\n",
       "2           2014-04-07T13:56:37.614Z  214662742        0"
      ]
     },
     "execution_count": 42,
     "metadata": {},
     "output_type": "execute_result"
    }
   ],
   "source": [
    "initial_clicks_df.head()"
   ]
  },
  {
   "cell_type": "code",
   "execution_count": 43,
   "metadata": {},
   "outputs": [
    {
     "data": {
      "text/plain": [
       "(33003944, 1150753)"
      ]
     },
     "execution_count": 43,
     "metadata": {},
     "output_type": "execute_result"
    }
   ],
   "source": [
    "len(initial_clicks_df), len(initial_buys_df)"
   ]
  },
  {
   "cell_type": "markdown",
   "metadata": {},
   "source": [
    "# 데이터 전처리\n",
    "### 1) 필요없는 열 제거\n",
    "### 2) 일부 데이터만 추출 (용량, 속도관계로)\n",
    "### 3) 필요한 열 추가\n",
    "### 4) One-hot encoding (벡터형태로 바꾸기 위해)\n",
    "### 5) 데이터 통합"
   ]
  },
  {
   "cell_type": "markdown",
   "metadata": {},
   "source": [
    " "
   ]
  },
  {
   "cell_type": "code",
   "execution_count": 44,
   "metadata": {},
   "outputs": [],
   "source": [
    "# 여기선 Timestamp를 사용하지 않을 것이므로 column 삭제\n",
    "# 즉, 여기선 사용자 ID와 구매/클릭 이력만 사용할 것\n",
    "\n",
    "initial_buys_df = initial_buys_df.drop('Timestamp', 1)\n",
    "initial_clicks_df = initial_clicks_df.drop('Timestamp', 1)\n"
   ]
  },
  {
   "cell_type": "code",
   "execution_count": 45,
   "metadata": {},
   "outputs": [],
   "source": [
    "# 데이터가 굉장히 큼! 여기선 간단하게 보여주기 위해 구매/클릭 수 상위 10,000명의 데이터만 가져옴\n",
    "\n",
    "x = Counter(initial_buys_df.index).most_common(10000) # most_common(n): 상위 n개 데이터만 가져옴\n",
    "top_k = dict(x).keys()\n",
    "initial_buys_df = initial_buys_df[initial_buys_df.index.isin(top_k)]\n",
    "initial_clicks_df = initial_clicks_df[initial_clicks_df.index.isin(top_k)]"
   ]
  },
  {
   "cell_type": "code",
   "execution_count": 46,
   "metadata": {},
   "outputs": [],
   "source": [
    "# index를 나타내는 열 추가. index(Session, 즉, 클릭)도 벡터에 포함시키기 위해\n",
    "\n",
    "initial_buys_df['_Session ID'] = initial_buys_df.index"
   ]
  },
  {
   "cell_type": "code",
   "execution_count": 47,
   "metadata": {},
   "outputs": [
    {
     "data": {
      "text/html": [
       "<div>\n",
       "<style scoped>\n",
       "    .dataframe tbody tr th:only-of-type {\n",
       "        vertical-align: middle;\n",
       "    }\n",
       "\n",
       "    .dataframe tbody tr th {\n",
       "        vertical-align: top;\n",
       "    }\n",
       "\n",
       "    .dataframe thead th {\n",
       "        text-align: right;\n",
       "    }\n",
       "</style>\n",
       "<table border=\"1\" class=\"dataframe\">\n",
       "  <thead>\n",
       "    <tr style=\"text-align: right;\">\n",
       "      <th></th>\n",
       "      <th>Item ID</th>\n",
       "      <th>Category</th>\n",
       "      <th>Quantity</th>\n",
       "      <th>_Session ID</th>\n",
       "    </tr>\n",
       "    <tr>\n",
       "      <th>Session ID</th>\n",
       "      <th></th>\n",
       "      <th></th>\n",
       "      <th></th>\n",
       "      <th></th>\n",
       "    </tr>\n",
       "  </thead>\n",
       "  <tbody>\n",
       "    <tr>\n",
       "      <th>420471.0</th>\n",
       "      <td>214717888.0</td>\n",
       "      <td>2092</td>\n",
       "      <td>1</td>\n",
       "      <td>420471.0</td>\n",
       "    </tr>\n",
       "    <tr>\n",
       "      <th>420471.0</th>\n",
       "      <td>214821024.0</td>\n",
       "      <td>1570</td>\n",
       "      <td>1</td>\n",
       "      <td>420471.0</td>\n",
       "    </tr>\n",
       "    <tr>\n",
       "      <th>420471.0</th>\n",
       "      <td>214829280.0</td>\n",
       "      <td>837</td>\n",
       "      <td>1</td>\n",
       "      <td>420471.0</td>\n",
       "    </tr>\n",
       "    <tr>\n",
       "      <th>420471.0</th>\n",
       "      <td>214819552.0</td>\n",
       "      <td>418</td>\n",
       "      <td>1</td>\n",
       "      <td>420471.0</td>\n",
       "    </tr>\n",
       "    <tr>\n",
       "      <th>420471.0</th>\n",
       "      <td>214746384.0</td>\n",
       "      <td>784</td>\n",
       "      <td>1</td>\n",
       "      <td>420471.0</td>\n",
       "    </tr>\n",
       "  </tbody>\n",
       "</table>\n",
       "</div>"
      ],
      "text/plain": [
       "                Item ID Category  Quantity  _Session ID\n",
       "Session ID                                             \n",
       "420471.0    214717888.0     2092         1     420471.0\n",
       "420471.0    214821024.0     1570         1     420471.0\n",
       "420471.0    214829280.0      837         1     420471.0\n",
       "420471.0    214819552.0      418         1     420471.0\n",
       "420471.0    214746384.0      784         1     420471.0"
      ]
     },
     "execution_count": 47,
     "metadata": {},
     "output_type": "execute_result"
    }
   ],
   "source": [
    "initial_buys_df.head()"
   ]
  },
  {
   "cell_type": "code",
   "execution_count": 48,
   "metadata": {},
   "outputs": [],
   "source": [
    "# One-hot encoding(벡터화)\n",
    "\n",
    "transformed_buys = pd.get_dummies(initial_buys_df)\n",
    "transformed_clicks = pd.get_dummies(initial_clicks_df)"
   ]
  },
  {
   "cell_type": "code",
   "execution_count": 49,
   "metadata": {},
   "outputs": [],
   "source": [
    "# 아이템과 카테고리에 대한 과거 데이터를 추리기\n",
    "# Aggregate historical data for Items and Categories\n",
    "\n",
    "filtered_buys = transformed_buys.filter(regex=\"Item.*|Category.*\")\n",
    "filtered_clicks = transformed_clicks.filter(regex=\"Item.*|Category.*\")\n",
    "\n",
    "historical_buy_data = filtered_buys.groupby(filtered_buys.index).sum()\n",
    "historical_buy_data = historical_buy_data.rename(columns=lambda column_name: 'buy history:' + column_name)\n",
    "\n",
    "historical_click_data = filtered_clicks.groupby(filtered_clicks.index).sum()\n",
    "historical_click_data = historical_click_data.rename(columns=lambda column_name: 'click history:' + column_name)\n"
   ]
  },
  {
   "cell_type": "code",
   "execution_count": 63,
   "metadata": {},
   "outputs": [],
   "source": [
    "# 각 사용자id를 기준으로 과거 데이터와 원본 데이터 병합\n",
    "# Merge historical data of every user_id\n",
    "\n",
    "merged1 = pd.merge(transformed_buys, historical_buy_data, left_index=True, right_index=True)\n",
    "merged2 = pd.merge(merged1, historical_click_data, left_index=True, right_index=True)"
   ]
  },
  {
   "cell_type": "markdown",
   "metadata": {},
   "source": [
    "# TFFM라이브러리를 사용하여 학습모델 구성"
   ]
  },
  {
   "cell_type": "code",
   "execution_count": 64,
   "metadata": {},
   "outputs": [
    {
     "name": "stderr",
     "output_type": "stream",
     "text": [
      "C:\\ProgramData\\Anaconda3\\lib\\site-packages\\ipykernel_launcher.py:15: FutureWarning: Method .as_matrix will be removed in a future version. Use .values instead.\n",
      "  from ipykernel import kernelapp as app\n"
     ]
    }
   ],
   "source": [
    "model = TFFMRegressor(\n",
    "    order=2, \n",
    "    rank=7,\n",
    "    optimizer=tf.train.AdamOptimizer(learning_rate=0.1), #다른 알고리즘을 써도 됌 \n",
    "    n_epochs=100,\n",
    "    batch_size=-1,\n",
    "    init_std=0.001,\n",
    "    input_type='dense'\n",
    ")\n",
    "\n",
    "\n",
    "merged2.drop(['Item ID', '_Session ID', 'click history:Item ID', 'buy history:Item ID'], 1, inplace=True)\n",
    "X = np.array(merged2)\n",
    "X = np.nan_to_num(X)\n",
    "y = np.array(merged2['Quantity'].as_matrix())\n"
   ]
  },
  {
   "cell_type": "markdown",
   "metadata": {},
   "source": [
    "# 학습 데이터, 테스트 데이터 나누기"
   ]
  },
  {
   "cell_type": "code",
   "execution_count": 65,
   "metadata": {},
   "outputs": [],
   "source": [
    "X_tr, X_te, y_tr, y_te = train_test_split(X, y, test_size=0.2)"
   ]
  },
  {
   "cell_type": "code",
   "execution_count": 66,
   "metadata": {},
   "outputs": [],
   "source": [
    "# What happens if we only have access to categories and no historical click/purchase data?\n",
    "# Let's delete historical click and purchasing data for the cold_start test set\n",
    "\n",
    "for column in X_te_cs.columns:\n",
    "    if ('buy' in column or 'click' in column) and ('Category' not in column):\n",
    "        X_te_cs[column] = 0"
   ]
  },
  {
   "cell_type": "code",
   "execution_count": 67,
   "metadata": {},
   "outputs": [
    {
     "name": "stderr",
     "output_type": "stream",
     "text": [
      "100%|█████████████████████████████████████████████████████████████████████████████| 100/100 [01:31<00:00,  1.15epoch/s]\n"
     ]
    },
    {
     "name": "stdout",
     "output_type": "stream",
     "text": [
      "MSE: 0.7006379736490871\n"
     ]
    }
   ],
   "source": [
    "# Compute the mean squared error for both test sets\n",
    "\n",
    "model.fit(X_tr, y_tr, show_progress=True)\n",
    "predictions = model.predict(X_te)\n",
    "cold_start_predictions = model.predict(X_te_cs)\n",
    "print('MSE: {}'.format(mean_squared_error(y_te, predictions)))"
   ]
  }
 ],
 "metadata": {
  "kernelspec": {
   "display_name": "Python 3",
   "language": "python",
   "name": "python3"
  },
  "language_info": {
   "codemirror_mode": {
    "name": "ipython",
    "version": 3
   },
   "file_extension": ".py",
   "mimetype": "text/x-python",
   "name": "python",
   "nbconvert_exporter": "python",
   "pygments_lexer": "ipython3",
   "version": "3.6.9"
  }
 },
 "nbformat": 4,
 "nbformat_minor": 2
}
