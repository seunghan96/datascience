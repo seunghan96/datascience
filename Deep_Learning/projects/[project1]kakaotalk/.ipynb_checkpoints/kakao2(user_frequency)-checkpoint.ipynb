{
 "cells": [
  {
   "cell_type": "markdown",
   "metadata": {},
   "source": [
    "# kakao"
   ]
  },
  {
   "cell_type": "code",
   "execution_count": 1,
   "metadata": {},
   "outputs": [],
   "source": [
    "import pickle\n",
    "from pprint import pprint\n",
    "import pandas as pd"
   ]
  },
  {
   "cell_type": "code",
   "execution_count": 41,
   "metadata": {},
   "outputs": [],
   "source": [
    "with open('cleaned_data.pk','rb') as f:\n",
    "    data = pickle.load(f)"
   ]
  },
  {
   "cell_type": "code",
   "execution_count": 42,
   "metadata": {},
   "outputs": [],
   "source": [
    "data.reset_index(inplace=True, drop=True)"
   ]
  },
  {
   "cell_type": "code",
   "execution_count": 43,
   "metadata": {},
   "outputs": [],
   "source": [
    "data = data[(data['user']=='[이승한]')|(data['user']=='[서녕이♥]')]"
   ]
  },
  {
   "cell_type": "code",
   "execution_count": 44,
   "metadata": {},
   "outputs": [],
   "source": [
    "data['user'] = data['user'].replace('[서녕이♥]','A')\n",
    "data['user'] = data['user'].replace('[이승한]','B')"
   ]
  },
  {
   "cell_type": "code",
   "execution_count": 46,
   "metadata": {},
   "outputs": [],
   "source": [
    "authors = data.groupby('user')"
   ]
  },
  {
   "cell_type": "code",
   "execution_count": 47,
   "metadata": {},
   "outputs": [],
   "source": [
    "authors2doc = {}\n",
    "\n",
    "for user, index in authors.groups.items():\n",
    "    authors2doc[user] = list(index)"
   ]
  },
  {
   "cell_type": "code",
   "execution_count": 52,
   "metadata": {},
   "outputs": [],
   "source": [
    "A_msg = list(data[data['user']=='A']['message'])\n",
    "B_msg = list(data[data['user']=='B']['message'])"
   ]
  },
  {
   "cell_type": "code",
   "execution_count": 55,
   "metadata": {},
   "outputs": [],
   "source": [
    "import nltk\n",
    "\n",
    "A_tokens = [token for doc in A_msg for token in doc.split()]\n",
    "B_tokens = [token for doc in B_msg for token in doc.split()]"
   ]
  },
  {
   "cell_type": "code",
   "execution_count": 54,
   "metadata": {},
   "outputs": [
    {
     "name": "stdout",
     "output_type": "stream",
     "text": [
      "11973\n",
      "[('웅웅', 2165),\n",
      " ('우웅', 955),\n",
      " ('웅', 489),\n",
      " ('앟', 424),\n",
      " ('힣', 390),\n",
      " ('헿', 351),\n",
      " ('아핳', 251),\n",
      " ('아항', 230),\n",
      " ('아', 188),\n",
      " ('응응', 184)]\n"
     ]
    }
   ],
   "source": [
    "text = nltk.Text(A_tokens, name='kakao')\n",
    "print(len(set(text.tokens)))\n",
    "pprint(text.vocab().most_common(10))"
   ]
  },
  {
   "cell_type": "code",
   "execution_count": 57,
   "metadata": {},
   "outputs": [
    {
     "name": "stdout",
     "output_type": "stream",
     "text": [
      "36970\n",
      "[('응응', 841),\n",
      " ('오후', 822),\n",
      " ('응', 507),\n",
      " ('서녕이♥', 416),\n",
      " ('이승한', 413),\n",
      " ('아하', 358),\n",
      " ('아', 314),\n",
      " ('근데', 285),\n",
      " ('흑', 273),\n",
      " ('나', 227)]\n"
     ]
    }
   ],
   "source": [
    "B_text = nltk.Text(B_tokens, name='kakao')\n",
    "print(len(set(B_text.tokens)))\n",
    "pprint(B_text.vocab().most_common(10))"
   ]
  },
  {
   "cell_type": "code",
   "execution_count": null,
   "metadata": {},
   "outputs": [],
   "source": []
  }
 ],
 "metadata": {
  "kernelspec": {
   "display_name": "Python 3",
   "language": "python",
   "name": "python3"
  },
  "language_info": {
   "codemirror_mode": {
    "name": "ipython",
    "version": 3
   },
   "file_extension": ".py",
   "mimetype": "text/x-python",
   "name": "python",
   "nbconvert_exporter": "python",
   "pygments_lexer": "ipython3",
   "version": "3.6.9"
  }
 },
 "nbformat": 4,
 "nbformat_minor": 2
}
