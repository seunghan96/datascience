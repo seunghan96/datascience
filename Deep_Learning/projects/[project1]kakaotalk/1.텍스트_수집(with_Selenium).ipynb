{
 "cells": [
  {
   "cell_type": "markdown",
   "metadata": {},
   "source": [
    "# 1. 텍스트 수집"
   ]
  },
  {
   "cell_type": "markdown",
   "metadata": {},
   "source": [
    "- 영문 & 한글 데이터"
   ]
  },
  {
   "cell_type": "markdown",
   "metadata": {},
   "source": [
    "### (참고) text data download"
   ]
  },
  {
   "cell_type": "markdown",
   "metadata": {},
   "source": [
    "#### 영어)\n",
    "- https://www.kaggle.com/datsets\n",
    "- https://archive.ics.uci.edu/ml/index.php\n",
    "- http://ana.cachopo.org/datasets-for-single-label-text-categorization\n",
    "- https://course.fast.ai/datasets\n",
    "\n",
    "#### 한글)\n",
    "- https://korquad.github.io/\n",
    "- https://ithub.korean.go.kr/user/guide/corpus/guide1.do\n",
    "- https://konlpy-ko.readthedocs.io/ko/v0.5.1/data;\n",
    "- http://aiopen.etri.re.kr/service_dataset.php"
   ]
  },
  {
   "cell_type": "markdown",
   "metadata": {},
   "source": [
    "## [1] URL 가져오기"
   ]
  },
  {
   "cell_type": "code",
   "execution_count": 1,
   "metadata": {},
   "outputs": [],
   "source": [
    "import os\n",
    "import sys\n",
    "import urllib.request\n",
    "import requests"
   ]
  },
  {
   "cell_type": "code",
   "execution_count": 2,
   "metadata": {},
   "outputs": [],
   "source": [
    "client_id = \"D4FywX610oOr4AkcwJBk\"\n",
    "client_secret = \"Pdhm4LS7nP\""
   ]
  },
  {
   "cell_type": "markdown",
   "metadata": {},
   "source": [
    "- '방탄소년단'이 들어간 page 5장"
   ]
  },
  {
   "cell_type": "code",
   "execution_count": 8,
   "metadata": {},
   "outputs": [],
   "source": [
    "encText = urllib.parse.quote(\"방탄소년단\")\n",
    "news_data = []\n",
    "page_cnt = 5\n",
    "\n",
    "\n",
    "for idx in range(page_cnt):\n",
    "    url = \"https://openapi.naver.com/v1/search/news?query=\" + encText + '&start=' + str(idx*10+1)\n",
    "    request = urllib.request.Request(url)\n",
    "    request.add_header(\"X-Naver-Client-Id\",client_id)\n",
    "    request.add_header(\"X-Naver-Client-Secret\",client_secret)\n",
    "    response = urllib.request.urlopen(request)\n",
    "    rescode = response.getcode()\n",
    "\n",
    "    if rescode==200:\n",
    "        result = requests.get(response.geturl(),\n",
    "                             headers={'X-Naver-Client-Id':client_id,\n",
    "                                     'X-Naver-Client-Secret':client_secret})\n",
    "        news_data.append(result.json())\n",
    "    else:\n",
    "        print(\"Error Code:\" + rescode)"
   ]
  },
  {
   "cell_type": "code",
   "execution_count": 9,
   "metadata": {},
   "outputs": [],
   "source": [
    "naver_news_link = []\n",
    "\n",
    "for page in news_data :\n",
    "    \n",
    "    page_news_link = []    \n",
    "\n",
    "    for item in page['items']:\n",
    "        link = item['link']\n",
    "        if 'naver' in link :\n",
    "            page_news_link.append(link)\n",
    "            \n",
    "    naver_news_link.append(page_news_link)"
   ]
  },
  {
   "cell_type": "code",
   "execution_count": 17,
   "metadata": {},
   "outputs": [
    {
     "name": "stdout",
     "output_type": "stream",
     "text": [
      "number of pages : 5\n",
      "links per pages : 6 8 4 3 8\n"
     ]
    }
   ],
   "source": [
    "print('number of pages :', len(naver_news_link))\n",
    "print('links per pages :', len(naver_news_link[0]),\n",
    "      len(naver_news_link[1]),\n",
    "      len(naver_news_link[2]),\n",
    "      len(naver_news_link[3]),\n",
    "      len(naver_news_link[4]))\n",
    "      "
   ]
  },
  {
   "cell_type": "code",
   "execution_count": 15,
   "metadata": {
    "scrolled": true
   },
   "outputs": [
    {
     "name": "stdout",
     "output_type": "stream",
     "text": [
      "https://news.naver.com/main/read.nhn?mode=LSD&mid=sec&sid1=106&oid=382&aid=0000801216\n",
      "https://news.naver.com/main/read.nhn?mode=LSD&mid=sec&sid1=106&oid=112&aid=0003272117\n",
      "https://news.naver.com/main/read.nhn?mode=LSD&mid=sec&sid1=106&oid=311&aid=0001116943\n",
      "https://news.naver.com/main/read.nhn?mode=LSD&mid=sec&sid1=106&oid=112&aid=0003272099\n",
      "https://news.naver.com/main/read.nhn?mode=LSD&mid=sec&sid1=106&oid=609&aid=0000252147\n",
      "https://news.naver.com/main/read.nhn?mode=LSD&mid=sec&sid1=103&oid=008&aid=0004364449\n",
      "https://news.naver.com/main/read.nhn?mode=LSD&mid=sec&sid1=103&oid=025&aid=0002978803\n",
      "https://news.naver.com/main/read.nhn?mode=LSD&mid=sec&sid1=106&oid=016&aid=0001640658\n",
      "https://news.naver.com/main/read.nhn?mode=LSD&mid=sec&sid1=106&oid=312&aid=0000437320\n",
      "https://news.naver.com/main/read.nhn?mode=LSD&mid=sec&sid1=106&oid=016&aid=0001640619\n",
      "https://news.naver.com/main/read.nhn?mode=LSD&mid=sec&sid1=106&oid=016&aid=0001640620\n",
      "https://news.naver.com/main/read.nhn?mode=LSD&mid=sec&sid1=106&oid=079&aid=0003327947\n",
      "https://news.naver.com/main/read.nhn?mode=LSD&mid=sec&sid1=101&oid=016&aid=0001640598\n",
      "https://news.naver.com/main/read.nhn?mode=LSD&mid=sec&sid1=106&oid=021&aid=0002418655\n",
      "https://news.naver.com/main/read.nhn?mode=LSD&mid=sec&sid1=106&oid=011&aid=0003700540\n",
      "https://news.naver.com/main/read.nhn?mode=LSD&mid=sec&sid1=106&oid=088&aid=0000635100\n",
      "https://news.naver.com/main/read.nhn?mode=LSD&mid=sec&sid1=106&oid=108&aid=0002845626\n",
      "https://news.naver.com/main/read.nhn?mode=LSD&mid=sec&sid1=103&oid=052&aid=0001406199\n",
      "https://news.naver.com/main/read.nhn?mode=LSD&mid=sec&sid1=106&oid=144&aid=0000658402\n",
      "https://news.naver.com/main/read.nhn?mode=LSD&mid=sec&sid1=106&oid=410&aid=0000672338\n",
      "https://news.naver.com/main/read.nhn?mode=LSD&mid=sec&sid1=106&oid=468&aid=0000630695\n",
      "https://news.naver.com/main/read.nhn?mode=LSD&mid=sec&sid1=106&oid=311&aid=0001116870\n",
      "https://news.naver.com/main/read.nhn?mode=LSD&mid=sec&sid1=104&oid=057&aid=0001425190\n",
      "https://news.naver.com/main/read.nhn?mode=LSD&mid=sec&sid1=106&oid=408&aid=0000087546\n",
      "https://news.naver.com/main/read.nhn?mode=LSD&mid=sec&sid1=101&oid=374&aid=0000205821\n",
      "https://news.naver.com/main/read.nhn?mode=LSD&mid=sec&sid1=106&oid=629&aid=0000016847\n",
      "https://news.naver.com/main/read.nhn?mode=LSD&mid=sec&sid1=106&oid=427&aid=0000035731\n",
      "https://news.naver.com/main/read.nhn?mode=LSD&mid=sec&sid1=106&oid=427&aid=0000035730\n",
      "https://news.naver.com/main/read.nhn?mode=LSD&mid=sec&sid1=106&oid=427&aid=0000035729\n"
     ]
    }
   ],
   "source": [
    "for page in naver_news_link:\n",
    "    for link in page:\n",
    "        print(link)"
   ]
  },
  {
   "cell_type": "markdown",
   "metadata": {},
   "source": [
    "## [2] Selenium으로 crawling"
   ]
  },
  {
   "cell_type": "code",
   "execution_count": 11,
   "metadata": {},
   "outputs": [],
   "source": [
    "import pandas as pd\n",
    "import numpy as np\n",
    "from selenium import webdriver\n",
    "from tqdm import tqdm_notebook\n",
    "import requests\n",
    "import pickle\n",
    "import re\n",
    "import ast\n",
    "\n",
    "from bs4 import BeautifulSoup\n",
    "from urllib.request import urlopen\n",
    "import urllib\n",
    "import time"
   ]
  },
  {
   "cell_type": "code",
   "execution_count": 14,
   "metadata": {},
   "outputs": [],
   "source": [
    "driver = webdriver.Chrome('driver/chromedriver')"
   ]
  },
  {
   "cell_type": "code",
   "execution_count": 18,
   "metadata": {},
   "outputs": [
    {
     "data": {
      "application/vnd.jupyter.widget-view+json": {
       "model_id": "c821910530bd4644abd34958f297964a",
       "version_major": 2,
       "version_minor": 0
      },
      "text/plain": [
       "HBox(children=(IntProgress(value=0, max=5), HTML(value='')))"
      ]
     },
     "metadata": {},
     "output_type": "display_data"
    },
    {
     "data": {
      "application/vnd.jupyter.widget-view+json": {
       "model_id": "8c791f6f138f4ff7acbaec1da5687b8f",
       "version_major": 2,
       "version_minor": 0
      },
      "text/plain": [
       "HBox(children=(IntProgress(value=0, max=6), HTML(value='')))"
      ]
     },
     "metadata": {},
     "output_type": "display_data"
    },
    {
     "name": "stdout",
     "output_type": "stream",
     "text": [
      "https://news.naver.com/main/read.nhn?mode=LSD&mid=sec&sid1=106&oid=382&aid=0000801216\n",
      "https://news.naver.com/main/read.nhn?mode=LSD&mid=sec&sid1=106&oid=112&aid=0003272117\n",
      "https://news.naver.com/main/read.nhn?mode=LSD&mid=sec&sid1=106&oid=311&aid=0001116943\n",
      "https://news.naver.com/main/read.nhn?mode=LSD&mid=sec&sid1=106&oid=112&aid=0003272099\n",
      "https://news.naver.com/main/read.nhn?mode=LSD&mid=sec&sid1=106&oid=609&aid=0000252147\n",
      "https://news.naver.com/main/read.nhn?mode=LSD&mid=sec&sid1=103&oid=008&aid=0004364449\n"
     ]
    },
    {
     "data": {
      "application/vnd.jupyter.widget-view+json": {
       "model_id": "0a81fe37849249c09eab7792c471bceb",
       "version_major": 2,
       "version_minor": 0
      },
      "text/plain": [
       "HBox(children=(IntProgress(value=0, max=8), HTML(value='')))"
      ]
     },
     "metadata": {},
     "output_type": "display_data"
    },
    {
     "name": "stdout",
     "output_type": "stream",
     "text": [
      "https://news.naver.com/main/read.nhn?mode=LSD&mid=sec&sid1=103&oid=025&aid=0002978803\n",
      "https://news.naver.com/main/read.nhn?mode=LSD&mid=sec&sid1=106&oid=016&aid=0001640658\n",
      "https://news.naver.com/main/read.nhn?mode=LSD&mid=sec&sid1=106&oid=312&aid=0000437320\n",
      "https://news.naver.com/main/read.nhn?mode=LSD&mid=sec&sid1=106&oid=016&aid=0001640619\n",
      "https://news.naver.com/main/read.nhn?mode=LSD&mid=sec&sid1=106&oid=016&aid=0001640620\n",
      "https://news.naver.com/main/read.nhn?mode=LSD&mid=sec&sid1=106&oid=079&aid=0003327947\n",
      "https://news.naver.com/main/read.nhn?mode=LSD&mid=sec&sid1=101&oid=016&aid=0001640598\n",
      "https://news.naver.com/main/read.nhn?mode=LSD&mid=sec&sid1=106&oid=021&aid=0002418655\n"
     ]
    },
    {
     "data": {
      "application/vnd.jupyter.widget-view+json": {
       "model_id": "9924d5b2999242e5a03d231242c6424b",
       "version_major": 2,
       "version_minor": 0
      },
      "text/plain": [
       "HBox(children=(IntProgress(value=0, max=4), HTML(value='')))"
      ]
     },
     "metadata": {},
     "output_type": "display_data"
    },
    {
     "name": "stdout",
     "output_type": "stream",
     "text": [
      "https://news.naver.com/main/read.nhn?mode=LSD&mid=sec&sid1=106&oid=011&aid=0003700540\n",
      "https://news.naver.com/main/read.nhn?mode=LSD&mid=sec&sid1=106&oid=088&aid=0000635100\n",
      "https://news.naver.com/main/read.nhn?mode=LSD&mid=sec&sid1=106&oid=108&aid=0002845626\n",
      "https://news.naver.com/main/read.nhn?mode=LSD&mid=sec&sid1=103&oid=052&aid=0001406199\n"
     ]
    },
    {
     "data": {
      "application/vnd.jupyter.widget-view+json": {
       "model_id": "f15c09b3e0b6430f9a2ffb5211ba9a08",
       "version_major": 2,
       "version_minor": 0
      },
      "text/plain": [
       "HBox(children=(IntProgress(value=0, max=3), HTML(value='')))"
      ]
     },
     "metadata": {},
     "output_type": "display_data"
    },
    {
     "name": "stdout",
     "output_type": "stream",
     "text": [
      "https://news.naver.com/main/read.nhn?mode=LSD&mid=sec&sid1=106&oid=144&aid=0000658402\n",
      "https://news.naver.com/main/read.nhn?mode=LSD&mid=sec&sid1=106&oid=410&aid=0000672338\n",
      "https://news.naver.com/main/read.nhn?mode=LSD&mid=sec&sid1=106&oid=468&aid=0000630695\n"
     ]
    },
    {
     "data": {
      "application/vnd.jupyter.widget-view+json": {
       "model_id": "83ae3a94a4094384bc5517b65d2b019f",
       "version_major": 2,
       "version_minor": 0
      },
      "text/plain": [
       "HBox(children=(IntProgress(value=0, max=8), HTML(value='')))"
      ]
     },
     "metadata": {},
     "output_type": "display_data"
    },
    {
     "name": "stdout",
     "output_type": "stream",
     "text": [
      "https://news.naver.com/main/read.nhn?mode=LSD&mid=sec&sid1=106&oid=311&aid=0001116870\n",
      "https://news.naver.com/main/read.nhn?mode=LSD&mid=sec&sid1=104&oid=057&aid=0001425190\n",
      "https://news.naver.com/main/read.nhn?mode=LSD&mid=sec&sid1=106&oid=408&aid=0000087546\n",
      "https://news.naver.com/main/read.nhn?mode=LSD&mid=sec&sid1=101&oid=374&aid=0000205821\n",
      "https://news.naver.com/main/read.nhn?mode=LSD&mid=sec&sid1=106&oid=629&aid=0000016847\n",
      "https://news.naver.com/main/read.nhn?mode=LSD&mid=sec&sid1=106&oid=427&aid=0000035731\n",
      "https://news.naver.com/main/read.nhn?mode=LSD&mid=sec&sid1=106&oid=427&aid=0000035730\n",
      "https://news.naver.com/main/read.nhn?mode=LSD&mid=sec&sid1=106&oid=427&aid=0000035729\n",
      "\n"
     ]
    }
   ],
   "source": [
    "naver_news_title = []\n",
    "naver_news_content = []\n",
    "\n",
    "for n in tqdm_notebook(range(len(naver_news_link))):\n",
    "    # per page\n",
    "    news_page_title = []\n",
    "    news_page_content = []\n",
    "    \n",
    "    for idx in tqdm_notebook(range(len(naver_news_link[n]))):\n",
    "        \n",
    "        ############### (1) URL로 접속하기 ###############\n",
    "        try :\n",
    "            link = naver_news_link[n][idx]\n",
    "            driver.get(link)\n",
    "            print(link)\n",
    "        except :\n",
    "            print('Timeout!')\n",
    "            continue\n",
    "        \n",
    "        try :\n",
    "            response = driver.page_source        \n",
    "        except UnexpectedAlertPresentException:\n",
    "            driver.switch_to_alert().accept()\n",
    "            print('게시글이 삭제된 경우입니다')\n",
    "            continue\n",
    "        \n",
    "        ############## (2) news 제목 가져오기 #############\n",
    "        soup = BeautifulSoup(response, 'html.parser')\n",
    "        title = None\n",
    "        \n",
    "        try :\n",
    "            item = soup.find('div', class_ = 'article_info')\n",
    "            title = item.find('h3', class_ = 'tts_head').get_text()\n",
    "        except:\n",
    "            title = 'OUTLINK'\n",
    "        \n",
    "        news_page_title.append(title)\n",
    "            \n",
    "        ############## (3) news 본문 가져오기 #############\n",
    "        doc = None\n",
    "        text = \"\"\n",
    "        \n",
    "        data = soup.find_all('div', {'class' : '_article_body_contents'})\n",
    "        if data :\n",
    "            for item in data:\n",
    "                text = text + str(item.find_all(text=True)).strip()\n",
    "                text = ast.literal_eval(text)\n",
    "                doc = ' '.join(text)\n",
    "        else:\n",
    "            doc = 'OUTLINK'\n",
    "        \n",
    "        news_page_content.append(doc.replace('\\n',' '))\n",
    "    \n",
    "    naver_news_title.append(news_page_title)\n",
    "    naver_news_content.append(news_page_content)\n",
    "    \n",
    "    time.sleep(2)"
   ]
  },
  {
   "cell_type": "code",
   "execution_count": 19,
   "metadata": {},
   "outputs": [
    {
     "name": "stdout",
     "output_type": "stream",
     "text": [
      "['OUTLINK', 'OUTLINK', 'OUTLINK', 'OUTLINK', 'OUTLINK', 'BTS, 일본 1위 찍고 미국·영국 ‘정상’ 돌진']\n",
      "-------------------------\n",
      "['OUTLINK', 'OUTLINK', 'OUTLINK', 'OUTLINK', 'OUTLINK', \"   본문 내용     TV플레이어     // TV플레이어     // flash 오류를 우회하기 위한 함수 추가 function _flash_removeCallback() {}   \\t \\t[머니투데이 김고금평 기자] [24일자 오리콘 데일리 앨범 차트 1위…22만 7204장 “미국과 영국 석권할 것”] 방탄소년단. /사진제공=빅히트엔터테인먼트 BTS(방탄소년단)가 일본 1위를 찍고 미국과 영국 차트 1위에 도전한다. BTS가 최근 내놓은 신보 ‘맵 오브 더 소울’(MAP OF THE SOUL : 7)이 24일 일본 오리콘 데일리 앨범 차트 정상에 올랐다. 이날 일본 오리콘이 발표한 랭킹 차트에 따르면 지난 21일 전 세계에서 발매한 BTS의 정규 4집 ‘MAP OF THE SOUL : 7’은 총 22만 7204장의 판매고로 24일자 오리콘 데일리 앨범 차트 1위를 차지했다. ‘MAP OF THE SOUL : 7’은 국내 주요 음원사이트의 실시간 차트 1위를 비롯한 차트 줄세우기, 공개 6시간 만에 중국 왕이뮤직 디지털 앨범 판매량 33만 장 돌파, 전 세계 91개 국가 및 지역 아이튠즈 ‘톱 앨범’ 1위, 발매 당일 265만 장 이상 판매 등 컴백 첫날부터 순조로운 기록들을 써내려가고 있다. 또 지난 24일 미국 빌보드와 영국 오피셜 차트는 이번 앨범이 전작의 성과를 뛰어넘어 ‘빌보드 200’ 차트와 ‘오피셜 앨범차트 톱 100’ 차트를 동시 석권할 것이라는 전망의 기사를 보도하며 BTS의 신기록을 집중적으로 다뤘다. 새 음반은 한 팀으로 모인 7명이 데뷔 7년을 돌아보는 작품이다. 세상에 ‘보여주고 싶은 나’와 그동안 숨겨왔던 내면의 그림자, ‘외면하고 싶은 나’를 받아들이고 ‘온전한 나’를 찾은 방탄소년단의 솔직한 이야기를 담았다. 타이틀곡 ‘ON’은 방탄소년단만의 파워풀한 에너지가 실린 힙합 곡으로, 데뷔 후 7년이라는 시간을 보내며 아티스트로서 소명의식과 마음가짐을 녹였다. 한편 BTS는 25일(현지시간) 미국 CBS에서 방송되는 인기 심야 토크쇼 ‘더 레이트 레이트 쇼 위드 제임스 코든’(The Late Late Show with James Corden)의 인기 코너인 ‘카풀 카라오케’(Carpool Karaoke)’에 출연한다. article_split 김고금평 기자 danny@mt.co.kr ▶침묵으로 사람을 움직이는 방법 ▶5년째 생활비 안주는 남편   ▶네이버 구독하기   <저작권자 ⓒ '돈이 보이는 리얼타임 뉴스' 머니투데이, 무단전재 및 재배포 금지> \\t  // 본문 내용   \"]\n"
     ]
    }
   ],
   "source": [
    "print(naver_news_title[0])\n",
    "print(\"-------------------------\")\n",
    "print(naver_news_content[0])"
   ]
  },
  {
   "cell_type": "markdown",
   "metadata": {},
   "source": [
    "# Saving"
   ]
  },
  {
   "cell_type": "code",
   "execution_count": 21,
   "metadata": {},
   "outputs": [],
   "source": [
    "with open('naver_news_title.pk','wb') as f:\n",
    "    pickle.dump(naver_news_title,f)\n",
    "\n",
    "with open('naver_news_content.pk','wb') as f:\n",
    "    pickle.dump(naver_news_title, f)"
   ]
  },
  {
   "cell_type": "code",
   "execution_count": null,
   "metadata": {},
   "outputs": [],
   "source": []
  }
 ],
 "metadata": {
  "kernelspec": {
   "display_name": "Python 3",
   "language": "python",
   "name": "python3"
  },
  "language_info": {
   "codemirror_mode": {
    "name": "ipython",
    "version": 3
   },
   "file_extension": ".py",
   "mimetype": "text/x-python",
   "name": "python",
   "nbconvert_exporter": "python",
   "pygments_lexer": "ipython3",
   "version": "3.6.9"
  }
 },
 "nbformat": 4,
 "nbformat_minor": 2
}
