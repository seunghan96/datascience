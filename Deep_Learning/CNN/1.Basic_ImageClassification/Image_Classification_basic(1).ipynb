{
 "cells": [
  {
   "cell_type": "markdown",
   "metadata": {},
   "source": [
    "# Image Classification Basic (1) "
   ]
  },
  {
   "cell_type": "code",
   "execution_count": 1,
   "metadata": {},
   "outputs": [],
   "source": [
    "import os\n",
    "from glob import glob\n",
    "\n",
    "import numpy as np\n",
    "\n",
    "import tensorflow as tf\n",
    "from PIL import Image\n",
    "\n",
    "import matplotlib.pyplot as plt\n",
    "%matplotlib inline"
   ]
  },
  {
   "cell_type": "code",
   "execution_count": 9,
   "metadata": {},
   "outputs": [
    {
     "data": {
      "text/plain": [
       "'C:\\\\Users\\\\samsung\\\\Desktop\\\\datascience lab\\\\FastCampus Deep Learning'"
      ]
     },
     "execution_count": 9,
     "metadata": {},
     "output_type": "execute_result"
    }
   ],
   "source": [
    "os.getcwd()"
   ]
  },
  {
   "cell_type": "markdown",
   "metadata": {},
   "source": [
    "### 1. getting Images\n",
    "- 폴더 안에 있는 모든 png형식의 사진 불러오기"
   ]
  },
  {
   "cell_type": "code",
   "execution_count": 8,
   "metadata": {},
   "outputs": [
    {
     "data": {
      "text/plain": [
       "['0', '1', '2', '3', '4', '5', '6', '7', '8', '9']"
      ]
     },
     "execution_count": 8,
     "metadata": {},
     "output_type": "execute_result"
    }
   ],
   "source": [
    "# label별 폴더가 있음\n",
    "os.listdir('dataset/mnist_png/training/')"
   ]
  },
  {
   "cell_type": "code",
   "execution_count": 10,
   "metadata": {},
   "outputs": [
    {
     "data": {
      "text/plain": [
       "['dataset/mnist_png/training/0\\\\1.png',\n",
       " 'dataset/mnist_png/training/0\\\\1000.png',\n",
       " 'dataset/mnist_png/training/0\\\\10005.png',\n",
       " 'dataset/mnist_png/training/0\\\\10010.png',\n",
       " 'dataset/mnist_png/training/0\\\\10022.png',\n",
       " 'dataset/mnist_png/training/0\\\\10025.png',\n",
       " 'dataset/mnist_png/training/0\\\\10026.png',\n",
       " 'dataset/mnist_png/training/0\\\\10045.png',\n",
       " 'dataset/mnist_png/training/0\\\\10069.png',\n",
       " 'dataset/mnist_png/training/0\\\\10071.png',\n",
       " 'dataset/mnist_png/training/0\\\\10080.png',\n",
       " 'dataset/mnist_png/training/0\\\\10083.png',\n",
       " 'dataset/mnist_png/training/0\\\\10107.png',\n",
       " 'dataset/mnist_png/training/0\\\\10119.png',\n",
       " 'dataset/mnist_png/training/0\\\\10120.png',\n",
       " 'dataset/mnist_png/training/0\\\\10121.png',\n",
       " 'dataset/mnist_png/training/0\\\\10128.png',\n",
       " 'dataset/mnist_png/training/0\\\\10140.png',\n",
       " 'dataset/mnist_png/training/0\\\\1015.png',\n",
       " 'dataset/mnist_png/training/0\\\\10167.png',\n",
       " 'dataset/mnist_png/training/0\\\\10168.png',\n",
       " 'dataset/mnist_png/training/0\\\\10176.png',\n",
       " 'dataset/mnist_png/training/0\\\\1018.png',\n",
       " 'dataset/mnist_png/training/0\\\\10188.png',\n",
       " 'dataset/mnist_png/training/0\\\\10195.png',\n",
       " 'dataset/mnist_png/training/0\\\\10203.png',\n",
       " 'dataset/mnist_png/training/0\\\\10204.png',\n",
       " 'dataset/mnist_png/training/0\\\\10221.png',\n",
       " 'dataset/mnist_png/training/0\\\\10230.png',\n",
       " 'dataset/mnist_png/training/0\\\\10237.png',\n",
       " 'dataset/mnist_png/training/0\\\\10240.png',\n",
       " 'dataset/mnist_png/training/0\\\\10242.png',\n",
       " 'dataset/mnist_png/training/0\\\\10245.png',\n",
       " 'dataset/mnist_png/training/0\\\\10254.png',\n",
       " 'dataset/mnist_png/training/0\\\\10259.png',\n",
       " 'dataset/mnist_png/training/0\\\\10261.png',\n",
       " 'dataset/mnist_png/training/0\\\\10265.png',\n",
       " 'dataset/mnist_png/training/0\\\\10272.png',\n",
       " 'dataset/mnist_png/training/0\\\\10276.png',\n",
       " 'dataset/mnist_png/training/0\\\\1028.png',\n",
       " 'dataset/mnist_png/training/0\\\\10283.png',\n",
       " 'dataset/mnist_png/training/0\\\\1029.png',\n",
       " 'dataset/mnist_png/training/0\\\\10323.png',\n",
       " 'dataset/mnist_png/training/0\\\\10326.png',\n",
       " 'dataset/mnist_png/training/0\\\\10334.png',\n",
       " 'dataset/mnist_png/training/0\\\\10340.png',\n",
       " 'dataset/mnist_png/training/0\\\\10343.png',\n",
       " 'dataset/mnist_png/training/0\\\\10348.png',\n",
       " 'dataset/mnist_png/training/0\\\\10352.png',\n",
       " 'dataset/mnist_png/training/0\\\\10363.png',\n",
       " 'dataset/mnist_png/training/0\\\\10366.png',\n",
       " 'dataset/mnist_png/training/0\\\\10372.png',\n",
       " 'dataset/mnist_png/training/0\\\\10380.png',\n",
       " 'dataset/mnist_png/training/0\\\\10384.png',\n",
       " 'dataset/mnist_png/training/0\\\\1040.png',\n",
       " 'dataset/mnist_png/training/0\\\\10407.png',\n",
       " 'dataset/mnist_png/training/0\\\\10425.png',\n",
       " 'dataset/mnist_png/training/0\\\\10439.png',\n",
       " 'dataset/mnist_png/training/0\\\\10456.png',\n",
       " 'dataset/mnist_png/training/0\\\\1046.png',\n",
       " 'dataset/mnist_png/training/0\\\\10469.png',\n",
       " 'dataset/mnist_png/training/0\\\\10471.png',\n",
       " 'dataset/mnist_png/training/0\\\\10479.png',\n",
       " 'dataset/mnist_png/training/0\\\\10488.png',\n",
       " 'dataset/mnist_png/training/0\\\\1049.png',\n",
       " 'dataset/mnist_png/training/0\\\\10505.png',\n",
       " 'dataset/mnist_png/training/0\\\\10523.png',\n",
       " 'dataset/mnist_png/training/0\\\\10530.png',\n",
       " 'dataset/mnist_png/training/0\\\\10531.png',\n",
       " 'dataset/mnist_png/training/0\\\\10542.png',\n",
       " 'dataset/mnist_png/training/0\\\\10563.png',\n",
       " 'dataset/mnist_png/training/0\\\\10564.png',\n",
       " 'dataset/mnist_png/training/0\\\\10579.png',\n",
       " 'dataset/mnist_png/training/0\\\\10599.png',\n",
       " 'dataset/mnist_png/training/0\\\\10604.png',\n",
       " 'dataset/mnist_png/training/0\\\\10625.png',\n",
       " 'dataset/mnist_png/training/0\\\\10645.png',\n",
       " 'dataset/mnist_png/training/0\\\\10664.png',\n",
       " 'dataset/mnist_png/training/0\\\\10689.png',\n",
       " 'dataset/mnist_png/training/0\\\\10691.png',\n",
       " 'dataset/mnist_png/training/0\\\\10700.png',\n",
       " 'dataset/mnist_png/training/0\\\\10705.png',\n",
       " 'dataset/mnist_png/training/0\\\\10732.png',\n",
       " 'dataset/mnist_png/training/0\\\\10747.png',\n",
       " 'dataset/mnist_png/training/0\\\\10750.png',\n",
       " 'dataset/mnist_png/training/0\\\\10755.png',\n",
       " 'dataset/mnist_png/training/0\\\\1076.png',\n",
       " 'dataset/mnist_png/training/0\\\\10773.png',\n",
       " 'dataset/mnist_png/training/0\\\\1078.png',\n",
       " 'dataset/mnist_png/training/0\\\\10781.png',\n",
       " 'dataset/mnist_png/training/0\\\\108.png',\n",
       " 'dataset/mnist_png/training/0\\\\10801.png',\n",
       " 'dataset/mnist_png/training/0\\\\10806.png',\n",
       " 'dataset/mnist_png/training/0\\\\10821.png',\n",
       " 'dataset/mnist_png/training/0\\\\10840.png',\n",
       " 'dataset/mnist_png/training/0\\\\10844.png',\n",
       " 'dataset/mnist_png/training/0\\\\10849.png',\n",
       " 'dataset/mnist_png/training/0\\\\10859.png',\n",
       " 'dataset/mnist_png/training/0\\\\10861.png',\n",
       " 'dataset/mnist_png/training/0\\\\10874.png',\n",
       " 'dataset/mnist_png/training/0\\\\1090.png',\n",
       " 'dataset/mnist_png/training/0\\\\10909.png',\n",
       " 'dataset/mnist_png/training/0\\\\10914.png',\n",
       " 'dataset/mnist_png/training/0\\\\10916.png',\n",
       " 'dataset/mnist_png/training/0\\\\10919.png',\n",
       " 'dataset/mnist_png/training/0\\\\10924.png',\n",
       " 'dataset/mnist_png/training/0\\\\1093.png',\n",
       " 'dataset/mnist_png/training/0\\\\10938.png',\n",
       " 'dataset/mnist_png/training/0\\\\10974.png',\n",
       " 'dataset/mnist_png/training/0\\\\10975.png',\n",
       " 'dataset/mnist_png/training/0\\\\10992.png',\n",
       " 'dataset/mnist_png/training/0\\\\11003.png',\n",
       " 'dataset/mnist_png/training/0\\\\11014.png',\n",
       " 'dataset/mnist_png/training/0\\\\11019.png',\n",
       " 'dataset/mnist_png/training/0\\\\1102.png',\n",
       " 'dataset/mnist_png/training/0\\\\11022.png',\n",
       " 'dataset/mnist_png/training/0\\\\11026.png',\n",
       " 'dataset/mnist_png/training/0\\\\11027.png',\n",
       " 'dataset/mnist_png/training/0\\\\11029.png',\n",
       " 'dataset/mnist_png/training/0\\\\11036.png',\n",
       " 'dataset/mnist_png/training/0\\\\11041.png',\n",
       " 'dataset/mnist_png/training/0\\\\11045.png',\n",
       " 'dataset/mnist_png/training/0\\\\11052.png',\n",
       " 'dataset/mnist_png/training/0\\\\11060.png',\n",
       " 'dataset/mnist_png/training/0\\\\1107.png',\n",
       " 'dataset/mnist_png/training/0\\\\11071.png',\n",
       " 'dataset/mnist_png/training/0\\\\11072.png',\n",
       " 'dataset/mnist_png/training/0\\\\11077.png',\n",
       " 'dataset/mnist_png/training/0\\\\11091.png',\n",
       " 'dataset/mnist_png/training/0\\\\11105.png',\n",
       " 'dataset/mnist_png/training/0\\\\11116.png',\n",
       " 'dataset/mnist_png/training/0\\\\11129.png',\n",
       " 'dataset/mnist_png/training/0\\\\11133.png',\n",
       " 'dataset/mnist_png/training/0\\\\11162.png',\n",
       " 'dataset/mnist_png/training/0\\\\11172.png',\n",
       " 'dataset/mnist_png/training/0\\\\11187.png',\n",
       " 'dataset/mnist_png/training/0\\\\11217.png',\n",
       " 'dataset/mnist_png/training/0\\\\11222.png',\n",
       " 'dataset/mnist_png/training/0\\\\11231.png',\n",
       " 'dataset/mnist_png/training/0\\\\11240.png',\n",
       " 'dataset/mnist_png/training/0\\\\11267.png',\n",
       " 'dataset/mnist_png/training/0\\\\11269.png',\n",
       " 'dataset/mnist_png/training/0\\\\1128.png',\n",
       " 'dataset/mnist_png/training/0\\\\11281.png',\n",
       " 'dataset/mnist_png/training/0\\\\11295.png',\n",
       " 'dataset/mnist_png/training/0\\\\11304.png',\n",
       " 'dataset/mnist_png/training/0\\\\11315.png',\n",
       " 'dataset/mnist_png/training/0\\\\11318.png',\n",
       " 'dataset/mnist_png/training/0\\\\11320.png',\n",
       " 'dataset/mnist_png/training/0\\\\11330.png',\n",
       " 'dataset/mnist_png/training/0\\\\11335.png',\n",
       " 'dataset/mnist_png/training/0\\\\11340.png',\n",
       " 'dataset/mnist_png/training/0\\\\11354.png',\n",
       " 'dataset/mnist_png/training/0\\\\11361.png',\n",
       " 'dataset/mnist_png/training/0\\\\1137.png',\n",
       " 'dataset/mnist_png/training/0\\\\11379.png',\n",
       " 'dataset/mnist_png/training/0\\\\11391.png',\n",
       " 'dataset/mnist_png/training/0\\\\114.png',\n",
       " 'dataset/mnist_png/training/0\\\\11403.png',\n",
       " 'dataset/mnist_png/training/0\\\\11409.png',\n",
       " 'dataset/mnist_png/training/0\\\\11422.png',\n",
       " 'dataset/mnist_png/training/0\\\\11428.png',\n",
       " 'dataset/mnist_png/training/0\\\\11429.png',\n",
       " 'dataset/mnist_png/training/0\\\\11451.png',\n",
       " 'dataset/mnist_png/training/0\\\\11453.png',\n",
       " 'dataset/mnist_png/training/0\\\\11462.png',\n",
       " 'dataset/mnist_png/training/0\\\\11501.png',\n",
       " 'dataset/mnist_png/training/0\\\\11514.png',\n",
       " 'dataset/mnist_png/training/0\\\\1152.png',\n",
       " 'dataset/mnist_png/training/0\\\\11526.png',\n",
       " 'dataset/mnist_png/training/0\\\\11532.png',\n",
       " 'dataset/mnist_png/training/0\\\\11541.png',\n",
       " 'dataset/mnist_png/training/0\\\\11559.png',\n",
       " 'dataset/mnist_png/training/0\\\\11562.png',\n",
       " 'dataset/mnist_png/training/0\\\\11574.png',\n",
       " 'dataset/mnist_png/training/0\\\\11577.png',\n",
       " 'dataset/mnist_png/training/0\\\\11584.png',\n",
       " 'dataset/mnist_png/training/0\\\\11588.png',\n",
       " 'dataset/mnist_png/training/0\\\\11597.png',\n",
       " 'dataset/mnist_png/training/0\\\\11605.png',\n",
       " 'dataset/mnist_png/training/0\\\\11612.png',\n",
       " 'dataset/mnist_png/training/0\\\\11615.png',\n",
       " 'dataset/mnist_png/training/0\\\\11620.png',\n",
       " 'dataset/mnist_png/training/0\\\\11636.png',\n",
       " 'dataset/mnist_png/training/0\\\\11639.png',\n",
       " 'dataset/mnist_png/training/0\\\\11654.png',\n",
       " 'dataset/mnist_png/training/0\\\\11657.png',\n",
       " 'dataset/mnist_png/training/0\\\\11661.png',\n",
       " 'dataset/mnist_png/training/0\\\\11675.png',\n",
       " 'dataset/mnist_png/training/0\\\\1168.png',\n",
       " 'dataset/mnist_png/training/0\\\\11683.png',\n",
       " 'dataset/mnist_png/training/0\\\\11694.png',\n",
       " 'dataset/mnist_png/training/0\\\\11701.png',\n",
       " 'dataset/mnist_png/training/0\\\\11712.png',\n",
       " 'dataset/mnist_png/training/0\\\\11729.png',\n",
       " 'dataset/mnist_png/training/0\\\\11742.png',\n",
       " 'dataset/mnist_png/training/0\\\\11746.png',\n",
       " 'dataset/mnist_png/training/0\\\\11754.png',\n",
       " 'dataset/mnist_png/training/0\\\\11758.png',\n",
       " 'dataset/mnist_png/training/0\\\\11779.png',\n",
       " 'dataset/mnist_png/training/0\\\\11780.png',\n",
       " 'dataset/mnist_png/training/0\\\\1179.png',\n",
       " 'dataset/mnist_png/training/0\\\\11791.png',\n",
       " 'dataset/mnist_png/training/0\\\\11792.png',\n",
       " 'dataset/mnist_png/training/0\\\\11794.png',\n",
       " 'dataset/mnist_png/training/0\\\\118.png',\n",
       " 'dataset/mnist_png/training/0\\\\11807.png',\n",
       " 'dataset/mnist_png/training/0\\\\11833.png',\n",
       " 'dataset/mnist_png/training/0\\\\11834.png',\n",
       " 'dataset/mnist_png/training/0\\\\11845.png',\n",
       " 'dataset/mnist_png/training/0\\\\11846.png',\n",
       " 'dataset/mnist_png/training/0\\\\11848.png',\n",
       " 'dataset/mnist_png/training/0\\\\11851.png',\n",
       " 'dataset/mnist_png/training/0\\\\11860.png',\n",
       " 'dataset/mnist_png/training/0\\\\11887.png',\n",
       " 'dataset/mnist_png/training/0\\\\11888.png',\n",
       " 'dataset/mnist_png/training/0\\\\119.png',\n",
       " 'dataset/mnist_png/training/0\\\\11902.png',\n",
       " 'dataset/mnist_png/training/0\\\\11911.png',\n",
       " 'dataset/mnist_png/training/0\\\\11914.png',\n",
       " 'dataset/mnist_png/training/0\\\\11920.png',\n",
       " 'dataset/mnist_png/training/0\\\\11933.png',\n",
       " 'dataset/mnist_png/training/0\\\\11945.png',\n",
       " 'dataset/mnist_png/training/0\\\\11948.png',\n",
       " 'dataset/mnist_png/training/0\\\\1195.png',\n",
       " 'dataset/mnist_png/training/0\\\\11957.png',\n",
       " 'dataset/mnist_png/training/0\\\\11969.png',\n",
       " 'dataset/mnist_png/training/0\\\\11973.png',\n",
       " 'dataset/mnist_png/training/0\\\\11974.png',\n",
       " 'dataset/mnist_png/training/0\\\\11993.png',\n",
       " 'dataset/mnist_png/training/0\\\\12004.png',\n",
       " 'dataset/mnist_png/training/0\\\\12008.png',\n",
       " 'dataset/mnist_png/training/0\\\\12011.png',\n",
       " 'dataset/mnist_png/training/0\\\\12020.png',\n",
       " 'dataset/mnist_png/training/0\\\\12057.png',\n",
       " 'dataset/mnist_png/training/0\\\\1209.png',\n",
       " 'dataset/mnist_png/training/0\\\\12095.png',\n",
       " 'dataset/mnist_png/training/0\\\\121.png',\n",
       " 'dataset/mnist_png/training/0\\\\12103.png',\n",
       " 'dataset/mnist_png/training/0\\\\12107.png',\n",
       " 'dataset/mnist_png/training/0\\\\12115.png',\n",
       " 'dataset/mnist_png/training/0\\\\12119.png',\n",
       " 'dataset/mnist_png/training/0\\\\12134.png',\n",
       " 'dataset/mnist_png/training/0\\\\12140.png',\n",
       " 'dataset/mnist_png/training/0\\\\12142.png',\n",
       " 'dataset/mnist_png/training/0\\\\12144.png',\n",
       " 'dataset/mnist_png/training/0\\\\12150.png',\n",
       " 'dataset/mnist_png/training/0\\\\12168.png',\n",
       " 'dataset/mnist_png/training/0\\\\12180.png',\n",
       " 'dataset/mnist_png/training/0\\\\12184.png',\n",
       " 'dataset/mnist_png/training/0\\\\12193.png',\n",
       " 'dataset/mnist_png/training/0\\\\12195.png',\n",
       " 'dataset/mnist_png/training/0\\\\12205.png',\n",
       " 'dataset/mnist_png/training/0\\\\12217.png',\n",
       " 'dataset/mnist_png/training/0\\\\12219.png',\n",
       " 'dataset/mnist_png/training/0\\\\12239.png',\n",
       " 'dataset/mnist_png/training/0\\\\12259.png',\n",
       " 'dataset/mnist_png/training/0\\\\12264.png',\n",
       " 'dataset/mnist_png/training/0\\\\12266.png',\n",
       " 'dataset/mnist_png/training/0\\\\12276.png',\n",
       " 'dataset/mnist_png/training/0\\\\12313.png',\n",
       " 'dataset/mnist_png/training/0\\\\12321.png',\n",
       " 'dataset/mnist_png/training/0\\\\12324.png',\n",
       " 'dataset/mnist_png/training/0\\\\12325.png',\n",
       " 'dataset/mnist_png/training/0\\\\12337.png',\n",
       " 'dataset/mnist_png/training/0\\\\12339.png',\n",
       " 'dataset/mnist_png/training/0\\\\12351.png',\n",
       " 'dataset/mnist_png/training/0\\\\12357.png',\n",
       " 'dataset/mnist_png/training/0\\\\12360.png',\n",
       " 'dataset/mnist_png/training/0\\\\12374.png',\n",
       " 'dataset/mnist_png/training/0\\\\12387.png',\n",
       " 'dataset/mnist_png/training/0\\\\12414.png',\n",
       " 'dataset/mnist_png/training/0\\\\12421.png',\n",
       " 'dataset/mnist_png/training/0\\\\12456.png',\n",
       " 'dataset/mnist_png/training/0\\\\12457.png',\n",
       " 'dataset/mnist_png/training/0\\\\12477.png',\n",
       " 'dataset/mnist_png/training/0\\\\12497.png',\n",
       " 'dataset/mnist_png/training/0\\\\12500.png',\n",
       " 'dataset/mnist_png/training/0\\\\12504.png',\n",
       " 'dataset/mnist_png/training/0\\\\12516.png',\n",
       " 'dataset/mnist_png/training/0\\\\12533.png',\n",
       " 'dataset/mnist_png/training/0\\\\12542.png',\n",
       " 'dataset/mnist_png/training/0\\\\12550.png',\n",
       " 'dataset/mnist_png/training/0\\\\12553.png',\n",
       " 'dataset/mnist_png/training/0\\\\12554.png',\n",
       " 'dataset/mnist_png/training/0\\\\12555.png',\n",
       " 'dataset/mnist_png/training/0\\\\12568.png',\n",
       " 'dataset/mnist_png/training/0\\\\12573.png',\n",
       " 'dataset/mnist_png/training/0\\\\12575.png',\n",
       " 'dataset/mnist_png/training/0\\\\12584.png',\n",
       " 'dataset/mnist_png/training/0\\\\12605.png',\n",
       " 'dataset/mnist_png/training/0\\\\12635.png',\n",
       " 'dataset/mnist_png/training/0\\\\12652.png',\n",
       " 'dataset/mnist_png/training/0\\\\12653.png',\n",
       " 'dataset/mnist_png/training/0\\\\12662.png',\n",
       " 'dataset/mnist_png/training/0\\\\12665.png',\n",
       " 'dataset/mnist_png/training/0\\\\12666.png',\n",
       " 'dataset/mnist_png/training/0\\\\12670.png',\n",
       " 'dataset/mnist_png/training/0\\\\1268.png',\n",
       " 'dataset/mnist_png/training/0\\\\12686.png',\n",
       " 'dataset/mnist_png/training/0\\\\12690.png',\n",
       " 'dataset/mnist_png/training/0\\\\12691.png',\n",
       " 'dataset/mnist_png/training/0\\\\12703.png',\n",
       " 'dataset/mnist_png/training/0\\\\12716.png',\n",
       " 'dataset/mnist_png/training/0\\\\12723.png',\n",
       " 'dataset/mnist_png/training/0\\\\12732.png',\n",
       " 'dataset/mnist_png/training/0\\\\12741.png',\n",
       " 'dataset/mnist_png/training/0\\\\12748.png',\n",
       " 'dataset/mnist_png/training/0\\\\12764.png',\n",
       " 'dataset/mnist_png/training/0\\\\12765.png',\n",
       " 'dataset/mnist_png/training/0\\\\12776.png',\n",
       " 'dataset/mnist_png/training/0\\\\12785.png',\n",
       " 'dataset/mnist_png/training/0\\\\12796.png',\n",
       " 'dataset/mnist_png/training/0\\\\12799.png',\n",
       " 'dataset/mnist_png/training/0\\\\12837.png',\n",
       " 'dataset/mnist_png/training/0\\\\12839.png',\n",
       " 'dataset/mnist_png/training/0\\\\12869.png',\n",
       " 'dataset/mnist_png/training/0\\\\12872.png',\n",
       " 'dataset/mnist_png/training/0\\\\12880.png',\n",
       " 'dataset/mnist_png/training/0\\\\12888.png',\n",
       " 'dataset/mnist_png/training/0\\\\12897.png',\n",
       " 'dataset/mnist_png/training/0\\\\12907.png',\n",
       " 'dataset/mnist_png/training/0\\\\12926.png',\n",
       " 'dataset/mnist_png/training/0\\\\12927.png',\n",
       " 'dataset/mnist_png/training/0\\\\12947.png',\n",
       " 'dataset/mnist_png/training/0\\\\12992.png',\n",
       " 'dataset/mnist_png/training/0\\\\13005.png',\n",
       " 'dataset/mnist_png/training/0\\\\13013.png',\n",
       " 'dataset/mnist_png/training/0\\\\13029.png',\n",
       " 'dataset/mnist_png/training/0\\\\13030.png',\n",
       " 'dataset/mnist_png/training/0\\\\13033.png',\n",
       " 'dataset/mnist_png/training/0\\\\1304.png',\n",
       " 'dataset/mnist_png/training/0\\\\13044.png',\n",
       " 'dataset/mnist_png/training/0\\\\13054.png',\n",
       " 'dataset/mnist_png/training/0\\\\13066.png',\n",
       " 'dataset/mnist_png/training/0\\\\13074.png',\n",
       " 'dataset/mnist_png/training/0\\\\13075.png',\n",
       " 'dataset/mnist_png/training/0\\\\13076.png',\n",
       " 'dataset/mnist_png/training/0\\\\13077.png',\n",
       " 'dataset/mnist_png/training/0\\\\13081.png',\n",
       " 'dataset/mnist_png/training/0\\\\13097.png',\n",
       " 'dataset/mnist_png/training/0\\\\13098.png',\n",
       " 'dataset/mnist_png/training/0\\\\1310.png',\n",
       " 'dataset/mnist_png/training/0\\\\13117.png',\n",
       " 'dataset/mnist_png/training/0\\\\13126.png',\n",
       " 'dataset/mnist_png/training/0\\\\13135.png',\n",
       " 'dataset/mnist_png/training/0\\\\13155.png',\n",
       " 'dataset/mnist_png/training/0\\\\13164.png',\n",
       " 'dataset/mnist_png/training/0\\\\13175.png',\n",
       " 'dataset/mnist_png/training/0\\\\13184.png',\n",
       " 'dataset/mnist_png/training/0\\\\13196.png',\n",
       " 'dataset/mnist_png/training/0\\\\13197.png',\n",
       " 'dataset/mnist_png/training/0\\\\13203.png',\n",
       " 'dataset/mnist_png/training/0\\\\13206.png',\n",
       " 'dataset/mnist_png/training/0\\\\13211.png',\n",
       " 'dataset/mnist_png/training/0\\\\13214.png',\n",
       " 'dataset/mnist_png/training/0\\\\13215.png',\n",
       " 'dataset/mnist_png/training/0\\\\13216.png',\n",
       " 'dataset/mnist_png/training/0\\\\13217.png',\n",
       " 'dataset/mnist_png/training/0\\\\13230.png',\n",
       " 'dataset/mnist_png/training/0\\\\13231.png',\n",
       " 'dataset/mnist_png/training/0\\\\13233.png',\n",
       " 'dataset/mnist_png/training/0\\\\13238.png',\n",
       " 'dataset/mnist_png/training/0\\\\13240.png',\n",
       " 'dataset/mnist_png/training/0\\\\13268.png',\n",
       " 'dataset/mnist_png/training/0\\\\13280.png',\n",
       " 'dataset/mnist_png/training/0\\\\13286.png',\n",
       " 'dataset/mnist_png/training/0\\\\13314.png',\n",
       " 'dataset/mnist_png/training/0\\\\13335.png',\n",
       " 'dataset/mnist_png/training/0\\\\13344.png',\n",
       " 'dataset/mnist_png/training/0\\\\13347.png',\n",
       " 'dataset/mnist_png/training/0\\\\13366.png',\n",
       " 'dataset/mnist_png/training/0\\\\13371.png',\n",
       " 'dataset/mnist_png/training/0\\\\13377.png',\n",
       " 'dataset/mnist_png/training/0\\\\13397.png',\n",
       " 'dataset/mnist_png/training/0\\\\13408.png',\n",
       " 'dataset/mnist_png/training/0\\\\13411.png',\n",
       " 'dataset/mnist_png/training/0\\\\13450.png',\n",
       " 'dataset/mnist_png/training/0\\\\13454.png',\n",
       " 'dataset/mnist_png/training/0\\\\13459.png',\n",
       " 'dataset/mnist_png/training/0\\\\1346.png',\n",
       " 'dataset/mnist_png/training/0\\\\13464.png',\n",
       " 'dataset/mnist_png/training/0\\\\13467.png',\n",
       " 'dataset/mnist_png/training/0\\\\13483.png',\n",
       " 'dataset/mnist_png/training/0\\\\1349.png',\n",
       " 'dataset/mnist_png/training/0\\\\13492.png',\n",
       " 'dataset/mnist_png/training/0\\\\13497.png',\n",
       " 'dataset/mnist_png/training/0\\\\13521.png',\n",
       " 'dataset/mnist_png/training/0\\\\13528.png',\n",
       " 'dataset/mnist_png/training/0\\\\13544.png',\n",
       " 'dataset/mnist_png/training/0\\\\13545.png',\n",
       " 'dataset/mnist_png/training/0\\\\13547.png',\n",
       " 'dataset/mnist_png/training/0\\\\13582.png',\n",
       " 'dataset/mnist_png/training/0\\\\13583.png',\n",
       " 'dataset/mnist_png/training/0\\\\13589.png',\n",
       " 'dataset/mnist_png/training/0\\\\1359.png',\n",
       " 'dataset/mnist_png/training/0\\\\13609.png',\n",
       " 'dataset/mnist_png/training/0\\\\13623.png',\n",
       " 'dataset/mnist_png/training/0\\\\1363.png',\n",
       " 'dataset/mnist_png/training/0\\\\13641.png',\n",
       " 'dataset/mnist_png/training/0\\\\1367.png',\n",
       " 'dataset/mnist_png/training/0\\\\1368.png',\n",
       " 'dataset/mnist_png/training/0\\\\13685.png',\n",
       " 'dataset/mnist_png/training/0\\\\1371.png',\n",
       " 'dataset/mnist_png/training/0\\\\13719.png',\n",
       " 'dataset/mnist_png/training/0\\\\1372.png',\n",
       " 'dataset/mnist_png/training/0\\\\13726.png',\n",
       " 'dataset/mnist_png/training/0\\\\13729.png',\n",
       " 'dataset/mnist_png/training/0\\\\13730.png',\n",
       " 'dataset/mnist_png/training/0\\\\13734.png',\n",
       " 'dataset/mnist_png/training/0\\\\13738.png',\n",
       " 'dataset/mnist_png/training/0\\\\13751.png',\n",
       " 'dataset/mnist_png/training/0\\\\13764.png',\n",
       " 'dataset/mnist_png/training/0\\\\13769.png',\n",
       " 'dataset/mnist_png/training/0\\\\1377.png',\n",
       " 'dataset/mnist_png/training/0\\\\13777.png',\n",
       " 'dataset/mnist_png/training/0\\\\13779.png',\n",
       " 'dataset/mnist_png/training/0\\\\13798.png',\n",
       " 'dataset/mnist_png/training/0\\\\13799.png',\n",
       " 'dataset/mnist_png/training/0\\\\13807.png',\n",
       " 'dataset/mnist_png/training/0\\\\13808.png',\n",
       " 'dataset/mnist_png/training/0\\\\13816.png',\n",
       " 'dataset/mnist_png/training/0\\\\13822.png',\n",
       " 'dataset/mnist_png/training/0\\\\13826.png',\n",
       " 'dataset/mnist_png/training/0\\\\13830.png',\n",
       " 'dataset/mnist_png/training/0\\\\13833.png',\n",
       " 'dataset/mnist_png/training/0\\\\13853.png',\n",
       " 'dataset/mnist_png/training/0\\\\13854.png',\n",
       " 'dataset/mnist_png/training/0\\\\1386.png',\n",
       " 'dataset/mnist_png/training/0\\\\1387.png',\n",
       " 'dataset/mnist_png/training/0\\\\13872.png',\n",
       " 'dataset/mnist_png/training/0\\\\13873.png',\n",
       " 'dataset/mnist_png/training/0\\\\13874.png',\n",
       " 'dataset/mnist_png/training/0\\\\13880.png',\n",
       " 'dataset/mnist_png/training/0\\\\13889.png',\n",
       " 'dataset/mnist_png/training/0\\\\13896.png',\n",
       " 'dataset/mnist_png/training/0\\\\13911.png',\n",
       " 'dataset/mnist_png/training/0\\\\13913.png',\n",
       " 'dataset/mnist_png/training/0\\\\13916.png',\n",
       " 'dataset/mnist_png/training/0\\\\13918.png',\n",
       " 'dataset/mnist_png/training/0\\\\13921.png',\n",
       " 'dataset/mnist_png/training/0\\\\13926.png',\n",
       " 'dataset/mnist_png/training/0\\\\13955.png',\n",
       " 'dataset/mnist_png/training/0\\\\13962.png',\n",
       " 'dataset/mnist_png/training/0\\\\13989.png',\n",
       " 'dataset/mnist_png/training/0\\\\14012.png',\n",
       " 'dataset/mnist_png/training/0\\\\14019.png',\n",
       " 'dataset/mnist_png/training/0\\\\1403.png',\n",
       " 'dataset/mnist_png/training/0\\\\14034.png',\n",
       " 'dataset/mnist_png/training/0\\\\14039.png',\n",
       " 'dataset/mnist_png/training/0\\\\14052.png',\n",
       " 'dataset/mnist_png/training/0\\\\14059.png',\n",
       " 'dataset/mnist_png/training/0\\\\14089.png',\n",
       " 'dataset/mnist_png/training/0\\\\14092.png',\n",
       " 'dataset/mnist_png/training/0\\\\14097.png',\n",
       " 'dataset/mnist_png/training/0\\\\14102.png',\n",
       " 'dataset/mnist_png/training/0\\\\14110.png',\n",
       " 'dataset/mnist_png/training/0\\\\14131.png',\n",
       " 'dataset/mnist_png/training/0\\\\14137.png',\n",
       " 'dataset/mnist_png/training/0\\\\14148.png',\n",
       " 'dataset/mnist_png/training/0\\\\14153.png',\n",
       " 'dataset/mnist_png/training/0\\\\14157.png',\n",
       " 'dataset/mnist_png/training/0\\\\14158.png',\n",
       " 'dataset/mnist_png/training/0\\\\14160.png',\n",
       " 'dataset/mnist_png/training/0\\\\14161.png',\n",
       " 'dataset/mnist_png/training/0\\\\14165.png',\n",
       " 'dataset/mnist_png/training/0\\\\14179.png',\n",
       " 'dataset/mnist_png/training/0\\\\14202.png',\n",
       " 'dataset/mnist_png/training/0\\\\14229.png',\n",
       " 'dataset/mnist_png/training/0\\\\1423.png',\n",
       " 'dataset/mnist_png/training/0\\\\14258.png',\n",
       " 'dataset/mnist_png/training/0\\\\14269.png',\n",
       " 'dataset/mnist_png/training/0\\\\14276.png',\n",
       " 'dataset/mnist_png/training/0\\\\14278.png',\n",
       " 'dataset/mnist_png/training/0\\\\14282.png',\n",
       " 'dataset/mnist_png/training/0\\\\14291.png',\n",
       " 'dataset/mnist_png/training/0\\\\14311.png',\n",
       " 'dataset/mnist_png/training/0\\\\14319.png',\n",
       " 'dataset/mnist_png/training/0\\\\14323.png',\n",
       " 'dataset/mnist_png/training/0\\\\14325.png',\n",
       " 'dataset/mnist_png/training/0\\\\14329.png',\n",
       " 'dataset/mnist_png/training/0\\\\14334.png',\n",
       " 'dataset/mnist_png/training/0\\\\14356.png',\n",
       " 'dataset/mnist_png/training/0\\\\14384.png',\n",
       " 'dataset/mnist_png/training/0\\\\14393.png',\n",
       " 'dataset/mnist_png/training/0\\\\14402.png',\n",
       " 'dataset/mnist_png/training/0\\\\14412.png',\n",
       " 'dataset/mnist_png/training/0\\\\14419.png',\n",
       " 'dataset/mnist_png/training/0\\\\14425.png',\n",
       " 'dataset/mnist_png/training/0\\\\1443.png',\n",
       " 'dataset/mnist_png/training/0\\\\14430.png',\n",
       " 'dataset/mnist_png/training/0\\\\14445.png',\n",
       " 'dataset/mnist_png/training/0\\\\14461.png',\n",
       " 'dataset/mnist_png/training/0\\\\14472.png',\n",
       " 'dataset/mnist_png/training/0\\\\14481.png',\n",
       " 'dataset/mnist_png/training/0\\\\14491.png',\n",
       " 'dataset/mnist_png/training/0\\\\14511.png',\n",
       " 'dataset/mnist_png/training/0\\\\14513.png',\n",
       " 'dataset/mnist_png/training/0\\\\14518.png',\n",
       " 'dataset/mnist_png/training/0\\\\14530.png',\n",
       " 'dataset/mnist_png/training/0\\\\1454.png',\n",
       " 'dataset/mnist_png/training/0\\\\14545.png',\n",
       " 'dataset/mnist_png/training/0\\\\14557.png',\n",
       " 'dataset/mnist_png/training/0\\\\14559.png',\n",
       " 'dataset/mnist_png/training/0\\\\14564.png',\n",
       " 'dataset/mnist_png/training/0\\\\14574.png',\n",
       " 'dataset/mnist_png/training/0\\\\14589.png',\n",
       " 'dataset/mnist_png/training/0\\\\14613.png',\n",
       " 'dataset/mnist_png/training/0\\\\14629.png',\n",
       " 'dataset/mnist_png/training/0\\\\14644.png',\n",
       " 'dataset/mnist_png/training/0\\\\14649.png',\n",
       " 'dataset/mnist_png/training/0\\\\14668.png',\n",
       " 'dataset/mnist_png/training/0\\\\14675.png',\n",
       " 'dataset/mnist_png/training/0\\\\14693.png',\n",
       " 'dataset/mnist_png/training/0\\\\14705.png',\n",
       " 'dataset/mnist_png/training/0\\\\1471.png',\n",
       " 'dataset/mnist_png/training/0\\\\14712.png',\n",
       " 'dataset/mnist_png/training/0\\\\14717.png',\n",
       " 'dataset/mnist_png/training/0\\\\14722.png',\n",
       " 'dataset/mnist_png/training/0\\\\14723.png',\n",
       " 'dataset/mnist_png/training/0\\\\14729.png',\n",
       " 'dataset/mnist_png/training/0\\\\14746.png',\n",
       " 'dataset/mnist_png/training/0\\\\14749.png',\n",
       " 'dataset/mnist_png/training/0\\\\14752.png',\n",
       " 'dataset/mnist_png/training/0\\\\14773.png',\n",
       " 'dataset/mnist_png/training/0\\\\14775.png',\n",
       " 'dataset/mnist_png/training/0\\\\1479.png',\n",
       " 'dataset/mnist_png/training/0\\\\14817.png',\n",
       " 'dataset/mnist_png/training/0\\\\14820.png',\n",
       " 'dataset/mnist_png/training/0\\\\14840.png',\n",
       " 'dataset/mnist_png/training/0\\\\14857.png',\n",
       " 'dataset/mnist_png/training/0\\\\14877.png',\n",
       " 'dataset/mnist_png/training/0\\\\1489.png',\n",
       " 'dataset/mnist_png/training/0\\\\14890.png',\n",
       " 'dataset/mnist_png/training/0\\\\14897.png',\n",
       " 'dataset/mnist_png/training/0\\\\14919.png',\n",
       " 'dataset/mnist_png/training/0\\\\14937.png',\n",
       " 'dataset/mnist_png/training/0\\\\14944.png',\n",
       " 'dataset/mnist_png/training/0\\\\14949.png',\n",
       " 'dataset/mnist_png/training/0\\\\1495.png',\n",
       " 'dataset/mnist_png/training/0\\\\14959.png',\n",
       " 'dataset/mnist_png/training/0\\\\14965.png',\n",
       " 'dataset/mnist_png/training/0\\\\14971.png',\n",
       " 'dataset/mnist_png/training/0\\\\14991.png',\n",
       " 'dataset/mnist_png/training/0\\\\1501.png',\n",
       " 'dataset/mnist_png/training/0\\\\15015.png',\n",
       " 'dataset/mnist_png/training/0\\\\15017.png',\n",
       " 'dataset/mnist_png/training/0\\\\1502.png',\n",
       " 'dataset/mnist_png/training/0\\\\15028.png',\n",
       " 'dataset/mnist_png/training/0\\\\15042.png',\n",
       " 'dataset/mnist_png/training/0\\\\15046.png',\n",
       " 'dataset/mnist_png/training/0\\\\15060.png',\n",
       " 'dataset/mnist_png/training/0\\\\15064.png',\n",
       " 'dataset/mnist_png/training/0\\\\15065.png',\n",
       " 'dataset/mnist_png/training/0\\\\15103.png',\n",
       " 'dataset/mnist_png/training/0\\\\15108.png',\n",
       " 'dataset/mnist_png/training/0\\\\15119.png',\n",
       " 'dataset/mnist_png/training/0\\\\1512.png',\n",
       " 'dataset/mnist_png/training/0\\\\15120.png',\n",
       " 'dataset/mnist_png/training/0\\\\15130.png',\n",
       " 'dataset/mnist_png/training/0\\\\15133.png',\n",
       " 'dataset/mnist_png/training/0\\\\15142.png',\n",
       " 'dataset/mnist_png/training/0\\\\15150.png',\n",
       " 'dataset/mnist_png/training/0\\\\15156.png',\n",
       " 'dataset/mnist_png/training/0\\\\15160.png',\n",
       " 'dataset/mnist_png/training/0\\\\15169.png',\n",
       " 'dataset/mnist_png/training/0\\\\1517.png',\n",
       " 'dataset/mnist_png/training/0\\\\15189.png',\n",
       " 'dataset/mnist_png/training/0\\\\15191.png',\n",
       " 'dataset/mnist_png/training/0\\\\15198.png',\n",
       " 'dataset/mnist_png/training/0\\\\15208.png',\n",
       " 'dataset/mnist_png/training/0\\\\15237.png',\n",
       " 'dataset/mnist_png/training/0\\\\15242.png',\n",
       " 'dataset/mnist_png/training/0\\\\15249.png',\n",
       " 'dataset/mnist_png/training/0\\\\15275.png',\n",
       " 'dataset/mnist_png/training/0\\\\15288.png',\n",
       " 'dataset/mnist_png/training/0\\\\15291.png',\n",
       " 'dataset/mnist_png/training/0\\\\1530.png',\n",
       " 'dataset/mnist_png/training/0\\\\15311.png',\n",
       " 'dataset/mnist_png/training/0\\\\15318.png',\n",
       " 'dataset/mnist_png/training/0\\\\1532.png',\n",
       " 'dataset/mnist_png/training/0\\\\15325.png',\n",
       " 'dataset/mnist_png/training/0\\\\15329.png',\n",
       " 'dataset/mnist_png/training/0\\\\15330.png',\n",
       " 'dataset/mnist_png/training/0\\\\15344.png',\n",
       " 'dataset/mnist_png/training/0\\\\15382.png',\n",
       " 'dataset/mnist_png/training/0\\\\15383.png',\n",
       " 'dataset/mnist_png/training/0\\\\15399.png',\n",
       " 'dataset/mnist_png/training/0\\\\15407.png',\n",
       " 'dataset/mnist_png/training/0\\\\15442.png',\n",
       " 'dataset/mnist_png/training/0\\\\15445.png',\n",
       " 'dataset/mnist_png/training/0\\\\15454.png',\n",
       " 'dataset/mnist_png/training/0\\\\15471.png',\n",
       " 'dataset/mnist_png/training/0\\\\15480.png',\n",
       " 'dataset/mnist_png/training/0\\\\15491.png',\n",
       " 'dataset/mnist_png/training/0\\\\15492.png',\n",
       " 'dataset/mnist_png/training/0\\\\15504.png',\n",
       " 'dataset/mnist_png/training/0\\\\15505.png',\n",
       " 'dataset/mnist_png/training/0\\\\15508.png',\n",
       " 'dataset/mnist_png/training/0\\\\15516.png',\n",
       " 'dataset/mnist_png/training/0\\\\15520.png',\n",
       " 'dataset/mnist_png/training/0\\\\15524.png',\n",
       " 'dataset/mnist_png/training/0\\\\15530.png',\n",
       " 'dataset/mnist_png/training/0\\\\15542.png',\n",
       " 'dataset/mnist_png/training/0\\\\15559.png',\n",
       " 'dataset/mnist_png/training/0\\\\15564.png',\n",
       " 'dataset/mnist_png/training/0\\\\15566.png',\n",
       " 'dataset/mnist_png/training/0\\\\15567.png',\n",
       " 'dataset/mnist_png/training/0\\\\15580.png',\n",
       " 'dataset/mnist_png/training/0\\\\15581.png',\n",
       " 'dataset/mnist_png/training/0\\\\15582.png',\n",
       " 'dataset/mnist_png/training/0\\\\15583.png',\n",
       " 'dataset/mnist_png/training/0\\\\15590.png',\n",
       " 'dataset/mnist_png/training/0\\\\156.png',\n",
       " 'dataset/mnist_png/training/0\\\\15600.png',\n",
       " 'dataset/mnist_png/training/0\\\\15619.png',\n",
       " 'dataset/mnist_png/training/0\\\\15621.png',\n",
       " 'dataset/mnist_png/training/0\\\\15628.png',\n",
       " 'dataset/mnist_png/training/0\\\\15637.png',\n",
       " 'dataset/mnist_png/training/0\\\\15648.png',\n",
       " 'dataset/mnist_png/training/0\\\\15662.png',\n",
       " 'dataset/mnist_png/training/0\\\\15663.png',\n",
       " 'dataset/mnist_png/training/0\\\\15675.png',\n",
       " 'dataset/mnist_png/training/0\\\\15692.png',\n",
       " 'dataset/mnist_png/training/0\\\\15694.png',\n",
       " 'dataset/mnist_png/training/0\\\\15695.png',\n",
       " 'dataset/mnist_png/training/0\\\\15700.png',\n",
       " 'dataset/mnist_png/training/0\\\\15704.png',\n",
       " 'dataset/mnist_png/training/0\\\\1571.png',\n",
       " 'dataset/mnist_png/training/0\\\\15711.png',\n",
       " 'dataset/mnist_png/training/0\\\\15734.png',\n",
       " 'dataset/mnist_png/training/0\\\\15753.png',\n",
       " 'dataset/mnist_png/training/0\\\\15759.png',\n",
       " 'dataset/mnist_png/training/0\\\\15761.png',\n",
       " 'dataset/mnist_png/training/0\\\\15765.png',\n",
       " 'dataset/mnist_png/training/0\\\\15770.png',\n",
       " 'dataset/mnist_png/training/0\\\\15777.png',\n",
       " 'dataset/mnist_png/training/0\\\\15779.png',\n",
       " 'dataset/mnist_png/training/0\\\\1578.png',\n",
       " 'dataset/mnist_png/training/0\\\\15795.png',\n",
       " 'dataset/mnist_png/training/0\\\\15798.png',\n",
       " 'dataset/mnist_png/training/0\\\\15814.png',\n",
       " 'dataset/mnist_png/training/0\\\\15825.png',\n",
       " 'dataset/mnist_png/training/0\\\\15828.png',\n",
       " 'dataset/mnist_png/training/0\\\\15854.png',\n",
       " 'dataset/mnist_png/training/0\\\\15863.png',\n",
       " 'dataset/mnist_png/training/0\\\\15864.png',\n",
       " 'dataset/mnist_png/training/0\\\\15868.png',\n",
       " 'dataset/mnist_png/training/0\\\\15882.png',\n",
       " 'dataset/mnist_png/training/0\\\\15883.png',\n",
       " 'dataset/mnist_png/training/0\\\\15890.png',\n",
       " 'dataset/mnist_png/training/0\\\\1590.png',\n",
       " 'dataset/mnist_png/training/0\\\\15901.png',\n",
       " 'dataset/mnist_png/training/0\\\\15904.png',\n",
       " 'dataset/mnist_png/training/0\\\\15910.png',\n",
       " 'dataset/mnist_png/training/0\\\\15926.png',\n",
       " 'dataset/mnist_png/training/0\\\\15928.png',\n",
       " 'dataset/mnist_png/training/0\\\\15934.png',\n",
       " 'dataset/mnist_png/training/0\\\\15946.png',\n",
       " 'dataset/mnist_png/training/0\\\\15955.png',\n",
       " 'dataset/mnist_png/training/0\\\\1596.png',\n",
       " 'dataset/mnist_png/training/0\\\\15965.png',\n",
       " 'dataset/mnist_png/training/0\\\\15971.png',\n",
       " 'dataset/mnist_png/training/0\\\\15992.png',\n",
       " 'dataset/mnist_png/training/0\\\\15993.png',\n",
       " 'dataset/mnist_png/training/0\\\\1600.png',\n",
       " 'dataset/mnist_png/training/0\\\\16031.png',\n",
       " 'dataset/mnist_png/training/0\\\\16043.png',\n",
       " 'dataset/mnist_png/training/0\\\\16045.png',\n",
       " 'dataset/mnist_png/training/0\\\\1605.png',\n",
       " 'dataset/mnist_png/training/0\\\\1606.png',\n",
       " 'dataset/mnist_png/training/0\\\\16081.png',\n",
       " 'dataset/mnist_png/training/0\\\\16083.png',\n",
       " 'dataset/mnist_png/training/0\\\\16085.png',\n",
       " 'dataset/mnist_png/training/0\\\\16105.png',\n",
       " 'dataset/mnist_png/training/0\\\\16119.png',\n",
       " 'dataset/mnist_png/training/0\\\\16122.png',\n",
       " 'dataset/mnist_png/training/0\\\\16136.png',\n",
       " 'dataset/mnist_png/training/0\\\\16139.png',\n",
       " 'dataset/mnist_png/training/0\\\\16144.png',\n",
       " 'dataset/mnist_png/training/0\\\\16151.png',\n",
       " 'dataset/mnist_png/training/0\\\\16163.png',\n",
       " 'dataset/mnist_png/training/0\\\\16178.png',\n",
       " 'dataset/mnist_png/training/0\\\\16192.png',\n",
       " 'dataset/mnist_png/training/0\\\\16202.png',\n",
       " 'dataset/mnist_png/training/0\\\\16217.png',\n",
       " 'dataset/mnist_png/training/0\\\\16221.png',\n",
       " 'dataset/mnist_png/training/0\\\\16227.png',\n",
       " 'dataset/mnist_png/training/0\\\\16238.png',\n",
       " 'dataset/mnist_png/training/0\\\\16244.png',\n",
       " 'dataset/mnist_png/training/0\\\\1625.png',\n",
       " 'dataset/mnist_png/training/0\\\\1626.png',\n",
       " 'dataset/mnist_png/training/0\\\\16285.png',\n",
       " 'dataset/mnist_png/training/0\\\\16286.png',\n",
       " 'dataset/mnist_png/training/0\\\\16305.png',\n",
       " 'dataset/mnist_png/training/0\\\\16306.png',\n",
       " 'dataset/mnist_png/training/0\\\\16318.png',\n",
       " 'dataset/mnist_png/training/0\\\\16323.png',\n",
       " 'dataset/mnist_png/training/0\\\\16326.png',\n",
       " 'dataset/mnist_png/training/0\\\\16352.png',\n",
       " 'dataset/mnist_png/training/0\\\\16354.png',\n",
       " 'dataset/mnist_png/training/0\\\\16355.png',\n",
       " 'dataset/mnist_png/training/0\\\\16363.png',\n",
       " 'dataset/mnist_png/training/0\\\\16396.png',\n",
       " 'dataset/mnist_png/training/0\\\\16402.png',\n",
       " 'dataset/mnist_png/training/0\\\\16412.png',\n",
       " 'dataset/mnist_png/training/0\\\\16415.png',\n",
       " 'dataset/mnist_png/training/0\\\\16423.png',\n",
       " 'dataset/mnist_png/training/0\\\\16428.png',\n",
       " 'dataset/mnist_png/training/0\\\\16429.png',\n",
       " 'dataset/mnist_png/training/0\\\\16439.png',\n",
       " 'dataset/mnist_png/training/0\\\\1645.png',\n",
       " 'dataset/mnist_png/training/0\\\\16460.png',\n",
       " 'dataset/mnist_png/training/0\\\\16474.png',\n",
       " 'dataset/mnist_png/training/0\\\\16484.png',\n",
       " 'dataset/mnist_png/training/0\\\\16485.png',\n",
       " 'dataset/mnist_png/training/0\\\\16498.png',\n",
       " 'dataset/mnist_png/training/0\\\\16501.png',\n",
       " 'dataset/mnist_png/training/0\\\\16516.png',\n",
       " 'dataset/mnist_png/training/0\\\\16518.png',\n",
       " 'dataset/mnist_png/training/0\\\\16519.png',\n",
       " 'dataset/mnist_png/training/0\\\\16520.png',\n",
       " 'dataset/mnist_png/training/0\\\\16523.png',\n",
       " 'dataset/mnist_png/training/0\\\\16540.png',\n",
       " 'dataset/mnist_png/training/0\\\\16543.png',\n",
       " 'dataset/mnist_png/training/0\\\\16563.png',\n",
       " 'dataset/mnist_png/training/0\\\\16585.png',\n",
       " 'dataset/mnist_png/training/0\\\\16595.png',\n",
       " 'dataset/mnist_png/training/0\\\\16598.png',\n",
       " 'dataset/mnist_png/training/0\\\\16606.png',\n",
       " 'dataset/mnist_png/training/0\\\\16607.png',\n",
       " 'dataset/mnist_png/training/0\\\\16618.png',\n",
       " 'dataset/mnist_png/training/0\\\\16619.png',\n",
       " 'dataset/mnist_png/training/0\\\\16634.png',\n",
       " 'dataset/mnist_png/training/0\\\\1664.png',\n",
       " 'dataset/mnist_png/training/0\\\\16640.png',\n",
       " 'dataset/mnist_png/training/0\\\\16642.png',\n",
       " 'dataset/mnist_png/training/0\\\\16679.png',\n",
       " 'dataset/mnist_png/training/0\\\\16705.png',\n",
       " 'dataset/mnist_png/training/0\\\\16749.png',\n",
       " 'dataset/mnist_png/training/0\\\\16758.png',\n",
       " 'dataset/mnist_png/training/0\\\\16761.png',\n",
       " 'dataset/mnist_png/training/0\\\\16777.png',\n",
       " 'dataset/mnist_png/training/0\\\\1678.png',\n",
       " 'dataset/mnist_png/training/0\\\\16787.png',\n",
       " 'dataset/mnist_png/training/0\\\\16803.png',\n",
       " 'dataset/mnist_png/training/0\\\\16817.png',\n",
       " 'dataset/mnist_png/training/0\\\\1682.png',\n",
       " 'dataset/mnist_png/training/0\\\\16866.png',\n",
       " 'dataset/mnist_png/training/0\\\\16868.png',\n",
       " 'dataset/mnist_png/training/0\\\\16888.png',\n",
       " 'dataset/mnist_png/training/0\\\\169.png',\n",
       " 'dataset/mnist_png/training/0\\\\16903.png',\n",
       " 'dataset/mnist_png/training/0\\\\16905.png',\n",
       " 'dataset/mnist_png/training/0\\\\16921.png',\n",
       " 'dataset/mnist_png/training/0\\\\16928.png',\n",
       " 'dataset/mnist_png/training/0\\\\16941.png',\n",
       " 'dataset/mnist_png/training/0\\\\16961.png',\n",
       " 'dataset/mnist_png/training/0\\\\16975.png',\n",
       " 'dataset/mnist_png/training/0\\\\16987.png',\n",
       " 'dataset/mnist_png/training/0\\\\16997.png',\n",
       " 'dataset/mnist_png/training/0\\\\17003.png',\n",
       " 'dataset/mnist_png/training/0\\\\17009.png',\n",
       " 'dataset/mnist_png/training/0\\\\1701.png',\n",
       " 'dataset/mnist_png/training/0\\\\17025.png',\n",
       " 'dataset/mnist_png/training/0\\\\17048.png',\n",
       " 'dataset/mnist_png/training/0\\\\17049.png',\n",
       " 'dataset/mnist_png/training/0\\\\17050.png',\n",
       " 'dataset/mnist_png/training/0\\\\17051.png',\n",
       " 'dataset/mnist_png/training/0\\\\17064.png',\n",
       " 'dataset/mnist_png/training/0\\\\1709.png',\n",
       " 'dataset/mnist_png/training/0\\\\17095.png',\n",
       " 'dataset/mnist_png/training/0\\\\17106.png',\n",
       " 'dataset/mnist_png/training/0\\\\17108.png',\n",
       " 'dataset/mnist_png/training/0\\\\1712.png',\n",
       " 'dataset/mnist_png/training/0\\\\17122.png',\n",
       " 'dataset/mnist_png/training/0\\\\17124.png',\n",
       " 'dataset/mnist_png/training/0\\\\17133.png',\n",
       " 'dataset/mnist_png/training/0\\\\17134.png',\n",
       " 'dataset/mnist_png/training/0\\\\17149.png',\n",
       " 'dataset/mnist_png/training/0\\\\17169.png',\n",
       " 'dataset/mnist_png/training/0\\\\17187.png',\n",
       " 'dataset/mnist_png/training/0\\\\17200.png',\n",
       " 'dataset/mnist_png/training/0\\\\17210.png',\n",
       " 'dataset/mnist_png/training/0\\\\17214.png',\n",
       " 'dataset/mnist_png/training/0\\\\17223.png',\n",
       " 'dataset/mnist_png/training/0\\\\1723.png',\n",
       " 'dataset/mnist_png/training/0\\\\17236.png',\n",
       " 'dataset/mnist_png/training/0\\\\17245.png',\n",
       " 'dataset/mnist_png/training/0\\\\1725.png',\n",
       " 'dataset/mnist_png/training/0\\\\17285.png',\n",
       " 'dataset/mnist_png/training/0\\\\1729.png',\n",
       " 'dataset/mnist_png/training/0\\\\17293.png',\n",
       " 'dataset/mnist_png/training/0\\\\17304.png',\n",
       " 'dataset/mnist_png/training/0\\\\17314.png',\n",
       " 'dataset/mnist_png/training/0\\\\17322.png',\n",
       " 'dataset/mnist_png/training/0\\\\17327.png',\n",
       " 'dataset/mnist_png/training/0\\\\17334.png',\n",
       " 'dataset/mnist_png/training/0\\\\17335.png',\n",
       " 'dataset/mnist_png/training/0\\\\17349.png',\n",
       " 'dataset/mnist_png/training/0\\\\17360.png',\n",
       " 'dataset/mnist_png/training/0\\\\17365.png',\n",
       " 'dataset/mnist_png/training/0\\\\17376.png',\n",
       " 'dataset/mnist_png/training/0\\\\17379.png',\n",
       " 'dataset/mnist_png/training/0\\\\17381.png',\n",
       " 'dataset/mnist_png/training/0\\\\17392.png',\n",
       " 'dataset/mnist_png/training/0\\\\17411.png',\n",
       " 'dataset/mnist_png/training/0\\\\1742.png',\n",
       " 'dataset/mnist_png/training/0\\\\17449.png',\n",
       " 'dataset/mnist_png/training/0\\\\17452.png',\n",
       " 'dataset/mnist_png/training/0\\\\17454.png',\n",
       " 'dataset/mnist_png/training/0\\\\17458.png',\n",
       " 'dataset/mnist_png/training/0\\\\17462.png',\n",
       " 'dataset/mnist_png/training/0\\\\17466.png',\n",
       " 'dataset/mnist_png/training/0\\\\17476.png',\n",
       " 'dataset/mnist_png/training/0\\\\17479.png',\n",
       " 'dataset/mnist_png/training/0\\\\17485.png',\n",
       " 'dataset/mnist_png/training/0\\\\17503.png',\n",
       " 'dataset/mnist_png/training/0\\\\17508.png',\n",
       " 'dataset/mnist_png/training/0\\\\17518.png',\n",
       " 'dataset/mnist_png/training/0\\\\17519.png',\n",
       " 'dataset/mnist_png/training/0\\\\17534.png',\n",
       " 'dataset/mnist_png/training/0\\\\17535.png',\n",
       " 'dataset/mnist_png/training/0\\\\17539.png',\n",
       " 'dataset/mnist_png/training/0\\\\17549.png',\n",
       " 'dataset/mnist_png/training/0\\\\17581.png',\n",
       " 'dataset/mnist_png/training/0\\\\17585.png',\n",
       " 'dataset/mnist_png/training/0\\\\17603.png',\n",
       " 'dataset/mnist_png/training/0\\\\17606.png',\n",
       " 'dataset/mnist_png/training/0\\\\17611.png',\n",
       " 'dataset/mnist_png/training/0\\\\17620.png',\n",
       " 'dataset/mnist_png/training/0\\\\17625.png',\n",
       " 'dataset/mnist_png/training/0\\\\17648.png',\n",
       " 'dataset/mnist_png/training/0\\\\17655.png',\n",
       " 'dataset/mnist_png/training/0\\\\1769.png',\n",
       " 'dataset/mnist_png/training/0\\\\17693.png',\n",
       " 'dataset/mnist_png/training/0\\\\17709.png',\n",
       " 'dataset/mnist_png/training/0\\\\1771.png',\n",
       " 'dataset/mnist_png/training/0\\\\17725.png',\n",
       " 'dataset/mnist_png/training/0\\\\17726.png',\n",
       " 'dataset/mnist_png/training/0\\\\17738.png',\n",
       " 'dataset/mnist_png/training/0\\\\17741.png',\n",
       " 'dataset/mnist_png/training/0\\\\1775.png',\n",
       " 'dataset/mnist_png/training/0\\\\17755.png',\n",
       " 'dataset/mnist_png/training/0\\\\17761.png',\n",
       " 'dataset/mnist_png/training/0\\\\17770.png',\n",
       " 'dataset/mnist_png/training/0\\\\17779.png',\n",
       " 'dataset/mnist_png/training/0\\\\17797.png',\n",
       " 'dataset/mnist_png/training/0\\\\17828.png',\n",
       " 'dataset/mnist_png/training/0\\\\17838.png',\n",
       " 'dataset/mnist_png/training/0\\\\17871.png',\n",
       " 'dataset/mnist_png/training/0\\\\17877.png',\n",
       " 'dataset/mnist_png/training/0\\\\17881.png',\n",
       " 'dataset/mnist_png/training/0\\\\17905.png',\n",
       " 'dataset/mnist_png/training/0\\\\17923.png',\n",
       " 'dataset/mnist_png/training/0\\\\17930.png',\n",
       " 'dataset/mnist_png/training/0\\\\17932.png',\n",
       " 'dataset/mnist_png/training/0\\\\17941.png',\n",
       " 'dataset/mnist_png/training/0\\\\17956.png',\n",
       " 'dataset/mnist_png/training/0\\\\1796.png',\n",
       " 'dataset/mnist_png/training/0\\\\17968.png',\n",
       " 'dataset/mnist_png/training/0\\\\1797.png',\n",
       " 'dataset/mnist_png/training/0\\\\17977.png',\n",
       " 'dataset/mnist_png/training/0\\\\1798.png',\n",
       " 'dataset/mnist_png/training/0\\\\17987.png',\n",
       " 'dataset/mnist_png/training/0\\\\18022.png',\n",
       " 'dataset/mnist_png/training/0\\\\18028.png',\n",
       " 'dataset/mnist_png/training/0\\\\18029.png',\n",
       " 'dataset/mnist_png/training/0\\\\18042.png',\n",
       " 'dataset/mnist_png/training/0\\\\18055.png',\n",
       " 'dataset/mnist_png/training/0\\\\18064.png',\n",
       " 'dataset/mnist_png/training/0\\\\18073.png',\n",
       " 'dataset/mnist_png/training/0\\\\18093.png',\n",
       " 'dataset/mnist_png/training/0\\\\18102.png',\n",
       " 'dataset/mnist_png/training/0\\\\18112.png',\n",
       " 'dataset/mnist_png/training/0\\\\18113.png',\n",
       " 'dataset/mnist_png/training/0\\\\18124.png',\n",
       " 'dataset/mnist_png/training/0\\\\18132.png',\n",
       " 'dataset/mnist_png/training/0\\\\18137.png',\n",
       " 'dataset/mnist_png/training/0\\\\18159.png',\n",
       " 'dataset/mnist_png/training/0\\\\18171.png',\n",
       " 'dataset/mnist_png/training/0\\\\18178.png',\n",
       " 'dataset/mnist_png/training/0\\\\1819.png',\n",
       " 'dataset/mnist_png/training/0\\\\18208.png',\n",
       " 'dataset/mnist_png/training/0\\\\18212.png',\n",
       " 'dataset/mnist_png/training/0\\\\18219.png',\n",
       " 'dataset/mnist_png/training/0\\\\18222.png',\n",
       " 'dataset/mnist_png/training/0\\\\18232.png',\n",
       " 'dataset/mnist_png/training/0\\\\18247.png',\n",
       " 'dataset/mnist_png/training/0\\\\18253.png',\n",
       " 'dataset/mnist_png/training/0\\\\18263.png',\n",
       " 'dataset/mnist_png/training/0\\\\18273.png',\n",
       " 'dataset/mnist_png/training/0\\\\18278.png',\n",
       " 'dataset/mnist_png/training/0\\\\1828.png',\n",
       " 'dataset/mnist_png/training/0\\\\18284.png',\n",
       " 'dataset/mnist_png/training/0\\\\18295.png',\n",
       " 'dataset/mnist_png/training/0\\\\18301.png',\n",
       " 'dataset/mnist_png/training/0\\\\18319.png',\n",
       " 'dataset/mnist_png/training/0\\\\18324.png',\n",
       " 'dataset/mnist_png/training/0\\\\18337.png',\n",
       " 'dataset/mnist_png/training/0\\\\18357.png',\n",
       " 'dataset/mnist_png/training/0\\\\1837.png',\n",
       " 'dataset/mnist_png/training/0\\\\18371.png',\n",
       " 'dataset/mnist_png/training/0\\\\18412.png',\n",
       " 'dataset/mnist_png/training/0\\\\18424.png',\n",
       " 'dataset/mnist_png/training/0\\\\18425.png',\n",
       " 'dataset/mnist_png/training/0\\\\18443.png',\n",
       " 'dataset/mnist_png/training/0\\\\18461.png',\n",
       " 'dataset/mnist_png/training/0\\\\18462.png',\n",
       " 'dataset/mnist_png/training/0\\\\18464.png',\n",
       " 'dataset/mnist_png/training/0\\\\18471.png',\n",
       " 'dataset/mnist_png/training/0\\\\18486.png',\n",
       " 'dataset/mnist_png/training/0\\\\18505.png',\n",
       " 'dataset/mnist_png/training/0\\\\18507.png',\n",
       " 'dataset/mnist_png/training/0\\\\18509.png',\n",
       " 'dataset/mnist_png/training/0\\\\18515.png',\n",
       " 'dataset/mnist_png/training/0\\\\18538.png',\n",
       " 'dataset/mnist_png/training/0\\\\18543.png',\n",
       " 'dataset/mnist_png/training/0\\\\18563.png',\n",
       " 'dataset/mnist_png/training/0\\\\18564.png',\n",
       " 'dataset/mnist_png/training/0\\\\1857.png',\n",
       " 'dataset/mnist_png/training/0\\\\18572.png',\n",
       " 'dataset/mnist_png/training/0\\\\18581.png',\n",
       " 'dataset/mnist_png/training/0\\\\18586.png',\n",
       " 'dataset/mnist_png/training/0\\\\18590.png',\n",
       " 'dataset/mnist_png/training/0\\\\18599.png',\n",
       " 'dataset/mnist_png/training/0\\\\18603.png',\n",
       " 'dataset/mnist_png/training/0\\\\18606.png',\n",
       " 'dataset/mnist_png/training/0\\\\18641.png',\n",
       " 'dataset/mnist_png/training/0\\\\18645.png',\n",
       " 'dataset/mnist_png/training/0\\\\18650.png',\n",
       " 'dataset/mnist_png/training/0\\\\18658.png',\n",
       " 'dataset/mnist_png/training/0\\\\18665.png',\n",
       " 'dataset/mnist_png/training/0\\\\1868.png',\n",
       " 'dataset/mnist_png/training/0\\\\18703.png',\n",
       " 'dataset/mnist_png/training/0\\\\18712.png',\n",
       " 'dataset/mnist_png/training/0\\\\18715.png',\n",
       " 'dataset/mnist_png/training/0\\\\18718.png',\n",
       " 'dataset/mnist_png/training/0\\\\18725.png',\n",
       " 'dataset/mnist_png/training/0\\\\18737.png',\n",
       " 'dataset/mnist_png/training/0\\\\18743.png',\n",
       " 'dataset/mnist_png/training/0\\\\18750.png',\n",
       " 'dataset/mnist_png/training/0\\\\18759.png',\n",
       " 'dataset/mnist_png/training/0\\\\1876.png',\n",
       " 'dataset/mnist_png/training/0\\\\1877.png',\n",
       " 'dataset/mnist_png/training/0\\\\18779.png',\n",
       " 'dataset/mnist_png/training/0\\\\18794.png',\n",
       " 'dataset/mnist_png/training/0\\\\18799.png',\n",
       " 'dataset/mnist_png/training/0\\\\18832.png',\n",
       " 'dataset/mnist_png/training/0\\\\18836.png',\n",
       " 'dataset/mnist_png/training/0\\\\18837.png',\n",
       " 'dataset/mnist_png/training/0\\\\18858.png',\n",
       " 'dataset/mnist_png/training/0\\\\18868.png',\n",
       " 'dataset/mnist_png/training/0\\\\18878.png',\n",
       " 'dataset/mnist_png/training/0\\\\18881.png',\n",
       " 'dataset/mnist_png/training/0\\\\18889.png',\n",
       " 'dataset/mnist_png/training/0\\\\18892.png',\n",
       " 'dataset/mnist_png/training/0\\\\18893.png',\n",
       " 'dataset/mnist_png/training/0\\\\18896.png',\n",
       " 'dataset/mnist_png/training/0\\\\18909.png',\n",
       " 'dataset/mnist_png/training/0\\\\18914.png',\n",
       " 'dataset/mnist_png/training/0\\\\18921.png',\n",
       " 'dataset/mnist_png/training/0\\\\18923.png',\n",
       " 'dataset/mnist_png/training/0\\\\18926.png',\n",
       " 'dataset/mnist_png/training/0\\\\18936.png',\n",
       " 'dataset/mnist_png/training/0\\\\1897.png',\n",
       " 'dataset/mnist_png/training/0\\\\18970.png',\n",
       " 'dataset/mnist_png/training/0\\\\18989.png',\n",
       " 'dataset/mnist_png/training/0\\\\18991.png',\n",
       " 'dataset/mnist_png/training/0\\\\19004.png',\n",
       " 'dataset/mnist_png/training/0\\\\19006.png',\n",
       " 'dataset/mnist_png/training/0\\\\19008.png',\n",
       " 'dataset/mnist_png/training/0\\\\19009.png',\n",
       " 'dataset/mnist_png/training/0\\\\19012.png',\n",
       " 'dataset/mnist_png/training/0\\\\19027.png',\n",
       " 'dataset/mnist_png/training/0\\\\19038.png',\n",
       " 'dataset/mnist_png/training/0\\\\1904.png',\n",
       " 'dataset/mnist_png/training/0\\\\19049.png',\n",
       " 'dataset/mnist_png/training/0\\\\19060.png',\n",
       " 'dataset/mnist_png/training/0\\\\19061.png',\n",
       " 'dataset/mnist_png/training/0\\\\1907.png',\n",
       " 'dataset/mnist_png/training/0\\\\19072.png',\n",
       " 'dataset/mnist_png/training/0\\\\19074.png',\n",
       " 'dataset/mnist_png/training/0\\\\19080.png',\n",
       " 'dataset/mnist_png/training/0\\\\19082.png',\n",
       " 'dataset/mnist_png/training/0\\\\19104.png',\n",
       " 'dataset/mnist_png/training/0\\\\19117.png',\n",
       " 'dataset/mnist_png/training/0\\\\19119.png',\n",
       " 'dataset/mnist_png/training/0\\\\19127.png',\n",
       " 'dataset/mnist_png/training/0\\\\19133.png',\n",
       " 'dataset/mnist_png/training/0\\\\19156.png',\n",
       " 'dataset/mnist_png/training/0\\\\1916.png',\n",
       " 'dataset/mnist_png/training/0\\\\19166.png',\n",
       " 'dataset/mnist_png/training/0\\\\19171.png',\n",
       " 'dataset/mnist_png/training/0\\\\19179.png',\n",
       " 'dataset/mnist_png/training/0\\\\19180.png',\n",
       " 'dataset/mnist_png/training/0\\\\19189.png',\n",
       " 'dataset/mnist_png/training/0\\\\192.png',\n",
       " 'dataset/mnist_png/training/0\\\\19203.png',\n",
       " 'dataset/mnist_png/training/0\\\\19209.png',\n",
       " ...]"
      ]
     },
     "execution_count": 10,
     "metadata": {},
     "output_type": "execute_result"
    }
   ],
   "source": [
    "# 0 label\n",
    "# '*' 모두 가져오기\n",
    "glob('dataset/mnist_png/training/0/*.png')"
   ]
  },
  {
   "cell_type": "code",
   "execution_count": 11,
   "metadata": {},
   "outputs": [],
   "source": [
    "# 0~9 label\n",
    "data_paths = glob('dataset/mnist_png/training/*/*.png')"
   ]
  },
  {
   "cell_type": "code",
   "execution_count": 13,
   "metadata": {},
   "outputs": [
    {
     "data": {
      "text/plain": [
       "60000"
      ]
     },
     "execution_count": 13,
     "metadata": {},
     "output_type": "execute_result"
    }
   ],
   "source": [
    "len(data_paths)"
   ]
  },
  {
   "cell_type": "markdown",
   "metadata": {},
   "source": [
    "### 2. label 개수 확인"
   ]
  },
  {
   "cell_type": "markdown",
   "metadata": {},
   "source": [
    "- label 0의 데이터 개수 확인"
   ]
  },
  {
   "cell_type": "code",
   "execution_count": 17,
   "metadata": {},
   "outputs": [
    {
     "name": "stdout",
     "output_type": "stream",
     "text": [
      "10\n"
     ]
    },
    {
     "data": {
      "text/plain": [
       "['0', '1', '2', '3', '4', '5', '6', '7', '8', '9']"
      ]
     },
     "execution_count": 17,
     "metadata": {},
     "output_type": "execute_result"
    }
   ],
   "source": [
    "label_nums = os.listdir('dataset/mnist_png/training/')\n",
    "print(len(label_nums))\n",
    "label_nums"
   ]
  },
  {
   "cell_type": "markdown",
   "metadata": {},
   "source": [
    "- 데이터 별 개수 비교"
   ]
  },
  {
   "cell_type": "code",
   "execution_count": 18,
   "metadata": {},
   "outputs": [],
   "source": [
    "num_dataset = []\n",
    "\n",
    "for lbl_n in label_nums:\n",
    "    data_per_class = os.listdir('dataset/mnist_png/training/' + lbl_n)\n",
    "    num_dataset.append(len(data_per_class))"
   ]
  },
  {
   "cell_type": "code",
   "execution_count": 19,
   "metadata": {},
   "outputs": [
    {
     "data": {
      "text/plain": [
       "[5923, 6742, 5958, 6131, 5842, 5421, 5918, 6265, 5851, 5949]"
      ]
     },
     "execution_count": 19,
     "metadata": {},
     "output_type": "execute_result"
    }
   ],
   "source": [
    "num_dataset"
   ]
  },
  {
   "cell_type": "code",
   "execution_count": 20,
   "metadata": {},
   "outputs": [
    {
     "data": {
      "text/plain": [
       "['0', '1', '2', '3', '4', '5', '6', '7', '8', '9']"
      ]
     },
     "execution_count": 20,
     "metadata": {},
     "output_type": "execute_result"
    }
   ],
   "source": [
    "label_nums"
   ]
  },
  {
   "cell_type": "code",
   "execution_count": 22,
   "metadata": {},
   "outputs": [
    {
     "data": {
      "image/png": "[encoded data removed]",
      "text/plain": [
       "<Figure size 432x288 with 1 Axes>"
      ]
     },
     "metadata": {
      "needs_background": "light"
     },
     "output_type": "display_data"
    }
   ],
   "source": [
    "plt.bar(label_nums, num_dataset)\n",
    "plt.title('Number of Dataset per Class')\n",
    "plt.show()"
   ]
  },
  {
   "cell_type": "markdown",
   "metadata": {},
   "source": [
    "### 3. Image 확인하기"
   ]
  },
  {
   "cell_type": "markdown",
   "metadata": {},
   "source": [
    "- Pillow로 열기"
   ]
  },
  {
   "cell_type": "code",
   "execution_count": 25,
   "metadata": {},
   "outputs": [
    {
     "data": {
      "text/plain": [
       "'dataset/mnist_png/training\\\\0\\\\1.png'"
      ]
     },
     "execution_count": 25,
     "metadata": {},
     "output_type": "execute_result"
    }
   ],
   "source": [
    "path = data_paths[0]\n",
    "path"
   ]
  },
  {
   "cell_type": "code",
   "execution_count": 26,
   "metadata": {},
   "outputs": [],
   "source": [
    "image_pil = Image.open(path)\n",
    "image = np.array(image_pil)"
   ]
  },
  {
   "cell_type": "code",
   "execution_count": 27,
   "metadata": {},
   "outputs": [
    {
     "data": {
      "text/plain": [
       "(28, 28)"
      ]
     },
     "execution_count": 27,
     "metadata": {},
     "output_type": "execute_result"
    }
   ],
   "source": [
    "image.shape# channel X (28,28)"
   ]
  },
  {
   "cell_type": "code",
   "execution_count": 28,
   "metadata": {},
   "outputs": [
    {
     "data": {
      "image/png": "[encoded data removed]",
      "text/plain": [
       "<Figure size 432x288 with 1 Axes>"
      ]
     },
     "metadata": {
      "needs_background": "light"
     },
     "output_type": "display_data"
    }
   ],
   "source": [
    "plt.imshow(image,'gray') \n",
    "plt.show()"
   ]
  },
  {
   "cell_type": "markdown",
   "metadata": {},
   "source": [
    "- Tensorflow로 열기"
   ]
  },
  {
   "cell_type": "code",
   "execution_count": 29,
   "metadata": {},
   "outputs": [],
   "source": [
    "gfile = tf.io.read_file(path)\n",
    "image = tf.io.decode_image(gfile)"
   ]
  },
  {
   "cell_type": "code",
   "execution_count": 30,
   "metadata": {},
   "outputs": [
    {
     "data": {
      "text/plain": [
       "TensorShape([28, 28, 1])"
      ]
     },
     "execution_count": 30,
     "metadata": {},
     "output_type": "execute_result"
    }
   ],
   "source": [
    "image.shape # channel O"
   ]
  },
  {
   "cell_type": "code",
   "execution_count": 31,
   "metadata": {},
   "outputs": [
    {
     "data": {
      "image/png": "[encoded data removed]",
      "text/plain": [
       "<Figure size 432x288 with 1 Axes>"
      ]
     },
     "metadata": {
      "needs_background": "light"
     },
     "output_type": "display_data"
    }
   ],
   "source": [
    "#plt.imshow(image,'gray')\n",
    "plt.imshow(image[:,:,0], 'gray')\n",
    "plt.show()"
   ]
  },
  {
   "cell_type": "markdown",
   "metadata": {},
   "source": [
    "### 4. Label 얻기"
   ]
  },
  {
   "cell_type": "code",
   "execution_count": 32,
   "metadata": {},
   "outputs": [
    {
     "data": {
      "text/plain": [
       "'dataset/mnist_png/training\\\\0\\\\1.png'"
      ]
     },
     "execution_count": 32,
     "metadata": {},
     "output_type": "execute_result"
    }
   ],
   "source": [
    "path"
   ]
  },
  {
   "cell_type": "code",
   "execution_count": 33,
   "metadata": {},
   "outputs": [
    {
     "data": {
      "text/plain": [
       "['dataset/mnist_png/training', '0', '1.png']"
      ]
     },
     "execution_count": 33,
     "metadata": {},
     "output_type": "execute_result"
    }
   ],
   "source": [
    "path.split('\\\\')"
   ]
  },
  {
   "cell_type": "code",
   "execution_count": 34,
   "metadata": {},
   "outputs": [
    {
     "data": {
      "text/plain": [
       "0"
      ]
     },
     "execution_count": 34,
     "metadata": {},
     "output_type": "execute_result"
    }
   ],
   "source": [
    "label = path.split('\\\\')[1]\n",
    "int(label)"
   ]
  },
  {
   "cell_type": "code",
   "execution_count": 35,
   "metadata": {},
   "outputs": [],
   "source": [
    "def get_label(path):\n",
    "    class_name = path.split('\\\\')[1]\n",
    "    label = int(class_name)\n",
    "    return label"
   ]
  },
  {
   "cell_type": "code",
   "execution_count": 37,
   "metadata": {},
   "outputs": [
    {
     "data": {
      "text/plain": [
       "0"
      ]
     },
     "execution_count": 37,
     "metadata": {},
     "output_type": "execute_result"
    }
   ],
   "source": [
    "get_label(path)"
   ]
  },
  {
   "cell_type": "markdown",
   "metadata": {},
   "source": [
    "### 5. Image size 파악"
   ]
  },
  {
   "cell_type": "code",
   "execution_count": 38,
   "metadata": {},
   "outputs": [],
   "source": [
    "from tqdm import tqdm_notebook"
   ]
  },
  {
   "cell_type": "code",
   "execution_count": 39,
   "metadata": {},
   "outputs": [],
   "source": [
    "heights = []\n",
    "widths = []"
   ]
  },
  {
   "cell_type": "code",
   "execution_count": 41,
   "metadata": {},
   "outputs": [
    {
     "data": {
      "text/plain": [
       "60000"
      ]
     },
     "execution_count": 41,
     "metadata": {},
     "output_type": "execute_result"
    }
   ],
   "source": [
    "# file 개수\n",
    "len(data_paths)"
   ]
  },
  {
   "cell_type": "code",
   "execution_count": 43,
   "metadata": {},
   "outputs": [
    {
     "name": "stdout",
     "output_type": "stream",
     "text": [
      "28\n",
      "28\n"
     ]
    }
   ],
   "source": [
    "img_pil = Image.open(path)\n",
    "image = np.array(img_pil)\n",
    "h,w = image.shape\n",
    "print(h)\n",
    "print(w)"
   ]
  },
  {
   "cell_type": "code",
   "execution_count": 44,
   "metadata": {},
   "outputs": [
    {
     "data": {
      "application/vnd.jupyter.widget-view+json": {
       "model_id": "d21553d82aa24ea9843fbe21aaf4c31b",
       "version_major": 2,
       "version_minor": 0
      },
      "text/plain": [
       "HBox(children=(IntProgress(value=0, max=60000), HTML(value='')))"
      ]
     },
     "metadata": {},
     "output_type": "display_data"
    },
    {
     "name": "stdout",
     "output_type": "stream",
     "text": [
      "\n"
     ]
    }
   ],
   "source": [
    "for path in tqdm_notebook(data_paths):\n",
    "    img_pil = Image.open(path)\n",
    "    image = np.array(img_pil)\n",
    "    h,w = image.shape\n",
    "    \n",
    "    heights.append(h)\n",
    "    widths.append(w)"
   ]
  },
  {
   "cell_type": "markdown",
   "metadata": {},
   "source": [
    "- 모든 사진의 size가 같다! (28*28)"
   ]
  },
  {
   "cell_type": "code",
   "execution_count": 45,
   "metadata": {},
   "outputs": [
    {
     "data": {
      "text/plain": [
       "array([28])"
      ]
     },
     "execution_count": 45,
     "metadata": {},
     "output_type": "execute_result"
    }
   ],
   "source": [
    "np.unique(heights)"
   ]
  },
  {
   "cell_type": "code",
   "execution_count": 46,
   "metadata": {},
   "outputs": [
    {
     "data": {
      "text/plain": [
       "array([28])"
      ]
     },
     "execution_count": 46,
     "metadata": {},
     "output_type": "execute_result"
    }
   ],
   "source": [
    "np.unique(widths)"
   ]
  },
  {
   "cell_type": "code",
   "execution_count": 49,
   "metadata": {},
   "outputs": [
    {
     "data": {
      "image/png": "[encoded data removed]",
      "text/plain": [
       "<Figure size 1440x720 with 2 Axes>"
      ]
     },
     "metadata": {
      "needs_background": "light"
     },
     "output_type": "display_data"
    }
   ],
   "source": [
    "plt.figure(figsize=(20,10))\n",
    "\n",
    "plt.subplot(121)\n",
    "plt.hist(heights)\n",
    "plt.title('Heights')\n",
    "plt.axvline(np.mean(heights), color='r', linestyle='dashed', linewidth=2)\n",
    "\n",
    "plt.subplot(122)\n",
    "plt.hist(widths)\n",
    "plt.title('Widths')\n",
    "plt.axvline(np.mean(widths), color='r', linestyle='dashed', linewidth=2)\n",
    "\n",
    "plt.show()"
   ]
  },
  {
   "cell_type": "code",
   "execution_count": null,
   "metadata": {},
   "outputs": [],
   "source": []
  }
 ],
 "metadata": {
  "kernelspec": {
   "display_name": "Python 3",
   "language": "python",
   "name": "python3"
  },
  "language_info": {
   "codemirror_mode": {
    "name": "ipython",
    "version": 3
   },
   "file_extension": ".py",
   "mimetype": "text/x-python",
   "name": "python",
   "nbconvert_exporter": "python",
   "pygments_lexer": "ipython3",
   "version": "3.6.9"
  }
 },
 "nbformat": 4,
 "nbformat_minor": 2
}
