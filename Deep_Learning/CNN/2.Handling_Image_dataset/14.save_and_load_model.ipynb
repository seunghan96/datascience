{
 "cells": [
  {
   "cell_type": "markdown",
   "metadata": {},
   "source": [
    "# TensorFlow 2.0"
   ]
  },
  {
   "cell_type": "code",
   "execution_count": 1,
   "metadata": {},
   "outputs": [],
   "source": [
    "import os\n",
    "from glob import glob\n",
    "from datetime import datetime\n",
    "\n",
    "import numpy as np\n",
    "\n",
    "import tensorflow as tf\n",
    "from tensorflow.keras import layers\n",
    "\n",
    "from tensorflow.keras import datasets \n",
    "\n",
    "import matplotlib.pyplot as plt\n",
    "\n",
    "%load_ext tensorboard\n",
    "%matplotlib inline"
   ]
  },
  {
   "cell_type": "markdown",
   "metadata": {},
   "source": [
    "## Hyperparameter Tunning"
   ]
  },
  {
   "cell_type": "code",
   "execution_count": 2,
   "metadata": {},
   "outputs": [],
   "source": [
    "num_epochs = 5\n",
    "batch_size = 32\n",
    "\n",
    "learning_rate = 0.001\n",
    "\n",
    "dropout_rate = 0.5\n",
    "\n",
    "input_shape = (32, 32, 3)\n",
    "num_classes = 10"
   ]
  },
  {
   "cell_type": "markdown",
   "metadata": {},
   "source": [
    "## Build Model"
   ]
  },
  {
   "cell_type": "code",
   "execution_count": 3,
   "metadata": {},
   "outputs": [],
   "source": [
    "inputs = layers.Input(input_shape)\n",
    "\n",
    "net = layers.Conv2D(32, (3, 3), padding='SAME')(inputs)\n",
    "net = layers.Activation('relu')(net)\n",
    "net = layers.Conv2D(32, (3, 3), padding='SAME')(net)\n",
    "net = layers.Activation('relu')(net)\n",
    "net = layers.MaxPooling2D(pool_size=(2, 2))(net)\n",
    "net = layers.Dropout(dropout_rate)(net)\n",
    "\n",
    "net = layers.Conv2D(64, (3, 3), padding='SAME')(net)\n",
    "net = layers.Activation('relu')(net)\n",
    "net = layers.Conv2D(64, (3, 3), padding='SAME')(net)\n",
    "net = layers.Activation('relu')(net)\n",
    "net = layers.MaxPooling2D(pool_size=(2, 2))(net)\n",
    "net = layers.Dropout(dropout_rate)(net)\n",
    "\n",
    "net = layers.Flatten()(net)\n",
    "net = layers.Dense(512)(net)\n",
    "net = layers.Activation('relu')(net)\n",
    "net = layers.Dropout(dropout_rate)(net)\n",
    "net = layers.Dense(num_classes)(net)\n",
    "net = layers.Activation('softmax')(net)\n",
    "\n",
    "model = tf.keras.Model(inputs=inputs, outputs=net, name='Basic_CNN')"
   ]
  },
  {
   "cell_type": "code",
   "execution_count": 4,
   "metadata": {},
   "outputs": [],
   "source": [
    "# Model is the full model w/o custom layers\n",
    "model.compile(optimizer=tf.keras.optimizers.Adam(learning_rate),  # Optimization\n",
    "              loss='sparse_categorical_crossentropy',  # Loss Function \n",
    "              metrics=['accuracy'])  # Metrics / Accuracy"
   ]
  },
  {
   "cell_type": "markdown",
   "metadata": {},
   "source": [
    "# Data Preprocess"
   ]
  },
  {
   "cell_type": "code",
   "execution_count": 5,
   "metadata": {},
   "outputs": [],
   "source": [
    "train_paths = glob('dataset/cifar/train/*.png')[:100]\n",
    "test_paths = glob('dataset/cifar/test/*.png')[:100]"
   ]
  },
  {
   "cell_type": "code",
   "execution_count": 6,
   "metadata": {},
   "outputs": [],
   "source": [
    "def get_class_name(path):\n",
    "    return path.split('_')[-1].replace('.png', '')"
   ]
  },
  {
   "cell_type": "code",
   "execution_count": 7,
   "metadata": {},
   "outputs": [],
   "source": [
    "train_labels = [get_class_name(path) for path in train_paths]\n",
    "class_names = np.unique(train_labels)"
   ]
  },
  {
   "cell_type": "code",
   "execution_count": 8,
   "metadata": {},
   "outputs": [],
   "source": [
    "def get_label(path):\n",
    "    fname = tf.strings.split(path, '_')[-1]\n",
    "    lbl_name = tf.strings.regex_replace(fname, '.png', '')\n",
    "    onehot = tf.cast(lbl_name == class_names, tf.uint8)\n",
    "    return tf.argmax(onehot)  # 이번에는 onehot이 아닌 label 번호로"
   ]
  },
  {
   "cell_type": "code",
   "execution_count": 9,
   "metadata": {},
   "outputs": [],
   "source": [
    "def load_image_label(path):\n",
    "    gfile = tf.io.read_file(path)\n",
    "    image = tf.io.decode_image(gfile)\n",
    "    image = tf.cast(image, tf.float32) / 255.  # rescale\n",
    "    \n",
    "    label = get_label(path)\n",
    "    return image, label"
   ]
  },
  {
   "cell_type": "code",
   "execution_count": 10,
   "metadata": {},
   "outputs": [],
   "source": [
    "def image_preprocess(image, label):\n",
    "    image = tf.image.random_flip_up_down(image)\n",
    "    image = tf.image.random_flip_left_right(image)\n",
    "    return image, label"
   ]
  },
  {
   "cell_type": "code",
   "execution_count": 11,
   "metadata": {},
   "outputs": [],
   "source": [
    "AUTOTUNE = tf.data.experimental.AUTOTUNE"
   ]
  },
  {
   "cell_type": "code",
   "execution_count": 12,
   "metadata": {
    "scrolled": false
   },
   "outputs": [],
   "source": [
    "train_dataset = tf.data.Dataset.from_tensor_slices(train_paths)\n",
    "train_dataset = train_dataset.map(load_image_label, num_parallel_calls=AUTOTUNE)\n",
    "train_dataset = train_dataset.map(image_preprocess, num_parallel_calls=AUTOTUNE)\n",
    "train_dataset = train_dataset.batch(batch_size)\n",
    "#train_dataset = train_dataset.shuffle(buffer_size=len(train_paths))\n",
    "train_dataset = train_dataset.repeat()"
   ]
  },
  {
   "cell_type": "code",
   "execution_count": 13,
   "metadata": {},
   "outputs": [],
   "source": [
    "test_dataset = tf.data.Dataset.from_tensor_slices(test_paths)\n",
    "test_dataset = test_dataset.map(load_image_label, num_parallel_calls=AUTOTUNE)\n",
    "test_dataset = test_dataset.batch(batch_size)\n",
    "test_dataset = test_dataset.repeat()"
   ]
  },
  {
   "cell_type": "markdown",
   "metadata": {},
   "source": [
    "# Checkpoint"
   ]
  },
  {
   "cell_type": "code",
   "execution_count": 14,
   "metadata": {},
   "outputs": [],
   "source": [
    "save_path = 'checkpoints'"
   ]
  },
  {
   "cell_type": "code",
   "execution_count": 15,
   "metadata": {},
   "outputs": [],
   "source": [
    "checkpoint = tf.keras.callbacks.ModelCheckpoint(save_path,\n",
    "                                                monitor='val_acc', verbose=1,\n",
    "                                                save_best_only=True, mode='max')"
   ]
  },
  {
   "cell_type": "markdown",
   "metadata": {},
   "source": [
    "## Training"
   ]
  },
  {
   "cell_type": "markdown",
   "metadata": {},
   "source": [
    "http://localhost:6006"
   ]
  },
  {
   "cell_type": "code",
   "execution_count": 16,
   "metadata": {},
   "outputs": [
    {
     "name": "stdout",
     "output_type": "stream",
     "text": [
      "Epoch 1/5\n",
      "WARNING:tensorflow:From C:\\Users\\samsung\\Anaconda3\\lib\\site-packages\\tensorflow_core\\python\\ops\\math_grad.py:1394: where (from tensorflow.python.ops.array_ops) is deprecated and will be removed in a future version.\n",
      "Instructions for updating:\n",
      "Use tf.where in 2.0, which has the same broadcast rule as np.where\n",
      "2/3 [===================>..........] - ETA: 0s - loss: 2.4084 - accuracy: 0.0938WARNING:tensorflow:Can save best model only with val_acc available, skipping.\n",
      "3/3 [==============================] - 2s 590ms/step - loss: 2.3959 - accuracy: 0.0938 - val_loss: 2.3032 - val_accuracy: 0.0729\n",
      "Epoch 2/5\n",
      "2/3 [===================>..........] - ETA: 0s - loss: 2.3307 - accuracy: 0.1111    WARNING:tensorflow:Can save best model only with val_acc available, skipping.\n",
      "3/3 [==============================] - 2s 593ms/step - loss: 2.3029 - accuracy: 0.1176 - val_loss: 2.3173 - val_accuracy: 0.0729\n",
      "Epoch 3/5\n",
      "2/3 [===================>..........] - ETA: 0s - loss: 2.2611 - accuracy: 0.2222WARNING:tensorflow:Can save best model only with val_acc available, skipping.\n",
      "3/3 [==============================] - 1s 456ms/step - loss: 2.2772 - accuracy: 0.1912 - val_loss: 2.3270 - val_accuracy: 0.0938\n",
      "Epoch 4/5\n",
      "2/3 [===================>..........] - ETA: 0s - loss: 2.2792 - accuracy: 0.1250WARNING:tensorflow:Can save best model only with val_acc available, skipping.\n",
      "3/3 [==============================] - 1s 417ms/step - loss: 2.2121 - accuracy: 0.1471 - val_loss: 2.3421 - val_accuracy: 0.0729\n",
      "Epoch 5/5\n",
      "2/3 [===================>..........] - ETA: 0s - loss: 2.3105 - accuracy: 0.0938WARNING:tensorflow:Can save best model only with val_acc available, skipping.\n",
      "3/3 [==============================] - 1s 496ms/step - loss: 2.3191 - accuracy: 0.0833 - val_loss: 2.3602 - val_accuracy: 0.0729\n"
     ]
    }
   ],
   "source": [
    "steps_per_epoch = len(train_paths) // batch_size\n",
    "validation_steps = len(test_paths) // batch_size\n",
    "\n",
    "history = model.fit_generator(\n",
    "    train_dataset,\n",
    "    steps_per_epoch=steps_per_epoch,\n",
    "    validation_data=test_dataset,\n",
    "    validation_steps=validation_steps,\n",
    "    epochs=num_epochs, \n",
    "    callbacks=[checkpoint]\n",
    ")"
   ]
  },
  {
   "cell_type": "markdown",
   "metadata": {},
   "source": [
    "# Saving Model \n",
    ">### model 전체 저장\n",
    "- model.save(경로)\n",
    "- model = tf.keras.models.load_model(경로)\n",
    "- 경로 명이 한글이 없도록!"
   ]
  },
  {
   "cell_type": "code",
   "execution_count": 17,
   "metadata": {},
   "outputs": [],
   "source": [
    "save_path = 'my_model.h5'"
   ]
  },
  {
   "cell_type": "code",
   "execution_count": 18,
   "metadata": {},
   "outputs": [],
   "source": [
    "model.save(save_path, include_optimizer=True)"
   ]
  },
  {
   "cell_type": "code",
   "execution_count": 19,
   "metadata": {},
   "outputs": [],
   "source": [
    "model = tf.keras.models.load_model('my_model.h5')"
   ]
  },
  {
   "cell_type": "markdown",
   "metadata": {},
   "source": [
    "# Saving Model - 2\n",
    ">### model의 weight / architecture 저장\n",
    "- model.save_weights\n",
    "- model.to_json()"
   ]
  },
  {
   "cell_type": "code",
   "execution_count": 20,
   "metadata": {},
   "outputs": [],
   "source": [
    "# Save the weights\n",
    "model.save_weights('model_weights.h5')\n",
    "\n",
    "# Save the model architecture\n",
    "with open('model_architecture.json', 'w') as f:\n",
    "    f.write(model.to_json())"
   ]
  },
  {
   "cell_type": "code",
   "execution_count": 21,
   "metadata": {},
   "outputs": [],
   "source": [
    "from tensorflow.keras.models import model_from_json\n",
    "\n",
    "# Model reconstruction from JSON file\n",
    "with open('model_architecture.json', 'r') as f:\n",
    "    model = model_from_json(f.read())\n",
    "\n",
    "# Load weights into the new model\n",
    "model.load_weights('model_weights.h5')"
   ]
  },
  {
   "cell_type": "markdown",
   "metadata": {},
   "source": [
    "# model.h5 들여다보기"
   ]
  },
  {
   "cell_type": "code",
   "execution_count": 22,
   "metadata": {},
   "outputs": [],
   "source": [
    "import h5py\n",
    "\n",
    "model_file = h5py.File('my_model.h5','r+')    "
   ]
  },
  {
   "cell_type": "code",
   "execution_count": 23,
   "metadata": {},
   "outputs": [
    {
     "data": {
      "text/plain": [
       "<KeysViewHDF5 ['model_weights', 'optimizer_weights']>"
      ]
     },
     "execution_count": 23,
     "metadata": {},
     "output_type": "execute_result"
    }
   ],
   "source": [
    "model_file.keys()"
   ]
  },
  {
   "cell_type": "code",
   "execution_count": 24,
   "metadata": {},
   "outputs": [
    {
     "data": {
      "text/plain": [
       "<KeysViewHDF5 ['activation', 'activation_1', 'activation_2', 'activation_3', 'activation_4', 'activation_5', 'conv2d', 'conv2d_1', 'conv2d_2', 'conv2d_3', 'dense', 'dense_1', 'dropout', 'dropout_1', 'dropout_2', 'flatten', 'input_1', 'max_pooling2d', 'max_pooling2d_1']>"
      ]
     },
     "execution_count": 24,
     "metadata": {},
     "output_type": "execute_result"
    }
   ],
   "source": [
    "model_file['model_weights'].keys()"
   ]
  },
  {
   "cell_type": "code",
   "execution_count": 29,
   "metadata": {},
   "outputs": [
    {
     "data": {
      "text/plain": [
       "<HDF5 group \"/model_weights/conv2d/conv2d\" (2 members)>"
      ]
     },
     "execution_count": 29,
     "metadata": {},
     "output_type": "execute_result"
    }
   ],
   "source": [
    "model_file['model_weights']['conv2d']['conv2d']"
   ]
  },
  {
   "cell_type": "code",
   "execution_count": 25,
   "metadata": {},
   "outputs": [
    {
     "data": {
      "text/plain": [
       "<KeysViewHDF5 ['bias:0', 'kernel:0']>"
      ]
     },
     "execution_count": 25,
     "metadata": {},
     "output_type": "execute_result"
    }
   ],
   "source": [
    "model_file['model_weights']['conv2d']['conv2d'].keys()"
   ]
  },
  {
   "cell_type": "code",
   "execution_count": 26,
   "metadata": {},
   "outputs": [
    {
     "data": {
      "text/plain": [
       "<HDF5 dataset \"kernel:0\": shape (3, 3, 3, 32), type \"<f4\">"
      ]
     },
     "execution_count": 26,
     "metadata": {},
     "output_type": "execute_result"
    }
   ],
   "source": [
    "model_file['model_weights']['conv2d']['conv2d']['kernel:0']"
   ]
  },
  {
   "cell_type": "code",
   "execution_count": 27,
   "metadata": {},
   "outputs": [
    {
     "data": {
      "text/plain": [
       "array([[[[ 0.01715395, -0.03521417, -0.03214614,  0.10997819,\n",
       "           0.12353923, -0.14016028,  0.04557806,  0.10228346,\n",
       "           0.07807671, -0.05251225, -0.07918127, -0.09116083,\n",
       "           0.02764348,  0.00752504, -0.02764323,  0.12461643,\n",
       "           0.02656258,  0.01350196,  0.08069676, -0.13469988,\n",
       "           0.02099181, -0.01686979,  0.07498396,  0.08448331,\n",
       "           0.08602582, -0.11697201,  0.10425957,  0.11742344,\n",
       "          -0.13077773, -0.06449135, -0.04169978,  0.0612827 ],\n",
       "         [ 0.06138583, -0.04459596, -0.03095559, -0.03528496,\n",
       "          -0.092962  , -0.02840158, -0.10226724,  0.07409155,\n",
       "          -0.12176411,  0.11048147,  0.09223107,  0.02433428,\n",
       "           0.12155504, -0.12297963,  0.08044858, -0.07843646,\n",
       "           0.11223671,  0.06952491, -0.06878522, -0.07671657,\n",
       "          -0.09500787, -0.03470901, -0.06764022, -0.10005303,\n",
       "           0.12304599, -0.01058851, -0.0199094 ,  0.0276028 ,\n",
       "          -0.11873493, -0.03026781,  0.01851539, -0.11644628],\n",
       "         [-0.12302126, -0.00416174,  0.01109088,  0.00215926,\n",
       "          -0.03001171, -0.10160654,  0.06021172, -0.08224852,\n",
       "          -0.03502316, -0.11964118, -0.01447792,  0.12995301,\n",
       "           0.08234051,  0.04789944,  0.0836271 ,  0.12030068,\n",
       "           0.04774342, -0.09145278, -0.0682277 , -0.07696609,\n",
       "           0.04471558,  0.05961626, -0.0017713 , -0.0723426 ,\n",
       "           0.07474268, -0.04584322,  0.06991258, -0.00095957,\n",
       "          -0.12202341,  0.01821486,  0.14091122,  0.07733878]],\n",
       "\n",
       "        [[ 0.0406663 ,  0.10226716,  0.05345674,  0.07909682,\n",
       "           0.11497538, -0.073927  , -0.07882444, -0.03735048,\n",
       "           0.00313512, -0.04566618,  0.06874237,  0.04611507,\n",
       "           0.07914512,  0.053219  , -0.12987694,  0.04883825,\n",
       "          -0.08312169, -0.1251624 , -0.10763244,  0.09439572,\n",
       "           0.02033018, -0.09200203, -0.11802182, -0.06011014,\n",
       "          -0.14202216,  0.01142378, -0.08028778,  0.04226932,\n",
       "          -0.09587828, -0.0021728 ,  0.02872902,  0.07521456],\n",
       "         [-0.02994235, -0.00925217,  0.06760785, -0.13268659,\n",
       "          -0.0770734 , -0.01121732, -0.08222511, -0.02024801,\n",
       "           0.12829699, -0.09127113,  0.05254484, -0.07767891,\n",
       "           0.02888859,  0.1200412 ,  0.06542724,  0.08235829,\n",
       "           0.10661248, -0.10800513, -0.03494583,  0.00523075,\n",
       "          -0.01056401, -0.04585104,  0.1040118 ,  0.01161165,\n",
       "           0.09197916, -0.02783905, -0.08057665,  0.02240176,\n",
       "           0.12087213, -0.07583996,  0.03401034, -0.06722958],\n",
       "         [ 0.070736  , -0.09113681, -0.05480031, -0.1284433 ,\n",
       "          -0.04679927, -0.10244532, -0.12585008, -0.07761919,\n",
       "           0.12822354, -0.01965276, -0.11788055,  0.07335195,\n",
       "           0.03487334, -0.05291637,  0.07292083,  0.05502129,\n",
       "           0.11744923, -0.00820253, -0.06851327, -0.00833639,\n",
       "          -0.11161945, -0.02168049,  0.06238715, -0.05088294,\n",
       "          -0.0017554 , -0.07022575, -0.09591925, -0.11129487,\n",
       "           0.13901106,  0.05697295,  0.02308536,  0.12220765]],\n",
       "\n",
       "        [[ 0.09269719,  0.05416037,  0.06792616, -0.03449979,\n",
       "           0.03609679,  0.01414645, -0.10410192, -0.03166295,\n",
       "          -0.12656243,  0.11869876,  0.06208491,  0.01683767,\n",
       "          -0.07708306,  0.02868822,  0.02496647,  0.11832021,\n",
       "          -0.06922688, -0.07513957,  0.08153708,  0.01952666,\n",
       "           0.04450551, -0.06544162,  0.01718464, -0.11416383,\n",
       "          -0.07018948,  0.0385795 ,  0.04664659,  0.11907571,\n",
       "           0.00261368,  0.06579103, -0.08497448, -0.014266  ],\n",
       "         [ 0.08758296,  0.07266478,  0.0259458 ,  0.00167007,\n",
       "           0.08042655, -0.03564677,  0.01405558,  0.07191093,\n",
       "          -0.12311164, -0.1368547 ,  0.1005678 ,  0.08735059,\n",
       "           0.03610713, -0.09567022, -0.05627997,  0.08179273,\n",
       "           0.12360826, -0.02430921,  0.01585576, -0.00726811,\n",
       "          -0.12344399, -0.05800228, -0.14183122,  0.10030635,\n",
       "           0.07348778,  0.03447132, -0.09432038, -0.02734595,\n",
       "          -0.0273373 ,  0.05624678,  0.04850953, -0.04474553],\n",
       "         [ 0.13496625, -0.04456101, -0.06338484,  0.00553879,\n",
       "          -0.13212286, -0.05715133,  0.1103688 ,  0.077526  ,\n",
       "          -0.0782776 , -0.084522  ,  0.08445214, -0.08737858,\n",
       "          -0.0623517 , -0.01221397, -0.08225927, -0.10788087,\n",
       "           0.01348141, -0.07028845, -0.07774054,  0.04480242,\n",
       "          -0.11253427,  0.04710073, -0.06295815, -0.0677073 ,\n",
       "           0.09711986,  0.1027449 ,  0.01685812,  0.10172261,\n",
       "           0.05108124,  0.0359758 ,  0.02878394, -0.05108116]]],\n",
       "\n",
       "\n",
       "       [[[-0.13368434,  0.11440408, -0.09778082, -0.10821148,\n",
       "           0.11990402,  0.01939647, -0.02376269, -0.11689214,\n",
       "           0.11364847, -0.01357192, -0.02956579, -0.12908536,\n",
       "           0.13375147,  0.05689489,  0.08139476, -0.09436109,\n",
       "           0.11007876, -0.11175217,  0.09609647,  0.10854682,\n",
       "           0.01357445, -0.1216596 , -0.08368787, -0.04594983,\n",
       "           0.03240749,  0.08447225,  0.12558514,  0.06004213,\n",
       "           0.04711835, -0.07376228, -0.08617509, -0.12789884],\n",
       "         [ 0.06229861,  0.12138094, -0.10570556, -0.05946117,\n",
       "          -0.11807346, -0.12196608,  0.01786705,  0.06350427,\n",
       "          -0.13875926, -0.09241274, -0.01833742,  0.00421507,\n",
       "           0.03263087,  0.13566016, -0.11860979, -0.0849244 ,\n",
       "           0.07122505, -0.01679654,  0.00189064,  0.0028073 ,\n",
       "          -0.10263718,  0.03880633, -0.11521397,  0.00534517,\n",
       "           0.11833037, -0.12200203, -0.00184318,  0.05667746,\n",
       "           0.00046079,  0.04967241,  0.08850542, -0.13901712],\n",
       "         [ 0.1140579 ,  0.06347303,  0.10174841,  0.0134032 ,\n",
       "           0.11206575,  0.10429383, -0.0755427 ,  0.05215991,\n",
       "           0.04585977, -0.01955642, -0.03945687, -0.10112237,\n",
       "           0.02933316, -0.00416021, -0.04060507, -0.08695335,\n",
       "          -0.11843153, -0.10934129,  0.10597436, -0.10300441,\n",
       "          -0.10456962,  0.0850459 , -0.02763302,  0.10650252,\n",
       "           0.08199809,  0.03918377, -0.00641793,  0.02366534,\n",
       "          -0.10410617, -0.05200395,  0.0507029 , -0.09795284]],\n",
       "\n",
       "        [[ 0.02279088,  0.00353005,  0.03908439,  0.00349232,\n",
       "          -0.01319512, -0.06687153,  0.05348518, -0.03909798,\n",
       "           0.02261729,  0.06564093,  0.03411524, -0.07003074,\n",
       "           0.06824499,  0.14179227,  0.03709398, -0.12908429,\n",
       "          -0.10022471,  0.0567642 ,  0.0224873 , -0.07202387,\n",
       "          -0.12311511, -0.07533231,  0.08748738,  0.00974785,\n",
       "           0.07884241, -0.00884741,  0.1193461 , -0.14395575,\n",
       "           0.10115115, -0.02807432,  0.06282991, -0.01052429],\n",
       "         [-0.1335494 , -0.04395183, -0.00892423, -0.12788193,\n",
       "          -0.06396828, -0.10415521, -0.0798087 , -0.10707133,\n",
       "           0.04700588,  0.02933363, -0.10775038,  0.07081713,\n",
       "           0.03277757,  0.01147157, -0.00973319, -0.09216488,\n",
       "           0.13070183,  0.06593794,  0.07142369,  0.00225161,\n",
       "          -0.07682586, -0.12222318, -0.09736247,  0.05517682,\n",
       "          -0.01642161, -0.02174473,  0.00595619,  0.03792895,\n",
       "           0.10971219, -0.08091646, -0.04723742, -0.0424756 ],\n",
       "         [-0.08376005, -0.13083978,  0.04823128, -0.12237539,\n",
       "          -0.1361809 ,  0.10885866, -0.03811275, -0.03362678,\n",
       "          -0.00157219,  0.09545254, -0.01574   ,  0.06759196,\n",
       "          -0.07694165,  0.11090118,  0.12041774,  0.08553723,\n",
       "          -0.1306176 , -0.04985802,  0.01480875,  0.11750029,\n",
       "           0.03889599,  0.08829872,  0.02321647,  0.06289073,\n",
       "           0.10944274, -0.00526514, -0.02272211, -0.0040172 ,\n",
       "          -0.05166456,  0.01163563, -0.13153276, -0.0600547 ]],\n",
       "\n",
       "        [[ 0.12340019, -0.10167918,  0.00136023,  0.00820566,\n",
       "          -0.08576636, -0.11762473, -0.1131737 , -0.09790129,\n",
       "          -0.01424375, -0.08372902, -0.04243736, -0.1134594 ,\n",
       "          -0.03707817, -0.11261693, -0.04278131,  0.11478827,\n",
       "           0.05328268,  0.07103289, -0.06399359,  0.07535549,\n",
       "          -0.03049339,  0.0978193 ,  0.03777024,  0.00892083,\n",
       "          -0.11080535,  0.01939902, -0.06435498, -0.03675484,\n",
       "           0.11970804, -0.11980715,  0.0615181 , -0.04973551],\n",
       "         [ 0.11794686,  0.07206165,  0.02467934, -0.03150737,\n",
       "           0.0582729 , -0.07677963, -0.08748175, -0.01735882,\n",
       "           0.07847712, -0.03217788, -0.08073632,  0.09589007,\n",
       "          -0.03132459, -0.1215991 , -0.08759759,  0.05424203,\n",
       "          -0.11357579,  0.0463055 , -0.05861633,  0.13623427,\n",
       "           0.02236673, -0.09960067, -0.11818783,  0.03653328,\n",
       "           0.04847237,  0.13216405, -0.07640454, -0.04519283,\n",
       "           0.04100698, -0.11687648,  0.02747583,  0.10385023],\n",
       "         [ 0.12896979, -0.12413203,  0.05910444, -0.11445393,\n",
       "          -0.00138182, -0.06668469, -0.0280876 , -0.0784639 ,\n",
       "          -0.10979802,  0.00043686,  0.04318962, -0.06933481,\n",
       "          -0.03127034, -0.01550053,  0.02270412,  0.10139744,\n",
       "          -0.01522788,  0.14881012,  0.10381968, -0.03140709,\n",
       "           0.01703732, -0.03168264,  0.12185886, -0.05881354,\n",
       "          -0.12956716, -0.06814957, -0.02516147, -0.00782518,\n",
       "           0.06407797,  0.04168717,  0.1195046 , -0.09091191]]],\n",
       "\n",
       "\n",
       "       [[[ 0.11806383,  0.05546317,  0.0340456 ,  0.10957735,\n",
       "           0.11345694, -0.00221291, -0.03361475,  0.12631531,\n",
       "          -0.02697998,  0.04084749, -0.07555731, -0.10671204,\n",
       "           0.04045781, -0.0561788 , -0.12094276,  0.00023449,\n",
       "          -0.13606042, -0.08817444, -0.07392541,  0.03644977,\n",
       "          -0.10938023,  0.01478521, -0.06706498, -0.00548007,\n",
       "          -0.1211279 , -0.07813658, -0.0268424 ,  0.08054614,\n",
       "          -0.06201082, -0.01992181, -0.00704662,  0.11376664],\n",
       "         [ 0.08275401,  0.09102548, -0.04345543,  0.09223444,\n",
       "          -0.12208831, -0.11843908, -0.06896274,  0.11526436,\n",
       "           0.0488483 , -0.07234598,  0.00189943,  0.08099492,\n",
       "          -0.01233581,  0.1457375 , -0.08173658,  0.09353758,\n",
       "           0.12520984,  0.02085161,  0.10934755,  0.07826162,\n",
       "          -0.0291763 , -0.00414863, -0.08388145, -0.08783021,\n",
       "           0.11700626,  0.05401803,  0.00631792, -0.00867637,\n",
       "          -0.03072039,  0.07711954, -0.117556  , -0.0075192 ],\n",
       "         [-0.03493022,  0.04759526,  0.02967252, -0.02523575,\n",
       "          -0.04473331,  0.06159206,  0.09617312, -0.12525825,\n",
       "           0.03637297, -0.03592692, -0.112087  ,  0.10337748,\n",
       "           0.06230729, -0.0758379 ,  0.09313405,  0.09387287,\n",
       "           0.08809715,  0.10921261,  0.0063813 ,  0.10866085,\n",
       "          -0.00729317,  0.06268669, -0.09698837, -0.04582741,\n",
       "          -0.0650553 ,  0.10098646,  0.07221102,  0.05934721,\n",
       "          -0.01272682,  0.0322045 , -0.09716084,  0.09703607]],\n",
       "\n",
       "        [[ 0.06187869,  0.02150133, -0.00223979,  0.13984205,\n",
       "          -0.1168499 , -0.05537698,  0.05860259,  0.1061444 ,\n",
       "           0.05785148,  0.06915715,  0.09684131,  0.1171142 ,\n",
       "          -0.10904476, -0.06520359, -0.09783375, -0.03928131,\n",
       "           0.08467561,  0.07637536, -0.11862378, -0.1287808 ,\n",
       "          -0.01991076, -0.08734348,  0.05171773,  0.0888934 ,\n",
       "           0.01093558, -0.02278491,  0.11195242,  0.06716368,\n",
       "          -0.00984651,  0.02371323, -0.02010287,  0.12017397],\n",
       "         [ 0.03729996,  0.06250122,  0.1311522 , -0.10631224,\n",
       "           0.06135574, -0.03586069, -0.06057409,  0.13440546,\n",
       "          -0.12040787, -0.08595543,  0.05151208,  0.10166913,\n",
       "           0.02219287,  0.08428964,  0.05260793,  0.00591188,\n",
       "           0.12762125,  0.10419676, -0.09825701, -0.00306277,\n",
       "           0.01131323,  0.02754718,  0.09503761,  0.10662165,\n",
       "           0.04518577,  0.04942019,  0.00079918,  0.04334027,\n",
       "           0.1271758 , -0.0748997 ,  0.13607158,  0.07122616],\n",
       "         [-0.0732687 ,  0.12222802, -0.12008893,  0.02569907,\n",
       "          -0.02426973,  0.04094892, -0.12936334, -0.11498063,\n",
       "          -0.03934003, -0.04114009, -0.12204352,  0.0285532 ,\n",
       "           0.09135   , -0.02393325,  0.01322206,  0.02709805,\n",
       "          -0.07531504, -0.06917611, -0.02399009, -0.02760203,\n",
       "           0.04887047,  0.07628756,  0.07844639,  0.02127483,\n",
       "           0.07733621, -0.12304378, -0.13339101, -0.00959948,\n",
       "          -0.03502059,  0.02120039,  0.06051329,  0.09067673]],\n",
       "\n",
       "        [[-0.1370824 , -0.00897561, -0.07532835, -0.07018738,\n",
       "          -0.0056055 ,  0.00998797, -0.00429155, -0.04667942,\n",
       "           0.12742376, -0.04024328,  0.01110349,  0.09051566,\n",
       "          -0.10029063,  0.04127463, -0.09513822,  0.03315937,\n",
       "          -0.0995244 ,  0.03093721, -0.05753637,  0.09645766,\n",
       "           0.1109734 ,  0.09443216, -0.03914382, -0.1052631 ,\n",
       "          -0.13665779,  0.08562371,  0.04919214, -0.12712523,\n",
       "          -0.12342682, -0.04222387,  0.10724393, -0.11907659],\n",
       "         [ 0.08872484,  0.06750714, -0.13559394, -0.03282695,\n",
       "           0.02471629, -0.03366556,  0.10323394, -0.11927862,\n",
       "          -0.02106545, -0.05491355, -0.06049399,  0.02597889,\n",
       "          -0.02202171, -0.12000545, -0.01242898,  0.06691125,\n",
       "          -0.05008912, -0.05471009, -0.05985152,  0.00834292,\n",
       "          -0.00475879,  0.07787106,  0.00562865, -0.10755862,\n",
       "           0.07205633,  0.0514484 ,  0.02293836,  0.0287919 ,\n",
       "           0.04608377, -0.08993552,  0.1053609 , -0.10567316],\n",
       "         [ 0.10855992, -0.06470247,  0.11588927,  0.06082981,\n",
       "          -0.02466438,  0.06031073,  0.01901332, -0.04605371,\n",
       "          -0.07051534, -0.00762678, -0.10004139, -0.04137926,\n",
       "          -0.05185794,  0.05102931,  0.05136181,  0.09869847,\n",
       "           0.08592644, -0.04199744,  0.0976193 , -0.11047785,\n",
       "          -0.05529513, -0.12345441,  0.0441975 , -0.06744757,\n",
       "           0.07988987, -0.01503333,  0.02808491,  0.10882631,\n",
       "          -0.08342522, -0.11057113,  0.09906472, -0.05432208]]]],\n",
       "      dtype=float32)"
      ]
     },
     "execution_count": 27,
     "metadata": {},
     "output_type": "execute_result"
    }
   ],
   "source": [
    "np.array(model_file['model_weights']['conv2d']['conv2d']['kernel:0'])"
   ]
  },
  {
   "cell_type": "code",
   "execution_count": null,
   "metadata": {},
   "outputs": [],
   "source": []
  }
 ],
 "metadata": {
  "kernelspec": {
   "display_name": "Python 3",
   "language": "python",
   "name": "python3"
  },
  "language_info": {
   "codemirror_mode": {
    "name": "ipython",
    "version": 3
   },
   "file_extension": ".py",
   "mimetype": "text/x-python",
   "name": "python",
   "nbconvert_exporter": "python",
   "pygments_lexer": "ipython3",
   "version": "3.6.9"
  }
 },
 "nbformat": 4,
 "nbformat_minor": 2
}
