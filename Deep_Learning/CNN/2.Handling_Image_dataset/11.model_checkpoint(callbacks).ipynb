{
 "cells": [
  {
   "cell_type": "markdown",
   "metadata": {},
   "source": [
    "# TensorFlow 2.0"
   ]
  },
  {
   "cell_type": "code",
   "execution_count": 1,
   "metadata": {},
   "outputs": [],
   "source": [
    "import os\n",
    "from glob import glob\n",
    "from datetime import datetime\n",
    "\n",
    "import numpy as np\n",
    "\n",
    "import tensorflow as tf\n",
    "from tensorflow.keras import layers\n",
    "\n",
    "from tensorflow.keras import datasets \n",
    "\n",
    "import matplotlib.pyplot as plt\n",
    "\n",
    "%matplotlib inline"
   ]
  },
  {
   "cell_type": "markdown",
   "metadata": {},
   "source": [
    "## Hyperparameter Tunning"
   ]
  },
  {
   "cell_type": "code",
   "execution_count": 2,
   "metadata": {},
   "outputs": [],
   "source": [
    "num_epochs = 20\n",
    "batch_size = 32\n",
    "\n",
    "learning_rate = 0.001\n",
    "\n",
    "dropout_rate = 0.5\n",
    "\n",
    "input_shape = (32, 32, 3)\n",
    "num_classes = 10"
   ]
  },
  {
   "cell_type": "markdown",
   "metadata": {},
   "source": [
    "## Build Model"
   ]
  },
  {
   "cell_type": "code",
   "execution_count": 3,
   "metadata": {},
   "outputs": [],
   "source": [
    "inputs = layers.Input(input_shape)\n",
    "\n",
    "net = layers.Conv2D(32, (3, 3), padding='SAME')(inputs)\n",
    "net = layers.Activation('relu')(net)\n",
    "net = layers.Conv2D(32, (3, 3), padding='SAME')(net)\n",
    "net = layers.Activation('relu')(net)\n",
    "net = layers.MaxPooling2D(pool_size=(2, 2))(net)\n",
    "net = layers.Dropout(dropout_rate)(net)\n",
    "\n",
    "net = layers.Conv2D(64, (3, 3), padding='SAME')(net)\n",
    "net = layers.Activation('relu')(net)\n",
    "net = layers.Conv2D(64, (3, 3), padding='SAME')(net)\n",
    "net = layers.Activation('relu')(net)\n",
    "net = layers.MaxPooling2D(pool_size=(2, 2))(net)\n",
    "net = layers.Dropout(dropout_rate)(net)\n",
    "\n",
    "net = layers.Flatten()(net)\n",
    "net = layers.Dense(512)(net)\n",
    "net = layers.Activation('relu')(net)\n",
    "net = layers.Dropout(dropout_rate)(net)\n",
    "net = layers.Dense(num_classes)(net)\n",
    "net = layers.Activation('softmax')(net)\n",
    "\n",
    "model = tf.keras.Model(inputs=inputs, outputs=net, name='Basic_CNN')"
   ]
  },
  {
   "cell_type": "code",
   "execution_count": 4,
   "metadata": {},
   "outputs": [],
   "source": [
    "# Model is the full model w/o custom layers\n",
    "model.compile(optimizer=tf.keras.optimizers.Adam(learning_rate),  # Optimization\n",
    "              loss='sparse_categorical_crossentropy',  # Loss Function \n",
    "              metrics=['accuracy'])  # Metrics / Accuracy"
   ]
  },
  {
   "cell_type": "markdown",
   "metadata": {},
   "source": [
    "# Data Preprocess"
   ]
  },
  {
   "cell_type": "code",
   "execution_count": 5,
   "metadata": {},
   "outputs": [],
   "source": [
    "train_paths = glob('dataset/cifar/train/*.png')[:1000]\n",
    "test_paths = glob('dataset/cifar/test/*.png')[:1000]"
   ]
  },
  {
   "cell_type": "code",
   "execution_count": 6,
   "metadata": {},
   "outputs": [
    {
     "data": {
      "text/plain": [
       "1000"
      ]
     },
     "execution_count": 6,
     "metadata": {},
     "output_type": "execute_result"
    }
   ],
   "source": [
    "len(train_paths)"
   ]
  },
  {
   "cell_type": "code",
   "execution_count": 7,
   "metadata": {},
   "outputs": [],
   "source": [
    "def get_class_name(path):\n",
    "    return path.split('_')[-1].replace('.png', '')"
   ]
  },
  {
   "cell_type": "code",
   "execution_count": 8,
   "metadata": {},
   "outputs": [],
   "source": [
    "train_labels = [get_class_name(path) for path in train_paths]\n",
    "class_names = np.unique(train_labels)"
   ]
  },
  {
   "cell_type": "code",
   "execution_count": 9,
   "metadata": {},
   "outputs": [],
   "source": [
    "def get_label(path):\n",
    "    fname = tf.strings.split(path, '_')[-1]\n",
    "    lbl_name = tf.strings.regex_replace(fname, '.png', '')\n",
    "    onehot = tf.cast(lbl_name == class_names, tf.uint8)\n",
    "    return tf.argmax(onehot)  # 이번에는 onehot이 아닌 label 번호로"
   ]
  },
  {
   "cell_type": "code",
   "execution_count": 10,
   "metadata": {},
   "outputs": [],
   "source": [
    "def load_image_label(path):\n",
    "    gfile = tf.io.read_file(path)\n",
    "    image = tf.io.decode_image(gfile)\n",
    "    image = tf.cast(image, tf.float32) / 255.  # rescale\n",
    "    \n",
    "    label = get_label(path)\n",
    "    return image, label"
   ]
  },
  {
   "cell_type": "code",
   "execution_count": 11,
   "metadata": {},
   "outputs": [],
   "source": [
    "def image_preprocess(image, label):\n",
    "    image = tf.image.random_flip_up_down(image)\n",
    "    image = tf.image.random_flip_left_right(image)\n",
    "    return image, label"
   ]
  },
  {
   "cell_type": "code",
   "execution_count": 12,
   "metadata": {},
   "outputs": [],
   "source": [
    "AUTOTUNE = tf.data.experimental.AUTOTUNE"
   ]
  },
  {
   "cell_type": "code",
   "execution_count": 13,
   "metadata": {
    "scrolled": false
   },
   "outputs": [],
   "source": [
    "train_dataset = tf.data.Dataset.from_tensor_slices(train_paths)\n",
    "train_dataset = train_dataset.map(load_image_label, num_parallel_calls=AUTOTUNE)\n",
    "train_dataset = train_dataset.map(image_preprocess, num_parallel_calls=AUTOTUNE)\n",
    "train_dataset = train_dataset.batch(batch_size)\n",
    "train_dataset = train_dataset.shuffle(buffer_size=len(train_paths))\n",
    "train_dataset = train_dataset.repeat()"
   ]
  },
  {
   "cell_type": "code",
   "execution_count": 14,
   "metadata": {},
   "outputs": [],
   "source": [
    "test_dataset = tf.data.Dataset.from_tensor_slices(test_paths)\n",
    "test_dataset = test_dataset.map(load_image_label, num_parallel_calls=AUTOTUNE)\n",
    "test_dataset = test_dataset.batch(batch_size)\n",
    "test_dataset = test_dataset.repeat()"
   ]
  },
  {
   "cell_type": "markdown",
   "metadata": {},
   "source": [
    "# Checkpoint\n",
    "- tf.keras.callbacks.ModelCheckpoint ( 경로 ~ )"
   ]
  },
  {
   "cell_type": "code",
   "execution_count": 15,
   "metadata": {},
   "outputs": [],
   "source": [
    "# 새로운 folder명 ( 여기에 checkpoint 들이 저장된다 )\n",
    "save_path = 'checkpoints'"
   ]
  },
  {
   "cell_type": "code",
   "execution_count": 16,
   "metadata": {},
   "outputs": [],
   "source": [
    "# 만약 val_accuracy대신 val_loss로 할 경우, mode도 'max'에서 'min'으로 바꿔줘야한다!\n",
    "checkpoint = tf.keras.callbacks.ModelCheckpoint(save_path, \n",
    "                                                monitor='val_accuracy', verbose=1, \n",
    "                                                save_best_only=True, mode='max')"
   ]
  },
  {
   "cell_type": "markdown",
   "metadata": {},
   "source": [
    "## Training"
   ]
  },
  {
   "cell_type": "code",
   "execution_count": 18,
   "metadata": {},
   "outputs": [
    {
     "name": "stdout",
     "output_type": "stream",
     "text": [
      "Epoch 1/20\n",
      "30/31 [============================>.] - ETA: 0s - loss: 2.3000 - accuracy: 0.1165\n",
      "Epoch 00001: val_accuracy improved from -inf to 0.12298, saving model to checkpoints\n"
     ]
    },
    {
     "name": "stderr",
     "output_type": "stream",
     "text": [
      "W0905 13:28:54.566512 18172 deprecation.py:506] From C:\\ProgramData\\Anaconda3\\lib\\site-packages\\tensorflow_core\\python\\ops\\resource_variable_ops.py:1781: calling BaseResourceVariable.__init__ (from tensorflow.python.ops.resource_variable_ops) with constraint is deprecated and will be removed in a future version.\n",
      "Instructions for updating:\n",
      "If using Keras pass *_constraint arguments to layers.\n"
     ]
    },
    {
     "name": "stdout",
     "output_type": "stream",
     "text": [
      "31/31 [==============================] - 9s 295ms/step - loss: 2.2990 - accuracy: 0.1147 - val_loss: 2.2811 - val_accuracy: 0.1230\n",
      "Epoch 2/20\n",
      "30/31 [============================>.] - ETA: 0s - loss: 2.2341 - accuracy: 0.1645\n",
      "Epoch 00002: val_accuracy improved from 0.12298 to 0.16230, saving model to checkpoints\n",
      "31/31 [==============================] - 10s 321ms/step - loss: 2.2341 - accuracy: 0.1674 - val_loss: 2.1942 - val_accuracy: 0.1623\n",
      "Epoch 3/20\n",
      "30/31 [============================>.] - ETA: 0s - loss: 2.1896 - accuracy: 0.1774\n",
      "Epoch 00003: val_accuracy improved from 0.16230 to 0.16835, saving model to checkpoints\n",
      "31/31 [==============================] - 10s 310ms/step - loss: 2.1884 - accuracy: 0.1798 - val_loss: 2.1853 - val_accuracy: 0.1683\n",
      "Epoch 4/20\n",
      "30/31 [============================>.] - ETA: 0s - loss: 2.2036 - accuracy: 0.1870\n",
      "Epoch 00004: val_accuracy improved from 0.16835 to 0.22681, saving model to checkpoints\n",
      "31/31 [==============================] - 11s 360ms/step - loss: 2.2025 - accuracy: 0.1870 - val_loss: 2.1239 - val_accuracy: 0.2268\n",
      "Epoch 5/20\n",
      "30/31 [============================>.] - ETA: 0s - loss: 2.1047 - accuracy: 0.2276\n",
      "Epoch 00005: val_accuracy improved from 0.22681 to 0.23992, saving model to checkpoints\n",
      "31/31 [==============================] - 11s 341ms/step - loss: 2.0986 - accuracy: 0.2324 - val_loss: 2.0250 - val_accuracy: 0.2399\n",
      "Epoch 6/20\n",
      "30/31 [============================>.] - ETA: 0s - loss: 2.0676 - accuracy: 0.2233\n",
      "Epoch 00006: val_accuracy improved from 0.23992 to 0.24395, saving model to checkpoints\n",
      "31/31 [==============================] - 10s 330ms/step - loss: 2.0633 - accuracy: 0.2283 - val_loss: 1.9848 - val_accuracy: 0.2440\n",
      "Epoch 7/20\n",
      "30/31 [============================>.] - ETA: 0s - loss: 1.9584 - accuracy: 0.2628\n",
      "Epoch 00007: val_accuracy improved from 0.24395 to 0.28327, saving model to checkpoints\n",
      "31/31 [==============================] - 9s 303ms/step - loss: 1.9572 - accuracy: 0.2593 - val_loss: 1.8978 - val_accuracy: 0.2833\n",
      "Epoch 8/20\n",
      "30/31 [============================>.] - ETA: 0s - loss: 1.9167 - accuracy: 0.2906\n",
      "Epoch 00008: val_accuracy did not improve from 0.28327\n",
      "31/31 [==============================] - 8s 271ms/step - loss: 1.9204 - accuracy: 0.2903 - val_loss: 1.9272 - val_accuracy: 0.2722\n",
      "Epoch 9/20\n",
      "30/31 [============================>.] - ETA: 0s - loss: 1.9195 - accuracy: 0.2895\n",
      "Epoch 00009: val_accuracy did not improve from 0.28327\n",
      "31/31 [==============================] - 8s 270ms/step - loss: 1.9253 - accuracy: 0.2882 - val_loss: 1.9545 - val_accuracy: 0.2631\n",
      "Epoch 10/20\n",
      "30/31 [============================>.] - ETA: 0s - loss: 1.9106 - accuracy: 0.2807 ETA: 3s\n",
      "Epoch 00010: val_accuracy did not improve from 0.28327\n",
      "31/31 [==============================] - 8s 273ms/step - loss: 1.9097 - accuracy: 0.2850 - val_loss: 1.9273 - val_accuracy: 0.2702\n",
      "Epoch 11/20\n",
      "30/31 [============================>.] - ETA: 0s - loss: 1.8638 - accuracy: 0.3077\n",
      "Epoch 00011: val_accuracy improved from 0.28327 to 0.29335, saving model to checkpoints\n",
      "31/31 [==============================] - 13s 428ms/step - loss: 1.8698 - accuracy: 0.3048 - val_loss: 1.8789 - val_accuracy: 0.2933\n",
      "Epoch 12/20\n",
      "30/31 [============================>.] - ETA: 0s - loss: 1.8986 - accuracy: 0.2788\n",
      "Epoch 00012: val_accuracy did not improve from 0.29335\n",
      "31/31 [==============================] - 9s 280ms/step - loss: 1.8992 - accuracy: 0.2779 - val_loss: 1.9717 - val_accuracy: 0.2661\n",
      "Epoch 13/20\n",
      "30/31 [============================>.] - ETA: 0s - loss: 1.7648 - accuracy: 0.3385\n",
      "Epoch 00013: val_accuracy improved from 0.29335 to 0.33770, saving model to checkpoints\n",
      "31/31 [==============================] - 10s 339ms/step - loss: 1.7674 - accuracy: 0.3377 - val_loss: 1.8042 - val_accuracy: 0.3377\n",
      "Epoch 14/20\n",
      "30/31 [============================>.] - ETA: 0s - loss: 1.8493 - accuracy: 0.3399\n",
      "Epoch 00014: val_accuracy improved from 0.33770 to 0.34577, saving model to checkpoints\n",
      "31/31 [==============================] - 10s 336ms/step - loss: 1.8535 - accuracy: 0.3358 - val_loss: 1.8184 - val_accuracy: 0.3458\n",
      "Epoch 15/20\n",
      "30/31 [============================>.] - ETA: 0s - loss: 1.7713 - accuracy: 0.3375\n",
      "Epoch 00015: val_accuracy improved from 0.34577 to 0.35786, saving model to checkpoints\n",
      "31/31 [==============================] - 9s 295ms/step - loss: 1.7763 - accuracy: 0.3377 - val_loss: 1.7891 - val_accuracy: 0.3579\n",
      "Epoch 16/20\n",
      "30/31 [============================>.] - ETA: 0s - loss: 1.7286 - accuracy: 0.3686\n",
      "Epoch 00016: val_accuracy improved from 0.35786 to 0.35988, saving model to checkpoints\n",
      "31/31 [==============================] - 11s 339ms/step - loss: 1.7297 - accuracy: 0.3665 - val_loss: 1.7491 - val_accuracy: 0.3599\n",
      "Epoch 17/20\n",
      "30/31 [============================>.] - ETA: 0s - loss: 1.7331 - accuracy: 0.3397\n",
      "Epoch 00017: val_accuracy did not improve from 0.35988\n",
      "31/31 [==============================] - 10s 311ms/step - loss: 1.7430 - accuracy: 0.3357 - val_loss: 1.8198 - val_accuracy: 0.3145\n",
      "Epoch 18/20\n",
      "30/31 [============================>.] - ETA: 0s - loss: 1.6922 - accuracy: 0.3568\n",
      "Epoch 00018: val_accuracy did not improve from 0.35988\n",
      "31/31 [==============================] - 9s 306ms/step - loss: 1.6842 - accuracy: 0.3574 - val_loss: 1.8025 - val_accuracy: 0.3579\n",
      "Epoch 19/20\n",
      "30/31 [============================>.] - ETA: 0s - loss: 1.7056 - accuracy: 0.3625\n",
      "Epoch 00019: val_accuracy improved from 0.35988 to 0.39012, saving model to checkpoints\n",
      "31/31 [==============================] - 10s 326ms/step - loss: 1.6934 - accuracy: 0.3710 - val_loss: 1.7176 - val_accuracy: 0.3901\n",
      "Epoch 20/20\n",
      "30/31 [============================>.] - ETA: 0s - loss: 1.6630 - accuracy: 0.3553 E\n",
      "Epoch 00020: val_accuracy did not improve from 0.39012\n",
      "31/31 [==============================] - 8s 257ms/step - loss: 1.6623 - accuracy: 0.3559 - val_loss: 1.7328 - val_accuracy: 0.3861\n"
     ]
    },
    {
     "data": {
      "text/plain": [
       "<tensorflow.python.keras.callbacks.History at 0x26dce7f8d68>"
      ]
     },
     "execution_count": 18,
     "metadata": {},
     "output_type": "execute_result"
    }
   ],
   "source": [
    "steps_per_epoch = len(train_paths) // batch_size\n",
    "validation_steps = len(test_paths) // batch_size\n",
    "\n",
    "model.fit_generator(\n",
    "    train_dataset,\n",
    "    steps_per_epoch=steps_per_epoch,\n",
    "    \n",
    "    validation_data=test_dataset,\n",
    "    validation_steps=validation_steps,\n",
    "    \n",
    "    epochs=num_epochs,\n",
    "    callbacks=[checkpoint] # checkpoint 여기에 넣기\n",
    ")"
   ]
  },
  {
   "cell_type": "markdown",
   "metadata": {},
   "source": [
    "https://www.tensorflow.org/tensorboard/r2/image_summaries#setup"
   ]
  }
 ],
 "metadata": {
  "kernelspec": {
   "display_name": "Python 3",
   "language": "python",
   "name": "python3"
  },
  "language_info": {
   "codemirror_mode": {
    "name": "ipython",
    "version": 3
   },
   "file_extension": ".py",
   "mimetype": "text/x-python",
   "name": "python",
   "nbconvert_exporter": "python",
   "pygments_lexer": "ipython3",
   "version": "3.6.9"
  }
 },
 "nbformat": 4,
 "nbformat_minor": 2
}
