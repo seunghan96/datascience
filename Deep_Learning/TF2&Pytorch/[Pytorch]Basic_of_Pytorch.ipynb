{
 "cells": [
  {
   "cell_type": "code",
   "execution_count": 1,
   "metadata": {},
   "outputs": [],
   "source": [
    "import numpy as np\n",
    "import torch"
   ]
  },
  {
   "cell_type": "markdown",
   "metadata": {},
   "source": [
    "### pytorch basic"
   ]
  },
  {
   "cell_type": "code",
   "execution_count": 2,
   "metadata": {},
   "outputs": [
    {
     "data": {
      "text/plain": [
       "array([0, 1, 2, 3, 4, 5, 6, 7, 8])"
      ]
     },
     "execution_count": 2,
     "metadata": {},
     "output_type": "execute_result"
    }
   ],
   "source": [
    "np.arange(9)"
   ]
  },
  {
   "cell_type": "code",
   "execution_count": 3,
   "metadata": {},
   "outputs": [
    {
     "data": {
      "text/plain": [
       "tensor([0, 1, 2, 3, 4, 5, 6, 7, 8])"
      ]
     },
     "execution_count": 3,
     "metadata": {},
     "output_type": "execute_result"
    }
   ],
   "source": [
    "torch.arange(9)"
   ]
  },
  {
   "cell_type": "code",
   "execution_count": 4,
   "metadata": {},
   "outputs": [
    {
     "data": {
      "text/plain": [
       "torch.int64"
      ]
     },
     "execution_count": 4,
     "metadata": {},
     "output_type": "execute_result"
    }
   ],
   "source": [
    "x = torch.arange(9)\n",
    "x.dtype"
   ]
  },
  {
   "cell_type": "code",
   "execution_count": 5,
   "metadata": {},
   "outputs": [
    {
     "data": {
      "text/plain": [
       "tensor([[0, 1, 2],\n",
       "        [3, 4, 5],\n",
       "        [6, 7, 8]])"
      ]
     },
     "execution_count": 5,
     "metadata": {},
     "output_type": "execute_result"
    }
   ],
   "source": [
    "x.reshape(3,3)"
   ]
  },
  {
   "cell_type": "code",
   "execution_count": 6,
   "metadata": {},
   "outputs": [
    {
     "data": {
      "text/plain": [
       "tensor([[0.0728, 0.0138, 0.1436],\n",
       "        [0.6498, 0.9955, 0.5952],\n",
       "        [0.3017, 0.0496, 0.7864]])"
      ]
     },
     "execution_count": 6,
     "metadata": {},
     "output_type": "execute_result"
    }
   ],
   "source": [
    "torch.rand((3,3))"
   ]
  },
  {
   "cell_type": "code",
   "execution_count": 7,
   "metadata": {},
   "outputs": [
    {
     "data": {
      "text/plain": [
       "tensor([[0., 0., 0.],\n",
       "        [0., 0., 0.],\n",
       "        [0., 0., 0.]])"
      ]
     },
     "execution_count": 7,
     "metadata": {},
     "output_type": "execute_result"
    }
   ],
   "source": [
    "torch.zeros((3,3))"
   ]
  },
  {
   "cell_type": "code",
   "execution_count": 8,
   "metadata": {},
   "outputs": [
    {
     "data": {
      "text/plain": [
       "tensor([[1., 1., 1.],\n",
       "        [1., 1., 1.],\n",
       "        [1., 1., 1.]])"
      ]
     },
     "execution_count": 8,
     "metadata": {},
     "output_type": "execute_result"
    }
   ],
   "source": [
    "torch.ones((3,3))"
   ]
  },
  {
   "cell_type": "markdown",
   "metadata": {},
   "source": [
    "### pytorch basic 2"
   ]
  },
  {
   "cell_type": "code",
   "execution_count": 9,
   "metadata": {},
   "outputs": [
    {
     "data": {
      "text/plain": [
       "tensor([ 0,  3,  6,  9, 12, 15, 18, 21, 24])"
      ]
     },
     "execution_count": 9,
     "metadata": {},
     "output_type": "execute_result"
    }
   ],
   "source": [
    "x * 3"
   ]
  },
  {
   "cell_type": "code",
   "execution_count": 10,
   "metadata": {},
   "outputs": [
    {
     "data": {
      "text/plain": [
       "tensor([ 3,  4,  5,  6,  7,  8,  9, 10, 11])"
      ]
     },
     "execution_count": 10,
     "metadata": {},
     "output_type": "execute_result"
    }
   ],
   "source": [
    "x + 3"
   ]
  },
  {
   "cell_type": "code",
   "execution_count": 11,
   "metadata": {},
   "outputs": [
    {
     "data": {
      "text/plain": [
       "tensor([[0, 1, 2],\n",
       "        [3, 4, 5],\n",
       "        [6, 7, 8]])"
      ]
     },
     "execution_count": 11,
     "metadata": {},
     "output_type": "execute_result"
    }
   ],
   "source": [
    "range_nums = torch.arange(9).reshape(3,3)\n",
    "range_nums"
   ]
  },
  {
   "cell_type": "code",
   "execution_count": 12,
   "metadata": {},
   "outputs": [
    {
     "data": {
      "text/plain": [
       "tensor([0, 1, 2, 3, 4, 5, 6, 7, 8])"
      ]
     },
     "execution_count": 12,
     "metadata": {},
     "output_type": "execute_result"
    }
   ],
   "source": [
    "# view보다 reshape을 권함!\n",
    "range_nums.view(-1)"
   ]
  },
  {
   "cell_type": "code",
   "execution_count": 13,
   "metadata": {},
   "outputs": [
    {
     "data": {
      "text/plain": [
       "tensor([[0, 1, 2],\n",
       "        [3, 4, 5],\n",
       "        [6, 7, 8]])"
      ]
     },
     "execution_count": 13,
     "metadata": {},
     "output_type": "execute_result"
    }
   ],
   "source": [
    "x.reshape(3,3)"
   ]
  },
  {
   "cell_type": "markdown",
   "metadata": {},
   "source": [
    "### pytorch basic 3"
   ]
  },
  {
   "cell_type": "code",
   "execution_count": 14,
   "metadata": {},
   "outputs": [
    {
     "data": {
      "text/plain": [
       "array([1, 1, 1])"
      ]
     },
     "execution_count": 14,
     "metadata": {},
     "output_type": "execute_result"
    }
   ],
   "source": [
    "arr = np.array([1,1,1])\n",
    "arr"
   ]
  },
  {
   "cell_type": "code",
   "execution_count": 15,
   "metadata": {},
   "outputs": [
    {
     "data": {
      "text/plain": [
       "tensor([1, 1, 1], dtype=torch.int32)"
      ]
     },
     "execution_count": 15,
     "metadata": {},
     "output_type": "execute_result"
    }
   ],
   "source": [
    "# array -> torch\n",
    "arr_torch = torch.from_numpy(arr)\n",
    "arr_torch"
   ]
  },
  {
   "cell_type": "code",
   "execution_count": 16,
   "metadata": {},
   "outputs": [
    {
     "data": {
      "text/plain": [
       "tensor([1., 1., 1.])"
      ]
     },
     "execution_count": 16,
     "metadata": {},
     "output_type": "execute_result"
    }
   ],
   "source": [
    "arr_torch.float()"
   ]
  },
  {
   "cell_type": "code",
   "execution_count": 17,
   "metadata": {},
   "outputs": [],
   "source": [
    "device = 'cuda' if torch.cuda. is_available() else 'cpu'"
   ]
  },
  {
   "cell_type": "code",
   "execution_count": 18,
   "metadata": {},
   "outputs": [
    {
     "data": {
      "text/plain": [
       "tensor([1, 1, 1], dtype=torch.int32)"
      ]
     },
     "execution_count": 18,
     "metadata": {},
     "output_type": "execute_result"
    }
   ],
   "source": [
    "arr_torch.to(device)"
   ]
  },
  {
   "cell_type": "code",
   "execution_count": 19,
   "metadata": {},
   "outputs": [
    {
     "data": {
      "text/plain": [
       "'cpu'"
      ]
     },
     "execution_count": 19,
     "metadata": {},
     "output_type": "execute_result"
    }
   ],
   "source": [
    "device"
   ]
  },
  {
   "cell_type": "markdown",
   "metadata": {},
   "source": [
    "### AutoGrad\n",
    "- 기울기를 줘서 학습이 되게끔!"
   ]
  },
  {
   "cell_type": "code",
   "execution_count": 20,
   "metadata": {},
   "outputs": [
    {
     "data": {
      "text/plain": [
       "tensor([[1., 1.],\n",
       "        [1., 1.]], requires_grad=True)"
      ]
     },
     "execution_count": 20,
     "metadata": {},
     "output_type": "execute_result"
    }
   ],
   "source": [
    "x = torch.ones(2,2, requires_grad=True)\n",
    "x"
   ]
  },
  {
   "cell_type": "code",
   "execution_count": 21,
   "metadata": {},
   "outputs": [
    {
     "data": {
      "text/plain": [
       "tensor([[3., 3.],\n",
       "        [3., 3.]], grad_fn=<AddBackward0>)"
      ]
     },
     "execution_count": 21,
     "metadata": {},
     "output_type": "execute_result"
    }
   ],
   "source": [
    "y = x+2\n",
    "y"
   ]
  },
  {
   "cell_type": "code",
   "execution_count": 22,
   "metadata": {},
   "outputs": [
    {
     "name": "stdout",
     "output_type": "stream",
     "text": [
      "<AddBackward0 object at 0x00000245AD5C64A8>\n"
     ]
    }
   ],
   "source": [
    "print(y.grad_fn)"
   ]
  },
  {
   "cell_type": "code",
   "execution_count": 23,
   "metadata": {},
   "outputs": [],
   "source": [
    "z = y*y*3\n",
    "out = z.mean()"
   ]
  },
  {
   "cell_type": "code",
   "execution_count": 24,
   "metadata": {},
   "outputs": [
    {
     "name": "stdout",
     "output_type": "stream",
     "text": [
      "tensor([[27., 27.],\n",
      "        [27., 27.]], grad_fn=<MulBackward0>) tensor(27., grad_fn=<MeanBackward1>)\n"
     ]
    }
   ],
   "source": [
    "print(z,out)"
   ]
  },
  {
   "cell_type": "code",
   "execution_count": 25,
   "metadata": {},
   "outputs": [],
   "source": [
    "# back propogation\n",
    "out.backward()"
   ]
  },
  {
   "cell_type": "code",
   "execution_count": 26,
   "metadata": {},
   "outputs": [
    {
     "name": "stdout",
     "output_type": "stream",
     "text": [
      "tensor([[4.5000, 4.5000],\n",
      "        [4.5000, 4.5000]])\n"
     ]
    }
   ],
   "source": [
    "print(x.grad)"
   ]
  },
  {
   "cell_type": "code",
   "execution_count": 27,
   "metadata": {},
   "outputs": [
    {
     "name": "stdout",
     "output_type": "stream",
     "text": [
      "True\n",
      "True\n"
     ]
    }
   ],
   "source": [
    "print(x.requires_grad)\n",
    "print((x**2).requires_grad)"
   ]
  },
  {
   "cell_type": "code",
   "execution_count": 28,
   "metadata": {},
   "outputs": [
    {
     "name": "stdout",
     "output_type": "stream",
     "text": [
      "False\n"
     ]
    }
   ],
   "source": [
    "# 기울기 안 구하고! ( faster ) --------> test할때 사용\n",
    "with torch.no_grad():\n",
    "    print((x**2).requires_grad)"
   ]
  },
  {
   "cell_type": "markdown",
   "metadata": {},
   "source": [
    "### pytorch data preprocess"
   ]
  },
  {
   "cell_type": "code",
   "execution_count": 29,
   "metadata": {},
   "outputs": [],
   "source": [
    "from torchvision import datasets, transforms"
   ]
  },
  {
   "cell_type": "code",
   "execution_count": 30,
   "metadata": {},
   "outputs": [],
   "source": [
    "batch_size = 32\n",
    "test_batch_size = 32"
   ]
  },
  {
   "cell_type": "code",
   "execution_count": 31,
   "metadata": {},
   "outputs": [],
   "source": [
    "train_loader = torch.utils.data.DataLoader( \n",
    "    datasets.MNIST('dataset/', train=True, download=True,\n",
    "                   transform=transforms.Compose([\n",
    "                       transforms.ToTensor(),\n",
    "                       transforms.Normalize(mean=(0.5, ), std=(0.5, ))\n",
    "                   ])),\n",
    "    batch_size=batch_size,\n",
    "    shuffle=True)"
   ]
  },
  {
   "cell_type": "code",
   "execution_count": 32,
   "metadata": {},
   "outputs": [],
   "source": [
    "test_loader = torch.utils.data.DataLoader(\n",
    "    datasets.MNIST('dataset', train=False,\n",
    "                  transform=transforms.Compose([\n",
    "                      transforms.ToTensor(),\n",
    "                      transforms.Normalize((0.5, ), (0.5))\n",
    "                  ])),\n",
    "    batch_size=test_batch_size,\n",
    "    shuffle=True)"
   ]
  },
  {
   "cell_type": "code",
   "execution_count": 33,
   "metadata": {},
   "outputs": [],
   "source": [
    "images, labels = next(iter(train_loader))"
   ]
  },
  {
   "cell_type": "code",
   "execution_count": 34,
   "metadata": {},
   "outputs": [
    {
     "data": {
      "text/plain": [
       "torch.Size([32, 1, 28, 28])"
      ]
     },
     "execution_count": 34,
     "metadata": {},
     "output_type": "execute_result"
    }
   ],
   "source": [
    "# tensorflow : batchsize*(height*width*channel)\n",
    "# pytorch : batchsize*(channel*height*width)\n",
    "images.shape"
   ]
  },
  {
   "cell_type": "code",
   "execution_count": 35,
   "metadata": {},
   "outputs": [
    {
     "data": {
      "text/plain": [
       "torch.Size([32])"
      ]
     },
     "execution_count": 35,
     "metadata": {},
     "output_type": "execute_result"
    }
   ],
   "source": [
    "labels.shape"
   ]
  },
  {
   "cell_type": "markdown",
   "metadata": {},
   "source": [
    "### visualization"
   ]
  },
  {
   "cell_type": "code",
   "execution_count": 36,
   "metadata": {},
   "outputs": [],
   "source": [
    "import matplotlib.pyplot as plt\n",
    "%matplotlib inline"
   ]
  },
  {
   "cell_type": "code",
   "execution_count": 37,
   "metadata": {},
   "outputs": [
    {
     "data": {
      "text/plain": [
       "torch.Size([1, 28, 28])"
      ]
     },
     "execution_count": 37,
     "metadata": {},
     "output_type": "execute_result"
    }
   ],
   "source": [
    "# 첫 번째 사진 : 1(channel)*28*28\n",
    "images[0].shape"
   ]
  },
  {
   "cell_type": "code",
   "execution_count": 38,
   "metadata": {},
   "outputs": [
    {
     "data": {
      "text/plain": [
       "torch.Size([28, 28])"
      ]
     },
     "execution_count": 38,
     "metadata": {},
     "output_type": "execute_result"
    }
   ],
   "source": [
    "# squeeze (numpy로 만들기 위해)\n",
    "torch_image = torch.squeeze(images[0])\n",
    "torch_image.shape"
   ]
  },
  {
   "cell_type": "code",
   "execution_count": 39,
   "metadata": {},
   "outputs": [
    {
     "data": {
      "text/plain": [
       "(28, 28)"
      ]
     },
     "execution_count": 39,
     "metadata": {},
     "output_type": "execute_result"
    }
   ],
   "source": [
    "# numpy화\n",
    "image = torch_image.numpy()\n",
    "image.shape"
   ]
  },
  {
   "cell_type": "code",
   "execution_count": 40,
   "metadata": {},
   "outputs": [
    {
     "data": {
      "text/plain": [
       "array(1, dtype=int64)"
      ]
     },
     "execution_count": 40,
     "metadata": {},
     "output_type": "execute_result"
    }
   ],
   "source": [
    "# 정답은 2\n",
    "label = labels[0].numpy()\n",
    "label"
   ]
  },
  {
   "cell_type": "code",
   "execution_count": 41,
   "metadata": {},
   "outputs": [
    {
     "data": {
      "text/plain": [
       "()"
      ]
     },
     "execution_count": 41,
     "metadata": {},
     "output_type": "execute_result"
    }
   ],
   "source": [
    "label.shape"
   ]
  },
  {
   "cell_type": "code",
   "execution_count": 42,
   "metadata": {},
   "outputs": [
    {
     "data": {
      "image/png": "[encoded data removed]",
      "text/plain": [
       "<Figure size 432x288 with 1 Axes>"
      ]
     },
     "metadata": {
      "needs_background": "light"
     },
     "output_type": "display_data"
    }
   ],
   "source": [
    "plt.title(label)\n",
    "plt.imshow(image,'gray') # 1번쨰 image -> squeeze -> numpy화 -> imshow\n",
    "plt.show()"
   ]
  },
  {
   "cell_type": "markdown",
   "metadata": {},
   "source": [
    "### example"
   ]
  },
  {
   "cell_type": "code",
   "execution_count": 43,
   "metadata": {},
   "outputs": [],
   "source": [
    "from PIL import Image"
   ]
  },
  {
   "cell_type": "code",
   "execution_count": 44,
   "metadata": {},
   "outputs": [],
   "source": [
    "import torch\n",
    "import torch.nn as nn\n",
    "import torch.nn.functional as F\n",
    "import torch.optim as optim"
   ]
  },
  {
   "cell_type": "code",
   "execution_count": 45,
   "metadata": {},
   "outputs": [],
   "source": [
    "train_loader = torch.utils.data.DataLoader( \n",
    "    datasets.MNIST('dataset/', train=True, download=True,\n",
    "                   transform=transforms.Compose([\n",
    "                       transforms.ToTensor(),\n",
    "                       ])),\n",
    "    batch_size=1,\n",
    "    shuffle=True)"
   ]
  },
  {
   "cell_type": "code",
   "execution_count": 46,
   "metadata": {},
   "outputs": [],
   "source": [
    "image, label = next(iter(train_loader))"
   ]
  },
  {
   "cell_type": "code",
   "execution_count": 47,
   "metadata": {},
   "outputs": [
    {
     "data": {
      "text/plain": [
       "(torch.Size([1, 1, 28, 28]), torch.Size([1]))"
      ]
     },
     "execution_count": 47,
     "metadata": {},
     "output_type": "execute_result"
    }
   ],
   "source": [
    "image.shape, label.shape"
   ]
  },
  {
   "cell_type": "markdown",
   "metadata": {},
   "source": [
    "## Convolution\n",
    "- in_channels : 받게 될 channel의 개수\n",
    "- out_channels : 보내고 싶은 channel의 개수\n",
    "- kernel_size : 만들고 싶은 kernel(weight)의 사이즈"
   ]
  },
  {
   "cell_type": "code",
   "execution_count": 48,
   "metadata": {},
   "outputs": [
    {
     "data": {
      "text/plain": [
       "Conv2d(1, 20, kernel_size=(5, 5), stride=(1, 1))"
      ]
     },
     "execution_count": 48,
     "metadata": {},
     "output_type": "execute_result"
    }
   ],
   "source": [
    "nn.Conv2d(in_channels=1, out_channels=20, kernel_size=5, stride=1)"
   ]
  },
  {
   "cell_type": "code",
   "execution_count": 49,
   "metadata": {},
   "outputs": [
    {
     "data": {
      "text/plain": [
       "Conv2d(1, 20, kernel_size=(5, 5), stride=(1, 1))"
      ]
     },
     "execution_count": 49,
     "metadata": {},
     "output_type": "execute_result"
    }
   ],
   "source": [
    "# 1개 받고, 20개 내보냄\n",
    "# 5*5 kernel ( stride = 1 )\n",
    "layer = nn.Conv2d(1,20,5,1).to(torch.device('cpu'))\n",
    "layer"
   ]
  },
  {
   "cell_type": "markdown",
   "metadata": {},
   "source": [
    "### weight 시각화 위해 slice & numpy화\n",
    "- weight는 학습가능한 상태이기 때문에, 바로 numpy로 뽑아낼 수 없음\n",
    "- detach() method : 그래프에서 잠깐 빼서 gradient에 영향을 받지 않게 함!"
   ]
  },
  {
   "cell_type": "code",
   "execution_count": 50,
   "metadata": {},
   "outputs": [
    {
     "data": {
      "text/plain": [
       "torch.Size([20, 1, 5, 5])"
      ]
     },
     "execution_count": 50,
     "metadata": {},
     "output_type": "execute_result"
    }
   ],
   "source": [
    "weight = layer.weight\n",
    "weight.shape\n",
    "# 20개의 5*5필터 ( channel수는 1 )"
   ]
  },
  {
   "cell_type": "code",
   "execution_count": 51,
   "metadata": {},
   "outputs": [
    {
     "ename": "RuntimeError",
     "evalue": "Can't call numpy() on Variable that requires grad. Use var.detach().numpy() instead.",
     "output_type": "error",
     "traceback": [
      "\u001b[1;31m---------------------------------------------------------------------------\u001b[0m",
      "\u001b[1;31mRuntimeError\u001b[0m                              Traceback (most recent call last)",
      "\u001b[1;32m<ipython-input-51-ec9e50b052be>\u001b[0m in \u001b[0;36m<module>\u001b[1;34m\u001b[0m\n\u001b[0;32m      1\u001b[0m \u001b[1;31m# 오류가 뜸! detach해줘야!\u001b[0m\u001b[1;33m\u001b[0m\u001b[1;33m\u001b[0m\u001b[1;33m\u001b[0m\u001b[0m\n\u001b[1;32m----> 2\u001b[1;33m \u001b[0mweight\u001b[0m\u001b[1;33m.\u001b[0m\u001b[0mnumpy\u001b[0m\u001b[1;33m(\u001b[0m\u001b[1;33m)\u001b[0m\u001b[1;33m\u001b[0m\u001b[1;33m\u001b[0m\u001b[0m\n\u001b[0m",
      "\u001b[1;31mRuntimeError\u001b[0m: Can't call numpy() on Variable that requires grad. Use var.detach().numpy() instead."
     ]
    }
   ],
   "source": [
    "# 오류가 뜸! detach해줘야!\n",
    "weight.numpy()"
   ]
  },
  {
   "cell_type": "code",
   "execution_count": 52,
   "metadata": {},
   "outputs": [
    {
     "data": {
      "text/plain": [
       "array([[[[-7.40956366e-02, -7.47417212e-02,  9.68423933e-02,\n",
       "          -2.61971653e-02,  1.64206609e-01],\n",
       "         [ 1.96018443e-01, -8.05956125e-02,  8.06747526e-02,\n",
       "          -6.54949248e-02,  4.84516621e-02],\n",
       "         [ 1.30167857e-01,  1.22671887e-01,  1.36030778e-01,\n",
       "          -2.94992179e-02, -7.02195913e-02],\n",
       "         [ 1.10882863e-01, -1.16760038e-01,  1.32091895e-01,\n",
       "           1.94466934e-01, -6.66585267e-02],\n",
       "         [-8.46610591e-02, -1.39089942e-01,  1.13916293e-01,\n",
       "          -9.75791961e-02,  1.12618193e-01]]],\n",
       "\n",
       "\n",
       "       [[[-8.33172575e-02,  9.67342407e-02,  7.16807395e-02,\n",
       "          -1.99444756e-01,  9.89617854e-02],\n",
       "         [ 1.58150509e-01, -1.19514517e-01, -6.35710955e-02,\n",
       "          -2.45701969e-02, -1.58517122e-01],\n",
       "         [-6.81465864e-02, -3.01504582e-02, -1.63415864e-01,\n",
       "           1.76807195e-02, -1.53176740e-01],\n",
       "         [-1.93738222e-01,  1.80860057e-01, -6.80790693e-02,\n",
       "           9.98565555e-03, -4.43190634e-02],\n",
       "         [-2.77297795e-02,  8.82128626e-02,  8.41128975e-02,\n",
       "          -7.50652105e-02,  1.05408803e-01]]],\n",
       "\n",
       "\n",
       "       [[[ 7.30910450e-02,  1.12990439e-02, -6.26929253e-02,\n",
       "          -1.61586434e-01, -5.55078685e-02],\n",
       "         [-1.91562459e-01, -1.06238320e-01, -1.19951151e-01,\n",
       "          -1.36733532e-01,  1.35087773e-01],\n",
       "         [ 1.41431436e-01,  4.47189510e-02, -1.52808785e-01,\n",
       "          -2.17825174e-02,  7.93029219e-02],\n",
       "         [-1.62112981e-01,  1.35263696e-01,  8.28477293e-02,\n",
       "           4.20987606e-03,  5.82242161e-02],\n",
       "         [-1.67196870e-01,  1.78205833e-01, -5.57525456e-02,\n",
       "          -6.32420778e-02, -8.44056383e-02]]],\n",
       "\n",
       "\n",
       "       [[[-2.78662890e-02, -1.61795661e-01, -1.42570645e-01,\n",
       "           1.14064530e-01, -1.45534605e-01],\n",
       "         [-1.40240163e-01,  9.85123068e-02,  8.64973515e-02,\n",
       "           1.60239831e-01, -8.60414729e-02],\n",
       "         [ 1.59322485e-01,  2.07593143e-02,  1.54974923e-01,\n",
       "           3.77873480e-02, -1.38077170e-01],\n",
       "         [ 1.36868253e-01, -2.70025432e-03,  5.00137657e-02,\n",
       "           1.48071542e-01, -5.84595650e-02],\n",
       "         [ 6.62433654e-02,  5.65516800e-02, -1.70609996e-01,\n",
       "          -2.95728147e-02, -7.01073110e-02]]],\n",
       "\n",
       "\n",
       "       [[[ 1.53812766e-03, -8.06652531e-02,  1.21250600e-02,\n",
       "           6.77206367e-02,  1.18285224e-01],\n",
       "         [ 1.81251004e-01,  1.84091464e-01,  1.64671406e-01,\n",
       "          -1.91065952e-01,  6.54772669e-02],\n",
       "         [ 8.31092447e-02,  6.78245276e-02,  1.90864220e-01,\n",
       "          -1.20233774e-01, -1.68414921e-01],\n",
       "         [-1.77200750e-01, -9.20741260e-03,  4.08941805e-02,\n",
       "           7.50174373e-02,  2.19532251e-02],\n",
       "         [-1.55582622e-01,  1.92013904e-01, -8.87844339e-02,\n",
       "          -1.02322817e-01, -3.07847559e-02]]],\n",
       "\n",
       "\n",
       "       [[[ 2.74237394e-02,  3.14166099e-02, -2.04828084e-02,\n",
       "          -1.68365926e-01,  1.02786198e-01],\n",
       "         [ 8.84571671e-03, -2.05601752e-02,  7.86899477e-02,\n",
       "          -9.85898525e-02, -8.00016895e-02],\n",
       "         [-4.01704013e-03,  1.04712993e-02,  1.32388726e-01,\n",
       "           3.67634743e-02, -4.16767597e-02],\n",
       "         [-1.41314179e-01, -9.55839679e-02, -1.73103362e-01,\n",
       "          -1.96431071e-01, -5.51369488e-02],\n",
       "         [ 1.77098319e-01,  6.47470206e-02,  3.56250256e-02,\n",
       "          -1.33690894e-01, -3.72622907e-02]]],\n",
       "\n",
       "\n",
       "       [[[ 1.58923998e-01, -9.23315063e-02, -1.78716779e-01,\n",
       "          -5.78470528e-02, -1.54238984e-01],\n",
       "         [ 1.67979941e-01,  1.07563391e-01,  2.76344270e-02,\n",
       "          -8.35101306e-03, -1.50089055e-01],\n",
       "         [-4.16233093e-02,  7.44095594e-02,  8.98534507e-02,\n",
       "          -9.14491192e-02, -1.96014166e-01],\n",
       "         [-1.62956789e-01, -6.18468821e-02, -1.95718050e-01,\n",
       "           1.05767772e-01,  1.78171292e-01],\n",
       "         [ 1.57253787e-01,  8.92012864e-02, -1.13354519e-01,\n",
       "          -6.09660894e-02,  6.74679130e-02]]],\n",
       "\n",
       "\n",
       "       [[[ 1.61824957e-01,  6.30298704e-02,  3.22837830e-02,\n",
       "          -1.21877983e-01,  5.58457524e-02],\n",
       "         [-1.53488323e-01,  1.30697504e-01, -1.15869783e-01,\n",
       "          -7.57488981e-02, -8.52705762e-02],\n",
       "         [-5.15441895e-02, -7.31077790e-03,  1.07001737e-01,\n",
       "           1.28366247e-01, -4.29773778e-02],\n",
       "         [ 1.42137840e-01, -4.72611487e-02,  1.75965324e-01,\n",
       "           1.69334784e-01,  2.15044022e-02],\n",
       "         [ 2.94260681e-02,  1.89694002e-01, -1.68186784e-01,\n",
       "          -1.57759264e-01,  8.06358904e-02]]],\n",
       "\n",
       "\n",
       "       [[[ 2.08279490e-03,  1.15604267e-01, -5.44947386e-02,\n",
       "           2.95199901e-02, -7.90498480e-02],\n",
       "         [ 6.07637912e-02, -1.70658395e-01, -3.24070007e-02,\n",
       "          -4.70855832e-03, -1.95319459e-01],\n",
       "         [ 1.22334376e-01,  1.92695752e-01, -2.32450962e-02,\n",
       "          -1.62926987e-01,  1.40013352e-01],\n",
       "         [ 1.76964104e-02,  3.71479988e-02,  1.02662146e-02,\n",
       "           7.87497610e-02, -3.86318862e-02],\n",
       "         [-1.48554593e-01, -1.46070316e-01, -1.58641905e-01,\n",
       "           1.34505317e-01, -6.04200363e-03]]],\n",
       "\n",
       "\n",
       "       [[[ 8.21397454e-02,  3.52813452e-02, -8.35097581e-02,\n",
       "           9.74282175e-02,  1.04575232e-01],\n",
       "         [ 5.56812435e-02,  1.07958212e-01, -1.13698937e-01,\n",
       "           1.71921685e-01,  1.67900428e-01],\n",
       "         [-1.41945928e-01,  1.49805546e-02,  1.34749547e-01,\n",
       "          -1.54606700e-01, -1.81338415e-01],\n",
       "         [-1.28109410e-01,  6.83467537e-02, -7.72231370e-02,\n",
       "           2.62809098e-02,  4.59398478e-02],\n",
       "         [-1.27124876e-01,  7.73105472e-02,  2.19380558e-02,\n",
       "          -7.56122395e-02, -9.73096862e-02]]],\n",
       "\n",
       "\n",
       "       [[[ 1.78234056e-01,  1.84270486e-01, -3.80031765e-02,\n",
       "          -1.04653552e-01, -1.86471894e-01],\n",
       "         [-9.14733633e-02,  1.41806379e-01, -7.23335296e-02,\n",
       "           1.49447337e-01,  4.77316380e-02],\n",
       "         [-2.58450210e-03, -9.79574919e-02, -8.14178512e-02,\n",
       "           1.37541607e-01,  1.81521401e-01],\n",
       "         [-9.14830938e-02,  1.51741013e-01,  1.57163158e-01,\n",
       "          -4.40520048e-02,  1.59902871e-02],\n",
       "         [-8.24989602e-02,  9.12725478e-02,  1.18049547e-01,\n",
       "           1.40126064e-01, -1.37691498e-01]]],\n",
       "\n",
       "\n",
       "       [[[-1.79295778e-01,  7.84868449e-02,  8.03143233e-02,\n",
       "           7.98543543e-02,  1.50569513e-01],\n",
       "         [-1.53054565e-01,  1.43683806e-01,  1.68436483e-01,\n",
       "           9.30107981e-02, -1.21337175e-02],\n",
       "         [-2.00084448e-02,  1.43195316e-01, -1.36608794e-01,\n",
       "           7.73714334e-02, -4.92491722e-02],\n",
       "         [-5.89756072e-02,  2.18032598e-02, -5.57776242e-02,\n",
       "           2.15174854e-02,  1.49540439e-01],\n",
       "         [ 9.65725034e-02, -1.78207502e-01,  1.96423367e-01,\n",
       "          -4.83447015e-02,  4.99149263e-02]]],\n",
       "\n",
       "\n",
       "       [[[-3.39880288e-02,  1.67320356e-01, -1.05486445e-01,\n",
       "           2.17922032e-02, -1.12214260e-01],\n",
       "         [ 1.29952922e-01, -6.89909011e-02,  8.13675076e-02,\n",
       "          -1.27495199e-01,  1.14339247e-01],\n",
       "         [ 1.14993304e-02,  1.42733157e-02, -8.73020440e-02,\n",
       "           1.05586603e-01, -1.69655398e-01],\n",
       "         [-1.68947369e-01,  1.98241472e-02,  1.56006232e-01,\n",
       "          -9.13863704e-02,  1.58363923e-01],\n",
       "         [-6.54569864e-02, -5.41592389e-02,  1.56182095e-01,\n",
       "          -7.04262704e-02,  1.91976473e-01]]],\n",
       "\n",
       "\n",
       "       [[[-7.70418197e-02,  3.90415192e-02, -1.08750485e-01,\n",
       "           1.22191504e-01, -9.45274383e-02],\n",
       "         [-2.47271508e-02, -8.71583223e-02, -1.26034930e-01,\n",
       "          -4.51164693e-02, -2.49669105e-02],\n",
       "         [-1.78084373e-01,  2.52445042e-02, -1.89463973e-01,\n",
       "           1.51725248e-01,  3.02439034e-02],\n",
       "         [ 7.72116333e-02,  4.61638719e-02,  1.89849809e-01,\n",
       "          -1.83439538e-01,  1.57711759e-01],\n",
       "         [ 1.78982213e-01,  1.07250944e-01, -7.18529969e-02,\n",
       "          -1.82657167e-01,  1.82888106e-01]]],\n",
       "\n",
       "\n",
       "       [[[-1.53200462e-01,  4.53049839e-02, -1.66262075e-01,\n",
       "           9.51634794e-02,  1.91448882e-01],\n",
       "         [-8.40601474e-02, -4.49616164e-02, -1.81723356e-01,\n",
       "           1.16262332e-01,  2.78011113e-02],\n",
       "         [ 1.58098489e-02,  1.13432810e-01, -3.06376517e-02,\n",
       "          -1.32967904e-01, -1.98488429e-01],\n",
       "         [ 4.39052284e-03, -2.62129009e-02, -1.32594198e-01,\n",
       "          -1.40534997e-01,  1.27754107e-01],\n",
       "         [-3.21502686e-02, -1.49412677e-01,  7.33417720e-02,\n",
       "           1.58603922e-01,  1.07460842e-01]]],\n",
       "\n",
       "\n",
       "       [[[ 1.10450879e-01,  1.11216560e-01,  1.82095870e-01,\n",
       "          -8.13671872e-02,  5.20300418e-02],\n",
       "         [ 8.51150900e-02, -1.87821388e-02, -1.71399117e-03,\n",
       "          -1.24623276e-01, -1.76586539e-01],\n",
       "         [-1.13624625e-01, -1.36200219e-01, -3.50329280e-03,\n",
       "           1.50921240e-01,  1.68901980e-02],\n",
       "         [-1.39789790e-01, -4.62113917e-02,  1.48756638e-01,\n",
       "           1.82869211e-01, -1.08006887e-01],\n",
       "         [ 1.82939395e-01,  1.35316297e-01,  1.75425246e-01,\n",
       "          -1.13731526e-01,  2.57960111e-02]]],\n",
       "\n",
       "\n",
       "       [[[-8.87378976e-02, -1.76600888e-01,  1.97711483e-01,\n",
       "           1.81834981e-01,  1.26257196e-01],\n",
       "         [-3.58835012e-02, -5.91456443e-02,  1.74322873e-02,\n",
       "           1.77953109e-01, -9.13877711e-02],\n",
       "         [-1.58349425e-01,  5.44504672e-02, -4.80413437e-04,\n",
       "          -1.90105110e-01,  1.81602731e-01],\n",
       "         [ 1.38334438e-01,  1.80647448e-01,  2.77628154e-02,\n",
       "           1.88257739e-01, -1.66706994e-01],\n",
       "         [ 1.11138597e-01, -1.59010202e-01, -2.97995806e-02,\n",
       "          -2.82878578e-02, -8.68042484e-02]]],\n",
       "\n",
       "\n",
       "       [[[ 2.60656625e-02,  1.57366946e-01,  1.04169622e-01,\n",
       "          -1.98078498e-01,  1.19311526e-01],\n",
       "         [ 1.20293453e-01, -1.94712549e-01, -1.70491487e-02,\n",
       "          -7.13729858e-02, -8.99654180e-02],\n",
       "         [ 4.81447875e-02, -1.36667907e-01, -1.61548108e-01,\n",
       "          -6.70908391e-02,  1.13620445e-01],\n",
       "         [ 1.63211331e-01,  7.79439658e-02,  1.58355698e-01,\n",
       "          -1.02520846e-01, -7.71425292e-02],\n",
       "         [ 1.68751135e-01,  2.35621631e-02,  2.66800672e-02,\n",
       "           1.32842436e-01,  4.09882367e-02]]],\n",
       "\n",
       "\n",
       "       [[[-1.69481322e-01,  6.53395206e-02,  1.83277592e-01,\n",
       "          -3.96243334e-02,  6.21585697e-02],\n",
       "         [ 1.79929897e-01,  4.38914746e-02, -1.20007448e-01,\n",
       "           9.10596997e-02,  4.11925614e-02],\n",
       "         [-1.91749811e-01, -4.38690186e-05,  1.69023767e-01,\n",
       "          -5.91443330e-02, -1.71725452e-02],\n",
       "         [-1.58075646e-01,  7.73368627e-02, -1.09272361e-01,\n",
       "           1.94982752e-01, -1.84228495e-01],\n",
       "         [ 7.14125782e-02, -1.84617519e-01,  9.98586565e-02,\n",
       "          -5.19477576e-02, -1.25619799e-01]]],\n",
       "\n",
       "\n",
       "       [[[ 9.10002142e-02, -1.45945340e-01, -1.07140496e-01,\n",
       "           1.19032338e-01,  7.17041641e-02],\n",
       "         [ 5.92453629e-02, -1.10130601e-01, -3.73652726e-02,\n",
       "           4.35765088e-03, -7.29188621e-02],\n",
       "         [ 1.77797183e-01, -1.08232193e-01,  1.96752563e-01,\n",
       "          -1.07395843e-01,  6.27892762e-02],\n",
       "         [-1.79573894e-01, -6.23117983e-02,  1.58661261e-01,\n",
       "           1.23431906e-01,  5.38422316e-02],\n",
       "         [ 8.63370746e-02, -6.08165562e-02, -1.82892114e-01,\n",
       "          -2.55896300e-02,  4.21452075e-02]]]], dtype=float32)"
      ]
     },
     "execution_count": 52,
     "metadata": {},
     "output_type": "execute_result"
    }
   ],
   "source": [
    "# weight -> detach해주고 numpy화\n",
    "weight = weight.detach().numpy()\n",
    "weight"
   ]
  },
  {
   "cell_type": "code",
   "execution_count": 53,
   "metadata": {},
   "outputs": [
    {
     "data": {
      "text/plain": [
       "(20, 1, 5, 5)"
      ]
     },
     "execution_count": 53,
     "metadata": {},
     "output_type": "execute_result"
    }
   ],
   "source": [
    "weight.shape # 20개의 filter / 1개의 channel / 5*5"
   ]
  },
  {
   "cell_type": "code",
   "execution_count": 54,
   "metadata": {},
   "outputs": [
    {
     "data": {
      "image/png": "[encoded data removed]",
      "text/plain": [
       "<Figure size 432x288 with 2 Axes>"
      ]
     },
     "metadata": {
      "needs_background": "light"
     },
     "output_type": "display_data"
    }
   ],
   "source": [
    "# 그 중, 1개의 filter 가져오기\n",
    "plt.imshow(weight[0,0,:,:], 'jet')\n",
    "plt.colorbar()\n",
    "plt.show()"
   ]
  },
  {
   "cell_type": "code",
   "execution_count": 55,
   "metadata": {},
   "outputs": [
    {
     "name": "stdout",
     "output_type": "stream",
     "text": [
      "torch.Size([1, 20, 24, 24])\n"
     ]
    },
    {
     "data": {
      "text/plain": [
       "tensor([[[[-0.1818, -0.1818, -0.1818,  ..., -0.1818, -0.1818, -0.1818],\n",
       "          [-0.1818, -0.1818, -0.1818,  ..., -0.1818, -0.1818, -0.1818],\n",
       "          [-0.1818, -0.1818, -0.1818,  ..., -0.1818, -0.1818, -0.1818],\n",
       "          ...,\n",
       "          [-0.1818, -0.1818, -0.1818,  ..., -0.1818, -0.1818, -0.1818],\n",
       "          [-0.1818, -0.1818, -0.1818,  ..., -0.1818, -0.1818, -0.1818],\n",
       "          [-0.1818, -0.1818, -0.1818,  ..., -0.1818, -0.1818, -0.1818]],\n",
       "\n",
       "         [[-0.0289, -0.0289, -0.0289,  ..., -0.0289, -0.0289, -0.0289],\n",
       "          [-0.0289, -0.0289, -0.0289,  ..., -0.0289, -0.0289, -0.0289],\n",
       "          [-0.0289, -0.0289, -0.0289,  ..., -0.0289, -0.0289, -0.0289],\n",
       "          ...,\n",
       "          [-0.0289, -0.0289, -0.0289,  ..., -0.0289, -0.0289, -0.0289],\n",
       "          [-0.0289, -0.0289, -0.0289,  ..., -0.0289, -0.0289, -0.0289],\n",
       "          [-0.0289, -0.0289, -0.0289,  ..., -0.0289, -0.0289, -0.0289]],\n",
       "\n",
       "         [[-0.0333, -0.0333, -0.0333,  ..., -0.0333, -0.0333, -0.0333],\n",
       "          [-0.0333, -0.0333, -0.0333,  ..., -0.0333, -0.0333, -0.0333],\n",
       "          [-0.0333, -0.0333, -0.0333,  ..., -0.0333, -0.0333, -0.0333],\n",
       "          ...,\n",
       "          [-0.0333, -0.0333, -0.0333,  ..., -0.0333, -0.0333, -0.0333],\n",
       "          [-0.0333, -0.0333, -0.0333,  ..., -0.0333, -0.0333, -0.0333],\n",
       "          [-0.0333, -0.0333, -0.0333,  ..., -0.0333, -0.0333, -0.0333]],\n",
       "\n",
       "         ...,\n",
       "\n",
       "         [[ 0.1877,  0.1877,  0.1877,  ...,  0.1877,  0.1877,  0.1877],\n",
       "          [ 0.1877,  0.1877,  0.1877,  ...,  0.1877,  0.1877,  0.1877],\n",
       "          [ 0.1877,  0.1877,  0.1877,  ...,  0.1877,  0.1877,  0.1877],\n",
       "          ...,\n",
       "          [ 0.1877,  0.1877,  0.1877,  ...,  0.1877,  0.1877,  0.1877],\n",
       "          [ 0.1877,  0.1877,  0.1877,  ...,  0.1877,  0.1877,  0.1877],\n",
       "          [ 0.1877,  0.1877,  0.1877,  ...,  0.1877,  0.1877,  0.1877]],\n",
       "\n",
       "         [[ 0.0882,  0.0882,  0.0882,  ...,  0.0882,  0.0882,  0.0882],\n",
       "          [ 0.0882,  0.0882,  0.0882,  ...,  0.0882,  0.0882,  0.0882],\n",
       "          [ 0.0882,  0.0882,  0.0882,  ...,  0.0882,  0.0882,  0.0882],\n",
       "          ...,\n",
       "          [ 0.0882,  0.0882,  0.0882,  ...,  0.0882,  0.0882,  0.0882],\n",
       "          [ 0.0882,  0.0882,  0.0882,  ...,  0.0882,  0.0882,  0.0882],\n",
       "          [ 0.0882,  0.0882,  0.0882,  ...,  0.0882,  0.0882,  0.0882]],\n",
       "\n",
       "         [[-0.1696, -0.1696, -0.1696,  ..., -0.1696, -0.1696, -0.1696],\n",
       "          [-0.1696, -0.1696, -0.1696,  ..., -0.1696, -0.1696, -0.1696],\n",
       "          [-0.1696, -0.1696, -0.1696,  ..., -0.1696, -0.1696, -0.1696],\n",
       "          ...,\n",
       "          [-0.1696, -0.1696, -0.1696,  ..., -0.1696, -0.1696, -0.1696],\n",
       "          [-0.1696, -0.1696, -0.1696,  ..., -0.1696, -0.1696, -0.1696],\n",
       "          [-0.1696, -0.1696, -0.1696,  ..., -0.1696, -0.1696, -0.1696]]]],\n",
       "       grad_fn=<ThnnConv2DBackward>)"
      ]
     },
     "execution_count": 55,
     "metadata": {},
     "output_type": "execute_result"
    }
   ],
   "source": [
    "# (1개의) 20 channel를 가진 24*24 output나옴\n",
    "output_data = layer(image)\n",
    "\n",
    "print(output_data.shape)\n",
    "output_data"
   ]
  },
  {
   "cell_type": "code",
   "execution_count": 56,
   "metadata": {},
   "outputs": [],
   "source": [
    "output_data = output_data.data"
   ]
  },
  {
   "cell_type": "code",
   "execution_count": 57,
   "metadata": {},
   "outputs": [
    {
     "data": {
      "text/plain": [
       "(1, 20, 24, 24)"
      ]
     },
     "execution_count": 57,
     "metadata": {},
     "output_type": "execute_result"
    }
   ],
   "source": [
    "# numpy화\n",
    "output = output_data.cpu().numpy()\n",
    "output.shape"
   ]
  },
  {
   "cell_type": "code",
   "execution_count": 58,
   "metadata": {},
   "outputs": [
    {
     "data": {
      "text/plain": [
       "(1, 1, 28, 28)"
      ]
     },
     "execution_count": 58,
     "metadata": {},
     "output_type": "execute_result"
    }
   ],
   "source": [
    "# (input으로 넣었었던) image를 numpy화 해봄! \n",
    "image_arr = image.numpy()\n",
    "image_arr.shape"
   ]
  },
  {
   "cell_type": "code",
   "execution_count": 59,
   "metadata": {},
   "outputs": [
    {
     "data": {
      "image/png": "[encoded data removed]",
      "text/plain": [
       "<Figure size 1080x2160 with 3 Axes>"
      ]
     },
     "metadata": {
      "needs_background": "light"
     },
     "output_type": "display_data"
    }
   ],
   "source": [
    "plt.figure(figsize=(15,30))\n",
    "\n",
    "plt.subplot(131)\n",
    "plt.title('Input')\n",
    "plt.imshow(np.squeeze(image_arr), 'gray') # squeeze해줘야!\n",
    "\n",
    "plt.subplot(132)\n",
    "plt.title('Weight')\n",
    "plt.imshow(weight[0,0,:,:], 'jet') # 한개의 filter 예시로 시각화\n",
    "\n",
    "plt.subplot(133)\n",
    "plt.title('Output')\n",
    "plt.imshow(output[0,0,:,:], 'gray') # 20개의 channel중, 하나의 channel output 예시로 시각화\n",
    "\n",
    "plt.show()"
   ]
  },
  {
   "cell_type": "markdown",
   "metadata": {},
   "source": [
    "### Pooling"
   ]
  },
  {
   "cell_type": "code",
   "execution_count": 60,
   "metadata": {},
   "outputs": [
    {
     "data": {
      "text/plain": [
       "torch.Size([1, 1, 28, 28])"
      ]
     },
     "execution_count": 60,
     "metadata": {},
     "output_type": "execute_result"
    }
   ],
   "source": [
    "image.shape"
   ]
  },
  {
   "cell_type": "code",
   "execution_count": 61,
   "metadata": {},
   "outputs": [
    {
     "data": {
      "text/plain": [
       "torch.Size([1, 1, 14, 14])"
      ]
     },
     "execution_count": 61,
     "metadata": {},
     "output_type": "execute_result"
    }
   ],
   "source": [
    "pool = F.max_pool2d(image,2,2)\n",
    "pool.shape"
   ]
  },
  {
   "cell_type": "code",
   "execution_count": 62,
   "metadata": {},
   "outputs": [
    {
     "data": {
      "text/plain": [
       "(1, 1, 14, 14)"
      ]
     },
     "execution_count": 62,
     "metadata": {},
     "output_type": "execute_result"
    }
   ],
   "source": [
    "pool_arr = pool.numpy() # input을 바로 weight(fliter)에 넣지 않고, pooling 먼저함! \n",
    "pool_arr.shape # size줄어듬"
   ]
  },
  {
   "cell_type": "code",
   "execution_count": 63,
   "metadata": {},
   "outputs": [
    {
     "data": {
      "image/png": "[encoded data removed]",
      "text/plain": [
       "<Figure size 720x1080 with 2 Axes>"
      ]
     },
     "metadata": {
      "needs_background": "light"
     },
     "output_type": "display_data"
    }
   ],
   "source": [
    "plt.figure(figsize=(10,15))\n",
    "plt.subplot(121)\n",
    "plt.title('Input')\n",
    "plt.imshow(np.squeeze(image_arr),'gray') # input 이미지\n",
    "\n",
    "plt.subplot(122)\n",
    "plt.title('Output')\n",
    "plt.imshow(np.squeeze(pool_arr), 'gray') # pooling후의 이미지\n",
    "plt.show()"
   ]
  },
  {
   "cell_type": "markdown",
   "metadata": {},
   "source": [
    "### Linear\n",
    "- nn.Linear는 2d가 아닌 1d만 들어가기 때문에, view() 1D로 펼쳐줘야함"
   ]
  },
  {
   "cell_type": "code",
   "execution_count": 64,
   "metadata": {},
   "outputs": [
    {
     "data": {
      "text/plain": [
       "torch.Size([1, 1, 28, 28])"
      ]
     },
     "execution_count": 64,
     "metadata": {},
     "output_type": "execute_result"
    }
   ],
   "source": [
    "image.shape # input data의 shape이다"
   ]
  },
  {
   "cell_type": "code",
   "execution_count": 65,
   "metadata": {},
   "outputs": [
    {
     "data": {
      "text/plain": [
       "torch.Size([1, 784])"
      ]
     },
     "execution_count": 65,
     "metadata": {},
     "output_type": "execute_result"
    }
   ],
   "source": [
    "flatten = image.view(1,28*28) # 앞에 (1 ,x)처럼 1은 남겨줘야함! 저기 1은 batch_size니까 유지해줘야함.\n",
    "flatten.shape"
   ]
  },
  {
   "cell_type": "code",
   "execution_count": 66,
   "metadata": {},
   "outputs": [
    {
     "data": {
      "text/plain": [
       "torch.Size([1, 10])"
      ]
     },
     "execution_count": 66,
     "metadata": {},
     "output_type": "execute_result"
    }
   ],
   "source": [
    "lin = nn.Linear(784,10)(flatten) # 784개 받고 10개 내놓음\n",
    "lin.shape"
   ]
  },
  {
   "cell_type": "code",
   "execution_count": 67,
   "metadata": {},
   "outputs": [
    {
     "data": {
      "text/plain": [
       "tensor([[ 0.1667, -0.1510,  0.0926, -0.0344,  0.1887, -0.1371,  0.0805, -0.0683,\n",
       "         -0.1886,  0.3930]], grad_fn=<AddmmBackward>)"
      ]
     },
     "execution_count": 67,
     "metadata": {},
     "output_type": "execute_result"
    }
   ],
   "source": [
    "lin"
   ]
  },
  {
   "cell_type": "code",
   "execution_count": 68,
   "metadata": {},
   "outputs": [
    {
     "data": {
      "image/png": "[encoded data removed]",
      "text/plain": [
       "<Figure size 432x288 with 1 Axes>"
      ]
     },
     "metadata": {
      "needs_background": "light"
     },
     "output_type": "display_data"
    }
   ],
   "source": [
    "plt.imshow(lin.detach().numpy(), 'jet')\n",
    "plt.show()"
   ]
  },
  {
   "cell_type": "markdown",
   "metadata": {},
   "source": [
    "### Softmax\n",
    "- 결과를 numpy로 꺼내기 위해선, weight가 담긴 Linear에 weight를 꺼줘야함"
   ]
  },
  {
   "cell_type": "code",
   "execution_count": 69,
   "metadata": {},
   "outputs": [],
   "source": [
    "with torch.no_grad():\n",
    "    flatten = image.view(1, 28*28)    # 1. input image 쭉 펴줌\n",
    "    lin = nn.Linear(784,10)(flatten)   # 2. Linear 통해 784->10\n",
    "    softmax = F.softmax(lin, dim=1) # 3. Softmax function"
   ]
  },
  {
   "cell_type": "code",
   "execution_count": 70,
   "metadata": {},
   "outputs": [
    {
     "data": {
      "text/plain": [
       "tensor([[0.0952, 0.0932, 0.0973, 0.0966, 0.1018, 0.0916, 0.1081, 0.0854, 0.1188,\n",
       "         0.1119]])"
      ]
     },
     "execution_count": 70,
     "metadata": {},
     "output_type": "execute_result"
    }
   ],
   "source": [
    "softmax"
   ]
  },
  {
   "cell_type": "code",
   "execution_count": 71,
   "metadata": {},
   "outputs": [
    {
     "data": {
      "text/plain": [
       "1.0"
      ]
     },
     "execution_count": 71,
     "metadata": {},
     "output_type": "execute_result"
    }
   ],
   "source": [
    "np.sum(softmax.numpy())"
   ]
  },
  {
   "cell_type": "markdown",
   "metadata": {},
   "source": [
    "## Layer 쌓기"
   ]
  },
  {
   "cell_type": "code",
   "execution_count": 72,
   "metadata": {},
   "outputs": [],
   "source": [
    "class Net(nn.Module) :\n",
    "    def __init__(self): # weight가 있는 내용들\n",
    "        super(Net, self).__init__()\n",
    "        self.conv1 = nn.Conv2d(1,20,5,1)\n",
    "        self.conv2 = nn.Conv2d(20,50,5,1)\n",
    "        self.fc1 = nn.Linear(4*4*50, 500)\n",
    "        self.fc2 = nn.Linear(500,10)\n",
    "    \n",
    "    def forward(self,x):\n",
    "        # feature extraction\n",
    "        x = F.relu(self.conv1(x))\n",
    "        x = F.max_pool2d(x,2,2)\n",
    "        x = F.relu(self.conv2(x))\n",
    "        x = F.max_pool2d(x,2,2)\n",
    "        print(x.shape)\n",
    "        \n",
    "        # FC\n",
    "        #x = x.view(-1,4*4*50) # batch size로 몇개 받을 지 모르니, -1로 설정"
   ]
  },
  {
   "cell_type": "code",
   "execution_count": 73,
   "metadata": {},
   "outputs": [
    {
     "name": "stdout",
     "output_type": "stream",
     "text": [
      "torch.Size([1, 50, 4, 4])\n"
     ]
    }
   ],
   "source": [
    "model=Net()\n",
    "result = model.forward(image)"
   ]
  },
  {
   "cell_type": "markdown",
   "metadata": {},
   "source": [
    "- 아하, 50*4*4이구나! size 파악 완료"
   ]
  },
  {
   "cell_type": "code",
   "execution_count": 74,
   "metadata": {},
   "outputs": [],
   "source": [
    "class Net(nn.Module) :\n",
    "    def __init__(self): # weight가 있는 내용들\n",
    "        super(Net, self).__init__()\n",
    "        self.conv1 = nn.Conv2d(1,20,5,1)\n",
    "        self.conv2 = nn.Conv2d(20,50,5,1)\n",
    "        self.fc1 = nn.Linear(4*4*50, 500)\n",
    "        self.fc2 = nn.Linear(500,10)\n",
    "    \n",
    "    def forward(self,x):\n",
    "        # feature extraction\n",
    "        x = F.relu(self.conv1(x))\n",
    "        x = F.max_pool2d(x,2,2)\n",
    "        x = F.relu(self.conv2(x))\n",
    "        x = F.max_pool2d(x,2,2)\n",
    "        \n",
    "        # FC\n",
    "        x = x.view(-1,4*4*50) # batch size로 몇개 받을 지 모르니, -1로 설정\n",
    "        x = F.relu(self.fc1(x))\n",
    "        x = self.fc2(x)\n",
    "        return F.log_softmax(x,dim=1)"
   ]
  },
  {
   "cell_type": "code",
   "execution_count": 75,
   "metadata": {},
   "outputs": [],
   "source": [
    "model = Net()"
   ]
  },
  {
   "cell_type": "code",
   "execution_count": 76,
   "metadata": {},
   "outputs": [],
   "source": [
    "result = model.forward(image)"
   ]
  },
  {
   "cell_type": "code",
   "execution_count": 77,
   "metadata": {},
   "outputs": [
    {
     "data": {
      "text/plain": [
       "tensor([[-2.2917, -2.3262, -2.2969, -2.2781, -2.2978, -2.2875, -2.3648, -2.2715,\n",
       "         -2.3103, -2.3043]], grad_fn=<LogSoftmaxBackward>)"
      ]
     },
     "execution_count": 77,
     "metadata": {},
     "output_type": "execute_result"
    }
   ],
   "source": [
    "result"
   ]
  },
  {
   "cell_type": "markdown",
   "metadata": {},
   "source": [
    "## Optimization"
   ]
  },
  {
   "cell_type": "code",
   "execution_count": 78,
   "metadata": {},
   "outputs": [],
   "source": [
    "model = Net().to(device)"
   ]
  },
  {
   "cell_type": "code",
   "execution_count": 79,
   "metadata": {},
   "outputs": [],
   "source": [
    "optimizer = optim.Adam(model.parameters(), lr=0.001 )"
   ]
  },
  {
   "cell_type": "markdown",
   "metadata": {},
   "source": [
    "#### param들 확인\n",
    "- weight, bias 순으로 보여줌"
   ]
  },
  {
   "cell_type": "code",
   "execution_count": 80,
   "metadata": {},
   "outputs": [
    {
     "name": "stdout",
     "output_type": "stream",
     "text": [
      "torch.Size([20, 1, 5, 5])\n",
      "torch.Size([20])\n",
      "torch.Size([50, 20, 5, 5])\n",
      "torch.Size([50])\n",
      "torch.Size([500, 800])\n",
      "torch.Size([500])\n",
      "torch.Size([10, 500])\n",
      "torch.Size([10])\n"
     ]
    }
   ],
   "source": [
    "params = list(model.parameters())\n",
    "\n",
    "for i in range(8):\n",
    "    print(params[i].size())"
   ]
  },
  {
   "cell_type": "markdown",
   "metadata": {},
   "source": [
    "## Befor Training....\n",
    "- train mode로 변환!\n",
    "- 이유? Conv또는 Linear 뿐만 아니라, Dropout & BN과 같이 param을 가진 layer들도 학습하기 위해 준비"
   ]
  },
  {
   "cell_type": "code",
   "execution_count": 81,
   "metadata": {},
   "outputs": [
    {
     "data": {
      "text/plain": [
       "Net(\n",
       "  (conv1): Conv2d(1, 20, kernel_size=(5, 5), stride=(1, 1))\n",
       "  (conv2): Conv2d(20, 50, kernel_size=(5, 5), stride=(1, 1))\n",
       "  (fc1): Linear(in_features=800, out_features=500, bias=True)\n",
       "  (fc2): Linear(in_features=500, out_features=10, bias=True)\n",
       ")"
      ]
     },
     "execution_count": 81,
     "metadata": {},
     "output_type": "execute_result"
    }
   ],
   "source": [
    "model.train()"
   ]
  },
  {
   "cell_type": "code",
   "execution_count": 82,
   "metadata": {},
   "outputs": [],
   "source": [
    "seed = 1\n",
    "batch_size = 64\n",
    "test_batch_size = 64\n",
    "no_cuda = False"
   ]
  },
  {
   "cell_type": "code",
   "execution_count": 83,
   "metadata": {},
   "outputs": [],
   "source": [
    "use_cuda = not no_cuda and torch.cuda. is_available()\n",
    "device = torch.device('cuda' if use_cuda else 'cpu')"
   ]
  },
  {
   "cell_type": "code",
   "execution_count": 101,
   "metadata": {},
   "outputs": [],
   "source": [
    "torch.manual_seed(seed)\n",
    "\n",
    "train_loader = torch.utils.data.DataLoader( \n",
    "    datasets.MNIST('dataset', train=True, download=True,\n",
    "                   transform=transforms.Compose([\n",
    "                       transforms.ToTensor(),\n",
    "                       transforms.Normalize((0.5, ), (0.5,))\n",
    "                       ])),\n",
    "    batch_size=batch_size,\n",
    "    shuffle=True)\n",
    "\n",
    "test_loader = torch.utils.data.DataLoader(\n",
    "    datasets.MNIST('dataset', train=False,\n",
    "                  transform=transforms.Compose([\n",
    "                      transforms.ToTensor(),\n",
    "                      transforms.Normalize((0.5, ), (0.5,))\n",
    "                  ])),\n",
    "    batch_size=test_batch_size,\n",
    "    shuffle=True)"
   ]
  },
  {
   "cell_type": "code",
   "execution_count": 102,
   "metadata": {},
   "outputs": [],
   "source": [
    "data, target = next(iter(train_loader))"
   ]
  },
  {
   "cell_type": "code",
   "execution_count": 103,
   "metadata": {},
   "outputs": [
    {
     "data": {
      "text/plain": [
       "torch.Size([64, 1, 28, 28])"
      ]
     },
     "execution_count": 103,
     "metadata": {},
     "output_type": "execute_result"
    }
   ],
   "source": [
    "data.shape"
   ]
  },
  {
   "cell_type": "code",
   "execution_count": 104,
   "metadata": {},
   "outputs": [],
   "source": [
    "data, target = data.to(device), target.to(device)"
   ]
  },
  {
   "cell_type": "code",
   "execution_count": 105,
   "metadata": {},
   "outputs": [
    {
     "data": {
      "text/plain": [
       "torch.Size([64, 1, 28, 28])"
      ]
     },
     "execution_count": 105,
     "metadata": {},
     "output_type": "execute_result"
    }
   ],
   "source": [
    "data.shape # cpu에 탑재"
   ]
  },
  {
   "cell_type": "markdown",
   "metadata": {},
   "source": [
    "- optimizer clear 해주기"
   ]
  },
  {
   "cell_type": "code",
   "execution_count": 106,
   "metadata": {},
   "outputs": [],
   "source": [
    "optimizer.zero_grad()"
   ]
  },
  {
   "cell_type": "code",
   "execution_count": 107,
   "metadata": {},
   "outputs": [],
   "source": [
    "output = model(data)"
   ]
  },
  {
   "cell_type": "code",
   "execution_count": 108,
   "metadata": {},
   "outputs": [],
   "source": [
    "loss = F.nll_loss(output, target) #negative log likelihood"
   ]
  },
  {
   "cell_type": "code",
   "execution_count": 109,
   "metadata": {},
   "outputs": [],
   "source": [
    "loss.backward() # back-prop으로 기울기 계산"
   ]
  },
  {
   "cell_type": "code",
   "execution_count": 110,
   "metadata": {},
   "outputs": [],
   "source": [
    "optimizer.step() # update하기"
   ]
  },
  {
   "cell_type": "markdown",
   "metadata": {},
   "source": [
    "## Start Training\n",
    "- 위의 최적화 과정을 반복한 뒤, 학습 시작"
   ]
  },
  {
   "cell_type": "code",
   "execution_count": 111,
   "metadata": {},
   "outputs": [],
   "source": [
    "epochs = 1\n",
    "log_interval = 100"
   ]
  },
  {
   "cell_type": "code",
   "execution_count": 112,
   "metadata": {},
   "outputs": [
    {
     "name": "stdout",
     "output_type": "stream",
     "text": [
      "Train Epoch : 1 [ 0/60000 (0%)]\tLoss : 2.295042\n",
      "Train Epoch : 1 [ 6400/60000 (11%)]\tLoss : 0.273440\n",
      "Train Epoch : 1 [ 12800/60000 (21%)]\tLoss : 0.079954\n",
      "Train Epoch : 1 [ 19200/60000 (32%)]\tLoss : 0.053701\n",
      "Train Epoch : 1 [ 25600/60000 (43%)]\tLoss : 0.020478\n",
      "Train Epoch : 1 [ 32000/60000 (53%)]\tLoss : 0.095894\n",
      "Train Epoch : 1 [ 38400/60000 (64%)]\tLoss : 0.127567\n",
      "Train Epoch : 1 [ 44800/60000 (75%)]\tLoss : 0.046777\n",
      "Train Epoch : 1 [ 51200/60000 (85%)]\tLoss : 0.115824\n",
      "Train Epoch : 1 [ 57600/60000 (96%)]\tLoss : 0.035777\n"
     ]
    }
   ],
   "source": [
    "for epoch in range(1, epochs+1):\n",
    "    # train mode\n",
    "    model.train()\n",
    "    for batch_idx, (data,target) in enumerate(train_loader):\n",
    "        data, target = data.to(device), target.to(device)\n",
    "        optimizer.zero_grad()\n",
    "        output = model(data)\n",
    "        loss = F.nll_loss(output, target)\n",
    "        loss.backward()\n",
    "        optimizer.step()\n",
    "        \n",
    "        if batch_idx % log_interval == 0:\n",
    "            print('Train Epoch : {} [ {}/{} ({:.0f}%)]\\tLoss : {:.6f}'.format(\n",
    "                epoch, batch_idx*len(data), len(train_loader.dataset),\n",
    "                100*(batch_idx)/len(train_loader), loss.item()\n",
    "            ))"
   ]
  },
  {
   "cell_type": "markdown",
   "metadata": {},
   "source": [
    "## Evaluation\n",
    "- 이번에는 model.eval()모드로 설정\n",
    "- BatchNorm 이나 DropOut 같은 layer들을 잠금"
   ]
  },
  {
   "cell_type": "code",
   "execution_count": 113,
   "metadata": {},
   "outputs": [
    {
     "data": {
      "text/plain": [
       "Net(\n",
       "  (conv1): Conv2d(1, 20, kernel_size=(5, 5), stride=(1, 1))\n",
       "  (conv2): Conv2d(20, 50, kernel_size=(5, 5), stride=(1, 1))\n",
       "  (fc1): Linear(in_features=800, out_features=500, bias=True)\n",
       "  (fc2): Linear(in_features=500, out_features=10, bias=True)\n",
       ")"
      ]
     },
     "execution_count": 113,
     "metadata": {},
     "output_type": "execute_result"
    }
   ],
   "source": [
    "model.eval()"
   ]
  },
  {
   "cell_type": "markdown",
   "metadata": {},
   "source": [
    "- autograd engine (즉 back prop이나 grad 계산 )등을 꺼서 memory usage줄이고 속도 높임"
   ]
  },
  {
   "cell_type": "code",
   "execution_count": 114,
   "metadata": {},
   "outputs": [],
   "source": [
    "test_loss = 0\n",
    "correct = 0\n",
    "\n",
    "with torch.no_grad(): # 계산 끄기\n",
    "    data, target = next(iter(test_loader))\n",
    "    data, target = data.to(device), target.to(device)\n",
    "    output = model(data)\n",
    "    \n",
    "    test_loss += F.nll_loss(output, target, reduction='sum').item() # item : 담는다는 뜻\n",
    "    \n",
    "    pred = output.argmax(dim=1, keepdim=True)\n",
    "    correct = pred.eq(target.view_as(pred)).sum().item() # item : 담는다는 뜻"
   ]
  },
  {
   "cell_type": "code",
   "execution_count": 116,
   "metadata": {},
   "outputs": [
    {
     "data": {
      "text/plain": [
       "63"
      ]
     },
     "execution_count": 116,
     "metadata": {},
     "output_type": "execute_result"
    }
   ],
   "source": [
    "correct"
   ]
  },
  {
   "cell_type": "code",
   "execution_count": 117,
   "metadata": {},
   "outputs": [
    {
     "data": {
      "text/plain": [
       "1.2299838066101074"
      ]
     },
     "execution_count": 117,
     "metadata": {},
     "output_type": "execute_result"
    }
   ],
   "source": [
    "test_loss"
   ]
  },
  {
   "cell_type": "code",
   "execution_count": 125,
   "metadata": {},
   "outputs": [
    {
     "data": {
      "text/plain": [
       "0.984375"
      ]
     },
     "execution_count": 125,
     "metadata": {},
     "output_type": "execute_result"
    }
   ],
   "source": [
    "# 꽤 높은 정확도\n",
    "correct / len(pred.eq(target.view_as(pred)))"
   ]
  },
  {
   "cell_type": "code",
   "execution_count": 126,
   "metadata": {},
   "outputs": [
    {
     "data": {
      "text/plain": [
       "0.00012299838066101075"
      ]
     },
     "execution_count": 126,
     "metadata": {},
     "output_type": "execute_result"
    }
   ],
   "source": [
    "test_loss /= len(test_loader.dataset)\n",
    "test_loss"
   ]
  },
  {
   "cell_type": "code",
   "execution_count": 128,
   "metadata": {},
   "outputs": [
    {
     "name": "stdout",
     "output_type": "stream",
     "text": [
      "\n",
      "Test set : Average Loss : 0.0348, Accuracy : 9894/10000 (99&)\n",
      "\n"
     ]
    }
   ],
   "source": [
    "model.eval()\n",
    "test_loss = 0\n",
    "correct = 0\n",
    "with torch.no_grad():\n",
    "    for data, target in test_loader :\n",
    "        data, target = data.to(device), target.to(device)\n",
    "        output = model(data)\n",
    "        test_loss += F.nll_loss(output, target, reduction='sum').item()\n",
    "        pred = output.argmax(dim=1, keepdim=True)\n",
    "        correct += pred.eq(target.view_as(pred)).sum().item()\n",
    "    \n",
    "test_loss /= len(test_loader.dataset)\n",
    "\n",
    "print('\\nTest set : Average Loss : {:.4f}, Accuracy : {}/{} ({:.0f}&)\\n'.format(\n",
    "    test_loss, correct, len(test_loader.dataset), 100*(correct/len(test_loader.dataset))))"
   ]
  },
  {
   "cell_type": "markdown",
   "metadata": {},
   "source": [
    "## 종합\n",
    "- 1 epoch에서 train & test 반복!"
   ]
  },
  {
   "cell_type": "raw",
   "metadata": {},
   "source": [
    "for epoch in range(1, epochs+1):\n",
    "    # train mode\n",
    "    model.train()\n",
    "    for batch_idx, (data,target) in enumerate(train_loader):\n",
    "        data, target = data.to(device), target.to(device)\n",
    "        optimizer.zero_grad()\n",
    "        output = model(data)\n",
    "        loss = F.nll_loss(output, target)\n",
    "        loss.backward()\n",
    "        optimizer.step()\n",
    "        \n",
    "        if batch_idx % log_interval == 0:\n",
    "            print('Train Epoch : {} [ {}/{} ({:.0f}%)]\\tLoss : {:.6f}'.format(\n",
    "                epoch, batch_idx*len(data), len(train_loader.dataset),\n",
    "                100*(batch_idx)/len(train_loader), loss.item()\n",
    "            ))\n",
    "            \n",
    "            \n",
    "    model.eval()\n",
    "    \n",
    "    test_loss = 0\n",
    "    correct = 0\n",
    "    with torch.no_grad():\n",
    "        for data, target in test_loader :\n",
    "            data, target = data.to(device), target.to(device)\n",
    "            output = model(data)\n",
    "            test_loss += F.nll_loss(output, target, reduction='sum').item()\n",
    "            pred = output.argmax(dim=1, keepdim=True)\n",
    "            correct += pred.eq(target.view_as(pred)).sum().item()\n",
    "    \n",
    "    test_loss /= len(test_loader.dataset)\n",
    "    print('\\nTest set : Average Loss : {:.4f}, Accuracy : {}/{} ({:.0f}&)\\n'.format(\n",
    "        test_loss, correct, len(test_loader.dataset), 100*(correct/len(test_loader.dataset))))"
   ]
  }
 ],
 "metadata": {
  "kernelspec": {
   "display_name": "Python 3",
   "language": "python",
   "name": "python3"
  },
  "language_info": {
   "codemirror_mode": {
    "name": "ipython",
    "version": 3
   },
   "file_extension": ".py",
   "mimetype": "text/x-python",
   "name": "python",
   "nbconvert_exporter": "python",
   "pygments_lexer": "ipython3",
   "version": "3.6.9"
  }
 },
 "nbformat": 4,
 "nbformat_minor": 2
}
