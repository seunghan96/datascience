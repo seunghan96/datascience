{
 "cells": [
  {
   "cell_type": "markdown",
   "metadata": {},
   "source": [
    "# Text Generation using RNN"
   ]
  },
  {
   "attachments": {
    "image.png": {
     "image/png": "[encoded data removed]"
    }
   },
   "cell_type": "markdown",
   "metadata": {},
   "source": [
    "### example\n",
    "![image.png](attachment:image.png)"
   ]
  },
  {
   "cell_type": "markdown",
   "metadata": {},
   "source": [
    "### 1) data preprocessing"
   ]
  },
  {
   "cell_type": "code",
   "execution_count": 1,
   "metadata": {},
   "outputs": [],
   "source": [
    "import numpy as np\n",
    "from tensorflow.keras.preprocessing.text import Tokenizer\n",
    "from tensorflow.keras.preprocessing.sequence import pad_sequences\n",
    "from tensorflow.keras.utils import to_categorical"
   ]
  },
  {
   "cell_type": "code",
   "execution_count": 2,
   "metadata": {},
   "outputs": [],
   "source": [
    "text=\"\"\"경마장에 있는 말이 뛰고 있다\\n\n",
    "그의 말이 법이다\\n\n",
    "가는 말이 고와야 오는 말이 곱다\\n\"\"\""
   ]
  },
  {
   "cell_type": "markdown",
   "metadata": {},
   "source": [
    "a) Tokenize"
   ]
  },
  {
   "cell_type": "code",
   "execution_count": 3,
   "metadata": {},
   "outputs": [],
   "source": [
    "t = Tokenizer()\n",
    "t.fit_on_texts([text])"
   ]
  },
  {
   "cell_type": "code",
   "execution_count": 5,
   "metadata": {},
   "outputs": [
    {
     "data": {
      "text/plain": [
       "{'말이': 1,\n",
       " '경마장에': 2,\n",
       " '있는': 3,\n",
       " '뛰고': 4,\n",
       " '있다': 5,\n",
       " '그의': 6,\n",
       " '법이다': 7,\n",
       " '가는': 8,\n",
       " '고와야': 9,\n",
       " '오는': 10,\n",
       " '곱다': 11}"
      ]
     },
     "execution_count": 5,
     "metadata": {},
     "output_type": "execute_result"
    }
   ],
   "source": [
    "t.word_index"
   ]
  },
  {
   "cell_type": "markdown",
   "metadata": {},
   "source": [
    "( 1을 더하는 이유? Keras의 Tokenizer의 정수 인코딩은 index가 1부터 시작! )"
   ]
  },
  {
   "cell_type": "code",
   "execution_count": 6,
   "metadata": {},
   "outputs": [],
   "source": [
    "vocab_size = len(t.word_index) + 1"
   ]
  },
  {
   "cell_type": "markdown",
   "metadata": {},
   "source": [
    "b) Training Data"
   ]
  },
  {
   "cell_type": "code",
   "execution_count": 14,
   "metadata": {},
   "outputs": [
    {
     "data": {
      "text/plain": [
       "[2, 3, 1, 4, 5]"
      ]
     },
     "execution_count": 14,
     "metadata": {},
     "output_type": "execute_result"
    }
   ],
   "source": [
    "t.texts_to_sequences(['경마장에 있는 말이 뛰고 있다'])[0]"
   ]
  },
  {
   "cell_type": "code",
   "execution_count": 15,
   "metadata": {},
   "outputs": [],
   "source": [
    "sequences = list()\n",
    "for line in text.split('\\n'):\n",
    "    encoded = t.texts_to_sequences([line])[0]\n",
    "    for i in range(1,len(encoded)):\n",
    "        sequence = encoded[:i+1]\n",
    "        sequences.append(sequence)"
   ]
  },
  {
   "cell_type": "code",
   "execution_count": 17,
   "metadata": {},
   "outputs": [
    {
     "data": {
      "text/plain": [
       "11"
      ]
     },
     "execution_count": 17,
     "metadata": {},
     "output_type": "execute_result"
    }
   ],
   "source": [
    "# 학습에 사용할 샘플의 개수\n",
    "len(sequences)"
   ]
  },
  {
   "cell_type": "code",
   "execution_count": 16,
   "metadata": {},
   "outputs": [
    {
     "data": {
      "text/plain": [
       "[[2, 3],\n",
       " [2, 3, 1],\n",
       " [2, 3, 1, 4],\n",
       " [2, 3, 1, 4, 5],\n",
       " [6, 1],\n",
       " [6, 1, 7],\n",
       " [8, 1],\n",
       " [8, 1, 9],\n",
       " [8, 1, 9, 10],\n",
       " [8, 1, 9, 10, 1],\n",
       " [8, 1, 9, 10, 1, 11]]"
      ]
     },
     "execution_count": 16,
     "metadata": {},
     "output_type": "execute_result"
    }
   ],
   "source": [
    "sequences"
   ]
  },
  {
   "cell_type": "code",
   "execution_count": 18,
   "metadata": {},
   "outputs": [
    {
     "data": {
      "text/plain": [
       "6"
      ]
     },
     "execution_count": 18,
     "metadata": {},
     "output_type": "execute_result"
    }
   ],
   "source": [
    "# 샘플의 길이를 padding을 통해 일치시켜줘야! max_length로\n",
    "max_len = max(len(l) for l in sequences)\n",
    "max_len"
   ]
  },
  {
   "cell_type": "code",
   "execution_count": 19,
   "metadata": {},
   "outputs": [],
   "source": [
    "sequences = pad_sequences(sequences, maxlen=max_len, padding='pre')"
   ]
  },
  {
   "cell_type": "code",
   "execution_count": 20,
   "metadata": {},
   "outputs": [
    {
     "data": {
      "text/plain": [
       "array([[ 0,  0,  0,  0,  2,  3],\n",
       "       [ 0,  0,  0,  2,  3,  1],\n",
       "       [ 0,  0,  2,  3,  1,  4],\n",
       "       [ 0,  2,  3,  1,  4,  5],\n",
       "       [ 0,  0,  0,  0,  6,  1],\n",
       "       [ 0,  0,  0,  6,  1,  7],\n",
       "       [ 0,  0,  0,  0,  8,  1],\n",
       "       [ 0,  0,  0,  8,  1,  9],\n",
       "       [ 0,  0,  8,  1,  9, 10],\n",
       "       [ 0,  8,  1,  9, 10,  1],\n",
       "       [ 8,  1,  9, 10,  1, 11]])"
      ]
     },
     "execution_count": 20,
     "metadata": {},
     "output_type": "execute_result"
    }
   ],
   "source": [
    "sequences"
   ]
  },
  {
   "cell_type": "code",
   "execution_count": 21,
   "metadata": {},
   "outputs": [],
   "source": [
    "X = sequences[:, :-1]\n",
    "y = sequences[:,-1]"
   ]
  },
  {
   "cell_type": "code",
   "execution_count": 22,
   "metadata": {},
   "outputs": [
    {
     "data": {
      "text/plain": [
       "array([ 3,  1,  4,  5,  1,  7,  1,  9, 10,  1, 11])"
      ]
     },
     "execution_count": 22,
     "metadata": {},
     "output_type": "execute_result"
    }
   ],
   "source": [
    "y"
   ]
  },
  {
   "cell_type": "code",
   "execution_count": 23,
   "metadata": {},
   "outputs": [],
   "source": [
    "# One-Hot Encoding\n",
    "y = to_categorical(y, num_classes=vocab_size)"
   ]
  },
  {
   "cell_type": "code",
   "execution_count": 24,
   "metadata": {},
   "outputs": [
    {
     "data": {
      "text/plain": [
       "array([[0., 0., 0., 1., 0., 0., 0., 0., 0., 0., 0., 0.],\n",
       "       [0., 1., 0., 0., 0., 0., 0., 0., 0., 0., 0., 0.],\n",
       "       [0., 0., 0., 0., 1., 0., 0., 0., 0., 0., 0., 0.],\n",
       "       [0., 0., 0., 0., 0., 1., 0., 0., 0., 0., 0., 0.],\n",
       "       [0., 1., 0., 0., 0., 0., 0., 0., 0., 0., 0., 0.],\n",
       "       [0., 0., 0., 0., 0., 0., 0., 1., 0., 0., 0., 0.],\n",
       "       [0., 1., 0., 0., 0., 0., 0., 0., 0., 0., 0., 0.],\n",
       "       [0., 0., 0., 0., 0., 0., 0., 0., 0., 1., 0., 0.],\n",
       "       [0., 0., 0., 0., 0., 0., 0., 0., 0., 0., 1., 0.],\n",
       "       [0., 1., 0., 0., 0., 0., 0., 0., 0., 0., 0., 0.],\n",
       "       [0., 0., 0., 0., 0., 0., 0., 0., 0., 0., 0., 1.]], dtype=float32)"
      ]
     },
     "execution_count": 24,
     "metadata": {},
     "output_type": "execute_result"
    }
   ],
   "source": [
    "y"
   ]
  },
  {
   "cell_type": "markdown",
   "metadata": {},
   "source": [
    "### 2) modeling"
   ]
  },
  {
   "cell_type": "code",
   "execution_count": 25,
   "metadata": {},
   "outputs": [],
   "source": [
    "from tensorflow.keras.models import Sequential\n",
    "from tensorflow.keras.layers import Embedding, Dense, SimpleRNN"
   ]
  },
  {
   "cell_type": "code",
   "execution_count": 27,
   "metadata": {},
   "outputs": [],
   "source": [
    "model = Sequential()\n",
    "model.add(Embedding(vocab_size,10, input_length=max_len-1)) # label을 분리하였으므로 '-1'\n",
    "model.add(SimpleRNN(32))\n",
    "model.add(Dense(vocab_size, activation='softmax'))"
   ]
  },
  {
   "cell_type": "code",
   "execution_count": 30,
   "metadata": {},
   "outputs": [
    {
     "name": "stdout",
     "output_type": "stream",
     "text": [
      "Model: \"sequential\"\n",
      "_________________________________________________________________\n",
      "Layer (type)                 Output Shape              Param #   \n",
      "=================================================================\n",
      "embedding (Embedding)        (None, 5, 10)             120       \n",
      "_________________________________________________________________\n",
      "simple_rnn (SimpleRNN)       (None, 32)                1376      \n",
      "_________________________________________________________________\n",
      "dense (Dense)                (None, 12)                396       \n",
      "=================================================================\n",
      "Total params: 1,892\n",
      "Trainable params: 1,892\n",
      "Non-trainable params: 0\n",
      "_________________________________________________________________\n"
     ]
    }
   ],
   "source": [
    "model.summary()"
   ]
  },
  {
   "cell_type": "code",
   "execution_count": 28,
   "metadata": {},
   "outputs": [
    {
     "name": "stdout",
     "output_type": "stream",
     "text": [
      "Train on 11 samples\n",
      "Epoch 1/200\n",
      "11/11 - 2s - loss: 2.5168 - accuracy: 0.0000e+00\n",
      "Epoch 2/200\n",
      "11/11 - 0s - loss: 2.5045 - accuracy: 0.0000e+00\n",
      "Epoch 3/200\n",
      "11/11 - 0s - loss: 2.4925 - accuracy: 0.0000e+00\n",
      "Epoch 4/200\n",
      "11/11 - 0s - loss: 2.4807 - accuracy: 0.0000e+00\n",
      "Epoch 5/200\n",
      "11/11 - 0s - loss: 2.4690 - accuracy: 0.0909\n",
      "Epoch 6/200\n",
      "11/11 - 0s - loss: 2.4573 - accuracy: 0.0909\n",
      "Epoch 7/200\n",
      "11/11 - 0s - loss: 2.4455 - accuracy: 0.1818\n",
      "Epoch 8/200\n",
      "11/11 - 0s - loss: 2.4334 - accuracy: 0.1818\n",
      "Epoch 9/200\n",
      "11/11 - 0s - loss: 2.4210 - accuracy: 0.2727\n",
      "Epoch 10/200\n",
      "11/11 - 0s - loss: 2.4081 - accuracy: 0.3636\n",
      "Epoch 11/200\n",
      "11/11 - 0s - loss: 2.3947 - accuracy: 0.4545\n",
      "Epoch 12/200\n",
      "11/11 - 0s - loss: 2.3806 - accuracy: 0.4545\n",
      "Epoch 13/200\n",
      "11/11 - 0s - loss: 2.3658 - accuracy: 0.4545\n",
      "Epoch 14/200\n",
      "11/11 - 0s - loss: 2.3501 - accuracy: 0.4545\n",
      "Epoch 15/200\n",
      "11/11 - 0s - loss: 2.3336 - accuracy: 0.4545\n",
      "Epoch 16/200\n",
      "11/11 - 0s - loss: 2.3162 - accuracy: 0.4545\n",
      "Epoch 17/200\n",
      "11/11 - 0s - loss: 2.2978 - accuracy: 0.4545\n",
      "Epoch 18/200\n",
      "11/11 - 0s - loss: 2.2784 - accuracy: 0.3636\n",
      "Epoch 19/200\n",
      "11/11 - 0s - loss: 2.2580 - accuracy: 0.3636\n",
      "Epoch 20/200\n",
      "11/11 - 0s - loss: 2.2366 - accuracy: 0.3636\n",
      "Epoch 21/200\n",
      "11/11 - 0s - loss: 2.2144 - accuracy: 0.3636\n",
      "Epoch 22/200\n",
      "11/11 - 0s - loss: 2.1914 - accuracy: 0.3636\n",
      "Epoch 23/200\n",
      "11/11 - 0s - loss: 2.1678 - accuracy: 0.3636\n",
      "Epoch 24/200\n",
      "11/11 - 0s - loss: 2.1437 - accuracy: 0.3636\n",
      "Epoch 25/200\n",
      "11/11 - 0s - loss: 2.1194 - accuracy: 0.3636\n",
      "Epoch 26/200\n",
      "11/11 - 0s - loss: 2.0951 - accuracy: 0.3636\n",
      "Epoch 27/200\n",
      "11/11 - 0s - loss: 2.0712 - accuracy: 0.3636\n",
      "Epoch 28/200\n",
      "11/11 - 0s - loss: 2.0478 - accuracy: 0.3636\n",
      "Epoch 29/200\n",
      "11/11 - 0s - loss: 2.0254 - accuracy: 0.3636\n",
      "Epoch 30/200\n",
      "11/11 - 0s - loss: 2.0041 - accuracy: 0.3636\n",
      "Epoch 31/200\n",
      "11/11 - 0s - loss: 1.9842 - accuracy: 0.3636\n",
      "Epoch 32/200\n",
      "11/11 - 0s - loss: 1.9658 - accuracy: 0.3636\n",
      "Epoch 33/200\n",
      "11/11 - 0s - loss: 1.9489 - accuracy: 0.3636\n",
      "Epoch 34/200\n",
      "11/11 - 0s - loss: 1.9335 - accuracy: 0.3636\n",
      "Epoch 35/200\n",
      "11/11 - 0s - loss: 1.9194 - accuracy: 0.3636\n",
      "Epoch 36/200\n",
      "11/11 - 0s - loss: 1.9064 - accuracy: 0.3636\n",
      "Epoch 37/200\n",
      "11/11 - 0s - loss: 1.8943 - accuracy: 0.3636\n",
      "Epoch 38/200\n",
      "11/11 - 0s - loss: 1.8829 - accuracy: 0.3636\n",
      "Epoch 39/200\n",
      "11/11 - 0s - loss: 1.8719 - accuracy: 0.3636\n",
      "Epoch 40/200\n",
      "11/11 - 0s - loss: 1.8610 - accuracy: 0.3636\n",
      "Epoch 41/200\n",
      "11/11 - 0s - loss: 1.8503 - accuracy: 0.3636\n",
      "Epoch 42/200\n",
      "11/11 - 0s - loss: 1.8396 - accuracy: 0.3636\n",
      "Epoch 43/200\n",
      "11/11 - 0s - loss: 1.8288 - accuracy: 0.3636\n",
      "Epoch 44/200\n",
      "11/11 - 0s - loss: 1.8179 - accuracy: 0.3636\n",
      "Epoch 45/200\n",
      "11/11 - 0s - loss: 1.8070 - accuracy: 0.3636\n",
      "Epoch 46/200\n",
      "11/11 - 0s - loss: 1.7961 - accuracy: 0.3636\n",
      "Epoch 47/200\n",
      "11/11 - 0s - loss: 1.7851 - accuracy: 0.3636\n",
      "Epoch 48/200\n",
      "11/11 - 0s - loss: 1.7741 - accuracy: 0.3636\n",
      "Epoch 49/200\n",
      "11/11 - 0s - loss: 1.7629 - accuracy: 0.3636\n",
      "Epoch 50/200\n",
      "11/11 - 0s - loss: 1.7514 - accuracy: 0.3636\n",
      "Epoch 51/200\n",
      "11/11 - 0s - loss: 1.7396 - accuracy: 0.3636\n",
      "Epoch 52/200\n",
      "11/11 - 0s - loss: 1.7274 - accuracy: 0.3636\n",
      "Epoch 53/200\n",
      "11/11 - 0s - loss: 1.7146 - accuracy: 0.3636\n",
      "Epoch 54/200\n",
      "11/11 - 0s - loss: 1.7013 - accuracy: 0.3636\n",
      "Epoch 55/200\n",
      "11/11 - 0s - loss: 1.6873 - accuracy: 0.4545\n",
      "Epoch 56/200\n",
      "11/11 - 0s - loss: 1.6726 - accuracy: 0.4545\n",
      "Epoch 57/200\n",
      "11/11 - 0s - loss: 1.6573 - accuracy: 0.4545\n",
      "Epoch 58/200\n",
      "11/11 - 0s - loss: 1.6413 - accuracy: 0.4545\n",
      "Epoch 59/200\n",
      "11/11 - 0s - loss: 1.6247 - accuracy: 0.4545\n",
      "Epoch 60/200\n",
      "11/11 - 0s - loss: 1.6075 - accuracy: 0.4545\n",
      "Epoch 61/200\n",
      "11/11 - 0s - loss: 1.5896 - accuracy: 0.5455\n",
      "Epoch 62/200\n",
      "11/11 - 0s - loss: 1.5712 - accuracy: 0.5455\n",
      "Epoch 63/200\n",
      "11/11 - 0s - loss: 1.5523 - accuracy: 0.5455\n",
      "Epoch 64/200\n",
      "11/11 - 0s - loss: 1.5328 - accuracy: 0.5455\n",
      "Epoch 65/200\n",
      "11/11 - 0s - loss: 1.5130 - accuracy: 0.5455\n",
      "Epoch 66/200\n",
      "11/11 - 0s - loss: 1.4927 - accuracy: 0.5455\n",
      "Epoch 67/200\n",
      "11/11 - 0s - loss: 1.4721 - accuracy: 0.5455\n",
      "Epoch 68/200\n",
      "11/11 - 0s - loss: 1.4513 - accuracy: 0.5455\n",
      "Epoch 69/200\n",
      "11/11 - 0s - loss: 1.4302 - accuracy: 0.5455\n",
      "Epoch 70/200\n",
      "11/11 - 0s - loss: 1.4089 - accuracy: 0.5455\n",
      "Epoch 71/200\n",
      "11/11 - 0s - loss: 1.3876 - accuracy: 0.5455\n",
      "Epoch 72/200\n",
      "11/11 - 0s - loss: 1.3662 - accuracy: 0.5455\n",
      "Epoch 73/200\n",
      "11/11 - 0s - loss: 1.3449 - accuracy: 0.5455\n",
      "Epoch 74/200\n",
      "11/11 - 0s - loss: 1.3237 - accuracy: 0.5455\n",
      "Epoch 75/200\n",
      "11/11 - 0s - loss: 1.3026 - accuracy: 0.5455\n",
      "Epoch 76/200\n",
      "11/11 - 0s - loss: 1.2816 - accuracy: 0.5455\n",
      "Epoch 77/200\n",
      "11/11 - 0s - loss: 1.2609 - accuracy: 0.5455\n",
      "Epoch 78/200\n",
      "11/11 - 0s - loss: 1.2404 - accuracy: 0.5455\n",
      "Epoch 79/200\n",
      "11/11 - 0s - loss: 1.2201 - accuracy: 0.6364\n",
      "Epoch 80/200\n",
      "11/11 - 0s - loss: 1.2000 - accuracy: 0.6364\n",
      "Epoch 81/200\n",
      "11/11 - 0s - loss: 1.1802 - accuracy: 0.6364\n",
      "Epoch 82/200\n",
      "11/11 - 0s - loss: 1.1606 - accuracy: 0.7273\n",
      "Epoch 83/200\n",
      "11/11 - 0s - loss: 1.1412 - accuracy: 0.7273\n",
      "Epoch 84/200\n",
      "11/11 - 0s - loss: 1.1222 - accuracy: 0.7273\n",
      "Epoch 85/200\n",
      "11/11 - 0s - loss: 1.1033 - accuracy: 0.7273\n",
      "Epoch 86/200\n",
      "11/11 - 0s - loss: 1.0847 - accuracy: 0.7273\n",
      "Epoch 87/200\n",
      "11/11 - 0s - loss: 1.0664 - accuracy: 0.7273\n",
      "Epoch 88/200\n",
      "11/11 - 0s - loss: 1.0483 - accuracy: 0.7273\n",
      "Epoch 89/200\n",
      "11/11 - 0s - loss: 1.0305 - accuracy: 0.7273\n",
      "Epoch 90/200\n",
      "11/11 - 0s - loss: 1.0129 - accuracy: 0.7273\n",
      "Epoch 91/200\n",
      "11/11 - 0s - loss: 0.9957 - accuracy: 0.7273\n",
      "Epoch 92/200\n",
      "11/11 - 0s - loss: 0.9787 - accuracy: 0.7273\n",
      "Epoch 93/200\n",
      "11/11 - 0s - loss: 0.9619 - accuracy: 0.7273\n",
      "Epoch 94/200\n",
      "11/11 - 0s - loss: 0.9455 - accuracy: 0.7273\n",
      "Epoch 95/200\n",
      "11/11 - 0s - loss: 0.9293 - accuracy: 0.7273\n",
      "Epoch 96/200\n",
      "11/11 - 0s - loss: 0.9135 - accuracy: 0.7273\n",
      "Epoch 97/200\n",
      "11/11 - 0s - loss: 0.8979 - accuracy: 0.7273\n",
      "Epoch 98/200\n",
      "11/11 - 0s - loss: 0.8825 - accuracy: 0.7273\n",
      "Epoch 99/200\n",
      "11/11 - 0s - loss: 0.8675 - accuracy: 0.7273\n",
      "Epoch 100/200\n",
      "11/11 - 0s - loss: 0.8527 - accuracy: 0.7273\n",
      "Epoch 101/200\n",
      "11/11 - 0s - loss: 0.8382 - accuracy: 0.7273\n",
      "Epoch 102/200\n",
      "11/11 - 0s - loss: 0.8239 - accuracy: 0.7273\n",
      "Epoch 103/200\n",
      "11/11 - 0s - loss: 0.8099 - accuracy: 0.7273\n",
      "Epoch 104/200\n",
      "11/11 - 0s - loss: 0.7961 - accuracy: 0.7273\n",
      "Epoch 105/200\n",
      "11/11 - 0s - loss: 0.7825 - accuracy: 0.7273\n",
      "Epoch 106/200\n",
      "11/11 - 0s - loss: 0.7692 - accuracy: 0.7273\n",
      "Epoch 107/200\n",
      "11/11 - 0s - loss: 0.7561 - accuracy: 0.7273\n",
      "Epoch 108/200\n",
      "11/11 - 0s - loss: 0.7432 - accuracy: 0.7273\n",
      "Epoch 109/200\n",
      "11/11 - 0s - loss: 0.7305 - accuracy: 0.7273\n",
      "Epoch 110/200\n",
      "11/11 - 0s - loss: 0.7180 - accuracy: 0.8182\n",
      "Epoch 111/200\n",
      "11/11 - 0s - loss: 0.7057 - accuracy: 0.8182\n",
      "Epoch 112/200\n",
      "11/11 - 0s - loss: 0.6936 - accuracy: 0.8182\n",
      "Epoch 113/200\n",
      "11/11 - 0s - loss: 0.6816 - accuracy: 0.8182\n",
      "Epoch 114/200\n",
      "11/11 - 0s - loss: 0.6699 - accuracy: 0.8182\n",
      "Epoch 115/200\n",
      "11/11 - 0s - loss: 0.6583 - accuracy: 0.8182\n",
      "Epoch 116/200\n",
      "11/11 - 0s - loss: 0.6470 - accuracy: 0.8182\n",
      "Epoch 117/200\n",
      "11/11 - 0s - loss: 0.6357 - accuracy: 0.8182\n",
      "Epoch 118/200\n",
      "11/11 - 0s - loss: 0.6247 - accuracy: 0.8182\n",
      "Epoch 119/200\n",
      "11/11 - 0s - loss: 0.6138 - accuracy: 0.8182\n",
      "Epoch 120/200\n",
      "11/11 - 0s - loss: 0.6030 - accuracy: 0.8182\n",
      "Epoch 121/200\n",
      "11/11 - 0s - loss: 0.5925 - accuracy: 0.8182\n",
      "Epoch 122/200\n",
      "11/11 - 0s - loss: 0.5820 - accuracy: 0.8182\n",
      "Epoch 123/200\n",
      "11/11 - 0s - loss: 0.5717 - accuracy: 0.8182\n",
      "Epoch 124/200\n",
      "11/11 - 0s - loss: 0.5616 - accuracy: 0.8182\n",
      "Epoch 125/200\n",
      "11/11 - 0s - loss: 0.5516 - accuracy: 0.8182\n",
      "Epoch 126/200\n",
      "11/11 - 0s - loss: 0.5417 - accuracy: 0.8182\n",
      "Epoch 127/200\n",
      "11/11 - 0s - loss: 0.5320 - accuracy: 0.8182\n",
      "Epoch 128/200\n",
      "11/11 - 0s - loss: 0.5224 - accuracy: 0.8182\n",
      "Epoch 129/200\n",
      "11/11 - 0s - loss: 0.5130 - accuracy: 0.8182\n",
      "Epoch 130/200\n",
      "11/11 - 0s - loss: 0.5036 - accuracy: 0.9091\n",
      "Epoch 131/200\n",
      "11/11 - 0s - loss: 0.4944 - accuracy: 0.9091\n",
      "Epoch 132/200\n",
      "11/11 - 0s - loss: 0.4853 - accuracy: 0.9091\n",
      "Epoch 133/200\n",
      "11/11 - 0s - loss: 0.4764 - accuracy: 0.9091\n",
      "Epoch 134/200\n",
      "11/11 - 0s - loss: 0.4675 - accuracy: 0.9091\n",
      "Epoch 135/200\n",
      "11/11 - 0s - loss: 0.4588 - accuracy: 0.9091\n",
      "Epoch 136/200\n",
      "11/11 - 0s - loss: 0.4502 - accuracy: 0.9091\n",
      "Epoch 137/200\n",
      "11/11 - 0s - loss: 0.4417 - accuracy: 0.9091\n",
      "Epoch 138/200\n",
      "11/11 - 0s - loss: 0.4333 - accuracy: 0.9091\n",
      "Epoch 139/200\n",
      "11/11 - 0s - loss: 0.4250 - accuracy: 0.9091\n",
      "Epoch 140/200\n",
      "11/11 - 0s - loss: 0.4169 - accuracy: 0.9091\n",
      "Epoch 141/200\n",
      "11/11 - 0s - loss: 0.4088 - accuracy: 0.9091\n"
     ]
    },
    {
     "name": "stdout",
     "output_type": "stream",
     "text": [
      "Epoch 142/200\n",
      "11/11 - 0s - loss: 0.4009 - accuracy: 0.9091\n",
      "Epoch 143/200\n",
      "11/11 - 0s - loss: 0.3931 - accuracy: 0.9091\n",
      "Epoch 144/200\n",
      "11/11 - 0s - loss: 0.3854 - accuracy: 0.9091\n",
      "Epoch 145/200\n",
      "11/11 - 0s - loss: 0.3778 - accuracy: 0.9091\n",
      "Epoch 146/200\n",
      "11/11 - 0s - loss: 0.3703 - accuracy: 0.9091\n",
      "Epoch 147/200\n",
      "11/11 - 0s - loss: 0.3629 - accuracy: 0.9091\n",
      "Epoch 148/200\n",
      "11/11 - 0s - loss: 0.3557 - accuracy: 0.9091\n",
      "Epoch 149/200\n",
      "11/11 - 0s - loss: 0.3485 - accuracy: 0.9091\n",
      "Epoch 150/200\n",
      "11/11 - 0s - loss: 0.3415 - accuracy: 0.9091\n",
      "Epoch 151/200\n",
      "11/11 - 0s - loss: 0.3346 - accuracy: 0.9091\n",
      "Epoch 152/200\n",
      "11/11 - 0s - loss: 0.3278 - accuracy: 0.9091\n",
      "Epoch 153/200\n",
      "11/11 - 0s - loss: 0.3211 - accuracy: 1.0000\n",
      "Epoch 154/200\n",
      "11/11 - 0s - loss: 0.3145 - accuracy: 1.0000\n",
      "Epoch 155/200\n",
      "11/11 - 0s - loss: 0.3080 - accuracy: 1.0000\n",
      "Epoch 156/200\n",
      "11/11 - 0s - loss: 0.3016 - accuracy: 1.0000\n",
      "Epoch 157/200\n",
      "11/11 - 0s - loss: 0.2953 - accuracy: 1.0000\n",
      "Epoch 158/200\n",
      "11/11 - 0s - loss: 0.2892 - accuracy: 1.0000\n",
      "Epoch 159/200\n",
      "11/11 - 0s - loss: 0.2832 - accuracy: 1.0000\n",
      "Epoch 160/200\n",
      "11/11 - 0s - loss: 0.2772 - accuracy: 1.0000\n",
      "Epoch 161/200\n",
      "11/11 - 0s - loss: 0.2714 - accuracy: 1.0000\n",
      "Epoch 162/200\n",
      "11/11 - 0s - loss: 0.2657 - accuracy: 1.0000\n",
      "Epoch 163/200\n",
      "11/11 - 0s - loss: 0.2601 - accuracy: 1.0000\n",
      "Epoch 164/200\n",
      "11/11 - 0s - loss: 0.2546 - accuracy: 1.0000\n",
      "Epoch 165/200\n",
      "11/11 - 0s - loss: 0.2492 - accuracy: 1.0000\n",
      "Epoch 166/200\n",
      "11/11 - 0s - loss: 0.2439 - accuracy: 1.0000\n",
      "Epoch 167/200\n",
      "11/11 - 0s - loss: 0.2388 - accuracy: 1.0000\n",
      "Epoch 168/200\n",
      "11/11 - 0s - loss: 0.2337 - accuracy: 1.0000\n",
      "Epoch 169/200\n",
      "11/11 - 0s - loss: 0.2288 - accuracy: 1.0000\n",
      "Epoch 170/200\n",
      "11/11 - 0s - loss: 0.2239 - accuracy: 1.0000\n",
      "Epoch 171/200\n",
      "11/11 - 0s - loss: 0.2192 - accuracy: 1.0000\n",
      "Epoch 172/200\n",
      "11/11 - 0s - loss: 0.2145 - accuracy: 1.0000\n",
      "Epoch 173/200\n",
      "11/11 - 0s - loss: 0.2100 - accuracy: 1.0000\n",
      "Epoch 174/200\n",
      "11/11 - 0s - loss: 0.2055 - accuracy: 1.0000\n",
      "Epoch 175/200\n",
      "11/11 - 0s - loss: 0.2012 - accuracy: 1.0000\n",
      "Epoch 176/200\n",
      "11/11 - 0s - loss: 0.1969 - accuracy: 1.0000\n",
      "Epoch 177/200\n",
      "11/11 - 0s - loss: 0.1928 - accuracy: 1.0000\n",
      "Epoch 178/200\n",
      "11/11 - 0s - loss: 0.1888 - accuracy: 1.0000\n",
      "Epoch 179/200\n",
      "11/11 - 0s - loss: 0.1848 - accuracy: 1.0000\n",
      "Epoch 180/200\n",
      "11/11 - 0s - loss: 0.1809 - accuracy: 1.0000\n",
      "Epoch 181/200\n",
      "11/11 - 0s - loss: 0.1772 - accuracy: 1.0000\n",
      "Epoch 182/200\n",
      "11/11 - 0s - loss: 0.1735 - accuracy: 1.0000\n",
      "Epoch 183/200\n",
      "11/11 - 0s - loss: 0.1699 - accuracy: 1.0000\n",
      "Epoch 184/200\n",
      "11/11 - 0s - loss: 0.1664 - accuracy: 1.0000\n",
      "Epoch 185/200\n",
      "11/11 - 0s - loss: 0.1630 - accuracy: 1.0000\n",
      "Epoch 186/200\n",
      "11/11 - 0s - loss: 0.1597 - accuracy: 1.0000\n",
      "Epoch 187/200\n",
      "11/11 - 0s - loss: 0.1564 - accuracy: 1.0000\n",
      "Epoch 188/200\n",
      "11/11 - 0s - loss: 0.1533 - accuracy: 1.0000\n",
      "Epoch 189/200\n",
      "11/11 - 0s - loss: 0.1502 - accuracy: 1.0000\n",
      "Epoch 190/200\n",
      "11/11 - 0s - loss: 0.1472 - accuracy: 1.0000\n",
      "Epoch 191/200\n",
      "11/11 - 0s - loss: 0.1442 - accuracy: 1.0000\n",
      "Epoch 192/200\n",
      "11/11 - 0s - loss: 0.1414 - accuracy: 1.0000\n",
      "Epoch 193/200\n",
      "11/11 - 0s - loss: 0.1386 - accuracy: 1.0000\n",
      "Epoch 194/200\n",
      "11/11 - 0s - loss: 0.1359 - accuracy: 1.0000\n",
      "Epoch 195/200\n",
      "11/11 - 0s - loss: 0.1332 - accuracy: 1.0000\n",
      "Epoch 196/200\n",
      "11/11 - 0s - loss: 0.1307 - accuracy: 1.0000\n",
      "Epoch 197/200\n",
      "11/11 - 0s - loss: 0.1281 - accuracy: 1.0000\n",
      "Epoch 198/200\n",
      "11/11 - 0s - loss: 0.1257 - accuracy: 1.0000\n",
      "Epoch 199/200\n",
      "11/11 - 0s - loss: 0.1233 - accuracy: 1.0000\n",
      "Epoch 200/200\n",
      "11/11 - 0s - loss: 0.1210 - accuracy: 1.0000\n"
     ]
    },
    {
     "data": {
      "text/plain": [
       "<tensorflow.python.keras.callbacks.History at 0x20af94b7780>"
      ]
     },
     "execution_count": 28,
     "metadata": {},
     "output_type": "execute_result"
    }
   ],
   "source": [
    "model.compile(loss='categorical_crossentropy', optimizer='adam', metrics=['accuracy'])\n",
    "model.fit(X,y,epochs=200, verbose=2)"
   ]
  },
  {
   "cell_type": "markdown",
   "metadata": {},
   "source": [
    "### 3) sentence generation function (문장 생성 함수)"
   ]
  },
  {
   "cell_type": "code",
   "execution_count": 31,
   "metadata": {},
   "outputs": [],
   "source": [
    "def sentence_generation(model, t, current_word, n): # 모델, tokenizer, 현재 단어, 반복 횟수\n",
    "    init_word = current_word\n",
    "    sentence =''\n",
    "    for _ in range(n):\n",
    "        encoded = t.texts_to_sequences([current_word])[0]\n",
    "        encoded = pad_sequences([encoded], maxlen=5, padding='pre')\n",
    "        result = model.predict_classes(encoded,verbose=0)\n",
    "        \n",
    "        for word, index in t.word_index.items():\n",
    "            if index == result:\n",
    "                break\n",
    "        current_word = current_word + ' ' + word\n",
    "        sentence = sentence + ' ' + word\n",
    "    \n",
    "    sentence = init_word + sentence\n",
    "    return sentence"
   ]
  },
  {
   "cell_type": "code",
   "execution_count": 32,
   "metadata": {},
   "outputs": [
    {
     "data": {
      "text/plain": [
       "'경마장에 있는 말이 뛰고 있다'"
      ]
     },
     "execution_count": 32,
     "metadata": {},
     "output_type": "execute_result"
    }
   ],
   "source": [
    "sentence_generation(model,t,'경마장에',4)"
   ]
  },
  {
   "cell_type": "code",
   "execution_count": 34,
   "metadata": {},
   "outputs": [
    {
     "data": {
      "text/plain": [
       "'그의 말이 법이다'"
      ]
     },
     "execution_count": 34,
     "metadata": {},
     "output_type": "execute_result"
    }
   ],
   "source": [
    "sentence_generation(model,t,'그의',2)"
   ]
  },
  {
   "cell_type": "code",
   "execution_count": null,
   "metadata": {},
   "outputs": [],
   "source": []
  }
 ],
 "metadata": {
  "kernelspec": {
   "display_name": "Python 3",
   "language": "python",
   "name": "python3"
  },
  "language_info": {
   "codemirror_mode": {
    "name": "ipython",
    "version": 3
   },
   "file_extension": ".py",
   "mimetype": "text/x-python",
   "name": "python",
   "nbconvert_exporter": "python",
   "pygments_lexer": "ipython3",
   "version": "3.6.9"
  }
 },
 "nbformat": 4,
 "nbformat_minor": 2
}
