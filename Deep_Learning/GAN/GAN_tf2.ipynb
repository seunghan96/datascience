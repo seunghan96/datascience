{
 "cells": [
  {
   "cell_type": "markdown",
   "metadata": {},
   "source": [
    "### https://towardsdatascience.com/demystifying-gans-in-tensorflow-2-0-9890834ab3d9"
   ]
  },
  {
   "cell_type": "markdown",
   "metadata": {},
   "source": [
    "# 1. Data Preprocessing"
   ]
  },
  {
   "cell_type": "code",
   "execution_count": 1,
   "metadata": {},
   "outputs": [],
   "source": [
    "import tensorflow as tf\n",
    "import numpy as np\n",
    "import matplotlib.pyplot as plt"
   ]
  },
  {
   "cell_type": "markdown",
   "metadata": {},
   "source": [
    "### Mnist dataset"
   ]
  },
  {
   "cell_type": "code",
   "execution_count": 2,
   "metadata": {},
   "outputs": [],
   "source": [
    "mnist = tf.keras.datasets.mnist\n",
    "(train_images, train_labels), (test_images, test_labels) = mnist.load_data()"
   ]
  },
  {
   "cell_type": "code",
   "execution_count": 5,
   "metadata": {},
   "outputs": [],
   "source": [
    "batch_size = 256\n",
    "buffer_size = train_images.shape[0]\n",
    "epochs = 300\n",
    "\n",
    "# output directory where the images of the generator are stored\n",
    "output_idr = 'img'"
   ]
  },
  {
   "cell_type": "code",
   "execution_count": 7,
   "metadata": {},
   "outputs": [
    {
     "data": {
      "text/plain": [
       "<matplotlib.image.AxesImage at 0x1dcb74d0438>"
      ]
     },
     "execution_count": 7,
     "metadata": {},
     "output_type": "execute_result"
    },
    {
     "data": {
      "image/png": "[encoded data removed]",
      "text/plain": [
       "<Figure size 432x288 with 1 Axes>"
      ]
     },
     "metadata": {
      "needs_background": "light"
     },
     "output_type": "display_data"
    }
   ],
   "source": [
    "plt.imshow(train_images[1], cmap='gray')"
   ]
  },
  {
   "cell_type": "code",
   "execution_count": 8,
   "metadata": {},
   "outputs": [],
   "source": [
    "train_images = train_images.astype('float32')\n",
    "train_images = (train_images - 127.5) / 127.5\n",
    "\n",
    "train_dataset = tf.data.Dataset.from_tensor_slices(\n",
    "    train_images.reshape(train_images.shape[0],784)).shuffle(buffer_size).batch(batch_size)"
   ]
  },
  {
   "cell_type": "markdown",
   "metadata": {},
   "source": [
    "# 2. Modeling"
   ]
  },
  {
   "cell_type": "code",
   "execution_count": 9,
   "metadata": {},
   "outputs": [],
   "source": [
    "from tensorflow.keras import layers"
   ]
  },
  {
   "cell_type": "markdown",
   "metadata": {},
   "source": [
    "## (1) Generator"
   ]
  },
  {
   "cell_type": "markdown",
   "metadata": {},
   "source": [
    "- output a vector of size 784\n",
    "- (later) reshape the vector back to 28*28 (=original size of images)\n",
    "- 100 dimensional noise\n",
    "- 'generate_noise' = create random data points fromt he uniform distribution"
   ]
  },
  {
   "cell_type": "code",
   "execution_count": 11,
   "metadata": {},
   "outputs": [],
   "source": [
    "class Generator(tf.keras.Model):\n",
    "    \n",
    "    def __init__(self, random_noise_size=100):\n",
    "        super().__init__(name='generator')\n",
    "        self.input_layer = layers.Dense(units=random_noise_size)\n",
    "        self.dense_1 = layers.Dense(units=128)\n",
    "        self.leaky_1 = layers.LeakyReLU(alpha=0.01)\n",
    "        self.dense_2 = layers.Dense(units=128)\n",
    "        self.leaky_2 = layers.LeakyReLU(alpha=0.01)\n",
    "        self.dense_3 = layers.Dense(units=256)\n",
    "        self.leaky_3 = layers.LeakyReLU(alpha=0.01)\n",
    "        self.output_layer = layers.Dense(units=784, activation='tanh')\n",
    "        \n",
    "    def call(self, x):\n",
    "        x = self.input_layer(x)\n",
    "        x = self.dense_1(x)\n",
    "        x = self.leaky_1(x)\n",
    "        x = self.dense_2(x)\n",
    "        x = self.leaky_2(x)\n",
    "        x = self.dense_3(x)\n",
    "        x = self.leaky_3(x)\n",
    "        x = self.output_layer(x)\n",
    "        return x\n",
    "    \n",
    "    def generate_noise(self, batch_size, noise_size):\n",
    "        noise = np.random.uniform(-1,1,size=(batch_size,noise_size))\n",
    "        return noise"
   ]
  },
  {
   "cell_type": "markdown",
   "metadata": {},
   "source": [
    "## (2) Discriminator"
   ]
  },
  {
   "cell_type": "code",
   "execution_count": 23,
   "metadata": {},
   "outputs": [],
   "source": [
    "class Discriminator(tf.keras.Model):\n",
    "    \n",
    "    def __init__(self):\n",
    "        super().__init__(name='discriminator')\n",
    "        self.input_layer = layers.Dense(units=784)\n",
    "        self.dense_1 = layers.Dense(units=128)\n",
    "        self.leaky_1 = layers.LeakyReLU(alpha=0.01)\n",
    "        self.dense_2 = layers.Dense(units=128)\n",
    "        self.leaky_2 = layers.LeakyReLU(alpha=0.01)\n",
    "        self.dense_3 = layers.Dense(units=128)\n",
    "        self.leaky_3 = layers.LeakyReLU(alpha=0.01)\n",
    "        self.logits = layers.Dense(units=1) # tell whether it is fake or real \n",
    "        \n",
    "    def call(self, x):\n",
    "        x = self.input_layer(x)\n",
    "        x = self.dense_1(x)\n",
    "        x = self.leaky_1(x)\n",
    "        x = self.dense_2(x)\n",
    "        x = self.leaky_2(x)\n",
    "        x = self.dense_3(x)\n",
    "        x = self.leaky_3(x)\n",
    "        x = self.logits(x)\n",
    "        return x"
   ]
  },
  {
   "cell_type": "markdown",
   "metadata": {},
   "source": [
    "### objective function  & optimizer\n",
    "- binary cross entropy\n",
    "* 1) generative_objective\n",
    "* 2) discriminator_objective"
   ]
  },
  {
   "cell_type": "code",
   "execution_count": 20,
   "metadata": {},
   "outputs": [],
   "source": [
    "cross_en = tf.keras.losses.BinaryCrossentropy(from_logits=True)"
   ]
  },
  {
   "cell_type": "code",
   "execution_count": null,
   "metadata": {},
   "outputs": [],
   "source": [
    "def generative_objective(dx_of_gx):\n",
    "    ce = cross_en(tf.ones_like(dx_of_gx), dx_of_gx)\n",
    "    return ce\n",
    "\n",
    "def discriminator_objective(d_x, g_z, smoothing_factor = 0.9)\n",
    "    # d_x : real output\n",
    "    # g_z : fake output\n",
    "    real_loss = cross_en(tf.ones_like(d_x)*smoothing_factor, d_x)\n",
    "    fake_loss = cross_en(tf.zeros_like(g_z), g_z)\n",
    "    total_loss = real_loss + fake_loss"
   ]
  },
  {
   "cell_type": "code",
   "execution_count": 24,
   "metadata": {},
   "outputs": [],
   "source": [
    "gen_opt = tf.keras.optimizers.Adam()\n",
    "disc_opt = tf.keras.optimizers.Adam()"
   ]
  },
  {
   "cell_type": "markdown",
   "metadata": {},
   "source": [
    "# 3. Training"
   ]
  },
  {
   "cell_type": "markdown",
   "metadata": {},
   "source": [
    "- training both network simultaneously!\n",
    "- 1) some noise is generated (according to the bacth size)\n",
    "- 2) feed real & fake image to discriminator -> calculate the loss\n",
    "- 3) (same process) for the generator"
   ]
  },
  {
   "cell_type": "code",
   "execution_count": 25,
   "metadata": {},
   "outputs": [],
   "source": [
    "@tf.function()\n",
    "def train_step(gen:Generator, disc:Discriminator,images:np.ndarray, k:int=1, batch_size=32):\n",
    "    for _ in range(k):\n",
    "        with tf.GradientTape() as gen_tape, tf.GradientTape() as disc_tape:\n",
    "            nosie = gen.generate_noise(batch_size,100)\n",
    "            g_z = gen(noise) # fake output\n",
    "            d_x_true = disc(images)\n",
    "            d_x_fake = disc(g_z)\n",
    "            \n",
    "            # (1) discriminator\n",
    "            disc_loss = discriminator_objective(d_x_true, d_x_fake)\n",
    "            grads_disc = disc_tape.gradient(disc_loss, disc.trainable_variables)\n",
    "            disc_opt.apply_gradients(zip(grads_disc, disc.trainable_variables))\n",
    "            \n",
    "            # (2) generator\n",
    "            gen_loss = generator_objective(d_x_fake)\n",
    "            grads_gen = gen_tape.gradient(gen_loss, gen.trainable_variables)\n",
    "            gen_opt.apply_gradients(zip(grads_gen, gen.trainable_variables))"
   ]
  },
  {
   "cell_type": "code",
   "execution_count": 26,
   "metadata": {},
   "outputs": [],
   "source": [
    "def training(dataset, epochs):\n",
    "    for epoch in range(epochs):\n",
    "        for batch in dataset:\n",
    "            train_step(gen,disc,batch,batch_size=bach_size,k=1)\n",
    "            \n",
    "        # after ith epoch, plot image\n",
    "        if epoch%50 == 0:\n",
    "            fake_image = tf.reshape(gen(seed), shape=(28.28))\n",
    "            print(\"{}/{} epochs\".format(epoch,epohcs))\n",
    "            plt.imshow(fake_image,cmap='gray')\n",
    "            #plt.imsave(\"{}/{}.png\".format(OUTPUT_DIR,epoch),fake_image,cmap='gray')\n",
    "            "
   ]
  }
 ],
 "metadata": {
  "kernelspec": {
   "display_name": "Python 3",
   "language": "python",
   "name": "python3"
  },
  "language_info": {
   "codemirror_mode": {
    "name": "ipython",
    "version": 3
   },
   "file_extension": ".py",
   "mimetype": "text/x-python",
   "name": "python",
   "nbconvert_exporter": "python",
   "pygments_lexer": "ipython3",
   "version": "3.6.9"
  }
 },
 "nbformat": 4,
 "nbformat_minor": 2
}
