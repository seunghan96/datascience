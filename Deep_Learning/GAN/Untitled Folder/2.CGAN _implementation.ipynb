{
 "cells": [
  {
   "cell_type": "markdown",
   "metadata": {},
   "source": [
    "# 2. CGAN 구현하기\n",
    "- DCGAN과의 차이점 : y label값을 condition으로 주어진다는 점!\n",
    "- 그 외의 원리는 전부 동일하다"
   ]
  },
  {
   "cell_type": "markdown",
   "metadata": {},
   "source": [
    "## (1) Generator\n",
    "- input : noise vector와, 생성하고싶은 image의 label값과, 만들어 낼 image의 크기\n",
    "- output : (fake) image를 만드는 generator\n",
    "\n",
    "layer의 구성 :\n",
    "- 1) Batch Normalization\n",
    "- 2) Activation Function ( ReLU & Sigmoid )\n",
    "- 3) Conv2DTranspose ( Deconvolution을 해주는 layer )"
   ]
  },
  {
   "cell_type": "code",
   "execution_count": 1,
   "metadata": {},
   "outputs": [],
   "source": [
    "def Generator(inputs,y_labels img_size): # CGAN이므로, y label값도 같이 주어진다\n",
    "    # image크기를 조정한다\n",
    "    img_resize = img_size//4\n",
    "    \n",
    "    # parameter\n",
    "    kernel_s = 5\n",
    "    filters = [64,64,32,1]\n",
    "    \n",
    "    # input\n",
    "    x = concatenate([inputs,y_labels],axis=1)\n",
    "    x = Dense(img_resize * img_resize * filters[0])(inputs)\n",
    "    x = Reshape((img_resize,img_resize,filters[0]))(x)\n",
    "    \n",
    "    for f in filters:\n",
    "        if f > filters[-2]: # first 2 layers : stride=2, last 2 layers : stride=1\n",
    "            stride = 2\n",
    "        else :\n",
    "            stride =1\n",
    "        x = BatchNormalization()(x) # (1) BN\n",
    "        x = Activation('relu')(x) # (2) ReLU\n",
    "        x = Conv2DTranspose(filters=f,kernel_size=kernel_s,strides=stride,padding='same')(x) # (3) Deconvolution\n",
    "    \n",
    "    x = Acivation('Sigmoid')(x)\n",
    "    G = Model([inputs,y_labels],x,name='generator')\n",
    "    \n",
    "    return G"
   ]
  },
  {
   "cell_type": "markdown",
   "metadata": {},
   "source": [
    "## (2) Discriminator\n",
    "- input : image\n",
    "- output : 0~1 사이의 값 (0:fake ~ 1:real)"
   ]
  },
  {
   "cell_type": "code",
   "execution_count": 3,
   "metadata": {},
   "outputs": [],
   "source": [
    "def Discriminator(inputs): # Discriminator에도 마찬가지로 y label을 input으로 주어야 한다.\n",
    "    \n",
    "    # parameter\n",
    "    kernel_s = 5\n",
    "    filters = [32,64,128,256]\n",
    "    \n",
    "    x = inputs\n",
    "    \n",
    "    for f in filters:\n",
    "        if f == filters[-1]: # first 3 filters : stride=2, last layer : stride=1\n",
    "            stride = 1\n",
    "        else :\n",
    "            stride = 2\n",
    "        x = ReLU(x) # (1) ReLU\n",
    "        x = Conv2D(filters=f, kernel_size=kernel_s, strides=stride,padding='same')(x) # (2) Convolutional Layer\n",
    "    \n",
    "    x = Flatten()(x) # (3) Flatten\n",
    "    x = Dense(1)(x) # (4) Dense\n",
    "    x = Activation('sigmoid')(x) # (5) \n",
    "    D = Model([inputs,y_labels],x,name='discriminator')\n",
    "    \n",
    "    return D    "
   ]
  },
  {
   "cell_type": "markdown",
   "metadata": {},
   "source": [
    "## (3) Implement GAN with Generator & Discriminator\n",
    "- DCGAN과 동일"
   ]
  },
  {
   "cell_type": "code",
   "execution_count": 6,
   "metadata": {},
   "outputs": [],
   "source": [
    "def build_GAN():\n",
    "    (x_train,_),(_,_) = mnist.load_data() # only need image ( no label )\n",
    "    \n",
    "    # 1. Reshape Image\n",
    "    img_size = x_train.shape[1] # (= 28)\n",
    "    x_train = np.reshape(x_train, [-1,img_size,img_size,1]) # into 28,28,1\n",
    "    x_train = x_train.astype('float32')/255\n",
    "    \n",
    "    # 2. parameter\n",
    "    model_name = 'CGAN'\n",
    "    dim = 100 # dimension of latent vector\n",
    "    batch_size = 64 \n",
    "    train_steps = 10000\n",
    "    lr = 2e-4\n",
    "    decay = 6e-8\n",
    "    input_shape = (img_size,img_size,1)\n",
    "    \n",
    "    # 3-1. Discriminator\n",
    "    inputs = Input(shape=input_shape, name='D_input')\n",
    "    D = Discriminator(inputs)\n",
    "    D.complie(loss='binary_crossentropy', optimizer=RMSprop(lr=lr,decay=decay),metrics=['accuracy'])\n",
    "    D.summary()\n",
    "    \n",
    "    # 3-2. Generator\n",
    "    inputs2 = Input(shape=(dim,), name='G_input')\n",
    "    G = Generator(inputs2, img_size)\n",
    "    G.summary()\n",
    "    \n",
    "    # 4. Adversarial Update\n",
    "    D.trainable = False    \n",
    "    GAN = Model(inputs2, D(G(inputs2)),name=model_name)\n",
    "    GAN.compile(loss='binary_crossentropy',optimizer=RMSprop(lr=lr*0.5, decay=decay*0.5))\n",
    "    GAN.summary()\n",
    "    \n",
    "    # 5. Training\n",
    "    models = (G,D,GAN)\n",
    "    params = (dim,batch_size,train_steps,model_name)\n",
    "    train(models,x_train,params)"
   ]
  },
  {
   "cell_type": "markdown",
   "metadata": {},
   "source": [
    "## (4) Train"
   ]
  },
  {
   "cell_type": "code",
   "execution_count": 7,
   "metadata": {},
   "outputs": [],
   "source": [
    "def CGAN_train(models,data,params):\n",
    "    \n",
    "    G,D,GAN = models\n",
    "    x_train, y_train = data\n",
    "    dim,batch_size,train_steps,num_labels,model_name = params\n",
    "    save_point = 500\n",
    "    \n",
    "    noise_vec = np.random.uniform(-1,1,size=[16,dim])\n",
    "    noise_class = np.eye(num_labels)[np.arange(0,16) % num_labels] # DCGAN과 다른 점\n",
    "    train_size = x_train.shape[0]\n",
    "    \n",
    "    for i in range(train_steps):\n",
    "        \n",
    "        ####################[  Discriminator  ]###################\n",
    "        # 1) real image\n",
    "        randoms = np.random.randint(0,train_size,size=batch_size) # select random images\n",
    "        image_real = x_train[randoms] \n",
    "        image_real_label = y_train[randoms] # DCGAN과 다른 점\n",
    "        \n",
    "        # 2) fake image\n",
    "        noise = np.random.uniform(-1,1,size=[batch_size,latent_size]) \n",
    "        image_fake_label = np.eye(num_labels)[np.random.choice(num_labels,batch_size)]  # DCGAN과 다른 점\n",
    "        image_fake = G.predict([noise,image_fake_label])\n",
    "        \n",
    "        \n",
    "        # 3) concatenate images\n",
    "        x = np.concatenate((image_real,image_fake))\n",
    "        y = np.ones([2*batch_size,1])\n",
    "        y[batch_size:,:] = 0\n",
    "        \n",
    "        # 4) train\n",
    "        loss, acc = D.train_on_batch(x,y)\n",
    "        temp = \"%d : [Discriminator Loss : %f, acc : %f]\" % (i,loss,acc)\n",
    "        \n",
    "        ####################[  Generator  ]###################\n",
    "        noise = np.random.uniform(-1,1,size=[batch_size,latent_size]) \n",
    "        image_fake_label = np.eye(num_labels)[np.random.choice(num_labels,batch_size)]  # DCGAN과 다른 점\n",
    "        y = np.ones([batch_size,1])\n",
    "        \n",
    "        loss, acc = GAN.train_on_batch([noise,image_fake_label],y)\n",
    "        record = \"%d : [Generator Loss : %f, acc : %f]\" % (temp,loss,acc)\n",
    "        print(record)\n",
    "        \n",
    "        if (i+1) % save_point ==0:\n",
    "            if (i+1) == train_steps:\n",
    "                show = True\n",
    "            else :\n",
    "                show = False\n",
    "            \n",
    "            plot_images(G,noise_input = noise_vec,noise_class=noise_class,\n",
    "                        show=show,step=(i+1),model_name=model_name)\n",
    "            \n",
    "    G.save(model_name + \".h5\")"
   ]
  },
  {
   "cell_type": "code",
   "execution_count": null,
   "metadata": {},
   "outputs": [],
   "source": []
  }
 ],
 "metadata": {
  "kernelspec": {
   "display_name": "Python 3",
   "language": "python",
   "name": "python3"
  },
  "language_info": {
   "codemirror_mode": {
    "name": "ipython",
    "version": 3
   },
   "file_extension": ".py",
   "mimetype": "text/x-python",
   "name": "python",
   "nbconvert_exporter": "python",
   "pygments_lexer": "ipython3",
   "version": "3.6.9"
  }
 },
 "nbformat": 4,
 "nbformat_minor": 2
}
