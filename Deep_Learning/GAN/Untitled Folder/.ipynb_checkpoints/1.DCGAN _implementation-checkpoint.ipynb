{
 "cells": [
  {
   "cell_type": "markdown",
   "metadata": {},
   "source": [
    "# 1. DCGAN 구현하기"
   ]
  },
  {
   "cell_type": "markdown",
   "metadata": {},
   "source": [
    "## (1) Generator"
   ]
  },
  {
   "cell_type": "code",
   "execution_count": 1,
   "metadata": {},
   "outputs": [],
   "source": [
    "def Generator(inputs, img_size):\n",
    "    # image크기를 조정한다\n",
    "    img_resize = img_size//4\n",
    "    \n",
    "    # parameter\n",
    "    kernel_s = 5\n",
    "    filters = [64,64,32,1]\n",
    "    \n",
    "    # input\n",
    "    x = Dense(img_resize * img_resize * filters[0])(inputs)\n",
    "    x = Reshape((img_resize,img_resize,filters[0]))(x)\n",
    "    \n",
    "    for f in filters:\n",
    "        if f > filters[-2]: # first 2 layers : stride=2, last 2 layers : stride=1\n",
    "            stride = 2\n",
    "        else :\n",
    "            stride =1\n",
    "        x = BatchNormalization()(x) # (1) BN\n",
    "        x = Activation('relu')(x) # (2) ReLU\n",
    "        x = Conv2DTranspose(filters=f,kernel_size=kernel_s,strides=stride,padding='same')(x) # (3) Deconvolution\n",
    "    \n",
    "    x = Acivation('Sigmoid')(x)\n",
    "    G = Model(inputs,x,name='generator')\n",
    "    \n",
    "    return G"
   ]
  },
  {
   "cell_type": "markdown",
   "metadata": {},
   "source": [
    "Conv2DTranspose는 직관적으로는 convolution이 하는 역할의 반대라고 생각하면 된다. 근데 실제 계산 과정은 뭔가 조금 다르다. 정상적인 방향의 convolution에서 filter가 한 번 계산될 때, 여러개 input 데이터가 filter와 곱해져서 하나의 output 데이터를 만든다. 반면 이를 역으로 생각한다면, 하나의 데이터로 여러 개의 데이터를 만들어야 하고, 그에 해당하는 여러 개의 데이터는 또 다른 데이터로부터 구해지는 것들과 병합돼야 한다. 이게 말로 설명하기 너무 어려운데, 기본 convolution은 many to one 계산의 반복이었다면, deconvolution은 many to many의 계산이 이루어져야 한다.\n",
    "\n",
    "출처: https://leestation.tistory.com/776 [LeeCreation! Media & Robot]"
   ]
  },
  {
   "cell_type": "markdown",
   "metadata": {},
   "source": [
    "## (2) Discriminator"
   ]
  },
  {
   "cell_type": "code",
   "execution_count": 3,
   "metadata": {},
   "outputs": [],
   "source": [
    "def Discriminator(inputs):\n",
    "    \n",
    "    # parameter\n",
    "    kernel_s = 5\n",
    "    filters = [32,64,128,256]\n",
    "    \n",
    "    x = inputs\n",
    "    \n",
    "    for f in filters:\n",
    "        if f == filters[-1]: # first 3 filters : stride=2, last layer : stride=1\n",
    "            stride = 1\n",
    "        else :\n",
    "            stride = 2\n",
    "        x = ReLU(x) # (1) ReLU\n",
    "        x = Conv2D(filters=f, kernel_size=kernel_s, strides=stride,padding='same')(x) # (2) Convolutional Layer\n",
    "    \n",
    "    x = Flatten()(x) # (3) Flatten\n",
    "    x = Dense(1)(x) # (4) Dense\n",
    "    x = Activation('sigmoid')(x) # (5) \n",
    "    D = Model(inputs,x,name='discriminator')\n",
    "    \n",
    "    return D    "
   ]
  },
  {
   "cell_type": "markdown",
   "metadata": {},
   "source": [
    "## (3) Implement GAN with Generator & Discriminator"
   ]
  },
  {
   "cell_type": "code",
   "execution_count": 6,
   "metadata": {},
   "outputs": [],
   "source": [
    "def GAN():\n",
    "    (x_train,_),(_,_) = mnist.load_data() # only need image ( no label )\n",
    "    \n",
    "    # 1. Reshape Image\n",
    "    img_size = x_train.shape[1] # (= 28)\n",
    "    x_train = np.reshape(x_train, [-1,img_size,img_size,1]) # into 28,28,1\n",
    "    x_train = x_train.astype('float32')/255\n",
    "    \n",
    "    # 2. parameter\n",
    "    model_name = 'DCGAN'\n",
    "    dim = 100 # dimension of latent vector\n",
    "    batch_size = 64 \n",
    "    train_steps = 10000\n",
    "    lr = 2e-4\n",
    "    decay = 6e-8\n",
    "    input_shape = (img_size,img_size,1)\n",
    "    \n",
    "    # 3-1. Discriminator\n",
    "    inputs = Input(shape=input_shape, name='D_input')\n",
    "    D = Discriminator(inputs)\n",
    "    D.complie(loss='binary_crossentropy', optimizer=RMSprop(lr=lr,decay=decay),metrics=['accuracy'])\n",
    "    D.summary()\n",
    "    \n",
    "    # 3-2. Generator\n",
    "    inputs2 = Input(shape=(dim,), name='G_input')\n",
    "    G = Generator(inputs2, img_size)\n",
    "    G.summary()\n",
    "    \n",
    "    # 4. Adversarial Update\n",
    "    D.trainable = False    \n",
    "    GAN = Model(inputs2, D(G(inputs2)),name=model_name)\n",
    "    GAN.compile(loss='binary_crossentropy',optimizer=RMSprop(lr=lr*0.5, decay=decay*0.5))\n",
    "    GAN.summary()\n",
    "    \n",
    "    # 5. Training\n",
    "    models = (G,D,GAN)\n",
    "    params = (dim,batch_size,train_steps,model_name)\n",
    "    train(models,x_train,params)"
   ]
  },
  {
   "cell_type": "markdown",
   "metadata": {},
   "source": [
    "## (4) Train"
   ]
  },
  {
   "cell_type": "code",
   "execution_count": 7,
   "metadata": {},
   "outputs": [],
   "source": [
    "def train(models,x_train,params):\n",
    "    \n",
    "    G,D,GAN = models\n",
    "    dim,batch_size,train_steps,model_name = params\n",
    "    save_point = 500\n",
    "    \n",
    "    noise_vec = np.random.uniform(-1,1,size=[16,dim])\n",
    "    train_size = x_train.shape[0]\n",
    "    \n",
    "    for i in range(train_steps):\n",
    "        \n",
    "        ####################[  Discriminator  ]###################\n",
    "        # 1) real image\n",
    "        randoms = np.random.randint(0,train_size,size=batch_size) # select random images\n",
    "        image_real = x_train[randoms]\n",
    "        \n",
    "        # 2) fake image\n",
    "        noise = np.random.uniform(-1,1,size=[batch_size,latent_size]) \n",
    "        image_fake = G.predict(noise)\n",
    "        \n",
    "        # 3) concatenate images\n",
    "        x = np.concatenate((image_real,image_fake))\n",
    "        y = np.ones([2*batch_size,1])\n",
    "        y[batch_size:,:] = 0\n",
    "        \n",
    "        # 4) train\n",
    "        loss, acc = D.train_on_batch(x,y)\n",
    "        temp = \"%d : [Discriminator Loss : %f, acc : %f]\" % (i,loss,acc)\n",
    "        \n",
    "        ####################[  Generator  ]###################\n",
    "        noise = np.random.uniform(-1,1,size=[batch_size,latent_size]) \n",
    "        y = np.ones([batch_size,1])\n",
    "        \n",
    "        loss, acc = GAN.train_on_batch(noise,y)\n",
    "        record = \"%d : [Generator Loss : %f, acc : %f]\" % (temp,loss,acc)\n",
    "        print(record)\n",
    "        \n",
    "        if (i+1) % save_point ==0:\n",
    "            if (i+1) == train_steps:\n",
    "                show = True\n",
    "            else :\n",
    "                show = False\n",
    "            \n",
    "            plot_images(G,noise_input = noise_vec,show=show,\n",
    "                       step=(i+1),model_name=model_name)\n",
    "            \n",
    "    G.save(model_name + \".h5\")"
   ]
  },
  {
   "cell_type": "code",
   "execution_count": null,
   "metadata": {},
   "outputs": [],
   "source": []
  }
 ],
 "metadata": {
  "kernelspec": {
   "display_name": "Python 3",
   "language": "python",
   "name": "python3"
  },
  "language_info": {
   "codemirror_mode": {
    "name": "ipython",
    "version": 3
   },
   "file_extension": ".py",
   "mimetype": "text/x-python",
   "name": "python",
   "nbconvert_exporter": "python",
   "pygments_lexer": "ipython3",
   "version": "3.6.9"
  }
 },
 "nbformat": 4,
 "nbformat_minor": 2
}
