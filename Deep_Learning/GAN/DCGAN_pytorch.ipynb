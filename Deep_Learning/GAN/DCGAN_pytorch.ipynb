{
 "cells": [
  {
   "cell_type": "markdown",
   "metadata": {},
   "source": [
    "\\# DCGAN Implementation"
   ]
  },
  {
   "cell_type": "code",
   "execution_count": 1,
   "metadata": {
    "ExecuteTime": {
     "end_time": "2020-07-28T00:53:14.239132Z",
     "start_time": "2020-07-28T00:53:03.145495Z"
    }
   },
   "outputs": [],
   "source": [
    "from torchvision.datasets import MNIST\n",
    "from torchvision import transforms\n",
    "import torch\n",
    "from torch import nn\n",
    "import numpy as np\n",
    "import matplotlib.pyplot as plt"
   ]
  },
  {
   "cell_type": "code",
   "execution_count": 6,
   "metadata": {
    "ExecuteTime": {
     "end_time": "2020-07-28T00:56:22.482801Z",
     "start_time": "2020-07-28T00:56:22.475805Z"
    }
   },
   "outputs": [],
   "source": [
    "import warnings\n",
    "warnings.filterwarnings(\"ignore\")"
   ]
  },
  {
   "cell_type": "code",
   "execution_count": 12,
   "metadata": {
    "ExecuteTime": {
     "end_time": "2020-07-28T00:58:11.260423Z",
     "start_time": "2020-07-28T00:57:56.839697Z"
    }
   },
   "outputs": [],
   "source": [
    "import pandas as pd\n",
    "path = 'C:\\\\Users\\\\samsung\\\\Downloads\\\\ml-1m\\\\ml-1m\\\\'\n",
    "movies = pd.read_csv(path+'movies.dat',sep = '::', header = None, engine = 'python', encoding = 'latin-1')\n",
    "ratings = pd.read_csv(path+'ratings.dat',sep = '::', header = None, engine = 'python', encoding = 'latin-1')\n",
    "users = pd.read_csv(path+'users.dat',sep = '::', header = None, engine = 'python', encoding = 'latin-1')"
   ]
  },
  {
   "cell_type": "code",
   "execution_count": 11,
   "metadata": {
    "ExecuteTime": {
     "end_time": "2020-07-28T00:57:41.737354Z",
     "start_time": "2020-07-28T00:57:41.714369Z"
    }
   },
   "outputs": [
    {
     "data": {
      "text/html": [
       "<div>\n",
       "<style scoped>\n",
       "    .dataframe tbody tr th:only-of-type {\n",
       "        vertical-align: middle;\n",
       "    }\n",
       "\n",
       "    .dataframe tbody tr th {\n",
       "        vertical-align: top;\n",
       "    }\n",
       "\n",
       "    .dataframe thead th {\n",
       "        text-align: right;\n",
       "    }\n",
       "</style>\n",
       "<table border=\"1\" class=\"dataframe\">\n",
       "  <thead>\n",
       "    <tr style=\"text-align: right;\">\n",
       "      <th></th>\n",
       "      <th>0</th>\n",
       "      <th>1</th>\n",
       "      <th>2</th>\n",
       "    </tr>\n",
       "  </thead>\n",
       "  <tbody>\n",
       "    <tr>\n",
       "      <th>0</th>\n",
       "      <td>1</td>\n",
       "      <td>Toy Story (1995)</td>\n",
       "      <td>Animation|Children's|Comedy</td>\n",
       "    </tr>\n",
       "    <tr>\n",
       "      <th>1</th>\n",
       "      <td>2</td>\n",
       "      <td>Jumanji (1995)</td>\n",
       "      <td>Adventure|Children's|Fantasy</td>\n",
       "    </tr>\n",
       "    <tr>\n",
       "      <th>2</th>\n",
       "      <td>3</td>\n",
       "      <td>Grumpier Old Men (1995)</td>\n",
       "      <td>Comedy|Romance</td>\n",
       "    </tr>\n",
       "    <tr>\n",
       "      <th>3</th>\n",
       "      <td>4</td>\n",
       "      <td>Waiting to Exhale (1995)</td>\n",
       "      <td>Comedy|Drama</td>\n",
       "    </tr>\n",
       "    <tr>\n",
       "      <th>4</th>\n",
       "      <td>5</td>\n",
       "      <td>Father of the Bride Part II (1995)</td>\n",
       "      <td>Comedy</td>\n",
       "    </tr>\n",
       "  </tbody>\n",
       "</table>\n",
       "</div>"
      ],
      "text/plain": [
       "   0                                   1                             2\n",
       "0  1                    Toy Story (1995)   Animation|Children's|Comedy\n",
       "1  2                      Jumanji (1995)  Adventure|Children's|Fantasy\n",
       "2  3             Grumpier Old Men (1995)                Comedy|Romance\n",
       "3  4            Waiting to Exhale (1995)                  Comedy|Drama\n",
       "4  5  Father of the Bride Part II (1995)                        Comedy"
      ]
     },
     "execution_count": 11,
     "metadata": {},
     "output_type": "execute_result"
    }
   ],
   "source": [
    "movies.head()"
   ]
  },
  {
   "cell_type": "code",
   "execution_count": 5,
   "metadata": {
    "ExecuteTime": {
     "end_time": "2020-07-24T01:48:05.926143Z",
     "start_time": "2020-07-24T01:48:05.596332Z"
    }
   },
   "outputs": [],
   "source": [
    "train_loader = torch.utils.data.DataLoader(\n",
    "    MNIST(root='.', train=True, download=False,\n",
    "          transform=transforms.ToTensor()),\n",
    "    batch_size=128, shuffle=True, pin_memory=True)\n",
    "\n",
    "test_loader = torch.utils.data.DataLoader(\n",
    "    MNIST(root='.', train=False, transform=transforms.ToTensor()),\n",
    "    batch_size=128, shuffle=True, pin_memory=True)"
   ]
  },
  {
   "cell_type": "markdown",
   "metadata": {},
   "source": [
    "# Generator"
   ]
  },
  {
   "cell_type": "code",
   "execution_count": 29,
   "metadata": {
    "ExecuteTime": {
     "end_time": "2020-07-24T02:30:48.297291Z",
     "start_time": "2020-07-24T02:30:48.264311Z"
    }
   },
   "outputs": [],
   "source": [
    "class G(nn.Module):\n",
    "    def __init__(self,depth,dim,dropout,window,input_dim,output_depth):\n",
    "        super(G,self).__init__()\n",
    "        self.depth = depth\n",
    "        self.dim = dim\n",
    "        self.dropout = dropout\n",
    "        self.window = window\n",
    "        self.input_dim =input_dim\n",
    "        self.ouptut_depth = output_depth\n",
    "        self._init_modules()\n",
    "    \n",
    "    def __init__modules(self):\n",
    "        self.relu = nn.ReLU()\n",
    "        self.leaky_relu = nn.LeakyReLU()\n",
    "        self.sigmoid = nn.Sigmoid()\n",
    "        self.tanh = nn.Tanh()\n",
    "        \n",
    "        self.ln1 = nn.Linear(self.input_dim,self.depth*self.dim*self.dim,bias=True)\n",
    "        self.bn1 = nn.BatchNorm1d(self.depth*self.dim*self.dim)\n",
    "        self.drop1 = nn.Dropout(self.dropout)\n",
    "        \n",
    "        self.conv2 = nn.Conv2d(self.depth,self.depth//2,kernel_size=self.window,\n",
    "                              stride=1,padding=2,bias=False)\n",
    "        self.bn2 = nn.BatchNorm2d(self.depth//2)\n",
    "        self.drop2 = nn.Dropout2d(self.dropout)\n",
    "        \n",
    "        self.conv3 = nn.ConvTranspose2d(self.depth//2,self.depth//4,kernel_size=self.window-1,\n",
    "                                       stride=2,padding=1,bias=False)\n",
    "        self.bn3 = nn.BatchNorm2d(self.depth//4)\n",
    "        self.drop3 = nn.Dropout2d(self.dropout)\n",
    "        \n",
    "        self.conv4 = nn.ConvTranspose2d(self.depth//4,1,kernel_size=self.window-1,\n",
    "                                       stride=2,padding=1,bias=False)\n",
    "        \n",
    "    def forward(self,x,input_dim=256,dim=7):\n",
    "        x = self.leaky_relu(self.bn1(self.ln1(x)))\n",
    "        x = x.view((-1,input_dim,dim,dim))\n",
    "        x = self.drop1(x)\n",
    "        \n",
    "        xx = self.relu(self.bn2(self.conv2(x)))                \n",
    "        xx = self.drop2(xx)\n",
    "        \n",
    "        xxx = self.leaky_relu(self.bn3(self.conv2(xx)))        \n",
    "        xxx = self.drop3(xxx)\n",
    "                \n",
    "        output = self.tanh(self.conv4(xxx))\n",
    "        return output    \n",
    "        \n",
    "        "
   ]
  },
  {
   "cell_type": "markdown",
   "metadata": {},
   "source": [
    "# Discriminator"
   ]
  },
  {
   "cell_type": "code",
   "execution_count": 30,
   "metadata": {
    "ExecuteTime": {
     "end_time": "2020-07-24T02:30:51.376530Z",
     "start_time": "2020-07-24T02:30:51.352542Z"
    }
   },
   "outputs": [],
   "source": [
    "class D(nn.Module):\n",
    "    def __init__(self,depth,dim,dropout,window,input_dim,output_depth):\n",
    "        super(D, self).__init__()\n",
    "        self.depth = depth\n",
    "        self.dim = dim\n",
    "        self.dropout = dropout\n",
    "        self.window = window\n",
    "        self.input_dim =input_dim\n",
    "        self.ouptut_depth = output_depth\n",
    "        self._init_modules()\n",
    "    \n",
    "    def __init__modules(self):\n",
    "        self.relu = nn.ReLU()\n",
    "        self.leaky_relu = nn.LeakyReLU()\n",
    "        self.sigmoid = nn.Sigmoid()\n",
    "        self.tanh = nn.Tanh()\n",
    "        \n",
    "        self.conv1 = nn.Conv2d(1,self.depth//4,kernel_size=self.window,\n",
    "                              stride=2,padding=2,bias=True)\n",
    "        self.drop1 = nn.Dropout2d()\n",
    "        \n",
    "        self.conv2 = nn.Conv2d(self.depth//4,self.depth//2,kernel_size=self.window,\n",
    "                              stride=2,padding=2,bias=True)\n",
    "        self.drop2 = nn.Dropout2d()\n",
    "        \n",
    "        self.lin3 = nn.Linear(self.depth//2,1,bias=True)\n",
    "        \n",
    "    def forward(x,input_dim=256,dim=7):\n",
    "        x = self.leaky_relu(self.conv1(x))\n",
    "        x = self.drop1(x)\n",
    "        \n",
    "        xx = self.relu(self.conv2(x))\n",
    "        xx = self.drop2(xx)\n",
    "        xx = xx.view((-1,input_dim/2,dim,dim))\n",
    "        \n",
    "        output = self.sigmoid(self.lin3(xx))\n",
    "        return output"
   ]
  },
  {
   "cell_type": "markdown",
   "metadata": {},
   "source": [
    "# DCGAN"
   ]
  },
  {
   "cell_type": "code",
   "execution_count": 33,
   "metadata": {
    "ExecuteTime": {
     "end_time": "2020-07-24T02:32:04.499505Z",
     "start_time": "2020-07-24T02:32:04.465523Z"
    }
   },
   "outputs": [],
   "source": [
    "class DCGAN():    \n",
    "    def __init__(self, depth_dim,dropout,window,input_dim,output_depth,\n",
    "                 noise_fn,dataloader,device='cpu',batch_size=128,lr_D=1e-3, lr_G=2e-4):\n",
    "        self.Gen = G(depth,dim,dropout,window,input_dim,output_depth).to(device)\n",
    "        self.Dis = D(depth,dim,dropout,window,input_dim,output_depth).to(device)\n",
    "        self.noise_fn = noise_fn\n",
    "        self.dataloader = dataloader\n",
    "        self.batch_size = batch_size\n",
    "        self.device = device\n",
    "        self.criterion = nn.BCELoss() # Binary Cross Entropy\n",
    "        self.optim_D = optim.Adam(self.Dis.parameters(),\n",
    "                                  lr=lr_D, betas=(0.5, 0.999))\n",
    "        self.optim_G = optim.Adam(self.Gen.parameters(),\n",
    "                                  lr=lr_G, betas=(0.5, 0.999))\n",
    "        self.target_ones = torch.ones((batch_size, 1), device=device)\n",
    "        self.target_zeros = torch.zeros((batch_size, 1), device=device)\n",
    "\n",
    "    def gen_samples(self, latent_vec=None):       \n",
    "        # (number, channels, height, width)\n",
    "        num = self.batch_size\n",
    "        latent_vec = self.noise_fn(num) if latent_vec is None else latent_vec\n",
    "        with torch.no_grad():\n",
    "            samples = self.Gen(latent_vec)\n",
    "        samples = samples.cpu()  \n",
    "        return samples\n",
    "\n",
    "    def train_G(self):        \n",
    "        self.Gen.zero_grad()\n",
    "        \n",
    "        latent_vec = self.noise_fn(self.batch_size)\n",
    "        generated = self.Gen(latent_vec)\n",
    "        classified = self.Dis(generated)\n",
    "        \n",
    "        loss = self.criterion(classified, self.target_ones)\n",
    "        loss.backward()\n",
    "        self.optim_G.step()\n",
    "        return loss.item()\n",
    "\n",
    "    def train_D(self, real_samples):        \n",
    "        self.Dis.zero_grad()        \n",
    "        \n",
    "        # [Loss 1] Predict \"real\" as \"REAL\" ?\n",
    "        pred_real = self.Dis(real_samples)\n",
    "        loss_real = self.criterion(pred_real, self.target_ones)\n",
    "        \n",
    "        # [Loss 2] Predict \"false\" as \"FALSE\" ?\n",
    "        latent_vec = self.noise_fn(self.batch_size)\n",
    "        with torch.no_grad():\n",
    "            fake_samples = self.Gen(latent_vec)\n",
    "        pred_fake = self.Dis(fake_samples)\n",
    "        loss_fake = self.criterion(pred_fake, self.target_zeros)\n",
    "\n",
    "        # [Loss 1] + [Loss 2]\n",
    "        loss = (loss_real + loss_fake) / 2\n",
    "        loss.backward()\n",
    "        self.optim_D.step()\n",
    "        return loss_real.item(), loss_fake.item()\n",
    "\n",
    "    def train(self, check=10, max_steps=0):\n",
    "        loss_G, loss_D_real, loss_D_fake = 0, 0, 0\n",
    "        \n",
    "        for batch_idx, (real_samples, label) in enumerate(self.dataloader):\n",
    "            real_samples = real_samples.to(self.device)\n",
    "            loss_d_real, loss_f_real = self.train_D(real_samples)\n",
    "            \n",
    "            loss_D_real += loss_d_real\n",
    "            loss_D_fake += loss_f_real\n",
    "            loss_G += self.train_G()\n",
    "            \n",
    "            if check and (batch_idx+1) % check == 0:\n",
    "                print(f\"{batch_idx+1}/{len(self.dataloader)}:\"\n",
    "                      f\" G={loss_G / (batch_idx+1):.3f},\"\n",
    "                      f\" D_real={loss_D_real / (batch_idx+1):.3f},\"\n",
    "                      f\" D_fake={loss_D_fake / (batch_idx+1):.3f}\",\n",
    "                      end='\\r',\n",
    "                      flush=True)\n",
    "            if max_steps and batch == max_steps:\n",
    "                break\n",
    "                \n",
    "        if check:\n",
    "            print(\"----------------------------------------\")\n",
    "        loss_G /= batch_idx\n",
    "        loss_D_real /= batch_idx\n",
    "        loss_D_fake /= batch_idx\n",
    "        return (loss_G, (loss_D_real, loss_D_fake))"
   ]
  }
 ],
 "metadata": {
  "kernelspec": {
   "display_name": "Python 3",
   "language": "python",
   "name": "python3"
  },
  "language_info": {
   "codemirror_mode": {
    "name": "ipython",
    "version": 3
   },
   "file_extension": ".py",
   "mimetype": "text/x-python",
   "name": "python",
   "nbconvert_exporter": "python",
   "pygments_lexer": "ipython3",
   "version": "3.6.9"
  },
  "toc": {
   "base_numbering": 1,
   "nav_menu": {},
   "number_sections": true,
   "sideBar": true,
   "skip_h1_title": false,
   "title_cell": "Table of Contents",
   "title_sidebar": "Contents",
   "toc_cell": false,
   "toc_position": {},
   "toc_section_display": true,
   "toc_window_display": false
  }
 },
 "nbformat": 4,
 "nbformat_minor": 2
}
