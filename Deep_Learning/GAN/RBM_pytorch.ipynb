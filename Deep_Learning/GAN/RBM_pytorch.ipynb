{
 "cells": [
  {
   "cell_type": "markdown",
   "metadata": {},
   "source": [
    "# Import Data,Libraries "
   ]
  },
  {
   "cell_type": "code",
   "execution_count": 187,
   "metadata": {
    "ExecuteTime": {
     "end_time": "2020-07-28T02:17:21.346618Z",
     "start_time": "2020-07-28T02:17:21.340631Z"
    }
   },
   "outputs": [],
   "source": [
    "import pandas as pd\n",
    "import numpy as np\n",
    "import warnings\n",
    "warnings.filterwarnings(\"ignore\")"
   ]
  },
  {
   "cell_type": "code",
   "execution_count": 188,
   "metadata": {
    "ExecuteTime": {
     "end_time": "2020-07-28T02:17:21.729397Z",
     "start_time": "2020-07-28T02:17:21.594476Z"
    }
   },
   "outputs": [],
   "source": [
    "train = pd.read_csv('C:\\\\Users\\\\samsung\\\\Downloads\\\\u1.base.csv',sep='\\t',header=None)\n",
    "test = pd.read_csv('C:\\\\Users\\\\samsung\\\\Downloads\\\\u1.test.csv',sep='\\t',header=None)\n",
    "train.columns = ['user','movie','rating','time']\n",
    "test.columns = ['user','movie','rating','time']"
   ]
  },
  {
   "cell_type": "markdown",
   "metadata": {},
   "source": [
    "# Data Preprocessing"
   ]
  },
  {
   "cell_type": "code",
   "execution_count": 189,
   "metadata": {
    "ExecuteTime": {
     "end_time": "2020-07-28T02:17:22.124172Z",
     "start_time": "2020-07-28T02:17:22.114177Z"
    }
   },
   "outputs": [],
   "source": [
    "def convert_table(data):\n",
    "    table = pd.pivot_table(data, values='rating',index=['user'],columns=['movie'])\n",
    "    table[table<3]=0\n",
    "    table[table>=3]=1\n",
    "    table.fillna(0,inplace=True)\n",
    "    return table"
   ]
  },
  {
   "cell_type": "code",
   "execution_count": 190,
   "metadata": {
    "ExecuteTime": {
     "end_time": "2020-07-28T02:17:23.339476Z",
     "start_time": "2020-07-28T02:17:22.712834Z"
    }
   },
   "outputs": [],
   "source": [
    "train_t = convert_table(train)\n",
    "test_t = convert_table(test)"
   ]
  },
  {
   "cell_type": "code",
   "execution_count": 191,
   "metadata": {
    "ExecuteTime": {
     "end_time": "2020-07-28T02:17:23.415433Z",
     "start_time": "2020-07-28T02:17:23.343472Z"
    }
   },
   "outputs": [
    {
     "data": {
      "text/html": [
       "<div>\n",
       "<style scoped>\n",
       "    .dataframe tbody tr th:only-of-type {\n",
       "        vertical-align: middle;\n",
       "    }\n",
       "\n",
       "    .dataframe tbody tr th {\n",
       "        vertical-align: top;\n",
       "    }\n",
       "\n",
       "    .dataframe thead th {\n",
       "        text-align: right;\n",
       "    }\n",
       "</style>\n",
       "<table border=\"1\" class=\"dataframe\">\n",
       "  <thead>\n",
       "    <tr style=\"text-align: right;\">\n",
       "      <th>movie</th>\n",
       "      <th>1</th>\n",
       "      <th>2</th>\n",
       "      <th>3</th>\n",
       "      <th>4</th>\n",
       "      <th>5</th>\n",
       "      <th>6</th>\n",
       "      <th>7</th>\n",
       "      <th>8</th>\n",
       "      <th>9</th>\n",
       "      <th>10</th>\n",
       "      <th>...</th>\n",
       "      <th>1673</th>\n",
       "      <th>1674</th>\n",
       "      <th>1675</th>\n",
       "      <th>1676</th>\n",
       "      <th>1677</th>\n",
       "      <th>1678</th>\n",
       "      <th>1679</th>\n",
       "      <th>1680</th>\n",
       "      <th>1681</th>\n",
       "      <th>1682</th>\n",
       "    </tr>\n",
       "    <tr>\n",
       "      <th>user</th>\n",
       "      <th></th>\n",
       "      <th></th>\n",
       "      <th></th>\n",
       "      <th></th>\n",
       "      <th></th>\n",
       "      <th></th>\n",
       "      <th></th>\n",
       "      <th></th>\n",
       "      <th></th>\n",
       "      <th></th>\n",
       "      <th></th>\n",
       "      <th></th>\n",
       "      <th></th>\n",
       "      <th></th>\n",
       "      <th></th>\n",
       "      <th></th>\n",
       "      <th></th>\n",
       "      <th></th>\n",
       "      <th></th>\n",
       "      <th></th>\n",
       "      <th></th>\n",
       "    </tr>\n",
       "  </thead>\n",
       "  <tbody>\n",
       "    <tr>\n",
       "      <th>1</th>\n",
       "      <td>1.0</td>\n",
       "      <td>1.0</td>\n",
       "      <td>1.0</td>\n",
       "      <td>1.0</td>\n",
       "      <td>1.0</td>\n",
       "      <td>0.0</td>\n",
       "      <td>1.0</td>\n",
       "      <td>0.0</td>\n",
       "      <td>1.0</td>\n",
       "      <td>0.0</td>\n",
       "      <td>...</td>\n",
       "      <td>0.0</td>\n",
       "      <td>0.0</td>\n",
       "      <td>0.0</td>\n",
       "      <td>0.0</td>\n",
       "      <td>0.0</td>\n",
       "      <td>0.0</td>\n",
       "      <td>0.0</td>\n",
       "      <td>0.0</td>\n",
       "      <td>0.0</td>\n",
       "      <td>0.0</td>\n",
       "    </tr>\n",
       "    <tr>\n",
       "      <th>2</th>\n",
       "      <td>1.0</td>\n",
       "      <td>0.0</td>\n",
       "      <td>0.0</td>\n",
       "      <td>0.0</td>\n",
       "      <td>0.0</td>\n",
       "      <td>0.0</td>\n",
       "      <td>0.0</td>\n",
       "      <td>0.0</td>\n",
       "      <td>0.0</td>\n",
       "      <td>0.0</td>\n",
       "      <td>...</td>\n",
       "      <td>0.0</td>\n",
       "      <td>0.0</td>\n",
       "      <td>0.0</td>\n",
       "      <td>0.0</td>\n",
       "      <td>0.0</td>\n",
       "      <td>0.0</td>\n",
       "      <td>0.0</td>\n",
       "      <td>0.0</td>\n",
       "      <td>0.0</td>\n",
       "      <td>0.0</td>\n",
       "    </tr>\n",
       "    <tr>\n",
       "      <th>3</th>\n",
       "      <td>0.0</td>\n",
       "      <td>0.0</td>\n",
       "      <td>0.0</td>\n",
       "      <td>0.0</td>\n",
       "      <td>0.0</td>\n",
       "      <td>0.0</td>\n",
       "      <td>0.0</td>\n",
       "      <td>0.0</td>\n",
       "      <td>0.0</td>\n",
       "      <td>0.0</td>\n",
       "      <td>...</td>\n",
       "      <td>0.0</td>\n",
       "      <td>0.0</td>\n",
       "      <td>0.0</td>\n",
       "      <td>0.0</td>\n",
       "      <td>0.0</td>\n",
       "      <td>0.0</td>\n",
       "      <td>0.0</td>\n",
       "      <td>0.0</td>\n",
       "      <td>0.0</td>\n",
       "      <td>0.0</td>\n",
       "    </tr>\n",
       "    <tr>\n",
       "      <th>4</th>\n",
       "      <td>0.0</td>\n",
       "      <td>0.0</td>\n",
       "      <td>0.0</td>\n",
       "      <td>0.0</td>\n",
       "      <td>0.0</td>\n",
       "      <td>0.0</td>\n",
       "      <td>0.0</td>\n",
       "      <td>0.0</td>\n",
       "      <td>0.0</td>\n",
       "      <td>0.0</td>\n",
       "      <td>...</td>\n",
       "      <td>0.0</td>\n",
       "      <td>0.0</td>\n",
       "      <td>0.0</td>\n",
       "      <td>0.0</td>\n",
       "      <td>0.0</td>\n",
       "      <td>0.0</td>\n",
       "      <td>0.0</td>\n",
       "      <td>0.0</td>\n",
       "      <td>0.0</td>\n",
       "      <td>0.0</td>\n",
       "    </tr>\n",
       "    <tr>\n",
       "      <th>5</th>\n",
       "      <td>0.0</td>\n",
       "      <td>0.0</td>\n",
       "      <td>0.0</td>\n",
       "      <td>0.0</td>\n",
       "      <td>0.0</td>\n",
       "      <td>0.0</td>\n",
       "      <td>0.0</td>\n",
       "      <td>0.0</td>\n",
       "      <td>0.0</td>\n",
       "      <td>0.0</td>\n",
       "      <td>...</td>\n",
       "      <td>0.0</td>\n",
       "      <td>0.0</td>\n",
       "      <td>0.0</td>\n",
       "      <td>0.0</td>\n",
       "      <td>0.0</td>\n",
       "      <td>0.0</td>\n",
       "      <td>0.0</td>\n",
       "      <td>0.0</td>\n",
       "      <td>0.0</td>\n",
       "      <td>0.0</td>\n",
       "    </tr>\n",
       "  </tbody>\n",
       "</table>\n",
       "<p>5 rows × 1650 columns</p>\n",
       "</div>"
      ],
      "text/plain": [
       "movie  1     2     3     4     5     6     7     8     9     10    ...  1673  \\\n",
       "user                                                               ...         \n",
       "1       1.0   1.0   1.0   1.0   1.0   0.0   1.0   0.0   1.0   0.0  ...   0.0   \n",
       "2       1.0   0.0   0.0   0.0   0.0   0.0   0.0   0.0   0.0   0.0  ...   0.0   \n",
       "3       0.0   0.0   0.0   0.0   0.0   0.0   0.0   0.0   0.0   0.0  ...   0.0   \n",
       "4       0.0   0.0   0.0   0.0   0.0   0.0   0.0   0.0   0.0   0.0  ...   0.0   \n",
       "5       0.0   0.0   0.0   0.0   0.0   0.0   0.0   0.0   0.0   0.0  ...   0.0   \n",
       "\n",
       "movie  1674  1675  1676  1677  1678  1679  1680  1681  1682  \n",
       "user                                                         \n",
       "1       0.0   0.0   0.0   0.0   0.0   0.0   0.0   0.0   0.0  \n",
       "2       0.0   0.0   0.0   0.0   0.0   0.0   0.0   0.0   0.0  \n",
       "3       0.0   0.0   0.0   0.0   0.0   0.0   0.0   0.0   0.0  \n",
       "4       0.0   0.0   0.0   0.0   0.0   0.0   0.0   0.0   0.0  \n",
       "5       0.0   0.0   0.0   0.0   0.0   0.0   0.0   0.0   0.0  \n",
       "\n",
       "[5 rows x 1650 columns]"
      ]
     },
     "execution_count": 191,
     "metadata": {},
     "output_type": "execute_result"
    }
   ],
   "source": [
    "train_t.head()"
   ]
  },
  {
   "cell_type": "code",
   "execution_count": 192,
   "metadata": {
    "ExecuteTime": {
     "end_time": "2020-07-28T02:17:23.992101Z",
     "start_time": "2020-07-28T02:17:23.974111Z"
    }
   },
   "outputs": [],
   "source": [
    "Train = np.array(train_t,dtype='int')\n",
    "Test = np.array(test_t,dtype='int')"
   ]
  },
  {
   "cell_type": "code",
   "execution_count": 193,
   "metadata": {
    "ExecuteTime": {
     "end_time": "2020-07-28T02:17:24.937559Z",
     "start_time": "2020-07-28T02:17:24.927564Z"
    }
   },
   "outputs": [
    {
     "data": {
      "text/plain": [
       "((943, 1650), (459, 1410))"
      ]
     },
     "execution_count": 193,
     "metadata": {},
     "output_type": "execute_result"
    }
   ],
   "source": [
    "Train.shape, Test.shape"
   ]
  },
  {
   "cell_type": "markdown",
   "metadata": {},
   "source": [
    "# Restricted Boltzmann Machine"
   ]
  },
  {
   "cell_type": "code",
   "execution_count": 194,
   "metadata": {
    "ExecuteTime": {
     "end_time": "2020-07-28T02:17:25.557205Z",
     "start_time": "2020-07-28T02:17:25.551207Z"
    }
   },
   "outputs": [],
   "source": [
    "import torch\n",
    "from torch.utils.data import TensorDataset, DataLoader"
   ]
  },
  {
   "cell_type": "code",
   "execution_count": 195,
   "metadata": {
    "ExecuteTime": {
     "end_time": "2020-07-28T02:17:27.444123Z",
     "start_time": "2020-07-28T02:17:27.418136Z"
    }
   },
   "outputs": [],
   "source": [
    "train_tensor = torch.Tensor(Train) \n",
    "train_tensor2 = TensorDataset(train_tensor) \n",
    "train_data = DataLoader(train_tensor,batch_size=32)"
   ]
  },
  {
   "cell_type": "code",
   "execution_count": 200,
   "metadata": {
    "ExecuteTime": {
     "end_time": "2020-07-28T02:19:46.968116Z",
     "start_time": "2020-07-28T02:19:46.941130Z"
    }
   },
   "outputs": [],
   "source": [
    "class RBM():\n",
    "    def __init__(self,num_v,num_h,k,lr,mom_coef,w_decay,cuda=False):\n",
    "        self.num_v = num_v\n",
    "        self.num_h = num_h\n",
    "        self.k  = k\n",
    "        self.lr = lr\n",
    "        self.mom_coef = mom_coef\n",
    "        self.w_decay = w_decay\n",
    "        self.cuda = cuda\n",
    "        \n",
    "        # weight(w) & bias(b)\n",
    "        self.w = torch.randn(num_v,num_h)*0.1\n",
    "        self.b_v = torch.ones(num_v) *0.5\n",
    "        self.b_h = torch.zeros(num_h)\n",
    "        \n",
    "        # momentum(mom)\n",
    "        self.w_mom = torch.zeros(num_v,num_h)        \n",
    "        self.b_v_mom = torch.zeros(num_v)\n",
    "        self.b_h_mom = torch.zeros(num_h)\n",
    "        \n",
    "        if self.cuda:\n",
    "            self.w = self.w.cuda()\n",
    "            self.b_v = self.b_v.cuda()\n",
    "            self.b_h = self.b_h.cuda()\n",
    "\n",
    "            self.w_mom = self.w_mom.cuda()\n",
    "            self.b_v_mom = self.b_v_mom.cuda()\n",
    "            self.b_h_mom = self.b_h_mom.cuda()\n",
    "    \n",
    "    def sig(self,x):\n",
    "        return 1 / (1+torch.exp(-x))\n",
    "    \n",
    "    def rand_prob(self,num):\n",
    "        rand_prob = torch.rand(num)\n",
    "        if self.cuda :\n",
    "            rand_prob = rand_prob.cuda()\n",
    "        return rand_prob\n",
    "    \n",
    "    def sample_h(self,prob_v):\n",
    "        h_act = torch.matmul(prob_v, self.w) + self.b_h\n",
    "        h_prob = self.sig(h_act)\n",
    "        return h_prob\n",
    "    \n",
    "    def sample_v(self,prob_h):\n",
    "        v_act = torch.matmul(prob_h, self.w.t()) + self.b_v\n",
    "        v_prob = self.sig(v_act)\n",
    "        return v_prob\n",
    "    \n",
    "    def CD_k(self,x):\n",
    "        pos_h_prob = self.sample_h(x)\n",
    "        pos_h_act = (pos_h_prob > self.rand_prob(self.num_h)).float()\n",
    "        pos = torch.matmul(x.t(), pos_h_act)\n",
    "        \n",
    "        h_act = pos_h_act\n",
    "        for _ in range(self.k):\n",
    "            v_prob = self.sample_v(h_act)\n",
    "            h_prob = self.sample_h(v_prob)\n",
    "            h_act = (h_prob >= self.rand_prob(self.num_h)).float()\n",
    "        \n",
    "        neg_v_prob = v_prob\n",
    "        neg_h_prob = h_prob\n",
    "        neg = torch.matmul(neg_v_prob.t(), neg_h_prob)\n",
    "        \n",
    "        self.w_mom *= self.mom_coef\n",
    "        self.w_mom += (pos-neg)\n",
    "        \n",
    "        self.b_v_mom *= self.mom_coef\n",
    "        self.b_v_mom += torch.sum(x-neg_v_prob,dim=0)\n",
    "        self.b_h_mom *= self.mom_coef\n",
    "        self.b_h_mom += torch.sum(pos_h_prob - neg_h_prob,dim=0)\n",
    "        \n",
    "        batch_size = x.size(0)\n",
    "        self.w += self.w_mom * self.lr  / batch_size\n",
    "        self.b_v += self.b_v_mom * self.lr / batch_size\n",
    "        self.b_h += self.b_h_mom * self.lr / batch_size\n",
    "        self.w -= self.w * self.w_decay\n",
    "        \n",
    "        error = torch.sum( (x-neg_v_prob)**2 )\n",
    "        return error\n",
    "        "
   ]
  },
  {
   "cell_type": "code",
   "execution_count": 196,
   "metadata": {
    "ExecuteTime": {
     "end_time": "2020-07-28T02:17:27.946834Z",
     "start_time": "2020-07-28T02:17:27.938840Z"
    }
   },
   "outputs": [],
   "source": [
    "num_v = len(train_tensor[0])\n",
    "num_h = 200\n",
    "batch_size=64\n",
    "k = 5\n",
    "lr = 0.001\n",
    "mom_coef = 0.9\n",
    "w_decay = 0.001\n",
    "epochs = 30\n",
    "cuda = False"
   ]
  },
  {
   "cell_type": "code",
   "execution_count": 201,
   "metadata": {
    "ExecuteTime": {
     "end_time": "2020-07-28T02:19:50.120306Z",
     "start_time": "2020-07-28T02:19:50.105315Z"
    }
   },
   "outputs": [],
   "source": [
    "rbm = RBM(num_v,num_h,k,lr,mom_coef,w_decay,cuda)"
   ]
  },
  {
   "cell_type": "code",
   "execution_count": null,
   "metadata": {
    "ExecuteTime": {
     "end_time": "2020-07-28T02:20:20.537863Z",
     "start_time": "2020-07-28T02:19:54.838600Z"
    }
   },
   "outputs": [],
   "source": [
    "for epoch in range(1,epochs+1):\n",
    "    epoch_error = 0\n",
    "    for batch in train_data:        \n",
    "        batch = batch.view(len(batch),num_v)\n",
    "        if cuda:\n",
    "            batch = batch.cuda()\n",
    "\n",
    "        batch_error = rbm.CD_k(batch)\n",
    "        epoch_error += batch_error\n",
    "    if epoch%5==0:\n",
    "        print('Error (epoch=%d): %.4f' % (epoch, epoch_error))"
   ]
  },
  {
   "cell_type": "code",
   "execution_count": null,
   "metadata": {},
   "outputs": [],
   "source": []
  }
 ],
 "metadata": {
  "kernelspec": {
   "display_name": "Python 3",
   "language": "python",
   "name": "python3"
  },
  "language_info": {
   "codemirror_mode": {
    "name": "ipython",
    "version": 3
   },
   "file_extension": ".py",
   "mimetype": "text/x-python",
   "name": "python",
   "nbconvert_exporter": "python",
   "pygments_lexer": "ipython3",
   "version": "3.6.9"
  },
  "toc": {
   "base_numbering": 1,
   "nav_menu": {},
   "number_sections": true,
   "sideBar": true,
   "skip_h1_title": false,
   "title_cell": "Table of Contents",
   "title_sidebar": "Contents",
   "toc_cell": false,
   "toc_position": {},
   "toc_section_display": true,
   "toc_window_display": false
  }
 },
 "nbformat": 4,
 "nbformat_minor": 2
}
