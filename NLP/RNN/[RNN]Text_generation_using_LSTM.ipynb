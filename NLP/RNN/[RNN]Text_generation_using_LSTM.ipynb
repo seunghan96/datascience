{
 "cells": [
  {
   "cell_type": "markdown",
   "metadata": {},
   "source": [
    "# Text Generation using LSTM"
   ]
  },
  {
   "cell_type": "code",
   "execution_count": 3,
   "metadata": {},
   "outputs": [],
   "source": [
    "import pandas as pd\n",
    "import numpy as np\n",
    "from string import punctuation\n",
    "from tensorflow.keras.preprocessing.text import Tokenizer\n",
    "from tensorflow.keras.preprocessing.sequence import pad_sequences\n",
    "from tensorflow.keras.utils import to_categorical"
   ]
  },
  {
   "cell_type": "code",
   "execution_count": 5,
   "metadata": {},
   "outputs": [],
   "source": [
    "df = pd.read_csv('ArticlesApril2018.csv')"
   ]
  },
  {
   "cell_type": "code",
   "execution_count": 6,
   "metadata": {},
   "outputs": [
    {
     "data": {
      "text/html": [
       "<div>\n",
       "<style scoped>\n",
       "    .dataframe tbody tr th:only-of-type {\n",
       "        vertical-align: middle;\n",
       "    }\n",
       "\n",
       "    .dataframe tbody tr th {\n",
       "        vertical-align: top;\n",
       "    }\n",
       "\n",
       "    .dataframe thead th {\n",
       "        text-align: right;\n",
       "    }\n",
       "</style>\n",
       "<table border=\"1\" class=\"dataframe\">\n",
       "  <thead>\n",
       "    <tr style=\"text-align: right;\">\n",
       "      <th></th>\n",
       "      <th>articleID</th>\n",
       "      <th>articleWordCount</th>\n",
       "      <th>byline</th>\n",
       "      <th>documentType</th>\n",
       "      <th>headline</th>\n",
       "      <th>keywords</th>\n",
       "      <th>multimedia</th>\n",
       "      <th>newDesk</th>\n",
       "      <th>printPage</th>\n",
       "      <th>pubDate</th>\n",
       "      <th>sectionName</th>\n",
       "      <th>snippet</th>\n",
       "      <th>source</th>\n",
       "      <th>typeOfMaterial</th>\n",
       "      <th>webURL</th>\n",
       "    </tr>\n",
       "  </thead>\n",
       "  <tbody>\n",
       "    <tr>\n",
       "      <th>0</th>\n",
       "      <td>5adf6684068401528a2aa69b</td>\n",
       "      <td>781</td>\n",
       "      <td>By JOHN BRANCH</td>\n",
       "      <td>article</td>\n",
       "      <td>Former N.F.L. Cheerleaders’ Settlement Offer: ...</td>\n",
       "      <td>['Workplace Hazards and Violations', 'Football...</td>\n",
       "      <td>68</td>\n",
       "      <td>Sports</td>\n",
       "      <td>0</td>\n",
       "      <td>2018-04-24 17:16:49</td>\n",
       "      <td>Pro Football</td>\n",
       "      <td>“I understand that they could meet with us, pa...</td>\n",
       "      <td>The New York Times</td>\n",
       "      <td>News</td>\n",
       "      <td>https://www.nytimes.com/2018/04/24/sports/foot...</td>\n",
       "    </tr>\n",
       "    <tr>\n",
       "      <th>1</th>\n",
       "      <td>5adf653f068401528a2aa697</td>\n",
       "      <td>656</td>\n",
       "      <td>By LISA FRIEDMAN</td>\n",
       "      <td>article</td>\n",
       "      <td>E.P.A. to Unveil a New Rule. Its Effect: Less ...</td>\n",
       "      <td>['Environmental Protection Agency', 'Pruitt, S...</td>\n",
       "      <td>68</td>\n",
       "      <td>Climate</td>\n",
       "      <td>0</td>\n",
       "      <td>2018-04-24 17:11:21</td>\n",
       "      <td>Unknown</td>\n",
       "      <td>The agency plans to publish a new regulation T...</td>\n",
       "      <td>The New York Times</td>\n",
       "      <td>News</td>\n",
       "      <td>https://www.nytimes.com/2018/04/24/climate/epa...</td>\n",
       "    </tr>\n",
       "    <tr>\n",
       "      <th>2</th>\n",
       "      <td>5adf4626068401528a2aa628</td>\n",
       "      <td>2427</td>\n",
       "      <td>By PETE WELLS</td>\n",
       "      <td>article</td>\n",
       "      <td>The New Noma, Explained</td>\n",
       "      <td>['Restaurants', 'Noma (Copenhagen, Restaurant)...</td>\n",
       "      <td>66</td>\n",
       "      <td>Dining</td>\n",
       "      <td>0</td>\n",
       "      <td>2018-04-24 14:58:44</td>\n",
       "      <td>Unknown</td>\n",
       "      <td>What’s it like to eat at the second incarnatio...</td>\n",
       "      <td>The New York Times</td>\n",
       "      <td>News</td>\n",
       "      <td>https://www.nytimes.com/2018/04/24/dining/noma...</td>\n",
       "    </tr>\n",
       "    <tr>\n",
       "      <th>3</th>\n",
       "      <td>5adf40d2068401528a2aa619</td>\n",
       "      <td>626</td>\n",
       "      <td>By JULIE HIRSCHFELD DAVIS and PETER BAKER</td>\n",
       "      <td>article</td>\n",
       "      <td>Unknown</td>\n",
       "      <td>['Macron, Emmanuel (1977- )', 'Trump, Donald J...</td>\n",
       "      <td>68</td>\n",
       "      <td>Washington</td>\n",
       "      <td>0</td>\n",
       "      <td>2018-04-24 14:35:57</td>\n",
       "      <td>Europe</td>\n",
       "      <td>President Trump welcomed President Emmanuel Ma...</td>\n",
       "      <td>The New York Times</td>\n",
       "      <td>News</td>\n",
       "      <td>https://www.nytimes.com/2018/04/24/world/europ...</td>\n",
       "    </tr>\n",
       "    <tr>\n",
       "      <th>4</th>\n",
       "      <td>5adf3d64068401528a2aa60f</td>\n",
       "      <td>815</td>\n",
       "      <td>By IAN AUSTEN and DAN BILEFSKY</td>\n",
       "      <td>article</td>\n",
       "      <td>Unknown</td>\n",
       "      <td>['Toronto, Ontario, Attack (April, 2018)', 'Mu...</td>\n",
       "      <td>68</td>\n",
       "      <td>Foreign</td>\n",
       "      <td>0</td>\n",
       "      <td>2018-04-24 14:21:21</td>\n",
       "      <td>Canada</td>\n",
       "      <td>Alek Minassian, 25, a resident of Toronto’s Ri...</td>\n",
       "      <td>The New York Times</td>\n",
       "      <td>News</td>\n",
       "      <td>https://www.nytimes.com/2018/04/24/world/canad...</td>\n",
       "    </tr>\n",
       "  </tbody>\n",
       "</table>\n",
       "</div>"
      ],
      "text/plain": [
       "                  articleID  articleWordCount  \\\n",
       "0  5adf6684068401528a2aa69b               781   \n",
       "1  5adf653f068401528a2aa697               656   \n",
       "2  5adf4626068401528a2aa628              2427   \n",
       "3  5adf40d2068401528a2aa619               626   \n",
       "4  5adf3d64068401528a2aa60f               815   \n",
       "\n",
       "                                      byline documentType  \\\n",
       "0                             By JOHN BRANCH      article   \n",
       "1                           By LISA FRIEDMAN      article   \n",
       "2                              By PETE WELLS      article   \n",
       "3  By JULIE HIRSCHFELD DAVIS and PETER BAKER      article   \n",
       "4             By IAN AUSTEN and DAN BILEFSKY      article   \n",
       "\n",
       "                                            headline  \\\n",
       "0  Former N.F.L. Cheerleaders’ Settlement Offer: ...   \n",
       "1  E.P.A. to Unveil a New Rule. Its Effect: Less ...   \n",
       "2                            The New Noma, Explained   \n",
       "3                                            Unknown   \n",
       "4                                            Unknown   \n",
       "\n",
       "                                            keywords  multimedia     newDesk  \\\n",
       "0  ['Workplace Hazards and Violations', 'Football...          68      Sports   \n",
       "1  ['Environmental Protection Agency', 'Pruitt, S...          68     Climate   \n",
       "2  ['Restaurants', 'Noma (Copenhagen, Restaurant)...          66      Dining   \n",
       "3  ['Macron, Emmanuel (1977- )', 'Trump, Donald J...          68  Washington   \n",
       "4  ['Toronto, Ontario, Attack (April, 2018)', 'Mu...          68     Foreign   \n",
       "\n",
       "   printPage              pubDate   sectionName  \\\n",
       "0          0  2018-04-24 17:16:49  Pro Football   \n",
       "1          0  2018-04-24 17:11:21       Unknown   \n",
       "2          0  2018-04-24 14:58:44       Unknown   \n",
       "3          0  2018-04-24 14:35:57        Europe   \n",
       "4          0  2018-04-24 14:21:21        Canada   \n",
       "\n",
       "                                             snippet              source  \\\n",
       "0  “I understand that they could meet with us, pa...  The New York Times   \n",
       "1  The agency plans to publish a new regulation T...  The New York Times   \n",
       "2  What’s it like to eat at the second incarnatio...  The New York Times   \n",
       "3  President Trump welcomed President Emmanuel Ma...  The New York Times   \n",
       "4  Alek Minassian, 25, a resident of Toronto’s Ri...  The New York Times   \n",
       "\n",
       "  typeOfMaterial                                             webURL  \n",
       "0           News  https://www.nytimes.com/2018/04/24/sports/foot...  \n",
       "1           News  https://www.nytimes.com/2018/04/24/climate/epa...  \n",
       "2           News  https://www.nytimes.com/2018/04/24/dining/noma...  \n",
       "3           News  https://www.nytimes.com/2018/04/24/world/europ...  \n",
       "4           News  https://www.nytimes.com/2018/04/24/world/canad...  "
      ]
     },
     "execution_count": 6,
     "metadata": {},
     "output_type": "execute_result"
    }
   ],
   "source": [
    "df.head()"
   ]
  },
  {
   "cell_type": "code",
   "execution_count": 7,
   "metadata": {},
   "outputs": [
    {
     "data": {
      "text/plain": [
       "((1324, 15),\n",
       " Index(['articleID', 'articleWordCount', 'byline', 'documentType', 'headline',\n",
       "        'keywords', 'multimedia', 'newDesk', 'printPage', 'pubDate',\n",
       "        'sectionName', 'snippet', 'source', 'typeOfMaterial', 'webURL'],\n",
       "       dtype='object'))"
      ]
     },
     "execution_count": 7,
     "metadata": {},
     "output_type": "execute_result"
    }
   ],
   "source": [
    "df.shape, df.columns"
   ]
  },
  {
   "cell_type": "code",
   "execution_count": 14,
   "metadata": {},
   "outputs": [
    {
     "data": {
      "text/plain": [
       "False"
      ]
     },
     "execution_count": 14,
     "metadata": {},
     "output_type": "execute_result"
    }
   ],
   "source": [
    "df['headline'].isnull().values.any()"
   ]
  },
  {
   "cell_type": "code",
   "execution_count": 19,
   "metadata": {},
   "outputs": [],
   "source": [
    "headline = []\n",
    "headline.extend(list(df.headline.values))\n",
    "headline = [n for n in headline if n!= 'Unknown']"
   ]
  },
  {
   "cell_type": "code",
   "execution_count": 20,
   "metadata": {},
   "outputs": [
    {
     "data": {
      "text/plain": [
       "['Former N.F.L. Cheerleaders’ Settlement Offer: $1 and a Meeting With Goodell',\n",
       " 'E.P.A. to Unveil a New Rule. Its Effect: Less Science in Policymaking.',\n",
       " 'The New Noma, Explained',\n",
       " 'How a Bag of Texas Dirt  Became a Times Tradition',\n",
       " 'Is School a Place for Self-Expression?']"
      ]
     },
     "execution_count": 20,
     "metadata": {},
     "output_type": "execute_result"
    }
   ],
   "source": [
    "headline[:5]"
   ]
  },
  {
   "cell_type": "code",
   "execution_count": 21,
   "metadata": {},
   "outputs": [
    {
     "data": {
      "text/plain": [
       "['former nfl cheerleaders settlement offer 1 and a meeting with goodell',\n",
       " 'epa to unveil a new rule its effect less science in policymaking',\n",
       " 'the new noma explained',\n",
       " 'how a bag of texas dirt  became a times tradition',\n",
       " 'is school a place for selfexpression']"
      ]
     },
     "execution_count": 21,
     "metadata": {},
     "output_type": "execute_result"
    }
   ],
   "source": [
    "def repreprocessing(s):\n",
    "    s = s.encode('utf8').decode('ascii','ignore')\n",
    "    return ''.join(c for c in s if c not in punctuation).lower()\n",
    "\n",
    "text = [repreprocessing(x) for x in headline]\n",
    "text[:5]"
   ]
  },
  {
   "cell_type": "markdown",
   "metadata": {},
   "source": [
    "### Tokenize"
   ]
  },
  {
   "cell_type": "code",
   "execution_count": 22,
   "metadata": {},
   "outputs": [
    {
     "data": {
      "text/plain": [
       "3494"
      ]
     },
     "execution_count": 22,
     "metadata": {},
     "output_type": "execute_result"
    }
   ],
   "source": [
    "t = Tokenizer()\n",
    "t.fit_on_texts(text)\n",
    "vocab_size = len(t.word_index) + 1\n",
    "vocab_size"
   ]
  },
  {
   "cell_type": "code",
   "execution_count": 23,
   "metadata": {},
   "outputs": [],
   "source": [
    "sequences = list()\n",
    "\n",
    "for line in text:\n",
    "    encoded = t.texts_to_sequences([line])[0]\n",
    "    for i in range(1,len(encoded)):\n",
    "        sequence = encoded[:i+1]\n",
    "        sequences.append(sequence)"
   ]
  },
  {
   "cell_type": "code",
   "execution_count": 24,
   "metadata": {
    "scrolled": true
   },
   "outputs": [
    {
     "data": {
      "text/plain": [
       "[[99, 269],\n",
       " [99, 269, 371],\n",
       " [99, 269, 371, 1115],\n",
       " [99, 269, 371, 1115, 582],\n",
       " [99, 269, 371, 1115, 582, 52],\n",
       " [99, 269, 371, 1115, 582, 52, 7],\n",
       " [99, 269, 371, 1115, 582, 52, 7, 2],\n",
       " [99, 269, 371, 1115, 582, 52, 7, 2, 372],\n",
       " [99, 269, 371, 1115, 582, 52, 7, 2, 372, 10],\n",
       " [99, 269, 371, 1115, 582, 52, 7, 2, 372, 10, 1116]]"
      ]
     },
     "execution_count": 24,
     "metadata": {},
     "output_type": "execute_result"
    }
   ],
   "source": [
    "sequences[:10]"
   ]
  },
  {
   "cell_type": "code",
   "execution_count": 27,
   "metadata": {},
   "outputs": [
    {
     "data": {
      "text/plain": [
       "dict_items([('the', 1), ('a', 2), ('to', 3), ('of', 4), ('in', 5), ('for', 6), ('and', 7), ('is', 8), ('on', 9), ('with', 10), ('trump', 11), ('as', 12), ('at', 13), ('new', 14), ('how', 15), ('from', 16), ('it', 17), ('an', 18), ('that', 19), ('be', 20), ('season', 21), ('us', 22), ('you', 23), ('its', 24), ('what', 25), ('episode', 26), ('can', 27), ('your', 28), ('not', 29), ('he', 30), ('now', 31), ('his', 32), ('are', 33), ('teaching', 34), ('war', 35), ('out', 36), ('no', 37), ('was', 38), ('by', 39), ('trumps', 40), ('has', 41), ('over', 42), ('may', 43), ('into', 44), ('why', 45), ('more', 46), ('we', 47), ('who', 48), ('about', 49), ('recap', 50), ('activities', 51), ('1', 52), ('just', 53), ('do', 54), ('women', 55), ('when', 56), ('syria', 57), ('trade', 58), ('i', 59), ('2', 60), ('or', 61), ('will', 62), ('this', 63), ('have', 64), ('president', 65), ('but', 66), ('home', 67), ('up', 68), ('long', 69), ('one', 70), ('off', 71), ('facebook', 72), ('house', 73), ('gop', 74), ('our', 75), ('case', 76), ('they', 77), ('life', 78), ('end', 79), ('right', 80), ('some', 81), ('big', 82), ('dead', 83), ('power', 84), ('say', 85), ('white', 86), ('after', 87), ('still', 88), ('north', 89), ('my', 90), ('dont', 91), ('need', 92), ('race', 93), ('own', 94), ('against', 95), ('here', 96), ('should', 97), ('border', 98), ('former', 99), ('epa', 100), ('battle', 101), ('mr', 102), ('too', 103), ('their', 104), ('plan', 105), ('3', 106), ('china', 107), ('real', 108), ('were', 109), ('her', 110), ('russia', 111), ('art', 112), ('good', 113), ('then', 114), ('like', 115), ('pay', 116), ('back', 117), ('get', 118), ('love', 119), ('says', 120), ('officials', 121), ('fight', 122), ('tariffs', 123), ('pruitt', 124), ('democrats', 125), ('black', 126), ('man', 127), ('men', 128), ('help', 129), ('never', 130), ('york', 131), ('comey', 132), ('chief', 133), ('metoo', 134), ('work', 135), ('place', 136), ('could', 137), ('past', 138), ('years', 139), ('rights', 140), ('first', 141), ('money', 142), ('save', 143), ('going', 144), ('all', 145), ('way', 146), ('political', 147), ('fear', 148), ('next', 149), ('fire', 150), ('party', 151), ('me', 152), ('becomes', 153), ('8', 154), ('better', 155), ('old', 156), ('dr', 157), ('king', 158), ('homes', 159), ('ryan', 160), ('tax', 161), ('if', 162), ('than', 163), ('americans', 164), ('rules', 165), ('police', 166), ('school', 167), ('leaders', 168), ('korea', 169), ('there', 170), ('top', 171), ('court', 172), ('state', 173), ('10', 174), ('lower', 175), ('states', 176), ('whats', 177), ('use', 178), ('cancer', 179), ('britain', 180), ('wont', 181), ('time', 182), ('america', 183), ('history', 184), ('where', 185), ('lead', 186), ('left', 187), ('plans', 188), ('talk', 189), ('crisis', 190), ('two', 191), ('tells', 192), ('trust', 193), ('nuclear', 194), ('children', 195), ('million', 196), ('make', 197), ('leader', 198), ('others', 199), ('attack', 200), ('people', 201), ('another', 202), ('6', 203), ('world', 204), ('day', 205), ('car', 206), ('young', 207), ('little', 208), ('california', 209), ('crash', 210), ('last', 211), ('book', 212), ('death', 213), ('gun', 214), ('texas', 215), ('hes', 216), ('sex', 217), ('abuse', 218), ('find', 219), ('truth', 220), ('arizona', 221), ('american', 222), ('pompeo', 223), ('change', 224), ('city', 225), ('kim', 226), ('so', 227), ('music', 228), ('risks', 229), ('being', 230), ('billions', 231), ('5', 232), ('family', 233), ('missing', 234), ('gaza', 235), ('vs', 236), ('senate', 237), ('heart', 238), ('justice', 239), ('killing', 240), ('cia', 241), ('come', 242), ('shows', 243), ('turning', 244), ('schools', 245), ('parents', 246), ('law', 247), ('legal', 248), ('economy', 249), ('strike', 250), ('him', 251), ('threat', 252), ('before', 253), ('takes', 254), ('night', 255), ('mueller', 256), ('close', 257), ('cut', 258), ('dream', 259), ('face', 260), ('friends', 261), ('does', 262), ('game', 263), ('dear', 264), ('boss', 265), ('baby', 266), ('kings', 267), ('jail', 268), ('nfl', 269), ('jimmy', 270), ('word', 271), ('hot', 272), ('turns', 273), ('gap', 274), ('got', 275), ('hope', 276), ('making', 277), ('overlooked', 278), ('push', 279), ('high', 280), ('deal', 281), ('heck', 282), ('live', 283), ('families', 284), ('wrong', 285), ('2018', 286), ('fix', 287), ('lawyers', 288), ('koreas', 289), ('choose', 290), ('public', 291), ('cuomo', 292), ('steel', 293), ('open', 294), ('scott', 295), ('beyond', 296), ('variety', 297), ('ethics', 298), ('files', 299), ('dept', 300), ('let', 301), ('inside', 302), ('director', 303), ('far', 304), ('side', 305), ('rupauls', 306), ('drag', 307), ('fence', 308), ('sanctions', 309), ('want', 310), ('global', 311), ('great', 312), ('fish', 313), ('market', 314), ('team', 315), ('eat', 316), ('problem', 317), ('miracle', 318), ('tied', 319), ('hours', 320), ('working', 321), ('other', 322), ('yet', 323), ('call', 324), ('allies', 325), ('privacy', 326), ('data', 327), ('experts', 328), ('go', 329), ('met', 330), ('brooklyn', 331), ('didnt', 332), ('russian', 333), ('trial', 334), ('apply', 335), ('college', 336), ('many', 337), ('4', 338), ('security', 339), ('year', 340), ('tale', 341), ('social', 342), ('control', 343), ('been', 344), ('hit', 345), ('early', 346), ('behind', 347), ('match', 348), ('ok', 349), ('fears', 350), ('isis', 351), ('walking', 352), ('national', 353), ('presidency', 354), ('student', 355), ('second', 356), ('limits', 357), ('care', 358), ('era', 359), ('south', 360), ('guard', 361), ('rise', 362), ('edge', 363), ('hero', 364), ('tech', 365), ('secret', 366), ('storm', 367), ('gets', 368), ('watch', 369), ('weapons', 370), ('cheerleaders', 371), ('meeting', 372), ('less', 373), ('science', 374), ('dirt', 375), ('times', 376), ('looking', 377), ('win', 378), ('pope', 379), ('stuff', 380), ('wants', 381), ('ruling', 382), ('town', 383), ('cold', 384), ('behavior', 385), ('guns', 386), ('stand', 387), ('human', 388), ('economic', 389), ('tragedy', 390), ('paul', 391), ('them', 392), ('key', 393), ('down', 394), ('given', 395), ('urge', 396), ('kids', 397), ('westworld', 398), ('picture', 399), ('april', 400), ('23', 401), ('subway', 402), ('lets', 403), ('impeachment', 404), ('feel', 405), ('told', 406), ('smile', 407), ('meet', 408), ('wild', 409), ('guide', 410), ('business', 411), ('republicans', 412), ('starbucks', 413), ('door', 414), ('heres', 415), ('punch', 416), ('air', 417), ('caution', 418), ('democratic', 419), ('seen', 420), ('west', 421), ('once', 422), ('marriage', 423), ('politics', 424), ('mission', 425), ('support', 426), ('extra', 427), ('stephen', 428), ('colbert', 429), ('doesnt', 430), ('marijuana', 431), ('reading', 432), ('flight', 433), ('navy', 434), ('veteran', 435), ('ban', 436), ('atlanta', 437), ('finally', 438), ('ready', 439), ('todays', 440), ('puzzle', 441), ('deputy', 442), ('gave', 443), ('teenagers', 444), ('training', 445), ('cant', 446), ('remember', 447), ('36', 448), ('found', 449), ('look', 450), ('scientists', 451), ('drug', 452), ('start', 453), ('fit', 454), ('syrian', 455), ('israel', 456), ('bush', 457), ('tweets', 458), ('calling', 459), ('genius', 460), ('acrostic', 461), ('strikes', 462), ('americas', 463), ('pregnancy', 464), ('step', 465), ('washington', 466), ('body', 467), ('supreme', 468), ('best', 469), ('run', 470), ('late', 471), ('force', 472), ('france', 473), ('said', 474), ('raid', 475), ('report', 476), ('aide', 477), ('try', 478), ('line', 479), ('loss', 480), ('risk', 481), ('ask', 482), ('trevor', 483), ('noah', 484), ('become', 485), ('affair', 486), ('died', 487), ('travel', 488), ('pollution', 489), ('building', 490), ('details', 491), ('mike', 492), ('immigration', 493), ('much', 494), ('words', 495), ('press', 496), ('energy', 497), ('think', 498), ('kitchen', 499), ('teams', 500), ('roseanne', 501), ('matter', 502), ('warm', 503), ('cohen', 504), ('eye', 505), ('wait', 506), ('seized', 507), ('civil', 508), ('brain', 509), ('die', 510), ('bad', 511), ('island', 512), ('target', 513), ('michael', 514), ('complicated', 515), ('under', 516), ('test', 517), ('did', 518), ('talks', 519), ('put', 520), ('questions', 521), ('dies', 522), ('moves', 523), ('15', 524), ('lives', 525), ('james', 526), ('gives', 527), ('warriors', 528), ('mainstream', 529), ('saudi', 530), ('loan', 531), ('puts', 532), ('star', 533), ('broken', 534), ('glass', 535), ('moments', 536), ('sick', 537), ('beat', 538), ('god', 539), ('mean', 540), ('spy', 541), ('immigrants', 542), ('kill', 543), ('shame', 544), ('maybe', 545), ('even', 546), ('land', 547), ('14', 548), ('policy', 549), ('agent', 550), ('smart', 551), ('martin', 552), ('luther', 553), ('mind', 554), ('earth', 555), ('action', 556), ('iraq', 557), ('feeling', 558), ('nature', 559), ('church', 560), ('beware', 561), ('away', 562), ('point', 563), ('army', 564), ('va', 565), ('girls', 566), ('play', 567), ('made', 568), ('marathon', 569), ('lies', 570), ('turn', 571), ('fiction', 572), ('terror', 573), ('accept', 574), ('dying', 575), ('victims', 576), ('golden', 577), ('common', 578), ('near', 579), ('cosby', 580), ('revolt', 581), ('offer', 582), ('rule', 583), ('bag', 584), ('tradition', 585), ('failed', 586), ('utah', 587), ('few', 588), ('believe', 589), ('forced', 590), ('artists', 591), ('carter', 592), ('jersey', 593), ('quiz', 594), ('lifethreatening', 595), ('food', 596), ('choosing', 597), ('future', 598), ('gone', 599), ('panel', 600), ('bucks', 601), ('sidewalk', 602), ('van', 603), ('cuts', 604), ('apologies', 605), ('europes', 606), ('iran', 607), ('themselves', 608), ('avengers', 609), ('most', 610), ('movie', 611), ('taking', 612), ('mirror', 613), ('chancellor', 614), ('debate', 615), ('foods', 616), ('citys', 617), ('favorite', 618), ('cruelty', 619), ('robots', 620), ('coffee', 621), ('prince', 622), ('share', 623), ('tolerance', 624), ('stop', 625), ('migrants', 626), ('path', 627), ('aiding', 628), ('europe', 629), ('magic', 630), ('kind', 631), ('losing', 632), ('middle', 633), ('class', 634), ('youll', 635), ('sorry', 636), ('swamp', 637), ('columbia', 638), ('wages', 639), ('painfully', 640), ('wonkish', 641), ('forgotten', 642), ('survival', 643), ('decline', 644), ('mess', 645), ('fake', 646), ('set', 647), ('himself', 648), ('barely', 649), ('quit', 650), ('70', 651), ('conspiracy', 652), ('pick', 653), ('wells', 654), ('fargo', 655), ('mayhem', 656), ('fields', 657), ('50', 658), ('lack', 659), ('cynthia', 660), ('nixon', 661), ('along', 662), ('promise', 663), ('testing', 664), ('candidates', 665), ('pruitts', 666), ('reforms', 667), ('selling', 668), ('know', 669), ('runners', 670), ('tarot', 671), ('card', 672), ('dress', 673), ('pilot', 674), ('nerves', 675), ('letting', 676), ('al', 677), ('equal', 678), ('returns', 679), ('snake', 680), ('oil', 681), ('betrayed', 682), ('nation', 683), ('fashion', 684), ('lay', 685), ('fine', 686), ('fraud', 687), ('again', 688), ('exfbi', 689), ('sent', 690), ('name', 691), ('sea', 692), ('stands', 693), ('spur', 694), ('means', 695), ('progressive', 696), ('standardized', 697), ('tests', 698), ('antibias', 699), ('goal', 700), ('gentrification', 701), ('shine', 702), ('road', 703), ('deportation', 704), ('voice', 705), ('crazy', 706), ('warming', 707), ('interview', 708), ('launches', 709), ('allout', 710), ('barbara', 711), ('ill', 712), ('treatment', 713), ('blasts', 714), ('slippery', 715), ('around', 716), ('office', 717), ('todo', 718), ('list', 719), ('housing', 720), ('leaves', 721), ('pinch', 722), ('took', 723), ('assad', 724), ('library', 725), ('payment', 726), ('snarl', 727), ('makes', 728), ('87', 729), ('comedy', 730), ('rising', 731), ('stars', 732), ('alike', 733), ('coal', 734), ('lobbyist', 735), ('crossword', 736), ('animals', 737), ('whos', 738), ('pentagon', 739), ('signs', 740), ('childhood', 741), ('courts', 742), ('shift', 743), ('saying', 744), ('scandal', 745), ('sticker', 746), ('shock', 747), ('teacher', 748), ('walkouts', 749), ('grip', 750), ('red', 751), ('speaker', 752), ('leave', 753), ('british', 754), ('mexico', 755), ('wish', 756), ('alive', 757), ('longer', 758), ('moscow', 759), ('believes', 760), ('beef', 761), ('stew', 762), ('chinese', 763), ('partner', 764), ('tabloid', 765), ('catches', 766), ('facebooks', 767), ('lot', 768), ('health', 769), ('putin', 770), ('india', 771), ('these', 772), ('begin', 773), ('protest', 774), ('florida', 775), ('colorado', 776), ('thats', 777), ('hopes', 778), ('access', 779), ('hollywood', 780), ('tape', 781), ('focus', 782), ('fbi', 783), ('general', 784), ('leak', 785), ('spring', 786), ('gut', 787), ('advice', 788), ('risotto', 789), ('simple', 790), ('during', 791), ('week', 792), ('ball', 793), ('gluten', 794), ('free', 795), ('seattle', 796), ('exhusband', 797), ('dilemma', 798), ('betting', 799), ('governors', 800), ('collector', 801), ('thriving', 802), ('modern', 803), ('count', 804), ('thousands', 805), ('interest', 806), ('alaska', 807), ('republican', 808), ('midterm', 809), ('elections', 810), ('pose', 811), ('worry', 812), ('view', 813), ('fascism', 814), ('without', 815), ('spending', 816), ('signals', 817), ('boys', 818), ('learning', 819), ('move', 820), ('fast', 821), ('governor', 822), ('those', 823), ('aging', 824), ('warns', 825), ('media', 826), ('exercise', 827), ('allergic', 828), ('signatures', 829), ('military', 830), ('disaster', 831), ('embrace', 832), ('youre', 833), ('defying', 834), ('toll', 835), ('humans', 836), ('store', 837), ('dogs', 838), ('client', 839), ('reports', 840), ('fired', 841), ('coming', 842), ('lavish', 843), ('zone', 844), ('called', 845), ('options', 846), ('paid', 847), ('ice', 848), ('adviser', 849), ('calls', 850), ('polar', 851), ('bears', 852), ('online', 853), ('bust', 854), ('bars', 855), ('private', 856), ('fans', 857), ('remains', 858), ('funny', 859), ('daughter', 860), ('offered', 861), ('massacre', 862), ('prison', 863), ('votes', 864), ('very', 865), ('outsiders', 866), ('gender', 867), ('scrutiny', 868), ('trail', 869), ('nightmare', 870), ('species', 871), ('fuels', 872), ('jacket', 873), ('hair', 874), ('81', 875), ('foreign', 876), ('9', 877), ('arabian', 878), ('official', 879), ('afghan', 880), ('enters', 881), ('journalism', 882), ('later', 883), ('cry', 884), ('vows', 885), ('price', 886), ('raising', 887), ('song', 888), ('gallery', 889), ('hockey', 890), ('fox', 891), ('fiery', 892), ('chemical', 893), ('hasty', 894), ('viral', 895), ('voters', 896), ('arlee', 897), ('arent', 898), ('friday', 899), ('something', 900), ('every', 901), ('buying', 902), ('ad', 903), ('asparagus', 904), ('blame', 905), ('democracy', 906), ('bracing', 907), ('blood', 908), ('estate', 909), ('jobs', 910), ('raised', 911), ('islam', 912), ('yorks', 913), ('give', 914), ('blast', 915), ('small', 916), ('forces', 917), ('tight', 918), ('labor', 919), ('manhattan', 920), ('intellectual', 921), ('tiny', 922), ('haunting', 923), ('thoughts', 924), ('misconduct', 925), ('usual', 926), ('lisa', 927), ('evil', 928), ('springs', 929), ('stress', 930), ('monkeys', 931), ('gay', 932), ('safety', 933), ('crashes', 934), ('queen', 935), ('indexes', 936), ('indian', 937), ('dreams', 938), ('role', 939), ('macrons', 940), ('locals', 941), ('shot', 942), ('whims', 943), ('sees', 944), ('makers', 945), ('pipe', 946), ('slow', 947), ('quiet', 948), ('ohio', 949), ('primary', 950), ('readers', 951), ('universe', 952), ('older', 953), ('well', 954), ('rents', 955), ('saving', 956), ('worship', 957), ('detail', 958), ('project', 959), ('dissent', 960), ('kennedy', 961), ('assassination', 962), ('edges', 963), ('brazil', 964), ('sports', 965), ('dad', 966), ('amazon', 967), ('trauma', 968), ('anxiety', 969), ('100', 970), ('endless', 971), ('video', 972), ('legacy', 973), ('candidate', 974), ('shooting', 975), ('silicon', 976), ('valley', 977), ('light', 978), ('chose', 979), ('heated', 980), ('leads', 981), ('israelis', 982), ('lone', 983), ('journalist', 984), ('sexual', 985), ('assault', 986), ('joke', 987), ('bronx', 988), ('necessary', 989), ('search', 990), ('nights', 991), ('giants', 992), ('streets', 993), ('stocks', 994), ('see', 995), ('teachers', 996), ('spreads', 997), ('african', 998), ('only', 999), ('hard', 1000), ('reality', 1001), ('fallout', 1002), ('stories', 1003), ('needs', 1004), ('plot', 1005), ('uk', 1006), ('answer', 1007), ('blunt', 1008), ('dog', 1009), ('george', 1010), ('decades', 1011), ('furor', 1012), ('fall', 1013), ('movement', 1014), ('claims', 1015), ('saturday', 1016), ('outrage', 1017), ('outbreak', 1018), ('struck', 1019), ('vietnam', 1020), ('actually', 1021), ('puerto', 1022), ('rico', 1023), ('quite', 1024), ('tune', 1025), ('los', 1026), ('protests', 1027), ('wary', 1028), ('camera', 1029), ('baseball', 1030), ('mogul', 1031), ('country', 1032), ('tv', 1033), ('ronny', 1034), ('gen', 1035), ('kremlin', 1036), ('crackdown', 1037), ('memory', 1038), ('parenting', 1039), ('loses', 1040), ('racist', 1041), ('duo', 1042), ('bueller', 1043), ('midterms', 1044), ('defense', 1045), ('generation', 1046), ('students', 1047), ('genre', 1048), ('instagram', 1049), ('survey', 1050), ('wouldnt', 1051), ('phone', 1052), ('standing', 1053), ('act', 1054), ('would', 1055), ('pulitzer', 1056), ('prize', 1057), ('treat', 1058), ('tea', 1059), ('mother', 1060), ('peace', 1061), ('virtual', 1062), ('currency', 1063), ('journalists', 1064), ('finds', 1065), ('lawman', 1066), ('wins', 1067), ('itself', 1068), ('abroad', 1069), ('mercy', 1070), ('suspects', 1071), ('doctors', 1072), ('letter', 1073), ('comeys', 1074), ('spoil', 1075), ('child', 1076), ('inch', 1077), ('site', 1078), ('finale', 1079), ('immune', 1080), ('therapy', 1081), ('japanese', 1082), ('conquering', 1083), ('graft', 1084), ('really', 1085), ('immigrant', 1086), ('spf', 1087), ('overdue', 1088), ('presidential', 1089), ('dreamers', 1090), ('officer', 1091), ('judge', 1092), ('water', 1093), ('im', 1094), ('workers', 1095), ('n0', 1096), ('guilty', 1097), ('killer', 1098), ('pain', 1099), ('same', 1100), ('led', 1101), ('wave', 1102), ('inquiry', 1103), ('least', 1104), ('jury', 1105), ('bill', 1106), ('street', 1107), ('reckoning', 1108), ('birthday', 1109), ('ride', 1110), ('board', 1111), ('meddling', 1112), ('sets', 1113), ('telecom', 1114), ('settlement', 1115), ('goodell', 1116), ('unveil', 1117), ('effect', 1118), ('policymaking', 1119), ('noma', 1120), ('explained', 1121), ('became', 1122), ('selfexpression', 1123), ('commuter', 1124), ('reprogramming', 1125), ('ford', 1126), ('changed', 1127), ('lift', 1128), ('romney', 1129), ('convention', 1130), ('doomed', 1131), ('chain', 1132), ('reaction', 1133), ('vatican', 1134), ('investigate', 1135), ('francis', 1136), ('berlin', 1137), ('knows', 1138), ('reignite', 1139), ('churchstate', 1140), ('separation', 1141), ('procrastinating', 1142), ('dilatory', 1143), ('bout', 1144), ('e', 1145), ('coli', 1146), ('poisoning', 1147), ('brexit', 1148), ('yearned', 1149), ('seafaring', 1150), ('muddied', 1151), ('quote', 1152), ('disproved', 1153), ('bizarre', 1154), ('groups', 1155), ('equality', 1156), ('nashville', 1157), ('education', 1158), ('relents', 1159), ('approved', 1160), ('buses', 1161), ('turnaround', 1162), ('dinner', 1163), ('nods', 1164), ('traditions', 1165), ('pouring', 1166), ('wisconsin', 1167), ('stakes', 1168), ('mismatched', 1169), ('motives', 1170), ('toronto', 1171), ('nothing', 1172), ('indigenous', 1173), ('canada', 1174), ('craft', 1175), ('distillers', 1176), ('facing', 1177), ('taxes', 1178), ('invest', 1179), ('lucrative', 1180), ('franchise', 1181), ('ever', 1182), ('wrapping', 1183), ('genital', 1184), ('reconstruction', 1185), ('utne', 1186), ('frontier', 1187), ('denial', 1188), ('patron', 1189), ('wrested', 1190), ('rifle', 1191), ('trying', 1192), ('richard', 1193), ('carranza', 1194), ('ultimately', 1195), ('everything', 1196), ('helping', 1197), ('adhd', 1198), ('thrive', 1199), ('persists', 1200), ('gmo', 1201), ('soap', 1202), ('opera', 1203), ('odds', 1204), ('shopping', 1205), ('multilevel', 1206), ('tables', 1207), ('whisky', 1208), ('chronicles', 1209), ('unproven', 1210), ('technology', 1211), ('label', 1212), ('special', 1213), ('delivery', 1214), ('setting', 1215), ('tone', 1216), ('postpresidency', 1217), ('obama', 1218), ('message', 1219), ('politicians', 1220), ('scraping', 1221), ('bottom', 1222), ('scarce', 1223), ('resource', 1224), ('referee', 1225), ('sudan', 1226), ('blocks', 1227), ('peaceful', 1228), ('mood', 1229), ('premiere', 1230), ('consequences', 1231), ('majesty', 1232), ('rhyme', 1233), ('1738', 1234), ('servants', 1235), ('foothold', 1236), ('ideas', 1237), ('thank', 1238), ('muellers', 1239), ('abhors', 1240), ('buried', 1241), ('graveyard', 1242), ('played', 1243), ('rescue', 1244), ('de', 1245), ('blasio', 1246), ('countrys', 1247), ('ugliest', 1248), ('feuds', 1249), ('dodging', 1250), ('handy', 1251), ('detour', 1252), ('foes', 1253), ('tribute', 1254), ('uwe', 1255), ('reinhardt', 1256), ('revisiting', 1257), ('eras', 1258), ('wet', 1259), ('pluses', 1260), ('minuses', 1261), ('bid', 1262), ('rosenstein', 1263), ('costly', 1264), ('opioid', 1265), ('foretold', 1266), ('deals', 1267), ('imperil', 1268), ('adapting', 1269), ('doing', 1270), ('pearls', 1271), ('puns', 1272), ('anagrams', 1273), ('chiefs', 1274), ('woes', 1275), ('echoes', 1276), ('bow', 1277), ('rumors', 1278), ('fuel', 1279), ('thirst', 1280), ('revenge', 1281), ('airbnb', 1282), ('babies', 1283), ('voting', 1284), ('childbirths', 1285), ('dangers', 1286), ('noticed', 1287), ('jewish', 1288), ('phrasing', 1289), ('deserts', 1290), ('curtains', 1291), ('gypsy', 1292), ('punching', 1293), ('clout', 1294), ('provocateur', 1295), ('blooddripping', 1296), ('appearance', 1297), ('lawsuit', 1298), ('alleging', 1299), ('trumprussia', 1300), ('divided', 1301), ('garner', 1302), ('fullon', 1303), ('propaganda', 1304), ('twisting', 1305), ('towers', 1306), ('penalty', 1307), ('known', 1308), ('east', 1309), ('familiar', 1310), ('getting', 1311), ('nobody', 1312), ('egos', 1313), ('repetitive', 1314), ('insanity', 1315), ('happen', 1316), ('korean', 1317), ('hault', 1318), ('four', 1319), ('space', 1320), ('embracing', 1321), ('s', 1322), ('cracks', 1323), ('inquiries', 1324), ('widen', 1325), ('code', 1326), ('strict', 1327), ('southwest', 1328), ('1380', 1329), ('hailed', 1330), ('trackandfield', 1331), ('sign', 1332), ('paper', 1333), ('boi', 1334), ('redacted', 1335), ('memos', 1336), ('delivered', 1337), ('lawmakers', 1338), ('elizas', 1339), ('charge', 1340), ('amendment', 1341), ('slump', 1342), ('sponsoring', 1343), ('terrorism', 1344), ('dawn', 1345), ('fulton', 1346), ('deceived', 1347), ('slain', 1348), ('rsum', 1349), ('giuliani', 1350), ('lend', 1351), ('firepower', 1352), ('adds', 1353), ('parallels', 1354), ('jake', 1355), ('tappers', 1356), ('novel', 1357), ('olivia', 1358), ('popes', 1359), ('pantsuit', 1360), ('billion', 1361), ('armstrong', 1362), ('agrees', 1363), ('safe', 1364), ('salad', 1365), ('possible', 1366), ('prosecution', 1367), ('cures', 1368), ('ho', 1369), ('noodle', 1370), ('soup', 1371), ('nourishes', 1372), ('transports', 1373), ('pediatrician', 1374), ('asperger', 1375), ('syndrome', 1376), ('nazi', 1377), ('bodies', 1378), ('remodeled', 1379), ('restaurant', 1380), ('frenchette', 1381), ('natural', 1382), ('wines', 1383), ('arrested', 1384), ('rent', 1385), ('slide', 1386), ('cubas', 1387), ('hardliner', 1388), ('enigma', 1389), ('surplus', 1390), ('frowns', 1391), ('olive', 1392), ('branch', 1393), ('viewed', 1394), ('warily', 1395), ('san', 1396), ('franciscos', 1397), ('seismic', 1398), ('gamble', 1399), ('companies', 1400), ('require', 1401), ('employees', 1402), ('sowing', 1403), ('literature', 1404), ('imaginative', 1405), ('caregiving', 1406), ('patient', 1407), ('lighting', 1408), ('landscapes', 1409), ('aliens', 1410), ('worse', 1411), ('things', 1412), ('citizenship', 1413), ('lisbon', 1414), ('janelle', 1415), ('mone', 1416), ('tolls', 1417), ('closer', 1418), ('damage', 1419), ('barrier', 1420), ('reef', 1421), ('irreversible', 1422), ('dislike', 1423), ('despise', 1424), ('fiscal', 1425), ('conservatives', 1426), ('tales', 1427), ('persia', 1428), ('unfolding', 1429), ('addiction', 1430), ('creative', 1431), ('leash', 1432), ('attracts', 1433), ('changes', 1434), ('gravely', 1435), ('opts', 1436), ('halt', 1437), ('punish', 1438), ('barrage', 1439), ('sold', 1440), ('600000', 1441), ('youtuber', 1442), ('brings', 1443), ('preposition', 1444), ('proposition', 1445), ('jump', 1446), ('ship', 1447), ('mom', 1448), ('running', 1449), ('warrior', 1450), ('mall', 1451), ('scrap', 1452), ('exorcist', 1453), ('strange', 1454), ('pension', 1455), ('math', 1456), ('profiteers', 1457), ('coax', 1458), ('surgery', 1459), ('accomplished', 1460), ('window', 1461), ('ledge', 1462), ('nest', 1463), ('pigeons', 1464), ('salute', 1465), ('signature', 1466), ('signing', 1467), ('expressions', 1468), ('affection', 1469), ('republic', 1470), ('targets', 1471), ('pull', 1472), ('yourself', 1473), ('together', 1474), ('henry', 1475), ('higgins', 1476), ('pictures', 1477), ('viewing', 1478), ('through', 1479), ('resignation', 1480), ('ahead', 1481), ('spurn', 1482), ('endorse', 1483), ('rival', 1484), ('burgundy', 1485), ('iconoclast', 1486), ('laurent', 1487), ('ponsot', 1488), ('looks', 1489), ('projects', 1490), ('trading', 1491), ('mitzi', 1492), ('shore', 1493), ('club', 1494), ('owner', 1495), ('fostered', 1496), ('university', 1497), ('rice', 1498), ('balls', 1499), ('subtle', 1500), ('showy', 1501), ('omusubi', 1502), ('gonbei', 1503), ('insider', 1504), ('addressing', 1505), ('areas', 1506), ('punched', 1507), ('clock', 1508), ('issue', 1509), ('rises', 1510), ('fore', 1511), ('vindicating', 1512), ('zoo', 1513), ('performer', 1514), ('staring', 1515), ('urges', 1516), ('greater', 1517), ('pill', 1518), ('sarms', 1519), ('armageddon', 1520), ('revert', 1521), ('queens', 1522), ('appointing', 1523), ('male', 1524), ('missed', 1525), ('opportunity', 1526), ('dissenting', 1527), ('rightward', 1528), ('lots', 1529), ('screen', 1530), ('stalwart', 1531), ('heads', 1532), ('phoenix', 1533), ('transplant', 1534), ('threaten', 1535), ('upended', 1536), ('calmly', 1537), ('victoria', 1538), ('kidnapped', 1539), ('schoolgirls', 1540), ('boko', 1541), ('haram', 1542), ('portraits', 1543), ('mestiza', 1544), ('comebacks', 1545), ('morning', 1546), ('owls', 1547), ('lin', 1548), ('huiyin', 1549), ('liang', 1550), ('sicheng', 1551), ('chroniclers', 1552), ('architecture', 1553), ('silent', 1554), ('headline', 1555), ('investigators', 1556), ('eyes', 1557), ('begins', 1558), ('charm', 1559), ('offensive', 1560), ('questioning', 1561), ('lethal', 1562), ('export', 1563), ('triumph', 1564), ('contradiction', 1565), ('riddance', 1566), ('objects', 1567), ('fell', 1568), ('sky', 1569), ('shouts', 1570), ('chemicals', 1571), ('track', 1572), ('methane', 1573), ('leaks', 1574), ('above', 1575), ('fires', 1576), ('tugging', 1577), ('reins', 1578), ('she', 1579), ('alternative', 1580), ('fewer', 1581), ('oligarchs', 1582), ('brutal', 1583), ('rape', 1584), ('murder', 1585), ('girl', 1586), ('divides', 1587), ('balaboosta', 1588), ('doors', 1589), ('portals', 1590), ('chelsea', 1591), ('hotels', 1592), ('clearing', 1593), ('airport', 1594), ('camp', 1595), ('treehouse', 1596), ('grid', 1597), ('feather', 1598), ('cap', 1599), ('albatross', 1600), ('neck', 1601), ('retire', 1602), ('scattering', 1603), ('faulted', 1604), ('scathing', 1605), ('inspector', 1606), ('cheney', 1607), ('pardoned', 1608), ('billionaires', 1609), ('ambition', 1610), ('meets', 1611), ('riffing', 1612), ('worlds', 1613), ('sandwiches', 1614), ('clinical', 1615), ('elderly', 1616), ('craving', 1617), ('taste', 1618), ('turtles', 1619), ('magnetic', 1620), ('birthplace', 1621), ('beach', 1622), ('feels', 1623), ('chefs', 1624), ('relaxation', 1625), ('stir', 1626), ('vision', 1627), ('aids', 1628), ('watching', 1629), ('weekend', 1630), ('untruthful', 1631), ('slime', 1632), ('lash', 1633), ('bigger', 1634), ('oats', 1635), ('which', 1636), ('contain', 1637), ('labeled', 1638), ('homeless', 1639), ('wed', 1640), ('beneath', 1641), ('overpass', 1642), ('cograndparent', 1643), ('am', 1644), ('paying', 1645), ('nap', 1646), ('tethered', 1647), ('raging', 1648), ('buffoon', 1649), ('hammers', 1650), ('congress', 1651), ('dependence', 1652), ('cash', 1653), ('berkshires', 1654), ('solved', 1655), ('dorm', 1656), ('mans', 1657), ('obsession', 1658), ('uncertainty', 1659), ('missouri', 1660), ('maze', 1661), ('lost', 1662), ('syrias', 1663), ('sustainable', 1664), ('environment', 1665), ('bank', 1666), ('account', 1667), ('paltry', 1668), ('neighbor', 1669), ('chasing', 1670), ('thief', 1671), ('spideys', 1672), ('creator', 1673), ('web', 1674), ('strife', 1675), ('upends', 1676), ('flower', 1677), ('shop', 1678), ('ecclesiastic', 1679), ('serious', 1680), ('rupocalypse', 1681), ('7', 1682), ('drake', 1683), ('points', 1684), ('inevitable', 1685), ('pardon', 1686), ('convicted', 1687), ('visceral', 1688), ('grim', 1689), ('memoir', 1690), ('works', 1691), ('hill', 1692), ('cheer', 1693), ('favors', 1694), ('flimflam', 1695), ('renaissance', 1696), ('perfume', 1697), ('mincing', 1698), ('sheriff', 1699), ('indulged', 1700), ('mounted', 1701), ('overdose', 1702), ('accessible', 1703), ('falters', 1704), ('shifting', 1705), ('baffle', 1706), ('chinas', 1707), ('masculinity', 1708), ('age', 1709), ('photo', 1710), ('twice', 1711), ('major', 1712), ('lifts', 1713), ('renewable', 1714), ('sources', 1715), ('historians', 1716), ('versus', 1717), ('genealogists', 1718), ('weighs', 1719), ('rejoining', 1720), ('accord', 1721), ('pacific', 1722), ('rim', 1723), ('aboutface', 1724), ('brisbane', 1725), ('gauge', 1726), ('apart', 1727), ('imitators', 1728), ('medallion', 1729), ('builtin', 1730), ('advantage', 1731), ('majority', 1732), ('receding', 1733), ('camdens', 1734), ('improve', 1735), ('stateappointed', 1736), ('superintendent', 1737), ('steps', 1738), ('aside', 1739), ('abortion', 1740), ('roe', 1741), ('unwanted', 1742), ('advances', 1743), ('missouris', 1744), ('italy', 1745), ('deleted', 1746), ('ago', 1747), ('musicians', 1748), ('concert', 1749), ('promises', 1750), ('promote', 1751), ('alone', 1752), ('weight', 1753), ('fictional', 1754), ('pence', 1755), ('plane', 1756), ('algerias', 1757), ('worst', 1758), ('257', 1759), ('giant', 1760), ('collects', 1761), ('uses', 1762), ('except', 1763), ('pedestrian', 1764), ('reddest', 1765), ('rural', 1766), ('districts', 1767), ('nra', 1768), ('hidden', 1769), ('answering', 1770), ('seth', 1771), ('meyers', 1772), ('wonders', 1773), ('spells', 1774), ('doom', 1775), ('animal', 1776), ('welfare', 1777), ('suffering', 1778), ('brassai', 1779), ('paris', 1780), ('python', 1781), ('pet', 1782), ('snatched', 1783), ('smells', 1784), ('memories', 1785), ('classic', 1786), ('else', 1787), ('bite', 1788), ('ignored', 1789), ('clown', 1790), ('bleached', 1791), ('angry', 1792), ('subpoenas', 1793), ('nearly', 1794), ('december', 1795), ('traumatic', 1796), ('injuries', 1797), ('dementia', 1798), ('salt', 1799), ('pepper', 1800), ('already', 1801), ('gory', 1802), ('el', 1803), ('chapo', 1804), ('draining', 1805), ('three', 1806), ('investigates', 1807), ('admissions', 1808), ('tiki', 1809), ('bar', 1810), ('lessthantropical', 1811), ('raids', 1812), ('hush', 1813), ('fumes', 1814), ('trembling', 1815), ('screaming', 1816), ('cream', 1817), ('homeland', 1818), ('bolton', 1819), ('settles', 1820), ('filipinos', 1821), ('tatters', 1822), ('trip', 1823), ('latin', 1824), ('citing', 1825), ('climate', 1826), ('skeptics', 1827), ('beg', 1828), ('differ', 1829), ('speak', 1830), ('accountable', 1831), ('misunderstands', 1832), ('imagines', 1833), ('went', 1834), ('diving', 1835), ('renovation', 1836), ('gusto', 1837), ('rhodesias', 1838), ('supremacists', 1839), ('cambridge', 1840), ('analytica', 1841), ('course', 1842), ('escapes', 1843), ('riots', 1844), ('beatings', 1845), ('prisons', 1846), ('soups', 1847), ('beautiful', 1848), ('bogot', 1849), ('travelers', 1850), ('starter', 1851), ('kit', 1852), ('groped', 1853), ('pro', 1854), ('bosses', 1855), ('disapprove', 1856), ('vouchers', 1857), ('mayors', 1858), ('streetcar', 1859), ('markdowns', 1860), ('poem', 1861), ('cure', 1862), ('pages', 1863), ('exspy', 1864), ('hospital', 1865), ('popup', 1866), ('classes', 1867), ('reporters', 1868), ('recorded', 1869), ('myanmar', 1870), ('authority', 1871), ('months', 1872), ('resigning', 1873), ('event', 1874), ('revulsion', 1875), ('eroded', 1876), ('obamacares', 1877), ('stable', 1878), ('failures', 1879), ('antitrumpism', 1880), ('bannon', 1881), ('beliefs', 1882), ('parent', 1883), ('allay', 1884), ('911', 1885), ('born', 1886), ('zuckerberg', 1887), ('center', 1888), ('reshape', 1889), ('tokens', 1890), ('please', 1891), ('widens', 1892), ('onenight', 1893), ('temptation', 1894), ('handlers', 1895), ('leeches', 1896), ('trackers', 1897), ('poised', 1898), ('balloon', 1899), ('trillion', 1900), ('deficit', 1901), ('grilling', 1902), ('tie', 1903), ('shirt', 1904), ('mets', 1905), ('excited', 1906), ('authentic', 1907), ('retaliation', 1908), ('abou', 1909), ('sizzle', 1910), ('grill', 1911), ('tense', 1912), ('fossilized', 1913), ('finger', 1914), ('bone', 1915), ('earliest', 1916), ('peninsula', 1917), ('advisers', 1918), ('head', 1919), ('actions', 1920), ('commander', 1921), ('returning', 1922), ('battleground', 1923), ('20', 1924), ('rallying', 1925), ('reactions', 1926), ('shingles', 1927), ('vaccine', 1928), ('reasons', 1929), ('masked', 1930), ('wrestling', 1931), ('priest', 1932), ('prospect', 1933), ('missile', 1934), ('hub', 1935), ('contemplation', 1936), ('challenge', 1937), ('books', 1938), ('teach', 1939), ('management', 1940), ('cleaning', 1941), ('wit', 1942), ('tina', 1943), ('fey', 1944), ('splintered', 1945), ('hearts', 1946), ('horror', 1947), ('governed', 1948), ('amp', 1949), ('powderkeg', 1950), ('bon', 1951), ('vivant', 1952), ('tower', 1953), ('couldnt', 1954), ('sell', 1955), ('affected', 1956), ('users', 1957), ('carnage', 1958), ('muddles', 1959), ('exit', 1960), ('sweeping', 1961), ('election', 1962), ('victory', 1963), ('hungarys', 1964), ('ruler', 1965), ('constitution', 1966), ('antioch', 1967), ('initials', 1968), ('stroller', 1969), ('scrawls', 1970), ('credit', 1971), ('trusts', 1972), ('complain', 1973), ('triple', 1974), ('spoonerisms', 1975), ('murky', 1976), ('perils', 1977), ('quitting', 1978), ('antidepressants', 1979), ('landlord', 1980), ('refund', 1981), ('fee', 1982), ('amenities', 1983), ('available', 1984), ('renegades', 1985), ('sri', 1986), ('lanka', 1987), ('bombast', 1988), ('samantha', 1989), ('germs', 1990), ('diet', 1991), ('soda', 1992), ('dvd', 1993), ('staff', 1994), ('advised', 1995), ('resistant', 1996), ('epas', 1997), ('current', 1998), ('tb', 1999), ('insufficient', 2000), ('princes', 2001), ('tour', 2002), ('murdoch', 2003), ('gates', 2004), ('oprah', 2005), ('anonymous', 2006), ('earned', 2007), ('divine', 2008), ('status', 2009), ('frustrated', 2010), ('yorkers', 2011), ('catering', 2012), ('fliers', 2013), ('30000', 2014), ('feet', 2015), ('enemy', 2016), ('cecil', 2017), ('taylor', 2018), ('pianist', 2019), ('defied', 2020), ('jazz', 2021), ('orthodoxy', 2022), ('89', 2023), ('pressure', 2024), ('miscarriage', 2025), ('dynasty', 2026), ('passing', 2027), ('torch', 2028), ('disappointing', 2029), ('alarms', 2030), ('nominees', 2031), ('views', 2032), ('80s', 2033), ('kors', 2034), ('dismantle', 2035), ('obamas', 2036), ('hatewatching', 2037), ('hgtv', 2038), ('putins', 2039), ('inner', 2040), ('circle', 2041), ('gendered', 2042), ('emasculator', 2043), ('until', 2044), ('arrived', 2045), ('chappaquiddick', 2046), ('theory', 2047), ('march', 2048), ('structure', 2049), ('denies', 2050), ('knowledge', 2051), ('porn', 2052), ('flail', 2053), ('concerns', 2054), ('ousted', 2055), ('script', 2056), ('restaurateur', 2057), ('starr', 2058), ('keith', 2059), ('mcnally', 2060), ('reopen', 2061), ('pastis', 2062), ('liberal', 2063), ('nirvana', 2064), ('sometimes', 2065), ('room', 2066), ('protecting', 2067), ('outposts', 2068), ('pulling', 2069), ('lawn', 2070), ('chairs', 2071), ('someones', 2072), ('prom', 2073), ('include', 2074), ('squeezes', 2075), ('restaurants', 2076), ('growing', 2077), ('threatens', 2078), ('aides', 2079), ('exits', 2080), ('confident', 2081), ('buzz', 2082), ('v', 2083), ('sale', 2084), ('harder', 2085), ('disabilities', 2086), ('contract', 2087), ('authoritarianism', 2088), ('driven', 2089), ('elevator', 2090), ('oh', 2091), ('accuse', 2092), ('architect', 2093), ('finding', 2094), ('decent', 2095), ('wades', 2096), ('deeper', 2097), ('detainee', 2098), ('operations', 2099), ('kurds', 2100), ('recovery', 2101), ('weakness', 2102), ('strength', 2103), ('commerce', 2104), ('murkowski', 2105), ('mastered', 2106), ('myerss', 2107), ('fallon', 2108), ('homework', 2109), ('therapist', 2110), ('japans', 2111), ('popular', 2112), ('bathing', 2113), ('temple', 2114), ('elephants', 2115), ('retreat', 2116), ('sheep', 2117), ('dylan', 2118), ('st', 2119), ('vincent', 2120), ('sing', 2121), ('fatal', 2122), ('bessie', 2123), ('b', 2124), ('stringfield', 2125), ('motorcycle', 2126), ('miami', 2127), ('causing', 2128), ('walkoff', 2129), ('youtube', 2130), ('complaints', 2131), ('attacker', 2132), ('echoed', 2133), ('dollars', 2134), ('flawed', 2135), ('trapping', 2136), ('manufacturers', 2137), ('crossfire', 2138), ('uschina', 2139), ('tensions', 2140), ('send', 2141), ('homestead', 2142), ('architectures', 2143), ('forensic', 2144), ('gaze', 2145), ('womens', 2146), ('jeopardy', 2147), ('producer', 2148), ('supplied', 2149), ('dough', 2150), ('souvenirs', 2151), ('ive', 2152), ('forget', 2153), ('logo', 2154), ('quirks', 2155), ('garry', 2156), ('winogrand', 2157), ('photograph', 2158), ('museum', 2159), ('deception', 2160), ('campus', 2161), ('expresident', 2162), ('sentenced', 2163), ('24', 2164), ('corruption', 2165), ('radical', 2166), ('exile', 2167), ('vocal', 2168), ('imam', 2169), ('fifty', 2170), ('shades', 2171), ('slice', 2172), ('pizza', 2173), ('knew', 2174), ('mentally', 2175), ('officers', 2176), ('keep', 2177), ('crossing', 2178), ('undeterred', 2179), ('washingtons', 2180), ('agreement', 2181), ('nafta', 2182), ('must', 2183), ('45000', 2184), ('bribes', 2185), ('luxuries', 2186), ('prosecutors', 2187), ('escalates', 2188), ('tariff', 2189), ('mistake', 2190), ('worries', 2191), ('sending', 2192), ('pointing', 2193), ('believed', 2194), ('infrastructure', 2195), ('fund', 2196), ('hype', 2197), ('shhhh', 2198), ('silence', 2199), ('mostly', 2200), ('enchanted', 2201), ('aims', 2202), ('transparency', 2203), ('defeated', 2204), ('circus', 2205), ('deploy', 2206), ('condoning', 2207), ('illiteracy', 2208), ('footprints', 2209), ('scottish', 2210), ('isle', 2211), ('playground', 2212), ('dinosaurs', 2213), ('lovely', 2214), ('tempts', 2215), ('kasich', 2216), ('hearing', 2217), ('multiple', 2218), ('channels', 2219), ('balancing', 2220), ('chaos', 2221), ('mighty', 2222), ('yes', 2223), ('wiser', 2224), ('homelessness', 2225), ('follows', 2226), ('minnesota', 2227), ('miners', 2228), ('houses', 2229), ('astounding', 2230), ('pulls', 2231), ('total', 2232), ('withdrawal', 2233), ('google', 2234), ('internal', 2235), ('robert', 2236), ('f', 2237), ('indianapolis', 2238), ('crowd', 2239), ('profile', 2240), ('breach', 2241), ('brink', 2242), ('officially', 2243), ('guy', 2244), ('cue', 2245), ('jitters', 2246), ('wars', 2247), ('stranded', 2248), ('assets', 2249), ('stock', 2250), ('googoosha', 2251), ('cherished', 2252), ('uzbek', 2253), ('between', 2254), ('grows', 2255), ('stained', 2256), ('cathedral', 2257), ('700000', 2258), ('pennsylvania', 2259), ('michigan', 2260), ('7year', 2261), ('schism', 2262), ('bananas', 2263), ('outwork', 2264), ('drinks', 2265), ('mysterious', 2266), ('illness', 2267), ('avoid', 2268), ('boomers', 2269), ('kimmel', 2270), ('understand', 2271), ('attacks', 2272), ('historic', 2273), ('questionable', 2274), ('moniker', 2275), ('playing', 2276), ('remembered', 2277), ('rest', 2278), ('plants', 2279), ('baffled', 2280), ('guiding', 2281), ('hand', 2282), ('algebra', 2283), ('anne', 2284), ('wojcicki', 2285), ('healthy', 2286), ('mines', 2287), ('balkans', 2288), ('12', 2289), ('had', 2290), ('rude', 2291), ('hungary', 2292), ('mirage', 2293), ('cheesy', 2294), ('crime', 2295), ('punishment', 2296), ('firms', 2297), ('shudder', 2298), ('reverts', 2299), ('spotlight', 2300), ('shines', 2301), ('rollbacks', 2302), ('argument', 2303), ('inclusion', 2304), ('riders', 2305), ('perversion', 2306), ('leadership', 2307), ('upstairs', 2308), ('youtubes', 2309), ('offices', 2310), ('rattles', 2311), ('honor', 2312), ('churches', 2313), ('mourning', 2314), ('beacon', 2315), ('harlem', 2316), ('five', 2317), ('attorneys', 2318), ('sisters', 2319), ('norway', 2320), ('lived', 2321), ('sidewalks', 2322), ('included', 2323), ('turf', 2324), ('interprets', 2325), ('pushed', 2326), ('johnny', 2327), ('cashs', 2328), ('poems', 2329), ('songs', 2330), ('oaxaca', 2331), ('gowanus', 2332), ('jrs', 2333), ('according', 2334), ('politically', 2335), ('faith', 2336), ('scene', 2337), ('uncovers', 2338), ('casual', 2339), ('horrors', 2340), ('foresees', 2341), ('securing', 2342), ('championship', 2343), ('hooked', 2344), ('vitamins', 2345), ('standin', 2346), ('standout', 2347), ('villanova', 2348), ('proclaims', 2349), ('awareness', 2350), ('month', 2351), ('thinks', 2352), ('bedford', 2353), ('son', 2354), ('pairs', 2355), ('mixing', 2356), ('pleasure', 2357), ('hurricanedamaged', 2358), ('islands', 2359), ('ancient', 2360), ('cloud', 2361), ('girlfriend', 2362), ('awful', 2363), ('warned', 2364), ('booksellers', 2365), ('doctor', 2366), ('grapple', 2367), ('epidemic', 2368), ('cost', 2369), ('siege', 2370), ('comfort', 2371), ('write', 2372), ('vape', 2373), ('supermans', 2374), ('alien', 2375), ('influential', 2376), ('voter', 2377), ('suppressions', 2378), ('reliving', 2379), ('button', 2380), ('industry', 2381), ('register', 2382), ('autocrats', 2383), ('playbook', 2384), ('trumpland', 2385), ('bruising', 2386), ('battles', 2387), ('condo', 2388), ('green', 2389), ('unclog', 2390), ('2001', 2391), ('patrol', 2392), ('ear', 2393), ('matzo', 2394), ('birds', 2395), ('super', 2396), ('nova', 2397), ('antibiotics', 2398), ('antacids', 2399), ('allergies', 2400), ('escort', 2401), ('coach', 2402), ('held', 2403), ('thailand', 2404), ('secrets', 2405), ('divisive', 2406), ('oratory', 2407), ('daily', 2408), ('spellbound', 2409), ('efforts', 2410), ('reduce', 2411), ('standards', 2412), ('peak', 2413), ('picasso', 2414), ('sink', 2415), ('bump', 2416), ('bear', 2417), ('sweatpants', 2418), ('cheerleader', 2419), ('sends', 2420), ('rsvp', 2421), ('invitation', 2422), ('changing', 2423), ('residents', 2424), ('backward', 2425), ('disgrace', 2426), ('walk', 2427), ('fervor', 2428), ('niobe', 2429), ('treats', 2430), ('absurdist', 2431), ('winnie', 2432), ('madikizelamandela', 2433), ('fought', 2434), ('apartheid', 2435), ('dolphin', 2436), ('dieoff', 2437), ('tip', 2438), ('iceberg', 2439), ('glee', 2440), ('satisfaction', 2441), ('weeping', 2442), ('reacted', 2443), ('value', 2444), ('limitations', 2445), ('calcium', 2446), ('scan', 2447), ('roommate', 2448), ('ground', 2449), ('serve', 2450), ('deranged', 2451), ('tyrant', 2452), ('stoically', 2453), ('cracking', 2454), ('aspiring', 2455), ('developer', 2456), ('chooses', 2457), ('construction', 2458), ('checkpoints', 2459), ('armed', 2460), ('crossroads', 2461), ('tvs', 2462), ('hopeless', 2463), ('romantic', 2464), ('charities', 2465), ('showdown', 2466), ('borrowers', 2467), ('fighting', 2468), ('chores', 2469), ('spend', 2470), ('telling', 2471), ('defectors', 2472), ('puff', 2473), ('vaping', 2474), ('floods', 2475), ('stomach', 2476), ('duties', 2477), ('128', 2478), ('products', 2479), ('resurrection', 2480), ('eager', 2481), ('refugees', 2482), ('courted', 2483), ('rhythms', 2484), ('melting', 2485), ('dismantling', 2486), ('lastsecond', 2487), ('subject', 2488), ('refuses', 2489), ('poisoned', 2490), ('knob', 2491), ('hints', 2492), ('highlevel', 2493), ('farm', 2494), ('techs', 2495), ('blockchain', 2496), ('intertwined', 2497), ('services', 2498), ('boycotts', 2499), ('wallace', 2500), ('tapped', 2501), ('racial', 2502), ('potent', 2503), ('capital', 2504), ('hollywoods', 2505), ('envoy', 2506), ('schooled', 2507), ('diplomacy', 2508), ('muppets', 2509), ('turk', 2510), ('caught', 2511), ('moment', 2512), ('backfired', 2513), ('kushners', 2514), ('spiro', 2515), ('agnew', 2516), ('father', 2517), ('disdain', 2518), ('javanka', 2519), ('klossy', 2520), ('posse', 2521), ('jordan', 2522), ('peterson', 2523), ('gods', 2524), ('spokeswomen', 2525), ('harassment', 2526), ('fussy', 2527), ('eater', 2528), ('50000', 2529), ('rabbits', 2530), ('bellow', 2531), ('extortion', 2532), ('freedom', 2533), ('propelled', 2534), ('theyre', 2535), ('rekindle', 2536), ('activist', 2537), ('spirit', 2538), ('kevin', 2539), ('williamson', 2540), ('pale', 2541), ('smoke', 2542), ('trumpers', 2543), ('smarter', 2544), ('bologna', 2545), ('blamed', 2546), ('vast', 2547), ('listeria', 2548), ('bullets', 2549), ('sacramento', 2550), ('faced', 2551), ('cake', 2552), ('helped', 2553), ('create', 2554), ('legend', 2555), ('22', 2556), ('female', 2557), ('senators', 2558), ('enough', 2559), ('hallowed', 2560), ('thy', 2561), ('government', 2562), ('lambs', 2563), ('shanks', 2564), ('sweetly', 2565), ('spiced', 2566), ('orlando', 2567), ('gunmans', 2568), ('wife', 2569), ('acquitted', 2570), ('shootings', 2571), ('conflama', 2572), ('while', 2573), ('guitars', 2574), ('gently', 2575), ('weep', 2576), ('selfdriving', 2577), ('industrys', 2578), ('biggest', 2579), ('confrontations', 2580), ('megamansions', 2581), ('megaproblems', 2582), ('story', 2583), ('hour', 2584), ('base', 2585), ('reflections', 2586), ('stupid', 2587), ('memphis', 2588), ('affirmative', 2589), ('reactionaries', 2590), ('detects', 2591), ('whiff', 2592), ('cronyism', 2593), ('appointment', 2594), ('hurricanes', 2595), ('ruin', 2596), ('return', 2597), ('contractor', 2598), ('retirement', 2599), ('broad', 2600), ('bills', 2601), ('stay', 2602), ('congressional', 2603), ('dysfunction', 2604), ('reigns', 2605), ('pitting', 2606), ('anatomy', 2607), ('angeles', 2608), ('teenager', 2609), ('grief', 2610), ('warms', 2611), ('sleep', 2612), ('innocents', 2613), ('prodigy', 2614), ('redeemed', 2615), ('complex', 2616), ('relationship', 2617), ('loves', 2618), ('moviethemed', 2619), ('vacation', 2620), ('greeces', 2621), ('despair', 2622), ('till', 2623), ('lear', 2624), ('visited', 2625), ('woo', 2626), ('saudis', 2627), ('longtime', 2628), ('whisperer', 2629), ('packs', 2630), ('leaving', 2631), ('void', 2632), ('integration', 2633), ('forever', 2634), ('network', 2635), ('rediscovers', 2636), ('reboot', 2637), ('shakeup', 2638), ('privatized', 2639), ('tesla', 2640), ('recharge', 2641), ('series', 2642), ('setbacks', 2643), ('scary', 2644), ('jacksons', 2645), ('disturbing', 2646), ('independence', 2647), ('praise', 2648), ('suggests', 2649), ('might', 2650), ('delay', 2651), ('coup', 2652), ('veterans', 2653), ('affairs', 2654), ('martha', 2655), ('automakers', 2656), ('x', 2657), ('activism', 2658), ('oral', 2659), ('streaming', 2660), ('frog', 2661), ('rebound', 2662), ('southern', 2663), ('exposure', 2664), ('quick', 2665), ('divorce', 2666), ('60', 2667), ('denmark', 2668), ('deepens', 2669), ('caribbean', 2670), ('savor', 2671), ('australian', 2672), ('bounty', 2673), ('ideal', 2674), ('opinion', 2675), ('68', 2676), ('bereaved', 2677), ('topics', 2678), ('using', 2679), ('column', 2680), ('tackle', 2681), ('toward', 2682), ('dirty', 2683), ('grandfathers', 2684), ('passes', 2685), ('freerange', 2686), ('luster', 2687), ('await', 2688), ('labour', 2689), ('wrestles', 2690), ('antisemitism', 2691), ('prevent', 2692), ('hoodie', 2693), ('stage', 2694), ('sweating', 2695), ('birth', 2696), ('honey', 2697), ('pot', 2698), ('satan', 2699), ('type', 2700), ('disappeared', 2701), ('statues', 2702), ('banished', 2703), ('attitudes', 2704), ('fury', 2705), ('germany', 2706), ('rap', 2707), ('antijewish', 2708), ('lyrics', 2709), ('award', 2710), ('farmers', 2711), ('anger', 2712), ('goldleaf', 2713), ('full', 2714), ('metal', 2715), ('seduced', 2716), ('coat', 2717), ('sudden', 2718), ('plunge', 2719), ('playboy', 2720), ('model', 2721), ('discuss', 2722), ('alleged', 2723), ('bowie', 2724), ('scam', 2725), ('amnt', 2726), ('injury', 2727), ('parkinsons', 2728), ('parkland', 2729), ('broadways', 2730), ('regards', 2731), ('married', 2732), ('beating', 2733), ('cuba', 2734), ('prepares', 2735), ('castro', 2736), ('messes', 2737), ('entire', 2738), ('paroled', 2739), ('felons', 2740), ('regain', 2741), ('vote', 2742), ('reader', 2743), ('idea', 2744), ('fon', 2745), ('faiin', 2746), ('fiim', 2747), ('classroom', 2748), ('literary', 2749), ('fixing', 2750), ('involuntary', 2751), ('housewife', 2752), ('visa', 2753), ('depart', 2754), ('pyongyang', 2755), ('seoul', 2756), ('confirms', 2757), ('treaty', 2758), ('fishing', 2759), ('via', 2760), ('27', 2761), ('massachusetts', 2762), ('idaho', 2763), ('breeds', 2764), ('doggie', 2765), ('japan', 2766), ('sidelined', 2767), ('sam', 2768), ('trabucco', 2769), ('modernism', 2770), ('came', 2771), ('slash', 2772), ('forrest', 2773), ('mrs', 2774), ('nononsense', 2775), ('suburban', 2776), ('urban', 2777), ('touches', 2778), ('disrupter', 2779), ('lump', 2780), ('patients', 2781), ('jaw', 2782), ('inhaled', 2783), ('mustard', 2784), ('denied', 2785), ('purple', 2786), ('reinterpreted', 2787), ('break', 2788), ('planning', 2789), ('musical', 2790), ('piece', 2791), ('nominate', 2792), ('jonathan', 2793), ('ness', 2794), ('tried', 2795), ('hide', 2796), ('learn', 2797), ('confronts', 2798), ('desk', 2799), ('covered', 2800), ('everyday', 2801), ('wheres', 2802), ('lady', 2803), ('92', 2804), ('celebration', 2805), ('complete', 2806), ('rancor', 2807), ('bickering', 2808), ('expectations', 2809), ('nuts', 2810), ('nurse', 2811), ('boston', 2812), ('fun', 2813), ('finishes', 2814), ('respond', 2815), ('diagnosis', 2816), ('airplane', 2817), ('engine', 2818), ('explodes', 2819), ('passenger', 2820), ('midair', 2821), ('ages', 2822), ('hangover', 2823), ('diamonds', 2824), ('obtaining', 2825), ('personal', 2826), ('firm', 2827), ('explores', 2828), ('8000', 2829), ('stores', 2830), ('criminals', 2831), ('confused', 2832), ('haley', 2833), ('retorts', 2834), ('dawdling', 2835), ('filers', 2836), ('disgruntled', 2837), ('irs', 2838), ('website', 2839), ('final', 2840), ('muted', 2841), ('hunt', 2842), ('calm', 2843), ('amid', 2844), ('protesting', 2845), ('amateur', 2846), ('sleuths', 2847), ('bring', 2848), ('grunt', 2849), ('holocaust', 2850), ('fading', 2851), ('vegetables', 2852), ('dessert', 2853), ('menu', 2854), ('politician', 2855), ('usually', 2856), ('introducing', 2857), ('form', 2858), ('1040el', 2859), ('emotional', 2860), ('carmakers', 2861), ('frozen', 2862), ('needed', 2863), ('chill', 2864), ('sentences', 2865), ('la', 2866), ('paz', 2867), ('empowerment', 2868), ('also', 2869), ('inspiring', 2870), ('group', 2871), ('billiondollar', 2872), ('blessings', 2873), ('relative', 2874), ('evaluating', 2875), ('cops', 2876), ('both', 2877), ('sides', 2878), ('badge', 2879), ('pashtuns', 2880), ('pakistani', 2881), ('wonder', 2882), ('beginners', 2883), ('declines', 2884), ('add', 2885), ('russians', 2886), ('carefully', 2887), ('cultivated', 2888), ('image', 2889), ('wind', 2890), ('liars', 2891), ('opening', 2892), ('lands', 2893), ('gas', 2894), ('lordy', 2895), ('sims', 2896), ('statue', 2897), ('central', 2898), ('park', 2899), ('moved', 2900), ('blindness', 2901), ('wealth', 2902), ('unspeakably', 2903), ('miserable', 2904), ('tell', 2905), ('1978', 2906), ('debasement', 2907), ('forewarn', 2908), ('cyberthreat', 2909), ('gasps', 2910), ('courtroom', 2911), ('hannity', 2912), ('named', 2913), ('cohens', 2914), ('yorker', 2915), ('coverage', 2916), ('feral', 2917), ('bully', 2918), ('unleashes', 2919), ('comic', 2920), ('operatic', 2921), ('jewel', 2922), ('polished', 2923), ('cousin', 2924), ('martini', 2925), ('gold', 2926), ('rubles', 2927), ('renminbi', 2928), ('perus', 2929), ('potato', 2930), ('babas', 2931), ('pair', 2932), ('breakthroughs', 2933), ('blocked', 2934), ('memorial', 2935), ('divide', 2936), ('babys', 2937), ('lung', 2938), ('study', 2939), ('trove', 2940), ('glimpse', 2941), ('guards', 2942), ('waited', 2943), ('deadly', 2944), ('riot', 2945), ('hunger', 2946), ('pros', 2947), ('cons', 2948), ('statin', 2949), ('aloud', 2950), ('benefits', 2951), ('attention', 2952), ('16', 2953), ('medieval', 2954), ('derby', 2955), ('idle', 2956), ('kansas', 2957), ('hinges', 2958), ('wired', 2959), ('besties', 2960), ('wartime', 2961), ('internment', 2962), ('looms', 2963), ('leaky', 2964), ('roofs', 2965), ('laptops', 2966), ('mobile', 2967), ('classrooms', 2968), ('snapshots', 2969), ('putting', 2970), ('budget', 2971), ('secretary', 2972), ('offense', 2973), ('photos', 2974), ('gynecological', 2975), ('tools', 2976), ('centuries', 2977), ('english', 2978), ('vice', 2979), ('versa', 2980), ('enriches', 2981), ('mandelas', 2982), ('heirs', 2983), ('catwalk', 2984), ('arabia', 2985), ('sealed', 2986), ('kiss', 2987), ('notable', 2988), ('abcs', 2989), ('tusks', 2990), ('ivory', 2991), ('stalking', 2992), ('apologized', 2993), ('hometown', 2994), ('arms', 2995), ('drugresistant', 2996), ('typhoid', 2997), ('monologues', 2998), ('ourselves', 2999), ('hundreds', 3000), ('taken', 3001), ('beaches', 3002), ('generosity', 3003), ('abound', 3004), ('cabos', 3005), ('colleges', 3006), ('fraying', 3007), ('seams', 3008), ('warplanes', 3009), ('tactics', 3010), ('pockets', 3011), ('eastern', 3012), ('killed', 3013), ('empathy', 3014), ('goes', 3015), ('brushing', 3016), ('scandals', 3017), ('christian', 3018), ('marshals', 3019), ('concludes', 3020), ('systemic', 3021), ('wnyc', 3022), ('hudson', 3023), ('bay', 3024), ('longing', 3025), ('trans', 3026), ('flattery', 3027), ('jackson', 3028), ('tammy', 3029), ('duckworth', 3030), ('moms', 3031), ('mine', 3032), ('sunscreens', 3033), ('thanks', 3034), ('marvels', 3035), ('bristle', 3036), ('grab', 3037), ('spaces', 3038), ('migrant', 3039), ('caravan', 3040), ('reaches', 3041), ('journey', 3042), ('isnt', 3043), ('macron', 3044), ('bromance', 3045), ('israels', 3046), ('refugee', 3047), ('breaks', 3048), ('postwar', 3049), ('recalls', 3050), ('suspect', 3051), ('doubtful', 3052), ('daca', 3053), ('applications', 3054), ('breathing', 3055), ('program', 3056), ('take', 3057), ('numerical', 3058), ('stronghold', 3059), ('buoying', 3060), ('nervous', 3061), ('ncaato', 3062), ('done', 3063), ('furniturebuilding', 3064), ('windmills', 3065), ('wide', 3066), ('jumbo', 3067), ('jets', 3068), ('clean', 3069), ('conforming', 3070), ('rebelling', 3071), ('wishes', 3072), ('tracy', 3073), ('k', 3074), ('smiths', 3075), ('wade', 3076), ('73yearold', 3077), ('survivor', 3078), ('kidney', 3079), ('exp3r13nc3', 3080), ('pr0bl3m', 3081), ('lynchings', 3082), ('shadow', 3083), ('buy', 3084), ('ticket', 3085), ('provoked', 3086), ('giving', 3087), ('liberalisms', 3088), ('strong', 3089), ('stressed', 3090), ('woman', 3091), ('mornings', 3092), ('strenuous', 3093), ('affects', 3094), ('system', 3095), ('diabetes', 3096), ('selfcare', 3097), ('courses', 3098), ('danish', 3099), ('inventor', 3100), ('gruesome', 3101), ('25', 3102), ('georgia', 3103), ('hunting', 3104), ('lucia', 3105), ('seems', 3106), ('trusting', 3107), ('jokes', 3108), ('theres', 3109), ('adults', 3110), ('souths', 3111), ('candid', 3112), ('audio', 3113), ('rapidly', 3114), ('disappearing', 3115), ('inheritance', 3116), ('hello', 3117), ('higher', 3118), ('kisses', 3119), ('french', 3120), ('critiques', 3121), ('policies', 3122), ('tracks', 3123), ('hormone', 3124), ('hurdle', 3125), ('deny', 3126), ('dignity', 3127), ('citizens', 3128), ('relievers', 3129), ('opioids', 3130), ('dental', 3131), ('relief', 3132), ('swindled', 3133), ('marks', 3134), ('sheryls', 3135), ('handmaids', 3136), ('episodes', 3137), ('motherinlaws', 3138), ('mink', 3139), ('cruelly', 3140), ('because', 3141), ('malaysia', 3142), ('israelipalestinian', 3143), ('intrigue', 3144), ('mitt', 3145), ('weenie', 3146), ('martyr', 3147), ('sane', 3148), ('sensible', 3149), ('respect', 3150), ('answers', 3151), ('location', 3152), ('maria', 3153), ('bochkareva', 3154), ('wwi', 3155), ('breakdancing', 3156), ('artist', 3157), ('intimidated', 3158), ('classical', 3159), ('low', 3160), ('inflation', 3161), ('rates', 3162), ('copenhagen', 3163), ('surges', 3164), ('fed', 3165), ('karate', 3166), ('kid', 3167), ('grudge', 3168), ('rematch', 3169), ('lifes', 3170), ('chance', 3171), ('revolution', 3172), ('uprising', 3173), ('different', 3174), ('41', 3175), ('lgbt', 3176), ('reject', 3177), ('names', 3178), ('mommy', 3179), ('daddy', 3180), ('isolated', 3181), ('hid', 3182), ('buyers', 3183), ('terraces', 3184), ('linger', 3185), ('merkel', 3186), ('visit', 3187), ('welcome', 3188), ('mat', 3189), ('distances', 3190), ('savory', 3191), ('salty', 3192), ('carricantes', 3193), ('sicily', 3194), ('lesson', 3195), ('fiano', 3196), ('dumplings', 3197), ('nod', 3198), ('signal', 3199), ('genealogy', 3200), ('front', 3201), ('pop', 3202), ('rebellion', 3203), ('siberia', 3204), ('unlikely', 3205), ('greenpeace', 3206), ('tots', 3207), ('heavy', 3208), ('weights', 3209), ('unreserved', 3210), ('hawk', 3211), ('confirmed', 3212), ('diplomat', 3213), ('spare', 3214), ('italian', 3215), ('subs', 3216), ('australia', 3217), ('games', 3218), ('squash', 3219), ('ceiling', 3220), ('spider', 3221), ('tree', 3222), ('tries', 3223), ('untangle', 3224), ('evolution', 3225), ('webs', 3226), ('codes', 3227), ('smiles', 3228), ('comments', 3229), ('rift', 3230), ('braindamaged', 3231), ('review', 3232), ('searches', 3233), ('misogynists', 3234), ('terrorists', 3235), ('abby', 3236), ('caffeine', 3237), ('overweight', 3238), ('offspring', 3239), ('modernday', 3240), ('myth', 3241), ('verge', 3242), ('shares', 3243), ('prosecutor', 3244), ('seeking', 3245), ('smarts', 3246), ('poor', 3247), ('wrongdoing', 3248), ('killers', 3249), ('barflies', 3250), ('clinging', 3251), ('ends', 3252), ('comics', 3253), ('mona', 3254), ('short', 3255), ('theater', 3256), ('square', 3257), ('unite', 3258), ('banish', 3259), ('jabs', 3260), ('melania', 3261), ('gift', 3262), ('members', 3263), ('airconditioning', 3264), ('learned', 3265), ('corporate', 3266), ('diary', 3267), ('coop', 3268), ('slowed', 3269), ('growth', 3270), ('blip', 3271), ('driving', 3272), ('cliff', 3273), ('hart', 3274), ('stepping', 3275), ('outside', 3276), ('dollhouse', 3277), ('alkaline', 3278), ('owes', 3279), ('build', 3280), ('biden', 3281), ('disease', 3282), ('lawyer', 3283), ('clinton', 3284), ('surefire', 3285), ('winner', 3286), ('certain', 3287), ('debates', 3288), ('verdict', 3289), ('financial', 3290), ('fresh', 3291), ('bright', 3292), ('stirfry', 3293), ('happening', 3294), ('bloody', 3295), ('preview', 3296), ('deluxe', 3297), ('frittata', 3298), ('topped', 3299), ('burrata', 3300), ('merger', 3301), ('tmobile', 3302), ('sprint', 3303), ('popcorn', 3304), ('bosss', 3305), ('youtoo', 3306), ('nicaraguan', 3307), ('daunting', 3308), ('task', 3309), ('tracking', 3310), ('bootlegger', 3311), ('mayor', 3312), ('sells', 3313), ('bridge', 3314), ('yipes', 3315), ('canned', 3316), ('chaplain', 3317), ('scoffs', 3318), ('clues', 3319), ('placed', 3320), ('serial', 3321), ('nike', 3322), ('forcing', 3323), ('populist', 3324), ('tide', 3325), ('remaking', 3326), ('supporters', 3327), ('cartoon', 3328), ('nobel', 3329), ('laureate', 3330), ('alfie', 3331), ('evans', 3332), ('rich', 3333), ('extinction', 3334), ('identity', 3335), ('intelligence', 3336), ('misunabbreviated', 3337), ('hed', 3338), ('pursuit', 3339), ('truce', 3340), ('dinners', 3341), ('merging', 3342), ('tappan', 3343), ('zee', 3344), ('among', 3345), ('fluke', 3346), ('porgies', 3347), ('150', 3348), ('reach', 3349), ('brace', 3350), ('deadline', 3351), ('draws', 3352), ('lessons', 3353), ('trueblue', 3354), ('liberals', 3355), ('2020', 3356), ('proxy', 3357), ('underwear', 3358), ('potatoes', 3359), ('doug', 3360), ('jones', 3361), ('tennessee', 3362), ('gazan', 3363), ('living', 3364), ('thing', 3365), ('sense', 3366), ('transgender', 3367), ('bans', 3368), ('facts', 3369), ('apu', 3370), ('disarmament', 3371), ('deterrents', 3372), ('libya', 3373), ('always', 3374), ('uphill', 3375), ('laws', 3376), ('passed', 3377), ('judgment', 3378), ('eaten', 3379), ('focuses', 3380), ('snowladen', 3381), ('flights', 3382), ('jfk', 3383), ('minutes', 3384), ('deadliest', 3385), ('afghanistan', 3386), ('since', 3387), ('2002', 3388), ('fearing', 3389), ('photographing', 3390), ('rituals', 3391), ('surround', 3392), ('emails', 3393), ('hate', 3394), ('opaque', 3395), ('ownership', 3396), ('llc', 3397), ('worried', 3398), ('risky', 3399), ('teenage', 3400), ('tougher', 3401), ('survived', 3402), ('started', 3403), ('30', 3404), ('happy', 3405), ('karl', 3406), ('marx', 3407), ('incels', 3408), ('jihadists', 3409), ('orphan', 3410), ('frequently', 3411), ('supports', 3412), ('gamify', 3413), ('prepared', 3414), ('cede', 3415), ('pledges', 3416), ('invade', 3417), ('demands', 3418), ('ditch', 3419), ('wheelchair', 3420), ('tokyo', 3421), ('distinctive', 3422), ('austin', 3423), ('crew', 3424), ('gardens', 3425), ('ending', 3426), ('infinity', 3427), ('documenter', 3428), ('fortnite', 3429), ('addict', 3430), ('philosophy', 3431), ('pays', 3432), ('disappearances', 3433), ('highlight', 3434), ('militarys', 3435), ('mexicos', 3436), ('documents', 3437), ('irans', 3438), ('atomic', 3439), ('subterfuge', 3440), ('investment', 3441), ('holds', 3442), ('steady', 3443), ('q', 3444), ('hows', 3445), ('standoff', 3446), ('eases', 3447), ('allow', 3448), ('eight', 3449), ('seek', 3450), ('asylum', 3451), ('assumes', 3452), ('beauty', 3453), ('megamerger', 3454), ('tightens', 3455), ('app', 3456), ('investigation', 3457), ('couple', 3458), ('dividing', 3459), ('delaying', 3460), ('limit', 3461), ('researchers', 3462), ('sheldon', 3463), ('silver', 3464), ('retrial', 3465), ('revisits', 3466), ('gig', 3467), ('dealt', 3468), ('blow', 3469), ('cardinal', 3470), ('faces', 3471), ('charges', 3472), ('context', 3473), ('show', 3474), ('depth', 3475), ('obstacles', 3476), ('competitive', 3477), ('sport', 3478), ('rootslush', 3479), ('historical', 3480), ('rooted', 3481), ('naturenovels', 3482), ('steeped', 3483), ('historyancient', 3484), ('reimaginedjurassic', 3485), ('classics', 3486), ('question', 3487), ('reinforces', 3488), ('anna', 3489), ('llama', 3490), ('hayden', 3491), ('regret', 3492), ('nothin', 3493)])"
      ]
     },
     "execution_count": 27,
     "metadata": {},
     "output_type": "execute_result"
    }
   ],
   "source": [
    "t.word_index.items()"
   ]
  },
  {
   "cell_type": "code",
   "execution_count": 29,
   "metadata": {},
   "outputs": [
    {
     "name": "stdout",
     "output_type": "stream",
     "text": [
      "빈도수 상위 100등 단어 : epa\n"
     ]
    }
   ],
   "source": [
    "index_to_word = {}\n",
    "for key,value in t.word_index.items():\n",
    "    index_to_word[value] = key\n",
    "\n",
    "print('빈도수 상위 100등 단어 : {}'.format(index_to_word[100]))"
   ]
  },
  {
   "cell_type": "code",
   "execution_count": 30,
   "metadata": {},
   "outputs": [
    {
     "data": {
      "text/plain": [
       "24"
      ]
     },
     "execution_count": 30,
     "metadata": {},
     "output_type": "execute_result"
    }
   ],
   "source": [
    "max_len = max(len(l) for l in sequences)\n",
    "max_len"
   ]
  },
  {
   "cell_type": "code",
   "execution_count": 31,
   "metadata": {},
   "outputs": [],
   "source": [
    "sequences = pad_sequences(sequences, maxlen=max_len, padding='pre')"
   ]
  },
  {
   "cell_type": "code",
   "execution_count": 32,
   "metadata": {},
   "outputs": [
    {
     "data": {
      "text/plain": [
       "array([[   0,    0,    0,    0,    0,    0,    0,    0,    0,    0,    0,\n",
       "           0,    0,    0,    0,    0,    0,    0,    0,    0,    0,    0,\n",
       "          99,  269],\n",
       "       [   0,    0,    0,    0,    0,    0,    0,    0,    0,    0,    0,\n",
       "           0,    0,    0,    0,    0,    0,    0,    0,    0,    0,   99,\n",
       "         269,  371],\n",
       "       [   0,    0,    0,    0,    0,    0,    0,    0,    0,    0,    0,\n",
       "           0,    0,    0,    0,    0,    0,    0,    0,    0,   99,  269,\n",
       "         371, 1115]])"
      ]
     },
     "execution_count": 32,
     "metadata": {},
     "output_type": "execute_result"
    }
   ],
   "source": [
    "sequences[:3]"
   ]
  },
  {
   "cell_type": "code",
   "execution_count": 33,
   "metadata": {},
   "outputs": [],
   "source": [
    "sequences = np.array(sequences)\n",
    "X = sequences[:,:-1]\n",
    "y = sequences[:,-1]"
   ]
  },
  {
   "cell_type": "code",
   "execution_count": 34,
   "metadata": {},
   "outputs": [
    {
     "name": "stdout",
     "output_type": "stream",
     "text": [
      "[ 269  371 1115]\n"
     ]
    }
   ],
   "source": [
    "print(y[:3])"
   ]
  },
  {
   "cell_type": "code",
   "execution_count": 36,
   "metadata": {},
   "outputs": [],
   "source": [
    "y = to_categorical(y, num_classes=vocab_size)"
   ]
  },
  {
   "cell_type": "code",
   "execution_count": 37,
   "metadata": {},
   "outputs": [
    {
     "data": {
      "text/plain": [
       "array([[0., 0., 0., ..., 0., 0., 0.],\n",
       "       [0., 0., 0., ..., 0., 0., 0.],\n",
       "       [0., 0., 0., ..., 0., 0., 0.],\n",
       "       ...,\n",
       "       [0., 0., 0., ..., 0., 0., 0.],\n",
       "       [0., 0., 1., ..., 0., 0., 0.],\n",
       "       [0., 0., 0., ..., 0., 0., 0.]], dtype=float32)"
      ]
     },
     "execution_count": 37,
     "metadata": {},
     "output_type": "execute_result"
    }
   ],
   "source": [
    "y"
   ]
  },
  {
   "cell_type": "markdown",
   "metadata": {},
   "source": [
    "### Modeling"
   ]
  },
  {
   "cell_type": "code",
   "execution_count": 38,
   "metadata": {},
   "outputs": [],
   "source": [
    "from tensorflow.keras.models import Sequential\n",
    "from tensorflow.keras.layers import Embedding,Dense,LSTM"
   ]
  },
  {
   "cell_type": "code",
   "execution_count": 40,
   "metadata": {},
   "outputs": [],
   "source": [
    "model = Sequential()\n",
    "model.add(Embedding(vocab_size,10,input_length=max_len-1))\n",
    "model.add(LSTM(128))\n",
    "model.add(Dense(vocab_size, activation='softmax'))"
   ]
  },
  {
   "cell_type": "code",
   "execution_count": 41,
   "metadata": {},
   "outputs": [
    {
     "name": "stdout",
     "output_type": "stream",
     "text": [
      "Model: \"sequential_1\"\n",
      "_________________________________________________________________\n",
      "Layer (type)                 Output Shape              Param #   \n",
      "=================================================================\n",
      "embedding_1 (Embedding)      (None, 23, 10)            34940     \n",
      "_________________________________________________________________\n",
      "lstm_1 (LSTM)                (None, 128)               71168     \n",
      "_________________________________________________________________\n",
      "dense_1 (Dense)              (None, 3494)              450726    \n",
      "=================================================================\n",
      "Total params: 556,834\n",
      "Trainable params: 556,834\n",
      "Non-trainable params: 0\n",
      "_________________________________________________________________\n"
     ]
    }
   ],
   "source": [
    "model.summary()"
   ]
  },
  {
   "cell_type": "code",
   "execution_count": 42,
   "metadata": {
    "scrolled": true
   },
   "outputs": [
    {
     "name": "stdout",
     "output_type": "stream",
     "text": [
      "Train on 7803 samples\n",
      "Epoch 1/200\n",
      "7803/7803 - 13s - loss: 7.6463 - accuracy: 0.0299\n",
      "Epoch 2/200\n",
      "7803/7803 - 10s - loss: 7.1249 - accuracy: 0.0300\n",
      "Epoch 3/200\n",
      "7803/7803 - 10s - loss: 6.9879 - accuracy: 0.0323\n",
      "Epoch 4/200\n",
      "7803/7803 - 10s - loss: 6.8682 - accuracy: 0.0396\n",
      "Epoch 5/200\n",
      "7803/7803 - 10s - loss: 6.7236 - accuracy: 0.0436\n",
      "Epoch 6/200\n",
      "7803/7803 - 9s - loss: 6.5640 - accuracy: 0.0459\n",
      "Epoch 7/200\n",
      "7803/7803 - 10s - loss: 6.3952 - accuracy: 0.0492\n",
      "Epoch 8/200\n",
      "7803/7803 - 9s - loss: 6.2135 - accuracy: 0.0550\n",
      "Epoch 9/200\n",
      "7803/7803 - 10s - loss: 6.0382 - accuracy: 0.0541\n",
      "Epoch 10/200\n",
      "7803/7803 - 10s - loss: 5.8628 - accuracy: 0.0625\n",
      "Epoch 11/200\n",
      "7803/7803 - 10s - loss: 5.6938 - accuracy: 0.0663\n",
      "Epoch 12/200\n",
      "7803/7803 - 9s - loss: 5.5328 - accuracy: 0.0693\n",
      "Epoch 13/200\n",
      "7803/7803 - 9s - loss: 5.3734 - accuracy: 0.0761\n",
      "Epoch 14/200\n",
      "7803/7803 - 10s - loss: 5.2220 - accuracy: 0.0833\n",
      "Epoch 15/200\n",
      "7803/7803 - 9s - loss: 5.0759 - accuracy: 0.0882\n",
      "Epoch 16/200\n",
      "7803/7803 - 9s - loss: 4.9370 - accuracy: 0.0947\n",
      "Epoch 17/200\n",
      "7803/7803 - 9s - loss: 4.8042 - accuracy: 0.1041\n",
      "Epoch 18/200\n",
      "7803/7803 - 10s - loss: 4.6730 - accuracy: 0.1153\n",
      "Epoch 19/200\n",
      "7803/7803 - 9s - loss: 4.5471 - accuracy: 0.1266\n",
      "Epoch 20/200\n",
      "7803/7803 - 10s - loss: 4.4265 - accuracy: 0.1419\n",
      "Epoch 21/200\n",
      "7803/7803 - 10s - loss: 4.3081 - accuracy: 0.1539\n",
      "Epoch 22/200\n",
      "7803/7803 - 10s - loss: 4.1941 - accuracy: 0.1704\n",
      "Epoch 23/200\n",
      "7803/7803 - 10s - loss: 4.0835 - accuracy: 0.1924\n",
      "Epoch 24/200\n",
      "7803/7803 - 10s - loss: 3.9782 - accuracy: 0.2112\n",
      "Epoch 25/200\n",
      "7803/7803 - 10s - loss: 3.8702 - accuracy: 0.2288\n",
      "Epoch 26/200\n",
      "7803/7803 - 12s - loss: 3.7724 - accuracy: 0.2493\n",
      "Epoch 27/200\n",
      "7803/7803 - 14s - loss: 3.6741 - accuracy: 0.2630\n",
      "Epoch 28/200\n",
      "7803/7803 - 14s - loss: 3.5790 - accuracy: 0.2812\n",
      "Epoch 29/200\n",
      "7803/7803 - 12s - loss: 3.4888 - accuracy: 0.2951\n",
      "Epoch 30/200\n",
      "7803/7803 - 10s - loss: 3.4004 - accuracy: 0.3167\n",
      "Epoch 31/200\n",
      "7803/7803 - 10s - loss: 3.3166 - accuracy: 0.3254\n",
      "Epoch 32/200\n",
      "7803/7803 - 11s - loss: 3.2346 - accuracy: 0.3377\n",
      "Epoch 33/200\n",
      "7803/7803 - 12s - loss: 3.1533 - accuracy: 0.3549\n",
      "Epoch 34/200\n",
      "7803/7803 - 12s - loss: 3.0738 - accuracy: 0.3720\n",
      "Epoch 35/200\n",
      "7803/7803 - 11s - loss: 2.9989 - accuracy: 0.3882\n",
      "Epoch 36/200\n",
      "7803/7803 - 13s - loss: 2.9289 - accuracy: 0.4023\n",
      "Epoch 37/200\n",
      "7803/7803 - 11s - loss: 2.8626 - accuracy: 0.4154\n",
      "Epoch 38/200\n",
      "7803/7803 - 11s - loss: 2.7967 - accuracy: 0.4264\n",
      "Epoch 39/200\n",
      "7803/7803 - 11s - loss: 2.7264 - accuracy: 0.4379\n",
      "Epoch 40/200\n",
      "7803/7803 - 13s - loss: 2.6642 - accuracy: 0.4524\n",
      "Epoch 41/200\n",
      "7803/7803 - 12s - loss: 2.6010 - accuracy: 0.4624\n",
      "Epoch 42/200\n",
      "7803/7803 - 11s - loss: 2.5424 - accuracy: 0.4766\n",
      "Epoch 43/200\n",
      "7803/7803 - 11s - loss: 2.4845 - accuracy: 0.4846\n",
      "Epoch 44/200\n",
      "7803/7803 - 11s - loss: 2.4291 - accuracy: 0.4955\n",
      "Epoch 45/200\n",
      "7803/7803 - 11s - loss: 2.3721 - accuracy: 0.5040\n",
      "Epoch 46/200\n",
      "7803/7803 - 10s - loss: 2.3193 - accuracy: 0.5184\n",
      "Epoch 47/200\n",
      "7803/7803 - 11s - loss: 2.2659 - accuracy: 0.5288\n",
      "Epoch 48/200\n",
      "7803/7803 - 10s - loss: 2.2163 - accuracy: 0.5434\n",
      "Epoch 49/200\n",
      "7803/7803 - 10s - loss: 2.1656 - accuracy: 0.5544\n",
      "Epoch 50/200\n",
      "7803/7803 - 11s - loss: 2.1159 - accuracy: 0.5662\n",
      "Epoch 51/200\n",
      "7803/7803 - 10s - loss: 2.0702 - accuracy: 0.5726\n",
      "Epoch 52/200\n",
      "7803/7803 - 10s - loss: 2.0241 - accuracy: 0.5857\n",
      "Epoch 53/200\n",
      "7803/7803 - 10s - loss: 1.9746 - accuracy: 0.5969\n",
      "Epoch 54/200\n",
      "7803/7803 - 11s - loss: 1.9310 - accuracy: 0.5999\n",
      "Epoch 55/200\n",
      "7803/7803 - 11s - loss: 1.8869 - accuracy: 0.6192\n",
      "Epoch 56/200\n",
      "7803/7803 - 10s - loss: 1.8414 - accuracy: 0.6251\n",
      "Epoch 57/200\n",
      "7803/7803 - 10s - loss: 1.7977 - accuracy: 0.6376\n",
      "Epoch 58/200\n",
      "7803/7803 - 11s - loss: 1.7594 - accuracy: 0.6432\n",
      "Epoch 59/200\n",
      "7803/7803 - 10s - loss: 1.7175 - accuracy: 0.6545\n",
      "Epoch 60/200\n",
      "7803/7803 - 11s - loss: 1.6766 - accuracy: 0.6617\n",
      "Epoch 61/200\n",
      "7803/7803 - 11s - loss: 1.6372 - accuracy: 0.6691\n",
      "Epoch 62/200\n",
      "7803/7803 - 10s - loss: 1.5993 - accuracy: 0.6770\n",
      "Epoch 63/200\n",
      "7803/7803 - 10s - loss: 1.5623 - accuracy: 0.6874\n",
      "Epoch 64/200\n",
      "7803/7803 - 10s - loss: 1.5244 - accuracy: 0.6960\n",
      "Epoch 65/200\n",
      "7803/7803 - 10s - loss: 1.4875 - accuracy: 0.7026\n",
      "Epoch 66/200\n",
      "7803/7803 - 10s - loss: 1.4536 - accuracy: 0.7091\n",
      "Epoch 67/200\n",
      "7803/7803 - 10s - loss: 1.4169 - accuracy: 0.7214\n",
      "Epoch 68/200\n",
      "7803/7803 - 10s - loss: 1.3824 - accuracy: 0.7281\n",
      "Epoch 69/200\n",
      "7803/7803 - 11s - loss: 1.3507 - accuracy: 0.7319\n",
      "Epoch 70/200\n",
      "7803/7803 - 10s - loss: 1.3171 - accuracy: 0.7422\n",
      "Epoch 71/200\n",
      "7803/7803 - 10s - loss: 1.2836 - accuracy: 0.7459\n",
      "Epoch 72/200\n",
      "7803/7803 - 10s - loss: 1.2551 - accuracy: 0.7534\n",
      "Epoch 73/200\n",
      "7803/7803 - 10s - loss: 1.2265 - accuracy: 0.7592\n",
      "Epoch 74/200\n",
      "7803/7803 - 10s - loss: 1.1967 - accuracy: 0.7650\n",
      "Epoch 75/200\n",
      "7803/7803 - 10s - loss: 1.1688 - accuracy: 0.7723\n",
      "Epoch 76/200\n",
      "7803/7803 - 10s - loss: 1.1406 - accuracy: 0.7805\n",
      "Epoch 77/200\n",
      "7803/7803 - 10s - loss: 1.1116 - accuracy: 0.7826\n",
      "Epoch 78/200\n",
      "7803/7803 - 10s - loss: 1.0854 - accuracy: 0.7933\n",
      "Epoch 79/200\n",
      "7803/7803 - 10s - loss: 1.0613 - accuracy: 0.7955\n",
      "Epoch 80/200\n",
      "7803/7803 - 10s - loss: 1.0353 - accuracy: 0.8001\n",
      "Epoch 81/200\n",
      "7803/7803 - 10s - loss: 1.0107 - accuracy: 0.8046\n",
      "Epoch 82/200\n",
      "7803/7803 - 12s - loss: 0.9846 - accuracy: 0.8094\n",
      "Epoch 83/200\n",
      "7803/7803 - 11s - loss: 0.9629 - accuracy: 0.8149\n",
      "Epoch 84/200\n",
      "7803/7803 - 10s - loss: 0.9399 - accuracy: 0.8176\n",
      "Epoch 85/200\n",
      "7803/7803 - 10s - loss: 0.9175 - accuracy: 0.8228\n",
      "Epoch 86/200\n",
      "7803/7803 - 10s - loss: 0.8970 - accuracy: 0.8275\n",
      "Epoch 87/200\n",
      "7803/7803 - 11s - loss: 0.8738 - accuracy: 0.8330\n",
      "Epoch 88/200\n",
      "7803/7803 - 10s - loss: 0.8519 - accuracy: 0.8365\n",
      "Epoch 89/200\n",
      "7803/7803 - 10s - loss: 0.8363 - accuracy: 0.8422\n",
      "Epoch 90/200\n",
      "7803/7803 - 10s - loss: 0.8177 - accuracy: 0.8430\n",
      "Epoch 91/200\n",
      "7803/7803 - 10s - loss: 0.7952 - accuracy: 0.8470\n",
      "Epoch 92/200\n",
      "7803/7803 - 10s - loss: 0.7786 - accuracy: 0.8511\n",
      "Epoch 93/200\n",
      "7803/7803 - 9s - loss: 0.7621 - accuracy: 0.8552\n",
      "Epoch 94/200\n",
      "7803/7803 - 9s - loss: 0.7435 - accuracy: 0.8563\n",
      "Epoch 95/200\n",
      "7803/7803 - 10s - loss: 0.7305 - accuracy: 0.8580\n",
      "Epoch 96/200\n",
      "7803/7803 - 10s - loss: 0.7102 - accuracy: 0.8607\n",
      "Epoch 97/200\n",
      "7803/7803 - 10s - loss: 0.6936 - accuracy: 0.8642\n",
      "Epoch 98/200\n",
      "7803/7803 - 11s - loss: 0.6797 - accuracy: 0.8692\n",
      "Epoch 99/200\n",
      "7803/7803 - 10s - loss: 0.6638 - accuracy: 0.8709\n",
      "Epoch 100/200\n",
      "7803/7803 - 10s - loss: 0.6476 - accuracy: 0.8734\n",
      "Epoch 101/200\n",
      "7803/7803 - 11s - loss: 0.6333 - accuracy: 0.8788\n",
      "Epoch 102/200\n",
      "7803/7803 - 10s - loss: 0.6211 - accuracy: 0.8794\n",
      "Epoch 103/200\n",
      "7803/7803 - 10s - loss: 0.6107 - accuracy: 0.8822\n",
      "Epoch 104/200\n",
      "7803/7803 - 10s - loss: 0.5965 - accuracy: 0.8850\n",
      "Epoch 105/200\n",
      "7803/7803 - 10s - loss: 0.5810 - accuracy: 0.8848\n",
      "Epoch 106/200\n",
      "7803/7803 - 10s - loss: 0.5681 - accuracy: 0.8888\n",
      "Epoch 107/200\n",
      "7803/7803 - 10s - loss: 0.5576 - accuracy: 0.8904\n",
      "Epoch 108/200\n",
      "7803/7803 - 10s - loss: 0.5446 - accuracy: 0.8918\n",
      "Epoch 109/200\n",
      "7803/7803 - 10s - loss: 0.5352 - accuracy: 0.8921\n",
      "Epoch 110/200\n",
      "7803/7803 - 11s - loss: 0.5239 - accuracy: 0.8972\n",
      "Epoch 111/200\n",
      "7803/7803 - 10s - loss: 0.5144 - accuracy: 0.8967\n",
      "Epoch 112/200\n",
      "7803/7803 - 11s - loss: 0.5074 - accuracy: 0.8968\n",
      "Epoch 113/200\n",
      "7803/7803 - 10s - loss: 0.4943 - accuracy: 0.9003\n",
      "Epoch 114/200\n",
      "7803/7803 - 11s - loss: 0.4851 - accuracy: 0.9003\n",
      "Epoch 115/200\n",
      "7803/7803 - 11s - loss: 0.4740 - accuracy: 0.9013\n",
      "Epoch 116/200\n",
      "7803/7803 - 12s - loss: 0.4659 - accuracy: 0.9044\n",
      "Epoch 117/200\n",
      "7803/7803 - 11s - loss: 0.4593 - accuracy: 0.9044\n",
      "Epoch 118/200\n",
      "7803/7803 - 11s - loss: 0.4500 - accuracy: 0.9039\n",
      "Epoch 119/200\n",
      "7803/7803 - 12s - loss: 0.4413 - accuracy: 0.9048\n",
      "Epoch 120/200\n",
      "7803/7803 - 11s - loss: 0.4345 - accuracy: 0.9067\n",
      "Epoch 121/200\n",
      "7803/7803 - 11s - loss: 0.4267 - accuracy: 0.9089\n",
      "Epoch 122/200\n",
      "7803/7803 - 11s - loss: 0.4186 - accuracy: 0.9081\n",
      "Epoch 123/200\n",
      "7803/7803 - 11s - loss: 0.4471 - accuracy: 0.9036\n",
      "Epoch 124/200\n",
      "7803/7803 - 10s - loss: 0.4366 - accuracy: 0.9041\n",
      "Epoch 125/200\n",
      "7803/7803 - 10s - loss: 0.4078 - accuracy: 0.9112\n",
      "Epoch 126/200\n",
      "7803/7803 - 11s - loss: 0.3935 - accuracy: 0.9107\n",
      "Epoch 127/200\n",
      "7803/7803 - 10s - loss: 0.3878 - accuracy: 0.9129\n",
      "Epoch 128/200\n",
      "7803/7803 - 10s - loss: 0.3807 - accuracy: 0.9109\n",
      "Epoch 129/200\n",
      "7803/7803 - 10s - loss: 0.3774 - accuracy: 0.9125\n",
      "Epoch 130/200\n",
      "7803/7803 - 10s - loss: 0.3708 - accuracy: 0.9140\n"
     ]
    },
    {
     "name": "stdout",
     "output_type": "stream",
     "text": [
      "Epoch 131/200\n",
      "7803/7803 - 10s - loss: 0.3681 - accuracy: 0.9134\n",
      "Epoch 132/200\n",
      "7803/7803 - 10s - loss: 0.3630 - accuracy: 0.9144\n",
      "Epoch 133/200\n",
      "7803/7803 - 10s - loss: 0.3615 - accuracy: 0.9144\n",
      "Epoch 134/200\n",
      "7803/7803 - 10s - loss: 0.3538 - accuracy: 0.9146\n",
      "Epoch 135/200\n",
      "7803/7803 - 10s - loss: 0.3514 - accuracy: 0.9144\n",
      "Epoch 136/200\n",
      "7803/7803 - 10s - loss: 0.3476 - accuracy: 0.9150\n",
      "Epoch 137/200\n",
      "7803/7803 - 11s - loss: 0.3434 - accuracy: 0.9173\n",
      "Epoch 138/200\n",
      "7803/7803 - 12s - loss: 0.3413 - accuracy: 0.9143\n",
      "Epoch 139/200\n",
      "7803/7803 - 10s - loss: 0.3382 - accuracy: 0.9154\n",
      "Epoch 140/200\n",
      "7803/7803 - 13s - loss: 0.3335 - accuracy: 0.9146\n",
      "Epoch 141/200\n",
      "7803/7803 - 11s - loss: 0.3297 - accuracy: 0.9150\n",
      "Epoch 142/200\n",
      "7803/7803 - 10s - loss: 0.3275 - accuracy: 0.9171\n",
      "Epoch 143/200\n",
      "7803/7803 - 11s - loss: 0.3229 - accuracy: 0.9152\n",
      "Epoch 144/200\n",
      "7803/7803 - 10s - loss: 0.3226 - accuracy: 0.9139\n",
      "Epoch 145/200\n",
      "7803/7803 - 11s - loss: 0.3179 - accuracy: 0.9157\n",
      "Epoch 146/200\n",
      "7803/7803 - 11s - loss: 0.3224 - accuracy: 0.9150\n",
      "Epoch 147/200\n",
      "7803/7803 - 10s - loss: 0.3266 - accuracy: 0.9145\n",
      "Epoch 148/200\n",
      "7803/7803 - 11s - loss: 0.3146 - accuracy: 0.9150\n",
      "Epoch 149/200\n",
      "7803/7803 - 10s - loss: 0.3073 - accuracy: 0.9157\n",
      "Epoch 150/200\n",
      "7803/7803 - 11s - loss: 0.3050 - accuracy: 0.9172\n",
      "Epoch 151/200\n",
      "7803/7803 - 11s - loss: 0.3031 - accuracy: 0.9153\n",
      "Epoch 152/200\n",
      "7803/7803 - 11s - loss: 0.3016 - accuracy: 0.9172\n",
      "Epoch 153/200\n",
      "7803/7803 - 12s - loss: 0.3007 - accuracy: 0.9150\n",
      "Epoch 154/200\n",
      "7803/7803 - 12s - loss: 0.2984 - accuracy: 0.9157\n",
      "Epoch 155/200\n",
      "7803/7803 - 10s - loss: 0.2966 - accuracy: 0.9172\n",
      "Epoch 156/200\n",
      "7803/7803 - 10s - loss: 0.2950 - accuracy: 0.9163\n",
      "Epoch 157/200\n",
      "7803/7803 - 11s - loss: 0.2949 - accuracy: 0.9159\n",
      "Epoch 158/200\n",
      "7803/7803 - 11s - loss: 0.2931 - accuracy: 0.9146\n",
      "Epoch 159/200\n",
      "7803/7803 - 11s - loss: 0.2912 - accuracy: 0.9158\n",
      "Epoch 160/200\n",
      "7803/7803 - 11s - loss: 0.2897 - accuracy: 0.9161\n",
      "Epoch 161/200\n",
      "7803/7803 - 11s - loss: 0.2893 - accuracy: 0.9167\n",
      "Epoch 162/200\n",
      "7803/7803 - 11s - loss: 0.2880 - accuracy: 0.9157\n",
      "Epoch 163/200\n",
      "7803/7803 - 10s - loss: 0.3448 - accuracy: 0.9061\n",
      "Epoch 164/200\n",
      "7803/7803 - 11s - loss: 0.3325 - accuracy: 0.9095\n",
      "Epoch 165/200\n",
      "7803/7803 - 10s - loss: 0.3001 - accuracy: 0.9143\n",
      "Epoch 166/200\n",
      "7803/7803 - 11s - loss: 0.2858 - accuracy: 0.9162\n",
      "Epoch 167/200\n",
      "7803/7803 - 10s - loss: 0.2811 - accuracy: 0.9170\n",
      "Epoch 168/200\n",
      "7803/7803 - 9s - loss: 0.2812 - accuracy: 0.9154\n",
      "Epoch 169/200\n",
      "7803/7803 - 10s - loss: 0.2793 - accuracy: 0.9168\n",
      "Epoch 170/200\n",
      "7803/7803 - 10s - loss: 0.2781 - accuracy: 0.9181\n",
      "Epoch 171/200\n",
      "7803/7803 - 9s - loss: 0.2775 - accuracy: 0.9164\n",
      "Epoch 172/200\n",
      "7803/7803 - 9s - loss: 0.2767 - accuracy: 0.9172\n",
      "Epoch 173/200\n",
      "7803/7803 - 10s - loss: 0.2772 - accuracy: 0.9155\n",
      "Epoch 174/200\n",
      "7803/7803 - 9s - loss: 0.2751 - accuracy: 0.9181\n",
      "Epoch 175/200\n",
      "7803/7803 - 9s - loss: 0.2749 - accuracy: 0.9154\n",
      "Epoch 176/200\n",
      "7803/7803 - 9s - loss: 0.2754 - accuracy: 0.9155\n",
      "Epoch 177/200\n",
      "7803/7803 - 10s - loss: 0.2765 - accuracy: 0.9170\n",
      "Epoch 178/200\n",
      "7803/7803 - 9s - loss: 0.2753 - accuracy: 0.9164\n",
      "Epoch 179/200\n",
      "7803/7803 - 10s - loss: 0.2728 - accuracy: 0.9155\n",
      "Epoch 180/200\n",
      "7803/7803 - 10s - loss: 0.2733 - accuracy: 0.9167\n",
      "Epoch 181/200\n",
      "7803/7803 - 10s - loss: 0.2718 - accuracy: 0.9159\n",
      "Epoch 182/200\n",
      "7803/7803 - 10s - loss: 0.2857 - accuracy: 0.9154\n",
      "Epoch 183/200\n",
      "7803/7803 - 9s - loss: 0.2782 - accuracy: 0.9161\n",
      "Epoch 184/200\n",
      "7803/7803 - 10s - loss: 0.2713 - accuracy: 0.9162\n",
      "Epoch 185/200\n",
      "7803/7803 - 10s - loss: 0.2702 - accuracy: 0.9170\n",
      "Epoch 186/200\n",
      "7803/7803 - 10s - loss: 0.2691 - accuracy: 0.9173\n",
      "Epoch 187/200\n",
      "7803/7803 - 10s - loss: 0.2691 - accuracy: 0.9179\n",
      "Epoch 188/200\n",
      "7803/7803 - 10s - loss: 0.2687 - accuracy: 0.9159\n",
      "Epoch 189/200\n",
      "7803/7803 - 10s - loss: 0.2681 - accuracy: 0.9157\n",
      "Epoch 190/200\n",
      "7803/7803 - 10s - loss: 0.2670 - accuracy: 0.9166\n",
      "Epoch 191/200\n",
      "7803/7803 - 10s - loss: 0.2666 - accuracy: 0.9170\n",
      "Epoch 192/200\n",
      "7803/7803 - 10s - loss: 0.2663 - accuracy: 0.9167\n",
      "Epoch 193/200\n",
      "7803/7803 - 9s - loss: 0.2695 - accuracy: 0.9164\n",
      "Epoch 194/200\n",
      "7803/7803 - 10s - loss: 0.2677 - accuracy: 0.9161\n",
      "Epoch 195/200\n",
      "7803/7803 - 10s - loss: 0.2657 - accuracy: 0.9166\n",
      "Epoch 196/200\n",
      "7803/7803 - 10s - loss: 0.2654 - accuracy: 0.9164\n",
      "Epoch 197/200\n",
      "7803/7803 - 10s - loss: 0.2651 - accuracy: 0.9166\n",
      "Epoch 198/200\n",
      "7803/7803 - 10s - loss: 0.2651 - accuracy: 0.9150\n",
      "Epoch 199/200\n",
      "7803/7803 - 10s - loss: 0.2934 - accuracy: 0.9117\n",
      "Epoch 200/200\n",
      "7803/7803 - 10s - loss: 0.2968 - accuracy: 0.9104\n"
     ]
    },
    {
     "data": {
      "text/plain": [
       "<tensorflow.python.keras.callbacks.History at 0x191b7a15208>"
      ]
     },
     "execution_count": 42,
     "metadata": {},
     "output_type": "execute_result"
    }
   ],
   "source": [
    "model.compile(loss='categorical_crossentropy', optimizer='adam',metrics=['accuracy'])\n",
    "model.fit(X,y,epochs=200,verbose=2)"
   ]
  },
  {
   "cell_type": "code",
   "execution_count": 47,
   "metadata": {},
   "outputs": [],
   "source": [
    "def sentence_generation(model, t, current_word, n):\n",
    "    init_word = current_word\n",
    "    sentence = ''\n",
    "    for _ in range(n):\n",
    "        encoded = t.texts_to_sequences([current_word])[0]\n",
    "        encoded = pad_sequences([encoded], maxlen=23, padding='pre')\n",
    "        result = model.predict_classes(encoded, verbose=0)\n",
    "        for word, index in t.word_index.items():\n",
    "            if index == result:\n",
    "                break\n",
    "        current_word = current_word + ' ' + word\n",
    "        sentence = sentence + ' ' + word\n",
    "    \n",
    "    sentence = init_word + sentence\n",
    "    return sentence"
   ]
  },
  {
   "cell_type": "code",
   "execution_count": 48,
   "metadata": {},
   "outputs": [
    {
     "data": {
      "text/plain": [
       "'i want to be rich and im not sorry attack when'"
      ]
     },
     "execution_count": 48,
     "metadata": {},
     "output_type": "execute_result"
    }
   ],
   "source": [
    "sentence_generation(model, t, 'i', 10)"
   ]
  },
  {
   "cell_type": "code",
   "execution_count": 49,
   "metadata": {},
   "outputs": [
    {
     "data": {
      "text/plain": [
       "'how to make facebook more accountable attracts talk can a pulitzer'"
      ]
     },
     "execution_count": 49,
     "metadata": {},
     "output_type": "execute_result"
    }
   ],
   "source": [
    "sentence_generation(model, t, 'how', 10)"
   ]
  },
  {
   "cell_type": "code",
   "execution_count": null,
   "metadata": {},
   "outputs": [],
   "source": []
  }
 ],
 "metadata": {
  "kernelspec": {
   "display_name": "Python 3",
   "language": "python",
   "name": "python3"
  },
  "language_info": {
   "codemirror_mode": {
    "name": "ipython",
    "version": 3
   },
   "file_extension": ".py",
   "mimetype": "text/x-python",
   "name": "python",
   "nbconvert_exporter": "python",
   "pygments_lexer": "ipython3",
   "version": "3.6.9"
  }
 },
 "nbformat": 4,
 "nbformat_minor": 2
}
