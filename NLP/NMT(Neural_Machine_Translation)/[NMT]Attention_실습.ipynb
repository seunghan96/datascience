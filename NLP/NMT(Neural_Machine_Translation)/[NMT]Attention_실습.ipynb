{
 "cells": [
  {
   "cell_type": "markdown",
   "metadata": {},
   "source": [
    "# BiLSTM with Attention Mechanism\n",
    "- IMDB 리뷰 data로 감성 분류"
   ]
  },
  {
   "cell_type": "markdown",
   "metadata": {},
   "source": [
    "## 1. Import Dataset"
   ]
  },
  {
   "cell_type": "code",
   "execution_count": 1,
   "metadata": {},
   "outputs": [],
   "source": [
    "import tensorflow as tf\n",
    "from tensorflow.keras.datasets import imdb\n",
    "from tensorflow.keras.preprocessing.sequence import pad_sequences"
   ]
  },
  {
   "cell_type": "code",
   "execution_count": 2,
   "metadata": {},
   "outputs": [],
   "source": [
    "vocab_size = 10000\n",
    "(X_train,y_train), (X_test,y_test) = imdb.load_data(num_words=vocab_size)"
   ]
  },
  {
   "cell_type": "code",
   "execution_count": 3,
   "metadata": {
    "scrolled": true
   },
   "outputs": [
    {
     "data": {
      "text/plain": [
       "[1,\n",
       " 785,\n",
       " 189,\n",
       " 438,\n",
       " 47,\n",
       " 110,\n",
       " 142,\n",
       " 7,\n",
       " 6,\n",
       " 7475,\n",
       " 120,\n",
       " 4,\n",
       " 236,\n",
       " 378,\n",
       " 7,\n",
       " 153,\n",
       " 19,\n",
       " 87,\n",
       " 108,\n",
       " 141,\n",
       " 17,\n",
       " 1004,\n",
       " 5,\n",
       " 2,\n",
       " 883,\n",
       " 2,\n",
       " 23,\n",
       " 8,\n",
       " 4,\n",
       " 136,\n",
       " 2,\n",
       " 2,\n",
       " 4,\n",
       " 7475,\n",
       " 43,\n",
       " 1076,\n",
       " 21,\n",
       " 1407,\n",
       " 419,\n",
       " 5,\n",
       " 5202,\n",
       " 120,\n",
       " 91,\n",
       " 682,\n",
       " 189,\n",
       " 2818,\n",
       " 5,\n",
       " 9,\n",
       " 1348,\n",
       " 31,\n",
       " 7,\n",
       " 4,\n",
       " 118,\n",
       " 785,\n",
       " 189,\n",
       " 108,\n",
       " 126,\n",
       " 93,\n",
       " 2,\n",
       " 16,\n",
       " 540,\n",
       " 324,\n",
       " 23,\n",
       " 6,\n",
       " 364,\n",
       " 352,\n",
       " 21,\n",
       " 14,\n",
       " 9,\n",
       " 93,\n",
       " 56,\n",
       " 18,\n",
       " 11,\n",
       " 230,\n",
       " 53,\n",
       " 771,\n",
       " 74,\n",
       " 31,\n",
       " 34,\n",
       " 4,\n",
       " 2834,\n",
       " 7,\n",
       " 4,\n",
       " 22,\n",
       " 5,\n",
       " 14,\n",
       " 11,\n",
       " 471,\n",
       " 9,\n",
       " 2,\n",
       " 34,\n",
       " 4,\n",
       " 321,\n",
       " 487,\n",
       " 5,\n",
       " 116,\n",
       " 15,\n",
       " 6584,\n",
       " 4,\n",
       " 22,\n",
       " 9,\n",
       " 6,\n",
       " 2286,\n",
       " 4,\n",
       " 114,\n",
       " 2679,\n",
       " 23,\n",
       " 107,\n",
       " 293,\n",
       " 1008,\n",
       " 1172,\n",
       " 5,\n",
       " 328,\n",
       " 1236,\n",
       " 4,\n",
       " 1375,\n",
       " 109,\n",
       " 9,\n",
       " 6,\n",
       " 132,\n",
       " 773,\n",
       " 2,\n",
       " 1412,\n",
       " 8,\n",
       " 1172,\n",
       " 18,\n",
       " 7865,\n",
       " 29,\n",
       " 9,\n",
       " 276,\n",
       " 11,\n",
       " 6,\n",
       " 2768,\n",
       " 19,\n",
       " 289,\n",
       " 409,\n",
       " 4,\n",
       " 5341,\n",
       " 2140,\n",
       " 2,\n",
       " 648,\n",
       " 1430,\n",
       " 2,\n",
       " 8914,\n",
       " 5,\n",
       " 27,\n",
       " 3000,\n",
       " 1432,\n",
       " 7130,\n",
       " 103,\n",
       " 6,\n",
       " 346,\n",
       " 137,\n",
       " 11,\n",
       " 4,\n",
       " 2768,\n",
       " 295,\n",
       " 36,\n",
       " 7740,\n",
       " 725,\n",
       " 6,\n",
       " 3208,\n",
       " 273,\n",
       " 11,\n",
       " 4,\n",
       " 1513,\n",
       " 15,\n",
       " 1367,\n",
       " 35,\n",
       " 154,\n",
       " 2,\n",
       " 103,\n",
       " 2,\n",
       " 173,\n",
       " 7,\n",
       " 12,\n",
       " 36,\n",
       " 515,\n",
       " 3547,\n",
       " 94,\n",
       " 2547,\n",
       " 1722,\n",
       " 5,\n",
       " 3547,\n",
       " 36,\n",
       " 203,\n",
       " 30,\n",
       " 502,\n",
       " 8,\n",
       " 361,\n",
       " 12,\n",
       " 8,\n",
       " 989,\n",
       " 143,\n",
       " 4,\n",
       " 1172,\n",
       " 3404,\n",
       " 10,\n",
       " 10,\n",
       " 328,\n",
       " 1236,\n",
       " 9,\n",
       " 6,\n",
       " 55,\n",
       " 221,\n",
       " 2989,\n",
       " 5,\n",
       " 146,\n",
       " 165,\n",
       " 179,\n",
       " 770,\n",
       " 15,\n",
       " 50,\n",
       " 713,\n",
       " 53,\n",
       " 108,\n",
       " 448,\n",
       " 23,\n",
       " 12,\n",
       " 17,\n",
       " 225,\n",
       " 38,\n",
       " 76,\n",
       " 4397,\n",
       " 18,\n",
       " 183,\n",
       " 8,\n",
       " 81,\n",
       " 19,\n",
       " 12,\n",
       " 45,\n",
       " 1257,\n",
       " 8,\n",
       " 135,\n",
       " 15,\n",
       " 2,\n",
       " 166,\n",
       " 4,\n",
       " 118,\n",
       " 7,\n",
       " 45,\n",
       " 2,\n",
       " 17,\n",
       " 466,\n",
       " 45,\n",
       " 2,\n",
       " 4,\n",
       " 22,\n",
       " 115,\n",
       " 165,\n",
       " 764,\n",
       " 6075,\n",
       " 5,\n",
       " 1030,\n",
       " 8,\n",
       " 2973,\n",
       " 73,\n",
       " 469,\n",
       " 167,\n",
       " 2127,\n",
       " 2,\n",
       " 1568,\n",
       " 6,\n",
       " 87,\n",
       " 841,\n",
       " 18,\n",
       " 4,\n",
       " 22,\n",
       " 4,\n",
       " 192,\n",
       " 15,\n",
       " 91,\n",
       " 7,\n",
       " 12,\n",
       " 304,\n",
       " 273,\n",
       " 1004,\n",
       " 4,\n",
       " 1375,\n",
       " 1172,\n",
       " 2768,\n",
       " 2,\n",
       " 15,\n",
       " 4,\n",
       " 22,\n",
       " 764,\n",
       " 55,\n",
       " 5773,\n",
       " 5,\n",
       " 14,\n",
       " 4233,\n",
       " 7444,\n",
       " 4,\n",
       " 1375,\n",
       " 326,\n",
       " 7,\n",
       " 4,\n",
       " 4760,\n",
       " 1786,\n",
       " 8,\n",
       " 361,\n",
       " 1236,\n",
       " 8,\n",
       " 989,\n",
       " 46,\n",
       " 7,\n",
       " 4,\n",
       " 2768,\n",
       " 45,\n",
       " 55,\n",
       " 776,\n",
       " 8,\n",
       " 79,\n",
       " 496,\n",
       " 98,\n",
       " 45,\n",
       " 400,\n",
       " 301,\n",
       " 15,\n",
       " 4,\n",
       " 1859,\n",
       " 9,\n",
       " 4,\n",
       " 155,\n",
       " 15,\n",
       " 66,\n",
       " 2,\n",
       " 84,\n",
       " 5,\n",
       " 14,\n",
       " 22,\n",
       " 1534,\n",
       " 15,\n",
       " 17,\n",
       " 4,\n",
       " 167,\n",
       " 2,\n",
       " 15,\n",
       " 75,\n",
       " 70,\n",
       " 115,\n",
       " 66,\n",
       " 30,\n",
       " 252,\n",
       " 7,\n",
       " 618,\n",
       " 51,\n",
       " 9,\n",
       " 2161,\n",
       " 4,\n",
       " 3130,\n",
       " 5,\n",
       " 14,\n",
       " 1525,\n",
       " 8,\n",
       " 6584,\n",
       " 15,\n",
       " 2,\n",
       " 165,\n",
       " 127,\n",
       " 1921,\n",
       " 8,\n",
       " 30,\n",
       " 179,\n",
       " 2532,\n",
       " 4,\n",
       " 22,\n",
       " 9,\n",
       " 906,\n",
       " 18,\n",
       " 6,\n",
       " 176,\n",
       " 7,\n",
       " 1007,\n",
       " 1005,\n",
       " 4,\n",
       " 1375,\n",
       " 114,\n",
       " 4,\n",
       " 105,\n",
       " 26,\n",
       " 32,\n",
       " 55,\n",
       " 221,\n",
       " 11,\n",
       " 68,\n",
       " 205,\n",
       " 96,\n",
       " 5,\n",
       " 4,\n",
       " 192,\n",
       " 15,\n",
       " 4,\n",
       " 274,\n",
       " 410,\n",
       " 220,\n",
       " 304,\n",
       " 23,\n",
       " 94,\n",
       " 205,\n",
       " 109,\n",
       " 9,\n",
       " 55,\n",
       " 73,\n",
       " 224,\n",
       " 259,\n",
       " 3786,\n",
       " 15,\n",
       " 4,\n",
       " 22,\n",
       " 528,\n",
       " 1645,\n",
       " 34,\n",
       " 4,\n",
       " 130,\n",
       " 528,\n",
       " 30,\n",
       " 685,\n",
       " 345,\n",
       " 17,\n",
       " 4,\n",
       " 277,\n",
       " 199,\n",
       " 166,\n",
       " 281,\n",
       " 5,\n",
       " 1030,\n",
       " 8,\n",
       " 30,\n",
       " 179,\n",
       " 4442,\n",
       " 444,\n",
       " 2,\n",
       " 9,\n",
       " 6,\n",
       " 371,\n",
       " 87,\n",
       " 189,\n",
       " 22,\n",
       " 5,\n",
       " 31,\n",
       " 7,\n",
       " 4,\n",
       " 118,\n",
       " 7,\n",
       " 4,\n",
       " 2068,\n",
       " 545,\n",
       " 1178,\n",
       " 829]"
      ]
     },
     "execution_count": 3,
     "metadata": {},
     "output_type": "execute_result"
    }
   ],
   "source": [
    "X_train[10]"
   ]
  },
  {
   "cell_type": "code",
   "execution_count": 4,
   "metadata": {},
   "outputs": [
    {
     "data": {
      "text/plain": [
       "1"
      ]
     },
     "execution_count": 4,
     "metadata": {},
     "output_type": "execute_result"
    }
   ],
   "source": [
    "y_train[10]"
   ]
  },
  {
   "cell_type": "code",
   "execution_count": 5,
   "metadata": {},
   "outputs": [
    {
     "name": "stdout",
     "output_type": "stream",
     "text": [
      "MAX length : 2494\n",
      "AVG length : 238.71364\n"
     ]
    }
   ],
   "source": [
    "print('MAX length :',  max(len(l) for l in X_train))\n",
    "print('AVG length :', sum(map(len,X_train)) / len(X_train))"
   ]
  },
  {
   "cell_type": "code",
   "execution_count": 6,
   "metadata": {},
   "outputs": [],
   "source": [
    "max_len = 500\n",
    "X_train = pad_sequences(X_train, maxlen=max_len)\n",
    "X_test = pad_sequences(X_test, maxlen=max_len)"
   ]
  },
  {
   "cell_type": "markdown",
   "metadata": {},
   "source": [
    "## 2. Bahdanau Attention "
   ]
  },
  {
   "cell_type": "markdown",
   "metadata": {},
   "source": [
    "attention score를 구하는 방법!"
   ]
  },
  {
   "attachments": {
    "image.png": {
     "image/png": "[encoded data removed]"
    }
   },
   "cell_type": "markdown",
   "metadata": {},
   "source": [
    "![image.png](attachment:image.png)"
   ]
  },
  {
   "cell_type": "code",
   "execution_count": 7,
   "metadata": {},
   "outputs": [],
   "source": [
    "class BA(tf.keras.Model):\n",
    "    def __init__(self,units):\n",
    "        super(BA,self).__init__()\n",
    "        self.W1 = Dense(units)\n",
    "        self.W2 = Dense(units)\n",
    "        self.V = Dense(1)\n",
    "    \n",
    "    def call(self,V,Q):\n",
    "        hidden_with_time_axis = tf.expand_dims(Q,1)\n",
    "        \n",
    "        a_s = self.V(tf.nn.tanh(self.W1(V)+self.W2(hidden_with_time_axis)))\n",
    "        a_w = tf.nn.softmax(a_s,axis=1)\n",
    "        \n",
    "        context_v = a_w * V\n",
    "        context_v = tf.reduce_sum(context_v, axis=1)\n",
    "        \n",
    "        return context_v, a_w        "
   ]
  },
  {
   "cell_type": "markdown",
   "metadata": {},
   "source": [
    "## 3. Bi LSTM + Attention "
   ]
  },
  {
   "cell_type": "code",
   "execution_count": 8,
   "metadata": {},
   "outputs": [],
   "source": [
    "from tensorflow.keras.layers import Dense, Embedding, Bidirectional, LSTM, Concatenate, BatchNormalization\n",
    "from tensorflow.keras import Input, Model\n",
    "from tensorflow.keras import optimizers\n",
    "import os"
   ]
  },
  {
   "cell_type": "markdown",
   "metadata": {},
   "source": [
    "### Input Layer & Embedding Layer"
   ]
  },
  {
   "cell_type": "code",
   "execution_count": 9,
   "metadata": {},
   "outputs": [],
   "source": [
    "sequence_input = Input(shape=(max_len,), dtype='int32')\n",
    "embedded_sequences = Embedding(vocab_size, 128, input_length=max_len)(sequence_input)"
   ]
  },
  {
   "cell_type": "code",
   "execution_count": 10,
   "metadata": {},
   "outputs": [],
   "source": [
    "lstm, forward_h, forward_c, backward_h, backward_c = Bidirectional \\\n",
    "    (LSTM\n",
    "     (128,\n",
    "      dropout=0.3,\n",
    "      return_sequences=True,\n",
    "      return_state=True,\n",
    "      recurrent_activation='relu',\n",
    "      recurrent_initializer='glorot_uniform'))(embedded_sequences)"
   ]
  },
  {
   "cell_type": "markdown",
   "metadata": {},
   "source": [
    "Bidirectional LSTM을 사용할 경우에는 순방향 LSTM과 역방향 LSTM 각각 hidden & cell state를 가지므로, 이 두 방향의 LSTM state들을 concatenate 해줘야!\n",
    "- forward_h & forward_c : 순방향 LSTM의 hidden & cell state\n",
    "- backward_h & backward_c : 역방향 LSTM의 hidden & cell state"
   ]
  },
  {
   "cell_type": "code",
   "execution_count": 11,
   "metadata": {},
   "outputs": [],
   "source": [
    "state_h = Concatenate()([forward_h, backward_h]) \n",
    "state_c = Concatenate()([forward_c, backward_c]) "
   ]
  },
  {
   "cell_type": "code",
   "execution_count": 12,
   "metadata": {},
   "outputs": [],
   "source": [
    "attention = BA(128) # weight"
   ]
  },
  {
   "cell_type": "markdown",
   "metadata": {},
   "source": [
    "Encoder의 hidden state을 input으로 사용하여 context vector & attention weight 얻어냄"
   ]
  },
  {
   "cell_type": "code",
   "execution_count": 13,
   "metadata": {},
   "outputs": [],
   "source": [
    "context_vector, attention_weights = attention(lstm, state_h)"
   ]
  },
  {
   "cell_type": "code",
   "execution_count": 14,
   "metadata": {},
   "outputs": [],
   "source": [
    "hidden = BatchNormalization()(context_vector)"
   ]
  },
  {
   "cell_type": "code",
   "execution_count": 15,
   "metadata": {},
   "outputs": [],
   "source": [
    "output = Dense(1, activation='sigmoid')(hidden)"
   ]
  },
  {
   "cell_type": "code",
   "execution_count": 16,
   "metadata": {},
   "outputs": [],
   "source": [
    "model = Model(inputs=sequence_input, outputs=output)"
   ]
  },
  {
   "cell_type": "markdown",
   "metadata": {},
   "source": [
    "clip norm : gradient의 L2 Norm이 clip norm보다 클 경우, 다음과 같이 clipping된 gradient를 이용\n",
    "\n",
    "- clipping된 gradient = gradient * ( clipnorm / gradient L2 Norm )"
   ]
  },
  {
   "cell_type": "code",
   "execution_count": 17,
   "metadata": {},
   "outputs": [],
   "source": [
    "Adam = optimizers.Adam(lr=0.0001, clipnorm=1.)"
   ]
  },
  {
   "cell_type": "code",
   "execution_count": 18,
   "metadata": {},
   "outputs": [],
   "source": [
    "# 이진분류 문제이므로  binary_cross entropy(감성 분류)\n",
    "model.compile(optimizer=Adam, loss='binary_crossentropy', metrics=['accuracy'])"
   ]
  },
  {
   "cell_type": "code",
   "execution_count": 20,
   "metadata": {},
   "outputs": [
    {
     "name": "stdout",
     "output_type": "stream",
     "text": [
      "Train on 25000 samples, validate on 25000 samples\n",
      "Epoch 1/2\n",
      " 5376/25000 [=====>........................] - ETA: 2:02:22 - loss: 0.6926 - accuracy: 0.5137"
     ]
    },
    {
     "ename": "KeyboardInterrupt",
     "evalue": "",
     "output_type": "error",
     "traceback": [
      "\u001b[1;31m---------------------------------------------------------------------------\u001b[0m",
      "\u001b[1;31mKeyboardInterrupt\u001b[0m                         Traceback (most recent call last)",
      "\u001b[1;32m<ipython-input-20-28d81eaa97c0>\u001b[0m in \u001b[0;36m<module>\u001b[1;34m\u001b[0m\n\u001b[0;32m      1\u001b[0m history = model.fit(X_train, y_train, \n\u001b[0;32m      2\u001b[0m                     \u001b[0mepochs\u001b[0m\u001b[1;33m=\u001b[0m\u001b[1;36m2\u001b[0m\u001b[1;33m,\u001b[0m \u001b[0mbatch_size\u001b[0m\u001b[1;33m=\u001b[0m\u001b[1;36m128\u001b[0m\u001b[1;33m,\u001b[0m\u001b[1;33m\u001b[0m\u001b[1;33m\u001b[0m\u001b[0m\n\u001b[1;32m----> 3\u001b[1;33m                     validation_data=(X_test, y_test), verbose=1)\n\u001b[0m",
      "\u001b[1;32m~\\AppData\\Roaming\\Python\\Python36\\site-packages\\tensorflow_core\\python\\keras\\engine\\training.py\u001b[0m in \u001b[0;36mfit\u001b[1;34m(self, x, y, batch_size, epochs, verbose, callbacks, validation_split, validation_data, shuffle, class_weight, sample_weight, initial_epoch, steps_per_epoch, validation_steps, validation_freq, max_queue_size, workers, use_multiprocessing, **kwargs)\u001b[0m\n\u001b[0;32m    726\u001b[0m         \u001b[0mmax_queue_size\u001b[0m\u001b[1;33m=\u001b[0m\u001b[0mmax_queue_size\u001b[0m\u001b[1;33m,\u001b[0m\u001b[1;33m\u001b[0m\u001b[1;33m\u001b[0m\u001b[0m\n\u001b[0;32m    727\u001b[0m         \u001b[0mworkers\u001b[0m\u001b[1;33m=\u001b[0m\u001b[0mworkers\u001b[0m\u001b[1;33m,\u001b[0m\u001b[1;33m\u001b[0m\u001b[1;33m\u001b[0m\u001b[0m\n\u001b[1;32m--> 728\u001b[1;33m         use_multiprocessing=use_multiprocessing)\n\u001b[0m\u001b[0;32m    729\u001b[0m \u001b[1;33m\u001b[0m\u001b[0m\n\u001b[0;32m    730\u001b[0m   def evaluate(self,\n",
      "\u001b[1;32m~\\AppData\\Roaming\\Python\\Python36\\site-packages\\tensorflow_core\\python\\keras\\engine\\training_v2.py\u001b[0m in \u001b[0;36mfit\u001b[1;34m(self, model, x, y, batch_size, epochs, verbose, callbacks, validation_split, validation_data, shuffle, class_weight, sample_weight, initial_epoch, steps_per_epoch, validation_steps, validation_freq, **kwargs)\u001b[0m\n\u001b[0;32m    322\u001b[0m                 \u001b[0mmode\u001b[0m\u001b[1;33m=\u001b[0m\u001b[0mModeKeys\u001b[0m\u001b[1;33m.\u001b[0m\u001b[0mTRAIN\u001b[0m\u001b[1;33m,\u001b[0m\u001b[1;33m\u001b[0m\u001b[1;33m\u001b[0m\u001b[0m\n\u001b[0;32m    323\u001b[0m                 \u001b[0mtraining_context\u001b[0m\u001b[1;33m=\u001b[0m\u001b[0mtraining_context\u001b[0m\u001b[1;33m,\u001b[0m\u001b[1;33m\u001b[0m\u001b[1;33m\u001b[0m\u001b[0m\n\u001b[1;32m--> 324\u001b[1;33m                 total_epochs=epochs)\n\u001b[0m\u001b[0;32m    325\u001b[0m             \u001b[0mcbks\u001b[0m\u001b[1;33m.\u001b[0m\u001b[0mmake_logs\u001b[0m\u001b[1;33m(\u001b[0m\u001b[0mmodel\u001b[0m\u001b[1;33m,\u001b[0m \u001b[0mepoch_logs\u001b[0m\u001b[1;33m,\u001b[0m \u001b[0mtraining_result\u001b[0m\u001b[1;33m,\u001b[0m \u001b[0mModeKeys\u001b[0m\u001b[1;33m.\u001b[0m\u001b[0mTRAIN\u001b[0m\u001b[1;33m)\u001b[0m\u001b[1;33m\u001b[0m\u001b[1;33m\u001b[0m\u001b[0m\n\u001b[0;32m    326\u001b[0m \u001b[1;33m\u001b[0m\u001b[0m\n",
      "\u001b[1;32m~\\AppData\\Roaming\\Python\\Python36\\site-packages\\tensorflow_core\\python\\keras\\engine\\training_v2.py\u001b[0m in \u001b[0;36mrun_one_epoch\u001b[1;34m(model, iterator, execution_function, dataset_size, batch_size, strategy, steps_per_epoch, num_samples, mode, training_context, total_epochs)\u001b[0m\n\u001b[0;32m    121\u001b[0m         step=step, mode=mode, size=current_batch_size) as batch_logs:\n\u001b[0;32m    122\u001b[0m       \u001b[1;32mtry\u001b[0m\u001b[1;33m:\u001b[0m\u001b[1;33m\u001b[0m\u001b[1;33m\u001b[0m\u001b[0m\n\u001b[1;32m--> 123\u001b[1;33m         \u001b[0mbatch_outs\u001b[0m \u001b[1;33m=\u001b[0m \u001b[0mexecution_function\u001b[0m\u001b[1;33m(\u001b[0m\u001b[0miterator\u001b[0m\u001b[1;33m)\u001b[0m\u001b[1;33m\u001b[0m\u001b[1;33m\u001b[0m\u001b[0m\n\u001b[0m\u001b[0;32m    124\u001b[0m       \u001b[1;32mexcept\u001b[0m \u001b[1;33m(\u001b[0m\u001b[0mStopIteration\u001b[0m\u001b[1;33m,\u001b[0m \u001b[0merrors\u001b[0m\u001b[1;33m.\u001b[0m\u001b[0mOutOfRangeError\u001b[0m\u001b[1;33m)\u001b[0m\u001b[1;33m:\u001b[0m\u001b[1;33m\u001b[0m\u001b[1;33m\u001b[0m\u001b[0m\n\u001b[0;32m    125\u001b[0m         \u001b[1;31m# TODO(kaftan): File bug about tf function and errors.OutOfRangeError?\u001b[0m\u001b[1;33m\u001b[0m\u001b[1;33m\u001b[0m\u001b[1;33m\u001b[0m\u001b[0m\n",
      "\u001b[1;32m~\\AppData\\Roaming\\Python\\Python36\\site-packages\\tensorflow_core\\python\\keras\\engine\\training_v2_utils.py\u001b[0m in \u001b[0;36mexecution_function\u001b[1;34m(input_fn)\u001b[0m\n\u001b[0;32m     84\u001b[0m     \u001b[1;31m# `numpy` translates Tensors to values in Eager mode.\u001b[0m\u001b[1;33m\u001b[0m\u001b[1;33m\u001b[0m\u001b[1;33m\u001b[0m\u001b[0m\n\u001b[0;32m     85\u001b[0m     return nest.map_structure(_non_none_constant_value,\n\u001b[1;32m---> 86\u001b[1;33m                               distributed_function(input_fn))\n\u001b[0m\u001b[0;32m     87\u001b[0m \u001b[1;33m\u001b[0m\u001b[0m\n\u001b[0;32m     88\u001b[0m   \u001b[1;32mreturn\u001b[0m \u001b[0mexecution_function\u001b[0m\u001b[1;33m\u001b[0m\u001b[1;33m\u001b[0m\u001b[0m\n",
      "\u001b[1;32m~\\AppData\\Roaming\\Python\\Python36\\site-packages\\tensorflow_core\\python\\eager\\def_function.py\u001b[0m in \u001b[0;36m__call__\u001b[1;34m(self, *args, **kwds)\u001b[0m\n\u001b[0;32m    455\u001b[0m \u001b[1;33m\u001b[0m\u001b[0m\n\u001b[0;32m    456\u001b[0m     \u001b[0mtracing_count\u001b[0m \u001b[1;33m=\u001b[0m \u001b[0mself\u001b[0m\u001b[1;33m.\u001b[0m\u001b[0m_get_tracing_count\u001b[0m\u001b[1;33m(\u001b[0m\u001b[1;33m)\u001b[0m\u001b[1;33m\u001b[0m\u001b[1;33m\u001b[0m\u001b[0m\n\u001b[1;32m--> 457\u001b[1;33m     \u001b[0mresult\u001b[0m \u001b[1;33m=\u001b[0m \u001b[0mself\u001b[0m\u001b[1;33m.\u001b[0m\u001b[0m_call\u001b[0m\u001b[1;33m(\u001b[0m\u001b[1;33m*\u001b[0m\u001b[0margs\u001b[0m\u001b[1;33m,\u001b[0m \u001b[1;33m**\u001b[0m\u001b[0mkwds\u001b[0m\u001b[1;33m)\u001b[0m\u001b[1;33m\u001b[0m\u001b[1;33m\u001b[0m\u001b[0m\n\u001b[0m\u001b[0;32m    458\u001b[0m     \u001b[1;32mif\u001b[0m \u001b[0mtracing_count\u001b[0m \u001b[1;33m==\u001b[0m \u001b[0mself\u001b[0m\u001b[1;33m.\u001b[0m\u001b[0m_get_tracing_count\u001b[0m\u001b[1;33m(\u001b[0m\u001b[1;33m)\u001b[0m\u001b[1;33m:\u001b[0m\u001b[1;33m\u001b[0m\u001b[1;33m\u001b[0m\u001b[0m\n\u001b[0;32m    459\u001b[0m       \u001b[0mself\u001b[0m\u001b[1;33m.\u001b[0m\u001b[0m_call_counter\u001b[0m\u001b[1;33m.\u001b[0m\u001b[0mcalled_without_tracing\u001b[0m\u001b[1;33m(\u001b[0m\u001b[1;33m)\u001b[0m\u001b[1;33m\u001b[0m\u001b[1;33m\u001b[0m\u001b[0m\n",
      "\u001b[1;32m~\\AppData\\Roaming\\Python\\Python36\\site-packages\\tensorflow_core\\python\\eager\\def_function.py\u001b[0m in \u001b[0;36m_call\u001b[1;34m(self, *args, **kwds)\u001b[0m\n\u001b[0;32m    485\u001b[0m       \u001b[1;31m# In this case we have created variables on the first call, so we run the\u001b[0m\u001b[1;33m\u001b[0m\u001b[1;33m\u001b[0m\u001b[1;33m\u001b[0m\u001b[0m\n\u001b[0;32m    486\u001b[0m       \u001b[1;31m# defunned version which is guaranteed to never create variables.\u001b[0m\u001b[1;33m\u001b[0m\u001b[1;33m\u001b[0m\u001b[1;33m\u001b[0m\u001b[0m\n\u001b[1;32m--> 487\u001b[1;33m       \u001b[1;32mreturn\u001b[0m \u001b[0mself\u001b[0m\u001b[1;33m.\u001b[0m\u001b[0m_stateless_fn\u001b[0m\u001b[1;33m(\u001b[0m\u001b[1;33m*\u001b[0m\u001b[0margs\u001b[0m\u001b[1;33m,\u001b[0m \u001b[1;33m**\u001b[0m\u001b[0mkwds\u001b[0m\u001b[1;33m)\u001b[0m  \u001b[1;31m# pylint: disable=not-callable\u001b[0m\u001b[1;33m\u001b[0m\u001b[1;33m\u001b[0m\u001b[0m\n\u001b[0m\u001b[0;32m    488\u001b[0m     \u001b[1;32melif\u001b[0m \u001b[0mself\u001b[0m\u001b[1;33m.\u001b[0m\u001b[0m_stateful_fn\u001b[0m \u001b[1;32mis\u001b[0m \u001b[1;32mnot\u001b[0m \u001b[1;32mNone\u001b[0m\u001b[1;33m:\u001b[0m\u001b[1;33m\u001b[0m\u001b[1;33m\u001b[0m\u001b[0m\n\u001b[0;32m    489\u001b[0m       \u001b[1;31m# Release the lock early so that multiple threads can perform the call\u001b[0m\u001b[1;33m\u001b[0m\u001b[1;33m\u001b[0m\u001b[1;33m\u001b[0m\u001b[0m\n",
      "\u001b[1;32m~\\AppData\\Roaming\\Python\\Python36\\site-packages\\tensorflow_core\\python\\eager\\function.py\u001b[0m in \u001b[0;36m__call__\u001b[1;34m(self, *args, **kwargs)\u001b[0m\n\u001b[0;32m   1821\u001b[0m     \u001b[1;34m\"\"\"Calls a graph function specialized to the inputs.\"\"\"\u001b[0m\u001b[1;33m\u001b[0m\u001b[1;33m\u001b[0m\u001b[0m\n\u001b[0;32m   1822\u001b[0m     \u001b[0mgraph_function\u001b[0m\u001b[1;33m,\u001b[0m \u001b[0margs\u001b[0m\u001b[1;33m,\u001b[0m \u001b[0mkwargs\u001b[0m \u001b[1;33m=\u001b[0m \u001b[0mself\u001b[0m\u001b[1;33m.\u001b[0m\u001b[0m_maybe_define_function\u001b[0m\u001b[1;33m(\u001b[0m\u001b[0margs\u001b[0m\u001b[1;33m,\u001b[0m \u001b[0mkwargs\u001b[0m\u001b[1;33m)\u001b[0m\u001b[1;33m\u001b[0m\u001b[1;33m\u001b[0m\u001b[0m\n\u001b[1;32m-> 1823\u001b[1;33m     \u001b[1;32mreturn\u001b[0m \u001b[0mgraph_function\u001b[0m\u001b[1;33m.\u001b[0m\u001b[0m_filtered_call\u001b[0m\u001b[1;33m(\u001b[0m\u001b[0margs\u001b[0m\u001b[1;33m,\u001b[0m \u001b[0mkwargs\u001b[0m\u001b[1;33m)\u001b[0m  \u001b[1;31m# pylint: disable=protected-access\u001b[0m\u001b[1;33m\u001b[0m\u001b[1;33m\u001b[0m\u001b[0m\n\u001b[0m\u001b[0;32m   1824\u001b[0m \u001b[1;33m\u001b[0m\u001b[0m\n\u001b[0;32m   1825\u001b[0m   \u001b[1;33m@\u001b[0m\u001b[0mproperty\u001b[0m\u001b[1;33m\u001b[0m\u001b[1;33m\u001b[0m\u001b[0m\n",
      "\u001b[1;32m~\\AppData\\Roaming\\Python\\Python36\\site-packages\\tensorflow_core\\python\\eager\\function.py\u001b[0m in \u001b[0;36m_filtered_call\u001b[1;34m(self, args, kwargs)\u001b[0m\n\u001b[0;32m   1139\u001b[0m          if isinstance(t, (ops.Tensor,\n\u001b[0;32m   1140\u001b[0m                            resource_variable_ops.BaseResourceVariable))),\n\u001b[1;32m-> 1141\u001b[1;33m         self.captured_inputs)\n\u001b[0m\u001b[0;32m   1142\u001b[0m \u001b[1;33m\u001b[0m\u001b[0m\n\u001b[0;32m   1143\u001b[0m   \u001b[1;32mdef\u001b[0m \u001b[0m_call_flat\u001b[0m\u001b[1;33m(\u001b[0m\u001b[0mself\u001b[0m\u001b[1;33m,\u001b[0m \u001b[0margs\u001b[0m\u001b[1;33m,\u001b[0m \u001b[0mcaptured_inputs\u001b[0m\u001b[1;33m,\u001b[0m \u001b[0mcancellation_manager\u001b[0m\u001b[1;33m=\u001b[0m\u001b[1;32mNone\u001b[0m\u001b[1;33m)\u001b[0m\u001b[1;33m:\u001b[0m\u001b[1;33m\u001b[0m\u001b[1;33m\u001b[0m\u001b[0m\n",
      "\u001b[1;32m~\\AppData\\Roaming\\Python\\Python36\\site-packages\\tensorflow_core\\python\\eager\\function.py\u001b[0m in \u001b[0;36m_call_flat\u001b[1;34m(self, args, captured_inputs, cancellation_manager)\u001b[0m\n\u001b[0;32m   1222\u001b[0m     \u001b[1;32mif\u001b[0m \u001b[0mexecuting_eagerly\u001b[0m\u001b[1;33m:\u001b[0m\u001b[1;33m\u001b[0m\u001b[1;33m\u001b[0m\u001b[0m\n\u001b[0;32m   1223\u001b[0m       flat_outputs = forward_function.call(\n\u001b[1;32m-> 1224\u001b[1;33m           ctx, args, cancellation_manager=cancellation_manager)\n\u001b[0m\u001b[0;32m   1225\u001b[0m     \u001b[1;32melse\u001b[0m\u001b[1;33m:\u001b[0m\u001b[1;33m\u001b[0m\u001b[1;33m\u001b[0m\u001b[0m\n\u001b[0;32m   1226\u001b[0m       \u001b[0mgradient_name\u001b[0m \u001b[1;33m=\u001b[0m \u001b[0mself\u001b[0m\u001b[1;33m.\u001b[0m\u001b[0m_delayed_rewrite_functions\u001b[0m\u001b[1;33m.\u001b[0m\u001b[0mregister\u001b[0m\u001b[1;33m(\u001b[0m\u001b[1;33m)\u001b[0m\u001b[1;33m\u001b[0m\u001b[1;33m\u001b[0m\u001b[0m\n",
      "\u001b[1;32m~\\AppData\\Roaming\\Python\\Python36\\site-packages\\tensorflow_core\\python\\eager\\function.py\u001b[0m in \u001b[0;36mcall\u001b[1;34m(self, ctx, args, cancellation_manager)\u001b[0m\n\u001b[0;32m    509\u001b[0m               \u001b[0minputs\u001b[0m\u001b[1;33m=\u001b[0m\u001b[0margs\u001b[0m\u001b[1;33m,\u001b[0m\u001b[1;33m\u001b[0m\u001b[1;33m\u001b[0m\u001b[0m\n\u001b[0;32m    510\u001b[0m               \u001b[0mattrs\u001b[0m\u001b[1;33m=\u001b[0m\u001b[1;33m(\u001b[0m\u001b[1;34m\"executor_type\"\u001b[0m\u001b[1;33m,\u001b[0m \u001b[0mexecutor_type\u001b[0m\u001b[1;33m,\u001b[0m \u001b[1;34m\"config_proto\"\u001b[0m\u001b[1;33m,\u001b[0m \u001b[0mconfig\u001b[0m\u001b[1;33m)\u001b[0m\u001b[1;33m,\u001b[0m\u001b[1;33m\u001b[0m\u001b[1;33m\u001b[0m\u001b[0m\n\u001b[1;32m--> 511\u001b[1;33m               ctx=ctx)\n\u001b[0m\u001b[0;32m    512\u001b[0m         \u001b[1;32melse\u001b[0m\u001b[1;33m:\u001b[0m\u001b[1;33m\u001b[0m\u001b[1;33m\u001b[0m\u001b[0m\n\u001b[0;32m    513\u001b[0m           outputs = execute.execute_with_cancellation(\n",
      "\u001b[1;32m~\\AppData\\Roaming\\Python\\Python36\\site-packages\\tensorflow_core\\python\\eager\\execute.py\u001b[0m in \u001b[0;36mquick_execute\u001b[1;34m(op_name, num_outputs, inputs, attrs, ctx, name)\u001b[0m\n\u001b[0;32m     59\u001b[0m     tensors = pywrap_tensorflow.TFE_Py_Execute(ctx._handle, device_name,\n\u001b[0;32m     60\u001b[0m                                                \u001b[0mop_name\u001b[0m\u001b[1;33m,\u001b[0m \u001b[0minputs\u001b[0m\u001b[1;33m,\u001b[0m \u001b[0mattrs\u001b[0m\u001b[1;33m,\u001b[0m\u001b[1;33m\u001b[0m\u001b[1;33m\u001b[0m\u001b[0m\n\u001b[1;32m---> 61\u001b[1;33m                                                num_outputs)\n\u001b[0m\u001b[0;32m     62\u001b[0m   \u001b[1;32mexcept\u001b[0m \u001b[0mcore\u001b[0m\u001b[1;33m.\u001b[0m\u001b[0m_NotOkStatusException\u001b[0m \u001b[1;32mas\u001b[0m \u001b[0me\u001b[0m\u001b[1;33m:\u001b[0m\u001b[1;33m\u001b[0m\u001b[1;33m\u001b[0m\u001b[0m\n\u001b[0;32m     63\u001b[0m     \u001b[1;32mif\u001b[0m \u001b[0mname\u001b[0m \u001b[1;32mis\u001b[0m \u001b[1;32mnot\u001b[0m \u001b[1;32mNone\u001b[0m\u001b[1;33m:\u001b[0m\u001b[1;33m\u001b[0m\u001b[1;33m\u001b[0m\u001b[0m\n",
      "\u001b[1;31mKeyboardInterrupt\u001b[0m: "
     ]
    }
   ],
   "source": [
    "history = model.fit(X_train, y_train, \n",
    "                    epochs=2, batch_size=128, \n",
    "                    validation_data=(X_test, y_test), verbose=1)"
   ]
  }
 ],
 "metadata": {
  "kernelspec": {
   "display_name": "Python 3",
   "language": "python",
   "name": "python3"
  },
  "language_info": {
   "codemirror_mode": {
    "name": "ipython",
    "version": 3
   },
   "file_extension": ".py",
   "mimetype": "text/x-python",
   "name": "python",
   "nbconvert_exporter": "python",
   "pygments_lexer": "ipython3",
   "version": "3.6.9"
  }
 },
 "nbformat": 4,
 "nbformat_minor": 2
}
