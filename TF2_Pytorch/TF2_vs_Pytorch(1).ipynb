{
 "cells": [
  {
   "cell_type": "markdown",
   "metadata": {},
   "source": [
    "# < Tensorflow 2.0 >"
   ]
  },
  {
   "cell_type": "code",
   "execution_count": 1,
   "metadata": {},
   "outputs": [],
   "source": [
    "import tensorflow as tf\n",
    "from tensorflow.keras import layers\n",
    "from tensorflow.keras import datasets"
   ]
  },
  {
   "cell_type": "markdown",
   "metadata": {},
   "source": [
    "## 1. Preprocess"
   ]
  },
  {
   "cell_type": "code",
   "execution_count": 12,
   "metadata": {},
   "outputs": [],
   "source": [
    "(train_x,train_y),(test_x,test_y) = datasets.mnist.load_data()"
   ]
  },
  {
   "cell_type": "code",
   "execution_count": 13,
   "metadata": {},
   "outputs": [],
   "source": [
    "train_x  = train_x[...,tf.newaxis] # channel 만들어주기\n",
    "test_x = test_x[...,tf.newaxis]\n",
    "\n",
    "train_x = train_x/255. # scaling\n",
    "test_x = test_x/255."
   ]
  },
  {
   "cell_type": "markdown",
   "metadata": {},
   "source": [
    "## 2. Modeling"
   ]
  },
  {
   "cell_type": "code",
   "execution_count": 5,
   "metadata": {},
   "outputs": [],
   "source": [
    "input_shape = (28,28,1)\n",
    "num_classes = 10\n",
    "\n",
    "lr = 0.001"
   ]
  },
  {
   "cell_type": "code",
   "execution_count": 15,
   "metadata": {},
   "outputs": [],
   "source": [
    "inputs = layers.Input(input_shape) # input의 shape을 지정해줘야 한다\n",
    "\n",
    "# Feature Extraction\n",
    "net = layers.Conv2D(32,(3,3), padding='SAME')(inputs) # 32개의 3*3필터\n",
    "net = layers.Activation('relu')(net)\n",
    "net = layers.Conv2D(32,(3,3), padding='SAME')(net)\n",
    "net = layers.Activation('relu')(net)\n",
    "net = layers.MaxPooling2D(pool_size=(2,2))(net)\n",
    "net = layers.Dropout(0.5)(net)\n",
    "\n",
    "net = layers.Conv2D(64,(3,3), padding='SAME')(net)\n",
    "net = layers.Activation('relu')(net)\n",
    "net = layers.Conv2D(64,(3,3), padding='SAME')(net)\n",
    "net = layers.Activation('relu')(net)\n",
    "net = layers.MaxPooling2D(pool_size=(2,2))(net)\n",
    "net = layers.Dropout(0.5)(net)\n",
    "\n",
    "# FC\n",
    "net = layers.Flatten()(net)\n",
    "net = layers.Dense(512)(net)\n",
    "net = layers.Activation('relu')(net)\n",
    "net = layers.Dropout(0.5)(net)\n",
    "net = layers.Dense(num_classes)(net)\n",
    "net = layers.Activation('softmax')(net)\n",
    "\n",
    "model = tf.keras.Model(inputs=inputs, outputs=net, name='Basic_CNN')"
   ]
  },
  {
   "cell_type": "code",
   "execution_count": 16,
   "metadata": {},
   "outputs": [],
   "source": [
    "model.compile(optimizer=tf.keras.optimizers.Adam(lr),\n",
    "              loss='sparse_categorical_crossentropy',\n",
    "             metrics=[tf.keras.metrics.Accuracy()]) "
   ]
  },
  {
   "cell_type": "markdown",
   "metadata": {},
   "source": [
    "## 3. Training"
   ]
  },
  {
   "cell_type": "code",
   "execution_count": 17,
   "metadata": {},
   "outputs": [],
   "source": [
    "num_epochs = 1\n",
    "batch_size = 64"
   ]
  },
  {
   "cell_type": "raw",
   "metadata": {},
   "source": [
    "model.fit(train_x,train_y,\n",
    "         batch_size=batch_size,\n",
    "         shuffle=True)"
   ]
  },
  {
   "cell_type": "raw",
   "metadata": {},
   "source": [
    "model.evaluate(test_x,test_y,batch_size=batch_size)"
   ]
  },
  {
   "cell_type": "markdown",
   "metadata": {},
   "source": [
    "# < Pytorch >"
   ]
  },
  {
   "cell_type": "code",
   "execution_count": 19,
   "metadata": {},
   "outputs": [],
   "source": [
    "import torch\n",
    "\n",
    "import torch.nn as nn\n",
    "import torch.nn.functional as F\n",
    "import torch.optim as optim\n",
    "\n",
    "from torchvision import datasets, transforms"
   ]
  },
  {
   "cell_type": "code",
   "execution_count": 20,
   "metadata": {},
   "outputs": [],
   "source": [
    "seed = 1\n",
    "\n",
    "lr = 0.001\n",
    "momentum = 0.5\n",
    "\n",
    "batch_size=64\n",
    "test_batch_size=64\n",
    "\n",
    "epochs = 3\n",
    "\n",
    "no_cuda = False\n",
    "log_interval = 100  #pytorch에서는 progress bar가 나타나지 않으므로 직접해줘야!"
   ]
  },
  {
   "cell_type": "markdown",
   "metadata": {},
   "source": [
    "## 1. Modeling"
   ]
  },
  {
   "cell_type": "code",
   "execution_count": 21,
   "metadata": {},
   "outputs": [],
   "source": [
    "class Net(nn.Module):\n",
    "    def __init__(self):\n",
    "        super(Net, self).__init__()\n",
    "        self.conv1 = nn.Conv2d(1,20,5,1) # in : 1개 / out : 20개 / 5*5 크기의 1개 channel\n",
    "        self.conv2 = nn.Conv2d(20,50,5,1)\n",
    "        self.fc1 = nn.Linear(4*4*50,500)\n",
    "        self.fc2 = nn.Linear(500,10)\n",
    "        \n",
    "    def forward(self,x):\n",
    "        x = F.relu(self.conv1(x))\n",
    "        x = F.max_pool2d(x,2,2)\n",
    "        x = F.relu(self.conv2(x))\n",
    "        x = F.max_pool2d(x,2,2)\n",
    "        x = x.view(-1,4*4*50)\n",
    "        x = F.relu(self.fc1(x))\n",
    "        x = self.fc2(x)\n",
    "        return F.log_softmax(x,dim=1)"
   ]
  },
  {
   "cell_type": "markdown",
   "metadata": {},
   "source": [
    "## 2. Preprocess"
   ]
  },
  {
   "cell_type": "code",
   "execution_count": 31,
   "metadata": {},
   "outputs": [],
   "source": [
    "datasets.MNIST('../dataset', train=True, download=True,\n",
    "              transform=transforms.Compose([\n",
    "                  transforms.ToTensor(),\n",
    "                  transforms.Normalize((0.5,),(0.5,))\n",
    "              ]))\n",
    "\n",
    "torch.manual_seed(seed)\n",
    "\n",
    "use_cuda = not no_cuda and torch.cuda. is_available()\n",
    "device = torch.device('cuda' if use_cuda else 'cpu')\n",
    "\n",
    "kwargs = {'num_workers' :1, 'pin_memory' : True} if use_cuda else {}\n",
    "\n",
    "train_loader = torch.utils.data.DataLoader(\n",
    "    datasets.MNIST('../data', train=True, download=True,\n",
    "              transform=transforms.Compose([\n",
    "                  transforms.ToTensor(),\n",
    "                  transforms.Normalize((0.5,),(0.5,))\n",
    "              ])),\n",
    "    batch_size=batch_size, shuffle=True, **kwargs)\n",
    "\n",
    "test_loader = torch.utils.data.DataLoader(\n",
    "    datasets.MNIST('../data', train=False,\n",
    "              transform=transforms.Compose([\n",
    "                  transforms.ToTensor(),\n",
    "                  transforms.Normalize((0.5,),(0.5,))\n",
    "              ])),\n",
    "    batch_size=test_batch_size, shuffle=True, **kwargs)"
   ]
  },
  {
   "cell_type": "markdown",
   "metadata": {},
   "source": [
    "## 3. Optimization"
   ]
  },
  {
   "cell_type": "code",
   "execution_count": 32,
   "metadata": {},
   "outputs": [],
   "source": [
    "model = Net().to(device)\n",
    "optimizer = optim.Adam(model.parameters(), lr=lr)"
   ]
  },
  {
   "cell_type": "markdown",
   "metadata": {},
   "source": [
    "## 4. Training"
   ]
  },
  {
   "cell_type": "code",
   "execution_count": 33,
   "metadata": {},
   "outputs": [
    {
     "name": "stdout",
     "output_type": "stream",
     "text": [
      "Train Epoch : 1 [0/60000 (0%)]\tLoss : 2.301638\n",
      "Train Epoch : 1 [6400/60000 (11%)]\tLoss : 0.104958\n",
      "Train Epoch : 1 [12800/60000 (21%)]\tLoss : 0.100281\n",
      "Train Epoch : 1 [19200/60000 (32%)]\tLoss : 0.061159\n",
      "Train Epoch : 1 [25600/60000 (43%)]\tLoss : 0.056963\n",
      "Train Epoch : 1 [32000/60000 (53%)]\tLoss : 0.088150\n",
      "Train Epoch : 1 [38400/60000 (64%)]\tLoss : 0.075661\n",
      "Train Epoch : 1 [44800/60000 (75%)]\tLoss : 0.089009\n",
      "Train Epoch : 1 [51200/60000 (85%)]\tLoss : 0.027800\n",
      "Train Epoch : 1 [57600/60000 (96%)]\tLoss : 0.113186\n",
      "\n",
      "Test set : Average loss : 0.0376, Accuracy : 9874/10000 (99%)\n",
      "\n",
      "Train Epoch : 2 [0/60000 (0%)]\tLoss : 0.018750\n",
      "Train Epoch : 2 [6400/60000 (11%)]\tLoss : 0.088972\n",
      "Train Epoch : 2 [12800/60000 (21%)]\tLoss : 0.015538\n",
      "Train Epoch : 2 [19200/60000 (32%)]\tLoss : 0.015300\n",
      "Train Epoch : 2 [25600/60000 (43%)]\tLoss : 0.011674\n",
      "Train Epoch : 2 [32000/60000 (53%)]\tLoss : 0.005021\n",
      "Train Epoch : 2 [38400/60000 (64%)]\tLoss : 0.012510\n",
      "Train Epoch : 2 [44800/60000 (75%)]\tLoss : 0.012495\n",
      "Train Epoch : 2 [51200/60000 (85%)]\tLoss : 0.007336\n",
      "Train Epoch : 2 [57600/60000 (96%)]\tLoss : 0.008268\n",
      "\n",
      "Test set : Average loss : 0.0331, Accuracy : 9896/10000 (99%)\n",
      "\n",
      "Train Epoch : 3 [0/60000 (0%)]\tLoss : 0.034262\n",
      "Train Epoch : 3 [6400/60000 (11%)]\tLoss : 0.073547\n",
      "Train Epoch : 3 [12800/60000 (21%)]\tLoss : 0.009743\n",
      "Train Epoch : 3 [19200/60000 (32%)]\tLoss : 0.022353\n",
      "Train Epoch : 3 [25600/60000 (43%)]\tLoss : 0.002173\n",
      "Train Epoch : 3 [32000/60000 (53%)]\tLoss : 0.007109\n",
      "Train Epoch : 3 [38400/60000 (64%)]\tLoss : 0.003231\n",
      "Train Epoch : 3 [44800/60000 (75%)]\tLoss : 0.008435\n",
      "Train Epoch : 3 [51200/60000 (85%)]\tLoss : 0.020348\n",
      "Train Epoch : 3 [57600/60000 (96%)]\tLoss : 0.002609\n",
      "\n",
      "Test set : Average loss : 0.0313, Accuracy : 9893/10000 (99%)\n",
      "\n"
     ]
    }
   ],
   "source": [
    "for epoch in range(1,epochs+1):\n",
    "    \n",
    "    # Train mode\n",
    "    model.train()\n",
    "    \n",
    "    for batch_idx, (data,target) in enumerate(train_loader):\n",
    "        data, target = data.to(device), target.to(device)\n",
    "        optimizer.zero_grad() # backprop 계산 전, 0으로 기울기 계산\n",
    "        output = model(data)\n",
    "        loss = F.nll_loss(output, target)\n",
    "        loss.backward() # backprop한다\n",
    "        optimizer.step() # update한다\n",
    "        \n",
    "        if batch_idx % log_interval == 0:\n",
    "            print('Train Epoch : {} [{}/{} ({:.0f}%)]\\tLoss : {:.6f}'.format(\n",
    "                epoch, batch_idx*len(data), len(train_loader.dataset),\n",
    "                100*batch_idx / len(train_loader), loss.item()))\n",
    "            \n",
    "    # Test mode\n",
    "    model.eval()\n",
    "    test_loss = 0\n",
    "    correct = 0\n",
    "    with torch.no_grad(): # 속도 UP\n",
    "        for data, target in test_loader:\n",
    "            data, target = data.to(device), target.to(device)\n",
    "            output = model(data)\n",
    "            \n",
    "            test_loss += F.nll_loss(output, target, reduction='sum').item() # sum up batch_loss\n",
    "            pred = output.argmax(dim=1, keepdim=True)\n",
    "            correct += pred.eq(target.view_as(pred)).sum().item() # sum up correct numbers\n",
    "            \n",
    "    test_loss /= len(test_loader.dataset)\n",
    "    \n",
    "    print(\"\\nTest set : Average loss : {:.4f}, Accuracy : {}/{} ({:.0f}%)\\n\".format(\n",
    "        test_loss, correct, len(test_loader.dataset),\n",
    "        100*correct / len(test_loader.dataset)))"
   ]
  },
  {
   "cell_type": "code",
   "execution_count": null,
   "metadata": {},
   "outputs": [],
   "source": []
  }
 ],
 "metadata": {
  "kernelspec": {
   "display_name": "Python 3",
   "language": "python",
   "name": "python3"
  },
  "language_info": {
   "codemirror_mode": {
    "name": "ipython",
    "version": 3
   },
   "file_extension": ".py",
   "mimetype": "text/x-python",
   "name": "python",
   "nbconvert_exporter": "python",
   "pygments_lexer": "ipython3",
   "version": "3.6.9"
  }
 },
 "nbformat": 4,
 "nbformat_minor": 2
}
