{
 "cells": [
  {
   "cell_type": "markdown",
   "metadata": {},
   "source": [
    "# Dynamic Programming"
   ]
  },
  {
   "cell_type": "code",
   "execution_count": 1,
   "metadata": {},
   "outputs": [],
   "source": [
    "import numpy as np"
   ]
  },
  {
   "cell_type": "markdown",
   "metadata": {},
   "source": [
    "## 1. get_state"
   ]
  },
  {
   "cell_type": "code",
   "execution_count": 2,
   "metadata": {},
   "outputs": [],
   "source": [
    "def get_state(s,a,grid_size):\n",
    "    # 4 actions that agent can take\n",
    "    A = [(-1,0),(1,0),(0,-1),(0,1)]\n",
    "    s[0] += A[a][0]\n",
    "    s[1] += A[a][1]\n",
    "    \n",
    "    # can not get outside of the grid\n",
    "    if s[0]<0:\n",
    "        s[0]=0\n",
    "    elif s[0]>grid_size-1:\n",
    "        s[0]=grid_size-1\n",
    "    \n",
    "    if s[1]<0:\n",
    "        s[1]=0\n",
    "    elif s[1]>grid_size-1:\n",
    "        s[1]=grid_size-1\n",
    "    \n",
    "    return s[0],s[1]"
   ]
  },
  {
   "cell_type": "code",
   "execution_count": 3,
   "metadata": {},
   "outputs": [
    {
     "name": "stdout",
     "output_type": "stream",
     "text": [
      "0 1\n",
      "0 2\n",
      "0 3\n",
      "1 1\n",
      "1 2\n",
      "1 3\n",
      "2 1\n",
      "2 2\n",
      "2 3\n"
     ]
    }
   ],
   "source": [
    "action = [0,1,2,3]\n",
    "\n",
    "for i in range(3):\n",
    "    for j in range(3):\n",
    "        x,y = get_state(s=[i,j],a=3,grid_size=4)\n",
    "        print(x,y)"
   ]
  },
  {
   "cell_type": "markdown",
   "metadata": {},
   "source": [
    "## 2. Policy Evaluation\n",
    "- getting the \"state-value function\""
   ]
  },
  {
   "cell_type": "code",
   "execution_count": 4,
   "metadata": {},
   "outputs": [],
   "source": [
    "def policy_eval(grid_size,action,policy,iter_num,reward=-1,dis=0.9):\n",
    "    post_value_table = np.zeros([grid_size,grid_size])\n",
    "    \n",
    "    for i in range(iter_num):\n",
    "        episode_table = np.zeros([grid_size,grid_size])\n",
    "        \n",
    "        for m in range(grid_size):\n",
    "            for n in range(grid_size):\n",
    "                if (m==n==0) or (m==n==grid_size-1):\n",
    "                    value_t = 0\n",
    "                else :\n",
    "                    value_t = 0\n",
    "                    for a in action:\n",
    "                        m_, n_ = get_state([m,n],a,grid_size) # get s(t+1)\n",
    "                        value = policy[m][n][a]*(reward+dis*post_value_table[m_][n_]) \n",
    "                        value_t += value # get v(t+1)\n",
    "                episode_table[m][n] = round(value_t,2)\n",
    "        i += 1\n",
    "        \n",
    "        if i%20 ==0:\n",
    "            print('Iteration : {} \\n {} \\n'.format(i,episode_table))            \n",
    "        post_value_table = episode_table\n",
    "        \n",
    "    return episode_table                    "
   ]
  },
  {
   "cell_type": "code",
   "execution_count": 5,
   "metadata": {},
   "outputs": [],
   "source": [
    "grid_size = 4\n",
    "action = [0,1,2,3]\n",
    "policy = np.empty([grid_size,grid_size,len(action)])"
   ]
  },
  {
   "cell_type": "code",
   "execution_count": 10,
   "metadata": {},
   "outputs": [],
   "source": [
    "for i in range(grid_size):\n",
    "    for j in range(grid_size):\n",
    "        for k in range(len(action)):\n",
    "            if i==j and ((i==0) or (i==grid_size)):\n",
    "                policy[i][j]=0.00\n",
    "            else :\n",
    "                policy[i][j]=0.25"
   ]
  },
  {
   "cell_type": "markdown",
   "metadata": {},
   "source": [
    "policy (array) 해석 \n",
    "- policy 안에 있는 4개의 큰 array는 \"grid의 행 위치\"\n",
    "- 4개의 큰 array안에 있는 각각의 행은 \"grid의 열 위치\"\n",
    "- 4개의 큰 array안에 있는 각각의 열은 \"action의 종류(상,하,좌,우)를 할 확률\""
   ]
  },
  {
   "cell_type": "code",
   "execution_count": 11,
   "metadata": {},
   "outputs": [
    {
     "data": {
      "text/plain": [
       "array([[[0.  , 0.  , 0.  , 0.  ],\n",
       "        [0.25, 0.25, 0.25, 0.25],\n",
       "        [0.25, 0.25, 0.25, 0.25],\n",
       "        [0.25, 0.25, 0.25, 0.25]],\n",
       "\n",
       "       [[0.25, 0.25, 0.25, 0.25],\n",
       "        [0.25, 0.25, 0.25, 0.25],\n",
       "        [0.25, 0.25, 0.25, 0.25],\n",
       "        [0.25, 0.25, 0.25, 0.25]],\n",
       "\n",
       "       [[0.25, 0.25, 0.25, 0.25],\n",
       "        [0.25, 0.25, 0.25, 0.25],\n",
       "        [0.25, 0.25, 0.25, 0.25],\n",
       "        [0.25, 0.25, 0.25, 0.25]],\n",
       "\n",
       "       [[0.25, 0.25, 0.25, 0.25],\n",
       "        [0.25, 0.25, 0.25, 0.25],\n",
       "        [0.25, 0.25, 0.25, 0.25],\n",
       "        [0.25, 0.25, 0.25, 0.25]]])"
      ]
     },
     "execution_count": 11,
     "metadata": {},
     "output_type": "execute_result"
    }
   ],
   "source": [
    "policy"
   ]
  },
  {
   "cell_type": "code",
   "execution_count": 12,
   "metadata": {
    "scrolled": true
   },
   "outputs": [
    {
     "name": "stdout",
     "output_type": "stream",
     "text": [
      "Iteration : 20 \n",
      " [[ 0.   -5.08 -6.83 -7.32]\n",
      " [-5.08 -6.35 -6.89 -6.83]\n",
      " [-6.83 -6.89 -6.35 -5.08]\n",
      " [-7.32 -6.83 -5.08  0.  ]] \n",
      "\n",
      "Iteration : 40 \n",
      " [[ 0.   -5.27 -7.11 -7.63]\n",
      " [-5.27 -6.59 -7.16 -7.11]\n",
      " [-7.11 -7.16 -6.59 -5.27]\n",
      " [-7.63 -7.11 -5.27  0.  ]] \n",
      "\n",
      "Iteration : 60 \n",
      " [[ 0.   -5.27 -7.11 -7.63]\n",
      " [-5.27 -6.59 -7.16 -7.11]\n",
      " [-7.11 -7.16 -6.59 -5.27]\n",
      " [-7.63 -7.11 -5.27  0.  ]] \n",
      "\n",
      "Iteration : 80 \n",
      " [[ 0.   -5.27 -7.11 -7.63]\n",
      " [-5.27 -6.59 -7.16 -7.11]\n",
      " [-7.11 -7.16 -6.59 -5.27]\n",
      " [-7.63 -7.11 -5.27  0.  ]] \n",
      "\n",
      "Iteration : 100 \n",
      " [[ 0.   -5.27 -7.11 -7.63]\n",
      " [-5.27 -6.59 -7.16 -7.11]\n",
      " [-7.11 -7.16 -6.59 -5.27]\n",
      " [-7.63 -7.11 -5.27  0.  ]] \n",
      "\n",
      "Iteration : 120 \n",
      " [[ 0.   -5.27 -7.11 -7.63]\n",
      " [-5.27 -6.59 -7.16 -7.11]\n",
      " [-7.11 -7.16 -6.59 -5.27]\n",
      " [-7.63 -7.11 -5.27  0.  ]] \n",
      "\n",
      "Iteration : 140 \n",
      " [[ 0.   -5.27 -7.11 -7.63]\n",
      " [-5.27 -6.59 -7.16 -7.11]\n",
      " [-7.11 -7.16 -6.59 -5.27]\n",
      " [-7.63 -7.11 -5.27  0.  ]] \n",
      "\n",
      "Iteration : 160 \n",
      " [[ 0.   -5.27 -7.11 -7.63]\n",
      " [-5.27 -6.59 -7.16 -7.11]\n",
      " [-7.11 -7.16 -6.59 -5.27]\n",
      " [-7.63 -7.11 -5.27  0.  ]] \n",
      "\n",
      "Iteration : 180 \n",
      " [[ 0.   -5.27 -7.11 -7.63]\n",
      " [-5.27 -6.59 -7.16 -7.11]\n",
      " [-7.11 -7.16 -6.59 -5.27]\n",
      " [-7.63 -7.11 -5.27  0.  ]] \n",
      "\n",
      "Iteration : 200 \n",
      " [[ 0.   -5.27 -7.11 -7.63]\n",
      " [-5.27 -6.59 -7.16 -7.11]\n",
      " [-7.11 -7.16 -6.59 -5.27]\n",
      " [-7.63 -7.11 -5.27  0.  ]] \n",
      "\n"
     ]
    }
   ],
   "source": [
    "final_value = policy_eval(grid_size,action,policy,200)"
   ]
  },
  {
   "cell_type": "markdown",
   "metadata": {},
   "source": [
    "## 3. Policy Improvement\n",
    "- getting the \"optimal policy\""
   ]
  },
  {
   "cell_type": "code",
   "execution_count": 13,
   "metadata": {},
   "outputs": [],
   "source": [
    "def policy_imp(value,action,policy,grid_size,reward=-1):\n",
    "    act_class = ['UP','DOWN','LEFT','RIGHT']\n",
    "    act_table = []\n",
    "    \n",
    "    for m in range(grid_size):\n",
    "        for n in range(grid_size):\n",
    "            Q_list = []\n",
    "            \n",
    "            # outside the grid\n",
    "            if (m==n==0) or (m==n==grid_size-1):\n",
    "                act_table.append('DONE')\n",
    "            \n",
    "            else :\n",
    "                # find the best action\n",
    "                for a in range(len(action)):\n",
    "                    m_,n_ = get_state([m,n],a,grid_size)\n",
    "                    Q_list.append(value[m_][n_])\n",
    "                max_act = [action_index for action_index,val \n",
    "                           in enumerate(Q_list) if val==max(Q_list)]\n",
    "                \n",
    "                # update policy\n",
    "                policy[m][n] =np.zeros(len(action))\n",
    "                for k in max_act:\n",
    "                    policy[m][n][k] = (1/len(max_act))\n",
    "                \n",
    "                # get action\n",
    "                best_idx = np.argmax(policy[m][n])\n",
    "                act_table.append(act_class[best_idx])\n",
    "    act_table=np.asarray(act_table).reshape((grid_size,grid_size))\n",
    "    print('Optimal policy : ',policy)\n",
    "    print('Best Action to do at each state is ','\\n', act_table)\n",
    "    \n",
    "    return policy"
   ]
  },
  {
   "cell_type": "code",
   "execution_count": 14,
   "metadata": {
    "scrolled": false
   },
   "outputs": [
    {
     "name": "stdout",
     "output_type": "stream",
     "text": [
      "Optimal policy :  [[[0.   0.   0.   0.  ]\n",
      "  [0.   0.   1.   0.  ]\n",
      "  [0.   0.   1.   0.  ]\n",
      "  [0.   0.5  0.5  0.  ]]\n",
      "\n",
      " [[1.   0.   0.   0.  ]\n",
      "  [0.5  0.   0.5  0.  ]\n",
      "  [0.   0.5  0.5  0.  ]\n",
      "  [0.   1.   0.   0.  ]]\n",
      "\n",
      " [[1.   0.   0.   0.  ]\n",
      "  [0.5  0.   0.   0.5 ]\n",
      "  [0.   0.5  0.   0.5 ]\n",
      "  [0.   1.   0.   0.  ]]\n",
      "\n",
      " [[0.5  0.   0.   0.5 ]\n",
      "  [0.   0.   0.   1.  ]\n",
      "  [0.   0.   0.   1.  ]\n",
      "  [0.25 0.25 0.25 0.25]]]\n",
      "Best Action to do at each state is  \n",
      " [['DONE' 'LEFT' 'LEFT' 'DOWN']\n",
      " ['UP' 'UP' 'DOWN' 'DOWN']\n",
      " ['UP' 'UP' 'DOWN' 'DOWN']\n",
      " ['UP' 'RIGHT' 'RIGHT' 'DONE']]\n"
     ]
    }
   ],
   "source": [
    "new_policy = policy_imp(final_value,action,policy,4)"
   ]
  },
  {
   "cell_type": "markdown",
   "metadata": {},
   "source": [
    "참고 : https://sumniya.tistory.com/10?category=781573"
   ]
  },
  {
   "cell_type": "code",
   "execution_count": null,
   "metadata": {},
   "outputs": [],
   "source": []
  }
 ],
 "metadata": {
  "kernelspec": {
   "display_name": "Python 3",
   "language": "python",
   "name": "python3"
  },
  "language_info": {
   "codemirror_mode": {
    "name": "ipython",
    "version": 3
   },
   "file_extension": ".py",
   "mimetype": "text/x-python",
   "name": "python",
   "nbconvert_exporter": "python",
   "pygments_lexer": "ipython3",
   "version": "3.6.9"
  }
 },
 "nbformat": 4,
 "nbformat_minor": 2
}
