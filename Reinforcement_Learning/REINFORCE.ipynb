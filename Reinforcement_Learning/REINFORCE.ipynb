{
 "cells": [
  {
   "cell_type": "code",
   "execution_count": 2,
   "metadata": {},
   "outputs": [],
   "source": [
    "import gym\n",
    "import torch\n",
    "import torch.nn as nn\n",
    "import torch.nn.functional as F\n",
    "import torch.optim as optim\n",
    "from torch.distributions import Categorical"
   ]
  },
  {
   "cell_type": "code",
   "execution_count": 3,
   "metadata": {},
   "outputs": [],
   "source": [
    "lr = 0.0002\n",
    "gamma = 0.98"
   ]
  },
  {
   "cell_type": "code",
   "execution_count": 4,
   "metadata": {},
   "outputs": [],
   "source": [
    "def main():\n",
    "    env = gy.make('CartPole-v1')\n",
    "    pi = Policy()\n",
    "    score = 0\n",
    "    \n",
    "    for episode in range(2000): \n",
    "        state = env.reset()\n",
    "        for t in range(501):\n",
    "            prob = pi(torch.from_numpy(s).float())\n",
    "            a = Categorical(prob).sample()\n",
    "            state_, returns, done, info = env.step(a.item())\n",
    "            pi.put_data((r,prob[a]))\n",
    "            state = state_\n",
    "            score += returns\n",
    "            \n",
    "            if done:\n",
    "                break"
   ]
  },
  {
   "cell_type": "code",
   "execution_count": 6,
   "metadata": {},
   "outputs": [],
   "source": [
    "class Policy(nn.Module):\n",
    "    def __init__(self):\n",
    "        super(Policy, self).__init__()\n",
    "        self.data = []\n",
    "        self.fc1 = nn.Linear(4,128) # action의 가지 수 : 4가지\n",
    "        self.fc2 = nn.Linear(128,2)\n",
    "        self.opt = optim.Adam(self.parameters(), lr=lr)\n",
    "    \n",
    "    def forward(self,x):\n",
    "        x = F.relu(self.fc1(x))\n",
    "        x = F.softmax(self.fc2(x), dim=0) # 각 행동에 대한 probability 반환\n",
    "        return x\n",
    "    \n",
    "    def put_data(self,item):\n",
    "        self.data.append(item)\n",
    "    \n",
    "    def train(self):\n",
    "        total_return = 0\n",
    "        for returns,prob in self.data[::-1]:\n",
    "            total_return = returns + gamma*total_return\n",
    "            loss = -torch.log(prob)*returns # (-) 붙이는 거 잊지말기!\n",
    "            self.opt.zero_grad()\n",
    "            loss.backward()\n",
    "            self.opt.step()\n",
    "        self.data = []"
   ]
  },
  {
   "cell_type": "code",
   "execution_count": null,
   "metadata": {},
   "outputs": [],
   "source": []
  }
 ],
 "metadata": {
  "kernelspec": {
   "display_name": "Python 3",
   "language": "python",
   "name": "python3"
  },
  "language_info": {
   "codemirror_mode": {
    "name": "ipython",
    "version": 3
   },
   "file_extension": ".py",
   "mimetype": "text/x-python",
   "name": "python",
   "nbconvert_exporter": "python",
   "pygments_lexer": "ipython3",
   "version": "3.6.9"
  }
 },
 "nbformat": 4,
 "nbformat_minor": 2
}
