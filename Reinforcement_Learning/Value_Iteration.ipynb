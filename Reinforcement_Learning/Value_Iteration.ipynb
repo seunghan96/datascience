{
 "cells": [
  {
   "cell_type": "markdown",
   "metadata": {},
   "source": [
    "# Dynamic Programming"
   ]
  },
  {
   "cell_type": "code",
   "execution_count": 4,
   "metadata": {},
   "outputs": [],
   "source": [
    "import numpy as np"
   ]
  },
  {
   "cell_type": "markdown",
   "metadata": {},
   "source": [
    "## 1. get_state"
   ]
  },
  {
   "cell_type": "code",
   "execution_count": 5,
   "metadata": {},
   "outputs": [],
   "source": [
    "def get_state(s,a,grid_size):\n",
    "    # 4 actions that agent can take\n",
    "    A = [(-1,0),(1,0),(0,-1),(0,1)]\n",
    "    s[0] += A[a][0]\n",
    "    s[1] += A[a][1]\n",
    "    \n",
    "    # can not get outside of the grid\n",
    "    if s[0]<0:\n",
    "        s[0]=0\n",
    "    elif s[0]>grid_size-1:\n",
    "        s[0]=grid_size-1\n",
    "    \n",
    "    if s[1]<0:\n",
    "        s[1]=0\n",
    "    elif s[1]>grid_size-1:\n",
    "        s[1]=grid_size-1\n",
    "    \n",
    "    return s[0],s[1]"
   ]
  },
  {
   "cell_type": "code",
   "execution_count": 27,
   "metadata": {},
   "outputs": [
    {
     "name": "stdout",
     "output_type": "stream",
     "text": [
      "0 1\n",
      "0 2\n",
      "0 3\n",
      "1 1\n",
      "1 2\n",
      "1 3\n",
      "2 1\n",
      "2 2\n",
      "2 3\n"
     ]
    }
   ],
   "source": [
    "action = [0,1,2,3]\n",
    "\n",
    "for i in range(3):\n",
    "    for j in range(3):\n",
    "        x,y = get_state(s=[i,j],a=3,grid_size=4)\n",
    "        print(x,y)"
   ]
  },
  {
   "cell_type": "markdown",
   "metadata": {},
   "source": [
    "## 2. Policy Evaluation\n",
    "- getting the \"state-value function\""
   ]
  },
  {
   "cell_type": "code",
   "execution_count": 41,
   "metadata": {},
   "outputs": [],
   "source": [
    "def policy_eval(grid_size,action,policy,iter_num,reward=-1,dis=0.9):\n",
    "    post_value_table = np.zeros([grid_size,grid_size])\n",
    "    \n",
    "    for i in range(iter_num):\n",
    "        val_table = np.zeros([grid_size,grid_size])\n",
    "        \n",
    "        for m in range(grid_size):\n",
    "            for n in range(grid_size):\n",
    "                if (m==n==0) or (m==n==grid_size-1):\n",
    "                    value_t = 0\n",
    "                else :\n",
    "                    value_t_list = []\n",
    "                    for a in action:\n",
    "                        m_, n_ = get_state([m,n],a,grid_size) # get s(t+1)\n",
    "                        v = reward+dis*post_value_table[m_][n_] # no probability!\n",
    "                        value_t_list.append(v)\n",
    "                    val_table[m][n] = max(value_t_list) # just choose the MAX\n",
    "        i += 1\n",
    "        \n",
    "        if i%1 ==0:\n",
    "            print('Iteration : {} \\n {} \\n'.format(i,val_table))            \n",
    "        post_value_table = val_table\n",
    "        \n",
    "    return val_table"
   ]
  },
  {
   "cell_type": "code",
   "execution_count": 42,
   "metadata": {},
   "outputs": [],
   "source": [
    "grid_size = 4\n",
    "action = [0,1,2,3]\n",
    "policy = np.empty([grid_size,grid_size,len(action)])"
   ]
  },
  {
   "cell_type": "code",
   "execution_count": 43,
   "metadata": {},
   "outputs": [],
   "source": [
    "for i in range(grid_size):\n",
    "    for j in range(grid_size):\n",
    "        for k in range(len(action)):\n",
    "            if i==j and ((i==0) or (i==grid_size)):\n",
    "                policy[i][j]=0.00\n",
    "            else :\n",
    "                policy[i][j]=0.25"
   ]
  },
  {
   "cell_type": "code",
   "execution_count": 45,
   "metadata": {},
   "outputs": [
    {
     "name": "stdout",
     "output_type": "stream",
     "text": [
      "Iteration : 1 \n",
      " [[ 0. -1. -1. -1.]\n",
      " [-1. -1. -1. -1.]\n",
      " [-1. -1. -1. -1.]\n",
      " [-1. -1. -1.  0.]] \n",
      "\n",
      "Iteration : 2 \n",
      " [[ 0.  -1.  -1.9 -1.9]\n",
      " [-1.  -1.9 -1.9 -1.9]\n",
      " [-1.9 -1.9 -1.9 -1. ]\n",
      " [-1.9 -1.9 -1.   0. ]] \n",
      "\n",
      "Iteration : 3 \n",
      " [[ 0.   -1.   -1.9  -2.71]\n",
      " [-1.   -1.9  -2.71 -1.9 ]\n",
      " [-1.9  -2.71 -1.9  -1.  ]\n",
      " [-2.71 -1.9  -1.    0.  ]] \n",
      "\n",
      "Iteration : 4 \n",
      " [[ 0.   -1.   -1.9  -2.71]\n",
      " [-1.   -1.9  -2.71 -1.9 ]\n",
      " [-1.9  -2.71 -1.9  -1.  ]\n",
      " [-2.71 -1.9  -1.    0.  ]] \n",
      "\n",
      "Iteration : 5 \n",
      " [[ 0.   -1.   -1.9  -2.71]\n",
      " [-1.   -1.9  -2.71 -1.9 ]\n",
      " [-1.9  -2.71 -1.9  -1.  ]\n",
      " [-2.71 -1.9  -1.    0.  ]] \n",
      "\n",
      "Iteration : 6 \n",
      " [[ 0.   -1.   -1.9  -2.71]\n",
      " [-1.   -1.9  -2.71 -1.9 ]\n",
      " [-1.9  -2.71 -1.9  -1.  ]\n",
      " [-2.71 -1.9  -1.    0.  ]] \n",
      "\n"
     ]
    }
   ],
   "source": [
    "final_value = policy_eval(grid_size,action,policy,6)"
   ]
  },
  {
   "cell_type": "code",
   "execution_count": 46,
   "metadata": {},
   "outputs": [
    {
     "data": {
      "text/plain": [
       "array([[ 0.  , -1.  , -1.9 , -2.71],\n",
       "       [-1.  , -1.9 , -2.71, -1.9 ],\n",
       "       [-1.9 , -2.71, -1.9 , -1.  ],\n",
       "       [-2.71, -1.9 , -1.  ,  0.  ]])"
      ]
     },
     "execution_count": 46,
     "metadata": {},
     "output_type": "execute_result"
    }
   ],
   "source": [
    "final_value"
   ]
  },
  {
   "cell_type": "markdown",
   "metadata": {},
   "source": [
    "참고 : https://sumniya.tistory.com/10?category=781573"
   ]
  }
 ],
 "metadata": {
  "kernelspec": {
   "display_name": "Python 3",
   "language": "python",
   "name": "python3"
  },
  "language_info": {
   "codemirror_mode": {
    "name": "ipython",
    "version": 3
   },
   "file_extension": ".py",
   "mimetype": "text/x-python",
   "name": "python",
   "nbconvert_exporter": "python",
   "pygments_lexer": "ipython3",
   "version": "3.6.9"
  }
 },
 "nbformat": 4,
 "nbformat_minor": 2
}
